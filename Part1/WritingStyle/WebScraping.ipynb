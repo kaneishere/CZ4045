{
 "cells": [
  {
   "cell_type": "code",
   "execution_count": 6,
   "id": "b7b59e58",
   "metadata": {},
   "outputs": [
    {
     "name": "stdout",
     "output_type": "stream",
     "text": [
      "Requirement already satisfied: beautifulsoup4 in /home/kane_wu/anaconda3/envs/nlp/lib/python3.9/site-packages (4.10.0)\n",
      "Requirement already satisfied: requests in /home/kane_wu/anaconda3/envs/nlp/lib/python3.9/site-packages (2.26.0)\n",
      "Requirement already satisfied: pandas in /home/kane_wu/anaconda3/envs/nlp/lib/python3.9/site-packages (1.3.3)\n",
      "Requirement already satisfied: soupsieve>1.2 in /home/kane_wu/anaconda3/envs/nlp/lib/python3.9/site-packages (from beautifulsoup4) (2.2.1)\n",
      "Requirement already satisfied: idna<4,>=2.5 in /home/kane_wu/anaconda3/envs/nlp/lib/python3.9/site-packages (from requests) (3.2)\n",
      "Requirement already satisfied: urllib3<1.27,>=1.21.1 in /home/kane_wu/anaconda3/envs/nlp/lib/python3.9/site-packages (from requests) (1.26.7)\n",
      "Requirement already satisfied: charset-normalizer~=2.0.0 in /home/kane_wu/anaconda3/envs/nlp/lib/python3.9/site-packages (from requests) (2.0.6)\n",
      "Requirement already satisfied: certifi>=2017.4.17 in /home/kane_wu/anaconda3/envs/nlp/lib/python3.9/site-packages (from requests) (2021.5.30)\n",
      "Requirement already satisfied: numpy>=1.17.3 in /home/kane_wu/anaconda3/envs/nlp/lib/python3.9/site-packages (from pandas) (1.21.2)\n",
      "Requirement already satisfied: pytz>=2017.3 in /home/kane_wu/anaconda3/envs/nlp/lib/python3.9/site-packages (from pandas) (2021.1)\n",
      "Requirement already satisfied: python-dateutil>=2.7.3 in /home/kane_wu/anaconda3/envs/nlp/lib/python3.9/site-packages (from pandas) (2.8.2)\n",
      "Requirement already satisfied: six>=1.5 in /home/kane_wu/anaconda3/envs/nlp/lib/python3.9/site-packages (from python-dateutil>=2.7.3->pandas) (1.16.0)\n"
     ]
    }
   ],
   "source": [
    "!pip install beautifulsoup4 requests pandas"
   ]
  },
  {
   "cell_type": "code",
   "execution_count": 7,
   "id": "725c6bed",
   "metadata": {},
   "outputs": [],
   "source": [
    "import urllib\n",
    "import requests\n",
    "from bs4 import BeautifulSoup\n",
    "from pathlib import Path\n",
    "import pickle"
   ]
  },
  {
   "cell_type": "code",
   "execution_count": 8,
   "id": "7e77aa97",
   "metadata": {},
   "outputs": [],
   "source": [
    "def get_cna_articles():\n",
    "    CNA_URL = \"https://www.channelnewsasia.com/\"\n",
    "    # get cna main page\n",
    "\n",
    "    page = requests.get(CNA_URL)\n",
    "    soup = BeautifulSoup(page.text, \"html.parser\")\n",
    "    # get links to different news articles (the class is for this url, will differ across websites)\n",
    "    links = soup.find_all('a', attrs={'class': 'h6__link h6__link-- list-object__heading-link'})\n",
    "    articles = []\n",
    "    for link in links:\n",
    "        article_page = requests.get(f\"{CNA_URL}{link['href']}\")\n",
    "        article = BeautifulSoup(article_page.text, \"html.parser\")\n",
    "        article_text = article.find_all('div', attrs={'class': 'text-long'})\n",
    "        articles.append((' '.join([[' '.join([child.text for child in div.findChildren('p')])][0] for div in article_text]),\n",
    "                                     f\"{CNA_URL}{link['href']}\"))\n",
    "    \n",
    "    return articles"
   ]
  },
  {
   "cell_type": "code",
   "execution_count": 9,
   "id": "5f0dacb5",
   "metadata": {},
   "outputs": [],
   "source": [
    "# run this block to get saved data/scrape data\n",
    "CNA_ARTICLES_ADDRESS = Path(\"cna_articles.pickle\")\n",
    "if CNA_ARTICLES_ADDRESS.is_file():\n",
    "    with open(CNA_ARTICLES_ADDRESS, \"rb\") as f:\n",
    "        cna_articles = pickle.load(f)\n",
    "\n",
    "else:\n",
    "    cna_articles = get_cna_articles()\n",
    "    CNA_ARTICLES_ADDRESS.touch(exist_ok=True)\n",
    "    with open(CNA_ARTICLES_ADDRESS, \"wb\") as f:\n",
    "        pickle.dump(cna_articles, f)"
   ]
  },
  {
   "cell_type": "code",
   "execution_count": 10,
   "id": "1383fbfa",
   "metadata": {},
   "outputs": [
    {
     "data": {
      "text/plain": [
       "True"
      ]
     },
     "execution_count": 10,
     "metadata": {},
     "output_type": "execute_result"
    }
   ],
   "source": [
    "CNA_ARTICLES_ADDRESS.is_file()"
   ]
  },
  {
   "cell_type": "code",
   "execution_count": 11,
   "id": "bd2a07d0",
   "metadata": {},
   "outputs": [],
   "source": [
    "# scrape stackoverflow\n",
    "from IPython.core.display import display, HTML\n",
    "def get_stack_overflow_articles():\n",
    "    STACK_OVERFLOW_URL = \"https://stackoverflow.com/\"\n",
    "    page = requests.get(f\"{STACK_OVERFLOW_URL}questions?tab=Frequent\")\n",
    "    soup = BeautifulSoup(page.text, \"html.parser\")\n",
    "    # get links to different news articles (the class is for this url, will differ across websites)\n",
    "    links = soup.find_all(\"a\", \"question-hyperlink\")\n",
    "    posts = []\n",
    "    for idx, link in enumerate(links,1):\n",
    "        article_site = requests.get(f\"{STACK_OVERFLOW_URL}{link['href']}\")\n",
    "        article_page = BeautifulSoup(article_site.text, \"html.parser\")\n",
    "        parent = article_page.find(\"div\", \"s-prose js-post-body\")\n",
    "        p_tags = parent.findChildren(\"p\")\n",
    "        post = []\n",
    "        for p_tag in p_tags:\n",
    "            post.append(p_tag.text)\n",
    "            display(HTML(str(p_tag)))\n",
    "        posts.append((\" \".join(post), f\"{STACK_OVERFLOW_URL}{link['href']}\"))\n",
    "        if idx == 50: break\n",
    "    return posts"
   ]
  },
  {
   "cell_type": "code",
   "execution_count": 12,
   "id": "e0d026a8",
   "metadata": {},
   "outputs": [
    {
     "data": {
      "text/html": [
       "<p>When discussing performance with colleagues, teaching, sending a bug report or searching for guidance on mailing lists and here on Stack Overflow, a <a href=\"https://stackoverflow.com/help/mcve\">reproducible example</a> is often asked and always helpful.</p>"
      ],
      "text/plain": [
       "<IPython.core.display.HTML object>"
      ]
     },
     "metadata": {},
     "output_type": "display_data"
    },
    {
     "data": {
      "text/html": [
       "<p>What are your tips for creating an excellent example? How do you paste data structures from <a class=\"post-tag\" href=\"/questions/tagged/r\" rel=\"tag\" title=\"show questions tagged 'r'\">r</a> in a text format? What other information should you include?</p>"
      ],
      "text/plain": [
       "<IPython.core.display.HTML object>"
      ]
     },
     "metadata": {},
     "output_type": "display_data"
    },
    {
     "data": {
      "text/html": [
       "<p>Are there other tricks in addition to using <code>dput()</code>, <code>dump()</code> or <code>structure()</code>?  When should you include <code>library()</code> or <code>require()</code> statements?  Which reserved words should one avoid, in addition to <code>c</code>, <code>df</code>, <code>data</code>, etc.?</p>"
      ],
      "text/plain": [
       "<IPython.core.display.HTML object>"
      ]
     },
     "metadata": {},
     "output_type": "display_data"
    },
    {
     "data": {
      "text/html": [
       "<p>How does one make a great <a class=\"post-tag\" href=\"/questions/tagged/r\" rel=\"tag\" title=\"show questions tagged 'r'\">r</a> reproducible example?</p>"
      ],
      "text/plain": [
       "<IPython.core.display.HTML object>"
      ]
     },
     "metadata": {},
     "output_type": "display_data"
    },
    {
     "data": {
      "text/html": [
       "<p>What are Null Pointer Exceptions (<code>java.lang.NullPointerException</code>) and what causes them?</p>"
      ],
      "text/plain": [
       "<IPython.core.display.HTML object>"
      ]
     },
     "metadata": {},
     "output_type": "display_data"
    },
    {
     "data": {
      "text/html": [
       "<p>What methods/tools can be used to determine the cause so that you stop the exception from causing the program to terminate prematurely?</p>"
      ],
      "text/plain": [
       "<IPython.core.display.HTML object>"
      ]
     },
     "metadata": {},
     "output_type": "display_data"
    },
    {
     "data": {
      "text/html": [
       "<p>I have a function <code>foo</code> which makes an asynchronous request. How can I return the response/result from <code>foo</code>?</p>"
      ],
      "text/plain": [
       "<IPython.core.display.HTML object>"
      ]
     },
     "metadata": {},
     "output_type": "display_data"
    },
    {
     "data": {
      "text/html": [
       "<p>I am trying to return the value from the callback, as well as assigning the result to a local variable inside the function and returning that one, but none of those ways actually return the response (they all return <code>undefined</code> or whatever the initial value of the variable <code>result</code> is).</p>"
      ],
      "text/plain": [
       "<IPython.core.display.HTML object>"
      ]
     },
     "metadata": {},
     "output_type": "display_data"
    },
    {
     "data": {
      "text/html": [
       "<p><strong>Example using jQuery's <code>ajax</code> function:</strong></p>"
      ],
      "text/plain": [
       "<IPython.core.display.HTML object>"
      ]
     },
     "metadata": {},
     "output_type": "display_data"
    },
    {
     "data": {
      "text/html": [
       "<p><strong>Example using Node.js:</strong></p>"
      ],
      "text/plain": [
       "<IPython.core.display.HTML object>"
      ]
     },
     "metadata": {},
     "output_type": "display_data"
    },
    {
     "data": {
      "text/html": [
       "<p><strong>Example using the <code>then</code> block of a promise:</strong></p>"
      ],
      "text/plain": [
       "<IPython.core.display.HTML object>"
      ]
     },
     "metadata": {},
     "output_type": "display_data"
    },
    {
     "data": {
      "text/html": [
       "<p>If user input is inserted without modification into an SQL query, then the application becomes vulnerable to <a href=\"https://stackoverflow.com/a/332367/\">SQL injection</a>, like in the following example:</p>"
      ],
      "text/plain": [
       "<IPython.core.display.HTML object>"
      ]
     },
     "metadata": {},
     "output_type": "display_data"
    },
    {
     "data": {
      "text/html": [
       "<p>That's because the user can input something like <code>value'); DROP TABLE table;--</code>, and the query becomes:</p>"
      ],
      "text/plain": [
       "<IPython.core.display.HTML object>"
      ]
     },
     "metadata": {},
     "output_type": "display_data"
    },
    {
     "data": {
      "text/html": [
       "<p>What can be done to prevent this from happening?</p>"
      ],
      "text/plain": [
       "<IPython.core.display.HTML object>"
      ]
     },
     "metadata": {},
     "output_type": "display_data"
    },
    {
     "data": {
      "text/html": [
       "<p>I need to match all of these opening tags:</p>"
      ],
      "text/plain": [
       "<IPython.core.display.HTML object>"
      ]
     },
     "metadata": {},
     "output_type": "display_data"
    },
    {
     "data": {
      "text/html": [
       "<p>But not these:</p>"
      ],
      "text/plain": [
       "<IPython.core.display.HTML object>"
      ]
     },
     "metadata": {},
     "output_type": "display_data"
    },
    {
     "data": {
      "text/html": [
       "<p>I came up with this and wanted to make sure I've got it right. I am only capturing the <code>a-z</code>.</p>"
      ],
      "text/plain": [
       "<IPython.core.display.HTML object>"
      ]
     },
     "metadata": {},
     "output_type": "display_data"
    },
    {
     "data": {
      "text/html": [
       "<p>I believe it says:</p>"
      ],
      "text/plain": [
       "<IPython.core.display.HTML object>"
      ]
     },
     "metadata": {},
     "output_type": "display_data"
    },
    {
     "data": {
      "text/html": [
       "<p>Do I have that right? And more importantly, what do you think?</p>"
      ],
      "text/plain": [
       "<IPython.core.display.HTML object>"
      ]
     },
     "metadata": {},
     "output_type": "display_data"
    },
    {
     "data": {
      "text/html": [
       "<p>I have some code and when it executes, it throws a <code>NullReferenceException</code>, saying:</p>"
      ],
      "text/plain": [
       "<IPython.core.display.HTML object>"
      ]
     },
     "metadata": {},
     "output_type": "display_data"
    },
    {
     "data": {
      "text/html": [
       "<p>Object reference not set to an instance of an object.</p>"
      ],
      "text/plain": [
       "<IPython.core.display.HTML object>"
      ]
     },
     "metadata": {},
     "output_type": "display_data"
    },
    {
     "data": {
      "text/html": [
       "<p>What does this mean, and what can I do to fix this error?</p>"
      ],
      "text/plain": [
       "<IPython.core.display.HTML object>"
      ]
     },
     "metadata": {},
     "output_type": "display_data"
    },
    {
     "data": {
      "text/html": [
       "<p>Consider the following code:\n",
       "</p>"
      ],
      "text/plain": [
       "<IPython.core.display.HTML object>"
      ]
     },
     "metadata": {},
     "output_type": "display_data"
    },
    {
     "data": {
      "text/html": [
       "<p>Why do these inaccuracies happen?</p>"
      ],
      "text/plain": [
       "<IPython.core.display.HTML object>"
      ]
     },
     "metadata": {},
     "output_type": "display_data"
    },
    {
     "data": {
      "text/html": [
       "<p>I've been using the <code>==</code> operator in my program to compare all my strings so far.\n",
       "However, I ran into a bug, changed one of them into <code>.equals()</code> instead, and it fixed the bug.</p>"
      ],
      "text/plain": [
       "<IPython.core.display.HTML object>"
      ]
     },
     "metadata": {},
     "output_type": "display_data"
    },
    {
     "data": {
      "text/html": [
       "<p>Is <code>==</code> bad? When should it and should it not be used? What's the difference?</p>"
      ],
      "text/plain": [
       "<IPython.core.display.HTML object>"
      ]
     },
     "metadata": {},
     "output_type": "display_data"
    },
    {
     "data": {
      "text/html": [
       "<p>This question attempts to collect the few pearls among the dozens of bad C++ books that are published every year.</p>"
      ],
      "text/plain": [
       "<IPython.core.display.HTML object>"
      ]
     },
     "metadata": {},
     "output_type": "display_data"
    },
    {
     "data": {
      "text/html": [
       "<p>Unlike many other programming languages, which are often picked up on the go from tutorials found on the Internet, few are able to quickly pick up C++ without studying a well-written C++ book. It is way too big and complex for doing this. In fact, it is so big and complex, that <em><strong>there are very many very bad C++ books</strong></em> out there. And we are not talking about bad style, but things like sporting <em>glaringly obvious factual errors</em> and <em>promoting abysmally bad programming styles</em>.</p>"
      ],
      "text/plain": [
       "<IPython.core.display.HTML object>"
      ]
     },
     "metadata": {},
     "output_type": "display_data"
    },
    {
     "data": {
      "text/html": [
       "<p>Please edit the accepted answer to provide <strong>quality books</strong> and an approximate skill level — <em>preferably</em> <strong>after</strong> <em>discussing your addition in <a href=\"https://chat.stackoverflow.com/rooms/10/loungec\">the C++ chat room</a></em>. (The regulars might mercilessly undo your work if they disagree with a recommendation.) Add a short blurb/description about each book that you have personally read/benefited from. Feel free to debate quality, headings, etc. Books that meet the criteria will be added to the list.  Books that have reviews by the Association of C and C++ Users (ACCU) have links to the review.</p>"
      ],
      "text/plain": [
       "<IPython.core.display.HTML object>"
      ]
     },
     "metadata": {},
     "output_type": "display_data"
    },
    {
     "data": {
      "text/html": [
       "<p><sub>*Note: FAQs and other resources can be found in the <a href=\"https://stackoverflow.com/tags/c%2b%2b/info\">C++ tag info</a> and under <a class=\"post-tag\" href=\"/questions/tagged/c%2b%2b-faq\" rel=\"tag\" title=\"show questions tagged 'c++-faq'\">c++-faq</a>. </sub></p>"
      ],
      "text/plain": [
       "<IPython.core.display.HTML object>"
      ]
     },
     "metadata": {},
     "output_type": "display_data"
    },
    {
     "data": {
      "text/html": [
       "<p>I'm running a PHP script and continue to receive errors like:</p>"
      ],
      "text/plain": [
       "<IPython.core.display.HTML object>"
      ]
     },
     "metadata": {},
     "output_type": "display_data"
    },
    {
     "data": {
      "text/html": [
       "<p>Notice: Undefined variable: my_variable_name in C:\\wamp\\www\\mypath\\index.php on line 10</p>"
      ],
      "text/plain": [
       "<IPython.core.display.HTML object>"
      ]
     },
     "metadata": {},
     "output_type": "display_data"
    },
    {
     "data": {
      "text/html": [
       "<p>Notice: Undefined index: my_index C:\\wamp\\www\\mypath\\index.php on line 11</p>"
      ],
      "text/plain": [
       "<IPython.core.display.HTML object>"
      ]
     },
     "metadata": {},
     "output_type": "display_data"
    },
    {
     "data": {
      "text/html": [
       "<p>Line 10 and 11 looks like this:</p>"
      ],
      "text/plain": [
       "<IPython.core.display.HTML object>"
      ]
     },
     "metadata": {},
     "output_type": "display_data"
    },
    {
     "data": {
      "text/html": [
       "<p>What is the meaning of these error messages?</p>"
      ],
      "text/plain": [
       "<IPython.core.display.HTML object>"
      ]
     },
     "metadata": {},
     "output_type": "display_data"
    },
    {
     "data": {
      "text/html": [
       "<p>Why do they appear all of a sudden? I used to use this script for years and I've never had any problem.</p>"
      ],
      "text/plain": [
       "<IPython.core.display.HTML object>"
      ]
     },
     "metadata": {},
     "output_type": "display_data"
    },
    {
     "data": {
      "text/html": [
       "<p>How do I fix them?</p>"
      ],
      "text/plain": [
       "<IPython.core.display.HTML object>"
      ]
     },
     "metadata": {},
     "output_type": "display_data"
    },
    {
     "data": {
      "text/html": [
       "<p><sub><strong>This is a General Reference question</strong> for people to link to as duplicate, instead of having to explain the issue over and over again. I feel this is necessary because most real-world answers on this issue are very specific. </sub></p>"
      ],
      "text/plain": [
       "<IPython.core.display.HTML object>"
      ]
     },
     "metadata": {},
     "output_type": "display_data"
    },
    {
     "data": {
      "text/html": [
       "<p><sub>Related Meta discussion:</sub></p>"
      ],
      "text/plain": [
       "<IPython.core.display.HTML object>"
      ]
     },
     "metadata": {},
     "output_type": "display_data"
    },
    {
     "data": {
      "text/html": [
       "<p>What are undefined reference/unresolved external symbol errors? What are common causes and how to fix/prevent them?</p>"
      ],
      "text/plain": [
       "<IPython.core.display.HTML object>"
      ]
     },
     "metadata": {},
     "output_type": "display_data"
    },
    {
     "data": {
      "text/html": [
       "<p>What are the technical reasons for why one shouldn't use <code>mysql_*</code> functions? (e.g. <code>mysql_query()</code>, <code>mysql_connect()</code> or <code>mysql_real_escape_string()</code>)?</p>"
      ],
      "text/plain": [
       "<IPython.core.display.HTML object>"
      ]
     },
     "metadata": {},
     "output_type": "display_data"
    },
    {
     "data": {
      "text/html": [
       "<p>Why should I use something else even if they work on my site?</p>"
      ],
      "text/plain": [
       "<IPython.core.display.HTML object>"
      ]
     },
     "metadata": {},
     "output_type": "display_data"
    },
    {
     "data": {
      "text/html": [
       "<p>If they don't work on my site, why do I get errors like </p>"
      ],
      "text/plain": [
       "<IPython.core.display.HTML object>"
      ]
     },
     "metadata": {},
     "output_type": "display_data"
    },
    {
     "data": {
      "text/html": [
       "<p>Warning: mysql_connect(): No such file or directory</p>"
      ],
      "text/plain": [
       "<IPython.core.display.HTML object>"
      ]
     },
     "metadata": {},
     "output_type": "display_data"
    },
    {
     "data": {
      "text/html": [
       "<p>Everyone runs into syntax errors. Even experienced programmers make typos. For newcomers, it's just part of the learning process. However, it's often easy to interpret error messages such as:</p>"
      ],
      "text/plain": [
       "<IPython.core.display.HTML object>"
      ]
     },
     "metadata": {},
     "output_type": "display_data"
    },
    {
     "data": {
      "text/html": [
       "<p>PHP Parse error: syntax error, unexpected '{' in index.php on line 20</p>"
      ],
      "text/plain": [
       "<IPython.core.display.HTML object>"
      ]
     },
     "metadata": {},
     "output_type": "display_data"
    },
    {
     "data": {
      "text/html": [
       "<p>The unexpected symbol isn't always the real culprit. But the line number gives a rough idea of where to start looking.</p>"
      ],
      "text/plain": [
       "<IPython.core.display.HTML object>"
      ]
     },
     "metadata": {},
     "output_type": "display_data"
    },
    {
     "data": {
      "text/html": [
       "<p>Always look at the <strong>code context</strong>. The syntax mistake often hides in the mentioned <em>or</em> in <strong>previous code lines</strong>. Compare your code against syntax examples from the manual.</p>"
      ],
      "text/plain": [
       "<IPython.core.display.HTML object>"
      ]
     },
     "metadata": {},
     "output_type": "display_data"
    },
    {
     "data": {
      "text/html": [
       "<p>While not every case matches the other. Yet there are some <a href=\"https://stackoverflow.com/a/18050072\">general steps to <strong>solve syntax mistakes</strong></a>.\n",
       "This references summarized the common pitfalls:</p>"
      ],
      "text/plain": [
       "<IPython.core.display.HTML object>"
      ]
     },
     "metadata": {},
     "output_type": "display_data"
    },
    {
     "data": {
      "text/html": [
       "<p><a href=\"https://stackoverflow.com/a/18092277\">Unexpected T_STRING</a></p>"
      ],
      "text/plain": [
       "<IPython.core.display.HTML object>"
      ]
     },
     "metadata": {},
     "output_type": "display_data"
    },
    {
     "data": {
      "text/html": [
       "<p><a href=\"https://stackoverflow.com/a/18092267\">Unexpected T_VARIABLE <br/> Unexpected '$varname' (T_VARIABLE)</a></p>"
      ],
      "text/plain": [
       "<IPython.core.display.HTML object>"
      ]
     },
     "metadata": {},
     "output_type": "display_data"
    },
    {
     "data": {
      "text/html": [
       "<p><a href=\"https://stackoverflow.com/a/18092288\">Unexpected T_CONSTANT_ENCAPSED_STRING <br/> Unexpected T_ENCAPSED_AND_WHITESPACE</a></p>"
      ],
      "text/plain": [
       "<IPython.core.display.HTML object>"
      ]
     },
     "metadata": {},
     "output_type": "display_data"
    },
    {
     "data": {
      "text/html": [
       "<p><a href=\"https://stackoverflow.com/questions/18050071/php-parse-syntax-errors-and-how-to-solve-them#29500670\">Unexpected $end</a></p>"
      ],
      "text/plain": [
       "<IPython.core.display.HTML object>"
      ]
     },
     "metadata": {},
     "output_type": "display_data"
    },
    {
     "data": {
      "text/html": [
       "<p><a href=\"https://stackoverflow.com/questions/3723748/php-version-5-2-14-parse-error-syntax-error-unexpected-t-function-expecting\">Unexpected T_FUNCTION</a>…</p>"
      ],
      "text/plain": [
       "<IPython.core.display.HTML object>"
      ]
     },
     "metadata": {},
     "output_type": "display_data"
    },
    {
     "data": {
      "text/html": [
       "<p><a href=\"https://stackoverflow.com/a/18092308\">Unexpected <code>{</code><br/>Unexpected <code>}</code><br/>Unexpected <code>(</code><br/>Unexpected <code>)</code></a></p>"
      ],
      "text/plain": [
       "<IPython.core.display.HTML object>"
      ]
     },
     "metadata": {},
     "output_type": "display_data"
    },
    {
     "data": {
      "text/html": [
       "<p><a href=\"https://stackoverflow.com/a/29505827\">Unexpected <code>[</code><br/>Unexpected <code>]</code></a></p>"
      ],
      "text/plain": [
       "<IPython.core.display.HTML object>"
      ]
     },
     "metadata": {},
     "output_type": "display_data"
    },
    {
     "data": {
      "text/html": [
       "<p><a href=\"https://stackoverflow.com/a/18092318\">Unexpected T_IF <br/> Unexpected T_FOREACH <br/> Unexpected T_FOR <br/> Unexpected T_WHILE <br/> Unexpected T_DO <br/> Unexpected T_PRINT <br/> Unexpected T_ECHO</a></p>"
      ],
      "text/plain": [
       "<IPython.core.display.HTML object>"
      ]
     },
     "metadata": {},
     "output_type": "display_data"
    },
    {
     "data": {
      "text/html": [
       "<p><a href=\"//stackoverflow.com/a/47202089\">Unexpected T_LNUMBER</a></p>"
      ],
      "text/plain": [
       "<IPython.core.display.HTML object>"
      ]
     },
     "metadata": {},
     "output_type": "display_data"
    },
    {
     "data": {
      "text/html": [
       "<p><a href=\"//stackoverflow.com/a/48670368\">Unexpected ?</a></p>"
      ],
      "text/plain": [
       "<IPython.core.display.HTML object>"
      ]
     },
     "metadata": {},
     "output_type": "display_data"
    },
    {
     "data": {
      "text/html": [
       "<p><a href=\"//stackoverflow.com/a/51786865\">Unexpected continue (T_CONTINUE)<br/>Unexpected continue (T_BREAK)<br/>Unexpected continue (T_RETURN)</a></p>"
      ],
      "text/plain": [
       "<IPython.core.display.HTML object>"
      ]
     },
     "metadata": {},
     "output_type": "display_data"
    },
    {
     "data": {
      "text/html": [
       "<p><a href=\"//stackoverflow.com/a/53037930\">Unexpected '='</a></p>"
      ],
      "text/plain": [
       "<IPython.core.display.HTML object>"
      ]
     },
     "metadata": {},
     "output_type": "display_data"
    },
    {
     "data": {
      "text/html": [
       "<p><a href=\"https://stackoverflow.com/questions/4934754/t-inline-html-whats-wrong-with-this\">Unexpected T_INLINE_HTML</a>…</p>"
      ],
      "text/plain": [
       "<IPython.core.display.HTML object>"
      ]
     },
     "metadata": {},
     "output_type": "display_data"
    },
    {
     "data": {
      "text/html": [
       "<p><a href=\"https://stackoverflow.com/questions/1966010/what-does-this-mean-parse-error-syntax-error-unexpected-t-paamayim-nekudotay\">Unexpected T_PAAMAYIM_NEKUDOTAYIM</a>…</p>"
      ],
      "text/plain": [
       "<IPython.core.display.HTML object>"
      ]
     },
     "metadata": {},
     "output_type": "display_data"
    },
    {
     "data": {
      "text/html": [
       "<p><a href=\"https://stackoverflow.com/questions/3990212/help-with-this-error-message-unexpected-t-object-operator\">Unexpected T_OBJECT_OPERATOR</a>…</p>"
      ],
      "text/plain": [
       "<IPython.core.display.HTML object>"
      ]
     },
     "metadata": {},
     "output_type": "display_data"
    },
    {
     "data": {
      "text/html": [
       "<p><a href=\"https://stackoverflow.com/questions/2622624/parse-error-syntax-error-unexpected-t-double-arrow-php\">Unexpected T_DOUBLE_ARROW</a>…</p>"
      ],
      "text/plain": [
       "<IPython.core.display.HTML object>"
      ]
     },
     "metadata": {},
     "output_type": "display_data"
    },
    {
     "data": {
      "text/html": [
       "<p><a href=\"https://stackoverflow.com/questions/11208725/parse-error-syntax-error-unexpected-t-sl-php-heredoc\">Unexpected T_SL</a>…</p>"
      ],
      "text/plain": [
       "<IPython.core.display.HTML object>"
      ]
     },
     "metadata": {},
     "output_type": "display_data"
    },
    {
     "data": {
      "text/html": [
       "<p><a href=\"https://stackoverflow.com/questions/4419095/syntax-error-unexpected-t-boolean-or\">Unexpected T_BOOLEAN_OR</a>…\n",
       "<br/>\n",
       "<a href=\"https://stackoverflow.com/questions/11500935/parse-error-syntax-error-unexpected-t-boolean-and-expecting-in\">Unexpected T_BOOLEAN_AND</a>…</p>"
      ],
      "text/plain": [
       "<IPython.core.display.HTML object>"
      ]
     },
     "metadata": {},
     "output_type": "display_data"
    },
    {
     "data": {
      "text/html": [
       "<p><a href=\"https://stackoverflow.com/a/30142092/345031\">Unexpected T_IS_EQUAL <br/>\n",
       "Unexpected T_IS_GREATER_OR_EQUAL <br/>\n",
       "Unexpected T_IS_IDENTICAL <br/>\n",
       "Unexpected T_IS_NOT_EQUAL <br/>\n",
       "Unexpected T_IS_NOT_IDENTICAL <br/>\n",
       "Unexpected T_IS_SMALLER_OR_EQUAL <br/>\n",
       "Unexpected <code>&lt;</code> <br/>\n",
       "Unexpected <code>&gt;</code></a></p>"
      ],
      "text/plain": [
       "<IPython.core.display.HTML object>"
      ]
     },
     "metadata": {},
     "output_type": "display_data"
    },
    {
     "data": {
      "text/html": [
       "<p><a href=\"https://stackoverflow.com/questions/6263105/parsing-error-syntax-error-unexpected-t-ns-separator\">Unexpected T_NS_SEPARATOR</a>…</p>"
      ],
      "text/plain": [
       "<IPython.core.display.HTML object>"
      ]
     },
     "metadata": {},
     "output_type": "display_data"
    },
    {
     "data": {
      "text/html": [
       "<p><a href=\"https://stackoverflow.com/questions/17156251/unexpected-character-in-input-ascii-92-state-1\">Unexpected character in input: '<code>\\</code>' (ASCII=92) state=1</a></p>"
      ],
      "text/plain": [
       "<IPython.core.display.HTML object>"
      ]
     },
     "metadata": {},
     "output_type": "display_data"
    },
    {
     "data": {
      "text/html": [
       "<p><a href=\"https://stackoverflow.com/questions/13341378/php-parse-error-syntax-error-unexpected-t-public\">Unexpected 'public' (T_PUBLIC) <br/> Unexpected 'private' (T_PRIVATE) <br/> Unexpected 'protected' (T_PROTECTED) <br/> Unexpected 'final' (T_FINAL)</a>…</p>"
      ],
      "text/plain": [
       "<IPython.core.display.HTML object>"
      ]
     },
     "metadata": {},
     "output_type": "display_data"
    },
    {
     "data": {
      "text/html": [
       "<p><a href=\"https://stackoverflow.com/questions/4668557/parse-error-syntax-error-unexpected-t-static\">Unexpected T_STATIC</a>…</p>"
      ],
      "text/plain": [
       "<IPython.core.display.HTML object>"
      ]
     },
     "metadata": {},
     "output_type": "display_data"
    },
    {
     "data": {
      "text/html": [
       "<p><a href=\"https://stackoverflow.com/questions/32205590/laravel-parse-error-syntax-error-unexpected-t-class-expecting-t-string-or-t-v\">Unexpected T_CLASS</a>…</p>"
      ],
      "text/plain": [
       "<IPython.core.display.HTML object>"
      ]
     },
     "metadata": {},
     "output_type": "display_data"
    },
    {
     "data": {
      "text/html": [
       "<p><a href=\"https://stackoverflow.com/questions/33342994/unexpected-use-t-use-when-trying-to-use-composer\">Unexpected 'use' (T_USE)</a></p>"
      ],
      "text/plain": [
       "<IPython.core.display.HTML object>"
      ]
     },
     "metadata": {},
     "output_type": "display_data"
    },
    {
     "data": {
      "text/html": [
       "<p><a href=\"https://stackoverflow.com/questions/27783613/parse-error-syntax-error-unexpected-t-dnumber-in-home-a3206525-public-html-ea\">Unexpected T_DNUMBER</a></p>"
      ],
      "text/plain": [
       "<IPython.core.display.HTML object>"
      ]
     },
     "metadata": {},
     "output_type": "display_data"
    },
    {
     "data": {
      "text/html": [
       "<p><a href=\"https://stackoverflow.com/questions/29241208/php-parse-error-syntax-error-unexpected-in\">Unexpected <code>,</code></a> <em>(comma)</em></p>"
      ],
      "text/plain": [
       "<IPython.core.display.HTML object>"
      ]
     },
     "metadata": {},
     "output_type": "display_data"
    },
    {
     "data": {
      "text/html": [
       "<p><a href=\"https://stackoverflow.com/questions/10969342/parse-error-syntax-error-unexpected-expecting-or\">Unpexected <code>.</code></a> <em>(period)</em></p>"
      ],
      "text/plain": [
       "<IPython.core.display.HTML object>"
      ]
     },
     "metadata": {},
     "output_type": "display_data"
    },
    {
     "data": {
      "text/html": [
       "<p><a href=\"https://stackoverflow.com/questions/12961248/php-string-parse-error-with-necessary-semicolon-after-variable\">Unexpected <code>;</code></a> <em>(semicolon)</em></p>"
      ],
      "text/plain": [
       "<IPython.core.display.HTML object>"
      ]
     },
     "metadata": {},
     "output_type": "display_data"
    },
    {
     "data": {
      "text/html": [
       "<p><a href=\"https://stackoverflow.com/q/32905365/3933332\">Unexpected <code>*</code></a> <em>(asterisk)</em></p>"
      ],
      "text/plain": [
       "<IPython.core.display.HTML object>"
      ]
     },
     "metadata": {},
     "output_type": "display_data"
    },
    {
     "data": {
      "text/html": [
       "<p><a href=\"https://stackoverflow.com/questions/33178974/parse-error-unexpected-works-fine-in-localhost\">Unexpected <code>:</code></a> <em>(colon)</em></p>"
      ],
      "text/plain": [
       "<IPython.core.display.HTML object>"
      ]
     },
     "metadata": {},
     "output_type": "display_data"
    },
    {
     "data": {
      "text/html": [
       "<p><a href=\"https://stackoverflow.com/a/65539862\">Unexpected ':', expecting ',' or ')'</a></p>"
      ],
      "text/plain": [
       "<IPython.core.display.HTML object>"
      ]
     },
     "metadata": {},
     "output_type": "display_data"
    },
    {
     "data": {
      "text/html": [
       "<p><a href=\"https://stackoverflow.com/questions/4665782/php-warning-call-time-pass-by\">Unexpected <code>&amp;</code></a> (call-time pass-by-reference)</p>"
      ],
      "text/plain": [
       "<IPython.core.display.HTML object>"
      ]
     },
     "metadata": {},
     "output_type": "display_data"
    },
    {
     "data": {
      "text/html": [
       "<p><a href=\"https://stackoverflow.com/a/61407635/250259\">Unexpected <code>.</code></a></p>"
      ],
      "text/plain": [
       "<IPython.core.display.HTML object>"
      ]
     },
     "metadata": {},
     "output_type": "display_data"
    },
    {
     "data": {
      "text/html": [
       "<p>Closely related references:</p>"
      ],
      "text/plain": [
       "<IPython.core.display.HTML object>"
      ]
     },
     "metadata": {},
     "output_type": "display_data"
    },
    {
     "data": {
      "text/html": [
       "<p>And:</p>"
      ],
      "text/plain": [
       "<IPython.core.display.HTML object>"
      ]
     },
     "metadata": {},
     "output_type": "display_data"
    },
    {
     "data": {
      "text/html": [
       "<p>While Stack Overflow is also welcoming rookie coders, it's mostly targetted at professional programming questions.</p>"
      ],
      "text/plain": [
       "<IPython.core.display.HTML object>"
      ]
     },
     "metadata": {},
     "output_type": "display_data"
    },
    {
     "data": {
      "text/html": [
       "<p>If your <em>browser</em> displays error messages such as \"SyntaxError: illegal character\", then it's not actually <a class=\"post-tag\" href=\"/questions/tagged/php\" rel=\"tag\" title=\"show questions tagged 'php'\">php</a>-related, but a <a class=\"post-tag\" href=\"/questions/tagged/javascript\" rel=\"tag\" title=\"show questions tagged 'javascript'\">javascript</a>-<a href=\"https://stackoverflow.com/questions/2120093/how-to-find-javascript-syntax-errors\">syntax error</a>.</p>"
      ],
      "text/plain": [
       "<IPython.core.display.HTML object>"
      ]
     },
     "metadata": {},
     "output_type": "display_data"
    },
    {
     "data": {
      "text/html": [
       "<p><strong>Syntax errors raised on vendor code:</strong> Finally, consider that if the syntax error was not raised by editing your codebase, but after an external vendor package install or upgrade, it could be due to PHP version incompatibility, so check the vendor's requirements against your platform setup.</p>"
      ],
      "text/plain": [
       "<IPython.core.display.HTML object>"
      ]
     },
     "metadata": {},
     "output_type": "display_data"
    },
    {
     "data": {
      "text/html": [
       "<p>I have a bit of code where I am looping through all the select boxes on a page and binding a <code>.hover</code> event to them to do a bit of twiddling with their width on <code>mouse on/off</code>.</p>"
      ],
      "text/plain": [
       "<IPython.core.display.HTML object>"
      ]
     },
     "metadata": {},
     "output_type": "display_data"
    },
    {
     "data": {
      "text/html": [
       "<p>This happens on page ready and works just fine.</p>"
      ],
      "text/plain": [
       "<IPython.core.display.HTML object>"
      ]
     },
     "metadata": {},
     "output_type": "display_data"
    },
    {
     "data": {
      "text/html": [
       "<p>The problem I have is that any select boxes I add via Ajax or DOM after the initial loop won't have the event bound.</p>"
      ],
      "text/plain": [
       "<IPython.core.display.HTML object>"
      ]
     },
     "metadata": {},
     "output_type": "display_data"
    },
    {
     "data": {
      "text/html": [
       "<p>I have found this plugin (<a href=\"http://brandonaaron.net/docs/livequery/#getting-started\" rel=\"noreferrer\">jQuery Live Query Plugin</a>), but before I add another 5k to my pages with a plugin, I want to see if anyone knows a way to do this, either with jQuery directly or by another option.</p>"
      ],
      "text/plain": [
       "<IPython.core.display.HTML object>"
      ]
     },
     "metadata": {},
     "output_type": "display_data"
    },
    {
     "data": {
      "text/html": [
       "<p>In <a href=\"http://stackoverflow.com/questions/571945/getting-a-stack-overflow-exception-when-declaring-a-large-array\">this question</a>, someone suggested in a <a href=\"http://stackoverflow.com/questions/571945/getting-a-stack-overflow-exception-when-declaring-a-large-array#comment388297_571961\">comment</a> that I should <em><strong>not</strong></em> cast the result of <code>malloc</code>. i.e., I should do this:</p>"
      ],
      "text/plain": [
       "<IPython.core.display.HTML object>"
      ]
     },
     "metadata": {},
     "output_type": "display_data"
    },
    {
     "data": {
      "text/html": [
       "<p>rather than:</p>"
      ],
      "text/plain": [
       "<IPython.core.display.HTML object>"
      ]
     },
     "metadata": {},
     "output_type": "display_data"
    },
    {
     "data": {
      "text/html": [
       "<p>Why would this be the case?</p>"
      ],
      "text/plain": [
       "<IPython.core.display.HTML object>"
      ]
     },
     "metadata": {},
     "output_type": "display_data"
    },
    {
     "data": {
      "text/html": [
       "<p><div class=\"snippet\" data-babel=\"false\" data-console=\"true\" data-hide=\"false\" data-lang=\"js\">\n",
       "<div class=\"snippet-code\">\n",
       "<pre class=\"snippet-code-js lang-js prettyprint-override\"><code>var funcs = [];\n",
       "// let's create 3 functions\n",
       "for (var i = 0; i &lt; 3; i++) {\n",
       "  // and store them in funcs\n",
       "  funcs[i] = function() {\n",
       "    // each should log its value.\n",
       "    console.log(\"My value: \" + i);\n",
       "  };\n",
       "}\n",
       "for (var j = 0; j &lt; 3; j++) {\n",
       "  // and now let's run each one to see\n",
       "  funcs[j]();\n",
       "}</code></pre>\n",
       "</div>\n",
       "</div>\n",
       "</p>"
      ],
      "text/plain": [
       "<IPython.core.display.HTML object>"
      ]
     },
     "metadata": {},
     "output_type": "display_data"
    },
    {
     "data": {
      "text/html": [
       "<p>It outputs this:</p>"
      ],
      "text/plain": [
       "<IPython.core.display.HTML object>"
      ]
     },
     "metadata": {},
     "output_type": "display_data"
    },
    {
     "data": {
      "text/html": [
       "<p>My value: 3<br/>\n",
       "My value: 3<br/>\n",
       "My value: 3</p>"
      ],
      "text/plain": [
       "<IPython.core.display.HTML object>"
      ]
     },
     "metadata": {},
     "output_type": "display_data"
    },
    {
     "data": {
      "text/html": [
       "<p>Whereas I'd like it to output:</p>"
      ],
      "text/plain": [
       "<IPython.core.display.HTML object>"
      ]
     },
     "metadata": {},
     "output_type": "display_data"
    },
    {
     "data": {
      "text/html": [
       "<p>My value: 0<br/>\n",
       "My value: 1<br/>\n",
       "My value: 2</p>"
      ],
      "text/plain": [
       "<IPython.core.display.HTML object>"
      ]
     },
     "metadata": {},
     "output_type": "display_data"
    },
    {
     "data": {
      "text/html": [
       "<p>The same problem occurs when the delay in running the function is caused by using event listeners:</p>"
      ],
      "text/plain": [
       "<IPython.core.display.HTML object>"
      ]
     },
     "metadata": {},
     "output_type": "display_data"
    },
    {
     "data": {
      "text/html": [
       "<p><div class=\"snippet\" data-babel=\"false\" data-console=\"true\" data-hide=\"false\" data-lang=\"js\">\n",
       "<div class=\"snippet-code\">\n",
       "<pre class=\"snippet-code-js lang-js prettyprint-override\"><code>var buttons = document.getElementsByTagName(\"button\");\n",
       "// let's create 3 functions\n",
       "for (var i = 0; i &lt; buttons.length; i++) {\n",
       "  // as event listeners\n",
       "  buttons[i].addEventListener(\"click\", function() {\n",
       "    // each should log its value.\n",
       "    console.log(\"My value: \" + i);\n",
       "  });\n",
       "}</code></pre>\n",
       "<pre class=\"snippet-code-html lang-html prettyprint-override\"><code>&lt;button&gt;0&lt;/button&gt;\n",
       "&lt;br /&gt;\n",
       "&lt;button&gt;1&lt;/button&gt;\n",
       "&lt;br /&gt;\n",
       "&lt;button&gt;2&lt;/button&gt;</code></pre>\n",
       "</div>\n",
       "</div>\n",
       "</p>"
      ],
      "text/plain": [
       "<IPython.core.display.HTML object>"
      ]
     },
     "metadata": {},
     "output_type": "display_data"
    },
    {
     "data": {
      "text/html": [
       "<p>… or asynchronous code, e.g. using Promises:</p>"
      ],
      "text/plain": [
       "<IPython.core.display.HTML object>"
      ]
     },
     "metadata": {},
     "output_type": "display_data"
    },
    {
     "data": {
      "text/html": [
       "<p><div class=\"snippet\" data-babel=\"false\" data-console=\"true\" data-hide=\"false\" data-lang=\"js\">\n",
       "<div class=\"snippet-code\">\n",
       "<pre class=\"snippet-code-js lang-js prettyprint-override\"><code>// Some async wait function\n",
       "const wait = (ms) =&gt; new Promise((resolve, reject) =&gt; setTimeout(resolve, ms));\n",
       "\n",
       "for (var i = 0; i &lt; 3; i++) {\n",
       "  // Log `i` as soon as each promise resolves.\n",
       "  wait(i * 100).then(() =&gt; console.log(i));\n",
       "}</code></pre>\n",
       "</div>\n",
       "</div>\n",
       "</p>"
      ],
      "text/plain": [
       "<IPython.core.display.HTML object>"
      ]
     },
     "metadata": {},
     "output_type": "display_data"
    },
    {
     "data": {
      "text/html": [
       "<p>It is also apparent in <code>for in</code> and <code>for of</code> loops:</p>"
      ],
      "text/plain": [
       "<IPython.core.display.HTML object>"
      ]
     },
     "metadata": {},
     "output_type": "display_data"
    },
    {
     "data": {
      "text/html": [
       "<p><div class=\"snippet\" data-babel=\"false\" data-console=\"true\" data-hide=\"false\" data-lang=\"js\">\n",
       "<div class=\"snippet-code\">\n",
       "<pre class=\"snippet-code-js lang-js prettyprint-override\"><code>const arr = [1,2,3];\n",
       "const fns = [];\n",
       "\n",
       "for(var i in arr){\n",
       "  fns.push(() =&gt; console.log(`index: ${i}`));\n",
       "}\n",
       "\n",
       "for(var v of arr){\n",
       "  fns.push(() =&gt; console.log(`value: ${v}`));\n",
       "}\n",
       "\n",
       "for(var f of fns){\n",
       "  f();\n",
       "}</code></pre>\n",
       "</div>\n",
       "</div>\n",
       "</p>"
      ],
      "text/plain": [
       "<IPython.core.display.HTML object>"
      ]
     },
     "metadata": {},
     "output_type": "display_data"
    },
    {
     "data": {
      "text/html": [
       "<p>What’s the solution to this basic problem?</p>"
      ],
      "text/plain": [
       "<IPython.core.display.HTML object>"
      ]
     },
     "metadata": {},
     "output_type": "display_data"
    },
    {
     "data": {
      "text/html": [
       "<p>I have a constructor function which registers an event handler:</p>"
      ],
      "text/plain": [
       "<IPython.core.display.HTML object>"
      ]
     },
     "metadata": {},
     "output_type": "display_data"
    },
    {
     "data": {
      "text/html": [
       "<p><div class=\"snippet\" data-babel=\"false\" data-console=\"false\" data-hide=\"false\" data-lang=\"js\">\n",
       "<div class=\"snippet-code\">\n",
       "<pre class=\"snippet-code-js lang-js prettyprint-override\"><code>function MyConstructor(data, transport) {\n",
       "    this.data = data;\n",
       "    transport.on('data', function () {\n",
       "        alert(this.data);\n",
       "    });\n",
       "}\n",
       "\n",
       "// Mock transport object\n",
       "var transport = {\n",
       "    on: function(event, callback) {\n",
       "        setTimeout(callback, 1000);\n",
       "    }\n",
       "};\n",
       "\n",
       "// called as\n",
       "var obj = new MyConstructor('foo', transport);</code></pre>\n",
       "</div>\n",
       "</div>\n",
       "</p>"
      ],
      "text/plain": [
       "<IPython.core.display.HTML object>"
      ]
     },
     "metadata": {},
     "output_type": "display_data"
    },
    {
     "data": {
      "text/html": [
       "<p>However, I'm not able to access the <code>data</code> property of the created object inside the callback. It looks like <code>this</code> does not refer to the object that was created, but to another one.</p>"
      ],
      "text/plain": [
       "<IPython.core.display.HTML object>"
      ]
     },
     "metadata": {},
     "output_type": "display_data"
    },
    {
     "data": {
      "text/html": [
       "<p>I also tried to use an object method instead of an anonymous function:</p>"
      ],
      "text/plain": [
       "<IPython.core.display.HTML object>"
      ]
     },
     "metadata": {},
     "output_type": "display_data"
    },
    {
     "data": {
      "text/html": [
       "<p>but it exhibits the same problems.</p>"
      ],
      "text/plain": [
       "<IPython.core.display.HTML object>"
      ]
     },
     "metadata": {},
     "output_type": "display_data"
    },
    {
     "data": {
      "text/html": [
       "<p>How can I access the correct object?</p>"
      ],
      "text/plain": [
       "<IPython.core.display.HTML object>"
      ]
     },
     "metadata": {},
     "output_type": "display_data"
    },
    {
     "data": {
      "text/html": [
       "<p>I've heard much about the understandable abhorrence of using <code>.Select</code> in Excel VBA, but I am unsure of how to avoid using it. I am finding that my code would be more re-usable if I were able to use variables instead of <code>Select</code> functions. However, I am not sure how to refer to things (like the <code>ActiveCell</code>, etc.) if not using <code>Select</code>.</p>"
      ],
      "text/plain": [
       "<IPython.core.display.HTML object>"
      ]
     },
     "metadata": {},
     "output_type": "display_data"
    },
    {
     "data": {
      "text/html": [
       "<p>I have found <a href=\"http://msdn.microsoft.com/en-us/library/aa139976%28v=office.10%29.aspx\" rel=\"noreferrer\">this article on ranges</a> and <a href=\"http://www.businessprogrammer.com/201105/power-excel-vba-secret-avoid-using-select/\" rel=\"noreferrer\">this example on the benefits of not using select</a>, but I can't find anything on <em>how</em>.</p>"
      ],
      "text/plain": [
       "<IPython.core.display.HTML object>"
      ]
     },
     "metadata": {},
     "output_type": "display_data"
    },
    {
     "data": {
      "text/html": [
       "<p>This is a collection of common Q&amp;A. This is also a Community Wiki, so everyone is invited to participate in maintaining it.</p>"
      ],
      "text/plain": [
       "<IPython.core.display.HTML object>"
      ]
     },
     "metadata": {},
     "output_type": "display_data"
    },
    {
     "data": {
      "text/html": [
       "<p><a class=\"post-tag\" href=\"/questions/tagged/regex\" rel=\"tag\" title=\"show questions tagged 'regex'\">regex</a> is suffering from <em>give me ze code</em> type of questions and poor answers with no explanation. This reference is meant to provide links to quality Q&amp;A.</p>"
      ],
      "text/plain": [
       "<IPython.core.display.HTML object>"
      ]
     },
     "metadata": {},
     "output_type": "display_data"
    },
    {
     "data": {
      "text/html": [
       "<p>This reference is meant for the following languages: <a class=\"post-tag\" href=\"/questions/tagged/php\" rel=\"tag\" title=\"show questions tagged 'php'\">php</a>, <a class=\"post-tag\" href=\"/questions/tagged/perl\" rel=\"tag\" title=\"show questions tagged 'perl'\">perl</a>, <a class=\"post-tag\" href=\"/questions/tagged/javascript\" rel=\"tag\" title=\"show questions tagged 'javascript'\">javascript</a>, <a class=\"post-tag\" href=\"/questions/tagged/python\" rel=\"tag\" title=\"show questions tagged 'python'\">python</a>, <a class=\"post-tag\" href=\"/questions/tagged/ruby\" rel=\"tag\" title=\"show questions tagged 'ruby'\">ruby</a>, <a class=\"post-tag\" href=\"/questions/tagged/java\" rel=\"tag\" title=\"show questions tagged 'java'\">java</a>, <a class=\"post-tag\" href=\"/questions/tagged/.net\" rel=\"tag\" title=\"show questions tagged '.net'\">.net</a>.</p>"
      ],
      "text/plain": [
       "<IPython.core.display.HTML object>"
      ]
     },
     "metadata": {},
     "output_type": "display_data"
    },
    {
     "data": {
      "text/html": [
       "<p>This might be too broad, but these languages share the same syntax. For specific features there's the tag of the language behind it, example:</p>"
      ],
      "text/plain": [
       "<IPython.core.display.HTML object>"
      ]
     },
     "metadata": {},
     "output_type": "display_data"
    },
    {
     "data": {
      "text/html": [
       "<p>Given the following examples, why is <code>outerScopeVar</code> undefined in all cases?</p>"
      ],
      "text/plain": [
       "<IPython.core.display.HTML object>"
      ]
     },
     "metadata": {},
     "output_type": "display_data"
    },
    {
     "data": {
      "text/html": [
       "<p></p>"
      ],
      "text/plain": [
       "<IPython.core.display.HTML object>"
      ]
     },
     "metadata": {},
     "output_type": "display_data"
    },
    {
     "data": {
      "text/html": [
       "<p></p>"
      ],
      "text/plain": [
       "<IPython.core.display.HTML object>"
      ]
     },
     "metadata": {},
     "output_type": "display_data"
    },
    {
     "data": {
      "text/html": [
       "<p></p>"
      ],
      "text/plain": [
       "<IPython.core.display.HTML object>"
      ]
     },
     "metadata": {},
     "output_type": "display_data"
    },
    {
     "data": {
      "text/html": [
       "<p></p>"
      ],
      "text/plain": [
       "<IPython.core.display.HTML object>"
      ]
     },
     "metadata": {},
     "output_type": "display_data"
    },
    {
     "data": {
      "text/html": [
       "<p></p>"
      ],
      "text/plain": [
       "<IPython.core.display.HTML object>"
      ]
     },
     "metadata": {},
     "output_type": "display_data"
    },
    {
     "data": {
      "text/html": [
       "<p>Why does it output <code>undefined</code> in all of these examples? I don't want workarounds, I want to know <strong>why</strong> this is happening.</p>"
      ],
      "text/plain": [
       "<IPython.core.display.HTML object>"
      ]
     },
     "metadata": {},
     "output_type": "display_data"
    },
    {
     "data": {
      "text/html": [
       "<p><strong>Note:</strong> This is a canonical question for <em>JavaScript asynchronicity</em>. Feel free to improve this question and add more simplified examples which the community can identify with.</p>"
      ],
      "text/plain": [
       "<IPython.core.display.HTML object>"
      ]
     },
     "metadata": {},
     "output_type": "display_data"
    },
    {
     "data": {
      "text/html": [
       "<p>This is a number of answers about warnings, errors, and notices you might encounter while programming PHP and have no clue how to fix them. This is also a Community Wiki, so everyone is invited to participate adding to and maintaining this list.</p>"
      ],
      "text/plain": [
       "<IPython.core.display.HTML object>"
      ]
     },
     "metadata": {},
     "output_type": "display_data"
    },
    {
     "data": {
      "text/html": [
       "<p>Questions like <a href=\"https://stackoverflow.com/a/12770075\">\"Headers already sent\"</a> or <a href=\"https://stackoverflow.com/a/12769983\">\"Calling a member of a non-object\"</a> pop up frequently on Stack Overflow. The root cause of those questions is always the same. So the answers to those questions typically repeat them and then show the OP which line to change in their particular case. These answers do not add any value to the site because they only apply to the OP's particular code. Other users having the same error cannot easily read the solution out of it because they are too localized. That is sad because once you understood the root cause, fixing the error is trivial. Hence, this list tries to explain the solution in a general way to apply.</p>"
      ],
      "text/plain": [
       "<IPython.core.display.HTML object>"
      ]
     },
     "metadata": {},
     "output_type": "display_data"
    },
    {
     "data": {
      "text/html": [
       "<p>If your question has been marked as a duplicate of this one, please find your error message below and apply the fix to your code. The answers usually contain further links to investigate in case it shouldn't be clear from the general answer alone.</p>"
      ],
      "text/plain": [
       "<IPython.core.display.HTML object>"
      ]
     },
     "metadata": {},
     "output_type": "display_data"
    },
    {
     "data": {
      "text/html": [
       "<p>If you want to contribute, please add your \"favorite\" error message, warning or notice, one per answer, a short description what it means (even if it is only highlighting terms to their manual page), a possible solution or debugging approach and a listing of existing Q&amp;A that are of value. Also, feel free to improve any existing answers.</p>"
      ],
      "text/plain": [
       "<IPython.core.display.HTML object>"
      ]
     },
     "metadata": {},
     "output_type": "display_data"
    },
    {
     "data": {
      "text/html": [
       "<p>Also, see:</p>"
      ],
      "text/plain": [
       "<IPython.core.display.HTML object>"
      ]
     },
     "metadata": {},
     "output_type": "display_data"
    },
    {
     "data": {
      "text/html": [
       "<p>I've tried creating a simple mail form. The form itself is on my <code>index.html</code> page, but it submits to a separate \"thank you for your submission\" page, <code>thankyou.php</code>, where the above PHP code is embedded.\n",
       "The code submits perfectly, but never sends an email. How can I fix this?</p>"
      ],
      "text/plain": [
       "<IPython.core.display.HTML object>"
      ]
     },
     "metadata": {},
     "output_type": "display_data"
    },
    {
     "data": {
      "text/html": [
       "<p>I've been told by others that writing <code>using namespace std;</code> in code is wrong, and that I should use <code>std::cout</code> and <code>std::cin</code> directly instead.</p>"
      ],
      "text/plain": [
       "<IPython.core.display.HTML object>"
      ]
     },
     "metadata": {},
     "output_type": "display_data"
    },
    {
     "data": {
      "text/html": [
       "<p>Why is <code>using namespace std;</code> considered a bad practice? Is it inefficient or does it risk declaring ambiguous variables (variables that share the same name as a function in <code>std</code> namespace)? Does it impact performance?</p>"
      ],
      "text/plain": [
       "<IPython.core.display.HTML object>"
      ]
     },
     "metadata": {},
     "output_type": "display_data"
    },
    {
     "data": {
      "text/html": [
       "<p>When running my script, I am getting several errors like this:</p>"
      ],
      "text/plain": [
       "<IPython.core.display.HTML object>"
      ]
     },
     "metadata": {},
     "output_type": "display_data"
    },
    {
     "data": {
      "text/html": [
       "<p>Warning: Cannot modify header information - headers already sent by (<strong>output started at /some/file.php:12</strong>) in <strong>/some/file.php</strong> on <strong>line 23</strong></p>"
      ],
      "text/plain": [
       "<IPython.core.display.HTML object>"
      ]
     },
     "metadata": {},
     "output_type": "display_data"
    },
    {
     "data": {
      "text/html": [
       "<p>The lines mentioned in the error messages contain <a href=\"http://php.net/header\" rel=\"noreferrer\"><code>header()</code></a> and <a href=\"http://php.net/setcookie\" rel=\"noreferrer\"><code>setcookie()</code></a> calls.</p>"
      ],
      "text/plain": [
       "<IPython.core.display.HTML object>"
      ]
     },
     "metadata": {},
     "output_type": "display_data"
    },
    {
     "data": {
      "text/html": [
       "<p>What could be the reason for this? And how to fix it?</p>"
      ],
      "text/plain": [
       "<IPython.core.display.HTML object>"
      ]
     },
     "metadata": {},
     "output_type": "display_data"
    },
    {
     "data": {
      "text/html": [
       "<p>I always thought Java uses <strong>pass-by-reference</strong>.</p>"
      ],
      "text/plain": [
       "<IPython.core.display.HTML object>"
      ]
     },
     "metadata": {},
     "output_type": "display_data"
    },
    {
     "data": {
      "text/html": [
       "<p>However, I've seen <a href=\"http://javadude.com/articles/passbyvalue.htm\" rel=\"noreferrer\">a blog post</a> that claims that Java uses <strong>pass-by-value</strong>.</p>"
      ],
      "text/plain": [
       "<IPython.core.display.HTML object>"
      ]
     },
     "metadata": {},
     "output_type": "display_data"
    },
    {
     "data": {
      "text/html": [
       "<p>I don't think I understand the distinction they're making.</p>"
      ],
      "text/plain": [
       "<IPython.core.display.HTML object>"
      ]
     },
     "metadata": {},
     "output_type": "display_data"
    },
    {
     "data": {
      "text/html": [
       "<p>What is the explanation?</p>"
      ],
      "text/plain": [
       "<IPython.core.display.HTML object>"
      ]
     },
     "metadata": {},
     "output_type": "display_data"
    },
    {
     "data": {
      "text/html": [
       "<p>\n",
       "I'm setting up a new server and want to support UTF-8 fully in my web application. I have tried this in the past on existing servers and always seem to end up having to fall back to ISO-8859-1.</p>"
      ],
      "text/plain": [
       "<IPython.core.display.HTML object>"
      ]
     },
     "metadata": {},
     "output_type": "display_data"
    },
    {
     "data": {
      "text/html": [
       "<p>Where exactly do I need to set the encoding/charsets? I'm aware that I need to configure Apache, MySQL, and PHP to do this — is there some standard checklist I can follow, or perhaps troubleshoot where the mismatches occur?</p>"
      ],
      "text/plain": [
       "<IPython.core.display.HTML object>"
      ]
     },
     "metadata": {},
     "output_type": "display_data"
    },
    {
     "data": {
      "text/html": [
       "<p>This is for a new Linux server, running MySQL 5, PHP, 5 and Apache 2.</p>"
      ],
      "text/plain": [
       "<IPython.core.display.HTML object>"
      ]
     },
     "metadata": {},
     "output_type": "display_data"
    },
    {
     "data": {
      "text/html": [
       "<p>I am trying to learn the best way to write queries. I also understand the importance of being consistent. Until now, I have randomly used single quotes, double quotes, and backticks without any real thought.</p>"
      ],
      "text/plain": [
       "<IPython.core.display.HTML object>"
      ]
     },
     "metadata": {},
     "output_type": "display_data"
    },
    {
     "data": {
      "text/html": [
       "<p>Example:</p>"
      ],
      "text/plain": [
       "<IPython.core.display.HTML object>"
      ]
     },
     "metadata": {},
     "output_type": "display_data"
    },
    {
     "data": {
      "text/html": [
       "<p>Also, in the above example, consider that <code>table</code>, <code>col1</code>, <code>val1</code>, etc. may be variables.</p>"
      ],
      "text/plain": [
       "<IPython.core.display.HTML object>"
      ]
     },
     "metadata": {},
     "output_type": "display_data"
    },
    {
     "data": {
      "text/html": [
       "<p>What is the standard for this? What do you do?</p>"
      ],
      "text/plain": [
       "<IPython.core.display.HTML object>"
      ]
     },
     "metadata": {},
     "output_type": "display_data"
    },
    {
     "data": {
      "text/html": [
       "<p><sub>I've been reading answers to similar questions on here for about 20 minutes, but it seems like there is no definitive answer to this question.</sub></p>"
      ],
      "text/plain": [
       "<IPython.core.display.HTML object>"
      ]
     },
     "metadata": {},
     "output_type": "display_data"
    },
    {
     "data": {
      "text/html": [
       "<p>Having spent a decent amount of time watching both the <a class=\"post-tag\" href=\"/questions/tagged/r\" rel=\"tag\" title=\"show questions tagged 'r'\">r</a> and <a class=\"post-tag\" href=\"/questions/tagged/pandas\" rel=\"tag\" title=\"show questions tagged 'pandas'\">pandas</a> tags on SO, the impression that I get is that <code>pandas</code> questions are less likely to contain reproducible data. This is something that the R community has been pretty good about encouraging, and thanks to guides like <a href=\"https://stackoverflow.com/questions/5963269/how-to-make-a-great-r-reproducible-example\">this</a>, newcomers are able to get some help on putting together these examples. People who are able to read these guides and come back with reproducible data will often have much better luck getting answers to their questions.</p>"
      ],
      "text/plain": [
       "<IPython.core.display.HTML object>"
      ]
     },
     "metadata": {},
     "output_type": "display_data"
    },
    {
     "data": {
      "text/html": [
       "<p>How can we create good reproducible examples for <code>pandas</code> questions? Simple dataframes can be put together, e.g.:</p>"
      ],
      "text/plain": [
       "<IPython.core.display.HTML object>"
      ]
     },
     "metadata": {},
     "output_type": "display_data"
    },
    {
     "data": {
      "text/html": [
       "<p>But many example datasets need more complicated structure, e.g.:</p>"
      ],
      "text/plain": [
       "<IPython.core.display.HTML object>"
      ]
     },
     "metadata": {},
     "output_type": "display_data"
    },
    {
     "data": {
      "text/html": [
       "<p>For datasets that are hard to mock up using a few lines of code, is there an equivalent to R's <code>dput()</code> that allows you to generate copy-pasteable code to regenerate your datastructure?</p>"
      ],
      "text/plain": [
       "<IPython.core.display.HTML object>"
      ]
     },
     "metadata": {},
     "output_type": "display_data"
    },
    {
     "data": {
      "text/html": [
       "<p>Quote from <a href=\"http://books.google.com/books?id=n9VEG2Gp5pkC&amp;pg=PA10&amp;lpg=PA10&amp;dq=%22The%20only%20portable%20way%20of%20using%20templates%20at%20the%20moment%20is%20to%20implement%20them%20in%20header%20files%20by%20using%20inline%20functions.%22&amp;source=bl&amp;ots=Ref8pl8dPX&amp;sig=t4K5gvxtBblpcujNxodpwMfei8I&amp;hl=en&amp;ei=qkR6TvbiGojE0AHq4IzqAg&amp;sa=X&amp;oi=book_result&amp;ct=result&amp;resnum=3&amp;ved=0CC8Q6AEwAg#v=onepage&amp;q=%22The%20only%20portable%20way%20of%20using%20templates%20at%20the%20moment%20is%20to%20implement%20them%20in%20header%20files%20by%20using%20inline%20functions.%22&amp;f=false\" rel=\"noreferrer\">The C++ standard library: a tutorial and handbook</a>:</p>"
      ],
      "text/plain": [
       "<IPython.core.display.HTML object>"
      ]
     },
     "metadata": {},
     "output_type": "display_data"
    },
    {
     "data": {
      "text/html": [
       "<p>The only portable way of using templates at the moment is to implement them in header files by using inline functions.</p>"
      ],
      "text/plain": [
       "<IPython.core.display.HTML object>"
      ]
     },
     "metadata": {},
     "output_type": "display_data"
    },
    {
     "data": {
      "text/html": [
       "<p>Why is this?</p>"
      ],
      "text/plain": [
       "<IPython.core.display.HTML object>"
      ]
     },
     "metadata": {},
     "output_type": "display_data"
    },
    {
     "data": {
      "text/html": [
       "<p>(Clarification: header files are not the <em>only</em> portable solution. But they are the most convenient portable solution.)</p>"
      ],
      "text/plain": [
       "<IPython.core.display.HTML object>"
      ]
     },
     "metadata": {},
     "output_type": "display_data"
    },
    {
     "data": {
      "text/html": [
       "<p>How can one parse HTML/XML and extract information from it?</p>"
      ],
      "text/plain": [
       "<IPython.core.display.HTML object>"
      ]
     },
     "metadata": {},
     "output_type": "display_data"
    },
    {
     "data": {
      "text/html": [
       "<p>I'm asking this question because I'm new to Java and Android and I searched for hours trying to figure this out. The answer came from a combination of related answers, so I figured I would document what I learned for anyone else who may be struggling. See answer.</p>"
      ],
      "text/plain": [
       "<IPython.core.display.HTML object>"
      ]
     },
     "metadata": {},
     "output_type": "display_data"
    },
    {
     "data": {
      "text/html": [
       "<p>I'm using Android Studio 2.1.2 and my Java setup is the following:</p>"
      ],
      "text/plain": [
       "<IPython.core.display.HTML object>"
      ]
     },
     "metadata": {},
     "output_type": "display_data"
    },
    {
     "data": {
      "text/html": [
       "<p>What are the possible reasons for <code>document.getElementById</code>, <code>$(\"#id\")</code> or any other DOM method / jQuery selector not finding the elements?</p>"
      ],
      "text/plain": [
       "<IPython.core.display.HTML object>"
      ]
     },
     "metadata": {},
     "output_type": "display_data"
    },
    {
     "data": {
      "text/html": [
       "<p>Example problems include:</p>"
      ],
      "text/plain": [
       "<IPython.core.display.HTML object>"
      ]
     },
     "metadata": {},
     "output_type": "display_data"
    },
    {
     "data": {
      "text/html": [
       "<p>Uncaught TypeError: Cannot set property '...' of null<br/>\n",
       "Uncaught TypeError: Cannot set properties of null (setting '...')<br/>\n",
       "Uncaught TypeError: Cannot read property '...' of null<br/>\n",
       "Uncaught TypeError: Cannot read properties of null (reading '...')</p>"
      ],
      "text/plain": [
       "<IPython.core.display.HTML object>"
      ]
     },
     "metadata": {},
     "output_type": "display_data"
    },
    {
     "data": {
      "text/html": [
       "<p>The most common forms are:</p>"
      ],
      "text/plain": [
       "<IPython.core.display.HTML object>"
      ]
     },
     "metadata": {},
     "output_type": "display_data"
    },
    {
     "data": {
      "text/html": [
       "<p>Uncaught TypeError: Cannot set property 'onclick' of null<br/>\n",
       "Uncaught TypeError: Cannot read property 'addEventListener' of null<br/>\n",
       "Uncaught TypeError: Cannot read property 'style' of null</p>"
      ],
      "text/plain": [
       "<IPython.core.display.HTML object>"
      ]
     },
     "metadata": {},
     "output_type": "display_data"
    },
    {
     "data": {
      "text/html": [
       "<p>I have a nested data structure containing objects and arrays. How can I extract the information, i.e. access a specific or multiple values (or keys)?</p>"
      ],
      "text/plain": [
       "<IPython.core.display.HTML object>"
      ]
     },
     "metadata": {},
     "output_type": "display_data"
    },
    {
     "data": {
      "text/html": [
       "<p>For example:</p>"
      ],
      "text/plain": [
       "<IPython.core.display.HTML object>"
      ]
     },
     "metadata": {},
     "output_type": "display_data"
    },
    {
     "data": {
      "text/html": [
       "<p>How could I access the <code>name</code> of the second item in <code>items</code>?</p>"
      ],
      "text/plain": [
       "<IPython.core.display.HTML object>"
      ]
     },
     "metadata": {},
     "output_type": "display_data"
    },
    {
     "data": {
      "text/html": [
       "<p>I just found a comment in <a href=\"https://stackoverflow.com/questions/5578631/c-how-do-you-stop-reading-integer-from-text-file-when-encounter-negative-intege/5578649#5578649\">this</a> answer saying that using <code>iostream::eof</code> in a loop condition is \"almost certainly wrong\". I generally use something like <code>while(cin&gt;&gt;n)</code> - which I guess implicitly checks for EOF.</p>"
      ],
      "text/plain": [
       "<IPython.core.display.HTML object>"
      ]
     },
     "metadata": {},
     "output_type": "display_data"
    },
    {
     "data": {
      "text/html": [
       "<p>Why is checking for eof explicitly using <code>while (!cin.eof())</code> wrong?  </p>"
      ],
      "text/plain": [
       "<IPython.core.display.HTML object>"
      ]
     },
     "metadata": {},
     "output_type": "display_data"
    },
    {
     "data": {
      "text/html": [
       "<p>How is it different from using <code>scanf(\"...\",...)!=EOF</code> in C (which I often use with no problems)?</p>"
      ],
      "text/plain": [
       "<IPython.core.display.HTML object>"
      ]
     },
     "metadata": {},
     "output_type": "display_data"
    },
    {
     "data": {
      "text/html": [
       "<p>In my local/development environment, the MySQLi query is performing OK. However, when I upload it on my web host environment, I get this error:</p>"
      ],
      "text/plain": [
       "<IPython.core.display.HTML object>"
      ]
     },
     "metadata": {},
     "output_type": "display_data"
    },
    {
     "data": {
      "text/html": [
       "<p>Fatal error: Call to a member function bind_param() on a non-object in...</p>"
      ],
      "text/plain": [
       "<IPython.core.display.HTML object>"
      ]
     },
     "metadata": {},
     "output_type": "display_data"
    },
    {
     "data": {
      "text/html": [
       "<p>Here is the code:</p>"
      ],
      "text/plain": [
       "<IPython.core.display.HTML object>"
      ]
     },
     "metadata": {},
     "output_type": "display_data"
    },
    {
     "data": {
      "text/html": [
       "<p>To check my query, I tried to execute the query via control panel phpMyAdmin and the result is OK.</p>"
      ],
      "text/plain": [
       "<IPython.core.display.HTML object>"
      ]
     },
     "metadata": {},
     "output_type": "display_data"
    },
    {
     "data": {
      "text/html": [
       "<p>Is there an SQL injection possibility even when using <code>mysql_real_escape_string()</code> function?</p>"
      ],
      "text/plain": [
       "<IPython.core.display.HTML object>"
      ]
     },
     "metadata": {},
     "output_type": "display_data"
    },
    {
     "data": {
      "text/html": [
       "<p>Consider this sample situation. SQL is constructed in PHP like this:</p>"
      ],
      "text/plain": [
       "<IPython.core.display.HTML object>"
      ]
     },
     "metadata": {},
     "output_type": "display_data"
    },
    {
     "data": {
      "text/html": [
       "<p>I have heard numerous people say to me that code like that is still dangerous and possible to hack even with <code>mysql_real_escape_string()</code> function used. But I cannot think of any possible exploit?</p>"
      ],
      "text/plain": [
       "<IPython.core.display.HTML object>"
      ]
     },
     "metadata": {},
     "output_type": "display_data"
    },
    {
     "data": {
      "text/html": [
       "<p>Classic injections like this:</p>"
      ],
      "text/plain": [
       "<IPython.core.display.HTML object>"
      ]
     },
     "metadata": {},
     "output_type": "display_data"
    },
    {
     "data": {
      "text/html": [
       "<p>do not work.</p>"
      ],
      "text/plain": [
       "<IPython.core.display.HTML object>"
      ]
     },
     "metadata": {},
     "output_type": "display_data"
    },
    {
     "data": {
      "text/html": [
       "<p>Do you know of any possible injection that would get through the PHP code above?</p>"
      ],
      "text/plain": [
       "<IPython.core.display.HTML object>"
      ]
     },
     "metadata": {},
     "output_type": "display_data"
    },
    {
     "data": {
      "text/html": [
       "<p>I'm trying to make a function that will compare multiple variables to an integer and output a string of three letters. I was wondering if there was a way to translate this into Python. So say:</p>"
      ],
      "text/plain": [
       "<IPython.core.display.HTML object>"
      ]
     },
     "metadata": {},
     "output_type": "display_data"
    },
    {
     "data": {
      "text/html": [
       "<p>which would return a list of:</p>"
      ],
      "text/plain": [
       "<IPython.core.display.HTML object>"
      ]
     },
     "metadata": {},
     "output_type": "display_data"
    },
    {
     "data": {
      "text/html": [
       "<p>Is something like this possible?</p>"
      ],
      "text/plain": [
       "<IPython.core.display.HTML object>"
      ]
     },
     "metadata": {},
     "output_type": "display_data"
    },
    {
     "data": {
      "text/html": [
       "<p>I am using the <code>Scanner</code> methods <code>nextInt()</code> and <code>nextLine()</code> for reading input. </p>"
      ],
      "text/plain": [
       "<IPython.core.display.HTML object>"
      ]
     },
     "metadata": {},
     "output_type": "display_data"
    },
    {
     "data": {
      "text/html": [
       "<p>It looks like this:</p>"
      ],
      "text/plain": [
       "<IPython.core.display.HTML object>"
      ]
     },
     "metadata": {},
     "output_type": "display_data"
    },
    {
     "data": {
      "text/html": [
       "<p>The problem is that after entering the numerical value, the first <code>input.nextLine()</code> is skipped and the second <code>input.nextLine()</code> is executed, so that my output looks like this:</p>"
      ],
      "text/plain": [
       "<IPython.core.display.HTML object>"
      ]
     },
     "metadata": {},
     "output_type": "display_data"
    },
    {
     "data": {
      "text/html": [
       "<p>I tested my application and it looks like the problem lies in using <code>input.nextInt()</code>. If I delete it, then both <code>string1 = input.nextLine()</code> and <code>string2 = input.nextLine()</code> are executed as I want them to be.</p>"
      ],
      "text/plain": [
       "<IPython.core.display.HTML object>"
      ]
     },
     "metadata": {},
     "output_type": "display_data"
    },
    {
     "data": {
      "text/html": [
       "<p>What does <code>ArrayIndexOutOfBoundsException</code> mean and how do I get rid of it? </p>"
      ],
      "text/plain": [
       "<IPython.core.display.HTML object>"
      ]
     },
     "metadata": {},
     "output_type": "display_data"
    },
    {
     "data": {
      "text/html": [
       "<p>Here is a code sample that triggers the exception:</p>"
      ],
      "text/plain": [
       "<IPython.core.display.HTML object>"
      ]
     },
     "metadata": {},
     "output_type": "display_data"
    },
    {
     "data": {
      "text/html": [
       "<p>I have this code:</p>"
      ],
      "text/plain": [
       "<IPython.core.display.HTML object>"
      ]
     },
     "metadata": {},
     "output_type": "display_data"
    },
    {
     "data": {
      "text/html": [
       "<p>Why does this not write \"bar\" into my text file, but alerts \"42\"?</p>"
      ],
      "text/plain": [
       "<IPython.core.display.HTML object>"
      ]
     },
     "metadata": {},
     "output_type": "display_data"
    },
    {
     "data": {
      "text/html": [
       "<p>NB: Earlier revisions of this question were explicitly about PHP on the server and JavaScript on the client. The essential nature of the problem and solutions is the same for <em>any</em> pair of languages when one is running on the client and the other on the server (even if they are the same language). Please take this in to account when you see answers talking about specific languages.</p>"
      ],
      "text/plain": [
       "<IPython.core.display.HTML object>"
      ]
     },
     "metadata": {},
     "output_type": "display_data"
    },
    {
     "data": {
      "text/html": [
       "<p>What is wrong with using <code>feof()</code> to control a read loop?  For example:</p>"
      ],
      "text/plain": [
       "<IPython.core.display.HTML object>"
      ]
     },
     "metadata": {},
     "output_type": "display_data"
    },
    {
     "data": {
      "text/html": [
       "<p>What is wrong with this loop?</p>"
      ],
      "text/plain": [
       "<IPython.core.display.HTML object>"
      ]
     },
     "metadata": {},
     "output_type": "display_data"
    },
    {
     "data": {
      "text/html": [
       "<p>I have noticed that there doesn't appear to be a clear explanation of what the <code>this</code> keyword is and how it is correctly (and incorrectly) used in JavaScript on the Stack Overflow site.</p>"
      ],
      "text/plain": [
       "<IPython.core.display.HTML object>"
      ]
     },
     "metadata": {},
     "output_type": "display_data"
    },
    {
     "data": {
      "text/html": [
       "<p>I have witnessed some very strange behaviour with it and have failed to understand why it has occurred.</p>"
      ],
      "text/plain": [
       "<IPython.core.display.HTML object>"
      ]
     },
     "metadata": {},
     "output_type": "display_data"
    },
    {
     "data": {
      "text/html": [
       "<p>How does <code>this</code> work and when should it be used?</p>"
      ],
      "text/plain": [
       "<IPython.core.display.HTML object>"
      ]
     },
     "metadata": {},
     "output_type": "display_data"
    },
    {
     "data": {
      "text/html": [
       "<p>I am writing a program that accepts an input from the user.</p>"
      ],
      "text/plain": [
       "<IPython.core.display.HTML object>"
      ]
     },
     "metadata": {},
     "output_type": "display_data"
    },
    {
     "data": {
      "text/html": [
       "<p>The program works as expected as long as the the user enters meaningful data. </p>"
      ],
      "text/plain": [
       "<IPython.core.display.HTML object>"
      ]
     },
     "metadata": {},
     "output_type": "display_data"
    },
    {
     "data": {
      "text/html": [
       "<p>But it fails if the user enters invalid data:</p>"
      ],
      "text/plain": [
       "<IPython.core.display.HTML object>"
      ]
     },
     "metadata": {},
     "output_type": "display_data"
    },
    {
     "data": {
      "text/html": [
       "<p>Instead of crashing, I would like the program to ask for the input again. Like this:</p>"
      ],
      "text/plain": [
       "<IPython.core.display.HTML object>"
      ]
     },
     "metadata": {},
     "output_type": "display_data"
    },
    {
     "data": {
      "text/html": [
       "<p>How can I make the program ask for valid inputs instead of crashing when non-sensical data is entered?</p>"
      ],
      "text/plain": [
       "<IPython.core.display.HTML object>"
      ]
     },
     "metadata": {},
     "output_type": "display_data"
    },
    {
     "data": {
      "text/html": [
       "<p>How can I reject values like <code>-1</code>, which is a valid <code>int</code>, but nonsensical in this context?</p>"
      ],
      "text/plain": [
       "<IPython.core.display.HTML object>"
      ]
     },
     "metadata": {},
     "output_type": "display_data"
    },
    {
     "data": {
      "text/html": [
       "<p>How do I accomplish variable variables in Python?</p>"
      ],
      "text/plain": [
       "<IPython.core.display.HTML object>"
      ]
     },
     "metadata": {},
     "output_type": "display_data"
    },
    {
     "data": {
      "text/html": [
       "<p>Here is an elaborative manual entry, for instance: <em><a href=\"http://us3.php.net/manual/en/language.variables.variable.php\" rel=\"noreferrer\">Variable variables</a></em></p>"
      ],
      "text/plain": [
       "<IPython.core.display.HTML object>"
      ]
     },
     "metadata": {},
     "output_type": "display_data"
    },
    {
     "data": {
      "text/html": [
       "<p>I hear this is a bad idea in general though, and it is a security hole in PHP. Is that true?</p>"
      ],
      "text/plain": [
       "<IPython.core.display.HTML object>"
      ]
     },
     "metadata": {},
     "output_type": "display_data"
    },
    {
     "data": {
      "text/html": [
       "<p>In the <a href=\"https://w3c.github.io/webdriver/webdriver-spec.html#locator-strategies\" rel=\"noreferrer\">official W3c webdirver documentation</a>, it's clearly stated that the location strategies are:</p>"
      ],
      "text/plain": [
       "<IPython.core.display.HTML object>"
      ]
     },
     "metadata": {},
     "output_type": "display_data"
    },
    {
     "data": {
      "text/html": [
       "<p>However, <a href=\"https://github.com/SeleniumHQ/selenium/wiki/JsonWireProtocol\" rel=\"noreferrer\">Selenium's wire protocol</a> allowed:</p>"
      ],
      "text/plain": [
       "<IPython.core.display.HTML object>"
      ]
     },
     "metadata": {},
     "output_type": "display_data"
    },
    {
     "data": {
      "text/html": [
       "<p>In THEORY, Selenium's docs are obsolete and the \"real\" story is in the new spec document. However... </p>"
      ],
      "text/plain": [
       "<IPython.core.display.HTML object>"
      ]
     },
     "metadata": {},
     "output_type": "display_data"
    },
    {
     "data": {
      "text/html": [
       "<p>I ran some tests on the latest Chrome's own Webdriver, and I can confirm that <code>name</code> and <code>class name</code> both work; however, they are not in the specs.</p>"
      ],
      "text/plain": [
       "<IPython.core.display.HTML object>"
      ]
     },
     "metadata": {},
     "output_type": "display_data"
    },
    {
     "data": {
      "text/html": [
       "<p>I remember reading on a Chromium issue that they would only ever implement the official Webdriver specs.</p>"
      ],
      "text/plain": [
       "<IPython.core.display.HTML object>"
      ]
     },
     "metadata": {},
     "output_type": "display_data"
    },
    {
     "data": {
      "text/html": [
       "<p>Now: I <em>know</em> the generic answer, where \"specs are not always followed 100%\" etc. However, what I'd like to know is:</p>"
      ],
      "text/plain": [
       "<IPython.core.display.HTML object>"
      ]
     },
     "metadata": {},
     "output_type": "display_data"
    },
    {
     "data": {
      "text/html": [
       "<p>I need a good explanation (references are a plus) on Python's slice notation. </p>"
      ],
      "text/plain": [
       "<IPython.core.display.HTML object>"
      ]
     },
     "metadata": {},
     "output_type": "display_data"
    },
    {
     "data": {
      "text/html": [
       "<p>To me, this notation needs a bit of picking up. </p>"
      ],
      "text/plain": [
       "<IPython.core.display.HTML object>"
      ]
     },
     "metadata": {},
     "output_type": "display_data"
    },
    {
     "data": {
      "text/html": [
       "<p>It looks extremely powerful, but I haven't quite got my head around it.</p>"
      ],
      "text/plain": [
       "<IPython.core.display.HTML object>"
      ]
     },
     "metadata": {},
     "output_type": "display_data"
    },
    {
     "data": {
      "text/html": [
       "<p>I am developing an application, and everytime I run it, I get the message:</p>"
      ],
      "text/plain": [
       "<IPython.core.display.HTML object>"
      ]
     },
     "metadata": {},
     "output_type": "display_data"
    },
    {
     "data": {
      "text/html": [
       "<p>Unfortunately, MyApp has stopped.</p>"
      ],
      "text/plain": [
       "<IPython.core.display.HTML object>"
      ]
     },
     "metadata": {},
     "output_type": "display_data"
    },
    {
     "data": {
      "text/html": [
       "<p>What can I do to solve this?</p>"
      ],
      "text/plain": [
       "<IPython.core.display.HTML object>"
      ]
     },
     "metadata": {},
     "output_type": "display_data"
    },
    {
     "data": {
      "text/html": [
       "<p><em>About this question - obviously inspired by <a href=\"https://stackoverflow.com/questions/3988788/what-is-a-stack-trace-and-how-can-i-use-it-to-debug-my-application-errors\">What is a stack trace, and how can I use it to debug my application errors?</a>, there are lots of questions stating that their application has crashed, without any further detail. This question aims to instruct novice Android programmers on how to try and fix their problems themselves, or ask the right questions.</em></p>"
      ],
      "text/plain": [
       "<IPython.core.display.HTML object>"
      ]
     },
     "metadata": {},
     "output_type": "display_data"
    },
    {
     "data": {
      "text/html": [
       "<p>How would you explain JavaScript closures to someone with a knowledge of the concepts they consist of (for example functions, variables and the like), but does not understand closures themselves?</p>"
      ],
      "text/plain": [
       "<IPython.core.display.HTML object>"
      ]
     },
     "metadata": {},
     "output_type": "display_data"
    },
    {
     "data": {
      "text/html": [
       "<p>I have seen <a href=\"http://en.wikipedia.org/wiki/Scheme_%28programming_language%29\" rel=\"noreferrer\">the Scheme example</a> given on Wikipedia, but unfortunately it did not help.</p>"
      ],
      "text/plain": [
       "<IPython.core.display.HTML object>"
      ]
     },
     "metadata": {},
     "output_type": "display_data"
    },
    {
     "data": {
      "text/html": [
       "<p>I needed to create a list of lists in Python, so I typed the following:</p>"
      ],
      "text/plain": [
       "<IPython.core.display.HTML object>"
      ]
     },
     "metadata": {},
     "output_type": "display_data"
    },
    {
     "data": {
      "text/html": [
       "<p>The list looked like this:</p>"
      ],
      "text/plain": [
       "<IPython.core.display.HTML object>"
      ]
     },
     "metadata": {},
     "output_type": "display_data"
    },
    {
     "data": {
      "text/html": [
       "<p>Then I changed one of the innermost values:</p>"
      ],
      "text/plain": [
       "<IPython.core.display.HTML object>"
      ]
     },
     "metadata": {},
     "output_type": "display_data"
    },
    {
     "data": {
      "text/html": [
       "<p>Now my list looks like this:</p>"
      ],
      "text/plain": [
       "<IPython.core.display.HTML object>"
      ]
     },
     "metadata": {},
     "output_type": "display_data"
    },
    {
     "data": {
      "text/html": [
       "<p>which is not what I wanted or expected. Can someone please explain what's going on, and how to get around it?</p>"
      ],
      "text/plain": [
       "<IPython.core.display.HTML object>"
      ]
     },
     "metadata": {},
     "output_type": "display_data"
    }
   ],
   "source": [
    "# run this block to get saved data/scrape data\n",
    "STACK_OVERFLOW_ARTICLES_ADDRESS = Path(\"stack_overflow_articles.pickle\")\n",
    "if STACK_OVERFLOW_ARTICLES_ADDRESS.is_file():\n",
    "    with open(STACK_OVERFLOW_ARTICLES_ADDRESS, \"rb\") as f:\n",
    "        stack_overflow_articles = pickle.load(f)\n",
    "\n",
    "else:\n",
    "    stack_overflow_articles = get_stack_overflow_articles()\n",
    "    STACK_OVERFLOW_ARTICLES_ADDRESS.touch(exist_ok=True)\n",
    "    with open(STACK_OVERFLOW_ARTICLES_ADDRESS, \"wb\") as f:\n",
    "        pickle.dump(stack_overflow_articles, f)"
   ]
  },
  {
   "cell_type": "code",
   "execution_count": 13,
   "id": "cebf4cde",
   "metadata": {},
   "outputs": [
    {
     "data": {
      "text/plain": [
       "[('When discussing performance with colleagues, teaching, sending a bug report or searching for guidance on mailing lists and here on Stack\\xa0Overflow, a reproducible example is often asked and always helpful. What are your tips for creating an excellent example? How do you paste data structures from r in a text format? What other information should you include? Are there other tricks in addition to using dput(), dump() or structure()?  When should you include library() or require() statements?  Which reserved words should one avoid, in addition to c, df, data, etc.? How does one make a great r reproducible example?',\n",
       "  'https://stackoverflow.com//questions/5963269/how-to-make-a-great-r-reproducible-example'),\n",
       " ('What are Null Pointer Exceptions (java.lang.NullPointerException) and what causes them? What methods/tools can be used to determine the cause so that you stop the exception from causing the program to terminate prematurely?',\n",
       "  'https://stackoverflow.com//questions/218384/what-is-a-nullpointerexception-and-how-do-i-fix-it'),\n",
       " (\"I have a function foo which makes an asynchronous request. How can I return the response/result from foo? I am trying to return the value from the callback, as well as assigning the result to a local variable inside the function and returning that one, but none of those ways actually return the response (they all return undefined or whatever the initial value of the variable result is). Example using jQuery's ajax function: Example using Node.js: Example using the then block of a promise:\",\n",
       "  'https://stackoverflow.com//questions/14220321/how-to-return-the-response-from-an-asynchronous-call'),\n",
       " (\"If user input is inserted without modification into an SQL query, then the application becomes vulnerable to SQL injection, like in the following example: That's because the user can input something like value'); DROP TABLE table;--, and the query becomes: What can be done to prevent this from happening?\",\n",
       "  'https://stackoverflow.com//questions/60174/how-can-i-prevent-sql-injection-in-php'),\n",
       " (\"I need to match all of these opening tags: But not these: I came up with this and wanted to make sure I've got it right. I am only capturing the a-z. I believe it says: Do I have that right? And more importantly, what do you think?\",\n",
       "  'https://stackoverflow.com//questions/1732348/regex-match-open-tags-except-xhtml-self-contained-tags'),\n",
       " ('I have some code and when it executes, it throws a NullReferenceException, saying: Object reference not set to an instance of an object. What does this mean, and what can I do to fix this error?',\n",
       "  'https://stackoverflow.com//questions/4660142/what-is-a-nullreferenceexception-and-how-do-i-fix-it'),\n",
       " ('Consider the following code:\\n Why do these inaccuracies happen?',\n",
       "  'https://stackoverflow.com//questions/588004/is-floating-point-math-broken'),\n",
       " (\"I've been using the == operator in my program to compare all my strings so far.\\nHowever, I ran into a bug, changed one of them into .equals() instead, and it fixed the bug. Is == bad? When should it and should it not be used? What's the difference?\",\n",
       "  'https://stackoverflow.com//questions/513832/how-do-i-compare-strings-in-java'),\n",
       " ('This question attempts to collect the few pearls among the dozens of bad C++ books that are published every year. Unlike many other programming languages, which are often picked up on the go from tutorials found on the Internet, few are able to quickly pick up C++ without studying a well-written C++ book. It is way too big and complex for doing this. In fact, it is so big and complex, that there are very many very bad C++ books out there. And we are not talking about bad style, but things like sporting glaringly obvious factual errors and promoting abysmally bad programming styles. Please edit the accepted answer to provide quality books and an approximate skill level — preferably after discussing your addition in the C++ chat room. (The regulars might mercilessly undo your work if they disagree with a recommendation.) Add a short blurb/description about each book that you have personally read/benefited from. Feel free to debate quality, headings, etc. Books that meet the criteria will be added to the list.  Books that have reviews by the Association of C and C++ Users (ACCU) have links to the review. *Note: FAQs and other resources can be found in the C++ tag info and under c++-faq. ',\n",
       "  'https://stackoverflow.com//questions/388242/the-definitive-c-book-guide-and-list'),\n",
       " (\"I'm running a PHP script and continue to receive errors like: Notice: Undefined variable: my_variable_name in C:\\\\wamp\\\\www\\\\mypath\\\\index.php on line 10 Notice: Undefined index: my_index C:\\\\wamp\\\\www\\\\mypath\\\\index.php on line 11 Line 10 and 11 looks like this: What is the meaning of these error messages? Why do they appear all of a sudden? I used to use this script for years and I've never had any problem. How do I fix them? This is a General Reference question for people to link to as duplicate, instead of having to explain the issue over and over again. I feel this is necessary because most real-world answers on this issue are very specific.  Related Meta discussion:\",\n",
       "  'https://stackoverflow.com//questions/4261133/notice-undefined-variable-notice-undefined-index-and-notice-undefined'),\n",
       " ('What are undefined reference/unresolved external symbol errors? What are common causes and how to fix/prevent them?',\n",
       "  'https://stackoverflow.com//questions/12573816/what-is-an-undefined-reference-unresolved-external-symbol-error-and-how-do-i-fix'),\n",
       " (\"What are the technical reasons for why one shouldn't use mysql_* functions? (e.g. mysql_query(), mysql_connect() or mysql_real_escape_string())? Why should I use something else even if they work on my site? If they don't work on my site, why do I get errors like  Warning: mysql_connect(): No such file or directory\",\n",
       "  'https://stackoverflow.com//questions/12859942/why-shouldnt-i-use-mysql-functions-in-php'),\n",
       " ('Everyone runs into syntax errors. Even experienced programmers make typos. For newcomers, it\\'s just part of the learning process. However, it\\'s often easy to interpret error messages such as: PHP Parse error: syntax error, unexpected \\'{\\' in index.php on line 20 The unexpected symbol isn\\'t always the real culprit. But the line number gives a rough idea of where to start looking. Always look at the code context. The syntax mistake often hides in the mentioned or in previous code lines. Compare your code against syntax examples from the manual. While not every case matches the other. Yet there are some general steps to solve syntax mistakes.\\nThis references summarized the common pitfalls: Unexpected T_STRING Unexpected T_VARIABLE  Unexpected \\'$varname\\' (T_VARIABLE) Unexpected T_CONSTANT_ENCAPSED_STRING  Unexpected T_ENCAPSED_AND_WHITESPACE Unexpected $end Unexpected T_FUNCTION… Unexpected {Unexpected }Unexpected (Unexpected ) Unexpected [Unexpected ] Unexpected T_IF  Unexpected T_FOREACH  Unexpected T_FOR  Unexpected T_WHILE  Unexpected T_DO  Unexpected T_PRINT  Unexpected T_ECHO Unexpected T_LNUMBER Unexpected ? Unexpected continue (T_CONTINUE)Unexpected continue (T_BREAK)Unexpected continue (T_RETURN) Unexpected \\'=\\' Unexpected T_INLINE_HTML… Unexpected T_PAAMAYIM_NEKUDOTAYIM… Unexpected T_OBJECT_OPERATOR… Unexpected T_DOUBLE_ARROW… Unexpected T_SL… Unexpected T_BOOLEAN_OR…\\n\\nUnexpected T_BOOLEAN_AND… Unexpected T_IS_EQUAL \\nUnexpected T_IS_GREATER_OR_EQUAL \\nUnexpected T_IS_IDENTICAL \\nUnexpected T_IS_NOT_EQUAL \\nUnexpected T_IS_NOT_IDENTICAL \\nUnexpected T_IS_SMALLER_OR_EQUAL \\nUnexpected < \\nUnexpected > Unexpected T_NS_SEPARATOR… Unexpected character in input: \\'\\\\\\' (ASCII=92) state=1 Unexpected \\'public\\' (T_PUBLIC)  Unexpected \\'private\\' (T_PRIVATE)  Unexpected \\'protected\\' (T_PROTECTED)  Unexpected \\'final\\' (T_FINAL)… Unexpected T_STATIC… Unexpected T_CLASS… Unexpected \\'use\\' (T_USE) Unexpected T_DNUMBER Unexpected , (comma) Unpexected . (period) Unexpected ; (semicolon) Unexpected * (asterisk) Unexpected : (colon) Unexpected \\':\\', expecting \\',\\' or \\')\\' Unexpected & (call-time pass-by-reference) Unexpected . Closely related references: And: While Stack Overflow is also welcoming rookie coders, it\\'s mostly targetted at professional programming questions. If your browser displays error messages such as \"SyntaxError: illegal character\", then it\\'s not actually php-related, but a javascript-syntax error. Syntax errors raised on vendor code: Finally, consider that if the syntax error was not raised by editing your codebase, but after an external vendor package install or upgrade, it could be due to PHP version incompatibility, so check the vendor\\'s requirements against your platform setup.',\n",
       "  'https://stackoverflow.com//questions/18050071/php-parse-syntax-errors-and-how-to-solve-them'),\n",
       " (\"I have a bit of code where I am looping through all the select boxes on a page and binding a .hover event to them to do a bit of twiddling with their width on mouse on/off. This happens on page ready and works just fine. The problem I have is that any select boxes I add via Ajax or DOM after the initial loop won't have the event bound. I have found this plugin (jQuery Live Query Plugin), but before I add another 5k to my pages with a plugin, I want to see if anyone knows a way to do this, either with jQuery directly or by another option.\",\n",
       "  'https://stackoverflow.com//questions/203198/event-binding-on-dynamically-created-elements'),\n",
       " ('In this question, someone suggested in a comment that I should not cast the result of malloc. i.e., I should do this: rather than: Why would this be the case?',\n",
       "  'https://stackoverflow.com//questions/605845/do-i-cast-the-result-of-malloc'),\n",
       " ('\\n\\nvar funcs = [];\\n// let\\'s create 3 functions\\nfor (var i = 0; i < 3; i++) {\\n  // and store them in funcs\\n  funcs[i] = function() {\\n    // each should log its value.\\n    console.log(\"My value: \" + i);\\n  };\\n}\\nfor (var j = 0; j < 3; j++) {\\n  // and now let\\'s run each one to see\\n  funcs[j]();\\n}\\n\\n\\n It outputs this: My value: 3\\nMy value: 3\\nMy value: 3 Whereas I\\'d like it to output: My value: 0\\nMy value: 1\\nMy value: 2 The same problem occurs when the delay in running the function is caused by using event listeners: \\n\\nvar buttons = document.getElementsByTagName(\"button\");\\n// let\\'s create 3 functions\\nfor (var i = 0; i < buttons.length; i++) {\\n  // as event listeners\\n  buttons[i].addEventListener(\"click\", function() {\\n    // each should log its value.\\n    console.log(\"My value: \" + i);\\n  });\\n}\\n<button>0</button>\\n<br />\\n<button>1</button>\\n<br />\\n<button>2</button>\\n\\n\\n … or asynchronous code, e.g. using Promises: \\n\\n// Some async wait function\\nconst wait = (ms) => new Promise((resolve, reject) => setTimeout(resolve, ms));\\n\\nfor (var i = 0; i < 3; i++) {\\n  // Log `i` as soon as each promise resolves.\\n  wait(i * 100).then(() => console.log(i));\\n}\\n\\n\\n It is also apparent in for in and for of loops: \\n\\nconst arr = [1,2,3];\\nconst fns = [];\\n\\nfor(var i in arr){\\n  fns.push(() => console.log(`index: ${i}`));\\n}\\n\\nfor(var v of arr){\\n  fns.push(() => console.log(`value: ${v}`));\\n}\\n\\nfor(var f of fns){\\n  f();\\n}\\n\\n\\n What’s the solution to this basic problem?',\n",
       "  'https://stackoverflow.com//questions/750486/javascript-closure-inside-loops-simple-practical-example'),\n",
       " (\"I have a constructor function which registers an event handler: \\n\\nfunction MyConstructor(data, transport) {\\n    this.data = data;\\n    transport.on('data', function () {\\n        alert(this.data);\\n    });\\n}\\n\\n// Mock transport object\\nvar transport = {\\n    on: function(event, callback) {\\n        setTimeout(callback, 1000);\\n    }\\n};\\n\\n// called as\\nvar obj = new MyConstructor('foo', transport);\\n\\n\\n However, I'm not able to access the data property of the created object inside the callback. It looks like this does not refer to the object that was created, but to another one. I also tried to use an object method instead of an anonymous function: but it exhibits the same problems. How can I access the correct object?\",\n",
       "  'https://stackoverflow.com//questions/20279484/how-to-access-the-correct-this-inside-a-callback'),\n",
       " (\"I've heard much about the understandable abhorrence of using .Select in Excel VBA, but I am unsure of how to avoid using it. I am finding that my code would be more re-usable if I were able to use variables instead of Select functions. However, I am not sure how to refer to things (like the ActiveCell, etc.) if not using Select. I have found this article on ranges and this example on the benefits of not using select, but I can't find anything on how.\",\n",
       "  'https://stackoverflow.com//questions/10714251/how-to-avoid-using-select-in-excel-vba'),\n",
       " (\"This is a collection of common Q&A. This is also a Community Wiki, so everyone is invited to participate in maintaining it. regex is suffering from give me ze code type of questions and poor answers with no explanation. This reference is meant to provide links to quality Q&A. This reference is meant for the following languages: php, perl, javascript, python, ruby, java, .net. This might be too broad, but these languages share the same syntax. For specific features there's the tag of the language behind it, example:\",\n",
       "  'https://stackoverflow.com//questions/22937618/reference-what-does-this-regex-mean'),\n",
       " (\"Given the following examples, why is outerScopeVar undefined in all cases?      Why does it output undefined in all of these examples? I don't want workarounds, I want to know why this is happening. Note: This is a canonical question for JavaScript asynchronicity. Feel free to improve this question and add more simplified examples which the community can identify with.\",\n",
       "  'https://stackoverflow.com//questions/23667086/why-is-my-variable-unaltered-after-i-modify-it-inside-of-a-function-asynchron'),\n",
       " ('This is a number of answers about warnings, errors, and notices you might encounter while programming PHP and have no clue how to fix them. This is also a Community Wiki, so everyone is invited to participate adding to and maintaining this list. Questions like \"Headers already sent\" or \"Calling a member of a non-object\" pop up frequently on Stack Overflow. The root cause of those questions is always the same. So the answers to those questions typically repeat them and then show the OP which line to change in their particular case. These answers do not add any value to the site because they only apply to the OP\\'s particular code. Other users having the same error cannot easily read the solution out of it because they are too localized. That is sad because once you understood the root cause, fixing the error is trivial. Hence, this list tries to explain the solution in a general way to apply. If your question has been marked as a duplicate of this one, please find your error message below and apply the fix to your code. The answers usually contain further links to investigate in case it shouldn\\'t be clear from the general answer alone. If you want to contribute, please add your \"favorite\" error message, warning or notice, one per answer, a short description what it means (even if it is only highlighting terms to their manual page), a possible solution or debugging approach and a listing of existing Q&A that are of value. Also, feel free to improve any existing answers. Also, see:',\n",
       "  'https://stackoverflow.com//questions/12769982/reference-what-does-this-error-mean-in-php'),\n",
       " ('I\\'ve tried creating a simple mail form. The form itself is on my index.html page, but it submits to a separate \"thank you for your submission\" page, thankyou.php, where the above PHP code is embedded.\\nThe code submits perfectly, but never sends an email. How can I fix this?',\n",
       "  'https://stackoverflow.com//questions/24644436/php-mail-function-doesnt-complete-sending-of-e-mail'),\n",
       " (\"I've been told by others that writing using namespace std; in code is wrong, and that I should use std::cout and std::cin directly instead. Why is using namespace std; considered a bad practice? Is it inefficient or does it risk declaring ambiguous variables (variables that share the same name as a function in std namespace)? Does it impact performance?\",\n",
       "  'https://stackoverflow.com//questions/1452721/why-is-using-namespace-std-considered-bad-practice'),\n",
       " ('When running my script, I am getting several errors like this: Warning: Cannot modify header information - headers already sent by (output started at /some/file.php:12) in /some/file.php on line 23 The lines mentioned in the error messages contain header() and setcookie() calls. What could be the reason for this? And how to fix it?',\n",
       "  'https://stackoverflow.com//questions/8028957/how-to-fix-headers-already-sent-error-in-php'),\n",
       " (\"I always thought Java uses pass-by-reference. However, I've seen a blog post that claims that Java uses pass-by-value. I don't think I understand the distinction they're making. What is the explanation?\",\n",
       "  'https://stackoverflow.com//questions/40480/is-java-pass-by-reference-or-pass-by-value'),\n",
       " (\"\\nI'm setting up a new server and want to support UTF-8 fully in my web application. I have tried this in the past on existing servers and always seem to end up having to fall back to ISO-8859-1. Where exactly do I need to set the encoding/charsets? I'm aware that I need to configure Apache, MySQL, and PHP to do this — is there some standard checklist I can follow, or perhaps troubleshoot where the mismatches occur? This is for a new Linux server, running MySQL 5, PHP, 5 and Apache 2.\",\n",
       "  'https://stackoverflow.com//questions/279170/utf-8-all-the-way-through'),\n",
       " (\"I am trying to learn the best way to write queries. I also understand the importance of being consistent. Until now, I have randomly used single quotes, double quotes, and backticks without any real thought. Example: Also, in the above example, consider that table, col1, val1, etc. may be variables. What is the standard for this? What do you do? I've been reading answers to similar questions on here for about 20 minutes, but it seems like there is no definitive answer to this question.\",\n",
       "  'https://stackoverflow.com//questions/11321491/when-to-use-single-quotes-double-quotes-and-backticks-in-mysql'),\n",
       " (\"Having spent a decent amount of time watching both the r and pandas tags on SO, the impression that I get is that pandas questions are less likely to contain reproducible data. This is something that the R community has been pretty good about encouraging, and thanks to guides like this, newcomers are able to get some help on putting together these examples. People who are able to read these guides and come back with reproducible data will often have much better luck getting answers to their questions. How can we create good reproducible examples for pandas questions? Simple dataframes can be put together, e.g.: But many example datasets need more complicated structure, e.g.: For datasets that are hard to mock up using a few lines of code, is there an equivalent to R's dput() that allows you to generate copy-pasteable code to regenerate your datastructure?\",\n",
       "  'https://stackoverflow.com//questions/20109391/how-to-make-good-reproducible-pandas-examples'),\n",
       " ('Quote from The C++ standard library: a tutorial and handbook: The only portable way of using templates at the moment is to implement them in header files by using inline functions. Why is this? (Clarification: header files are not the only portable solution. But they are the most convenient portable solution.)',\n",
       "  'https://stackoverflow.com//questions/495021/why-can-templates-only-be-implemented-in-the-header-file'),\n",
       " ('How can one parse HTML/XML and extract information from it?',\n",
       "  'https://stackoverflow.com//questions/3577641/how-do-you-parse-and-process-html-xml-in-php'),\n",
       " (\"I'm asking this question because I'm new to Java and Android and I searched for hours trying to figure this out. The answer came from a combination of related answers, so I figured I would document what I learned for anyone else who may be struggling. See answer. I'm using Android Studio 2.1.2 and my Java setup is the following:\",\n",
       "  'https://stackoverflow.com//questions/38922754/how-to-use-threetenabp-in-android-project'),\n",
       " ('What are the possible reasons for document.getElementById, $(\"#id\") or any other DOM method / jQuery selector not finding the elements? Example problems include: Uncaught TypeError: Cannot set property \\'...\\' of null\\nUncaught TypeError: Cannot set properties of null (setting \\'...\\')\\nUncaught TypeError: Cannot read property \\'...\\' of null\\nUncaught TypeError: Cannot read properties of null (reading \\'...\\') The most common forms are: Uncaught TypeError: Cannot set property \\'onclick\\' of null\\nUncaught TypeError: Cannot read property \\'addEventListener\\' of null\\nUncaught TypeError: Cannot read property \\'style\\' of null',\n",
       "  'https://stackoverflow.com//questions/14028959/why-does-jquery-or-a-dom-method-such-as-getelementbyid-not-find-the-element'),\n",
       " ('I have a nested data structure containing objects and arrays. How can I extract the information, i.e. access a specific or multiple values (or keys)? For example: How could I access the name of the second item in items?',\n",
       "  'https://stackoverflow.com//questions/11922383/how-can-i-access-and-process-nested-objects-arrays-or-json'),\n",
       " ('I just found a comment in this answer saying that using iostream::eof in a loop condition is \"almost certainly wrong\". I generally use something like while(cin>>n) - which I guess implicitly checks for EOF. Why is checking for eof explicitly using while (!cin.eof()) wrong?   How is it different from using scanf(\"...\",...)!=EOF in C (which I often use with no problems)?',\n",
       "  'https://stackoverflow.com//questions/5605125/why-is-iostreameof-inside-a-loop-condition-i-e-while-stream-eof-cons'),\n",
       " ('In my local/development environment, the MySQLi query is performing OK. However, when I upload it on my web host environment, I get this error: Fatal error: Call to a member function bind_param() on a non-object in... Here is the code: To check my query, I tried to execute the query via control panel phpMyAdmin and the result is OK.',\n",
       "  'https://stackoverflow.com//questions/22662488/mysqli-fetch-assoc-expects-parameter-call-to-a-member-function-bind-param'),\n",
       " ('Is there an SQL injection possibility even when using mysql_real_escape_string() function? Consider this sample situation. SQL is constructed in PHP like this: I have heard numerous people say to me that code like that is still dangerous and possible to hack even with mysql_real_escape_string() function used. But I cannot think of any possible exploit? Classic injections like this: do not work. Do you know of any possible injection that would get through the PHP code above?',\n",
       "  'https://stackoverflow.com//questions/5741187/sql-injection-that-gets-around-mysql-real-escape-string'),\n",
       " (\"I'm trying to make a function that will compare multiple variables to an integer and output a string of three letters. I was wondering if there was a way to translate this into Python. So say: which would return a list of: Is something like this possible?\",\n",
       "  'https://stackoverflow.com//questions/15112125/how-to-test-multiple-variables-against-a-single-value'),\n",
       " ('I am using the Scanner methods nextInt() and nextLine() for reading input.  It looks like this: The problem is that after entering the numerical value, the first input.nextLine() is skipped and the second input.nextLine() is executed, so that my output looks like this: I tested my application and it looks like the problem lies in using input.nextInt(). If I delete it, then both string1 = input.nextLine() and string2 = input.nextLine() are executed as I want them to be.',\n",
       "  'https://stackoverflow.com//questions/13102045/scanner-is-skipping-nextline-after-using-next-or-nextfoo'),\n",
       " ('What does ArrayIndexOutOfBoundsException mean and how do I get rid of it?  Here is a code sample that triggers the exception:',\n",
       "  'https://stackoverflow.com//questions/5554734/what-causes-a-java-lang-arrayindexoutofboundsexception-and-how-do-i-prevent-it'),\n",
       " ('I have this code: Why does this not write \"bar\" into my text file, but alerts \"42\"? NB: Earlier revisions of this question were explicitly about PHP on the server and JavaScript on the client. The essential nature of the problem and solutions is the same for any pair of languages when one is running on the client and the other on the server (even if they are the same language). Please take this in to account when you see answers talking about specific languages.',\n",
       "  'https://stackoverflow.com//questions/13840429/what-is-the-difference-between-client-side-and-server-side-programming'),\n",
       " ('What is wrong with using feof() to control a read loop?  For example: What is wrong with this loop?',\n",
       "  'https://stackoverflow.com//questions/5431941/why-is-while-feof-file-always-wrong'),\n",
       " ('',\n",
       "  'https://stackoverflow.com//questions/4172722/what-is-the-rule-of-three'),\n",
       " (\"I have noticed that there doesn't appear to be a clear explanation of what the this keyword is and how it is correctly (and incorrectly) used in JavaScript on the Stack Overflow site. I have witnessed some very strange behaviour with it and have failed to understand why it has occurred. How does this work and when should it be used?\",\n",
       "  'https://stackoverflow.com//questions/3127429/how-does-the-this-keyword-work'),\n",
       " ('I am writing a program that accepts an input from the user. The program works as expected as long as the the user enters meaningful data.  But it fails if the user enters invalid data: Instead of crashing, I would like the program to ask for the input again. Like this: How can I make the program ask for valid inputs instead of crashing when non-sensical data is entered? How can I reject values like -1, which is a valid int, but nonsensical in this context?',\n",
       "  'https://stackoverflow.com//questions/23294658/asking-the-user-for-input-until-they-give-a-valid-response'),\n",
       " ('How do I accomplish variable variables in Python? Here is an elaborative manual entry, for instance: Variable variables I hear this is a bad idea in general though, and it is a security hole in PHP. Is that true?',\n",
       "  'https://stackoverflow.com//questions/1373164/how-do-i-create-variable-variables'),\n",
       " ('In the official W3c webdirver documentation, it\\'s clearly stated that the location strategies are: However, Selenium\\'s wire protocol allowed: In THEORY, Selenium\\'s docs are obsolete and the \"real\" story is in the new spec document. However...  I ran some tests on the latest Chrome\\'s own Webdriver, and I can confirm that name and class name both work; however, they are not in the specs. I remember reading on a Chromium issue that they would only ever implement the official Webdriver specs. Now: I know the generic answer, where \"specs are not always followed 100%\" etc. However, what I\\'d like to know is:',\n",
       "  'https://stackoverflow.com//questions/48369043/official-locator-strategies-for-the-webdriver'),\n",
       " (\"I need a good explanation (references are a plus) on Python's slice notation.  To me, this notation needs a bit of picking up.  It looks extremely powerful, but I haven't quite got my head around it.\",\n",
       "  'https://stackoverflow.com//questions/509211/understanding-slice-notation'),\n",
       " ('I am developing an application, and everytime I run it, I get the message: Unfortunately, MyApp has stopped. What can I do to solve this? About this question - obviously inspired by What is a stack trace, and how can I use it to debug my application errors?, there are lots of questions stating that their application has crashed, without any further detail. This question aims to instruct novice Android programmers on how to try and fix their problems themselves, or ask the right questions.',\n",
       "  'https://stackoverflow.com//questions/23353173/unfortunately-myapp-has-stopped-how-can-i-solve-this'),\n",
       " ('How would you explain JavaScript closures to someone with a knowledge of the concepts they consist of (for example functions, variables and the like), but does not understand closures themselves? I have seen the Scheme example given on Wikipedia, but unfortunately it did not help.',\n",
       "  'https://stackoverflow.com//questions/111102/how-do-javascript-closures-work'),\n",
       " (\"I needed to create a list of lists in Python, so I typed the following: The list looked like this: Then I changed one of the innermost values: Now my list looks like this: which is not what I wanted or expected. Can someone please explain what's going on, and how to get around it?\",\n",
       "  'https://stackoverflow.com//questions/240178/list-of-lists-changes-reflected-across-sublists-unexpectedly')]"
      ]
     },
     "execution_count": 13,
     "metadata": {},
     "output_type": "execute_result"
    }
   ],
   "source": [
    "stack_overflow_articles"
   ]
  },
  {
   "cell_type": "code",
   "execution_count": 14,
   "id": "f3e3a1a5",
   "metadata": {},
   "outputs": [],
   "source": [
    "# scrape hardwarezone\n",
    "def get_hwz_articles():\n",
    "    HWZ_URL = \"https://forums.hardwarezone.com.sg/\"\n",
    "    page = requests.get(HWZ_URL)\n",
    "    soup = BeautifulSoup(page.text, \"html.parser\")\n",
    "    # get links to different news articles (the class is for this url, will differ across websites)\n",
    "    divs = soup.find_all(\"div\", \"structItem-title\")\n",
    "    content = []\n",
    "    for div in divs:\n",
    "        forum = BeautifulSoup(requests.get(f\"{HWZ_URL}{div.find('a')['href']}\").text, \"html.parser\")\n",
    "#         parent = article_page.find(\"div\", \"s-prose js-post-body\")\n",
    "        posts = [comment.text for comment in forum.find_all(\"div\", \"bbWrapper\")]\n",
    "        content.append((posts, f\"{HWZ_URL}{div.find('a')['href']}\"))\n",
    "    return content"
   ]
  },
  {
   "cell_type": "code",
   "execution_count": 15,
   "id": "9203638d",
   "metadata": {},
   "outputs": [],
   "source": [
    "# run this block to get saved data/scrape data\n",
    "HWZ_ARTICLES_PATH = Path(\"hwz_articles.pickle\")\n",
    "if HWZ_ARTICLES_PATH.is_file():\n",
    "    with open(HWZ_ARTICLES_PATH, \"rb\") as f:\n",
    "        hwz_articles = pickle.load(f)\n",
    "\n",
    "else:\n",
    "    hwz_articles = get_hwz_articles()\n",
    "    HWZ_ARTICLES_PATH.touch(exist_ok=True)\n",
    "    with open(HWZ_ARTICLES_PATH, \"wb\") as f:\n",
    "        pickle.dump(hwz_articles, f)"
   ]
  },
  {
   "cell_type": "code",
   "execution_count": 24,
   "id": "e1949ad9",
   "metadata": {},
   "outputs": [],
   "source": [
    "# dicussion of writing styles\n",
    "import random\n",
    "random.seed(200)\n",
    "\n",
    "cna_sample = random.sample(cna_articles, 2)\n",
    "stackoverflow_sample = random.sample(stack_overflow_articles, 2)\n",
    "hwz_sample = random.sample(hwz_articles, 2)\n"
   ]
  },
  {
   "cell_type": "code",
   "execution_count": 29,
   "id": "97ad659b",
   "metadata": {},
   "outputs": [
    {
     "name": "stdout",
     "output_type": "stream",
     "text": [
      "MELBOURNE :     Australia have renewed belief after finishing runner-up in the Rugby Championship on the back of four straight wins but they must keep \"emptying the tank\" on the field to get the country behind them, coach Dave Rennie said. The Wallabies recovered from a 3-0 whitewash by New Zealand to beat South Africa and Argentina twice each in the Rugby Championship and bring momentum into their northern hemisphere tour for tests against Japan, England, Scotland and Wales. \"You win a couple of tests and things change a bit but we also know things can swing the other way,\" Rennie told Australian broadcaster Channel Nine. \"We honestly believe if we want to get the country behind us we need consistent high-quality performances and they want to see our boys emptying the tank week after week and if they do that people will respect us regardless of the result. \"We've made a start but it's something that's a big focus for us.\" Rennie, in his second year in charge, said the Wallabies had made strides with their skill-sets and defence, and younger players had been learning quickly. But the side were \"miles away\" from the level required in terms of game awareness and management\". \"The ability to run down a clock, the ability to chew up time when you've got a decent lead and there's five minutes left,\" he said. \"Your understanding of how to win tight games and stay in it ... Sometimes it'll be ugly but you've got to find a way.\" The Wallabies face World Cup quarter-finalists Japan in Oita on Oct. 23 before heading to Britain for tests against England, Scotland and Wales. Rennie said the team's back-to-back wins against South Africa were good practice for northern hemisphere sides \"prepared to kick a fair bit of ball\". \"That'll be a really good test for us (in Japan) then over to the UK in what could be challenging conditions,\" he said. \"It's more opportunity for us to learn about each other.\"   (Reporting by Ian Ransom; Editing by Peter Rutherford)\n",
      "\n",
      "SINGAPORE: The Ministry of Manpower (MOM) has asked employers of foreign domestic workers to remind them not to engage in terrorism-related activities following \"the developments in Afghanistan\".  In an advisory on Wednesday (Oct 6), the ministry said the situation in Afghanistan may pose a security threat to surrounding countries and the rest of the world.  \"Radicals from Southeast Asia may also be inspired to travel to Afghanistan to take up arms with militant groups there,\" the advisory read.  MOM also urged employers to remind maids not to \"support or import foreign politics\" or to \"make any remarks that may incite violence or ill-will amongst the various communities, especially on the Internet\".  The Manpower Ministry warned that the Government \"will not condone any form of support of extremism, violence, and terrorism\" and would deal with anyone caught doing so \"severely\".  The advisory added that maids should alert the authorities if they know anyone \"affected by the Afghanistan crisis\". It also urged them to \"exercise caution (in making) donations for humanitarian causes, and do it through legitimate channels\".  The ministry provided materials in several languages: Bahasa Indonesia, Burmese, English, Tagalog and Tamil. The Ministry of Home Affairs and the Singapore Police Force also signed off on the advisory.  \"If you or your (domestic worker) know of anyone who may be involved in terrorism-related activities, alert the authorities immediately. Please call Police at 1800 255 000, or Internal Security Department at 1800 2626 473,\" the advisory said. CNA has contacted the Manpower Ministry for more information, including on whether a similar advisory was sent to companies that employ migrant workers.\n",
      "\n",
      "\n",
      "I am developing an application, and everytime I run it, I get the message: Unfortunately, MyApp has stopped. What can I do to solve this? About this question - obviously inspired by What is a stack trace, and how can I use it to debug my application errors?, there are lots of questions stating that their application has crashed, without any further detail. This question aims to instruct novice Android programmers on how to try and fix their problems themselves, or ask the right questions.\n",
      "\n",
      "In the official W3c webdirver documentation, it's clearly stated that the location strategies are: However, Selenium's wire protocol allowed: In THEORY, Selenium's docs are obsolete and the \"real\" story is in the new spec document. However...  I ran some tests on the latest Chrome's own Webdriver, and I can confirm that name and class name both work; however, they are not in the specs. I remember reading on a Chromium issue that they would only ever implement the official Webdriver specs. Now: I know the generic answer, where \"specs are not always followed 100%\" etc. However, what I'd like to know is:\n",
      "\n",
      "\n",
      "['', 'The news anchor got those sibeh act smart kind of bin. Sibeh er xin to watch. Wheres julie yoo sia.', 'fug the expert\\n\\nCNA PRESENTER IS SUPER KY', \"knn can Teoh Yik Yin comment on our healthcare situation?\\n\\nclose to collapsing still don't want leepork daily case...\\n\\n\\nSent from EDMWER app!\", 'The presenter is KY  ', '\\n\\nredorangeyellow said:\\n\\n\\n\\n\\t\\t\\tThe news anchor got those sibeh act smart kind of bin. Sibeh er xin to watch. Wheres julie yoo sia.\\n\\t\\t\\nClick to expand...\\n\\nyup called the sexpert \"prof\" like damn chummy with him', 'No difference from a keyboard warrior', '\\n\\nredorangeyellow said:\\n\\n\\n\\n\\t\\t\\tThe news anchor got those sibeh act smart kind of bin. Sibeh er xin to watch. Wheres julie yoo sia.\\n\\t\\t\\nClick to expand...\\n\\nagree. they copy american news anchor style. i hate to watch.', 'only Angela is keyi', 'Teo Yik Ying. One of the beasts who contributed to daily deaths and numbers.', 'this gal is keyi!!!!!', 'Wtf ish he talking abt.\\n\\nThose kenna tested positive are all quarrantined, tio boh?\\nMeans their kenna cobid ish still serious business tio boh?\\nAnd their potential to spread ish serious business until govt ish decision for present restriction ito boh?\\n\\nAnd the lumbers eberyday are truth and accurate tio boh?\\n\\nSho the facts ish reporked and pple are fearful, then being fearful ish the right reaction to the truth.', 'This guy said things that MTF ministers had oredi mentioned in press conferences, in others words, he is just a parrot.', \"10k cases let's go !\", 'for me is avril hong', 'All talk only la, wait for him to kena covid see what he says then ', 'Did you hear some one cough during the video.?']\n",
      "\n",
      "['but told to stay at home to recover?\\n\\nwhat is the use of paying for insurance??', 'Means you kumgong pay for expensive insurance', 'Insurance shld not be used this way if you are healthy or mild symptoms. It is people like you that treat insurance as if a staycation option tt is causing the rise in healthcare cost.', 'So that when you die your immediate family can get a huge payout and dont need to work', '\\n\\nStrikk said:\\n\\n\\n\\n\\t\\t\\tInsurance shld not be used this way if you are healthy or mild symptoms. It is people like you that treat insurance as if a staycation option tt is causing the rise in healthcare cost.\\n\\t\\t\\nClick to expand...\\n\\ni blame the chiobu insurance sales girl for pushing me such product', '\\n\\nasymmetric said:\\n\\n\\n\\n\\t\\t\\ti blame the chiobu insurance sales girl for pushing me such product\\n\\t\\t\\nClick to expand...\\n\\n\\ngo hire a high class whore, cheaper than everyone paying higher premium\\n\\n\\nSent from EDMWER app!', 'insurance agents laughing all the way to the bank', \"\\n\\nasymmetric said:\\n\\n\\n\\n\\t\\t\\tinsurance agents laughing all the way to the bank\\n\\t\\t\\nClick to expand...\\n\\nI want to the GE Changi office to terminate my investment link policy. Wah... the GE agents drive impressive cars. The current one from AIA drives a convertible audi. \\n\\nDepends on what policy you have... if investment link then can consider recouping the cash and have another policy for critical illness. Investment link generally have higher maintenance cost. It's best to have backup policy first before you terminate existing one.\"]\n",
      "\n",
      "\n"
     ]
    }
   ],
   "source": [
    "# is the first word in a sentence capitalized; do sentences follow good grammars; are the proper\n",
    "# nouns capitalized;\n",
    "\n",
    "for samples in [cna_sample, stackoverflow_sample, hwz_sample]:\n",
    "    (sample1, _), (sample2, _) = samples\n",
    "    print(f\"{sample1}\\n\\n{sample2}\\n\\n\")\n"
   ]
  }
 ],
 "metadata": {
  "kernelspec": {
   "display_name": "Python 3 (ipykernel)",
   "language": "python",
   "name": "python3"
  },
  "language_info": {
   "codemirror_mode": {
    "name": "ipython",
    "version": 3
   },
   "file_extension": ".py",
   "mimetype": "text/x-python",
   "name": "python",
   "nbconvert_exporter": "python",
   "pygments_lexer": "ipython3",
   "version": "3.9.7"
  }
 },
 "nbformat": 4,
 "nbformat_minor": 5
}
