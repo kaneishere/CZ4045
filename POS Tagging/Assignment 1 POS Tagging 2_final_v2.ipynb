{
 "cells": [
  {
   "cell_type": "code",
   "execution_count": 1,
   "id": "9ee24a40",
   "metadata": {},
   "outputs": [],
   "source": [
    "import numpy as np\n",
    "import pandas as pd\n",
    "import nltk\n",
    "from nltk import sent_tokenize\n",
    "from nltk import word_tokenize\n",
    "import spacy\n",
    "import os.path"
   ]
  },
  {
   "cell_type": "code",
   "execution_count": 2,
   "id": "15500aae",
   "metadata": {},
   "outputs": [
    {
     "data": {
      "text/plain": [
       "True"
      ]
     },
     "execution_count": 2,
     "metadata": {},
     "output_type": "execute_result"
    }
   ],
   "source": [
    "data_path = 'data/reviewSelected100.json'\n",
    "os.path.exists(data_path)"
   ]
  },
  {
   "cell_type": "code",
   "execution_count": 3,
   "id": "d25f8f4b",
   "metadata": {},
   "outputs": [
    {
     "data": {
      "text/html": [
       "<div>\n",
       "<style scoped>\n",
       "    .dataframe tbody tr th:only-of-type {\n",
       "        vertical-align: middle;\n",
       "    }\n",
       "\n",
       "    .dataframe tbody tr th {\n",
       "        vertical-align: top;\n",
       "    }\n",
       "\n",
       "    .dataframe thead th {\n",
       "        text-align: right;\n",
       "    }\n",
       "</style>\n",
       "<table border=\"1\" class=\"dataframe\">\n",
       "  <thead>\n",
       "    <tr style=\"text-align: right;\">\n",
       "      <th></th>\n",
       "      <th>review_id</th>\n",
       "      <th>user_id</th>\n",
       "      <th>business_id</th>\n",
       "      <th>stars</th>\n",
       "      <th>useful</th>\n",
       "      <th>funny</th>\n",
       "      <th>cool</th>\n",
       "      <th>text</th>\n",
       "      <th>date</th>\n",
       "    </tr>\n",
       "  </thead>\n",
       "  <tbody>\n",
       "    <tr>\n",
       "      <th>0</th>\n",
       "      <td>8aoJJdKEO3ypoZNszpPu7Q</td>\n",
       "      <td>bGgAL09pxLnV_FFgR4ZADg</td>\n",
       "      <td>ZBE-H_aUlicix_9vUGQPIQ</td>\n",
       "      <td>5</td>\n",
       "      <td>0</td>\n",
       "      <td>0</td>\n",
       "      <td>0</td>\n",
       "      <td>We had my Mother's Birthday Party here on 10/2...</td>\n",
       "      <td>2016-11-09 20:07:25</td>\n",
       "    </tr>\n",
       "    <tr>\n",
       "      <th>1</th>\n",
       "      <td>J5NOCLdhuhor7USRhtYZ8w</td>\n",
       "      <td>pFCb-1j6oI3TDjr26h2cJQ</td>\n",
       "      <td>e-YnECeZNt8ngm0tu4X9mQ</td>\n",
       "      <td>4</td>\n",
       "      <td>0</td>\n",
       "      <td>0</td>\n",
       "      <td>0</td>\n",
       "      <td>Good Korean grill near Eaton Centre. The marin...</td>\n",
       "      <td>2015-12-05 05:06:43</td>\n",
       "    </tr>\n",
       "    <tr>\n",
       "      <th>2</th>\n",
       "      <td>PXiLWAYRt3xnHaJ8MB4rzw</td>\n",
       "      <td>mEzc6LeTNiQgIVsq3poMbg</td>\n",
       "      <td>j7HO1YeMQGYo3KibMXZ5vg</td>\n",
       "      <td>5</td>\n",
       "      <td>2</td>\n",
       "      <td>1</td>\n",
       "      <td>3</td>\n",
       "      <td>Was recommended to try this place by few peopl...</td>\n",
       "      <td>2014-10-11 05:16:15</td>\n",
       "    </tr>\n",
       "    <tr>\n",
       "      <th>3</th>\n",
       "      <td>VrLarvxZYJm74yAqtpe9PQ</td>\n",
       "      <td>o-zUN2WEZgjQS7jnNsec0g</td>\n",
       "      <td>7e3PZzUpG5FYOTGt3O3ePA</td>\n",
       "      <td>3</td>\n",
       "      <td>0</td>\n",
       "      <td>0</td>\n",
       "      <td>0</td>\n",
       "      <td>Ambience: Would not expect something this nice...</td>\n",
       "      <td>2016-07-25 03:45:26</td>\n",
       "    </tr>\n",
       "    <tr>\n",
       "      <th>4</th>\n",
       "      <td>C1CUpidlVFprUCkApqzCmA</td>\n",
       "      <td>Wlx0iBXJvk4x0EeOt2Bz1Q</td>\n",
       "      <td>vuHzLZ7nAeT-EiecOkS5Og</td>\n",
       "      <td>1</td>\n",
       "      <td>11</td>\n",
       "      <td>0</td>\n",
       "      <td>3</td>\n",
       "      <td>Absolutely the WORST pool company that I have ...</td>\n",
       "      <td>2016-04-11 18:49:11</td>\n",
       "    </tr>\n",
       "  </tbody>\n",
       "</table>\n",
       "</div>"
      ],
      "text/plain": [
       "                review_id                 user_id             business_id  \\\n",
       "0  8aoJJdKEO3ypoZNszpPu7Q  bGgAL09pxLnV_FFgR4ZADg  ZBE-H_aUlicix_9vUGQPIQ   \n",
       "1  J5NOCLdhuhor7USRhtYZ8w  pFCb-1j6oI3TDjr26h2cJQ  e-YnECeZNt8ngm0tu4X9mQ   \n",
       "2  PXiLWAYRt3xnHaJ8MB4rzw  mEzc6LeTNiQgIVsq3poMbg  j7HO1YeMQGYo3KibMXZ5vg   \n",
       "3  VrLarvxZYJm74yAqtpe9PQ  o-zUN2WEZgjQS7jnNsec0g  7e3PZzUpG5FYOTGt3O3ePA   \n",
       "4  C1CUpidlVFprUCkApqzCmA  Wlx0iBXJvk4x0EeOt2Bz1Q  vuHzLZ7nAeT-EiecOkS5Og   \n",
       "\n",
       "   stars  useful  funny  cool  \\\n",
       "0      5       0      0     0   \n",
       "1      4       0      0     0   \n",
       "2      5       2      1     3   \n",
       "3      3       0      0     0   \n",
       "4      1      11      0     3   \n",
       "\n",
       "                                                text                date  \n",
       "0  We had my Mother's Birthday Party here on 10/2... 2016-11-09 20:07:25  \n",
       "1  Good Korean grill near Eaton Centre. The marin... 2015-12-05 05:06:43  \n",
       "2  Was recommended to try this place by few peopl... 2014-10-11 05:16:15  \n",
       "3  Ambience: Would not expect something this nice... 2016-07-25 03:45:26  \n",
       "4  Absolutely the WORST pool company that I have ... 2016-04-11 18:49:11  "
      ]
     },
     "execution_count": 3,
     "metadata": {},
     "output_type": "execute_result"
    }
   ],
   "source": [
    "review_df = pd.read_json(data_path, lines=True,encoding = \"ISO-8859-1\")\n",
    "review_df.head()"
   ]
  },
  {
   "cell_type": "code",
   "execution_count": 4,
   "id": "f88ba98d",
   "metadata": {},
   "outputs": [],
   "source": [
    "#Randomly generate five indexes\n",
    "review_random_idx = np.array(np.random.rand(5)*len(review_df), dtype=np.int32)"
   ]
  },
  {
   "cell_type": "code",
   "execution_count": 5,
   "id": "88774c61",
   "metadata": {},
   "outputs": [],
   "source": [
    "#Extract out those sentences \n",
    "review_random_df = review_df.iloc[review_random_idx]\n",
    "review_random_df = review_random_df.reset_index()"
   ]
  },
  {
   "cell_type": "code",
   "execution_count": 6,
   "id": "69720ea8",
   "metadata": {},
   "outputs": [
    {
     "name": "stdout",
     "output_type": "stream",
     "text": [
      "0    This place IS the quintessential hole in the w...\n",
      "1    Better than expected.   Less wait time than th...\n",
      "2    First let me say I will never come back to thi...\n",
      "3    Kandahar kabab and Chicken breast kabab are my...\n",
      "4    Perk-Cup is definitely a convenient spot to dr...\n",
      "Name: text, dtype: object\n"
     ]
    }
   ],
   "source": [
    "print(review_random_df['text'])"
   ]
  },
  {
   "cell_type": "code",
   "execution_count": 7,
   "id": "243d0d8c",
   "metadata": {},
   "outputs": [
    {
     "name": "stdout",
     "output_type": "stream",
     "text": [
      "This place IS the quintessential hole in the wall restaurant that you always heard about but never been to before. Amazingly enough it is located right off of Central Avenue which is a very busy road but because of the exterior of you would drive right past it and think nothing of it.\n",
      "\n",
      " DON'T DO THAT AGAIN!!! Stop HERE and eat! \n",
      "\n",
      "Cheese steak Sub JUST DO IT\n",
      "\n",
      "This place has a chicken parmesan pasta that you could literally eat with a fork if you were 105 years the chicken breast is so tender and succulent. \n",
      "One of the best pizzas I've had aside from an actual slice from NY.\n"
     ]
    }
   ],
   "source": [
    "print(review_random_df['text'].loc[0])"
   ]
  },
  {
   "cell_type": "markdown",
   "id": "70d65305",
   "metadata": {},
   "source": [
    "# Method 1 using NLTK"
   ]
  },
  {
   "cell_type": "code",
   "execution_count": 8,
   "id": "242dc8d8",
   "metadata": {},
   "outputs": [
    {
     "name": "stderr",
     "output_type": "stream",
     "text": [
      "[nltk_data] Downloading package punkt to\n",
      "[nltk_data]     /Users/guangxushen/nltk_data...\n",
      "[nltk_data]   Package punkt is already up-to-date!\n",
      "[nltk_data] Downloading package averaged_perceptron_tagger to\n",
      "[nltk_data]     /Users/guangxushen/nltk_data...\n",
      "[nltk_data]   Package averaged_perceptron_tagger is already up-to-\n",
      "[nltk_data]       date!\n"
     ]
    },
    {
     "data": {
      "text/plain": [
       "True"
      ]
     },
     "execution_count": 8,
     "metadata": {},
     "output_type": "execute_result"
    }
   ],
   "source": [
    "nltk.download('punkt')\n",
    "nltk.download('averaged_perceptron_tagger')"
   ]
  },
  {
   "cell_type": "code",
   "execution_count": 9,
   "id": "5a79ef6d",
   "metadata": {},
   "outputs": [],
   "source": [
    "#Tokenize the text\n",
    "review_random_df['tokenize'] = review_random_df['text'].apply(nltk.word_tokenize)\n",
    "#Tag those individual tokens respectively\n",
    "review_random_df['pos_tag'] = review_random_df['tokenize'].apply(nltk.pos_tag)"
   ]
  },
  {
   "cell_type": "code",
   "execution_count": 10,
   "id": "915e135e",
   "metadata": {},
   "outputs": [],
   "source": [
    "#Export the output as the resulting json\n",
    "review_random_df.to_json(r'output/reviewTagging5_1.json', orient='records', lines=True)"
   ]
  },
  {
   "cell_type": "markdown",
   "id": "d7707b74",
   "metadata": {},
   "source": [
    "# Method 2 using Spacy"
   ]
  },
  {
   "cell_type": "code",
   "execution_count": 11,
   "id": "1517b55f",
   "metadata": {},
   "outputs": [],
   "source": [
    "import en_core_web_sm\n",
    "\n",
    "nlp = en_core_web_sm.load()"
   ]
  },
  {
   "cell_type": "code",
   "execution_count": 12,
   "id": "4ac33a6d",
   "metadata": {},
   "outputs": [
    {
     "name": "stdout",
     "output_type": "stream",
     "text": [
      "<class 'spacy.tokens.doc.Doc'>\n"
     ]
    }
   ],
   "source": [
    "doc = nlp(review_random_df['text'].to_string())\n",
    "print(type(doc))"
   ]
  },
  {
   "cell_type": "code",
   "execution_count": 13,
   "id": "92027360",
   "metadata": {},
   "outputs": [
    {
     "name": "stdout",
     "output_type": "stream",
     "text": [
      "0    This place IS the quintessential hole in the w...\n",
      "1    Better than expected.   Less wait time than th...\n",
      "2    First let me say I will never come back to thi...\n",
      "3    Kandahar kabab and Chicken breast kabab are my...\n",
      "4    Perk-Cup is definitely a convenient spot to dr...\n",
      "11\n"
     ]
    }
   ],
   "source": [
    "print(doc)\n",
    "sentences = list(doc.sents)\n",
    "print(len(sentences))\n",
    "# doc.to_json(r'output/reviewTagging5_2_doc.json')"
   ]
  },
  {
   "cell_type": "code",
   "execution_count": 14,
   "id": "16519d08",
   "metadata": {},
   "outputs": [],
   "source": [
    "#Get each of the line ready for pos tagging\n",
    "doc_0 = nlp(review_random_df.loc[0]['text'])\n",
    "doc_1 = nlp(review_random_df.loc[1]['text'])\n",
    "doc_2 = nlp(review_random_df.loc[2]['text'])\n",
    "doc_3 = nlp(review_random_df.loc[3]['text'])\n",
    "doc_4 = nlp(review_random_df.loc[2]['text'])"
   ]
  },
  {
   "cell_type": "code",
   "execution_count": 15,
   "id": "519af20a",
   "metadata": {},
   "outputs": [
    {
     "name": "stdout",
     "output_type": "stream",
     "text": [
      "Better than expected.   Less wait time than the Val Vista/ Williams Field location.  Thorough cleaning for the basic\n",
      "3\n"
     ]
    }
   ],
   "source": [
    "#checking of the sentence obtained\n",
    "print(doc_1)\n",
    "sentence_1 = list(doc_1.sents)\n",
    "print(len(sentence_1))"
   ]
  },
  {
   "cell_type": "code",
   "execution_count": 16,
   "id": "c4a3048b",
   "metadata": {},
   "outputs": [
    {
     "name": "stdout",
     "output_type": "stream",
     "text": [
      "===================\n",
      "POS Tag for sentence 1\n",
      "[['This', 'DET'], ['place', 'NOUN'], ['IS', 'VERB'], ['the', 'DET'], ['quintessential', 'ADJ'], ['hole', 'NOUN'], ['in', 'ADP'], ['the', 'DET'], ['wall', 'PROPN'], ['restaurant', 'NOUN'], ['that', 'DET'], ['you', 'PRON'], ['always', 'ADV'], ['heard', 'VERB'], ['about', 'ADP'], ['but', 'CCONJ'], ['never', 'ADV'], ['been', 'AUX'], ['to', 'ADP'], ['before', 'ADV'], ['.', 'PUNCT'], ['Amazingly', 'ADV'], ['enough', 'ADV'], ['it', 'PRON'], ['is', 'AUX'], ['located', 'VERB'], ['right', 'ADV'], ['off', 'ADP'], ['of', 'ADP'], ['Central', 'PROPN'], ['Avenue', 'PROPN'], ['which', 'DET'], ['is', 'AUX'], ['a', 'DET'], ['very', 'ADV'], ['busy', 'ADJ'], ['road', 'NOUN'], ['but', 'CCONJ'], ['because', 'SCONJ'], ['of', 'ADP'], ['the', 'DET'], ['exterior', 'NOUN'], ['of', 'ADP'], ['you', 'PRON'], ['would', 'VERB'], ['drive', 'VERB'], ['right', 'ADV'], ['past', 'ADP'], ['it', 'PRON'], ['and', 'CCONJ'], ['think', 'VERB'], ['nothing', 'PRON'], ['of', 'ADP'], ['it', 'PRON'], ['.', 'PUNCT'], ['\\n\\n ', 'SPACE'], [\"DON'T\", 'PROPN'], ['DO', 'VERB'], ['THAT', 'DET'], ['AGAIN', 'ADV'], ['!', 'PUNCT'], ['!', 'PUNCT'], ['!', 'PUNCT'], ['Stop', 'VERB'], ['HERE', 'ADV'], ['and', 'CCONJ'], ['eat', 'VERB'], ['!', 'PUNCT'], ['\\n\\n', 'SPACE'], ['Cheese', 'NOUN'], ['steak', 'NOUN'], ['Sub', 'PROPN'], ['JUST', 'ADV'], ['DO', 'VERB'], ['IT', 'NOUN'], ['\\n\\n', 'SPACE'], ['This', 'DET'], ['place', 'NOUN'], ['has', 'AUX'], ['a', 'DET'], ['chicken', 'NOUN'], ['parmesan', 'ADJ'], ['pasta', 'NOUN'], ['that', 'DET'], ['you', 'PRON'], ['could', 'VERB'], ['literally', 'ADV'], ['eat', 'VERB'], ['with', 'ADP'], ['a', 'DET'], ['fork', 'NOUN'], ['if', 'SCONJ'], ['you', 'PRON'], ['were', 'AUX'], ['105', 'NUM'], ['years', 'NOUN'], ['the', 'DET'], ['chicken', 'NOUN'], ['breast', 'NOUN'], ['is', 'AUX'], ['so', 'ADV'], ['tender', 'ADJ'], ['and', 'CCONJ'], ['succulent', 'ADJ'], ['.', 'PUNCT'], ['\\n', 'SPACE'], ['One', 'NUM'], ['of', 'ADP'], ['the', 'DET'], ['best', 'ADJ'], ['pizzas', 'NOUN'], ['I', 'PRON'], [\"'ve\", 'AUX'], ['had', 'VERB'], ['aside', 'ADV'], ['from', 'ADP'], ['an', 'DET'], ['actual', 'ADJ'], ['slice', 'NOUN'], ['from', 'ADP'], ['NY', 'PROPN'], ['.', 'PUNCT']]\n",
      "===================\n",
      "POS Tag for sentence 2\n",
      "[['Better', 'ADJ'], ['than', 'SCONJ'], ['expected', 'VERB'], ['.', 'PUNCT'], ['  ', 'SPACE'], ['Less', 'ADJ'], ['wait', 'VERB'], ['time', 'NOUN'], ['than', 'SCONJ'], ['the', 'DET'], ['Val', 'PROPN'], ['Vista/', 'PROPN'], ['Williams', 'PROPN'], ['Field', 'NOUN'], ['location', 'NOUN'], ['.', 'PUNCT'], [' ', 'SPACE'], ['Thorough', 'ADJ'], ['cleaning', 'VERB'], ['for', 'ADP'], ['the', 'DET'], ['basic', 'ADJ']]\n",
      "===================\n",
      "POS Tag for sentence 3\n",
      "[['First', 'ADV'], ['let', 'VERB'], ['me', 'PRON'], ['say', 'VERB'], ['I', 'PRON'], ['will', 'VERB'], ['never', 'ADV'], ['come', 'VERB'], ['back', 'ADV'], ['to', 'ADP'], ['this', 'DET'], ['place', 'NOUN'], ['and', 'CCONJ'], ['they', 'PRON'], ['jacked', 'VERB'], ['my', 'DET'], ['Coach', 'PROPN'], ['sunglasses', 'NOUN'], ['!', 'PUNCT'], ['!', 'PUNCT'], ['I', 'PRON'], ['was', 'AUX'], ['impressed', 'ADJ'], ['upon', 'SCONJ'], ['initially', 'ADV'], ['walking', 'VERB'], ['in', 'ADP'], ['b', 'NOUN'], ['/', 'SYM'], ['c', 'NOUN'], ['it', 'PRON'], ['smelled', 'VERB'], ['great', 'ADJ'], ['.', 'PUNCT'], ['They', 'PRON'], ['offer', 'VERB'], ['you', 'PRON'], ['a', 'DET'], ['free', 'ADJ'], ['taste', 'NOUN'], ['of', 'ADP'], ['bread', 'NOUN'], ['as', 'SCONJ'], ['you', 'PRON'], ['walk', 'VERB'], ['in', 'ADV'], ['.', 'PUNCT'], ['My', 'DET'], ['bf', 'NOUN'], ['went', 'VERB'], ['w/', 'PROPN'], ['red', 'ADJ'], [',', 'PUNCT'], ['white', 'ADJ'], ['and', 'CCONJ'], ['blue', 'ADJ'], ['.', 'PUNCT'], ['It', 'PRON'], ['was', 'AUX'], ['good', 'ADJ'], ['but', 'CCONJ'], ['not', 'PART'], ['spectacular', 'ADJ'], ['.', 'PUNCT'], ['I', 'PRON'], ['went', 'VERB'], ['w/', 'PROPN'], ['Coconut', 'PROPN'], ['Walnut', 'PROPN'], ['.', 'PUNCT'], ['OMG', 'PROPN'], ['really', 'ADV'], ['good', 'ADJ'], ['.', 'PUNCT'], ['but', 'CCONJ'], ['the', 'DET'], ['service', 'NOUN'], ['RUINED', 'VERB'], ['it', 'PRON'], ['for', 'ADP'], ['me', 'PRON'], ['.', 'PUNCT'], ['\\n\\n', 'SPACE'], ['We', 'PRON'], ['came', 'VERB'], ['in', 'ADP'], ['for', 'ADP'], ['a', 'DET'], ['brkfst', 'NOUN'], ['sandwich', 'NOUN'], ['of', 'ADP'], ['which', 'DET'], ['they', 'PRON'], ['only', 'ADV'], ['have', 'AUX'], ['2', 'NUM'], ['options', 'NOUN'], ['eggs', 'NOUN'], ['and', 'CCONJ'], ['ham', 'NOUN'], ['or', 'CCONJ'], ['eggs', 'NOUN'], ['and', 'CCONJ'], ['bacon', 'NOUN'], ['-', 'PUNCT'], ['seems', 'VERB'], ['simple', 'ADJ'], ['enough', 'ADV'], ['right', 'ADJ'], ['?', 'PUNCT'], ['you', 'PRON'], ['also', 'ADV'], ['(', 'PUNCT'], [\"acc'd\", 'NOUN'], ['to', 'ADP'], ['the', 'DET'], ['paper', 'NOUN'], ['you', 'PRON'], ['write', 'VERB'], ['your', 'DET'], ['order', 'NOUN'], ['down', 'ADP'], ['on', 'ADP'], ['yourself', 'PRON'], [')', 'PUNCT'], ['to', 'PART'], ['add', 'VERB'], ['tomato', 'PROPN'], ['or', 'CCONJ'], ['green', 'ADJ'], ['pepper', 'NOUN'], ['.', 'PUNCT'], ['Odd', 'ADJ'], ['combo', 'NOUN'], ['but', 'CCONJ'], ['ok', 'INTJ'], ['.', 'PUNCT'], ['mybf', 'PROPN'], ['ordered', 'VERB'], ['\\n', 'SPACE'], ['1', 'X'], [')', 'PUNCT'], ['ham', 'NOUN'], [',', 'PUNCT'], ['egg', 'NOUN'], [',', 'PUNCT'], ['cheese', 'NOUN'], [',', 'PUNCT'], ['tomato', 'NOUN'], ['and', 'CCONJ'], ['green', 'ADJ'], ['peppers', 'NOUN'], ['\\n', 'SPACE'], ['me', 'PRON'], ['i', 'PRON'], ['ordered', 'VERB'], [':', 'PUNCT'], ['\\n', 'SPACE'], ['2', 'X'], [')', 'PUNCT'], ['bacon', 'NOUN'], [',', 'PUNCT'], ['egg', 'NOUN'], [',', 'PUNCT'], ['cheese', 'NOUN'], ['and', 'CCONJ'], ['green', 'ADJ'], ['peppers', 'NOUN'], ['\\n\\n', 'SPACE'], ['well', 'INTJ'], ['first', 'ADV'], ['she', 'PRON'], ['came', 'VERB'], ['back', 'ADV'], ['..', 'PUNCT'], ['do', 'AUX'], ['you', 'PRON'], ['want', 'VERB'], ['cheese', 'NOUN'], ['?', 'PUNCT'], ['\\n', 'SPACE'], ['yes', 'INTJ'], ['..', 'PUNCT'], ['i', 'PRON'], ['circled', 'VERB'], ['cheddar', 'PROPN'], ['..', 'PUNCT'], ['ok', 'INTJ'], ['\\n', 'SPACE'], ['then', 'ADV'], ['she', 'PRON'], ['came', 'VERB'], ['back', 'ADV'], ['....', 'PUNCT'], ['we', 'PRON'], ['are', 'AUX'], ['out', 'SCONJ'], ['of', 'ADP'], ['wheat', 'NOUN'], ['bread', 'NOUN'], ['do', 'AUX'], ['you', 'PRON'], ['want', 'VERB'], ['another', 'DET'], ['?', 'PUNCT'], ['\\n', 'SPACE'], ['well', 'INTJ'], ['..', 'PUNCT'], ['yeah', 'INTJ'], ['(', 'PUNCT'], ['i', 'PRON'], ['do', 'AUX'], ['nt', 'PART'], ['want', 'VERB'], ['to', 'PART'], ['eat', 'VERB'], ['a', 'DET'], ['bread', 'NOUN'], ['free', 'ADJ'], ['sandwich', 'NOUN'], [')', 'PUNCT'], ['...', 'PUNCT'], ['what', 'PRON'], ['do', 'AUX'], ['youhave', 'PROPN'], ['?', 'PUNCT'], ['\\n', 'SPACE'], ['her', 'DET'], [':', 'PUNCT'], ['we', 'PRON'], ['have', 'AUX'], ['xyz', 'VERB'], ['and', 'CCONJ'], ['soudough', 'NOUN'], ['\\n', 'SPACE'], ['me', 'PRON'], [':', 'PUNCT'], ['ok', 'INTJ'], ['Ill', 'PROPN'], ['have', 'AUX'], ['soudough', 'NOUN'], ['(', 'PUNCT'], ['my', 'DET'], ['bf', 'NOUN'], ['ordered', 'VERB'], ['white', 'PROPN'], [')', 'PUNCT'], ['\\n\\n', 'SPACE'], ['we', 'PRON'], ['finally', 'ADV'], ['get', 'VERB'], ['our', 'DET'], ['order', 'NOUN'], ['-', 'PUNCT'], ['both', 'DET'], ['were', 'AUX'], ['on', 'ADP'], ['sourdough', 'NOUN'], ['I', 'PRON'], ['might', 'VERB'], ['add', 'VERB'], ['..', 'PUNCT'], ['\\n', 'SPACE'], ['Neither', 'DET'], ['had', 'AUX'], ['tomato', 'NOUN'], ['or', 'CCONJ'], ['green', 'ADJ'], ['peppers', 'NOUN'], ['...', 'PUNCT'], ['\\n', 'SPACE'], ['my', 'DET'], ['bf', 'NOUN'], ['took', 'VERB'], ['his', 'DET'], ['bk', 'NOUN'], ['and', 'CCONJ'], ['asked', 'VERB'], ['about', 'ADP'], ['it', 'PRON'], ['and', 'CCONJ'], ['she', 'PRON'], ['just', 'ADV'], ['looked', 'VERB'], ['@', 'ADP'], ['him', 'PRON'], ['and', 'CCONJ'], ['said', 'VERB'], ['well', 'INTJ'], ['..', 'PUNCT'], ['what', 'PRON'], ['do', 'AUX'], ['you', 'PRON'], ['want', 'VERB'], ['me', 'PRON'], ['to', 'PART'], ['do', 'AUX'], ['?', 'PUNCT'], ['\\n', 'SPACE'], ['the', 'DET'], ['BF', 'NOUN'], [':', 'PUNCT'], ['he', 'PRON'], ['said', 'VERB'], ['well', 'INTJ'], ['can', 'VERB'], ['you', 'PRON'], ['fix', 'VERB'], ['it', 'PRON'], ['?', 'PUNCT'], ['\\n', 'SPACE'], ['she', 'PRON'], ['started', 'VERB'], [' ', 'SPACE'], ['um', 'INTJ'], ['...', 'PUNCT'], ['well', 'INTJ'], ['..', 'PUNCT'], ['um', 'INTJ'], ['..', 'PUNCT'], ['and', 'CCONJ'], ['um', 'INTJ'], ['...', 'PUNCT'], ['er', 'INTJ'], ['...', 'PUNCT'], ['\\n', 'SPACE'], ['finally', 'ADV'], ['my', 'DET'], ['bf', 'NOUN'], ['just', 'ADV'], ['said', 'VERB'], ['well', 'INTJ'], ['can', 'VERB'], ['you', 'PRON'], ['give', 'VERB'], ['it', 'PRON'], ['to', 'ADP'], ['me', 'PRON'], ['on', 'ADP'], ['the', 'DET'], ['side', 'NOUN'], ['?', 'PUNCT'], ['\\n', 'SPACE'], ['HER', 'PRON'], [':', 'PUNCT'], ['yeah', 'INTJ'], ['that', 'DET'], [\"'s\", 'AUX'], ['a', 'DET'], ['good', 'ADJ'], ['idea', 'NOUN'], ['.', 'PUNCT'], ['you', 'PRON'], ['can', 'VERB'], ['see', 'VERB'], ['the', 'DET'], ['photo', 'NOUN'], ['on', 'ADP'], ['the', 'DET'], ['side', 'NOUN'], ['.', 'PUNCT'], ['\\n\\n\\n', 'SPACE'], ['I', 'PRON'], ['walked', 'VERB'], ['out', 'ADP'], ['and', 'CCONJ'], ['realized', 'VERB'], ['I', 'PRON'], ['had', 'AUX'], ['left', 'VERB'], ['my', 'DET'], ['Coach', 'PROPN'], ['glasses', 'NOUN'], ['on', 'ADP'], ['the', 'DET'], ['table', 'NOUN'], ['.', 'PUNCT'], ['I', 'PRON'], ['went', 'VERB'], ['bk', 'PROPN'], ['in', 'ADP'], ['and', 'CCONJ'], ['they', 'PRON'], ['were', 'AUX'], ['already', 'ADV'], ['gone', 'VERB'], ['.', 'PUNCT'], ['This', 'DET'], ['was', 'AUX'], ['not', 'PART'], ['a', 'DET'], ['place', 'NOUN'], ['I', 'PRON'], [\"'d\", 'VERB'], ['ever', 'ADV'], ['go', 'VERB'], ['back', 'ADV'], ['.', 'PUNCT'], ['After', 'ADP'], ['this', 'DET'], ['neither', 'DET'], ['of', 'ADP'], ['the', 'DET'], ['girls', 'NOUN'], ['would', 'VERB'], ['look', 'VERB'], ['us', 'PRON'], ['in', 'ADP'], ['the', 'DET'], ['eye', 'NOUN'], ['.', 'PUNCT'], ['it', 'PRON'], ['seemed', 'VERB'], ['like', 'SCONJ'], ['2', 'NUM'], ['girls', 'NOUN'], ['that', 'DET'], ['had', 'AUX'], ['no', 'DET'], ['idea', 'NOUN'], ['what', 'PRON'], ['they', 'PRON'], ['were', 'AUX'], ['doing', 'VERB'], ['..', 'PUNCT'], ['One', 'NUM'], ['of', 'ADP'], ['them', 'PRON'], ['commented', 'VERB'], ['to', 'ADP'], ['my', 'DET'], ['bf', 'NOUN'], ['that', 'SCONJ'], ['they', 'PRON'], ['had', 'AUX'], ['been', 'AUX'], ['there', 'ADV'], ['since', 'SCONJ'], ['5', 'NUM'], ['am', 'NOUN'], ['to', 'PART'], ['bake', 'VERB'], ['bread', 'NOUN'], ['..', 'PUNCT'], ['um', 'INTJ'], ['..', 'PUNCT'], ['so', 'ADV'], ['that', 'DET'], ['means', 'VERB'], ['its', 'DET'], ['ok', 'NOUN'], ['to', 'PART'], ['mess', 'VERB'], ['up', 'ADP'], ['our', 'DET'], ['order', 'NOUN'], ['b', 'NOUN'], ['/', 'SYM'], ['c', 'NOUN'], ['you', 'PRON'], ['start', 'VERB'], ['your', 'DET'], ['workday', 'NOUN'], ['early', 'ADV'], ['?', 'PUNCT'], ['\\n', 'SPACE'], ['The', 'DET'], ['fact', 'NOUN'], ['this', 'DET'], ['place', 'NOUN'], ['was', 'AUX'], ['empty', 'ADJ'], ['should', 'VERB'], [\"'ve\", 'AUX'], ['tipped', 'VERB'], ['us', 'PRON'], ['off', 'ADP'], ['.', 'PUNCT'], ['As', 'SCONJ'], ['we', 'PRON'], ['left', 'VERB'], ['there', 'PRON'], ['was', 'AUX'], ['an', 'DET'], ['elderly', 'ADJ'], ['couple', 'NOUN'], ['walking', 'VERB'], ['in', 'ADP'], [',', 'PUNCT'], ['I', 'PRON'], ['said', 'VERB'], ['whatever', 'DET'], ['y', 'PROPN'], ['ou', 'PROPN'], ['do', 'AUX'], ['just', 'ADV'], ['stick', 'VERB'], ['to', 'ADP'], ['the', 'DET'], ['bread', 'NOUN'], ['-', 'PUNCT'], ['the', 'DET'], ['sandwiches', 'NOUN'], ['are', 'AUX'], ['TOO', 'ADV'], ['COMPLICATED', 'ADJ'], ['for', 'ADP'], ['them', 'PRON'], ['to', 'PART'], ['make', 'VERB'], ['and', 'CCONJ'], ['they', 'PRON'], [\"'ve\", 'AUX'], ['been', 'AUX'], ['working', 'VERB'], ['since', 'SCONJ'], ['5', 'NUM'], ['(', 'PUNCT'], ['she', 'PRON'], ['said', 'VERB'], ['it', 'PRON'], [',', 'PUNCT'], ['me', 'PRON'], ['..', 'PUNCT'], ['so', 'ADV'], ['this', 'DET'], ['was', 'AUX'], ['not', 'PART'], ['an', 'DET'], ['insult', 'NOUN'], [',', 'PUNCT'], ['just', 'ADV'], ['a', 'DET'], ['disclaimer', 'NOUN'], ['I', 'PRON'], ['was', 'AUX'], ['passing', 'VERB'], ['along', 'ADV'], [')', 'PUNCT']]\n",
      "===================\n",
      "POS Tag for sentence 4\n",
      "[['Kandahar', 'PROPN'], ['kabab', 'PROPN'], ['and', 'CCONJ'], ['Chicken', 'PROPN'], ['breast', 'NOUN'], ['kabab', 'PROPN'], ['are', 'AUX'], ['my', 'DET'], ['favorites', 'NOUN'], ['.', 'PUNCT'], ['Very', 'ADV'], ['busy', 'ADJ'], ['on', 'ADP'], ['the', 'DET'], ['weekend', 'NOUN'], ['nights', 'NOUN'], [',', 'PUNCT'], ['be', 'AUX'], ['prepared', 'ADJ'], ['to', 'PART'], ['wait', 'VERB'], ['for', 'ADP'], ['45', 'NUM'], ['-', 'SYM'], ['60', 'NUM'], ['minutes', 'NOUN'], ['after', 'ADP'], ['ordering', 'VERB'], ['.', 'PUNCT']]\n",
      "===================\n",
      "POS Tag for sentence 5\n",
      "[['First', 'ADV'], ['let', 'VERB'], ['me', 'PRON'], ['say', 'VERB'], ['I', 'PRON'], ['will', 'VERB'], ['never', 'ADV'], ['come', 'VERB'], ['back', 'ADV'], ['to', 'ADP'], ['this', 'DET'], ['place', 'NOUN'], ['and', 'CCONJ'], ['they', 'PRON'], ['jacked', 'VERB'], ['my', 'DET'], ['Coach', 'PROPN'], ['sunglasses', 'NOUN'], ['!', 'PUNCT'], ['!', 'PUNCT'], ['I', 'PRON'], ['was', 'AUX'], ['impressed', 'ADJ'], ['upon', 'SCONJ'], ['initially', 'ADV'], ['walking', 'VERB'], ['in', 'ADP'], ['b', 'NOUN'], ['/', 'SYM'], ['c', 'NOUN'], ['it', 'PRON'], ['smelled', 'VERB'], ['great', 'ADJ'], ['.', 'PUNCT'], ['They', 'PRON'], ['offer', 'VERB'], ['you', 'PRON'], ['a', 'DET'], ['free', 'ADJ'], ['taste', 'NOUN'], ['of', 'ADP'], ['bread', 'NOUN'], ['as', 'SCONJ'], ['you', 'PRON'], ['walk', 'VERB'], ['in', 'ADV'], ['.', 'PUNCT'], ['My', 'DET'], ['bf', 'NOUN'], ['went', 'VERB'], ['w/', 'PROPN'], ['red', 'ADJ'], [',', 'PUNCT'], ['white', 'ADJ'], ['and', 'CCONJ'], ['blue', 'ADJ'], ['.', 'PUNCT'], ['It', 'PRON'], ['was', 'AUX'], ['good', 'ADJ'], ['but', 'CCONJ'], ['not', 'PART'], ['spectacular', 'ADJ'], ['.', 'PUNCT'], ['I', 'PRON'], ['went', 'VERB'], ['w/', 'PROPN'], ['Coconut', 'PROPN'], ['Walnut', 'PROPN'], ['.', 'PUNCT'], ['OMG', 'PROPN'], ['really', 'ADV'], ['good', 'ADJ'], ['.', 'PUNCT'], ['but', 'CCONJ'], ['the', 'DET'], ['service', 'NOUN'], ['RUINED', 'VERB'], ['it', 'PRON'], ['for', 'ADP'], ['me', 'PRON'], ['.', 'PUNCT'], ['\\n\\n', 'SPACE'], ['We', 'PRON'], ['came', 'VERB'], ['in', 'ADP'], ['for', 'ADP'], ['a', 'DET'], ['brkfst', 'NOUN'], ['sandwich', 'NOUN'], ['of', 'ADP'], ['which', 'DET'], ['they', 'PRON'], ['only', 'ADV'], ['have', 'AUX'], ['2', 'NUM'], ['options', 'NOUN'], ['eggs', 'NOUN'], ['and', 'CCONJ'], ['ham', 'NOUN'], ['or', 'CCONJ'], ['eggs', 'NOUN'], ['and', 'CCONJ'], ['bacon', 'NOUN'], ['-', 'PUNCT'], ['seems', 'VERB'], ['simple', 'ADJ'], ['enough', 'ADV'], ['right', 'ADJ'], ['?', 'PUNCT'], ['you', 'PRON'], ['also', 'ADV'], ['(', 'PUNCT'], [\"acc'd\", 'NOUN'], ['to', 'ADP'], ['the', 'DET'], ['paper', 'NOUN'], ['you', 'PRON'], ['write', 'VERB'], ['your', 'DET'], ['order', 'NOUN'], ['down', 'ADP'], ['on', 'ADP'], ['yourself', 'PRON'], [')', 'PUNCT'], ['to', 'PART'], ['add', 'VERB'], ['tomato', 'PROPN'], ['or', 'CCONJ'], ['green', 'ADJ'], ['pepper', 'NOUN'], ['.', 'PUNCT'], ['Odd', 'ADJ'], ['combo', 'NOUN'], ['but', 'CCONJ'], ['ok', 'INTJ'], ['.', 'PUNCT'], ['mybf', 'PROPN'], ['ordered', 'VERB'], ['\\n', 'SPACE'], ['1', 'X'], [')', 'PUNCT'], ['ham', 'NOUN'], [',', 'PUNCT'], ['egg', 'NOUN'], [',', 'PUNCT'], ['cheese', 'NOUN'], [',', 'PUNCT'], ['tomato', 'NOUN'], ['and', 'CCONJ'], ['green', 'ADJ'], ['peppers', 'NOUN'], ['\\n', 'SPACE'], ['me', 'PRON'], ['i', 'PRON'], ['ordered', 'VERB'], [':', 'PUNCT'], ['\\n', 'SPACE'], ['2', 'X'], [')', 'PUNCT'], ['bacon', 'NOUN'], [',', 'PUNCT'], ['egg', 'NOUN'], [',', 'PUNCT'], ['cheese', 'NOUN'], ['and', 'CCONJ'], ['green', 'ADJ'], ['peppers', 'NOUN'], ['\\n\\n', 'SPACE'], ['well', 'INTJ'], ['first', 'ADV'], ['she', 'PRON'], ['came', 'VERB'], ['back', 'ADV'], ['..', 'PUNCT'], ['do', 'AUX'], ['you', 'PRON'], ['want', 'VERB'], ['cheese', 'NOUN'], ['?', 'PUNCT'], ['\\n', 'SPACE'], ['yes', 'INTJ'], ['..', 'PUNCT'], ['i', 'PRON'], ['circled', 'VERB'], ['cheddar', 'PROPN'], ['..', 'PUNCT'], ['ok', 'INTJ'], ['\\n', 'SPACE'], ['then', 'ADV'], ['she', 'PRON'], ['came', 'VERB'], ['back', 'ADV'], ['....', 'PUNCT'], ['we', 'PRON'], ['are', 'AUX'], ['out', 'SCONJ'], ['of', 'ADP'], ['wheat', 'NOUN'], ['bread', 'NOUN'], ['do', 'AUX'], ['you', 'PRON'], ['want', 'VERB'], ['another', 'DET'], ['?', 'PUNCT'], ['\\n', 'SPACE'], ['well', 'INTJ'], ['..', 'PUNCT'], ['yeah', 'INTJ'], ['(', 'PUNCT'], ['i', 'PRON'], ['do', 'AUX'], ['nt', 'PART'], ['want', 'VERB'], ['to', 'PART'], ['eat', 'VERB'], ['a', 'DET'], ['bread', 'NOUN'], ['free', 'ADJ'], ['sandwich', 'NOUN'], [')', 'PUNCT'], ['...', 'PUNCT'], ['what', 'PRON'], ['do', 'AUX'], ['youhave', 'PROPN'], ['?', 'PUNCT'], ['\\n', 'SPACE'], ['her', 'DET'], [':', 'PUNCT'], ['we', 'PRON'], ['have', 'AUX'], ['xyz', 'VERB'], ['and', 'CCONJ'], ['soudough', 'NOUN'], ['\\n', 'SPACE'], ['me', 'PRON'], [':', 'PUNCT'], ['ok', 'INTJ'], ['Ill', 'PROPN'], ['have', 'AUX'], ['soudough', 'NOUN'], ['(', 'PUNCT'], ['my', 'DET'], ['bf', 'NOUN'], ['ordered', 'VERB'], ['white', 'PROPN'], [')', 'PUNCT'], ['\\n\\n', 'SPACE'], ['we', 'PRON'], ['finally', 'ADV'], ['get', 'VERB'], ['our', 'DET'], ['order', 'NOUN'], ['-', 'PUNCT'], ['both', 'DET'], ['were', 'AUX'], ['on', 'ADP'], ['sourdough', 'NOUN'], ['I', 'PRON'], ['might', 'VERB'], ['add', 'VERB'], ['..', 'PUNCT'], ['\\n', 'SPACE'], ['Neither', 'DET'], ['had', 'AUX'], ['tomato', 'NOUN'], ['or', 'CCONJ'], ['green', 'ADJ'], ['peppers', 'NOUN'], ['...', 'PUNCT'], ['\\n', 'SPACE'], ['my', 'DET'], ['bf', 'NOUN'], ['took', 'VERB'], ['his', 'DET'], ['bk', 'NOUN'], ['and', 'CCONJ'], ['asked', 'VERB'], ['about', 'ADP'], ['it', 'PRON'], ['and', 'CCONJ'], ['she', 'PRON'], ['just', 'ADV'], ['looked', 'VERB'], ['@', 'ADP'], ['him', 'PRON'], ['and', 'CCONJ'], ['said', 'VERB'], ['well', 'INTJ'], ['..', 'PUNCT'], ['what', 'PRON'], ['do', 'AUX'], ['you', 'PRON'], ['want', 'VERB'], ['me', 'PRON'], ['to', 'PART'], ['do', 'AUX'], ['?', 'PUNCT'], ['\\n', 'SPACE'], ['the', 'DET'], ['BF', 'NOUN'], [':', 'PUNCT'], ['he', 'PRON'], ['said', 'VERB'], ['well', 'INTJ'], ['can', 'VERB'], ['you', 'PRON'], ['fix', 'VERB'], ['it', 'PRON'], ['?', 'PUNCT'], ['\\n', 'SPACE'], ['she', 'PRON'], ['started', 'VERB'], [' ', 'SPACE'], ['um', 'INTJ'], ['...', 'PUNCT'], ['well', 'INTJ'], ['..', 'PUNCT'], ['um', 'INTJ'], ['..', 'PUNCT'], ['and', 'CCONJ'], ['um', 'INTJ'], ['...', 'PUNCT'], ['er', 'INTJ'], ['...', 'PUNCT'], ['\\n', 'SPACE'], ['finally', 'ADV'], ['my', 'DET'], ['bf', 'NOUN'], ['just', 'ADV'], ['said', 'VERB'], ['well', 'INTJ'], ['can', 'VERB'], ['you', 'PRON'], ['give', 'VERB'], ['it', 'PRON'], ['to', 'ADP'], ['me', 'PRON'], ['on', 'ADP'], ['the', 'DET'], ['side', 'NOUN'], ['?', 'PUNCT'], ['\\n', 'SPACE'], ['HER', 'PRON'], [':', 'PUNCT'], ['yeah', 'INTJ'], ['that', 'DET'], [\"'s\", 'AUX'], ['a', 'DET'], ['good', 'ADJ'], ['idea', 'NOUN'], ['.', 'PUNCT'], ['you', 'PRON'], ['can', 'VERB'], ['see', 'VERB'], ['the', 'DET'], ['photo', 'NOUN'], ['on', 'ADP'], ['the', 'DET'], ['side', 'NOUN'], ['.', 'PUNCT'], ['\\n\\n\\n', 'SPACE'], ['I', 'PRON'], ['walked', 'VERB'], ['out', 'ADP'], ['and', 'CCONJ'], ['realized', 'VERB'], ['I', 'PRON'], ['had', 'AUX'], ['left', 'VERB'], ['my', 'DET'], ['Coach', 'PROPN'], ['glasses', 'NOUN'], ['on', 'ADP'], ['the', 'DET'], ['table', 'NOUN'], ['.', 'PUNCT'], ['I', 'PRON'], ['went', 'VERB'], ['bk', 'PROPN'], ['in', 'ADP'], ['and', 'CCONJ'], ['they', 'PRON'], ['were', 'AUX'], ['already', 'ADV'], ['gone', 'VERB'], ['.', 'PUNCT'], ['This', 'DET'], ['was', 'AUX'], ['not', 'PART'], ['a', 'DET'], ['place', 'NOUN'], ['I', 'PRON'], [\"'d\", 'VERB'], ['ever', 'ADV'], ['go', 'VERB'], ['back', 'ADV'], ['.', 'PUNCT'], ['After', 'ADP'], ['this', 'DET'], ['neither', 'DET'], ['of', 'ADP'], ['the', 'DET'], ['girls', 'NOUN'], ['would', 'VERB'], ['look', 'VERB'], ['us', 'PRON'], ['in', 'ADP'], ['the', 'DET'], ['eye', 'NOUN'], ['.', 'PUNCT'], ['it', 'PRON'], ['seemed', 'VERB'], ['like', 'SCONJ'], ['2', 'NUM'], ['girls', 'NOUN'], ['that', 'DET'], ['had', 'AUX'], ['no', 'DET'], ['idea', 'NOUN'], ['what', 'PRON'], ['they', 'PRON'], ['were', 'AUX'], ['doing', 'VERB'], ['..', 'PUNCT'], ['One', 'NUM'], ['of', 'ADP'], ['them', 'PRON'], ['commented', 'VERB'], ['to', 'ADP'], ['my', 'DET'], ['bf', 'NOUN'], ['that', 'SCONJ'], ['they', 'PRON'], ['had', 'AUX'], ['been', 'AUX'], ['there', 'ADV'], ['since', 'SCONJ'], ['5', 'NUM'], ['am', 'NOUN'], ['to', 'PART'], ['bake', 'VERB'], ['bread', 'NOUN'], ['..', 'PUNCT'], ['um', 'INTJ'], ['..', 'PUNCT'], ['so', 'ADV'], ['that', 'DET'], ['means', 'VERB'], ['its', 'DET'], ['ok', 'NOUN'], ['to', 'PART'], ['mess', 'VERB'], ['up', 'ADP'], ['our', 'DET'], ['order', 'NOUN'], ['b', 'NOUN'], ['/', 'SYM'], ['c', 'NOUN'], ['you', 'PRON'], ['start', 'VERB'], ['your', 'DET'], ['workday', 'NOUN'], ['early', 'ADV'], ['?', 'PUNCT'], ['\\n', 'SPACE'], ['The', 'DET'], ['fact', 'NOUN'], ['this', 'DET'], ['place', 'NOUN'], ['was', 'AUX'], ['empty', 'ADJ'], ['should', 'VERB'], [\"'ve\", 'AUX'], ['tipped', 'VERB'], ['us', 'PRON'], ['off', 'ADP'], ['.', 'PUNCT'], ['As', 'SCONJ'], ['we', 'PRON'], ['left', 'VERB'], ['there', 'PRON'], ['was', 'AUX'], ['an', 'DET'], ['elderly', 'ADJ'], ['couple', 'NOUN'], ['walking', 'VERB'], ['in', 'ADP'], [',', 'PUNCT'], ['I', 'PRON'], ['said', 'VERB'], ['whatever', 'DET'], ['y', 'PROPN'], ['ou', 'PROPN'], ['do', 'AUX'], ['just', 'ADV'], ['stick', 'VERB'], ['to', 'ADP'], ['the', 'DET'], ['bread', 'NOUN'], ['-', 'PUNCT'], ['the', 'DET'], ['sandwiches', 'NOUN'], ['are', 'AUX'], ['TOO', 'ADV'], ['COMPLICATED', 'ADJ'], ['for', 'ADP'], ['them', 'PRON'], ['to', 'PART'], ['make', 'VERB'], ['and', 'CCONJ'], ['they', 'PRON'], [\"'ve\", 'AUX'], ['been', 'AUX'], ['working', 'VERB'], ['since', 'SCONJ'], ['5', 'NUM'], ['(', 'PUNCT'], ['she', 'PRON'], ['said', 'VERB'], ['it', 'PRON'], [',', 'PUNCT'], ['me', 'PRON'], ['..', 'PUNCT'], ['so', 'ADV'], ['this', 'DET'], ['was', 'AUX'], ['not', 'PART'], ['an', 'DET'], ['insult', 'NOUN'], [',', 'PUNCT'], ['just', 'ADV'], ['a', 'DET'], ['disclaimer', 'NOUN'], ['I', 'PRON'], ['was', 'AUX'], ['passing', 'VERB'], ['along', 'ADV'], [')', 'PUNCT']]\n"
     ]
    }
   ],
   "source": [
    "result_list = [doc_0,doc_1,doc_2,doc_3,doc_4]\n",
    "counter = 0\n",
    "for element in result_list:\n",
    "    counter += 1\n",
    "    final_result = []\n",
    "    for token in element:\n",
    "        result = []\n",
    "        result.append(token.text)\n",
    "        result.append(token.pos_)\n",
    "        final_result.append(result)\n",
    "    print(\"===================\")\n",
    "    print(\"POS Tag for sentence\", str(counter))\n",
    "    print(final_result)"
   ]
  },
  {
   "cell_type": "markdown",
   "id": "26f59739",
   "metadata": {},
   "source": [
    "# Method 3 Using Unigram Tagger trained with Brown Corpus"
   ]
  },
  {
   "cell_type": "code",
   "execution_count": 17,
   "id": "e46f5e5f",
   "metadata": {},
   "outputs": [],
   "source": [
    "#Define new functions to tokenize the sentences generated\n",
    "def tokenizer(sents, num):\n",
    "    words = dict.fromkeys((i for i in range(num)), [])\n",
    "    for i in range(num):\n",
    "        words[i] = word_tokenize(sents[i])\n",
    "    return words"
   ]
  },
  {
   "cell_type": "code",
   "execution_count": 18,
   "id": "d09f34ae",
   "metadata": {},
   "outputs": [
    {
     "name": "stdout",
     "output_type": "stream",
     "text": [
      "0    This place IS the quintessential hole in the w...\n",
      "1    Better than expected.   Less wait time than th...\n",
      "2    First let me say I will never come back to thi...\n",
      "3    Kandahar kabab and Chicken breast kabab are my...\n",
      "4    Perk-Cup is definitely a convenient spot to dr...\n",
      "Name: text, dtype: object\n"
     ]
    }
   ],
   "source": [
    "print(review_random_df['text'])"
   ]
  },
  {
   "cell_type": "code",
   "execution_count": 19,
   "id": "29312386",
   "metadata": {},
   "outputs": [],
   "source": [
    "#Tokenize the sentences using the function definte previously\n",
    "words = tokenizer(review_random_df['text'], 5)"
   ]
  },
  {
   "cell_type": "code",
   "execution_count": 20,
   "id": "ec6e0056",
   "metadata": {},
   "outputs": [
    {
     "name": "stderr",
     "output_type": "stream",
     "text": [
      "[nltk_data] Downloading package brown to\n",
      "[nltk_data]     /Users/guangxushen/nltk_data...\n",
      "[nltk_data]   Package brown is already up-to-date!\n"
     ]
    },
    {
     "data": {
      "text/plain": [
       "True"
      ]
     },
     "execution_count": 20,
     "metadata": {},
     "output_type": "execute_result"
    }
   ],
   "source": [
    "nltk.download('brown')"
   ]
  },
  {
   "cell_type": "code",
   "execution_count": 21,
   "id": "cd09170b",
   "metadata": {},
   "outputs": [],
   "source": [
    "# Unigram tagger trained using Brown corpus\n",
    "def tagger_unigram(words, num):\n",
    "    from nltk.corpus import brown\n",
    "    brown_tagged_sents = brown.tagged_sents(categories='news')\n",
    "    ut = nltk.UnigramTagger(brown_tagged_sents)\n",
    "    #create a new dictionary & key\n",
    "    pos_2 = dict.fromkeys((i for i in range(num)), [])\n",
    "    #use i to iterate through the sentence index first, then use j to iterate through the words in sentences\n",
    "    for i,j in words.items():\n",
    "        pos_2[i] = ut.tag(j)\n",
    "    return pos_2"
   ]
  },
  {
   "cell_type": "code",
   "execution_count": 22,
   "id": "2a26d90c",
   "metadata": {},
   "outputs": [],
   "source": [
    "#Call unigram\n",
    "unigram_pos_tags = tagger_unigram(words, 5)"
   ]
  },
  {
   "cell_type": "code",
   "execution_count": 23,
   "id": "a3e808bc",
   "metadata": {},
   "outputs": [
    {
     "name": "stdout",
     "output_type": "stream",
     "text": [
      "\n",
      "Results of unigram tagger:\n",
      "[('This', 'DT'), ('place', 'NN'), ('IS', None), ('the', 'AT'), ('quintessential', None), ('hole', 'NN'), ('in', 'IN'), ('the', 'AT'), ('wall', 'NN'), ('restaurant', 'NN'), ('that', 'CS'), ('you', 'PPSS'), ('always', 'RB'), ('heard', 'VBN'), ('about', 'IN'), ('but', 'CC'), ('never', 'RB'), ('been', 'BEN'), ('to', 'TO'), ('before', 'IN'), ('.', '.'), ('Amazingly', None), ('enough', 'AP'), ('it', 'PPS'), ('is', 'BEZ'), ('located', 'VBN'), ('right', 'JJ'), ('off', 'RP'), ('of', 'IN'), ('Central', 'JJ-TL'), ('Avenue', 'NN-TL'), ('which', 'WDT'), ('is', 'BEZ'), ('a', 'AT'), ('very', 'QL'), ('busy', 'JJ'), ('road', 'NN'), ('but', 'CC'), ('because', 'CS'), ('of', 'IN'), ('the', 'AT'), ('exterior', None), ('of', 'IN'), ('you', 'PPSS'), ('would', 'MD'), ('drive', 'NN'), ('right', 'JJ'), ('past', 'NN'), ('it', 'PPS'), ('and', 'CC'), ('think', 'VB'), ('nothing', 'PN'), ('of', 'IN'), ('it', 'PPS'), ('.', '.'), ('DO', None), (\"N'T\", None), ('DO', None), ('THAT', None), ('AGAIN', None), ('!', '.'), ('!', '.'), ('!', '.'), ('Stop', None), ('HERE', None), ('and', 'CC'), ('eat', 'VB'), ('!', '.'), ('Cheese', None), ('steak', 'NN'), ('Sub', None), ('JUST', None), ('DO', None), ('IT', None), ('This', 'DT'), ('place', 'NN'), ('has', 'HVZ'), ('a', 'AT'), ('chicken', 'NN'), ('parmesan', None), ('pasta', None), ('that', 'CS'), ('you', 'PPSS'), ('could', 'MD'), ('literally', 'RB'), ('eat', 'VB'), ('with', 'IN'), ('a', 'AT'), ('fork', None), ('if', 'CS'), ('you', 'PPSS'), ('were', 'BED'), ('105', None), ('years', 'NNS'), ('the', 'AT'), ('chicken', 'NN'), ('breast', 'NN'), ('is', 'BEZ'), ('so', 'QL'), ('tender', None), ('and', 'CC'), ('succulent', None), ('.', '.'), ('One', 'CD'), ('of', 'IN'), ('the', 'AT'), ('best', 'JJT'), ('pizzas', None), ('I', 'PPSS'), (\"'ve\", None), ('had', 'HVD'), ('aside', 'RB'), ('from', 'IN'), ('an', 'AT'), ('actual', 'JJ'), ('slice', 'NN'), ('from', 'IN'), ('NY', None), ('.', '.')]\n"
     ]
    }
   ],
   "source": [
    "print(\"\\nResults of unigram tagger:\")\n",
    "print(unigram_pos_tags[0])"
   ]
  },
  {
   "cell_type": "code",
   "execution_count": null,
   "id": "6e3bfd03",
   "metadata": {},
   "outputs": [],
   "source": []
  },
  {
   "cell_type": "code",
   "execution_count": null,
   "id": "88824abe",
   "metadata": {},
   "outputs": [],
   "source": []
  }
 ],
 "metadata": {
  "kernelspec": {
   "display_name": "venv1",
   "language": "python",
   "name": "venv1"
  },
  "language_info": {
   "codemirror_mode": {
    "name": "ipython",
    "version": 3
   },
   "file_extension": ".py",
   "mimetype": "text/x-python",
   "name": "python",
   "nbconvert_exporter": "python",
   "pygments_lexer": "ipython3",
   "version": "3.7.11"
  }
 },
 "nbformat": 4,
 "nbformat_minor": 5
}
