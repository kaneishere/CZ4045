{
 "cells": [
  {
   "cell_type": "code",
   "execution_count": null,
   "id": "d25313fb",
   "metadata": {},
   "outputs": [],
   "source": [
    "import pandas as pd\n",
    "import numpy as np\n",
    "from google.colab import files\n",
    "import matplotlib.pyplot as plt\n",
    "from nltk.stem import PorterStemmer\n",
    "from nltk.tokenize import word_tokenize"
   ]
  },
  {
   "cell_type": "code",
   "execution_count": null,
   "id": "491165c4",
   "metadata": {},
   "outputs": [],
   "source": [
    "data = pd.read_json('reviewSelected100.json',lines=True, \n",
    "                    orient='records',encoding = \"ISO-8859-1\")"
   ]
  },
  {
   "cell_type": "code",
   "execution_count": null,
   "id": "44c955b7",
   "metadata": {},
   "outputs": [],
   "source": [
    "display(data)"
   ]
  },
  {
   "cell_type": "code",
   "execution_count": null,
   "id": "684b7ffb",
   "metadata": {},
   "outputs": [],
   "source": [
    "uniqueBusiness = data['business_id'].unique()\n",
    "data_one = data[data['stars'] == 1]\n",
    "one_star = []\n",
    "\n",
    "data_one = data_one['text'].groupby(data_one['business_id']).unique().apply(pd.Series)\n",
    "\n",
    "i=0\n",
    "while i!=50:\n",
    "  if data_one[0][i] is not None:\n",
    "    one_star.append(data_one[0][i])\n",
    "    i += 1"
   ]
  },
  {
   "cell_type": "code",
   "execution_count": null,
   "id": "9ffc1668",
   "metadata": {},
   "outputs": [],
   "source": [
    "import spacy\n",
    "nlp = spacy.load('en')\n",
    "noun_adj_pairs = []\n",
    "\n",
    "for n in one_star:\n",
    "  doc = nlp(n)\n",
    "  for i,token in enumerate(doc):\n",
    "      if token.pos_ not in ('NOUN','PROPN'):\n",
    "          continue\n",
    "      for j in range(i+1,len(doc)):\n",
    "          if doc[j].pos_ == 'ADJ':\n",
    "              noun_adj_pairs.append((str(token),str(doc[j])))\n",
    "              break\n",
    "noun_adj_pairs"
   ]
  },
  {
   "cell_type": "code",
   "execution_count": null,
   "id": "f891e405",
   "metadata": {},
   "outputs": [],
   "source": [
    "import collections\n",
    "\n",
    "counter=collections.Counter(noun_adj_pairs)\n",
    "print(counter.most_common(10))\n"
   ]
  },
  {
   "cell_type": "code",
   "execution_count": null,
   "id": "359abd40",
   "metadata": {},
   "outputs": [],
   "source": []
  }
 ],
 "metadata": {
  "kernelspec": {
   "display_name": "Python 3 (ipykernel)",
   "language": "python",
   "name": "python3"
  },
  "language_info": {
   "codemirror_mode": {
    "name": "ipython",
    "version": 3
   },
   "file_extension": ".py",
   "mimetype": "text/x-python",
   "name": "python",
   "nbconvert_exporter": "python",
   "pygments_lexer": "ipython3",
   "version": "3.7.3"
  }
 },
 "nbformat": 4,
 "nbformat_minor": 5
}
