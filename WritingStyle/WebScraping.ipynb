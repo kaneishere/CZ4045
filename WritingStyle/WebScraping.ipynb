{
 "cells": [
  {
   "cell_type": "code",
   "execution_count": 1,
   "id": "b7b59e58",
   "metadata": {},
   "outputs": [
    {
     "name": "stdout",
     "output_type": "stream",
     "text": [
      "Requirement already satisfied: beautifulsoup4 in /home/kane_wu/anaconda3/envs/nlp/lib/python3.9/site-packages (4.10.0)\n",
      "Requirement already satisfied: requests in /home/kane_wu/anaconda3/envs/nlp/lib/python3.9/site-packages (2.26.0)\n",
      "Requirement already satisfied: pandas in /home/kane_wu/anaconda3/envs/nlp/lib/python3.9/site-packages (1.3.3)\n",
      "Requirement already satisfied: soupsieve>1.2 in /home/kane_wu/anaconda3/envs/nlp/lib/python3.9/site-packages (from beautifulsoup4) (2.2.1)\n",
      "Requirement already satisfied: idna<4,>=2.5 in /home/kane_wu/anaconda3/envs/nlp/lib/python3.9/site-packages (from requests) (3.2)\n",
      "Requirement already satisfied: charset-normalizer~=2.0.0 in /home/kane_wu/anaconda3/envs/nlp/lib/python3.9/site-packages (from requests) (2.0.6)\n",
      "Requirement already satisfied: urllib3<1.27,>=1.21.1 in /home/kane_wu/anaconda3/envs/nlp/lib/python3.9/site-packages (from requests) (1.26.7)\n",
      "Requirement already satisfied: certifi>=2017.4.17 in /home/kane_wu/anaconda3/envs/nlp/lib/python3.9/site-packages (from requests) (2021.5.30)\n",
      "Requirement already satisfied: numpy>=1.17.3 in /home/kane_wu/anaconda3/envs/nlp/lib/python3.9/site-packages (from pandas) (1.21.2)\n",
      "Requirement already satisfied: pytz>=2017.3 in /home/kane_wu/anaconda3/envs/nlp/lib/python3.9/site-packages (from pandas) (2021.1)\n",
      "Requirement already satisfied: python-dateutil>=2.7.3 in /home/kane_wu/anaconda3/envs/nlp/lib/python3.9/site-packages (from pandas) (2.8.2)\n",
      "Requirement already satisfied: six>=1.5 in /home/kane_wu/anaconda3/envs/nlp/lib/python3.9/site-packages (from python-dateutil>=2.7.3->pandas) (1.16.0)\n"
     ]
    }
   ],
   "source": [
    "!pip install beautifulsoup4 requests pandas"
   ]
  },
  {
   "cell_type": "code",
   "execution_count": 23,
   "id": "725c6bed",
   "metadata": {},
   "outputs": [],
   "source": [
    "import urllib\n",
    "import requests\n",
    "from bs4 import BeautifulSoup\n",
    "from pathlib import Path\n",
    "import pickle"
   ]
  },
  {
   "cell_type": "code",
   "execution_count": 26,
   "id": "7e77aa97",
   "metadata": {},
   "outputs": [],
   "source": [
    "def get_cna_articles():\n",
    "    CNA_URL = \"https://www.channelnewsasia.com/\"\n",
    "    # get cna main page\n",
    "\n",
    "    page = requests.get(CNA_URL)\n",
    "    soup = BeautifulSoup(page.text, \"html.parser\")\n",
    "    # get links to different news articles (the class is for this url, will differ across websites)\n",
    "    links = soup.find_all('a', attrs={'class': 'h6__link h6__link-- list-object__heading-link'})\n",
    "    articles = []\n",
    "    for link in links:\n",
    "        article_page = requests.get(CNA_URL + link['href'])\n",
    "        article = BeautifulSoup(article_page.text, \"html.parser\")\n",
    "        article_text = article.find_all('div', attrs={'class': 'text-long'})\n",
    "        articles.append(' '.join([[' '.join([child.text for child in div.findChildren('p')])][0] for div in article_text]))\n",
    "    \n",
    "    return articles"
   ]
  },
  {
   "cell_type": "code",
   "execution_count": 41,
   "id": "43551a39",
   "metadata": {},
   "outputs": [],
   "source": [
    "# run this block to get saved data/scrape data\n",
    "CNA_ARTICLES_ADDRESS = Path(\"cna_articles.pickle\")\n",
    "if CNA_ARTICLES_ADDRESS.is_file():\n",
    "    with open(CNA_ARTICLES_ADDRESS, \"rb\") as f:\n",
    "        cna_articles = pickle.load(f)\n",
    "\n",
    "else:\n",
    "    cna_articles = get_cna_articles()\n",
    "    CNA_ARTICLES_ADDRESS.touch(exist_ok=True)\n",
    "    with open(CNA_ARTICLES_ADDRESS, \"wb\") as f:\n",
    "        pickle.dump(cna_articles, f)"
   ]
  },
  {
   "cell_type": "code",
   "execution_count": 42,
   "id": "2306fcc6",
   "metadata": {},
   "outputs": [
    {
     "name": "stdout",
     "output_type": "stream",
     "text": [
      "BENGALURU :     Indian crypto asset platform CoinSwitch Kuber said on Wednesday it has raised more than US$260 million in a funding round from investors including Coinbase Ventures and Andreessen Horowitz, valuing it at US$1.9 billion.    (Reporting by Rama Venkat in Bengaluru; Editing by Subhranshu Sahu)\n",
      "\n",
      "\n",
      "BRUSSELS :     Belgium captain Eden Hazard has a stage at the Nations League finals this week to make up for the setbacks of recent years as he struggled for form following a series of niggling injuries. The 30-year-old attacker is a long-time mainstay of his national team and one of their \"golden generation\" https://www.reuters.com/article/uk-soccer-uefanations-bel-fra-witsel/soccer-nations-league-an-opportunity-for-belgiums-golden-generation-witsel-idUKKBN2GU1ZC, but in the last two seasons his career has been stagnant, despite a dream move to Real Madrid. His playing time was restricted by a litany of complaints, mostly after surgery on his ankle but also including various muscle strains after battling with the demands of his 100-million euro (US$115 million) transfer from Chelsea. He almost missed out on the European Championship in mid-year but was given time to regain some fitness so that Belgium could use him, first as an impact substitute and then in the starting line-up. They were his first appearances in about 18 months for the national team but he featured in all three of September’s World Cup qualifiers, with Belgium coach Roberto Martinez declaring that the tricky wide player was looking \"back to his best\". The Nations League finals this week are the perfect opportunity to prove Martinez right. Hazard comes into the tournament after being involved in all but one of Real Madrid’s LaLiga and Champions League matches, and with the chance to re-establish the credentials lost over a frustrating two-year period. Belgium begin with a semi-final in Turin on Thursday against neighbours France. If Hazard can lead Belgium to success in the mini-tournament, also involving hosts Italy and Spain, it will do much to restore his reputation. He has had to deal with enormous pressure and media scrutiny in Spain and, though he is a jovial character, the frustration of not being able to make an impact with Real has been hard to deal with, according to some of his colleagues. \"Eden has been a little down,\" club and national teammate Thibaut Courtois has said previously, \"but Real Madrid waits for no one, not even Hazard.\" Martinez feels that is now all in the past.  \"Eden is ready to make a real impact again,\" he said after last month’s trio of wins for the top-ranked Belgians. (US$1 = 0.8641 euros)   (Writing by Mark Gleeson in Cape Town; Editing by Timothy Heritage)\n",
      "\n",
      "\n",
      "    Former Guangzhou FC manager Fabio Cannavaro said the image of the Chinese Super League (CSL) as an attractive competition had changed in the last few seasons because of some rules that \"complicated\" matters for managers. Italian Cannavaro left eight-times champions Guangzhou FC by mutual consent last month, ending his second spell at the side owned by embattled property developers Evergrande with a 2019 title win as well as runners-up finishes in 2018 and 2020. \"The CSL was seen as an attractive, quality league back in 2017-18,\" the South China Morning Post newspaper quoted Cannavaro as saying in an interview with Tencent Sports. \"But then things changed. \"Clubs were requested to send more young players to the field. Some of these youngsters weren't good enough to play in the CSL, but managers had to put them in the games - even for only a few minutes - because that's the rule of the league. \"These rules grew more complicated later. We can't deny that the CSL is a great league that has many splendid managers, top players and stands filled with fans in the stadiums. It's a league with great potential.\" This season, Guangzhou have been hit by the departures of foreign players such as ex-Barcelona and Brazil midfielder Paulinho and his compatriot, Anderson Talisca. CSL teams have invested heavily to recruit foreign players on lucrative contracts and Cannavaro said the league needed big names, pointing to the impact that Belgium international Axel Witsel had under him at Tianjin Quanjian. \"When Witsel came to play in China, there was no doubt that he wanted to make more money. But he used actions to show how a top professional should train, play and eat,\" said World Cup-winner Cannavaro. \"For young players, he's a role model. Everyone trains hard, hoping to keep up with his rhythm. So ... the departure of these players will also cause depression in some aspects of the system.\"   (Reporting by Shrivathsa Sridhar in Bengaluru)\n",
      "\n",
      "\n",
      "PHNOM PENH: Cambodian leader Hun Sen on Wednesday (Oct 6) ordered the justice ministry to amend the constitution to bar holders of the country's top posts, including the prime minister, from being citizens of other nations. On his Facebook page, Hun Sen said the prime minister, upper and lower houses speakers and head of the constitutional council must only hold Cambodian citizenship \"to show loyalty to the nation and avoid foreign interference\". The remarks by Hun Sen, one of the world's longest-serving leaders after more than three decades in power, come days after a report in the Guardian newspaper named him as one of thousands of non-Europeans given Cypriot passports, citing information in a data dump known collectively as the \"Pandora Papers\". But lawyers for the Cambodian government on Wednesday said the Guardian report was false and Hun Sen has only Cambodian citizenship. \"Government lawyers deny and dismiss the Guardian story completely as untruthful, baseless, and in contrast of truth,\" they said in a statement. The statement did not specify whether or not Hun Sen had held more than one nationality in the past. Hun Sen's Cambodian People's Party (CPP) has been in power since 1979 and controls the legislature following the dissolution of the main opposition party three years ago for allegedly plotting to overthrow the government. The opposition rejects that and many of its members have been arrested or jailed or fled into exile, some receiving citizenship in those countries. Hun Sen's longtime rival Sam Rainsy is a French citizen living in Paris to avoid a series of convictions. A Reuters Special Report in October 2019 showed family members and key police, business and political associates of Hun Sen had used their wealth to buy a foreign nationality via a citizenship for sale arrangement in Cyprus.\n",
      "\n",
      "\n",
      "SINGAPORE: Five people have been arrested in Malaysia for suspected drug trafficking activities, with nearly 55kg of controlled drugs worth RM4.9 million (S$1.6 million) seized in the operations. Acting on information provided by Singapore's Central Narcotic Bureau (CNB), the Royal Malaysian Police's (RMP) Narcotics Crime Investigation Department arrested the man and four women, aged between 21 and 71, in and around Kuala Lumpur and Selangor. All five are Malaysians. CNB said that it has been monitoring a Malaysian-based syndicate since July. The syndicate is believed to have been trafficking drugs, using Singapore-based freight forwarding companies as legitimate forwarding agents to deliver parcels that contain concealed drugs to other countries through Singapore. CNB actively monitored the activities of the syndicate and provided the information to RMP's Narcotics Crime Investigation Department. Based on the information from CNB, Malaysian authorities began their investigations. Between Sep 24 and Sep 28, officers from the Narcotics Crime Investigation Department conducted a series of operations around Selangor, Negeri Sembilan and Kuala Lumpur.  In one of the operations, children's toys and dolls were seized from a parcel suspected to contain controlled drugs. Controlled drugs, suspected to be methamphetamine, was also found in between the corrugated cardboard in the parcels containing the toys and dolls. A total of 5.8kg of methamphetamine, also known as Ice, 14.8kg of ketamine, 34.3kg of methylenedioxymethamphetamine (MDMA) powder, and 30.1 litres of MDMA were seized, along with various drug processing equipment and 2.2kg of caffeine believed to be used in illicit drug production. Investigations by the Narcotics Crime Investigation Department into the drug activities of the suspects are ongoing. “Even as drug trafficking syndicates try to circumvent travel restrictions by using parcels and postage services to traffic drugs, close international cooperation between law enforcement agencies will not be impacted,\" said Assistant Commissioner of Police Leon Chan, deputy director of CNB (operations). He added that the arrests were \"testament to the close cooperation\" between CNB and the Narcotics Crime Investigation Department, and thanked the Malaysian authorities for their \"continuous support\". \"Both agencies will continue to share intelligence in timely fashion and work closely together against transnational drug trafficking activities,\" added AC Chan. \"Singapore does not tolerate the activities of syndicates which makes use of Singapore’s connectivity to ship their drugs, and CNB will continue to work closely with our foreign counterparts to interdict the supply of drugs, and to prevent Singapore from being used as a transhipment hub for drugs.\"\n",
      "\n",
      "\n",
      "MUMBAI: India has withdrawn its hockey teams from next year's Commonwealth Games in Birmingham citing concerns about the COVID-19 pandemic and a short turnaround before the Asian Games in China, a qualifier for the 2024 Paris Olympics. The Commonwealth Games are scheduled for Jul 28 to Aug 8, with the Asian Games in Hangzhou starting on Sep 10. In a letter addressed to Indian Olympic Association President Narinder Batra, and reviewed by Reuters, the hockey federation said the Asian Games were the priority. \"With reference to the ongoing COVID-19 pandemic, we have observed over the last 18 months that England has been the worst affected country in Europe,\" Hockey India chief Gyanendro Ningombam wrote. \"... the Asian games is the continental qualification event for the 2024 Paris Olympic Games and keeping the priority of the Asian Games in mind, Hockey India cannot risk any members of the Indian teams contracting COVID-19 during the Commonwealth Games.\" Ningombam said the quarantine measures for Indians arriving in Britain, even if they are fully vaccinated against COVID-19, were \"very unfortunate\" and would affect athletes' performance. The decision came a day after England, citing \"a number of COVID-related concerns\", withdrew from the men's hockey Junior World Cup, which will be held in the Indian city of Bhubaneswar from Nov 24 to Dec 5. Batra, who is also the chief of the global hockey governing body (FIH), said the decision to withdraw from the Commonwealth Games was \"final\". \"It's the federation's decision that they are prioritising the Asian Games. I can't force anyone to reconsider,\" Batra told Reuters on Wednesday. India and Britain have also been involved in a row over quarantine measures for international arrivals. Visiting UK nationals have to undergo mandatory quarantine even if they are fully vaccinated against COVID-19, a measure the Indian government said was in response to similar restrictions imposed by the UK on Indian citizens.\n",
      "\n",
      "\n",
      "BENGALURU :     Sequoia Capital-funded Mobile Premier League (MPL) was among the first few gaming startups that began blocking access to users in the Indian state of Karnataka on Wednesday following a ban on online gaming. The law, which came into effect late on Tuesday, bans online games involving betting and wagering, and \"any act or risking money, or otherwise on the unknown result of an event including on a game of skill\". The latest ban has intensified concerns that growing state regulations could hit the nascent but booming gaming sector in India, where foreign investors have pumped in millions of dollars in recent months. On Wednesday morning, MPL's gaming app showed messages to users in Karnataka that said: \"Sorry! The law in your state does not permit you to play Fantasy sports\", \"Fantasy games are locked\" and \"cash games are locked\".  The gaming app offers fantasy cricket and football games and allows real-money wagering on them.   Dream11, one of India's most popular gaming apps backed by Tiger Global, was still operational, but Paytm First Games was not. Dream11 declined to comment, while MPL and Paytm did not immediately respond. Karnataka, home to some of the world's biggest tech companies and India's tech capital Bengaluru, is the latest Indian state that has banned such online games after Telangana and Andhra Pradesh. Tamil Nadu had also imposed such bans, but its bill was struck down by its high court. An industry source had told Reuters earlier that these states were important for the gaming business and account for roughly 20per cent of the total business for companies. Roland Landers, the chief executive of the All India Gaming Federation, said \"the industry will challenge this in court and seek legal recourse\". Two other industry sources told Reuters on Wednesday that gamers and some companies were planning to file court challenges against the new Karnataka law. The law imposes hefty fines and prison terms on violaters and has been implemented amid growing concerns that online gaming platforms, like gambling, are addictive and can cause financial harm.   (Reporting by Chandini Monappa and Vishwadha Chander in Bengaluru and Aditya Kalra in New Delhi; Editing by Subhranshu Sahu)\n",
      "\n",
      "\n",
      "SINGAPORE: Travellers using Google to search for flights will now be able to make their choices based not just on price and departure times, but also on the carbon footprint of each flight.  CO2 emissions will be in the search results on Google Flights, the tech giant announced on Wednesday (Oct 6) as part of a slew of sustainability initiatives. Flights will be labelled as higher, typical, lower or unknown emissions, with those with significantly lower emissions indicated by a green badge.  On its website, Google noted that carbon emission estimates are based on data provided by third parties, taking into account factors such as the distance to the destination as well as the aircraft model and configuration. \"These CO2 metrics are not just flight-specific, they're also seat-specific,\" said Google Commerce marketing director Stephanie Horton in a live-streamed presentation to the media. Business or first-class seats occupy more space and therefore make up a larger share of total emissions, said Ms Horton.  The new feature will allow travellers to make better-informed decisions, she added. In addition, those searching for accommodation will also be able to see if hotels have made \"meaningful commitments to sustainability\", such as whether they have made efforts towards reducing waste, improving energy efficiency and water conservation.  In the United States, the Silicon Valley-based firm is introducing \"eco-friendly routing\" to its Google Maps platform, allowing motorists to see not just the fastest route but also the most fuel-efficient one, based on information from the US National Renewable Energy Lab.  In a blog post, Sundar Pichar, the chief executive of Google and its parent company Alphabet, said the tech giant estimates this could reduce as much as one million tonnes of carbon emissions per year.  Google users in the US will also be able to view more cost-effective options for household appliances such as dishwashers and water heaters. There will be information related to electric vehicles as well - such as compatible charging stations nearby and typical charging times. This feature will be available in the US early next year, with plans to expand it globally in the future, said Google.  The company is also researching the use of artificial intelligence to optimise the efficiency of traffic lights at four locations in Israel, saying it has noted a 10 to 20 per cent reduction in fuel and intersection delay time in its trials.  It will soon conduct trials in Rio de Janeiro and is in discussions with other major cities around the world.  Google chief sustainability officer Kate Brandt noted that its data centres worldwide are now operating with 67 per cent locally-sourced carbon-free energy, up from 61 per cent two years ago.  Five data centres are now operating on 90 per cent carbon-free energy, she added.  This is in line with its goal to have its data centres operate entirely on carbon-free energy 2030.  \"In all these efforts, our goal is to make the sustainable choice an easier choice,\" said Mr Pichai \"At the individual level, these choices may seem small, but when people have the tools to make them at scale, they equal big improvements.\"\n",
      "\n",
      "\n",
      "SINGAPORE: A man has filed a court application to pave the way for his 16-year-old daughter to get the COVID-19 vaccination, after his ex-wife, who shares joint custody of the teen, \"strongly opposed\" the jab. The parties involved in the case cannot be named as the child is a minor. According to the originating summons, the man is seeking a court order to allow his daughter to be vaccinated, and for his ex-wife to bear the cost of his application. In Family Justice Court documents seen by CNA, the man and the defendant were married in 2003 in Singapore. The man is a Singapore permanent resident and his ex-wife is a Singaporean.  He applied for a divorce in 2015 after living apart from his spouse for three years, and the couple were granted joint custody of their daughter under the terms of the interim judgment.\n",
      "He has since remarried. In the man's affidavit, he wrote that there had been no issues with custody, care and control until recently. \"I am vaccinated and I wish for (my daughter) to be vaccinated too,\" he wrote. \"This is especially after the Government has announced the current policy of living with the virus which is accompanied by the recent hike in the number of COVID-19 cases in Singapore.\" Most of her classmates have also been vaccinated against COVID-19, wrote the man in his affidavit. He said he believed it would be in his daughter's best interest to be vaccinated against COVID-19, but that his ex-wife \"is strongly opposed\" to this. According to him, the pair have had many discussions on the issue but have not been able to resolve the matter amicably. \"I am left with no alternative but to apply to this honourable court to vary the consent order to allow me to be allowed to make a decision on having (my daughter) vaccinated,\" he wrote. The man is represented by lawyer Chung Ting Fai. Attached with the affidavit was a letter by the man's daughter, where she expressed her desire to get the COVID-19 vaccine. \"Due to the increased number of community cases in recent weeks, I have become more concerned for my health and that of those around me,\" she wrote.  \"I want to immunise myself against the virus so even in the case that I get it, my chances of becoming seriously ill are inhibited.\" She also added some personal motivations for getting the vaccine, such as her hopes to travel, to have a social life and to dine out and catch a movie. As of Wednesday morning (Oct 6), the teen's mother has not yet responded to the court action.\n",
      "\n",
      "\n",
      "SINGAPORE: Coming from a family of professional photographers meant Enoch (not his real name) honed a good eye from young, but there were two things he didn’t see coming.  First, a jail term for drug-related offences, and second, finding his calling in prison.  The latter came about when he undertook the Specialist Diploma in Social Media Marketing and Online Content Creation in the prison’s multimedia hub at Tenah Merah Centre.  The diploma programme, taught by the Singapore Media Academy, was possible through a collaboration between Yellow Ribbon Singapore and Mediacorp.  As part of a module during the four-month course, which began in November 2020, Enoch needed to create a three-minute film – something he “wasn’t big on doing”.  “I’ve always been really into photography, but part of the module required us to do a three-minute short film … which I really dread. For the longest time, I wasn’t big on doing films because I personally think it’s a real hassle,” said the 31-year-old, who worked as a photographer and graphic designer prior to his sentence.  “But I really enjoyed myself doing everything from scriptwriting, storyboarding, shooting the thing and post-processing … That was a bit of a turning point for me. I’d want to continue doing storytelling. It pushed my boundaries, and I’ve never enjoyed myself so much.” Enoch said he “found (his) calling doing creative work”.  But he wasn’t always as optimistic.  When Enoch first started taking drugs, he wasn’t in “the right mental headspace” due to a host of personal problems, including the death of a friend.  “I was actually quite depressed, so I was self-medicating to run away from my problems at that point in time,” he shared with reporters during a Zoom interview organised by Yellow Ribbon Singapore on Tuesday (Oct 5).  “Of course, doing time now, I realise that wasn’t the right way to deal with my problems. Apart from the death of my friend, I have my own demons. I let down my family and mum, especially. I’m really, really close to my mum. That was a major setback for me.” Life was “actually good before this happened”, he told CNA separately over email replies.  Likewise, fellow inmate Adam (not his real name), who was also incarcerated for drug-related offences, got involved with drugs when he was going through a “tough time at work”.  Back then, he was an audio and visual technician in the nightlife industry, and wasn’t getting paid because the company wasn’t doing well financially.  “Drugs were exposed to me because of the people around me. Being in the nightlife (industry), drugs aren't something new. It’s not something that’s uncommon. Being in that situation, it was the quickest alternative, the easiest alternative,” the 31-year-old told reporters.   “I didn’t think about how it would be affecting my family at that moment. But after seeing myself in here, and seeing how my family has to struggle out there, fend for themselves, it’s given me an awakening. What I did was actually very selfish.” Under the same collaboration between Yellow Ribbon Singapore and Mediacorp, Adam pursued the Diploma in Media (Content Production and Management) - Assistant Director offered by the Singapore Media Academy.  Despite having no experience in film production and the GCE N-Levels as his highest qualification, he took to the diploma like a fish to water. He graduated top of his cohort in a graduation ceremony held on Wednesday for inmates, including himself and Enoch, at Changi Prison Complex.  Both Enoch and Adam were told about the media courses by their prison officers, with whom they’d shared their passion for media.  But going back to school behind bars came with its own set of challenges – for both students and teachers. Unlike regular students who can readily access information on the Internet, inmates relied on the “handful of resources” brought in by lecturers.  “We can't openly use Google. So there are a lot of things that are being controlled. Like if we need images, the lecturers have to get it for us pre-prepared,” said Enoch, who is also a graduate from LASALLE College of the Arts.  “We have to be more creative with work. Because we can't find reference images on the fly, we have to draw things up by ourselves.” Enoch recalled, for instance, being tasked to build a website through WordPress for a module. To work around the restrictions, he used PowerPoint.  Similarly for Adam, learning about film production meant he had to deal with limited location options in prison.  “There were quite a number of limitations in terms of resources. Because ours is film production, so number one, location wise is restricted. We’re in a controlled environment,” he said.  The Singapore Media Academy said its priority was ensuring the diploma programmes were “realistic” for inmates.  “Before embarking on the collaboration, the main concern that we had was how do we make the training experience as realistic as possible, compared to the public run. What are some of the considerations, what are some of the boundaries that we’re working within, (and) security,” said Mr Timothy Tan, head of the academy.  “Some things that we take for granted, like the Internet and (going) out to research may not translate well … I think as an academy, we try very hard to deliver as realistic and comparable an experience (for the inmates).”  One of the main challenges for academy trainer Foo Piao Xu, who also trains members of the public, was the lack of choice of locations in the prison.  “Sometimes we take it for granted until we go (into the prison) and realise, okay, we have so limited choices. Organic to the nature of production is film location. So how we get around that is by being creative. We had to tweak the scripts that we would normally use outside,” she said.  “Instead, we will either have to create new scripts for them, or we will just basically have to use a little bit more imagination in class.” Another challenge Ms Foo faced was the lack of accessibility to Web resources.  “With social media, we’re able to use illustrations in class (with) members of the public, but not so much when we’re teaching in the prison,” she added. Even though there were obvious limitations from the get-go, Mr Tan said the academy chose to offer inmates the Diploma in Media (Content Production and Management) and Specialist Diploma in Social Media Marketing and Online Content Creation for several reasons.  “As an assistant director on the set, you have a very good understanding with regard to the way the set works. It’s a very good platform from which to learn other specialised vocations like sound, cinematography, directing, so we felt that (the course) was really helpful as an entry for inmates into the media industry,” he said.  The social media course was selected mainly due to market demand for “talented and trained” marketeers in the industry.  “The other piece that is extremely important is content creation. Without content, we cannot advertise,” he added.  Yellow Ribbon Singapore said it hopes to train about 60 inmates a year under this collaboration with Singapore Media Academy.  Mr Tan said the collaboration has “affected us as an academy”. “Going through the profiles of potential learners, understanding their background … these very touching stories that show their perseverance, determination and willingness to really prove themselves, despite the odds … that has inspired my team very much,” he said.  “That permeates into other fields of training that we do. We have students who may not meet the minimum entry requirement for some of our programmes. They write to us, we listen to them, and then we have our own systems and processes to give them a second chance as well.” Having benefited from second chances that people have given to him throughout his own career too, Mr Tan believes someone who’s given a second chance would be “all the more determined” to prove themselves or make a mark.  This, eventually, translated into “a sense of hunger”, as Ms Foo observed in the inmates she taught, including Enoch and Adam.  “They’re actually able to sustain a very high level of positive learning attitudes throughout the entire course. I can sense that for the inmates, they were very, very hungry to learn anything new that would increase their chances of looking for a job in the future,” she said.  “The moment they learn something in class, they actually apply straight away, and they just do that on their own. And even between lessons, they will come to me and … ask me to give some input on the projects that they're working on.” For Adam, taking on the media diploma in prison showed him that he could “still study, still learn”, and that he wasn’t done upgrading himself, as he previously thought. After being released, he hopes to make a career in film production and lead a production team as an assistant director.  Enoch, on the other hand, wants to open his own creative agency, focusing on digital campaigns and online content, he told CNA over email.  Both men ultimately acknowledged that getting beyond entrenched mindsets about ex-offenders once they’re released from prison won’t be easy, but pointed out that being given a second chance starts within.  “I honestly feel that (discrimination) is something that is there, and we cannot force someone to change their thinking of us … that is something we can’t control much. The most important thing is I need to give myself a second chance before people can give me a second chance,” said Enoch.  “I have my own demons so I have been working on that, and I think I've come to a point where enough is enough and (I’m) picking myself up and starting over again.” Adam added that overcoming discrimination was merely one part of life after prison.  “If I’m not willing to put myself through change, then even if there’s no discrimination out there … there’s no room for improvement. Whatever it is, it starts with ourselves first,” he said.\n",
      "\n",
      "\n",
      "KUALA LUMPUR: It is a busy period for construction contractor Edward Tan as he has to monitor two major renovation jobs he is carrying out for his clients. At the same time, he is also juggling a number of smaller repair and maintenance jobs to keep his business’s cash flow moving. “Usually, the fourth quarter of the year is the busiest, because everyone wants to get their house renovated before the Chinese New Year, no matter whether they’re Chinese or otherwise,” he said.  Being busy now is a good situation following months of COVID-19 lockdown in Malaysia, Tan said.  Previously, he would have about six requests a year from potential clients to carry out major renovations on their properties.  “Such work would mean demolishing and building new extensions, totally new layouts, rewiring and laying out new plumbing for the property,” the contractor of Cornerstone Pro Enterprise Sdn Bhd explained.  When varying degrees of lockdowns were enforced due to the pandemic, he was unsure if the standard operating procedures permitted his team to work, even for critical repairs at clients’ houses. With the gradual lifting of curbs as Malaysia shifts towards an endemic COVID-19, more economic activities are now permitted across the country.  In the first week of August, Senior Minister for Works Fadillah Yusof announced that registered contractors with the Construction Industry Development Board could carry out house renovations in states under the first phase of the National Recovery Plan.  They were required to apply for permits to work using the Ministry of International Trade and Industry’s online application system.  Contractors like Tan said they were inundated with many requests since then, as home owners have put their renovation projects on hold since the first lockdown in March last year.   The prolonged stay-at-home period also made some house owners realise the need to upgrade their spaces as well as to make working from home more conducive.  However, the contractors told CNA they did not dare to take on more projects than they can handle, due to a variety of factors from manpower to budgets and supplies.  Tan said he has received more than six enquiries in the last four weeks. “It is a good problem to have, but at the same time, I dare not over-commit to too many projects, otherwise the project quality or the workmanship suffers,” he said. Likewise, Scott Leong, who has been running his one-stop design and build renovation service for over three years, said after the most recent lockdown was lifted at the end of July, he had to rush to start work on jobs which had been backlogged since the beginning of the year.  “Right now, I have to handle about seven minor renovation projects simultaneously, all in condominium units, and there are more requests coming in,” he said.  Electrical contractor Lim Chui Leng, who has been working as an electrician for over 20 years and now runs his own business, said job requests were still coming in.  He recalled how his business was affected by the first movement control order (MCO) and the subsequent lockdowns.  “Last year was harder, because I still needed to pay my workers but no movement was allowed. Luckily I had earned enough from some big jobs before March, so that helped.” From May to July this year, he went to work at a friend’s vegetable farm in Pahang. “He needed manpower, and this way, I could still afford to pay my workers,” he said. One reason for the jump in requests, according to Tan, was the fact that people have been cooped up at home due to the lockdowns and started paying more attention to areas that need fixing. “Before the lockdowns and COVID-19, for a lot of us, home was just a place we came back to bathe and sleep in,” he said. “But now that you are at home 24/7, you start to notice all the little problems, maybe leaks or cracks and other repairs which you cannot ignore now.”  Others might want to renovate their homes to be more conducive for both working and living, Tan added. Such was the case for Rachel Liu, who made sure she factored in workspaces when designing the new house she bought with her siblings at the beginning of this year.  “This is something we learnt from the 2020 lockdown. Each room has to have a comfortable workspace,” she told CNA.  Leong, the one-stop renovation service provider, said home office was one of the main topics brought up by prospective clients during design meetings. “And they are willing to set aside a good budget because comfort and utility are a must if you are going to be spending your days working from home,” he pointed out. Before the pandemic, loose office furniture would have sufficed for most clients, he added. “Now, I get asked to custom-build their study tables or work surfaces and cabinets,” he said. Despite the sudden rise in requests, the contractors said they were not taking up more projects than they could handle as they have to grapple with labour shortage and material costs.  Lim said it has been difficult to source for certain materials.  “Items like wiring and steel have gone up. Copper has increased by 40 per cent, but we cannot increase our prices too much, or the home owner might not even consider proceeding with the renovation at all,” he said.  Leong said that prices had risen by 30 per cent onwards for some materials due to high demand and import issues, the latter of which caused some items to be out of stock. “It has become such that sometimes, you can’t do proper quotations for the clients.  “Usually quotes would be valid for two weeks or a month but now, it is like playing the share market. You do not know what the final price is, until you actually pay,” he said.  Labour shortage was another problem.  “A lot of us in the industry are heavily reliant on foreign labour, and between last year and now, a lot of foreigners have gone back to their home countries because there was no work to be found,” Tan said. These have contributed to frustrations on some home owners’ end.  Teh Eng Hock said he had to wait for weeks before his contractor showed up to fix his leaking roof, a recurring problem since he renovated his house in late 2018 and early 2019.  “This year, it was harder to get him to respond as most (of his) foreign workers have left to go home.” “He just came back to do the repairs. He couldn't get workers, so he came on his own,” Teh, a public relations consultant, said. Liu, a special needs educator, was glad that her new family home could finally be worked on this month after delays in getting the municipal approval for the renovation. They were also waiting for the high costs of materials to stabilise, while the contractor completed his other jobs.  The house was around 50 years old so a major rework was needed, she said.   “The prices look like they are coming down slightly now but my contractor warned me to prepare an extra 5 to 10 per cent of our budget, just in case,” she added. Download our app or subscribe to our Telegram channel for the latest updates on the coronavirus outbreak: https://cna.asia/telegram  \n",
      "\n",
      "\n",
      "SINGAPORE: Corticosteroids such as dexamethasone are the \"mainstay\" for the treatment of severe COVID-19 in Singapore, while an antibody therapy will also soon be used to treat patients with mild to moderate symptoms. Dr Shawn Vasoo, clinical director at the National Centre for Infectious Diseases (NCID), told CNA on Wednesday (Oct 6) that steroids exert an anti-inflammatory effect, and it is this inflammation that is the \"main driver of disease\" in cases of severe COVID-19.  Corticosteroids are normally used to treat a range of allergic reactions, such as rheumatoid arthritis or asthma. A landmark trial found a \"significantly lower\" mortality rate in COVID-19 patients given dexamethasone if they were receiving oxygen or were on a ventilator. There was an overall relative risk reduction of death by about 11 per cent, at 28 days after the patient acquired COVID-19, said Dr Vasoo. As of noon on Tuesday, 1,512 COVID-19 cases in Singapore were warded in hospital, with 247 cases requiring oxygen supplementation. There were 34 COVID-19 cases in the intensive care unit. Two antibody therapies have been recently granted interim authorisation under the Pandemic Special Access Route by the Health Sciences Authority (HSA) to treat those with mild to moderate COVID-19.  \"One of the antibodies we have started to use is a drug called sotrovimab, and casirivimab-imdevimab is another one which will come into clinical use soon in Singapore,\" said Dr Vasoo. Casirivimab-imdevimab, made by Roche-Regeneron, was given interim authorisation on Sep 21.  \"This will allow infectious diseases specialists to use the combination monoclonal antibodies therapy for the treatment of COVID-19 patients aged 18 years and older, who do not require oxygen supplementation and are at risk for progression to severe COVID‐19,\" said HSA. HSA said clinical data from a Phase 3 study showed that casirivimab-imdevimab demonstrated a 70 per cent reduction in the \"relative risk for progression to requiring acute treatment in hospital or death due to COVID-19\".  Sotrovimab was granted interim authorisation on Jun 30. HSA said trial clinical data showed the drug demonstrated a 79 per cent reduction in the relative risk of progression to requiring acute treatment in hospital or death from COVID-19. Last year, an antiviral drug remdesivir - created originally to tackle Ebola - was conditionally approved for treating COVID-19 patients in Singapore. Dr Vasoo told CNA that some high-risk patients, for example those with pneumonia or are a risk of progression to pneumonia and severe disease, may receive remdesivir. \"For patients with severe COVID-19 (ie who need oxygen support), remdesivir can still be considered, but as an antiviral, its utility is greater earlier in the disease course,\" the clinical director said. HIV drugs lopinavir and ritonavir - among the first drugs used to treat some COVID-19 patients in Singapore - are not administered by the NCID because “they have not shown efficacy in randomised controlled trials to date”, Dr Vasoo said.  \"The major definitive trials which have informed practice have been completed. It is unlikely that any further new, groundbreaking trials will be attempted,\" he added. Pharmaceutical company MSD announced on Wednesday morning that it has entered a supply and purchase agreement with Singapore to provide molnupiravir, an investigational antiviral drug to treat COVID-19, if it is authorised or approved. The drug, which is being developed in collaboration with Ridgeback Biotherapeutics, is being evaluated in two Phase 3 clinical trials, said MSD, which is known as Merck in the United States and Canada. The company said last Friday that molnupiravir has been shown during trials to reduce the risk of hospitalisation or death by about 50 per cent for patients with mild to moderate COVID-19.  It has also been shown to be active against the most common variants of the COVID-19 virus, including the highly infectious Delta variant. Download our app or subscribe to our Telegram channel for the latest updates on the coronavirus outbreak: https://cna.asia/telegram  \n",
      "\n",
      "\n",
      "SINGAPORE: The Ministry of Manpower (MOM) has asked employers of foreign domestic workers to remind them not to engage in terrorism-related activities following \"the developments in Afghanistan\".  In an advisory on Wednesday (Oct 6), the ministry said the situation in Afghanistan may pose a security threat to surrounding countries and the rest of the world.  \"Radicals from Southeast Asia may also be inspired to travel to Afghanistan to take up arms with militant groups there,\" the advisory read.  MOM also urged employers to remind maids not to \"support or import foreign politics\" or to \"make any remarks that may incite violence or ill-will amongst the various communities, especially on the Internet\".  The Manpower Ministry warned that the Government \"will not condone any form of support of extremism, violence, and terrorism\" and would deal with anyone caught doing so \"severely\".  The advisory added that maids should alert the authorities if they know anyone \"affected by the Afghanistan crisis\". It also urged them to \"exercise caution (in making) donations for humanitarian causes, and do it through legitimate channels\".  The ministry provided materials in several languages: Bahasa Indonesia, Burmese, English, Tagalog and Tamil. The Ministry of Home Affairs and the Singapore Police Force also signed off on the advisory.  \"If you or your (domestic worker) know of anyone who may be involved in terrorism-related activities, alert the authorities immediately. Please call Police at 1800 255 000, or Internal Security Department at 1800 2626 473,\" the advisory said. CNA has contacted the Manpower Ministry for more information, including on whether a similar advisory was sent to companies that employ migrant workers.\n",
      "\n",
      "\n",
      "French fine dining restaurant Odette from Singapore has broken into the top 10 list of The World’s 50 Best Restaurants, an annual list that celebrates the best names in gastronomy from around the world.  The restaurant, helmed by chef Julien Royer, leapfrogged 10 spots to claim its place at No 8 on this year’s list. The 2021 list, which was revealed on Tuesday (Oct 5), is the first edition since 2019, where Odette placed at No 18. Last year’s event was cancelled due to the pandemic.  “It is a privilege to be here alongside our peers at The World's 50 Best Awards Ceremony today, even more so to climb to No 8 on this prestigious list,” chef Royer wrote on Odette’s Instagram page. “We could not be happier challenging ourselves at every turn and to continue to be able to do what we love; today is a wonderful reminder of the intangible value this industry brings.”   A post shared by Odette (@odetterestaurant) This year, there are two Singapore restaurants on the list. Australian-style BBQ restaurant Burnt Ends, helmed by chef Dave Pynt, made its triumphant debut at No 34. It last placed at No 59 in 2019 and did not make the cut for top 50.  The 2021 list was announced during a live ceremony that took place in Antwerp, Belgium. This year’s event saw restaurants from 26 countries across five continents place on the list. Noma, the acclaimed tasting menu restaurant helmed by chef Rene Redzepi in Copenhagen, landed at the No 1 spot. It takes over from French restaurant Mirazur, which has now moved to the Best Of The Best category for previous No 1 winners. Other restaurants in Asia that featured on the list include Hong Kong’s The Chairman at No 10. Although The Chairman was crowned No 1 in the Asia's 50 Best list, Odette has surpassed it on the World's 50 Best list.  Tokyo’s Den and Narisawa came in at No 11 and No 19 respectively, while a new entry from the city, Florilege, took the No 40 spot.  Shanghai’s Ultraviolet placed at No 35, while Bangkok’s Suhring featured at No 40. See the full list below. 1. Noma (Copenhagen, Denmark) 2. Geranium (Copenhagen, Denmark) 3. Asador Etxebarri (Axpe, Spain) 4. Central (Lima, Peru) *Best Restaurant in South America* 5. Disfrutar (Barcelona, Spain) 6. Frantzen (Stockholm, Sweden) 7. Maido (Lima, Peru) (up three places) 8. Odette (Singapore) *Best Restaurant in Asia* 9. Pujol (Mexico City, Mexico) *Best Restaurant in North America* 10. The Chairman (Hong Kong) *Highest Climber Award* 11. Den (Tokyo, Japan) 12. Steirereck (Vienna, Austria) *Art of Hospitality Award* 13. Don Julio (Buenos Aires, Argentina) 14. Mugaritz (San Sebastian, Spain) 15. Lido 84 (Gardone Riviera, Italy) *Highest New Entry Award* 16. Elkano (Getaria, Spain) 17. A Casa do Porco (São Paulo, Brazil) 18. Piazza Duomo (Alba, Italy) 19. Narisawa (Tokyo, Japan) 20. DiverXO (Madrid, Spain) 21. Hisa Franko (Kobarid, Slovenia) 22. Cosme (New York City) 23. Arpege (Paris, France) 24. Septime (Paris, France) 25. White Rabbit (Moscow, Russia) 26. Le Calandre (Rubano, Italy) 27. Quintonil (Mexico City, Mexico) 28. Benu (San Francisco, California) 29. Reale (Castel di Sangro, Italy) 30. Twins Garden (Moscow, Russia) 31. Restaurant Tim Raue (Berlin, Germany) 32. The Clove Club (London, UK) 33. Lyle's (London, UK) 34. Burnt Ends (Singapore) *New entry* 35. Ultraviolet (Shanghai, China) 36. Hof van Cleve (Kruishoutem, Belgium) 37. SingleThread (Healdsburg, California) 38. Borago (Santiago, Chile) *Sustainable Restaurant Award* 39. Florilege (Tokyo, Japan) *New entry* 40. Suhring (Bangkok, Thailand) 41. Alleno Paris au Pavillon Ledoyen (Paris, France) 42. Belcanto (Lisbon, Portugal) 43. Atomix (New York City) *New entry* 44. Le Bernardin (New York City) 45. Nobelhart & Schmutzig (Berlin, Germany) *New entry* 46. Leo (Bogota, Colombia) 47. Maaemo (Oslo, Norway) 48. Atelier Crenn (San Francisco, California) 49. Azurmendi (Larrabetzu, Spain) 50. Wolfgat (Paternoster, South Africa) *Best restaurant in Africa*\n",
      "\n",
      "\n",
      "BANDAR SERI BEGAWAN: Southeast Asian countries are discussing not inviting the head of Myanmar's junta to a summit this month, due to the military's failure to make progress on an agreed roadmap to restore peace in the strife-torn country, a regional envoy said on Wednesday (Oct 6).  The junta's inaction on a five-point plan it agreed in April with the Association of Southeast Asian Nations (ASEAN) was \"tantamount to backtracking\", Erywan Yusof, the bloc's special envoy to Myanmar, told a news conference. Erywan, the second foreign minister of ASEAN chair Brunei, said the junta had not directly responded to his requests to meet detained former leader Aung San Suu Kyi, whose government was overthrown in a Feb 1 coup led by military chief Min Aung Hlaing. Myanmar has been in turmoil since the coup, which ended a decade of tentative democracy and prompted outrage at home and abroad at the return of military rule. More than 1,100 people have since been killed, according to the United Nations, many during a crackdown by security forces on pro-democracy strikes and protests, during which thousands have been arrested. The ASEAN roadmap included a commitment to dialogue with all parties, allowing humanitarian access and ceasing hostilities. Myanmar's long history of military dictatorship and alleged human rights abuses has been ASEAN's most tricky issue, testing the limits of its unity and its policy of non-interference. But the foreign ministers meeting virtually on Monday voiced disappointment about the lack of progress made by the State Administrative Council (SAC), as Myanmar's junta is known. Malaysia's top diplomat Saifuddin Abdullah on Twitter said that without progress, \"it would be difficult to have the chairman of the SAC at the ASEAN summit\". He reiterated his remark about Min Aung Hlaing in parliament on Wednesday and said the ASEAN envoy was doing \"whatever is humanly possible\" to make progress on the roadmap. Myanmar junta spokesman Zaw Min Tun did not respond to calls from Reuters on Wednesday. In an interview with Radio Free Asia's Myanmar service on Tuesday, he was asked what the impact on Myanmar would be if it was not allowed to attend the ASEAN summit.  \"Apart from some criticisms in the international community, there won’t be any,\" said the junta spokesman. \"There might be more or less, some repercussions on certain ASEAN projects or meetings or work being carried out in conjunction with other countries.\"  \n",
      "\n",
      "\n",
      "HONG KONG: Hong Kong leader Carrie Lam said on Wednesday (Oct 6) the city was at a new starting point for development under a national security law imposed last year and her priority is to focus on tackling a long-standing housing shortage in the city. Authorities in Hong Kong and Beijing have long blamed unaffordable housing in the former British colony for deep-rooted social problems that they say helped fuel anti-government protests in 2019. \"Fortunately, the implementation of the National Security Law and the improvement to our electoral system have restored safety and stability in society. Hong Kong is now ready again for a new start for economic development,\" Lam said in her annual policy address. Beijing imposed the law in June last year. It punishes what authorities broadly define as secession, sedition and collusion with foreign forces with up to life in jail. Critics say it is being used to crush freedoms promised under the \"one country, two systems\" formula agreed when the city returned to Chinese rule in 1997. Beijing and the city government say the law is needed to safeguard prosperity and stability and guard against outside interference. Lam's focus in her speech was on ensuring affordable housing to the city's 7.5 million people. \"Providing decent accommodation for all is the primary goal of my housing policy. Noting the public concern on the matter, I reviewed the progress and set out my vision on the issue,\" she said. Private home prices hit a record high in July, buoyed by limited housing supply and large flows of capital from mainland Chinese buyers. Making housing more affordable has been a priority for all of Hong Kong's leaders since 1997, although the prospect of owning a home is still a distant dream for many. Even residents with good jobs and salaries have struggled to get on the property ladder. Last month, Reuters reported that Beijing had given a new mandate to the city's powerful tycoons in a series of meetings this year that they should pour resources and influence into helping solve the housing shortage. The average waiting time for public housing in Hong Kong has climbed steadily and now stands at more than five-and-a-half years. Compounding the problem, home prices in former farming areas about an hour's commute from the heart of the financial centre have also surged, buoyed in part by mainland parents eager to educate their children in the city.\n",
      "\n",
      "\n",
      "WASHINGTON: US President Joe Biden said on Tuesday (Oct 5) that he has spoken to Chinese President Xi Jinping about Taiwan and they agreed to abide by the Taiwan agreement, as tensions have ratcheted up between Taipei and Beijing. \"I've spoken with Xi about Taiwan. We agree ... we'll abide by the Taiwan agreement,\" he said. \"We made it clear that I don't think he should be doing anything other than abiding by the agreement.\" Biden appeared to be referring to Washington's long-standing \"one-China policy\" under which it officially recognises Beijing rather than Taipei, and the Taiwan Relations Act, which makes clear that the US decision to establish diplomatic ties with Beijing instead of Taiwan rests upon the expectation that the future of Taiwan will be determined by peaceful means. The comments to reporters at the White House - made after Biden's return from a trip to Michigan touting a spending package - come amid escalations in the Taiwan-China relationship. China claims Taiwan as its own territory, which should be taken by force if necessary. Taiwan says it is an independent country and will defend its freedoms and democracy, blaming China for the tensions. Taiwan has reported 148 Chinese air force planes in the southern and southwestern part of its air defense zone over a four-day period beginning on Friday, the same day China marked a key patriotic holiday, National Day. The United States urged China on Sunday to stop its military activities near Taiwan. \"The United States is very concerned by the People's Republic of China's provocative military activity near Taiwan, which is destabilising, risks miscalculations, and undermines regional peace and stability,\" State Department spokesperson Ned Price said in a statement on Sunday. Biden also appeared to be referencing a 90-minute call he held with Xi on Sep 9, their first talks in seven months, in which they discussed the need to ensure that competition between the world's two largest economies does not veer into conflict.  \n",
      "\n",
      "\n",
      "TAIPEI: Military tensions with China are at their worst in more than 40 years, Taiwan's defence minister said on Wednesday (Oct 6), days after record numbers of Chinese aircraft flew into the island's air defence zone. Tensions have hit a new high between Taipei and Beijing, which claims the democratic island as its own territory, and Chinese military aircraft have repeatedly flown through Taiwan's air defence identification zone. Over a four day period beginning last Friday, Taiwan reported close to 150 Chinese air force aircraft entered its air defence zone, part of a pattern of what Taipei calls Beijing's continued harassment of the island. Asked by a lawmaker on the current military tensions with China at the parliament, defence minister Chiu Kuo-cheng said the situation was \"the most serious\" in more than 40 years since he joined the military, adding there was a risk of a \"misfire\" across the sensitive Taiwan Strait. \"For me as a military man, the urgency is right in front of me,\" he told a parliamentary committee reviewing a special military spending of T$240 billion (US$8.6 billion) for home-made weapons including missiles and warships. China says Taiwan should be taken by force if necessary. Taiwan says it is an independent country and will defend its freedoms and democracy, blaming China for the tensions. Chiu said China already has the ability to invade Taiwan and it will be capable of mounting a \"full scale\" invasion by 2025. \"By 2025, China will bring the cost and attrition to its lowest. It has the capacity now, but it will not start a war easily, having to take many other things into consideration.\" The United States, Taiwan's main military supplier, has confirmed its \"rock-solid\" commitment to Taiwan and also criticised China. Beijing blames Washington's policies of supporting Taiwan with arms sales and sending warships through the Taiwan Strait for raising tensions. Taiwan's special military spending over the next five years will go mostly toward naval weapons including anti-ship weapons such as land-based missile systems. Taiwan reported one Chinese air force aircraft entered its air defence zone on Tuesday.\n",
      "\n",
      "\n",
      "SINGAPORE: A new regional cybersecurity training centre that will see ASEAN member states work together to conduct research, share knowledge and train to respond to cyber threats, opened on Wednesday (Oct 6), three years after it was first announced. Located in the city centre at North Bridge Road, the ASEAN-Singapore Cybersecurity Centre of Excellence (ASCCE) has two training labs that can hold up to 100 participants, and other conference rooms and amenities to facilitate capacity building efforts, said the Cyber Security Agency of Singapore (CSA) in a media release on Wednesday. First announced in 2018, the ASCCE is an extension of the ASEAN Cyber Capacity Programme (ACCP). Then-Communications and Information Minister S Iswaran had said that the centre would spend S$30 million over five years to help ASEAN member states develop their cybersecurity capabilities.  The centre will focus on conducting research and providing training in areas including international law, cyber strategy, and other cybersecurity policy issues, said CSA. It will also provide technical training and facilitate the exchange of open-source cyber threat and attack-related information and best practices. Virtual cyber defence training and exercises will also be conducted, CSA added. These will be designed and delivered in collaboration with ASEAN member states, ASEAN dialogue partners and other international partners, with the help of top cyber experts and trainers. To date, more than 30 programmes have been conducted by the ASCCE and ACCP, with more than 900 senior officials from ASEAN and other states attending the sessions. Speaking at the opening ceremony of the 6th ASEAN ministerial conference on cybersecurity (AMCC), Communications and Information Minister Josephine Teo stressed the increasing importance of strengthening the region’s collective cybersecurity, with the cyber threat landscape significantly changing. “Supply chain and ransomware attacks are increasing in frequency, scale, and impact,” she said, pointing to high-profile attacks such as the SolarWinds breach and the Kaseya breach which affected thousands of businesses and organisations. “(These examples) also highlight the need for international cooperation to build consensus on the rules, norms, principles and standards governing cyberspace,” added Mrs Teo, who is also Minister-in-charge of Smart Nation and Cybersecurity. “Such efforts will help to ensure that states behave responsibly in their use of information and communications technologies (ICTs), so we can achieve an open, secure, and interoperable ICT environment. In doing so, we can also strengthen the rules-based multilateral order.” On this front, ASEAN has made progress with the regional organisation adapting UN’s recommendations to its unique operating environment, said Mrs Teo, who was speaking at her first AMCC since assuming her new portfolio as Communications and Information Minister in May. “We are making further progress through the development of the ASEAN Regional Action Plan, which will guide regional norms implementation. To this end, Malaysia and Singapore recently co-organised a workshop with our ASEAN colleagues,” she said, adding that she looked forward to the endorsement of the plan at the ASEAN Digital Ministers’ Meeting in December. But with malicious cyber threat actors continuing to enhance their modus operandi to bypass defences, said Mrs Teo, ASEAN member states cannot afford to lose momentum. She emphasised the need to work on areas including cyber strategy, cyber ops-tech collaboration, and cyber capacity building. She said it was timely to update the ASEAN Cybersecurity Cooperation Strategy to address evolving challenges. Launched in 2017, the ASEAN Cybersecurity Cooperation Strategy provided a roadmap for regional cooperation to achieve a safe and secure regional cyberspace. “Singapore is happy to take the lead and we will discuss this as one of the agenda items later. The updated Strategy places stronger focus on initiatives to support the establishment of the rules-based order in cyberspace and ASEAN’s Digital Masterplan 2025,” she said.\n",
      "\n",
      "\n",
      "SINGAPORE: Like so many, I have taken to cycling and it gives me great joy as I explore little-known pockets of green.  About a month ago, I experienced something scary. My legs cramped up badly during the last part of my ride and the pain shot up every time I moved.  I didn’t think I could make it home. But I decided to stop fighting the pain and the overwhelming fear that was taking hold of me. Some rest, a few deep breaths and a quick pep talk later, I climbed back on my bike. And as the pain somehow eased, I slowly pedalled the last few metres home, feeling elated and my earlier fears a distant memory.  That incident made me think about the fears we focus on and how we reinforce them.  The late Dr Wayne Dyer who spoke widely on motivation and self-improvement once said: “What you think about, expands. If your thoughts are centered on what's missing, then what is missing, by definition, will have to expand.”    Since mid-September, Singapore has been going through another challenging phase in our fight against COVID-19. As we see daily infections and deaths climb, our feelings of fear and anxiety rise too. Already feeling fatigued and missing the things we used to enjoy, like travel, this sense of weariness is palpable. Co-chair of the multi-ministry task force Lawrence Wong addressed this on Saturday (Oct 2) during a media briefing. He said this current wave can look worrying but that we cannot “get too carried away” or be “too anxious or fearful” about daily COVID-19 case numbers. For many of us, the high daily numbers only confirm our fears about how the pandemic will hurt us and the more we think about it the worse we feel.  In social psychology, this is called “social salience”. This refers to how much a particular object or event attracts attention and it usually stems from how much it stands out from the things we are used to.  Social salience can be a survival mechanism: It makes us aware of potential threats. It focuses our attention on what has changed in the environment and triggers certain defence mechanisms.  However, this same survival mechanism can also lead to biased perceptions. We call this the “salience bias”. It happens when we make decisions based on what is most noticeable or important to us. Unfortunately, we may end up overlooking other important information in the process. In our COVID-19 world, because of the information we get about daily infections and deaths, it is natural for people to focus on just those things.  Imagine for instance, if data on how many people die in road accidents were published every day. People may begin to fear driving and may avoid it.  But it is also fact that the vast majority – 98 per cent - of infected cases are mild or asymptomatic. Children under 12 accounted for just 0.6 per cent of all local infections and none required critical care. Doctors have also reiterated that vaccination and infection provide valuable immunity against variants.  Yes, COVID-19 can be devastating for those who are vulnerable, and the science is still unclear about the long-term effects of an infection. These are things we do our best with but cannot control.  For the rest of us, so long as we are socially responsible, we still have the opportunity to go about our daily lives without feeling constantly trapped by fear.  All major societal upheavals go through a transition phase. Auguste Comte, one of the founders of sociology as a discipline and sociologist Herbert Spencer, described how social change can be viewed using an evolutionary model similar to how we have seen organisms evolve over time. Hence societies evolve towards a more advanced and better state.  Interestingly societies which cannot adapt fast enough to external changes will decline. According to this evolutionary model, all societies go through this and arrive at different trajectories. Singapore is no different. It is going through a period of evolutionary transition, towards endemic COVID-19 living. As we have seen, this process can be rocky as all transitions are bound to be.  But the transition offers a chance for us to be stronger, more resilient, and perhaps even imbued with newfound abilities and capacities. This, however, requires a shift in the way we think about dangers and risks, and not be preoccupied by them. Responsibility for inculcating a resilient societal mindset does not only rest with the Government but every resident. How do we go about a new way of thinking about COVID-19?  The first step is to move away from the fixation with infection numbers, prioritise medical attention for the most vulnerable and continue safe management protocols and vaccination.  Second, normalise the practice of those with no or mild symptoms recovering at home. Without this shift, we may continue to see those with mild symptoms panicking, heading to hospitals and taxing vital medical resources that could have been directed to those who need it more urgently.  Third is to focus on what we can do to help fellow Singaporeans who might not be coping as well, and on meaningful things we can be grateful for and take comfort in. Finally, we can think about what will be better when this COVID-19 storm passes. For instance, migrant worker dormitories of tomorrow will be safer with even better sanitary conditions. OUR COLLECTIVE EMPATHY The seismic shift wrought by COVID-19 has similar beneficial effects on other areas of our lives – like our ability to work from home or discover the joys of our green spaces. Businesses too are pivoting with new innovations. As a society, we have also become aware of the most hard hit among us and can now empathise and find better ways of helping them cope. In short, we have the potential to evolve as a society, and the process has already begun. As Viktor Emil Frankl, Austrian neurologist, psychiatrist, philosopher, author and Holocaust survivor once said, “Our greatest freedom is the freedom to choose our attitude.” Victor Frankl also talked about “dereflection” which involves pivoting one’s focus away from oneself and towards others.  This, according to Frankl, makes one complete and prevents “hyper-reflection” on anxiety-generating situations. It all comes down to where we decide to put our focus and what we chase. If done collectively as a society, the impact can be profound. COVID-19 then becomes just another part of reality to adapt and navigate through.   Dr Omer Ali Saifudeen is a sociologist and Senior Lecturer, Public Safety and Security Programme, at the School of Humanities and Behavioural Sciences, Singapore University of Social Sciences.\n",
      "\n",
      "\n",
      "SINGAPORE: Singapore reported a record 3,486 new COVID-19 cases as of noon on Tuesday (Oct 5) and nine more deaths from complications due to the coronavirus. The latest fatalities involved six men and three women, aged between 64 and 90. Three of them were unvaccinated against COVID-19, while two were partially vaccinated and four had been vaccinated. All of them had various underlying medical conditions. This takes Singapore's death toll from the coronavirus to 130. Of the new cases, 3,480 are locally transmitted infections, comprising 2,767 cases in the community and 713 dormitory residents. Six are imported cases, said the Ministry of Health (MOH) in its daily update released to the media at about 11pm.\n",
      "The previous record in daily cases was on Oct 1 when there were 2,909 infections. As of Tuesday, Singapore has reported a total of 109,804 COVID-19 cases since the start of the pandemic.   There are 1,512 patients warded in hospital, most of whom are well and under observation, said MOH. A total of 247 cases require oxygen supplementation, and 34 patients are in critical condition in the intensive care unit (ICU). Of those who have fallen very ill, 235 are above the age of 60. Over the last 28 days, 570 cases required oxygen supplementation and 56 had been in the ICU. Of these, 50.3 per cent were fully vaccinated and 49.7 per cent were unvaccinated or partially vaccinated.   MOH said it is “closely monitoring” five active clusters, including United Medicare Centre at Toa Payoh. The nursing home is a new addition to the list. Transmission at the centre occurred between eight staff and six residents, putting the cluster at 14 cases currently. The COVID-19 cluster at Learning Vision @ Changi Airport grew to 13 on Tuesday, adding one case. Three dormitories are in the list of clusters: ASPRI-Westlite Papan Dormitory, Tampines Dormitory and Jurong Penjuru Dormitory 2. Visits to residential care homes will be suspended for another two weeks until Oct 24, the Health Ministry announced earlier on Tuesday.  This is after several new COVID-19 clusters were detected in aged care facilities in the past two weeks. \"The extension will also provide more time for our seniors in the homes to get vaccinated or receive their booster shots,\" said MOH. The residential care homes will continue to offer caregivers and family members the option of telephone or video calls as an alternative to physical visits. Download our app or subscribe to our Telegram channel for the latest updates on the coronavirus outbreak: https://cna.asia/telegram  \n",
      "\n",
      "\n",
      "SEOUL: South Korea will begin taking reservations for coronavirus vaccines from pregnant women this week as the country accelerates its inoculation drive to reach its goal for immunising 80 per cent of all adults by the end of the month. Health authorities see pregnant mothers as key to the campaign and sought to drum up participation through public notices and news conferences saying they have a greater possibility of serious illness and death if infected with COVID-19. Pregnant women are eligible to sign up for a shot starting Friday (Oct 8), for inoculation set to begin on Oct 18 using Pfizer or Moderna vaccines, according to the Korea Disease Control and Prevention Agency (KDCA). \"The vaccines are safe for pregnant women and can meaningfully decrease their risks of contracting COVID-19 and becoming critically ill,\" KDCA director Jeong Eun-kyeong told a public briefing on Monday. Of the 731 pregnant women infected with the virus in South Korea as of August, about 2 per cent of them developed serious illnesses, more than six times that of women aged between 20 to 45, according to the KDCA. But officials have advised people with shorter than 12 weeks pregnancy to consult medical staff before getting a shot. Some 54.5 of the country's 52 million population and around 63 per cent of adults were fully vaccinated as of Tuesday, and authorities aim to complete vaccination for 80 per cent of all adults by the end of October. The government plans to begin vaccinating children aged 12 to 17 next month, and providing booster shots for people aged 75 or older and other priority groups next week, including those who live or work at nursing homes and care facilities. Authorities are also mapping out a plan on how to live more normally with COVID-19, to be implemented in phases starting later this month to gradually ease distancing rules and restrictions, though masks will still be mandatory at least in the initial stages. The KDCA reported 2,028 cases for Tuesday, as the numbers resurged after the Korean thanksgiving, Chuseok holidays. However, the ongoing wave has seen far fewer serious infections than earlier outbreaks, with many older and more vulnerable people having received vaccines. Critical cases hovered around 350, and total infections rose to 323,379, with 2,536 deaths. Download our app or subscribe to our Telegram channel for the latest updates on the coronavirus outbreak: https://cna.asia/telegram  \n",
      "\n",
      "\n",
      "SINGAPORE: Singapore will allow vaccinated foreign domestic workers to enter the country from Nov 1 this year, Manpower Minister Tan See Leng said on Tuesday (Oct 5). The Manpower Ministry will begin accepting new entry applications for maids who are vaccinated from Oct 15, he said in a written reply to a parliamentary question. However, as entry approvals continue to be limited for public health reasons, it could take around three to six months before their domestic workers can enter Singapore, he said, adding that this will also depend on the COVID-19 situation at source and locally.  \"If the situation improves in the region, we can approve more to enter,\" he said. Dr Tan said that the Ministry for Manpower (MOM) has completed rescheduling domestic workers whose entry approvals were postponed in May, and that they will be able to enter before the end of the year. He was responding to a question from Member of Parliament Dennis Tan (WP-Hougang), who had asked whether the Government will take \"urgent steps\" to allow more maids into Singapore to reduce the current waiting time for Singaporean households urgently requiring their services. \"We will continue to give priority to households with urgent and very challenging caregiving needs, particularly sick elderly and family members with special needs,\" Dr Tan said.  Dr Tan also said that households that need domestic helpers \"urgently\" can consider going through a pilot programme by the Association of Employment Agencies that began in July this year. Under this commercial initiative that was started to meet the demand for domestic workers, the association works with its overseas business partners to implement additional safe management measures prior to the workers’ entry into Singapore. The pilot has shown to be “effective” at reducing the risk of COVID-19 importation, Dr Tan said. The pilot programme covers maids from Indonesia and the Philippines, according to the announcement in July.  The association and its partner employment agencies are \"doing their best\" to scale up the pilot to include domestic workers from other countries, said Dr Tan on Tuesday. “However, they will need time to find suitable business partners to facilitate the ground processes in overseas countries and ensure that it remains effective at minimising importation risk,” he said.  \n",
      "\n",
      "\n",
      "SINGAPORE: Households in Singapore are encouraged to use electricity \"prudently\" as electricity prices increase due to doubling of fuel prices, said Minister for Trade and Industry Gan Kim Yong on Tuesday (Oct 5). In a written parliamentary reply on Tuesday, Mr Gan said fuel prices have more than doubled over the last one and a half years, with many places affected, including China, Japan, the European Union and the UK.  \"As an energy importer, Singapore will also be impacted by price movements in the global energy market,\" said Mr Gan.  The minister was responding to questions by Member of Parliament Murali Pillai (PAP-Bukit Batok) regarding the prices of natural gas, which have more than doubled to date and are expected to cause electricity prices to be higher in the next quarter.  Mr Pillai asked what further steps will be taken to ensure the price of electricity does not rise steeply for this period. He also asked what steps will be taken to ameliorate the impact of higher electricity prices on households that are particularly affected by the COVID-19 pandemic, as well as encourage households to be more energy-efficient at the same time.  SP Group announced last Thursday that electricity tariff for households will increase by 3.1 per cent for the October to December period this year. This is due to the higher cost of fuel for producing electricity by the power generation companies.  Mr Gan said the impact of short-term spikes in fuel prices is cushioned in two ways - power generation companies buy the bulk of their natural gas under multi-year gas supply contracts. They also pass on some of this price stability to consumers through fixed price plans.  Sustained high fuel prices will eventually feed into Singapore's electricity prices, said Mr Gan, adding that Singapore is importing almost 100 per cent of its energy needs today.  \"In spite of best efforts to deploy solar energy in Singapore, we are land constrained and will need to continue to rely on energy imports one way or another, and be subject to global price movements,\" he said.  Fuel prices have also been low for some time and had dipped to their lowest in the last 20 years earlier this year, said Mr Gan. However, this may rise as global demand recovers.  At the same time, wholesale electricity prices have been \"depressed\" below the cost of producing electricity in the last five years, due to overcapacity in generation, he said.  \"With rising demand from sectors such as data centres, 5G networks and electric vehicles, we will see electricity prices rise and normalise. \"No company that is commercially run will sell electricity below cost perpetually,\" Mr Gan added.  Eligible households will receive GST Voucher - U-Save rebates to support them with their utility expenses, said Mr Gan.  In 2021, an additional 50 per cent of rebates was provided through the GST U-Save special payment, which was disbursed in April and July 2021.  Mr Gan also encouraged households to use \"electricity prudently\" in various ways. He said SP Services have been progressively replacing households' analogue electricity meters with advanced ones that allow households to track their electricity consumption through the SP Utilities mobile app.  This would help households better understand their electricity usage patterns and encourage them to be more energy-efficient, he said.  Additionally, the National Environment Agency (NEA) provides online resources via the E2Singapore website to help households design energy-efficient homes and adopt energy-saving habits, Mr Gan added.  He used an example where households can use the Life Cycle Cost Calculator to compare the energy efficiency levels of different home appliances. They can also refer to the resource efficiency guide for new homeowners for energy-efficient home renovation tips.  Last November, NEA and the national water agency PUB launched the Climate Friendly Households Programme to encourage 1-room to 3-room HDB households to switch to using resource-efficient appliances.  \"Each eligible household is given e-vouchers to offset their cost of purchasing LED lights, energy-efficient refrigerators, and water-efficient shower fittings,\" said Mr Gan.  \"We encourage all Singaporeans to adopt energy conservation as a way of life – from designing an energy-efficient home, to choosing energy-efficient appliances and adopting energy-saving habits,\" he added. \n",
      "\n",
      "\n",
      "SINGAPORE: Categorising Certificates of Entitlement (COEs) for motorcycles based on their engine capacity was among the proposals made by Member of Parliament Faisal Manap (WP-Aljunied) as he called for the current COE system for the two-wheelers to be reviewed.  Speaking during an adjournment motion in Parliament on Tuesday (Oct 5), Mr Faisal said his suggestions were aimed at making motorcycle ownership more affordable for those who depend on them for a living,  His call comes as COE premiums for motorcycles have been rising over the past year, hitting a record S$9,689 for the first round of bidding last month.  Mr Faisal proposed that motorcycle COEs be separated into classes based on their engine capacity, similar to how motorcycle licences are categorised.  The number of COEs in each of these proposed categories should be \n",
      "allocated according to the percentage of such motorcycles on the roads, he added.  Currently, motorcycle COEs all fall into a single category, while the COEs for cars are divided into Category A for cars up to 1600cc and Category B for cars above 1600cc.  The Workers’ Party vice-chair said he had previously suggested this in 2016, which prompted former Senior Minister of State for Transport Ng Chee Meng to respond then that such differentiation would lead to greater volatility in motorcycle COE prices. “This volatility has already set in as we can see from the COE prices for motorcycles especially in the last few months,” said Mr Faisal, calling on the Transport Ministry (MOT) to reconsider his proposal for a “proper and fairer allocation” of motorcycle COE quotas. He also asked for MOT to consider abolishing COE bidding for Class 2B motorcycles - which have an engine capacity of 200c and below - replacing it instead with a balloting system similar to that for Build To Order (BTO) flats.  He added this was a refinement of a parliamentary question he filed in 2014 asking if the COE could be abolished for such bikes, noting the reply then was that the certificates were required to regulate the motorcycle population.  Mr Faisal noted that in 2013, Mrs Josephine Teo - then Minister of State for Transport - had said a balloting system for car COEs could encourage a black market, and that it was not possible to set a price for balloted COEs which would deter speculators but remain feasible for genuine buyers.  “However, I believe that the introduction of a balloting system with conditions attached, similar to what is done for BTO flats, could be a way to regulate the Class 2B motorcycle population,” he said.  “Like BTO buyers, prospective owners of 2B motorcycles are more likely to be first-time buyers with a genuine need.” Should the authorities choose to retain the bidding system for smaller motorcycles, the Aljunied MP said motorbike buyers should be allowed to bid for COEs under their own names, rather than through dealerships as is the case currently.  This would deter possible speculation by dealers, he said. Mr Faisal noted the Land Transport Authority (LTA) had said there was no evidence of such speculation.  “However, the number of expired or unused Cat D COEs, and the fact that COE prices rose significantly in the May 2021 exercise despite the higher number of motorcycle COEs on offer are signs that LTA may need to update its information,” he said.  He also called for MOT to allow for motorcycle COEs which have been renewed for five years, to be renewed for an additional five years after that.  COEs - which are typically valid for an initial period of 10 years - can be renewed for either an additional five or 10 years. However, those who renew for five years are not allowed to renew the certificate for another five years once the initial renewal period expires.  Mr Faisal noted such an extension is currently only available for Category C vehicles, comprising goods vehicles and buses.  “Given that there is a segment of our population that depend on their motorcycles for work, I am asking for the same flexibility offered to\n",
      "owners of goods vehicles and buses to be extended to the riders as well,” he said.  Mr Faisal also reiterated his call for the Preferential Additional Registration Fee (PARF) rebate - granted to deregistered cars not older than 10 years - to be extended to motorcycles with Additional Registration Fee (ARF), and asked for allocated areas for delivery riders to temporarily park their motorcycles while making deliveries in areas such as the Central Business District.  “I am mindful that the ultimate goal is not to lead to an increase in the\n",
      "number of motorcycles on the road. Rather, my intention is to improve the well-being of our fellow Singaporeans who rely on riding motorcycles to make a living,” he said.  Responding to Mr Faisal, Senior Parliamentary Secretary for Transport Baey Yam Keng said the high prices for motorcycle COEs in recent months indicated “strong demand”.  About 99 per cent of temporary COEs - which must be used to register motorcycles within a six-month period to avoid forfeiting a S$200 deposit - have been utilised since COE bidding resumed in July last year, said Mr Baey, noting the historical average has been about 91 per cent.  He added that the lower COE supply for the current three-month period, coupled with the high demand, would likely have contributed to higher COE premiums. But he said that dividing motorcycle COEs into subcategories would not work, due to their “relatively small” quota.   “For example, for August to October 2021, about 440 Category D COEs were available in each bidding exercise. If we were to divide this further, there will be even smaller quotas for each sub-category. This will likely result in greater volatility and potential increases in COE prices,” he said.  Allocating COE quotas based on the engine capacity of motorcycles would also pose challenges, he added.  “The percentage of Class 2B motorcycles registered fluctuates across the years and even from month to month. It would therefore be very difficult for us to arbitrarily select an allocation basis.” Introducing a balloting system for smaller motorbikes would also require that the authorities “arbitrarily” set a price, said Mr Baey. “If the price is too low, it will increase demand and crowd out those who truly need the motorcycle for a living, and are prepared to pay a bit more for the value it brings,” he said.  On allowing motorcycle buyers to bid for their own COEs, Mr Baey noted that while this is already possible at ATMs, many choose to go through dealerships as they are able to get their motorbikes immediately using temporary COEs secured by dealers.  Removing such an option would have to be studied carefully as it could have unintended consequences for buyers, he said. The Senior Parliamentary Secretary also responded to Mr Faisal’s other suggestions.  Allowing motorcycle riders to renew their COEs for two five-year periods would “tilt the current balance between existing and prospective vehicle owners” as it would mean fewer COEs recycled for bidding, he said.  There are also no plans to extend PARF rebates to other types of vehicles, he said, noting motorcycle riders pay significantly lower ARF compared to car buyers.  On the issue of temporary parking areas for delivery riders, Mr Baey said parking provisions depend on the nature of the development and the geographical zone. \"We acknowledge that the food delivery sector has grown rapidly in recent years, and that commercial developments have their own circumstances and needs as well,\" he said. \"Commercial building owners are strongly encouraged to set aside motorcycle parking lots for food delivery riders, and to provide a reasonable parking grace period for them.\" MOT understands the concerns of those who ride for a living and is mindful of the needs of motorcycle owners, Mr Baey added. “I would like to assure the House that we are monitoring this situation closely, and will take action if warranted,” he said. \n",
      "\n",
      "\n",
      "SINGAPORE: While “buy now, pay later” (BNPL) schemes do not pose significant risk to household debt at the moment, the Monetary Authority of Singapore (MAS) is assessing if a regulatory framework is needed to guide such payment services as they become more widely used. This includes the adoption of fair dealing practices by BNPL providers, said Senior Minister and MAS chairman Tharman Shanmugaratnam on Tuesday (Oct 5). “For instance, clear disclosure at the point of account opening is helpful in ensuring that consumers are fully aware of the late fees chargeable if they do not pay on time.” MAS has been engaging BNPL providers, while reviewing the experience in other jurisdictions where such schemes are more prevalent, he added. Mr Tharman was responding to parliamentary questions from MP Desmond Choo (PAP-Tampines), who asked about the progress of the central bank’s review of these schemes. The MAS told CNA earlier in March that it was “reviewing the appropriate regulatory approach” for such schemes. Mr Choo also asked for the current value of BNPL transactions in Singapore and whether such services have resulted in greater indebtedness. BNPL schemes refer to short-term payment plans that allow individuals to make a purchase and pay for it over time. Instalments are not a foreign concept, but BNPL services allow one to split the cost for small-ticket everyday items, without interest fees and without having to own a credit card. This alternative payment method, primarily for e-commerce, has seen red hot growth in overseas markets, especially Australia, Europe and the United States, for some time now. It also started to gain traction in Singapore last year as the pandemic pushed more to sell and shop online. But the ease with which shoppers, especially younger ones, can make purchases through these schemes has stirred concerns among regulators in countries such as the United Kingdom and Australia. In his written response on Tuesday, Mr Tharman said BNPL schemes currently “do not pose significant risk to household indebtedness” in Singapore given how they are not widely used compared with other payment methods. Citing industry estimates that put the total value of BNPL transactions here at around S$114 million last year, the minister said this is “a very small fraction” of the S$92 billion in credit and debit card payments made over the same period. In addition, the current features of BNPL schemes in Singapore are “effective in mitigating the risk of excessive debt accumulation by consumers”, Mr Tharman said. These include how user accounts are subject to credit limits and will typically be suspended by the BNPL provider once a payment is overdue. Late payment fees are also typically capped. As BNPL schemes do not charge compounding interest on the outstanding amount, the risk of rapid debt accumulation is also not large, Mr Tharman said. Including the value of instalments that had yet to fall due, the total outstanding value of BNPL transactions as at end-2020 was about S$12 million.\n",
      "\n",
      "\n",
      "In Singapore, the colourful and vibrant heritage enclave of Kampong Glam is home to many bustling F&B businesses. While several hipster cafes have come and gone over the years, a few players have long dominated the scene. One of them is Fika Swedish Cafe & Bistro, situated along Beach Road. First opened in 2009, Fika is well-known for its halal traditional Swedish meatballs, served alongside other authentic Swedish food including pyttipanna (Swedish meat and potato hash), gravlax sandwich, toast skagen (shrimp toast) and more.   Fika was founded by Tasneem Noor, together with her husband, Joakim Smidhagen. The pair met when Tasneem was backpacking in Sweden in 2006. After getting married, Joakim moved to Singapore and the couple settled down here.  At the time, Tasneem was working as a graphic designer in contract publishing. Her father ran a wholesale shop retailing scarves on Baghdad Street and noticed that a row of three conservation shophouses on Beach Road were up for bidding.  “I’m always up for any challenge, so I said yeah, let’s bid on it,” she said. “We didn't actually know what we wanted to do. Essentially, there was no grand plan or great business idea of any sort.”  Away from Sweden, Joakim experienced a bout of homesickness. “We soon realised that there was no authentic Swedish food here and on top of that, no halal Swedish food,” the 40-year-old recalled. “So we thought that it would be a great idea to introduce Singaporeans to the cuisine.” That’s the story of how Fika was born and 12 years later, the restaurant remains a stalwart in the Kampong Glam area. In a city where the F&B scene is ever-evolving, that’s a testament to Fika’s success and popularity.  Over the years, Tasneem went on to open a string of halal F&B eateries in Kampong Glam. In 2016, she opened Konditori, a quaint artisanal bakery with European pastries and desserts, located just a stone’s throw away from Fika on Bussorah Street. In 2017, she opened waffle and dessert parlour Lickety, situated right next door to Konditori.  In a way, one could say she’s the queen of Kampong Glam, having redefined the dining scene here long before a wave of Instagrammable cafes popped up in the area.  ‘DOING MORE DOESN’T MEAN HAVING MORE’ With every new business venture, Tasneem shares that she aims to be the first in Singapore. “For example, Fika was the first Swedish restaurant in Singapore, and also the first halal Swedish restaurant in the world.\" When it first opened, Konditori was also the first halal European bakery in Singapore that was artisanal. “Then suddenly all these other artisanal bakeries started popping up. I think we were kind of cool, we didn’t follow trends, in fact, we started them,” Tasneem quipped.  A post shared by KONDITORI 🇸🇪 (@konditorisg) The idea to open an ice cream parlour next to Konditori came about when she realised that tourists would walk in to ask if there were any ice cream shops in the vicinity. When it first opened in 2017, Lickety was the only dessert parlour in Singapore to serve ice cream together with the popular Hong Kong egglet waffles.  However, due to a drop in tourist numbers as a result of the pandemic, Lickety closed its doors earlier this year, and the team decided to use its space to expand Konditori instead.  But Tasneem is not one to dwell on setbacks. Having started her journey as an F&B entrepreneur at 28, she has seen her fair share of failures.  In 2011, spurred by the success of Fika’s flagship outlet on Beach Road, she decided to expand the brand into shopping malls and opened two outlets, one in Millenia Walk and the other at One KM in Paya Lebar (now known as Kinex).  It was a bold move with a heavy investment that ended up being a misstep. Both outlets did not do well and were closed eventually. “I think that was a huge humble pie to eat, losing so much,” she lamented.  She has now learned that “doing more doesn’t mean having more”. “I don’t think it is important for me to open more places for the sake of it. We want to have better control over the current businesses that we have and at the same time, to have a life. We have children and we want to be with them,” the mum of two said.  DIVERSIFYING IN A PANDEMIC Like many other F&B entrepreneurs, navigating a pandemic and constantly changing dining restrictions has been a challenge for Tasneem. Referring to Fika, she shared: “We’re not really a place for takeaways or deliveries. It’s easy for people to ask us to do delivery, but dining at a restaurant like Fika is an eventful thing, and people pay for the atmosphere.” Meanwhile, as Konditori is a takeaway-only bakery, “it has been doing wonderfully”, she acknowledged.  A silver lining to the pandemic, however, is that it has instilled in her an “urgency to be a bit more diverse”. After more than a decade in F&B, Tasneem is now embarking on the next step in her entrepreneurship journey by going into the wellness industry.  Come December, Tasneem will be opening a beauty and wellness lounge together with two of her close friends and fellow business owners, Rozza Ramli, founder of women-only hair salon Karva, and Cassandra Riene Tan, founder of F&B outlets The Ritual and Botany.  The women-only wellness lounge, named Aura, will also be located in the Kampong Glam vicinity on Haji Lane, and will offer spa and skincare treatments using natural and sustainable products.   “The pandemic has made me more open and adventurous to try new things. This is also my first venture with partners and I thought it would be something fun to do with my friends,” she said.  In the midst of a pandemic, the founders of Aura felt that “it’s important for us to remind women that it’s okay to take the time to indulge in self-care,” Tasneem added.  While the wellness lounge will start off by offering skincare and spa services, there are plans to introduce holistic healing rituals in the future. “I think people’s mental health isn’t great at the moment, and we want to do something to help them feel better,” said Tasneem.  ‘THERE’S ALWAYS SOMETHING TO LEARN’ Prior to the pandemic, diversification was something she instilled in her personal life. Even while managing her businesses, Tasneem makes it a point to pick up at least two different skills every year.  This year, for example, she completed a personal training course and is now a certified personal trainer. She also picked up guitar-playing, “although I’m bad at it,” she added with a laugh. “Whenever I do something different, like going from opening a restaurant, to opening a bakery and then an ice cream parlour, and now, to wellness, there’s always something to learn along the way.” Knowledge, after all, is not specific, Tasneem believes. Once, she took up a farming course in Bali, which ended up being a useful lesson in people management. “When we were learning how to farm, we realised how the world is so symbiotic, how we are so dependent on trees. It really made me think about the human race, how we’ve become so calculative and so judgmental, and that really helped in learning how to manage people, which is the most challenging bit about being an entrepreneur,” she quipped.  THE BEAUTY OF SLOWING DOWN There are entrepreneurs who dream of running an empire, but ask Tasneem what she wants to do next and her answer – going back to her philosophy that “doing more doesn’t mean having more” – is not to expand her businesses if it doesn't make sense to do so. After all, there is value in slowing down and focusing on what you already have. “I enjoy having the time to go for runs, take up courses and learn new things, spend time with family and friends. In the span of 12 years, I have opened six, and soon, seven shops, and during those times, it gets intense and I don’t have time for anything else. It has since become a conscious decision to take things slow now and enjoy time for living and being,” she mused.   As she reflects on her entrepreneurial journey, Tasneem shares that her goal is to eventually “lead a simpler life”. “I recently stumbled upon this quote that said, ‘Instead of building a life that looks good, what if you cultivated a life that feels good?’ I think that’s what I’m working towards.” \n",
      "\n",
      "\n",
      "Before the pandemic upended our lives, pregnancy – and the postpartum period – was already a stressful and life-changing event for women. But add a global pandemic to the backdrop, and the extra stress and unexpected challenges that come with having a baby can take a significant toll on the mental health of new mothers. According to a 2021 study by the National University of Singapore Alice Lee Centre for Nursing Studies, postpartum depression (PPD) is a debilitating condition on the rise, both globally and in Singapore, especially during the first year after childbirth.   A mother with PPD would display longer and more pronounced symptoms of the “baby blues”, such as feelings of hopelessness, sadness and severe mood swings. It can happen to both first-time mothers as well as those who’ve had children. According to Healthline.com, while the “baby blues”, which refers to a short-term bout of general anxiety, stress and sadness after birth, would typically go away after 10 to 14 weeks postpartum, PPD can stay on for months (or years) if not treated. Comparing data from January to September this year against the same period in 2020, psychiatrist Dr Chua Tze-Ern, who’s the head and senior consultant of Women’s Mental Wellness Service at KK Women’s and Children’s Hospital (KKH), said the number of women who were diagnosed with PPD under KKH’s Postnatal Depression Intervention Programme has doubled. “Many women stay silent over their mental health struggles as they are afraid they will be judged as weak-minded or unfit mothers,” said psychotherapist Silvia Wetherell, a certified perinatal mental health counsellor at Alliance Counselling. Postpartum depression can have serious negative and long-lasting effects for both the mother and the child, she added.  The challenges of the pandemic have added to this. “The reality facing most families in Singapore is that they cannot get the practical and emotional support they would have available, pre-pandemic,” said Wetherell.  There are also other unique challenges, such as the loss of income when a partner loses their job and increasing difficulties of working from home while juggling a newborn. ANXIETY BEFORE THE BABY IS BORN The stress that builds up during pregnancy may sometimes sow the seeds for PPD to occur after childbirth.  For example, reading the news about the increase in local COVID-19 cases may cause anxiety levels in mothers to go up, said Wetherell. Another instance: The unpredictable availability of a doula (a person who provides support during pregnancy) to assist during delivery, Wetherell said, even though a couple may have spent weeks working on a birth plan. Generally, on top of the characteristic stresses of pregnancy, women now have additional worries about keeping safe and well, said KKH’s Dr Chua. “To avoid getting COVID-19, they may need to stay away from family and friends, and have fewer chances of enjoying shared meals and activities before their baby comes along.” The resultant stress and isolation of these pregnant women may increase their risk of antenatal depression, which is in turn a major risk factor for postnatal depression, she added. RESTRICTED ACCESS TO POST-BIRTH SUPPORT No one could have anticipated the extent to which the COVID-19 pandemic would hinder a woman’s access to postpartum help and support. The unpredictable nature of the pandemic means many mothers can end up feeling powerless, said Wetherell. “The use of confinement nannies, cleaners, extended family and friends to help with the baby, who play a role in the transition to motherhood has become very restricted,” she said.  Dr Chua explained that families living overseas, as well as confinement nannies that usually come from Malaysia, and foreign domestic helpers, would have had a harder time coming to Singapore. And yet, these now-limited resources are important for new mothers to recover from depression, anxiety and post-traumatic stress, said Wetherell. AN OVERWHELMING FEAR OF GETTING INFECTED  This is a big worry for mums, who are also anxious about what being infected with COVID-19 would mean for their baby, said Assoc Prof Helen Chen, Head and Senior Consultant at KKH, on the Healthxchange website.   “Some women have become so anxious that they have resorted to wearing gloves or masks – even at home – when attending to their baby,” she said. Other sources of stress, added her colleague Dr Chua, include social restrictions and home-based learning for school-going children, in which  families have to stay home together in high-stress situations for extended hours.  Similarly, Wetherell told CNA Women that the most dominant theme she has observed in her clinical experience is the “compounded and crushing weight” of losses faced by mothers, referring to new mums missing things like not having a first month celebration or the lack of meet-ups to get out of the house and socialise.  BREASTFEEDING DIFFICULTIES ARE A CONCERN Stricter access to hospitals and social distancing measures in the community can affect a mother’s access to breastfeeding support and resources. A 2015 study in the Journal of Advanced Nursing found that postpartum depression may be more common in women who attempt to breastfeed but decide to stop due to difficulties such as pain, breast infection, low milk production and problems with latching. While breastfeeding difficulties have not resulted in a rise of PPD cases, the pandemic has added a new dimension to the challenges, said Doris Fok, Lactation Consultant at the Department of Obstetrics and Gynaecology at NUS Yong Loo Lin School of Medicine.  Not being able to get confinement help, said Fok, combined with a reduced number of visitors allowed in hospital-based lactation clinics, can create a new layer of stress and anxiety. “Even more so now, there is a need for community-based lactation services,” she said, adding that women can turn to the non-profit organisation Breastfeeding Mothers’ Support Group for help. GET ONLINE SOCIAL SUPPORT Reduced access to physical and in-person support doesn’t mean that new mums are completely cut off. Those who have gone online have benefited. In April, the NUS Alice Lee Centre for Nursing Studies (NUS Nursing) released the results of a study that showed peer support, mostly through the use of WhatsApp, can help mothers guard against the baby blues and PPD.  The study is part of ongoing research to understand the long-term effects of a “large-scale peer volunteer programme” on mothers using a mobile app. The study followed 138 mothers in Singapore who scored nine or above (read: high risk) on the Edinburgh Postnatal Depression Scale within the first few weeks of childbirth. It matched the mothers to peer support in the form of 20 trained volunteers who had themselves experienced and recovered from PPD.  The mums, who did weekly sessions with the volunteers over the phone or through mobile apps, expressed a “sense of gratification” and “had reduced negative feelings after continuous peer support”. “We found that new mothers who received the technology-based peer support had a 20 per cent reduced risk of developing postpartum depression, 9 per cent reduced risk of postpartum anxiety and 8 per cent reduced risk of loneliness at three months postpartum,” said Dr Shefaly Shorey, an assistant professor at NUS Nursing, in the study. Separately, telehealth services too, can work well for new mothers, especially if they prefer to stay home for a consultation during the pandemic. Zoom calls can be very useful in lowering the threshold for new mothers to seek help as it may not be easy to leave a newborn at home to travel to the obstetrician's office for a physical consult, explained Dr Ng Kai Lyn, Consultant Obstetrician and Gynaecologist at the Advanced Centre for Reproductive Medicine (ACRM) Gleneagles. “I have worked with many women who breastfeed during a counselling session or even change nappies when there is no backup carer for the baby,” said Wetherell, adding that in-person sessions are still recommended for more complex and severe cases such as psychosis or those with suicidal thoughts. “Sometimes all that is needed is an avenue for mothers to openly ventilate and talk through their emotions, and be told that she is not alone in this journey,” added Dr Ng.   LESS STIGMA OVER POSTPARTUM DEPRESSION The prolonged pandemic has put a spotlight on mental health now more than ever,” said Dr Ng of ACRM Gleneagles, saying that this has led to increasing awareness of PPD on social media. When women (and their partners) recognise that PPD is an important issue, they have a lower threshold when it comes to addressing it, she added. The pandemic has provided a less stigmatised path to discuss postpartum depression, said Wetherell.  “Women who have experienced and recovered from PPD are more ready to share their stories, showing others that it is right to speak up about having symptoms and to actively seek care, in the same way as for any other illnesses,” said KKH’s Dr Chua.  It is important to remember that early recognition is key. Tap on your social support network of family and friends, and if that doesn’t help, speak to a trusted obstetrician for professional help, recommended Dr Ng. “Seeking help is not a sign of weakness or being a bad mother,” she added. Where to get help: National Care Hotline: 1800 202 6868 National Anti-Violence Helpline: 1800 777 0000 Samaritans of Singapore Hotline: 1800 221 4444 Institute of Mental Health’s Helpline: 6389 2222 Singapore Association of Mental Health Helpline: 1800 283 7019 AIC Hotline (for aged and community care support): 1800 650 6060  You can also find a list of international helplines here. If someone you know is at immediate risk, call 24-hour emergency medical services. CNA Women is a new section on CNA Lifestyle that seeks to inform, empower and inspire the modern woman. If you have women-related news, issues and ideas to share with us, email CNAWomen [at] mediacorp.com.sg.\n",
      "\n",
      "\n",
      "SINGAPORE: All in-person visits to residential care homes will continue to be suspended until Oct 24, said the Ministry of Health (MOH) on Tuesday (Oct 5).  This is after several new clusters were found in aged care facilities in the past two weeks, as well as the continued rise of COVID-19 cases within the community, said the Health Ministry in a press release.  \"This is in line with the stabilisation phase and will reduce the risk of transmission of COVID-19 from the community to the homes,\" said MOH.  It added that the extension will provide more time for the seniors living in aged care facilities to get vaccinated or receive their booster shots.  MOH announced last month that all visits to residential care homes were suspended from Sep 13 to Oct 11, given the number of COVID-19 cases among staff and residents. MOH on Tuesday also urged the next-of-kin of unvaccinated seniors in residential care homes to support and encourage them to get vaccinated.  \"Unvaccinated seniors are more likely to suffer severe illness if infected. \"It is also important for vaccinated seniors to receive their booster dose immediately when they become eligible, to ensure a continued high level of immunity and protection from severe disease,\" said MOH.  To ensure that seniors remain connected with their loved ones, residential care homes will continue to offer caregivers or next-of-kin the option of telephone or phone calls as an alternative to physical visits.  MOH said it will observe the situation in the coming weeks and review the suspension accordingly.  \"We seek the understanding and cooperation of all Singaporeans as we continue to implement measures to protect our seniors,\" it added. Download our app or subscribe to our Telegram channel for the latest updates on the coronavirus outbreak: https://cna.asia/telegram  \n",
      "\n",
      "\n",
      "HONG KONG :Two Hong Kong property agencies are suing heavily indebted China Evergrande Group over unpaid commissions, according to a court filing and media reports, piling pressure on the developer as it scrambles to raise funds and avert a collapse. Centaline filed a suit against Evergrande in September to recover HKUS$3.1 million (US$398,196) in overdue commissions, a court filing showed, while the South China Morning Post newspaper reported Midland Holdings is claiming unpaid commission of HKUS$43.45 million for two developments in Hong Kong.  An executive at Centaline China told Reuters they have also filed a suit against Evergrande in a Guangzhou court in southern China, seeking to claim hundreds of millions of yuan it says it is due.   Centaline confirmed to Reuters it filed a claim in Hong Kong last month, but declined to comment further. Midland declined to comment, saying the case was going through legal procedures. Evergrande did not immediately respond to a request for comment. Hong Kong's exposure to debt-laden developer China Evergrande is \"very minimal\" at 0.05per cent, or HKUS$14 billion (US$1.79 billion) of banking assets and will not cause any systemic risks, the newspaper reported on Sunday, citing the city's Financial Secretary Paul Chan.     Evergrande has vowed to repay its suppliers and contractors in mainland China as soon as possible, in some cases offering apartments or other real estate assets, as construction at many of its sites have halted because of delayed payments. With liabilities of US$305 billion, Evergrande has sparked concerns its cash crunch could spread through China's financial system and reverberate globally, a worry that has eased with the Chinese central bank's vow last week to protect homebuyers' interests. Growing worries about defaults at Chinese property developers triggered a rout in their shares and bonds on Tuesday with fresh credit rating downgrades and uncertainty about the fate of cash-strapped China Evergrande Group sapping investor sentiment.     Last month it missed coupon payments on two dollar bond tranches and is scrambling to sell assets to pay creditors, prioritising repayment to onshore lenders in the last few weeks. (US$1 = 7.7851 Hong Kong dollars)  (Reporting by Donny Kwok and Clare Jim; Editing by Kim Coghill)\n",
      "\n",
      "\n",
      "WASHINGTON: US President Joe Biden's national security adviser will hold talks with China's top diplomat Yang Jiechi in Switzerland on Wednesday (Oct 6), upholding a pledge by both countries to boost communication amid a deepening strategic rivalry. The Zurich meeting comes at a time of heightened tensions between the world's two largest economies over a range of issues including Taiwan. It will be Sullivan's first face-to-face meeting with Yang since their acrimonious exchanges in Alaska in March, which also involved US Secretary of State Antony Blinken. The White House said in a statement that the meeting follows up on Biden's Sep 9 call with Chinese President Xi Jinping \"as we continue to seek to responsibly manage the competition between the United States and the People's Republic of China\". That call ended a nearly seven-month gap in direct communication between the leaders, and they discussed the need to ensure that competition between the two - with relations sinking to their lowest level in decades - does not veer into conflict. Blinken, currently visiting Paris, held a call with Yang in June, stressing the need for cooperation and transparency over the origins of COVID-19 and raised other contentious topics, including China's treatment of Uyghur Muslims, Hong Kong and Taiwan. Hong Kong's South China Morning Post newspaper quoted an official familiar with the arrangements for the Zurich meeting as saying the objective is \"to rebuild communication channels and implement consensus reached\" between Xi and Biden. With trade tensions also at the top of the US-China agenda, US Trade Representative Katherine Tai, in Paris for Organisation for Economic Co-operation and Development meetings, has said she hopes to hold discussions soon with Chinese counterparts. On Monday, Tai unveiled the results of a months-long \"top-to-bottom\" review of China trade policy, pledging to hold \"frank\" talks with Beijing about its failure to keep promises made in former President Donald Trump's trade deal and end harmful industrial policies. The Global Times, a Chinese state-run tabloid, said China is willing to build mutually beneficial trade with the United States but will not make concessions on principle and is not afraid of a drawn-out contest. \"The China-US trade war has lasted for more than three-and-a-half years. Instead of being weakened, China's economy has taken a step forward in comparison with the scale of the US,\" it said. Talks between officials from the two powers since Biden took office in January have shown little concrete progress. US officials said the Biden-Xi call was a test of whether direct top-level engagement could end a stalemate in ties. After that call, Biden denied a media report that Xi turned down an offer from Biden for a first face-to-face meeting as leaders. Since then, the United States has taken a series of steps to strengthen its hand against China in coordination with allies. These have included the announcement of a trilateral partnership with Britain and Australia, called AUKUS, to provide the latter with nuclear-powered submarines. Biden also hosted a first in-person summit with Australia, India and Japan in which the \"Quad\" leaders vowed to pursue a free and open Indo-Pacific region \"undaunted by coercion.\" The White House said Sullivan will also visit Brussels for meetings with NATO and European Union officials, as well as Paris, and will brief the Europeans on his meeting with Yang. It said that at NATO he will discuss implementation of a decision at the June NATO summit to modernise the alliance and strategic challenges, and talk with EU officials about trade, technology and global economic issues. Biden's administration is also pursuing a massive domestic spending proposal aimed at rebuilding domestic infrastructure and industry, in part to boost US competitiveness with China. \"It's not a thaw. It's not a re-embrace of engagement,\" Evan Medeiros, an Asia specialist during former President Barack Obama's administration, said of the Zurich meeting. \"It's about getting serious and systematic about competition. That means being very clear about boundaries, our perceptions of their behavior, particularly the recent number of air force strike packages around Taiwan.\" China has blamed the United States for increased tensions over the democratically governed island claimed by Beijing, even as it has conducted an unprecedented number of incursions by its air force into Taiwan's air defence zone. Analysts said increased communication between senior US and Chinese officials could allow progress in some aspects of ties, for example, letting more journalists return to each other's countries and reopening shuttered consulates in Houston and Chengdu. The month-end G20 summit in Italy has been talked about as a possible venue for a face-to-face Biden-Xi meeting. \"I think the hope is that it will lead to a Biden-Xi Jinping meeting, which may have to be virtual,\" said Asia expert Bonnie Glaser of the German Marshall Fund of the United States.\n",
      "\n",
      "\n",
      "SYDNEY: Squid Game, an original Netflix drama produced in South Korea, is a streaming phenomenon. Released on Sep 17, within two weeks the series has become the most watched Netflix title in 76 countries, including the US, Australia and South Korea. Across nine episodes, desperate people enmeshed in debt voluntarily participate in a sequence of six sadistic and lethal survival games. The prize for the winner is 46.5 billion won (US$40 million). At the outset, the 456 participants are unaware there is a twist. There can only be one winner – and the rest of the contestants will die along the way. This outcome is foreshadowed for viewers in a segment that precedes episode one, in which two groups of children are seen playing the eponymous Squid Game (essentially a violent game played by Korean schoolboys). The groups struggle for possession of a squid-shaped area drawn on the ground. Both attackers and defenders must resist being pushed out of the play area, for, according to the commentary, if you are pushed out you “die”. Such games are commonly metaphors for life experiences. Games structured as a struggle for possession, or with the goal of overcoming a player in a position of control, are often stories about social aspiration and limited social mobility. In the survival game played in episode one, Red Light, Green Light (also known as Hibiscus Flowers Have Bloomed in South Korea and Statues elsewhere around the world), players can win if they can creep forward when the controlling figure’s back is turned. If seen to move, they are “eliminated” (and in this case, die). The brutal adaptation of children’s games at the centre of Squid Game have clearly captured the imagination of the show’s viewers, and also provide a startlingly evocative metaphor for socio-economic inequality and capitalism. Television drama frequently portrays South Korea as a profoundly unequal and violent society. Its traumatic history throughout most of the twentieth century – Japanese colonisation, the Korean War, almost 40 years of military dictatorship and financial crises – has left deep psychological scars on the national psyche. Dark political narratives in TV and film continue to express the social impact of that history, such as the recent Netflix zombie series, Kingdom (2019 to 2021), along with DP (2021), Signal (2016) and Stranger (2015). The economic gap within South Korean society is ever widening, and has become a recurrent motif in TV drama. This unequal society is a staple of Cinderella stories in which protagonists are displaced into poverty and abused by those with wealth and power until they regain their place. It is also reflected in dramas about the super-rich such as Sky Castle (2018) and The Penthouse (2020 to 2021), which show how ultra-wealthy South Koreans maintain their control over the country’s wealth. Bong Joon-Ho’s Oscar-winning Parasite (2019) drew dramatic attention to the economic gap, as have several other films: Burning (2018), Veteran (2015) and Insiders (2015). Socio-economic inequality in Squid Game is explored through the often heartbeaking narratives of the contestant’s economic stress. These are shown to be often compounded by South Korea’s lack of a social safety net and unregulated financial structures. Employment in underclasses is precarious: Chief protagonist Gi-hun (Lee Jung-jae) has been retrenched, has amassed gambling debts, cannot afford lifesaving surgery for his mother, and has tried to solve his financial problems by borrowing from loan sharks. Television dramas widely depict this latter practice as a blight upon society: Interest rates are extortionate and borrowers easily slip into a form of modern slavery through ever increasing debt. Effective slavery is also depicted in Squid Game in the exploitation of North Korean refugees and South Asian migrant workers, often by other underclass members. Squid Game participants who question their commitment to the violent game are warned by those in control that because of their poverty or level of debt they will be much worse off in the world outside. Episode two, Hell, is a realistic account of the precarious life of marginalised people, and the motivations that drive them into the perilous game. IN THE INTERNATIONAL LIMELIGHT The global popularity of Squid Game can be attributed to various factors. First, it draws on a worldwide cultural obsession with game shows, from quiz shows where winners hope to make a fortune to reality television programs such as Survivor. As the participants wake on their first morning in their huge dormitory, the soundtrack rather comically consists of Haydn’s triumphalist Trumpet Concerto, which was previously used as signal music in a popular South Korean quiz game titled Janghak Quiz (1973 to 1996). Squid Game also includes a level of violence characteristic of Western cinema but rare in Korean TV drama. It forms a potent metaphor for a deep social malaise. The series also contains a lot of black comedy and even schadenfreude. There is a humorous contradiction between events on the screen, and the romantic music of the soundtrack. For example, the ominous preparation for the first game, including passage along an Escher-inspired staircase, is accompanied by Johann Strauss’s Blue Danube waltz. Having forgotten his daughter’s birthday, Gi-hun gets her a mystery present which turns out to be a cigarette lighter in the shape of a gun. The moment when she opens her present is both very funny and heart-wrenching. Finally, the series is a high-quality production. Its visuals are strong and it builds suspense very effectively. Such elements temper what otherwise might seem heavy-handed social critique. The success first of Parasite and now of Squid Game is bringing Korean film and media into the international limelight in an unprecedented way. Hwang Dong-hyuk, director of Squid Game, had to wait 12 years to find a backer for his script. He has been a highly successful film maker, known for Dogani (2011) and Miss Granny (2014), and currently seems to have his sights set on a return to the large screen. Perhaps he can be persuaded otherwise? Sung-ae Lee is Lecturer in Asian Studies at Macquarie University. This commentary first appeared on The Conversation. \n",
      "\n",
      "\n",
      "JAKARTA: Indonesia conducted its first test flight using jet fuel partially from palm oil on Wednesday (Oct 6), a senior minister said, as the country plans to commercialise the fuel as it seeks creative ways to use the edible oil domestically. The plane flew more than 100km from the capital Jakarta to the neighbouring city, Bandung. \"Indonesia, as the largest producer, of course needs to innovate the use of palm oil, including in the development of biodiesel, bio jet fuel and also continuing the D100 program,\" economic minister Airlangga Hartarto told a virtual conference, referring to diesel made entirely from palm oil developed by state oil company Pertamina. Indonesia currently has a mandatory biodiesel programme with 30per cent palm oil content known as B30. The government is keen to expand the use of vegetable oil for energy and slash fuel imports. The bio jet fuel used during the test flight only contained 2.4 per cent palm content, but in a 2015 regulation, Indonesia has mandated this be increased to 5 per cent by 2025. Although biodiesel promises significantly lower carbon emissions, the land clearance taking place to grow palm oil has raised concerns among environmentalists about deforestation, with the European Union looking into banning biodiesel containing palm. The Energy Ministry on Wednesday said the bio jet fuel market, assuming a daily consumption of 14,000 kilolitres, will have a potential market worth 1.1 trillion rupiah (US$77.25 million) annually. \"We need 120,000 kilolitres (of palm oil) per year,\" Dadan Kusdiana, director-general of renewables at the energy ministry said, adding more research was needed about the commercialisation of the fuel.\n",
      "\n",
      "\n",
      "\n",
      "\n",
      "\n",
      "TAIPEI: Taiwan's President Tsai Ing-wen warned of \"catastrophic consequences\" if the island were to fall to China and vowed to \"do whatever it takes\" to guard against threats in an article published on Tuesday (Oct 5).  Taiwan lives under the constant threat of invasion by China, which views the self-ruled democratic island as its territory to be re-taken one day, by force if necessary. President Xi Jinping has described the seizure of Taiwan as \"inevitable\" and Beijing has ramped up military, diplomatic and economic pressure since Tsai's 2016 election, as she views the island as \"already independent\" and not part of a \"one China\". Nearly 150 Chinese warplanes had breached Taiwan's ADIZ since Friday when Beijing marked its National Day with its then-biggest aerial show of force, buzzing the island with 38 planes. Tsai warned a failure to defend Taiwan would be \"catastrophic\" for both the island and the wider region in an article she wrote for Foreign Affairs published on Tuesday. \"They should remember that if Taiwan were to fall, the consequences would be catastrophic for regional peace and the democratic alliance system,\" Tsai said. \"It would signal that in today's global contest of values, authoritarianism has the upper hand over democracy.\" Taiwan hopes for peaceful coexistence with China, she said, but \"if its democracy and way of life are threatened, Taiwan will do whatever it takes to defend itself\". Tsai's government on Monday urged Beijing to stop \"irresponsible provocative actions\" after a record 56 Chinese jets including nuclear-capable bombers crossed into Taiwan's air defence identification zone. \"Amid almost daily intrusions by the People's Liberation Army, our position on cross-strait relations remains constant: Taiwan will not bend to pressure,\" Tsai added. The ADIZ is not the same as Taiwan's territorial airspace but includes a far greater area that overlaps with part of China's own air defence identification zone and even includes some of the mainland. In the last two years, Beijing has begun sending large sorties into Taiwan's defence zone to signal dissatisfaction at key moments - and to keep Taipei's ageing fighter fleet regularly stressed. Last year, a record 380 Chinese military jets made incursions into Taiwan's defence zone. The number as of October this year has already exceeded 600.\n",
      "\n",
      "\n",
      "SYDNEY: New daily COVID-19 cases in Australia's Victoria and New South Wales states, the epicentres of the country's worst virus outbreak, fell on Wednesday (Oct 6) as authorities look to start easing tough restrictions amid a rise in vaccination rates. A total of 1,420 new locally acquired cases were reported in Victoria, most of them in the state capital Melbourne, down from a record 1,763 on Tuesday. Eleven new deaths were registered, the state's highest daily number in the current outbreak. Melbourne has been in lockdown since Aug 5 as Australia grapples with a third wave of infections fuelled by the fast-moving Delta variant that has also put millions in Sydney, its largest city, and the capital Canberra, under strict stay-home rules. Most other states have zero or low cases. Victorian authorities plan to relax some tough restrictions once 70 per cent of the adult population is fully vaccinated, expected in late October. More curbs will be eased at 80 per cent. In neighbouring New South Wales, Sydney is due to exit lockdown on Oct 11, after a rapid vaccination programme. About 68 per cent of the adult population has been fully vaccinated in the state, with the number expected to reach 70 per cent by Thursday. Daily infections fell below 600 for the first time in more than seven weeks on Wednesday. Newly elected state Premier Dominic Perrottet said he would \"raise a number of issues\" about the state's reopening plans at a meeting with health officials later on Wednesday. \"Whatever we do, we want to make sure it is done in a way that keeps people safe ... but ultimately, it is important to get people back into town because we want to breathe life into Sydney,\" Perrottet told radio station 2GB. Australia's infection numbers are lower than many comparable countries, with around 117,800 cases and 1,379 deaths. Increased vaccination levels have kept the death rate in the current Delta flare-up below last year's outbreaks. Download our app or subscribe to our Telegram channel for the latest updates on the coronavirus outbreak: https://cna.asia/telegram  \n",
      "\n",
      "\n",
      "BANGKOK: The Thai Red Cross Society kicked off a vaccination campaign on Tuesday (Oct 5) for migrant workers, one of the country's most vulnerable groups that has been largely left behind in the broader COVID-19 inoculation rollout. About 300 workers received their first doses along with a small number of undocumented refugees as part of a campaign due to run until the end of the month that is initially targeting 5,000 workers. \"The more migrant workers we're able to vaccinate, the better for the Thai people, too,\" said Tej Bunnag, secretary-general of the Thai Red Cross Society. Official government data shows about 2.35 million migrants have permits to work in Thailand, but the International Organization for Migration estimates there are closer to 4 million to 5 million migrant workers. Many live in cramped quarters in industries including construction, manufacturing and seafood industries. Their lack of access to health care has made getting vaccinations a challenge. \"We're so happy that we will be safe now... We all came in a big group because we're afraid to die,\" said Pesan, 35, who has lived in Thailand for more than 20 years. \"Finally there's someone who's lending us help,\" he said. The Thai government, which has not released vaccination data for migrant workers, earlier this year closed hundreds of construction sites and prevented workers from leaving their camps for a month following COVID-19 outbreaks in Bangkok. The International Federation of Red Cross and Red Crescent Societies (IFRC) said the Thai Red Cross has set aside 10,000 of 100,000 doses of the Sinopharm vaccine donated by the Red Cross Society of China - enough to fully vaccinate 5,000 migrant workers. The rest of the batch would be allocated to other vulnerable groups, including people with disabilities, IFRC told Reuters. The Thai Red Cross said in July it had bought 1 million doses of Moderna's vaccine, which it planned to administer to medical personnel and vulnerable groups and sell to organisations around the country for general distribution. That shipment has not yet arrived in the country. Download our app or subscribe to our Telegram channel for the latest updates on the coronavirus outbreak: https://cna.asia/telegram  \n",
      "\n",
      "\n",
      "CANBERRA, Australia: International tourists will not be welcomed back to Australia until next year, with the return of skilled migrants and students given higher priority, the prime minister said on Tuesday (Oct 5). Prime Minister Scott Morrison said Australia was expected to reach the vaccination benchmark on Tuesday at which the country could begin to open up: 80 per cent of the population aged 16 and older having a second shot. Last week, he outlined plans to allow vaccinated citizens and permanent residents to fly overseas from November for the first time since an extraordinarily tough travel ban took effect in March last year. But Morrison on Tuesday said that after Australians, the next priority would be skilled migrants and international students entering Australia before tourists. Australian immigration has been at its lowest since World War II because of pandemic restrictions. The pandemic has also had a disastrous effect on Australian universities that rely heavily on fees paid by international students. The education sector fears that students will enroll in other countries unless Australia opens its border to them soon. “The next priorities are skilled migrants that are very important for the country and who are double vaccinated, as well as students who are coming and returning to Australia for their studies,” Morrison told Seven Network television. “We will get to international visitors as well, I believe next year,” Morrison added. The Australian Tourism Export Council, which represents a sector that made A$45 billion (US$33 billion) a year from international tourists before the pandemic, wants international visitors to return by March. Australia is racing to inoculate its population as an outbreak of the more contagious delta variant that began in Sydney in June continues to spread. Victoria state on Tuesday reported a national record 1,763 new local infections. Australia’s second-most populous state also reported four COVID-19 deaths. The previous national record of 1,599 infections in 24 hours was set by New South Wales when its outbreak peaked on Sep 10. Hospitalisations peaked in Australia’s most populous state in mid-September. New South Wales leads the other states in vaccination rates and Sydney’s airport is expected to be the first to reopen to vaccinated travelers. Download our app or subscribe to our Telegram channel for the latest updates on the coronavirus outbreak: https://cna.asia/telegram  \n",
      "\n",
      "\n",
      "SINGAPORE: This year’s Primary School Leaving Examination (PSLE) mathematics papers have been at the centre of controversy over the past few days.  Parents have reportedly claimed their children have burst into tears over the perceived toughness of the papers. Media stories speak of some students also requiring emotional support from school counsellors.  These complaints, some of which have been posted on Education Minister Chan Chun Sing’s Facebook page, have focused on the needless stress on students amid challenging times.  So widely talked about was this PSLE examination angst that local blogger Lee Kin Mun, popularly known as mrbrown, produced a video offering advice and urging students to remember their PSLE grades do not represent the totality of who they are as individuals, and that their parents love them unconditionally. Why are these PSLE mathematics questions so hard?  We’re naturally inclined to feel huge empathy towards our 12-year-olds after a coronavirus-sized disruption over the past two years.  Students have had to cope with intermittent school closures and the imposition of home-based learning (HBL) since 2020. Then there is also the stress brought about by the curtailment of co-curricular activities and restrictions imposed on recess and other socialisation opportunities within schools and between households.  Students have also had to prepare themselves for the uncertainties associated with being the pioneer cohort for the revised PSLE scoring system. The Ministry of Education (MOE) has publicly acknowledged that HBL is not an adequate substitute for the depth and variety of learning experiences students enjoy by being physically present in school. And in recognising the impact of HBL imposed over the past two years and to support the wellbeing of students, MOE removed what it terms “common last topics” from both last year’s and this year’s PSLE mathematics and science.  Deputy Director-General of Education (Curriculum) Sng Chern Wei also took pains to assure parents in a forum letter over the weekend that MOE would take these disruptions into account to ensure that students would not be “disadvantaged by these exceptional circumstances”.  Why have some parents and students experienced such distress? And why despite MOE’s attempts over the past decade to reduce stress levels and nurture what it terms “the joy of learning” in students? Then Education Minister Ong Ye Kung had acknowledged back in 2018 the risk of schooling becoming overly stressful.  For that reason, beginning in 2019, all weighted assessments in Primary 1 and 2 were scrapped, with Primary 3 and 5 mid-year exams following suit in subsequent years.  In a similar vein, the revamped PSLE scoring system was touted as contributing to reducing the over-emphasis on academic achievement by reducing fine differentiation and eliminating peer comparisons of scores. Yet, the fact that this year’s PSLE mathematics papers have yet again been a lightning rod for anxieties testifies to the practical difficulties in securing a match between MOE’s official policy goals on the one hand, and parents’ and students’ perceptions and behaviour on the other. Perhaps the reality for many parents and students is that PSLE remains a high-stakes examination that determines students’ chances for secondary school admission, notwithstanding recent reforms to the educational system.  In many ways, this year’s parental concerns over the PSLE maths papers are not new. Similar anxieties had surfaced in previous years, like when in 2015, some parents took issue with a question that asked students to estimate the weight of eight one-dollar coins, and again in 2019 when a question about circles and distances got many scratching their heads. The diagnostic element inherent in the PSLE understandably tends to be overlooked as many parents and students naturally focus instead on the powerful selection and sorting mechanism the PSLE represents.  Most invest a considerable degree of money, time and energy in exam preparation, welcoming moves like the Singapore Examinations and Assessment Board (SEAB) publishing PSLE examination papers since 1993 in a bid to acquaint parents and students with the examination format as well as expected standards. The ubiquity of the private tutoring industry is both evidence and accelerant of the parental anxiety surrounding the PSLE.  By the time students sit for exams, most have gone through countless hours of revision and practice. The subsequent disappointment some feel when encountering questions they are unable to answer is then all the greater.  It can be difficult to come to terms with the reality that an exam like the PSLE, which serves as a means of differentiating among students, needs to have a system of setting examination papers lending themselves to this purpose.  Even so, the SEAB has attempted to clarify over the last decade that exam papers have a range of questions – easy, average and more challenging – to cater to students with a wide range of abilities and maintain comparability of standards from year to year, with robust processes ensuring coherence between the exam, syllabus objectives and learning outcomes. These worries remain despite MOE Curriculum Planning and Development’s public emphasis on the development of “thinking, reasoning, communication, application and metacognitive skills through a mathematical approach to problem-solving” in addition to the acquisition of mathematical concepts for everyday use and continuous learning. The last thing anybody wants is for students to lose confidence in learning mathematics or to hate learning the subject because of their disappointment with the PSLE mathematics exams. It would be regrettable if these larger aims were to be lost amid a public focus on the perceived toughness of some examination questions, even if they were designed precisely with the intention of sieving out top candidates. But as long as the PSLE continues to play this role of determining a student’s subsequent educational pathways, it is unlikely these sorts of complaints that have emerged this year will disappear.  A caveat is that less is known about how widespread these worries are when parents and students who might not feel similarly high levels of anxiety do not have their views widely highlighted.  But the irony is how such a controversy over mathematical assessment at the end of primary schooling continues locally when Singapore’s primary mathematics curriculum has been long been admired as a model producing top-ranked students in global comparisons and adopted by schools in other countries such as the UK and the US. For now, the advice from mrbrown for all students and parents to remember PSLE is not the be all and end all seems prescient. Jason Tan is an associate professor at the National Institute of Education.\n",
      "\n",
      "\n",
      "\n",
      "\n",
      "\n",
      "\n",
      "\n",
      "\n",
      "\n",
      "\n",
      "\n",
      "\n",
      "\n",
      "\n",
      "LONDON: A meeting with a group of manufacturing company executives cannot be guaranteed to surprise, but I recently found myself in a gathering that did exactly that. The managers came from a mix of businesses. Some made cars, one made fertiliser, others produced steel or glass or perfume. All present were troubled by the COVID-related shortages that have struck supplies of everything from computer chips to Ikea mattresses. The lack of workers in what has been called the Great Resignation was also vexing. More striking though, was what was said about the prospective shortage of employees, especially younger ones, once the pandemic ends. “We need to revolutionise the way we make roles in manufacturing appeal to younger generations,” said one executive from a global company with thousands of employees. “If we don’t, we’re not going to have a workforce to make our products.” Most staff at this company did not have the luxury of worrying about whether they could work from home or not. They did shift work on a production line in a hot factory. Isolation was common, so was staff turnover at a time when, as the executive said, “there are so many other options out there”. Factory owners faced a staff crunch well before COVID-19 struck. Studies as far back as 2018 predicted US manufacturers risked a shortage of 2.4 million workers before 2030, largely because of the industry’s “negative perception” problem. But sitting in that meeting, I was reminded of the advice Joe Biden offered recently when he was asked about labour shortages that have left US businesses struggling to find workers: “Pay them more.” Would it help, I asked the manufacturing executives, if they simply paid young people more? Not as much as you might think, I was told. As one person put it, pay is obviously relevant but it is “absolutely not the kind of incentive that it’s been for older generations for many decades and we can’t rely on it”.  The manager said this was already the case for millennial workers, the oldest of whom turn 40 this year, but was even more apparent among the so-called Generation Z employees born since 1997. The idea that pay is not everything is not new. The influential American psychologist, Frederick Herzberg, showed in the 1960s that pay rates are a “hygiene factor” that do not foster job satisfaction by themselves, but prevent dissatisfaction — just as good hygiene does not cause good health, but will cause disease if lacking. Still, if attitudes to pay are shifting, it has profound implications for employers, and not just factory owners. It would also chime with what might be called the Great Re-evaluation of working life that the pandemic seems to have spurred for some employees. A striking 15 million-plus Americans have quit their jobs since April, and 40 per cent of employees in the US, Australia, the UK, Canada and Singapore say they are at least “somewhat likely” to quit within the next six months, a McKinsey report showed last month. Worryingly for employers, nearly two-thirds of those thinking of leaving say they are ready to go with no new job in hand. Tellingly, pay was not the main reason cited for jumping ship. Rather, the top three factors people mentioned were feeling undervalued by their organisations, or by managers, or not feeling as if they belonged. So what is the answer? Several executives cited more autonomy, more recognition, more flexible hours, better holidays and anything that generally made working life more enjoyable. I suspect they are correct, especially after speaking last week to a 34-year-old Brit named Sophie Munn, a digital marketer at consumer goods group Unilever. Four years ago, she was on the verge of marrying a school teacher who had two months off in summer, when she decided to take advantage of Unilever’s unpaid leave scheme. It allows UK staff to take up to six months and return to either their old job or an equivalent role, without leaving their pension plan or losing other benefits. As a result, Munn’s planned three-week honeymoon turned into two months of travel, from Bali to Borneo and California, that left her feeling grateful and with firm views on the significance of pay. “Salary is important,” she said. “But I want to live my life.”\n",
      "\n",
      "\n",
      "\n",
      "\n",
      "\n",
      "PARIS :     Defence company Thales and Google are partnering to offer state-vetted cloud computing services for the storage of some of France's most sensitive data, the companies said on Wednesday.  The alliance between Thales, Europe's largest defence electronics supplier, and the Alphabet unit fulfils  a May government plan under which France acknowledged U.S. technological superiority in the field. The French government said then that cloud computing services developed by Google and Microsoft could be used to store France's most sensitive state and corporate data, provided the services were licensed to French companies.  In their joint statement, Thales and Google Cloud said they will create a France-based company and Thales will be the majority shareholder.  That company will provide the whole range of Google Cloud's services but its network and servers would be separate from those used for regular Google clients. \"The company is going to run Google software on its infrastructure... with layers of security to ensure cybersecurity and protection of data from extraterritorial rules,\" said Marc Darmon, head of secure communications and information systems at Thales.  Google and Microsoft, along with market leader Amazon.com's  Amazon Web Services, dominate cloud storage worldwide, fuelling concerns in Europe over the risk of surveillance by the United States in the wake of the adoption of the U.S. CLOUD Act of 2018. The Thales-Google partnership will need the blessing of France's cybersecurity agency ANSSI to get a \"trusted cloud\" label.  However, its head, Guillaume Poupard, has already welcomed the project, saying in a statement it fulfilled the criteria needed for the certification.  The company should be created in first-half of 2022 and be running by the start of 2023, the two groups said.   It would compete against Bleu, a joint company to be set up by IT consulting firm Capgemini and telecoms group Orange and which aims to use Microsoft's cloud technology.    (Reporting by Mathieu Rosemain; Editing by Cynthia Osterman)\n",
      "\n",
      "\n",
      "\n",
      "\n",
      "\n",
      "Alphabet Inc's YouTube said it has removed R&B singer R Kelly's channels from its video platform, distancing itself from the singer who was convicted of sex trafficking last month. R Kelly was convicted by a federal jury in September in his sex trafficking trial, where prosecutors accused the singer of exploiting his stardom over a quarter-century to lure women and underage girls into his orbit for sex. Two of his channels, RKellyTV and RKellyVevo, have been removed from one of the world's largest video platforms and the singer will no longer be able to create or own any other YouTube channel, YouTube said in a statement sent late on Monday (Oct 4), following Reuters' request for comment. The catalog of his music will however be available on YouTube Music, YouTube's audio-streaming service, and the videos uploaded by other YouTube users will continue to be available. \"We can confirm that we have terminated two channels linked to R Kelly in accordance with our creator responsibility guidelines,\" a YouTube spokesperson told Reuters in a statement. The MuteRKelly campaign, founded by two Black women in 2017 to try to remove the singer's music from the air waves, said on Twitter, \"Waiting on you @youtubemusic, and you too @Spotify @AppleMusic @AmazonMusic, etc.\" Contacted outside of regular US business hours, Spotify, Apple and Amazon did not immediately respond to requests from Reuters seeking comment on whether they would be taking similar action over R Kelly's music available on their platforms. Kelly's music has largely disappeared from radio but is still available on streaming platforms. His hit record I Believe I Can Fly was for years a popular choice at graduation ceremonies. Kelly faces a mandatory minimum of 10 years behind bars, and could face up to life in prison at his May 4, 2022, sentencing. The singer, whose full name is Robert Sylvester Kelly, is one of the most prominent people tried on sex charges during the #MeToo movement, which amplified accusations that had dogged him since the early 2000s.\n",
      "\n",
      "\n",
      "\n",
      "\n",
      "\n",
      "\n",
      "\n",
      "\n",
      "\n",
      "\n",
      "\n",
      "    Former Guangzhou FC manager Fabio Cannavaro said the image of the Chinese Super League (CSL) as an attractive competition had changed in the last few seasons because of some rules that \"complicated\" matters for managers. Italian Cannavaro left eight-times champions Guangzhou FC by mutual consent last month, ending his second spell at the side owned by embattled property developers Evergrande with a 2019 title win as well as runners-up finishes in 2018 and 2020. \"The CSL was seen as an attractive, quality league back in 2017-18,\" the South China Morning Post newspaper quoted Cannavaro as saying in an interview with Tencent Sports. \"But then things changed. \"Clubs were requested to send more young players to the field. Some of these youngsters weren't good enough to play in the CSL, but managers had to put them in the games - even for only a few minutes - because that's the rule of the league. \"These rules grew more complicated later. We can't deny that the CSL is a great league that has many splendid managers, top players and stands filled with fans in the stadiums. It's a league with great potential.\" This season, Guangzhou have been hit by the departures of foreign players such as ex-Barcelona and Brazil midfielder Paulinho and his compatriot, Anderson Talisca. CSL teams have invested heavily to recruit foreign players on lucrative contracts and Cannavaro said the league needed big names, pointing to the impact that Belgium international Axel Witsel had under him at Tianjin Quanjian. \"When Witsel came to play in China, there was no doubt that he wanted to make more money. But he used actions to show how a top professional should train, play and eat,\" said World Cup-winner Cannavaro. \"For young players, he's a role model. Everyone trains hard, hoping to keep up with his rhythm. So ... the departure of these players will also cause depression in some aspects of the system.\"   (Reporting by Shrivathsa Sridhar in Bengaluru)\n",
      "\n",
      "\n",
      "\n",
      "\n",
      "\n",
      "Former Germany international Philipp Lahm, the tournament director of Euro 2024, said on Tuesday he was opposed to FIFA's plan to stage a World Cup every two years. The proposal, which has been outlined by FIFA's head of Global Football Development, former Arsenal manager Arsene Wenger, has been met with widespread opposition from within the game. \"I think the current rhythm should remain as it is,\" Lahm, who won the 2014 World Cup, said at a presentation of the Euro 2024 logo. \"As a player I always felt happy with it and as a supporter I find it good that there is a major tournament every two years. \"I am totally convinced that things should stay as they are.\"\n",
      "\n",
      "\n",
      "PARIS: Kylian Mbappe on Tuesday (Oct 5) fell short of saying he would leave Paris St Germain when his contract expires at the end of the season but Real Madrid president Florentino Perez said he was optimistic the France striker would join the Spanish giants. The 22-year-old told the Ligue 1 club he wanted to join Real Madrid during the close season, only for PSG to turn down the Spanish club's offers. Asked if he was going to leave next summer, Mbappe told French sports daily L'Equipe: \"I’ve been in football long enough now to know that yesterday's truth is not necessarily today's, nor tomorrow's. If I was told that Messi was going to play at PSG, I wouldn't have believed it, so you never know what's going to happen.\" Perez, however, told Spanish paper El Debate on Monday that his club would have news on Mbappe in January. \"Hopefully everything can be sorted on the first of January,\" he said. Perez's comments prompted an angry reaction from PSG sporting director Leonardo. \"It's been going on for two years,\" the Brazilian told L'Equipe. \"I just remind you that the transfer window is closed, that a season is underway. \"There are matches and Real Madrid cannot continue to behave in this way. Let it stop! Kylian is a player of Paris St Germain and the club wants this relationship to last.\" Mbappe, Lionel Messi and Neymar form what is regarded as the most exciting attacking trio in club football, but they have struggled to gel, with Mbappe showing his frustration towards the Brazilian. Mbappe was heard saying \"this bum, he never passes to me\" in a Ligue 1 game against Montpellier last month. \"Yes, yes, I said that. Now, these are things that happen all the time in soccer. It's just not something that sticks. That's why, immediately afterwards, seeing how big it had become, I talked to him about it,\" said Mbappe. \"We've exchanged a lot of words like that in the past and we'll continue to do so, because we want to win, but there shouldn't be any hard feelings. There is no resentment at all because I respect the player and the man and I admire what he is.\" Mbappe now wants to focus on football. \"Right now, my future is not my priority,\" he said. \"I've already wasted a lot of energy this summer, and it was tiring.\" Mbappe is with the France squad as they prepare for this week's Nations League Final Four tournament with a semi-final against Belgium on Thursday and the PSG forward is looking to put his Euro 2020 disappointment behind him. His miss in the penalty shootout against Switzerland effectively knocked the world champions out in the last 16 and Mbappe faced stern criticism in France as well as racist abuse. \"What shocked me, once again, was to be called a monkey for a penalty,\" he said. \"That's why I wanted support, not because I took my penalty on the left and (Yann) Sommer stopped it. That's my fault.\"\n",
      "\n",
      "\n",
      "SINGAPORE: Efforts are being made to raise the cash rewards for para-athletes in major games, said Minister for Culture, Community and Youth Edwin Tong on Tuesday (Oct 5) as he moved a motion to celebrate the achievements of Singapore's Olympians and Paralympians. Speaking in Parliament, Mr Tong noted that a few MPs had asked if more could be done to reduce the disparity in cash rewards between the Major Games Award Programme (MAP) for able-bodied athletes and the Athletes’ Achievement Awards (AAA) for para-athletes. Mr Tong explained that MAP and AAA are private award schemes managed by the Singapore National Olympic Council (SNOC) and the Singapore National Paralympic Council (SNPC) respectively. Since their inception, the awards have been funded entirely by private sponsors, said the minister.  The difference in cash prizes does not reflect how the Government values able-bodied athletes and para-athletes, he added. “The award amounts offered under both schemes are raised and determined by the SNOC and SNPC respectively, along with their sponsors. Individually, the awards under each scheme are tiered based on the standard, size and field of competition for each major games,” explained Mr Tong. “The difference in cash quantum does not reflect how Government values our para-athletes vis-à-vis our able-bodied athletes. In our eyes, they are all Team Singapore athletes, and each athlete, abled or disabled, has his or her own intrinsic value, which we value, recognise and appreciate.” He revealed that SNPC is working on enhancing the cash awards for para-athletes in major games and already had discussions with “a few entities” to do so.  “I have also discussed these efforts with the president (of) SNPC, Prof Teo-Koh (Sock Miang), on several occasions, and will continue to support their engagement with corporate entities and private funders towards this objective. SNPC will announce the outcome of their efforts in due course,” said Mr Tong. Besides looking at cash rewards for medal finishes, the minister also stressed the importance of “uplifting” the entire disability sporting ecosystem.  These include lowering the barriers to entry, opening more facilities and programmes, enhancing the coaching and training framework, as well as integrate disability sports with the mainstream national sports associations. “More athletes will benefit from this, and more pathways to success and to the elite representation will open up,\" said Mr Tong. \"So Mr Speaker, we will continue to work hard, to foster an inclusive society through sports where people of all abilities can come together to experience, to play, to socialise and if you’re able to, to excel at the highest level in sports, and through this, to help Singapore and Singaporeans build deep social connections.” Speaking on the motion, Nominated Member of Parliament (NMP) Mark Chay, who coaches Paralympic swimmer Yip Pin Xiu, thanked the Ministry of Culture, Community and Youth (MCCY), along with a number of agencies and organisations for their \"invaluable support, advice and action\".  He noted that the conversation about support for athletes, as well as the disparity between para-sports and sports in general happens every four years. \"Perhaps this time, we can ride this wave and work on the existing system, which needs more assistance ... In the spirit of equality, I would like to encourage MCCY to work closely with SDSC (Singapore Disability Sports Council) and SNPC to develop the ecosystem and programmes to enable PWDs (persons with disabilities) to pursue sports participation,\" said Mr Chay. \"As the sports ecosystem relies heavily on donations, sponsorships, and volunteers at all levels, I encourage MCCY and SportSG to engage government-linked companies and MNCs to adopt our national sports associations by financially supporting their activities.\" MP Denise Phua (PAP-Jalan Besar) also called on the Government to facilitate the process to \"re-imagine, to review and to resource\" not only the high-performance disability sports system but also widening the talent pool through greater sports participation. \"As Singapore strives to become more inclusive and as Singaporeans ask for more parity ... amongst differently-abled sports talents, it is time to bite the bullet to change the game. Don’t wait for the Paris Games in 2024, in a few years' time, to revive this conversation and debate again,\" she said. Singapore sent a total of 23 athletes across 12 sports to the Olympics, as well as 10 athletes across six sports to the Paralympics.  “We congratulate you for your exceptional performances, for your indomitable fighting spirit on the world stage. You gave everything and left nothing behind in Tokyo,” Mr Tong said of the athletes, a number of whom were present in Parliament. “Your accomplishments brought cheer and joy to our nation, lifted our spirits in perhaps one of the most challenging periods in Singapore’s history.” He noted that the efforts of these athletes also inspired and united Singaporeans from all walks of life as people supported them on their Olympic and Paralympic journeys.  “Just as the greats who have come before you, these men and women, our athletes, have made many personal sacrifices to carry our country’s hopes, our flag and our aspirations to the very pinnacle of sports,” said Mr Tong. “These are also the same men and women who have and will continue to inspire generations of athletes to come after them, to rise up, stand on their shoulders, reach higher, and bring even more honour and glory to our nation.” While Singapore did not clinch a medal at the Olympics, Yip Pin Xiu won two gold medals at the Paralympics. She now has six Paralympics medals, of which five are gold.  This shows the “tremendous longevity and staying power” of Yip, said Mr Tong. “Your innate quality to inspire Singaporeans, your consistency in sporting achievement at the absolutely highest level, your contributions in so many areas away from sport and your own quiet, unassuming personality, which hides a deep personal conviction to be a positive change-maker,” he added. “Each already amazing in its own right … But taken together - you and your achievements have served to unite us as Singaporeans, and inspire us deeply.” Mr Tong announced that a new President’s Award for Inspiring Achievement will be created, with Yip its first recipient. He said that the award will be conferred by the President to “deserving” recipients who meet its “highest qualifying criteria”. It will be presented to Singaporeans with fitting achievements, and may not be given out every year, Mr Tong added. “Pin Xiu has demonstrated these exceptional qualities. She has stared adversity in its face time and time again, overcame it. She is truly an inspiration to Singaporeans, and it is only appropriate that she will now become the inaugural recipient of this award,” he said. “I am certain that she will trailblaze a path for many more to follow in her footsteps.”\n",
      "\n",
      "\n",
      "A South Korean woman who was deluged with thousands of prank calls and text messages after her phone number was highlighted as a key plot point in Netflix's hit show Squid Game may soon get some relief. Netflix and local production company Siren Pictures said on Wednesday (Oct 6) they would edit scenes to remove the phone number, which appears on a mysterious invitation card given to potential players of a series of deadly children's games. The nine-part thriller depicting cash-strapped contestants playing to the death in a bid to win 45.6 billion won (S$51.9 million) became an international hit when it premiered on the streaming service last month. Local broadcaster SBS aired an interview last month with the owner of the phone number, who they identified as Kim Gil-young, a woman who runs a business in the southeastern county of Seongju. The woman showed some of the messages she had received, including requests for invitations to join the Squid Game and go \"from rags to riches\". Reuters' calls to the phone number were not answered on Wednesday. \"Together with the production company, we are working to resolve this matter, including editing scenes with phone numbers where necessary,\" Netflix said on Wednesday, asking fans to refrain from prank calls or messages. The woman told SBS last month that it was impossible for her to change her number due to client contacts and she had declined an offer of 1 million won in compensation. SBS has reported that she has since been offered compensation of up to 5 million won. Netflix and Siren Pictures declined to comment on any compensation offers on Wednesday. Presidential candidate Huh Kyung-young made headlines last week when he offered 100 million won on Facebook to buy the leaked number on the show. Telephone numbers are considered limited national resources and sales or purchase of such is illegal under the country's telecommunications business law. The culture ministry's Korean Film Council offers moviemakers screen numbers that are not used in real life, but TV shows streamed on over-the-top (OTT) services like Netflix do not have access to that service. Netflix and Siren had said earlier they deliberately only showed the final eight digits of the mobile phone number, and were unaware that, when dialled, the prefix would automatically be added to complete the number.\n",
      "\n",
      "\n",
      "\n",
      "\n",
      "\n",
      "\n",
      "\n",
      "\n",
      "BENGALURU :     Indian crypto asset platform CoinSwitch Kuber said on Wednesday it has raised more than US$260 million in a funding round from investors including Coinbase Ventures and Andreessen Horowitz, valuing it at US$1.9 billion.    (Reporting by Rama Venkat in Bengaluru; Editing by Subhranshu Sahu)\n",
      "\n",
      "\n",
      "BRUSSELS :     Belgium captain Eden Hazard has a stage at the Nations League finals this week to make up for the setbacks of recent years as he struggled for form following a series of niggling injuries. The 30-year-old attacker is a long-time mainstay of his national team and one of their \"golden generation\" https://www.reuters.com/article/uk-soccer-uefanations-bel-fra-witsel/soccer-nations-league-an-opportunity-for-belgiums-golden-generation-witsel-idUKKBN2GU1ZC, but in the last two seasons his career has been stagnant, despite a dream move to Real Madrid. His playing time was restricted by a litany of complaints, mostly after surgery on his ankle but also including various muscle strains after battling with the demands of his 100-million euro (US$115 million) transfer from Chelsea. He almost missed out on the European Championship in mid-year but was given time to regain some fitness so that Belgium could use him, first as an impact substitute and then in the starting line-up. They were his first appearances in about 18 months for the national team but he featured in all three of September’s World Cup qualifiers, with Belgium coach Roberto Martinez declaring that the tricky wide player was looking \"back to his best\". The Nations League finals this week are the perfect opportunity to prove Martinez right. Hazard comes into the tournament after being involved in all but one of Real Madrid’s LaLiga and Champions League matches, and with the chance to re-establish the credentials lost over a frustrating two-year period. Belgium begin with a semi-final in Turin on Thursday against neighbours France. If Hazard can lead Belgium to success in the mini-tournament, also involving hosts Italy and Spain, it will do much to restore his reputation. He has had to deal with enormous pressure and media scrutiny in Spain and, though he is a jovial character, the frustration of not being able to make an impact with Real has been hard to deal with, according to some of his colleagues. \"Eden has been a little down,\" club and national teammate Thibaut Courtois has said previously, \"but Real Madrid waits for no one, not even Hazard.\" Martinez feels that is now all in the past.  \"Eden is ready to make a real impact again,\" he said after last month’s trio of wins for the top-ranked Belgians. (US$1 = 0.8641 euros)   (Writing by Mark Gleeson in Cape Town; Editing by Timothy Heritage)\n",
      "\n",
      "\n",
      "    Former Guangzhou FC manager Fabio Cannavaro said the image of the Chinese Super League (CSL) as an attractive competition had changed in the last few seasons because of some rules that \"complicated\" matters for managers. Italian Cannavaro left eight-times champions Guangzhou FC by mutual consent last month, ending his second spell at the side owned by embattled property developers Evergrande with a 2019 title win as well as runners-up finishes in 2018 and 2020. \"The CSL was seen as an attractive, quality league back in 2017-18,\" the South China Morning Post newspaper quoted Cannavaro as saying in an interview with Tencent Sports. \"But then things changed. \"Clubs were requested to send more young players to the field. Some of these youngsters weren't good enough to play in the CSL, but managers had to put them in the games - even for only a few minutes - because that's the rule of the league. \"These rules grew more complicated later. We can't deny that the CSL is a great league that has many splendid managers, top players and stands filled with fans in the stadiums. It's a league with great potential.\" This season, Guangzhou have been hit by the departures of foreign players such as ex-Barcelona and Brazil midfielder Paulinho and his compatriot, Anderson Talisca. CSL teams have invested heavily to recruit foreign players on lucrative contracts and Cannavaro said the league needed big names, pointing to the impact that Belgium international Axel Witsel had under him at Tianjin Quanjian. \"When Witsel came to play in China, there was no doubt that he wanted to make more money. But he used actions to show how a top professional should train, play and eat,\" said World Cup-winner Cannavaro. \"For young players, he's a role model. Everyone trains hard, hoping to keep up with his rhythm. So ... the departure of these players will also cause depression in some aspects of the system.\"   (Reporting by Shrivathsa Sridhar in Bengaluru)\n",
      "\n",
      "\n",
      "PHNOM PENH: Cambodian leader Hun Sen on Wednesday (Oct 6) ordered the justice ministry to amend the constitution to bar holders of the country's top posts, including the prime minister, from being citizens of other nations. On his Facebook page, Hun Sen said the prime minister, upper and lower houses speakers and head of the constitutional council must only hold Cambodian citizenship \"to show loyalty to the nation and avoid foreign interference\". The remarks by Hun Sen, one of the world's longest-serving leaders after more than three decades in power, come days after a report in the Guardian newspaper named him as one of thousands of non-Europeans given Cypriot passports, citing information in a data dump known collectively as the \"Pandora Papers\". But lawyers for the Cambodian government on Wednesday said the Guardian report was false and Hun Sen has only Cambodian citizenship. \"Government lawyers deny and dismiss the Guardian story completely as untruthful, baseless, and in contrast of truth,\" they said in a statement. The statement did not specify whether or not Hun Sen had held more than one nationality in the past. Hun Sen's Cambodian People's Party (CPP) has been in power since 1979 and controls the legislature following the dissolution of the main opposition party three years ago for allegedly plotting to overthrow the government. The opposition rejects that and many of its members have been arrested or jailed or fled into exile, some receiving citizenship in those countries. Hun Sen's longtime rival Sam Rainsy is a French citizen living in Paris to avoid a series of convictions. A Reuters Special Report in October 2019 showed family members and key police, business and political associates of Hun Sen had used their wealth to buy a foreign nationality via a citizenship for sale arrangement in Cyprus.\n",
      "\n",
      "\n",
      "SINGAPORE: Five people have been arrested in Malaysia for suspected drug trafficking activities, with nearly 55kg of controlled drugs worth RM4.9 million (S$1.6 million) seized in the operations. Acting on information provided by Singapore's Central Narcotic Bureau (CNB), the Royal Malaysian Police's (RMP) Narcotics Crime Investigation Department arrested the man and four women, aged between 21 and 71, in and around Kuala Lumpur and Selangor. All five are Malaysians. CNB said that it has been monitoring a Malaysian-based syndicate since July. The syndicate is believed to have been trafficking drugs, using Singapore-based freight forwarding companies as legitimate forwarding agents to deliver parcels that contain concealed drugs to other countries through Singapore. CNB actively monitored the activities of the syndicate and provided the information to RMP's Narcotics Crime Investigation Department. Based on the information from CNB, Malaysian authorities began their investigations. Between Sep 24 and Sep 28, officers from the Narcotics Crime Investigation Department conducted a series of operations around Selangor, Negeri Sembilan and Kuala Lumpur.  In one of the operations, children's toys and dolls were seized from a parcel suspected to contain controlled drugs. Controlled drugs, suspected to be methamphetamine, was also found in between the corrugated cardboard in the parcels containing the toys and dolls. A total of 5.8kg of methamphetamine, also known as Ice, 14.8kg of ketamine, 34.3kg of methylenedioxymethamphetamine (MDMA) powder, and 30.1 litres of MDMA were seized, along with various drug processing equipment and 2.2kg of caffeine believed to be used in illicit drug production. Investigations by the Narcotics Crime Investigation Department into the drug activities of the suspects are ongoing. “Even as drug trafficking syndicates try to circumvent travel restrictions by using parcels and postage services to traffic drugs, close international cooperation between law enforcement agencies will not be impacted,\" said Assistant Commissioner of Police Leon Chan, deputy director of CNB (operations). He added that the arrests were \"testament to the close cooperation\" between CNB and the Narcotics Crime Investigation Department, and thanked the Malaysian authorities for their \"continuous support\". \"Both agencies will continue to share intelligence in timely fashion and work closely together against transnational drug trafficking activities,\" added AC Chan. \"Singapore does not tolerate the activities of syndicates which makes use of Singapore’s connectivity to ship their drugs, and CNB will continue to work closely with our foreign counterparts to interdict the supply of drugs, and to prevent Singapore from being used as a transhipment hub for drugs.\"\n",
      "\n",
      "\n",
      "MUMBAI: India has withdrawn its hockey teams from next year's Commonwealth Games in Birmingham citing concerns about the COVID-19 pandemic and a short turnaround before the Asian Games in China, a qualifier for the 2024 Paris Olympics. The Commonwealth Games are scheduled for Jul 28 to Aug 8, with the Asian Games in Hangzhou starting on Sep 10. In a letter addressed to Indian Olympic Association President Narinder Batra, and reviewed by Reuters, the hockey federation said the Asian Games were the priority. \"With reference to the ongoing COVID-19 pandemic, we have observed over the last 18 months that England has been the worst affected country in Europe,\" Hockey India chief Gyanendro Ningombam wrote. \"... the Asian games is the continental qualification event for the 2024 Paris Olympic Games and keeping the priority of the Asian Games in mind, Hockey India cannot risk any members of the Indian teams contracting COVID-19 during the Commonwealth Games.\" Ningombam said the quarantine measures for Indians arriving in Britain, even if they are fully vaccinated against COVID-19, were \"very unfortunate\" and would affect athletes' performance. The decision came a day after England, citing \"a number of COVID-related concerns\", withdrew from the men's hockey Junior World Cup, which will be held in the Indian city of Bhubaneswar from Nov 24 to Dec 5. Batra, who is also the chief of the global hockey governing body (FIH), said the decision to withdraw from the Commonwealth Games was \"final\". \"It's the federation's decision that they are prioritising the Asian Games. I can't force anyone to reconsider,\" Batra told Reuters on Wednesday. India and Britain have also been involved in a row over quarantine measures for international arrivals. Visiting UK nationals have to undergo mandatory quarantine even if they are fully vaccinated against COVID-19, a measure the Indian government said was in response to similar restrictions imposed by the UK on Indian citizens.\n",
      "\n",
      "\n",
      "BENGALURU :     Sequoia Capital-funded Mobile Premier League (MPL) was among the first few gaming startups that began blocking access to users in the Indian state of Karnataka on Wednesday following a ban on online gaming. The law, which came into effect late on Tuesday, bans online games involving betting and wagering, and \"any act or risking money, or otherwise on the unknown result of an event including on a game of skill\". The latest ban has intensified concerns that growing state regulations could hit the nascent but booming gaming sector in India, where foreign investors have pumped in millions of dollars in recent months. On Wednesday morning, MPL's gaming app showed messages to users in Karnataka that said: \"Sorry! The law in your state does not permit you to play Fantasy sports\", \"Fantasy games are locked\" and \"cash games are locked\".  The gaming app offers fantasy cricket and football games and allows real-money wagering on them.   Dream11, one of India's most popular gaming apps backed by Tiger Global, was still operational, but Paytm First Games was not. Dream11 declined to comment, while MPL and Paytm did not immediately respond. Karnataka, home to some of the world's biggest tech companies and India's tech capital Bengaluru, is the latest Indian state that has banned such online games after Telangana and Andhra Pradesh. Tamil Nadu had also imposed such bans, but its bill was struck down by its high court. An industry source had told Reuters earlier that these states were important for the gaming business and account for roughly 20per cent of the total business for companies. Roland Landers, the chief executive of the All India Gaming Federation, said \"the industry will challenge this in court and seek legal recourse\". Two other industry sources told Reuters on Wednesday that gamers and some companies were planning to file court challenges against the new Karnataka law. The law imposes hefty fines and prison terms on violaters and has been implemented amid growing concerns that online gaming platforms, like gambling, are addictive and can cause financial harm.   (Reporting by Chandini Monappa and Vishwadha Chander in Bengaluru and Aditya Kalra in New Delhi; Editing by Subhranshu Sahu)\n",
      "\n",
      "\n",
      "SINGAPORE: Travellers using Google to search for flights will now be able to make their choices based not just on price and departure times, but also on the carbon footprint of each flight.  CO2 emissions will be in the search results on Google Flights, the tech giant announced on Wednesday (Oct 6) as part of a slew of sustainability initiatives. Flights will be labelled as higher, typical, lower or unknown emissions, with those with significantly lower emissions indicated by a green badge.  On its website, Google noted that carbon emission estimates are based on data provided by third parties, taking into account factors such as the distance to the destination as well as the aircraft model and configuration. \"These CO2 metrics are not just flight-specific, they're also seat-specific,\" said Google Commerce marketing director Stephanie Horton in a live-streamed presentation to the media. Business or first-class seats occupy more space and therefore make up a larger share of total emissions, said Ms Horton.  The new feature will allow travellers to make better-informed decisions, she added. In addition, those searching for accommodation will also be able to see if hotels have made \"meaningful commitments to sustainability\", such as whether they have made efforts towards reducing waste, improving energy efficiency and water conservation.  In the United States, the Silicon Valley-based firm is introducing \"eco-friendly routing\" to its Google Maps platform, allowing motorists to see not just the fastest route but also the most fuel-efficient one, based on information from the US National Renewable Energy Lab.  In a blog post, Sundar Pichar, the chief executive of Google and its parent company Alphabet, said the tech giant estimates this could reduce as much as one million tonnes of carbon emissions per year.  Google users in the US will also be able to view more cost-effective options for household appliances such as dishwashers and water heaters. There will be information related to electric vehicles as well - such as compatible charging stations nearby and typical charging times. This feature will be available in the US early next year, with plans to expand it globally in the future, said Google.  The company is also researching the use of artificial intelligence to optimise the efficiency of traffic lights at four locations in Israel, saying it has noted a 10 to 20 per cent reduction in fuel and intersection delay time in its trials.  It will soon conduct trials in Rio de Janeiro and is in discussions with other major cities around the world.  Google chief sustainability officer Kate Brandt noted that its data centres worldwide are now operating with 67 per cent locally-sourced carbon-free energy, up from 61 per cent two years ago.  Five data centres are now operating on 90 per cent carbon-free energy, she added.  This is in line with its goal to have its data centres operate entirely on carbon-free energy 2030.  \"In all these efforts, our goal is to make the sustainable choice an easier choice,\" said Mr Pichai \"At the individual level, these choices may seem small, but when people have the tools to make them at scale, they equal big improvements.\"\n",
      "\n",
      "\n"
     ]
    }
   ],
   "source": [
    "for article in articles:\n",
    "    print(f\"{article}\\n\\n\")"
   ]
  },
  {
   "cell_type": "code",
   "execution_count": 32,
   "id": "1383fbfa",
   "metadata": {},
   "outputs": [
    {
     "data": {
      "text/plain": [
       "False"
      ]
     },
     "execution_count": 32,
     "metadata": {},
     "output_type": "execute_result"
    }
   ],
   "source": [
    "CNA_ARTICLES_ADDRESS.is_file()"
   ]
  },
  {
   "cell_type": "code",
   "execution_count": 83,
   "id": "3607fe52",
   "metadata": {},
   "outputs": [],
   "source": [
    "# scrape stackoverflow\n",
    "from IPython.core.display import display, HTML\n",
    "def get_stack_overflow_articles():\n",
    "    STACK_OVERFLOW_URL = \"https://stackoverflow.com/\"\n",
    "    page = requests.get(f\"{STACK_OVERFLOW_URL}questions?tab=Frequent\")\n",
    "    soup = BeautifulSoup(page.text, \"html.parser\")\n",
    "    # get links to different news articles (the class is for this url, will differ across websites)\n",
    "    links = soup.find_all(\"a\", \"question-hyperlink\")\n",
    "    posts = []\n",
    "    for idx, link in enumerate(links,1):\n",
    "        article_site = requests.get(f\"{STACK_OVERFLOW_URL}{link['href']}\")\n",
    "        article_page = BeautifulSoup(article_site.text, \"html.parser\")\n",
    "        parent = article_page.find(\"div\", \"s-prose js-post-body\")\n",
    "        p_tags = parent.findChildren(\"p\")\n",
    "        post = []\n",
    "        for p_tag in p_tags:\n",
    "            post.append(p_tag.text)\n",
    "            display(HTML(str(p_tag)))\n",
    "        posts.append(\" \".join(post))\n",
    "        if idx == 50: break\n",
    "    return posts"
   ]
  },
  {
   "cell_type": "code",
   "execution_count": 84,
   "id": "e0d026a8",
   "metadata": {},
   "outputs": [
    {
     "data": {
      "text/html": [
       "<p>When discussing performance with colleagues, teaching, sending a bug report or searching for guidance on mailing lists and here on Stack Overflow, a <a href=\"https://stackoverflow.com/help/mcve\">reproducible example</a> is often asked and always helpful.</p>"
      ],
      "text/plain": [
       "<IPython.core.display.HTML object>"
      ]
     },
     "metadata": {},
     "output_type": "display_data"
    },
    {
     "data": {
      "text/html": [
       "<p>What are your tips for creating an excellent example? How do you paste data structures from <a class=\"post-tag\" href=\"/questions/tagged/r\" rel=\"tag\" title=\"show questions tagged 'r'\">r</a> in a text format? What other information should you include?</p>"
      ],
      "text/plain": [
       "<IPython.core.display.HTML object>"
      ]
     },
     "metadata": {},
     "output_type": "display_data"
    },
    {
     "data": {
      "text/html": [
       "<p>Are there other tricks in addition to using <code>dput()</code>, <code>dump()</code> or <code>structure()</code>?  When should you include <code>library()</code> or <code>require()</code> statements?  Which reserved words should one avoid, in addition to <code>c</code>, <code>df</code>, <code>data</code>, etc.?</p>"
      ],
      "text/plain": [
       "<IPython.core.display.HTML object>"
      ]
     },
     "metadata": {},
     "output_type": "display_data"
    },
    {
     "data": {
      "text/html": [
       "<p>How does one make a great <a class=\"post-tag\" href=\"/questions/tagged/r\" rel=\"tag\" title=\"show questions tagged 'r'\">r</a> reproducible example?</p>"
      ],
      "text/plain": [
       "<IPython.core.display.HTML object>"
      ]
     },
     "metadata": {},
     "output_type": "display_data"
    },
    {
     "data": {
      "text/html": [
       "<p>What are Null Pointer Exceptions (<code>java.lang.NullPointerException</code>) and what causes them?</p>"
      ],
      "text/plain": [
       "<IPython.core.display.HTML object>"
      ]
     },
     "metadata": {},
     "output_type": "display_data"
    },
    {
     "data": {
      "text/html": [
       "<p>What methods/tools can be used to determine the cause so that you stop the exception from causing the program to terminate prematurely?</p>"
      ],
      "text/plain": [
       "<IPython.core.display.HTML object>"
      ]
     },
     "metadata": {},
     "output_type": "display_data"
    },
    {
     "data": {
      "text/html": [
       "<p>I have a function <code>foo</code> which makes an asynchronous request. How can I return the response/result from <code>foo</code>?</p>"
      ],
      "text/plain": [
       "<IPython.core.display.HTML object>"
      ]
     },
     "metadata": {},
     "output_type": "display_data"
    },
    {
     "data": {
      "text/html": [
       "<p>I am trying to return the value from the callback, as well as assigning the result to a local variable inside the function and returning that one, but none of those ways actually return the response (they all return <code>undefined</code> or whatever the initial value of the variable <code>result</code> is).</p>"
      ],
      "text/plain": [
       "<IPython.core.display.HTML object>"
      ]
     },
     "metadata": {},
     "output_type": "display_data"
    },
    {
     "data": {
      "text/html": [
       "<p><strong>Example using jQuery's <code>ajax</code> function:</strong></p>"
      ],
      "text/plain": [
       "<IPython.core.display.HTML object>"
      ]
     },
     "metadata": {},
     "output_type": "display_data"
    },
    {
     "data": {
      "text/html": [
       "<p><strong>Example using Node.js:</strong></p>"
      ],
      "text/plain": [
       "<IPython.core.display.HTML object>"
      ]
     },
     "metadata": {},
     "output_type": "display_data"
    },
    {
     "data": {
      "text/html": [
       "<p><strong>Example using the <code>then</code> block of a promise:</strong></p>"
      ],
      "text/plain": [
       "<IPython.core.display.HTML object>"
      ]
     },
     "metadata": {},
     "output_type": "display_data"
    },
    {
     "data": {
      "text/html": [
       "<p>If user input is inserted without modification into an SQL query, then the application becomes vulnerable to <a href=\"https://stackoverflow.com/a/332367/\">SQL injection</a>, like in the following example:</p>"
      ],
      "text/plain": [
       "<IPython.core.display.HTML object>"
      ]
     },
     "metadata": {},
     "output_type": "display_data"
    },
    {
     "data": {
      "text/html": [
       "<p>That's because the user can input something like <code>value'); DROP TABLE table;--</code>, and the query becomes:</p>"
      ],
      "text/plain": [
       "<IPython.core.display.HTML object>"
      ]
     },
     "metadata": {},
     "output_type": "display_data"
    },
    {
     "data": {
      "text/html": [
       "<p>What can be done to prevent this from happening?</p>"
      ],
      "text/plain": [
       "<IPython.core.display.HTML object>"
      ]
     },
     "metadata": {},
     "output_type": "display_data"
    },
    {
     "data": {
      "text/html": [
       "<p>I need to match all of these opening tags:</p>"
      ],
      "text/plain": [
       "<IPython.core.display.HTML object>"
      ]
     },
     "metadata": {},
     "output_type": "display_data"
    },
    {
     "data": {
      "text/html": [
       "<p>But not these:</p>"
      ],
      "text/plain": [
       "<IPython.core.display.HTML object>"
      ]
     },
     "metadata": {},
     "output_type": "display_data"
    },
    {
     "data": {
      "text/html": [
       "<p>I came up with this and wanted to make sure I've got it right. I am only capturing the <code>a-z</code>.</p>"
      ],
      "text/plain": [
       "<IPython.core.display.HTML object>"
      ]
     },
     "metadata": {},
     "output_type": "display_data"
    },
    {
     "data": {
      "text/html": [
       "<p>I believe it says:</p>"
      ],
      "text/plain": [
       "<IPython.core.display.HTML object>"
      ]
     },
     "metadata": {},
     "output_type": "display_data"
    },
    {
     "data": {
      "text/html": [
       "<p>Do I have that right? And more importantly, what do you think?</p>"
      ],
      "text/plain": [
       "<IPython.core.display.HTML object>"
      ]
     },
     "metadata": {},
     "output_type": "display_data"
    },
    {
     "data": {
      "text/html": [
       "<p>I have some code and when it executes, it throws a <code>NullReferenceException</code>, saying:</p>"
      ],
      "text/plain": [
       "<IPython.core.display.HTML object>"
      ]
     },
     "metadata": {},
     "output_type": "display_data"
    },
    {
     "data": {
      "text/html": [
       "<p>Object reference not set to an instance of an object.</p>"
      ],
      "text/plain": [
       "<IPython.core.display.HTML object>"
      ]
     },
     "metadata": {},
     "output_type": "display_data"
    },
    {
     "data": {
      "text/html": [
       "<p>What does this mean, and what can I do to fix this error?</p>"
      ],
      "text/plain": [
       "<IPython.core.display.HTML object>"
      ]
     },
     "metadata": {},
     "output_type": "display_data"
    },
    {
     "data": {
      "text/html": [
       "<p>Consider the following code:\n",
       "</p>"
      ],
      "text/plain": [
       "<IPython.core.display.HTML object>"
      ]
     },
     "metadata": {},
     "output_type": "display_data"
    },
    {
     "data": {
      "text/html": [
       "<p>Why do these inaccuracies happen?</p>"
      ],
      "text/plain": [
       "<IPython.core.display.HTML object>"
      ]
     },
     "metadata": {},
     "output_type": "display_data"
    },
    {
     "data": {
      "text/html": [
       "<p>I've been using the <code>==</code> operator in my program to compare all my strings so far.\n",
       "However, I ran into a bug, changed one of them into <code>.equals()</code> instead, and it fixed the bug.</p>"
      ],
      "text/plain": [
       "<IPython.core.display.HTML object>"
      ]
     },
     "metadata": {},
     "output_type": "display_data"
    },
    {
     "data": {
      "text/html": [
       "<p>Is <code>==</code> bad? When should it and should it not be used? What's the difference?</p>"
      ],
      "text/plain": [
       "<IPython.core.display.HTML object>"
      ]
     },
     "metadata": {},
     "output_type": "display_data"
    },
    {
     "data": {
      "text/html": [
       "<p>This question attempts to collect the few pearls among the dozens of bad C++ books that are published every year.</p>"
      ],
      "text/plain": [
       "<IPython.core.display.HTML object>"
      ]
     },
     "metadata": {},
     "output_type": "display_data"
    },
    {
     "data": {
      "text/html": [
       "<p>Unlike many other programming languages, which are often picked up on the go from tutorials found on the Internet, few are able to quickly pick up C++ without studying a well-written C++ book. It is way too big and complex for doing this. In fact, it is so big and complex, that <em><strong>there are very many very bad C++ books</strong></em> out there. And we are not talking about bad style, but things like sporting <em>glaringly obvious factual errors</em> and <em>promoting abysmally bad programming styles</em>.</p>"
      ],
      "text/plain": [
       "<IPython.core.display.HTML object>"
      ]
     },
     "metadata": {},
     "output_type": "display_data"
    },
    {
     "data": {
      "text/html": [
       "<p>Please edit the accepted answer to provide <strong>quality books</strong> and an approximate skill level — <em>preferably</em> <strong>after</strong> <em>discussing your addition in <a href=\"https://chat.stackoverflow.com/rooms/10/loungec\">the C++ chat room</a></em>. (The regulars might mercilessly undo your work if they disagree with a recommendation.) Add a short blurb/description about each book that you have personally read/benefited from. Feel free to debate quality, headings, etc. Books that meet the criteria will be added to the list.  Books that have reviews by the Association of C and C++ Users (ACCU) have links to the review.</p>"
      ],
      "text/plain": [
       "<IPython.core.display.HTML object>"
      ]
     },
     "metadata": {},
     "output_type": "display_data"
    },
    {
     "data": {
      "text/html": [
       "<p><sub>*Note: FAQs and other resources can be found in the <a href=\"https://stackoverflow.com/tags/c%2b%2b/info\">C++ tag info</a> and under <a class=\"post-tag\" href=\"/questions/tagged/c%2b%2b-faq\" rel=\"tag\" title=\"show questions tagged 'c++-faq'\">c++-faq</a>. </sub></p>"
      ],
      "text/plain": [
       "<IPython.core.display.HTML object>"
      ]
     },
     "metadata": {},
     "output_type": "display_data"
    },
    {
     "data": {
      "text/html": [
       "<p>I'm running a PHP script and continue to receive errors like:</p>"
      ],
      "text/plain": [
       "<IPython.core.display.HTML object>"
      ]
     },
     "metadata": {},
     "output_type": "display_data"
    },
    {
     "data": {
      "text/html": [
       "<p>Notice: Undefined variable: my_variable_name in C:\\wamp\\www\\mypath\\index.php on line 10</p>"
      ],
      "text/plain": [
       "<IPython.core.display.HTML object>"
      ]
     },
     "metadata": {},
     "output_type": "display_data"
    },
    {
     "data": {
      "text/html": [
       "<p>Notice: Undefined index: my_index C:\\wamp\\www\\mypath\\index.php on line 11</p>"
      ],
      "text/plain": [
       "<IPython.core.display.HTML object>"
      ]
     },
     "metadata": {},
     "output_type": "display_data"
    },
    {
     "data": {
      "text/html": [
       "<p>Line 10 and 11 looks like this:</p>"
      ],
      "text/plain": [
       "<IPython.core.display.HTML object>"
      ]
     },
     "metadata": {},
     "output_type": "display_data"
    },
    {
     "data": {
      "text/html": [
       "<p>What is the meaning of these error messages?</p>"
      ],
      "text/plain": [
       "<IPython.core.display.HTML object>"
      ]
     },
     "metadata": {},
     "output_type": "display_data"
    },
    {
     "data": {
      "text/html": [
       "<p>Why do they appear all of a sudden? I used to use this script for years and I've never had any problem.</p>"
      ],
      "text/plain": [
       "<IPython.core.display.HTML object>"
      ]
     },
     "metadata": {},
     "output_type": "display_data"
    },
    {
     "data": {
      "text/html": [
       "<p>How do I fix them?</p>"
      ],
      "text/plain": [
       "<IPython.core.display.HTML object>"
      ]
     },
     "metadata": {},
     "output_type": "display_data"
    },
    {
     "data": {
      "text/html": [
       "<p><sub><strong>This is a General Reference question</strong> for people to link to as duplicate, instead of having to explain the issue over and over again. I feel this is necessary because most real-world answers on this issue are very specific. </sub></p>"
      ],
      "text/plain": [
       "<IPython.core.display.HTML object>"
      ]
     },
     "metadata": {},
     "output_type": "display_data"
    },
    {
     "data": {
      "text/html": [
       "<p><sub>Related Meta discussion:</sub></p>"
      ],
      "text/plain": [
       "<IPython.core.display.HTML object>"
      ]
     },
     "metadata": {},
     "output_type": "display_data"
    },
    {
     "data": {
      "text/html": [
       "<p>What are undefined reference/unresolved external symbol errors? What are common causes and how to fix/prevent them?</p>"
      ],
      "text/plain": [
       "<IPython.core.display.HTML object>"
      ]
     },
     "metadata": {},
     "output_type": "display_data"
    },
    {
     "data": {
      "text/html": [
       "<p>What are the technical reasons for why one shouldn't use <code>mysql_*</code> functions? (e.g. <code>mysql_query()</code>, <code>mysql_connect()</code> or <code>mysql_real_escape_string()</code>)?</p>"
      ],
      "text/plain": [
       "<IPython.core.display.HTML object>"
      ]
     },
     "metadata": {},
     "output_type": "display_data"
    },
    {
     "data": {
      "text/html": [
       "<p>Why should I use something else even if they work on my site?</p>"
      ],
      "text/plain": [
       "<IPython.core.display.HTML object>"
      ]
     },
     "metadata": {},
     "output_type": "display_data"
    },
    {
     "data": {
      "text/html": [
       "<p>If they don't work on my site, why do I get errors like </p>"
      ],
      "text/plain": [
       "<IPython.core.display.HTML object>"
      ]
     },
     "metadata": {},
     "output_type": "display_data"
    },
    {
     "data": {
      "text/html": [
       "<p>Warning: mysql_connect(): No such file or directory</p>"
      ],
      "text/plain": [
       "<IPython.core.display.HTML object>"
      ]
     },
     "metadata": {},
     "output_type": "display_data"
    },
    {
     "data": {
      "text/html": [
       "<p>Everyone runs into syntax errors. Even experienced programmers make typos. For newcomers, it's just part of the learning process. However, it's often easy to interpret error messages such as:</p>"
      ],
      "text/plain": [
       "<IPython.core.display.HTML object>"
      ]
     },
     "metadata": {},
     "output_type": "display_data"
    },
    {
     "data": {
      "text/html": [
       "<p>PHP Parse error: syntax error, unexpected '{' in index.php on line 20</p>"
      ],
      "text/plain": [
       "<IPython.core.display.HTML object>"
      ]
     },
     "metadata": {},
     "output_type": "display_data"
    },
    {
     "data": {
      "text/html": [
       "<p>The unexpected symbol isn't always the real culprit. But the line number gives a rough idea of where to start looking.</p>"
      ],
      "text/plain": [
       "<IPython.core.display.HTML object>"
      ]
     },
     "metadata": {},
     "output_type": "display_data"
    },
    {
     "data": {
      "text/html": [
       "<p>Always look at the <strong>code context</strong>. The syntax mistake often hides in the mentioned <em>or</em> in <strong>previous code lines</strong>. Compare your code against syntax examples from the manual.</p>"
      ],
      "text/plain": [
       "<IPython.core.display.HTML object>"
      ]
     },
     "metadata": {},
     "output_type": "display_data"
    },
    {
     "data": {
      "text/html": [
       "<p>While not every case matches the other. Yet there are some <a href=\"https://stackoverflow.com/a/18050072\">general steps to <strong>solve syntax mistakes</strong></a>.\n",
       "This references summarized the common pitfalls:</p>"
      ],
      "text/plain": [
       "<IPython.core.display.HTML object>"
      ]
     },
     "metadata": {},
     "output_type": "display_data"
    },
    {
     "data": {
      "text/html": [
       "<p><a href=\"https://stackoverflow.com/a/18092277\">Unexpected T_STRING</a></p>"
      ],
      "text/plain": [
       "<IPython.core.display.HTML object>"
      ]
     },
     "metadata": {},
     "output_type": "display_data"
    },
    {
     "data": {
      "text/html": [
       "<p><a href=\"https://stackoverflow.com/a/18092267\">Unexpected T_VARIABLE <br/> Unexpected '$varname' (T_VARIABLE)</a></p>"
      ],
      "text/plain": [
       "<IPython.core.display.HTML object>"
      ]
     },
     "metadata": {},
     "output_type": "display_data"
    },
    {
     "data": {
      "text/html": [
       "<p><a href=\"https://stackoverflow.com/a/18092288\">Unexpected T_CONSTANT_ENCAPSED_STRING <br/> Unexpected T_ENCAPSED_AND_WHITESPACE</a></p>"
      ],
      "text/plain": [
       "<IPython.core.display.HTML object>"
      ]
     },
     "metadata": {},
     "output_type": "display_data"
    },
    {
     "data": {
      "text/html": [
       "<p><a href=\"https://stackoverflow.com/questions/18050071/php-parse-syntax-errors-and-how-to-solve-them#29500670\">Unexpected $end</a></p>"
      ],
      "text/plain": [
       "<IPython.core.display.HTML object>"
      ]
     },
     "metadata": {},
     "output_type": "display_data"
    },
    {
     "data": {
      "text/html": [
       "<p><a href=\"https://stackoverflow.com/questions/3723748/php-version-5-2-14-parse-error-syntax-error-unexpected-t-function-expecting\">Unexpected T_FUNCTION</a>…</p>"
      ],
      "text/plain": [
       "<IPython.core.display.HTML object>"
      ]
     },
     "metadata": {},
     "output_type": "display_data"
    },
    {
     "data": {
      "text/html": [
       "<p><a href=\"https://stackoverflow.com/a/18092308\">Unexpected <code>{</code><br/>Unexpected <code>}</code><br/>Unexpected <code>(</code><br/>Unexpected <code>)</code></a></p>"
      ],
      "text/plain": [
       "<IPython.core.display.HTML object>"
      ]
     },
     "metadata": {},
     "output_type": "display_data"
    },
    {
     "data": {
      "text/html": [
       "<p><a href=\"https://stackoverflow.com/a/29505827\">Unexpected <code>[</code><br/>Unexpected <code>]</code></a></p>"
      ],
      "text/plain": [
       "<IPython.core.display.HTML object>"
      ]
     },
     "metadata": {},
     "output_type": "display_data"
    },
    {
     "data": {
      "text/html": [
       "<p><a href=\"https://stackoverflow.com/a/18092318\">Unexpected T_IF <br/> Unexpected T_FOREACH <br/> Unexpected T_FOR <br/> Unexpected T_WHILE <br/> Unexpected T_DO <br/> Unexpected T_PRINT <br/> Unexpected T_ECHO</a></p>"
      ],
      "text/plain": [
       "<IPython.core.display.HTML object>"
      ]
     },
     "metadata": {},
     "output_type": "display_data"
    },
    {
     "data": {
      "text/html": [
       "<p><a href=\"//stackoverflow.com/a/47202089\">Unexpected T_LNUMBER</a></p>"
      ],
      "text/plain": [
       "<IPython.core.display.HTML object>"
      ]
     },
     "metadata": {},
     "output_type": "display_data"
    },
    {
     "data": {
      "text/html": [
       "<p><a href=\"//stackoverflow.com/a/48670368\">Unexpected ?</a></p>"
      ],
      "text/plain": [
       "<IPython.core.display.HTML object>"
      ]
     },
     "metadata": {},
     "output_type": "display_data"
    },
    {
     "data": {
      "text/html": [
       "<p><a href=\"//stackoverflow.com/a/51786865\">Unexpected continue (T_CONTINUE)<br/>Unexpected continue (T_BREAK)<br/>Unexpected continue (T_RETURN)</a></p>"
      ],
      "text/plain": [
       "<IPython.core.display.HTML object>"
      ]
     },
     "metadata": {},
     "output_type": "display_data"
    },
    {
     "data": {
      "text/html": [
       "<p><a href=\"//stackoverflow.com/a/53037930\">Unexpected '='</a></p>"
      ],
      "text/plain": [
       "<IPython.core.display.HTML object>"
      ]
     },
     "metadata": {},
     "output_type": "display_data"
    },
    {
     "data": {
      "text/html": [
       "<p><a href=\"https://stackoverflow.com/questions/4934754/t-inline-html-whats-wrong-with-this\">Unexpected T_INLINE_HTML</a>…</p>"
      ],
      "text/plain": [
       "<IPython.core.display.HTML object>"
      ]
     },
     "metadata": {},
     "output_type": "display_data"
    },
    {
     "data": {
      "text/html": [
       "<p><a href=\"https://stackoverflow.com/questions/1966010/what-does-this-mean-parse-error-syntax-error-unexpected-t-paamayim-nekudotay\">Unexpected T_PAAMAYIM_NEKUDOTAYIM</a>…</p>"
      ],
      "text/plain": [
       "<IPython.core.display.HTML object>"
      ]
     },
     "metadata": {},
     "output_type": "display_data"
    },
    {
     "data": {
      "text/html": [
       "<p><a href=\"https://stackoverflow.com/questions/3990212/help-with-this-error-message-unexpected-t-object-operator\">Unexpected T_OBJECT_OPERATOR</a>…</p>"
      ],
      "text/plain": [
       "<IPython.core.display.HTML object>"
      ]
     },
     "metadata": {},
     "output_type": "display_data"
    },
    {
     "data": {
      "text/html": [
       "<p><a href=\"https://stackoverflow.com/questions/2622624/parse-error-syntax-error-unexpected-t-double-arrow-php\">Unexpected T_DOUBLE_ARROW</a>…</p>"
      ],
      "text/plain": [
       "<IPython.core.display.HTML object>"
      ]
     },
     "metadata": {},
     "output_type": "display_data"
    },
    {
     "data": {
      "text/html": [
       "<p><a href=\"https://stackoverflow.com/questions/11208725/parse-error-syntax-error-unexpected-t-sl-php-heredoc\">Unexpected T_SL</a>…</p>"
      ],
      "text/plain": [
       "<IPython.core.display.HTML object>"
      ]
     },
     "metadata": {},
     "output_type": "display_data"
    },
    {
     "data": {
      "text/html": [
       "<p><a href=\"https://stackoverflow.com/questions/4419095/syntax-error-unexpected-t-boolean-or\">Unexpected T_BOOLEAN_OR</a>…\n",
       "<br/>\n",
       "<a href=\"https://stackoverflow.com/questions/11500935/parse-error-syntax-error-unexpected-t-boolean-and-expecting-in\">Unexpected T_BOOLEAN_AND</a>…</p>"
      ],
      "text/plain": [
       "<IPython.core.display.HTML object>"
      ]
     },
     "metadata": {},
     "output_type": "display_data"
    },
    {
     "data": {
      "text/html": [
       "<p><a href=\"https://stackoverflow.com/a/30142092/345031\">Unexpected T_IS_EQUAL <br/>\n",
       "Unexpected T_IS_GREATER_OR_EQUAL <br/>\n",
       "Unexpected T_IS_IDENTICAL <br/>\n",
       "Unexpected T_IS_NOT_EQUAL <br/>\n",
       "Unexpected T_IS_NOT_IDENTICAL <br/>\n",
       "Unexpected T_IS_SMALLER_OR_EQUAL <br/>\n",
       "Unexpected <code>&lt;</code> <br/>\n",
       "Unexpected <code>&gt;</code></a></p>"
      ],
      "text/plain": [
       "<IPython.core.display.HTML object>"
      ]
     },
     "metadata": {},
     "output_type": "display_data"
    },
    {
     "data": {
      "text/html": [
       "<p><a href=\"https://stackoverflow.com/questions/6263105/parsing-error-syntax-error-unexpected-t-ns-separator\">Unexpected T_NS_SEPARATOR</a>…</p>"
      ],
      "text/plain": [
       "<IPython.core.display.HTML object>"
      ]
     },
     "metadata": {},
     "output_type": "display_data"
    },
    {
     "data": {
      "text/html": [
       "<p><a href=\"https://stackoverflow.com/questions/17156251/unexpected-character-in-input-ascii-92-state-1\">Unexpected character in input: '<code>\\</code>' (ASCII=92) state=1</a></p>"
      ],
      "text/plain": [
       "<IPython.core.display.HTML object>"
      ]
     },
     "metadata": {},
     "output_type": "display_data"
    },
    {
     "data": {
      "text/html": [
       "<p><a href=\"https://stackoverflow.com/questions/13341378/php-parse-error-syntax-error-unexpected-t-public\">Unexpected 'public' (T_PUBLIC) <br/> Unexpected 'private' (T_PRIVATE) <br/> Unexpected 'protected' (T_PROTECTED) <br/> Unexpected 'final' (T_FINAL)</a>…</p>"
      ],
      "text/plain": [
       "<IPython.core.display.HTML object>"
      ]
     },
     "metadata": {},
     "output_type": "display_data"
    },
    {
     "data": {
      "text/html": [
       "<p><a href=\"https://stackoverflow.com/questions/4668557/parse-error-syntax-error-unexpected-t-static\">Unexpected T_STATIC</a>…</p>"
      ],
      "text/plain": [
       "<IPython.core.display.HTML object>"
      ]
     },
     "metadata": {},
     "output_type": "display_data"
    },
    {
     "data": {
      "text/html": [
       "<p><a href=\"https://stackoverflow.com/questions/32205590/laravel-parse-error-syntax-error-unexpected-t-class-expecting-t-string-or-t-v\">Unexpected T_CLASS</a>…</p>"
      ],
      "text/plain": [
       "<IPython.core.display.HTML object>"
      ]
     },
     "metadata": {},
     "output_type": "display_data"
    },
    {
     "data": {
      "text/html": [
       "<p><a href=\"https://stackoverflow.com/questions/33342994/unexpected-use-t-use-when-trying-to-use-composer\">Unexpected 'use' (T_USE)</a></p>"
      ],
      "text/plain": [
       "<IPython.core.display.HTML object>"
      ]
     },
     "metadata": {},
     "output_type": "display_data"
    },
    {
     "data": {
      "text/html": [
       "<p><a href=\"https://stackoverflow.com/questions/27783613/parse-error-syntax-error-unexpected-t-dnumber-in-home-a3206525-public-html-ea\">Unexpected T_DNUMBER</a></p>"
      ],
      "text/plain": [
       "<IPython.core.display.HTML object>"
      ]
     },
     "metadata": {},
     "output_type": "display_data"
    },
    {
     "data": {
      "text/html": [
       "<p><a href=\"https://stackoverflow.com/questions/29241208/php-parse-error-syntax-error-unexpected-in\">Unexpected <code>,</code></a> <em>(comma)</em></p>"
      ],
      "text/plain": [
       "<IPython.core.display.HTML object>"
      ]
     },
     "metadata": {},
     "output_type": "display_data"
    },
    {
     "data": {
      "text/html": [
       "<p><a href=\"https://stackoverflow.com/questions/10969342/parse-error-syntax-error-unexpected-expecting-or\">Unpexected <code>.</code></a> <em>(period)</em></p>"
      ],
      "text/plain": [
       "<IPython.core.display.HTML object>"
      ]
     },
     "metadata": {},
     "output_type": "display_data"
    },
    {
     "data": {
      "text/html": [
       "<p><a href=\"https://stackoverflow.com/questions/12961248/php-string-parse-error-with-necessary-semicolon-after-variable\">Unexpected <code>;</code></a> <em>(semicolon)</em></p>"
      ],
      "text/plain": [
       "<IPython.core.display.HTML object>"
      ]
     },
     "metadata": {},
     "output_type": "display_data"
    },
    {
     "data": {
      "text/html": [
       "<p><a href=\"https://stackoverflow.com/q/32905365/3933332\">Unexpected <code>*</code></a> <em>(asterisk)</em></p>"
      ],
      "text/plain": [
       "<IPython.core.display.HTML object>"
      ]
     },
     "metadata": {},
     "output_type": "display_data"
    },
    {
     "data": {
      "text/html": [
       "<p><a href=\"https://stackoverflow.com/questions/33178974/parse-error-unexpected-works-fine-in-localhost\">Unexpected <code>:</code></a> <em>(colon)</em></p>"
      ],
      "text/plain": [
       "<IPython.core.display.HTML object>"
      ]
     },
     "metadata": {},
     "output_type": "display_data"
    },
    {
     "data": {
      "text/html": [
       "<p><a href=\"https://stackoverflow.com/a/65539862\">Unexpected ':', expecting ',' or ')'</a></p>"
      ],
      "text/plain": [
       "<IPython.core.display.HTML object>"
      ]
     },
     "metadata": {},
     "output_type": "display_data"
    },
    {
     "data": {
      "text/html": [
       "<p><a href=\"https://stackoverflow.com/questions/4665782/php-warning-call-time-pass-by\">Unexpected <code>&amp;</code></a> (call-time pass-by-reference)</p>"
      ],
      "text/plain": [
       "<IPython.core.display.HTML object>"
      ]
     },
     "metadata": {},
     "output_type": "display_data"
    },
    {
     "data": {
      "text/html": [
       "<p><a href=\"https://stackoverflow.com/a/61407635/250259\">Unexpected <code>.</code></a></p>"
      ],
      "text/plain": [
       "<IPython.core.display.HTML object>"
      ]
     },
     "metadata": {},
     "output_type": "display_data"
    },
    {
     "data": {
      "text/html": [
       "<p>Closely related references:</p>"
      ],
      "text/plain": [
       "<IPython.core.display.HTML object>"
      ]
     },
     "metadata": {},
     "output_type": "display_data"
    },
    {
     "data": {
      "text/html": [
       "<p>And:</p>"
      ],
      "text/plain": [
       "<IPython.core.display.HTML object>"
      ]
     },
     "metadata": {},
     "output_type": "display_data"
    },
    {
     "data": {
      "text/html": [
       "<p>While Stack Overflow is also welcoming rookie coders, it's mostly targetted at professional programming questions.</p>"
      ],
      "text/plain": [
       "<IPython.core.display.HTML object>"
      ]
     },
     "metadata": {},
     "output_type": "display_data"
    },
    {
     "data": {
      "text/html": [
       "<p>If your <em>browser</em> displays error messages such as \"SyntaxError: illegal character\", then it's not actually <a class=\"post-tag\" href=\"/questions/tagged/php\" rel=\"tag\" title=\"show questions tagged 'php'\">php</a>-related, but a <a class=\"post-tag\" href=\"/questions/tagged/javascript\" rel=\"tag\" title=\"show questions tagged 'javascript'\">javascript</a>-<a href=\"https://stackoverflow.com/questions/2120093/how-to-find-javascript-syntax-errors\">syntax error</a>.</p>"
      ],
      "text/plain": [
       "<IPython.core.display.HTML object>"
      ]
     },
     "metadata": {},
     "output_type": "display_data"
    },
    {
     "data": {
      "text/html": [
       "<p><strong>Syntax errors raised on vendor code:</strong> Finally, consider that if the syntax error was not raised by editing your codebase, but after an external vendor package install or upgrade, it could be due to PHP version incompatibility, so check the vendor's requirements against your platform setup.</p>"
      ],
      "text/plain": [
       "<IPython.core.display.HTML object>"
      ]
     },
     "metadata": {},
     "output_type": "display_data"
    },
    {
     "data": {
      "text/html": [
       "<p>I have a bit of code where I am looping through all the select boxes on a page and binding a <code>.hover</code> event to them to do a bit of twiddling with their width on <code>mouse on/off</code>.</p>"
      ],
      "text/plain": [
       "<IPython.core.display.HTML object>"
      ]
     },
     "metadata": {},
     "output_type": "display_data"
    },
    {
     "data": {
      "text/html": [
       "<p>This happens on page ready and works just fine.</p>"
      ],
      "text/plain": [
       "<IPython.core.display.HTML object>"
      ]
     },
     "metadata": {},
     "output_type": "display_data"
    },
    {
     "data": {
      "text/html": [
       "<p>The problem I have is that any select boxes I add via Ajax or DOM after the initial loop won't have the event bound.</p>"
      ],
      "text/plain": [
       "<IPython.core.display.HTML object>"
      ]
     },
     "metadata": {},
     "output_type": "display_data"
    },
    {
     "data": {
      "text/html": [
       "<p>I have found this plugin (<a href=\"http://brandonaaron.net/docs/livequery/#getting-started\" rel=\"noreferrer\">jQuery Live Query Plugin</a>), but before I add another 5k to my pages with a plugin, I want to see if anyone knows a way to do this, either with jQuery directly or by another option.</p>"
      ],
      "text/plain": [
       "<IPython.core.display.HTML object>"
      ]
     },
     "metadata": {},
     "output_type": "display_data"
    },
    {
     "data": {
      "text/html": [
       "<p>In <a href=\"http://stackoverflow.com/questions/571945/getting-a-stack-overflow-exception-when-declaring-a-large-array\">this question</a>, someone suggested in a <a href=\"http://stackoverflow.com/questions/571945/getting-a-stack-overflow-exception-when-declaring-a-large-array#comment388297_571961\">comment</a> that I should <em><strong>not</strong></em> cast the result of <code>malloc</code>. i.e., I should do this:</p>"
      ],
      "text/plain": [
       "<IPython.core.display.HTML object>"
      ]
     },
     "metadata": {},
     "output_type": "display_data"
    },
    {
     "data": {
      "text/html": [
       "<p>rather than:</p>"
      ],
      "text/plain": [
       "<IPython.core.display.HTML object>"
      ]
     },
     "metadata": {},
     "output_type": "display_data"
    },
    {
     "data": {
      "text/html": [
       "<p>Why would this be the case?</p>"
      ],
      "text/plain": [
       "<IPython.core.display.HTML object>"
      ]
     },
     "metadata": {},
     "output_type": "display_data"
    },
    {
     "data": {
      "text/html": [
       "<p><div class=\"snippet\" data-babel=\"false\" data-console=\"true\" data-hide=\"false\" data-lang=\"js\">\n",
       "<div class=\"snippet-code\">\n",
       "<pre class=\"snippet-code-js lang-js prettyprint-override\"><code>var funcs = [];\n",
       "// let's create 3 functions\n",
       "for (var i = 0; i &lt; 3; i++) {\n",
       "  // and store them in funcs\n",
       "  funcs[i] = function() {\n",
       "    // each should log its value.\n",
       "    console.log(\"My value: \" + i);\n",
       "  };\n",
       "}\n",
       "for (var j = 0; j &lt; 3; j++) {\n",
       "  // and now let's run each one to see\n",
       "  funcs[j]();\n",
       "}</code></pre>\n",
       "</div>\n",
       "</div>\n",
       "</p>"
      ],
      "text/plain": [
       "<IPython.core.display.HTML object>"
      ]
     },
     "metadata": {},
     "output_type": "display_data"
    },
    {
     "data": {
      "text/html": [
       "<p>It outputs this:</p>"
      ],
      "text/plain": [
       "<IPython.core.display.HTML object>"
      ]
     },
     "metadata": {},
     "output_type": "display_data"
    },
    {
     "data": {
      "text/html": [
       "<p>My value: 3<br/>\n",
       "My value: 3<br/>\n",
       "My value: 3</p>"
      ],
      "text/plain": [
       "<IPython.core.display.HTML object>"
      ]
     },
     "metadata": {},
     "output_type": "display_data"
    },
    {
     "data": {
      "text/html": [
       "<p>Whereas I'd like it to output:</p>"
      ],
      "text/plain": [
       "<IPython.core.display.HTML object>"
      ]
     },
     "metadata": {},
     "output_type": "display_data"
    },
    {
     "data": {
      "text/html": [
       "<p>My value: 0<br/>\n",
       "My value: 1<br/>\n",
       "My value: 2</p>"
      ],
      "text/plain": [
       "<IPython.core.display.HTML object>"
      ]
     },
     "metadata": {},
     "output_type": "display_data"
    },
    {
     "data": {
      "text/html": [
       "<p>The same problem occurs when the delay in running the function is caused by using event listeners:</p>"
      ],
      "text/plain": [
       "<IPython.core.display.HTML object>"
      ]
     },
     "metadata": {},
     "output_type": "display_data"
    },
    {
     "data": {
      "text/html": [
       "<p><div class=\"snippet\" data-babel=\"false\" data-console=\"true\" data-hide=\"false\" data-lang=\"js\">\n",
       "<div class=\"snippet-code\">\n",
       "<pre class=\"snippet-code-js lang-js prettyprint-override\"><code>var buttons = document.getElementsByTagName(\"button\");\n",
       "// let's create 3 functions\n",
       "for (var i = 0; i &lt; buttons.length; i++) {\n",
       "  // as event listeners\n",
       "  buttons[i].addEventListener(\"click\", function() {\n",
       "    // each should log its value.\n",
       "    console.log(\"My value: \" + i);\n",
       "  });\n",
       "}</code></pre>\n",
       "<pre class=\"snippet-code-html lang-html prettyprint-override\"><code>&lt;button&gt;0&lt;/button&gt;\n",
       "&lt;br /&gt;\n",
       "&lt;button&gt;1&lt;/button&gt;\n",
       "&lt;br /&gt;\n",
       "&lt;button&gt;2&lt;/button&gt;</code></pre>\n",
       "</div>\n",
       "</div>\n",
       "</p>"
      ],
      "text/plain": [
       "<IPython.core.display.HTML object>"
      ]
     },
     "metadata": {},
     "output_type": "display_data"
    },
    {
     "data": {
      "text/html": [
       "<p>… or asynchronous code, e.g. using Promises:</p>"
      ],
      "text/plain": [
       "<IPython.core.display.HTML object>"
      ]
     },
     "metadata": {},
     "output_type": "display_data"
    },
    {
     "data": {
      "text/html": [
       "<p><div class=\"snippet\" data-babel=\"false\" data-console=\"true\" data-hide=\"false\" data-lang=\"js\">\n",
       "<div class=\"snippet-code\">\n",
       "<pre class=\"snippet-code-js lang-js prettyprint-override\"><code>// Some async wait function\n",
       "const wait = (ms) =&gt; new Promise((resolve, reject) =&gt; setTimeout(resolve, ms));\n",
       "\n",
       "for (var i = 0; i &lt; 3; i++) {\n",
       "  // Log `i` as soon as each promise resolves.\n",
       "  wait(i * 100).then(() =&gt; console.log(i));\n",
       "}</code></pre>\n",
       "</div>\n",
       "</div>\n",
       "</p>"
      ],
      "text/plain": [
       "<IPython.core.display.HTML object>"
      ]
     },
     "metadata": {},
     "output_type": "display_data"
    },
    {
     "data": {
      "text/html": [
       "<p>It is also apparent in <code>for in</code> and <code>for of</code> loops:</p>"
      ],
      "text/plain": [
       "<IPython.core.display.HTML object>"
      ]
     },
     "metadata": {},
     "output_type": "display_data"
    },
    {
     "data": {
      "text/html": [
       "<p><div class=\"snippet\" data-babel=\"false\" data-console=\"true\" data-hide=\"false\" data-lang=\"js\">\n",
       "<div class=\"snippet-code\">\n",
       "<pre class=\"snippet-code-js lang-js prettyprint-override\"><code>const arr = [1,2,3];\n",
       "const fns = [];\n",
       "\n",
       "for(var i in arr){\n",
       "  fns.push(() =&gt; console.log(`index: ${i}`));\n",
       "}\n",
       "\n",
       "for(var v of arr){\n",
       "  fns.push(() =&gt; console.log(`value: ${v}`));\n",
       "}\n",
       "\n",
       "for(var f of fns){\n",
       "  f();\n",
       "}</code></pre>\n",
       "</div>\n",
       "</div>\n",
       "</p>"
      ],
      "text/plain": [
       "<IPython.core.display.HTML object>"
      ]
     },
     "metadata": {},
     "output_type": "display_data"
    },
    {
     "data": {
      "text/html": [
       "<p>What’s the solution to this basic problem?</p>"
      ],
      "text/plain": [
       "<IPython.core.display.HTML object>"
      ]
     },
     "metadata": {},
     "output_type": "display_data"
    },
    {
     "data": {
      "text/html": [
       "<p>I have a constructor function which registers an event handler:</p>"
      ],
      "text/plain": [
       "<IPython.core.display.HTML object>"
      ]
     },
     "metadata": {},
     "output_type": "display_data"
    },
    {
     "data": {
      "text/html": [
       "<p><div class=\"snippet\" data-babel=\"false\" data-console=\"false\" data-hide=\"false\" data-lang=\"js\">\n",
       "<div class=\"snippet-code\">\n",
       "<pre class=\"snippet-code-js lang-js prettyprint-override\"><code>function MyConstructor(data, transport) {\n",
       "    this.data = data;\n",
       "    transport.on('data', function () {\n",
       "        alert(this.data);\n",
       "    });\n",
       "}\n",
       "\n",
       "// Mock transport object\n",
       "var transport = {\n",
       "    on: function(event, callback) {\n",
       "        setTimeout(callback, 1000);\n",
       "    }\n",
       "};\n",
       "\n",
       "// called as\n",
       "var obj = new MyConstructor('foo', transport);</code></pre>\n",
       "</div>\n",
       "</div>\n",
       "</p>"
      ],
      "text/plain": [
       "<IPython.core.display.HTML object>"
      ]
     },
     "metadata": {},
     "output_type": "display_data"
    },
    {
     "data": {
      "text/html": [
       "<p>However, I'm not able to access the <code>data</code> property of the created object inside the callback. It looks like <code>this</code> does not refer to the object that was created, but to another one.</p>"
      ],
      "text/plain": [
       "<IPython.core.display.HTML object>"
      ]
     },
     "metadata": {},
     "output_type": "display_data"
    },
    {
     "data": {
      "text/html": [
       "<p>I also tried to use an object method instead of an anonymous function:</p>"
      ],
      "text/plain": [
       "<IPython.core.display.HTML object>"
      ]
     },
     "metadata": {},
     "output_type": "display_data"
    },
    {
     "data": {
      "text/html": [
       "<p>but it exhibits the same problems.</p>"
      ],
      "text/plain": [
       "<IPython.core.display.HTML object>"
      ]
     },
     "metadata": {},
     "output_type": "display_data"
    },
    {
     "data": {
      "text/html": [
       "<p>How can I access the correct object?</p>"
      ],
      "text/plain": [
       "<IPython.core.display.HTML object>"
      ]
     },
     "metadata": {},
     "output_type": "display_data"
    },
    {
     "data": {
      "text/html": [
       "<p>I've heard much about the understandable abhorrence of using <code>.Select</code> in Excel VBA, but I am unsure of how to avoid using it. I am finding that my code would be more re-usable if I were able to use variables instead of <code>Select</code> functions. However, I am not sure how to refer to things (like the <code>ActiveCell</code>, etc.) if not using <code>Select</code>.</p>"
      ],
      "text/plain": [
       "<IPython.core.display.HTML object>"
      ]
     },
     "metadata": {},
     "output_type": "display_data"
    },
    {
     "data": {
      "text/html": [
       "<p>I have found <a href=\"http://msdn.microsoft.com/en-us/library/aa139976%28v=office.10%29.aspx\" rel=\"noreferrer\">this article on ranges</a> and <a href=\"http://www.businessprogrammer.com/201105/power-excel-vba-secret-avoid-using-select/\" rel=\"noreferrer\">this example on the benefits of not using select</a>, but I can't find anything on <em>how</em>.</p>"
      ],
      "text/plain": [
       "<IPython.core.display.HTML object>"
      ]
     },
     "metadata": {},
     "output_type": "display_data"
    },
    {
     "data": {
      "text/html": [
       "<p>This is a collection of common Q&amp;A. This is also a Community Wiki, so everyone is invited to participate in maintaining it.</p>"
      ],
      "text/plain": [
       "<IPython.core.display.HTML object>"
      ]
     },
     "metadata": {},
     "output_type": "display_data"
    },
    {
     "data": {
      "text/html": [
       "<p><a class=\"post-tag\" href=\"/questions/tagged/regex\" rel=\"tag\" title=\"show questions tagged 'regex'\">regex</a> is suffering from <em>give me ze code</em> type of questions and poor answers with no explanation. This reference is meant to provide links to quality Q&amp;A.</p>"
      ],
      "text/plain": [
       "<IPython.core.display.HTML object>"
      ]
     },
     "metadata": {},
     "output_type": "display_data"
    },
    {
     "data": {
      "text/html": [
       "<p>This reference is meant for the following languages: <a class=\"post-tag\" href=\"/questions/tagged/php\" rel=\"tag\" title=\"show questions tagged 'php'\">php</a>, <a class=\"post-tag\" href=\"/questions/tagged/perl\" rel=\"tag\" title=\"show questions tagged 'perl'\">perl</a>, <a class=\"post-tag\" href=\"/questions/tagged/javascript\" rel=\"tag\" title=\"show questions tagged 'javascript'\">javascript</a>, <a class=\"post-tag\" href=\"/questions/tagged/python\" rel=\"tag\" title=\"show questions tagged 'python'\">python</a>, <a class=\"post-tag\" href=\"/questions/tagged/ruby\" rel=\"tag\" title=\"show questions tagged 'ruby'\">ruby</a>, <a class=\"post-tag\" href=\"/questions/tagged/java\" rel=\"tag\" title=\"show questions tagged 'java'\">java</a>, <a class=\"post-tag\" href=\"/questions/tagged/.net\" rel=\"tag\" title=\"show questions tagged '.net'\">.net</a>.</p>"
      ],
      "text/plain": [
       "<IPython.core.display.HTML object>"
      ]
     },
     "metadata": {},
     "output_type": "display_data"
    },
    {
     "data": {
      "text/html": [
       "<p>This might be too broad, but these languages share the same syntax. For specific features there's the tag of the language behind it, example:</p>"
      ],
      "text/plain": [
       "<IPython.core.display.HTML object>"
      ]
     },
     "metadata": {},
     "output_type": "display_data"
    },
    {
     "data": {
      "text/html": [
       "<p>Given the following examples, why is <code>outerScopeVar</code> undefined in all cases?</p>"
      ],
      "text/plain": [
       "<IPython.core.display.HTML object>"
      ]
     },
     "metadata": {},
     "output_type": "display_data"
    },
    {
     "data": {
      "text/html": [
       "<p></p>"
      ],
      "text/plain": [
       "<IPython.core.display.HTML object>"
      ]
     },
     "metadata": {},
     "output_type": "display_data"
    },
    {
     "data": {
      "text/html": [
       "<p></p>"
      ],
      "text/plain": [
       "<IPython.core.display.HTML object>"
      ]
     },
     "metadata": {},
     "output_type": "display_data"
    },
    {
     "data": {
      "text/html": [
       "<p></p>"
      ],
      "text/plain": [
       "<IPython.core.display.HTML object>"
      ]
     },
     "metadata": {},
     "output_type": "display_data"
    },
    {
     "data": {
      "text/html": [
       "<p></p>"
      ],
      "text/plain": [
       "<IPython.core.display.HTML object>"
      ]
     },
     "metadata": {},
     "output_type": "display_data"
    },
    {
     "data": {
      "text/html": [
       "<p></p>"
      ],
      "text/plain": [
       "<IPython.core.display.HTML object>"
      ]
     },
     "metadata": {},
     "output_type": "display_data"
    },
    {
     "data": {
      "text/html": [
       "<p>Why does it output <code>undefined</code> in all of these examples? I don't want workarounds, I want to know <strong>why</strong> this is happening.</p>"
      ],
      "text/plain": [
       "<IPython.core.display.HTML object>"
      ]
     },
     "metadata": {},
     "output_type": "display_data"
    },
    {
     "data": {
      "text/html": [
       "<p><strong>Note:</strong> This is a canonical question for <em>JavaScript asynchronicity</em>. Feel free to improve this question and add more simplified examples which the community can identify with.</p>"
      ],
      "text/plain": [
       "<IPython.core.display.HTML object>"
      ]
     },
     "metadata": {},
     "output_type": "display_data"
    },
    {
     "data": {
      "text/html": [
       "<p>This is a number of answers about warnings, errors, and notices you might encounter while programming PHP and have no clue how to fix them. This is also a Community Wiki, so everyone is invited to participate adding to and maintaining this list.</p>"
      ],
      "text/plain": [
       "<IPython.core.display.HTML object>"
      ]
     },
     "metadata": {},
     "output_type": "display_data"
    },
    {
     "data": {
      "text/html": [
       "<p>Questions like <a href=\"https://stackoverflow.com/a/12770075\">\"Headers already sent\"</a> or <a href=\"https://stackoverflow.com/a/12769983\">\"Calling a member of a non-object\"</a> pop up frequently on Stack Overflow. The root cause of those questions is always the same. So the answers to those questions typically repeat them and then show the OP which line to change in their particular case. These answers do not add any value to the site because they only apply to the OP's particular code. Other users having the same error cannot easily read the solution out of it because they are too localized. That is sad because once you understood the root cause, fixing the error is trivial. Hence, this list tries to explain the solution in a general way to apply.</p>"
      ],
      "text/plain": [
       "<IPython.core.display.HTML object>"
      ]
     },
     "metadata": {},
     "output_type": "display_data"
    },
    {
     "data": {
      "text/html": [
       "<p>If your question has been marked as a duplicate of this one, please find your error message below and apply the fix to your code. The answers usually contain further links to investigate in case it shouldn't be clear from the general answer alone.</p>"
      ],
      "text/plain": [
       "<IPython.core.display.HTML object>"
      ]
     },
     "metadata": {},
     "output_type": "display_data"
    },
    {
     "data": {
      "text/html": [
       "<p>If you want to contribute, please add your \"favorite\" error message, warning or notice, one per answer, a short description what it means (even if it is only highlighting terms to their manual page), a possible solution or debugging approach and a listing of existing Q&amp;A that are of value. Also, feel free to improve any existing answers.</p>"
      ],
      "text/plain": [
       "<IPython.core.display.HTML object>"
      ]
     },
     "metadata": {},
     "output_type": "display_data"
    },
    {
     "data": {
      "text/html": [
       "<p>Also, see:</p>"
      ],
      "text/plain": [
       "<IPython.core.display.HTML object>"
      ]
     },
     "metadata": {},
     "output_type": "display_data"
    },
    {
     "data": {
      "text/html": [
       "<p>I've tried creating a simple mail form. The form itself is on my <code>index.html</code> page, but it submits to a separate \"thank you for your submission\" page, <code>thankyou.php</code>, where the above PHP code is embedded.\n",
       "The code submits perfectly, but never sends an email. How can I fix this?</p>"
      ],
      "text/plain": [
       "<IPython.core.display.HTML object>"
      ]
     },
     "metadata": {},
     "output_type": "display_data"
    },
    {
     "data": {
      "text/html": [
       "<p>I've been told by others that writing <code>using namespace std;</code> in code is wrong, and that I should use <code>std::cout</code> and <code>std::cin</code> directly instead.</p>"
      ],
      "text/plain": [
       "<IPython.core.display.HTML object>"
      ]
     },
     "metadata": {},
     "output_type": "display_data"
    },
    {
     "data": {
      "text/html": [
       "<p>Why is <code>using namespace std;</code> considered a bad practice? Is it inefficient or does it risk declaring ambiguous variables (variables that share the same name as a function in <code>std</code> namespace)? Does it impact performance?</p>"
      ],
      "text/plain": [
       "<IPython.core.display.HTML object>"
      ]
     },
     "metadata": {},
     "output_type": "display_data"
    },
    {
     "data": {
      "text/html": [
       "<p>When running my script, I am getting several errors like this:</p>"
      ],
      "text/plain": [
       "<IPython.core.display.HTML object>"
      ]
     },
     "metadata": {},
     "output_type": "display_data"
    },
    {
     "data": {
      "text/html": [
       "<p>Warning: Cannot modify header information - headers already sent by (<strong>output started at /some/file.php:12</strong>) in <strong>/some/file.php</strong> on <strong>line 23</strong></p>"
      ],
      "text/plain": [
       "<IPython.core.display.HTML object>"
      ]
     },
     "metadata": {},
     "output_type": "display_data"
    },
    {
     "data": {
      "text/html": [
       "<p>The lines mentioned in the error messages contain <a href=\"http://php.net/header\" rel=\"noreferrer\"><code>header()</code></a> and <a href=\"http://php.net/setcookie\" rel=\"noreferrer\"><code>setcookie()</code></a> calls.</p>"
      ],
      "text/plain": [
       "<IPython.core.display.HTML object>"
      ]
     },
     "metadata": {},
     "output_type": "display_data"
    },
    {
     "data": {
      "text/html": [
       "<p>What could be the reason for this? And how to fix it?</p>"
      ],
      "text/plain": [
       "<IPython.core.display.HTML object>"
      ]
     },
     "metadata": {},
     "output_type": "display_data"
    },
    {
     "data": {
      "text/html": [
       "<p>I always thought Java uses <strong>pass-by-reference</strong>.</p>"
      ],
      "text/plain": [
       "<IPython.core.display.HTML object>"
      ]
     },
     "metadata": {},
     "output_type": "display_data"
    },
    {
     "data": {
      "text/html": [
       "<p>However, I've seen <a href=\"http://javadude.com/articles/passbyvalue.htm\" rel=\"noreferrer\">a blog post</a> that claims that Java uses <strong>pass-by-value</strong>.</p>"
      ],
      "text/plain": [
       "<IPython.core.display.HTML object>"
      ]
     },
     "metadata": {},
     "output_type": "display_data"
    },
    {
     "data": {
      "text/html": [
       "<p>I don't think I understand the distinction they're making.</p>"
      ],
      "text/plain": [
       "<IPython.core.display.HTML object>"
      ]
     },
     "metadata": {},
     "output_type": "display_data"
    },
    {
     "data": {
      "text/html": [
       "<p>What is the explanation?</p>"
      ],
      "text/plain": [
       "<IPython.core.display.HTML object>"
      ]
     },
     "metadata": {},
     "output_type": "display_data"
    },
    {
     "data": {
      "text/html": [
       "<p>\n",
       "I'm setting up a new server and want to support UTF-8 fully in my web application. I have tried this in the past on existing servers and always seem to end up having to fall back to ISO-8859-1.</p>"
      ],
      "text/plain": [
       "<IPython.core.display.HTML object>"
      ]
     },
     "metadata": {},
     "output_type": "display_data"
    },
    {
     "data": {
      "text/html": [
       "<p>Where exactly do I need to set the encoding/charsets? I'm aware that I need to configure Apache, MySQL, and PHP to do this — is there some standard checklist I can follow, or perhaps troubleshoot where the mismatches occur?</p>"
      ],
      "text/plain": [
       "<IPython.core.display.HTML object>"
      ]
     },
     "metadata": {},
     "output_type": "display_data"
    },
    {
     "data": {
      "text/html": [
       "<p>This is for a new Linux server, running MySQL 5, PHP, 5 and Apache 2.</p>"
      ],
      "text/plain": [
       "<IPython.core.display.HTML object>"
      ]
     },
     "metadata": {},
     "output_type": "display_data"
    },
    {
     "data": {
      "text/html": [
       "<p>I am trying to learn the best way to write queries. I also understand the importance of being consistent. Until now, I have randomly used single quotes, double quotes, and backticks without any real thought.</p>"
      ],
      "text/plain": [
       "<IPython.core.display.HTML object>"
      ]
     },
     "metadata": {},
     "output_type": "display_data"
    },
    {
     "data": {
      "text/html": [
       "<p>Example:</p>"
      ],
      "text/plain": [
       "<IPython.core.display.HTML object>"
      ]
     },
     "metadata": {},
     "output_type": "display_data"
    },
    {
     "data": {
      "text/html": [
       "<p>Also, in the above example, consider that <code>table</code>, <code>col1</code>, <code>val1</code>, etc. may be variables.</p>"
      ],
      "text/plain": [
       "<IPython.core.display.HTML object>"
      ]
     },
     "metadata": {},
     "output_type": "display_data"
    },
    {
     "data": {
      "text/html": [
       "<p>What is the standard for this? What do you do?</p>"
      ],
      "text/plain": [
       "<IPython.core.display.HTML object>"
      ]
     },
     "metadata": {},
     "output_type": "display_data"
    },
    {
     "data": {
      "text/html": [
       "<p><sub>I've been reading answers to similar questions on here for about 20 minutes, but it seems like there is no definitive answer to this question.</sub></p>"
      ],
      "text/plain": [
       "<IPython.core.display.HTML object>"
      ]
     },
     "metadata": {},
     "output_type": "display_data"
    },
    {
     "data": {
      "text/html": [
       "<p>Having spent a decent amount of time watching both the <a class=\"post-tag\" href=\"/questions/tagged/r\" rel=\"tag\" title=\"show questions tagged 'r'\">r</a> and <a class=\"post-tag\" href=\"/questions/tagged/pandas\" rel=\"tag\" title=\"show questions tagged 'pandas'\">pandas</a> tags on SO, the impression that I get is that <code>pandas</code> questions are less likely to contain reproducible data. This is something that the R community has been pretty good about encouraging, and thanks to guides like <a href=\"https://stackoverflow.com/questions/5963269/how-to-make-a-great-r-reproducible-example\">this</a>, newcomers are able to get some help on putting together these examples. People who are able to read these guides and come back with reproducible data will often have much better luck getting answers to their questions.</p>"
      ],
      "text/plain": [
       "<IPython.core.display.HTML object>"
      ]
     },
     "metadata": {},
     "output_type": "display_data"
    },
    {
     "data": {
      "text/html": [
       "<p>How can we create good reproducible examples for <code>pandas</code> questions? Simple dataframes can be put together, e.g.:</p>"
      ],
      "text/plain": [
       "<IPython.core.display.HTML object>"
      ]
     },
     "metadata": {},
     "output_type": "display_data"
    },
    {
     "data": {
      "text/html": [
       "<p>But many example datasets need more complicated structure, e.g.:</p>"
      ],
      "text/plain": [
       "<IPython.core.display.HTML object>"
      ]
     },
     "metadata": {},
     "output_type": "display_data"
    },
    {
     "data": {
      "text/html": [
       "<p>For datasets that are hard to mock up using a few lines of code, is there an equivalent to R's <code>dput()</code> that allows you to generate copy-pasteable code to regenerate your datastructure?</p>"
      ],
      "text/plain": [
       "<IPython.core.display.HTML object>"
      ]
     },
     "metadata": {},
     "output_type": "display_data"
    },
    {
     "data": {
      "text/html": [
       "<p>Quote from <a href=\"http://books.google.com/books?id=n9VEG2Gp5pkC&amp;pg=PA10&amp;lpg=PA10&amp;dq=%22The%20only%20portable%20way%20of%20using%20templates%20at%20the%20moment%20is%20to%20implement%20them%20in%20header%20files%20by%20using%20inline%20functions.%22&amp;source=bl&amp;ots=Ref8pl8dPX&amp;sig=t4K5gvxtBblpcujNxodpwMfei8I&amp;hl=en&amp;ei=qkR6TvbiGojE0AHq4IzqAg&amp;sa=X&amp;oi=book_result&amp;ct=result&amp;resnum=3&amp;ved=0CC8Q6AEwAg#v=onepage&amp;q=%22The%20only%20portable%20way%20of%20using%20templates%20at%20the%20moment%20is%20to%20implement%20them%20in%20header%20files%20by%20using%20inline%20functions.%22&amp;f=false\" rel=\"noreferrer\">The C++ standard library: a tutorial and handbook</a>:</p>"
      ],
      "text/plain": [
       "<IPython.core.display.HTML object>"
      ]
     },
     "metadata": {},
     "output_type": "display_data"
    },
    {
     "data": {
      "text/html": [
       "<p>The only portable way of using templates at the moment is to implement them in header files by using inline functions.</p>"
      ],
      "text/plain": [
       "<IPython.core.display.HTML object>"
      ]
     },
     "metadata": {},
     "output_type": "display_data"
    },
    {
     "data": {
      "text/html": [
       "<p>Why is this?</p>"
      ],
      "text/plain": [
       "<IPython.core.display.HTML object>"
      ]
     },
     "metadata": {},
     "output_type": "display_data"
    },
    {
     "data": {
      "text/html": [
       "<p>(Clarification: header files are not the <em>only</em> portable solution. But they are the most convenient portable solution.)</p>"
      ],
      "text/plain": [
       "<IPython.core.display.HTML object>"
      ]
     },
     "metadata": {},
     "output_type": "display_data"
    },
    {
     "data": {
      "text/html": [
       "<p>How can one parse HTML/XML and extract information from it?</p>"
      ],
      "text/plain": [
       "<IPython.core.display.HTML object>"
      ]
     },
     "metadata": {},
     "output_type": "display_data"
    },
    {
     "data": {
      "text/html": [
       "<p>I'm asking this question because I'm new to Java and Android and I searched for hours trying to figure this out. The answer came from a combination of related answers, so I figured I would document what I learned for anyone else who may be struggling. See answer.</p>"
      ],
      "text/plain": [
       "<IPython.core.display.HTML object>"
      ]
     },
     "metadata": {},
     "output_type": "display_data"
    },
    {
     "data": {
      "text/html": [
       "<p>I'm using Android Studio 2.1.2 and my Java setup is the following:</p>"
      ],
      "text/plain": [
       "<IPython.core.display.HTML object>"
      ]
     },
     "metadata": {},
     "output_type": "display_data"
    },
    {
     "data": {
      "text/html": [
       "<p>What are the possible reasons for <code>document.getElementById</code>, <code>$(\"#id\")</code> or any other DOM method / jQuery selector not finding the elements?</p>"
      ],
      "text/plain": [
       "<IPython.core.display.HTML object>"
      ]
     },
     "metadata": {},
     "output_type": "display_data"
    },
    {
     "data": {
      "text/html": [
       "<p>Example problems include:</p>"
      ],
      "text/plain": [
       "<IPython.core.display.HTML object>"
      ]
     },
     "metadata": {},
     "output_type": "display_data"
    },
    {
     "data": {
      "text/html": [
       "<p>Uncaught TypeError: Cannot set property '...' of null<br/>\n",
       "Uncaught TypeError: Cannot set properties of null (setting '...')<br/>\n",
       "Uncaught TypeError: Cannot read property '...' of null<br/>\n",
       "Uncaught TypeError: Cannot read properties of null (reading '...')</p>"
      ],
      "text/plain": [
       "<IPython.core.display.HTML object>"
      ]
     },
     "metadata": {},
     "output_type": "display_data"
    },
    {
     "data": {
      "text/html": [
       "<p>The most common forms are:</p>"
      ],
      "text/plain": [
       "<IPython.core.display.HTML object>"
      ]
     },
     "metadata": {},
     "output_type": "display_data"
    },
    {
     "data": {
      "text/html": [
       "<p>Uncaught TypeError: Cannot set property 'onclick' of null<br/>\n",
       "Uncaught TypeError: Cannot read property 'addEventListener' of null<br/>\n",
       "Uncaught TypeError: Cannot read property 'style' of null</p>"
      ],
      "text/plain": [
       "<IPython.core.display.HTML object>"
      ]
     },
     "metadata": {},
     "output_type": "display_data"
    },
    {
     "data": {
      "text/html": [
       "<p>I have a nested data structure containing objects and arrays. How can I extract the information, i.e. access a specific or multiple values (or keys)?</p>"
      ],
      "text/plain": [
       "<IPython.core.display.HTML object>"
      ]
     },
     "metadata": {},
     "output_type": "display_data"
    },
    {
     "data": {
      "text/html": [
       "<p>For example:</p>"
      ],
      "text/plain": [
       "<IPython.core.display.HTML object>"
      ]
     },
     "metadata": {},
     "output_type": "display_data"
    },
    {
     "data": {
      "text/html": [
       "<p>How could I access the <code>name</code> of the second item in <code>items</code>?</p>"
      ],
      "text/plain": [
       "<IPython.core.display.HTML object>"
      ]
     },
     "metadata": {},
     "output_type": "display_data"
    },
    {
     "data": {
      "text/html": [
       "<p>I just found a comment in <a href=\"https://stackoverflow.com/questions/5578631/c-how-do-you-stop-reading-integer-from-text-file-when-encounter-negative-intege/5578649#5578649\">this</a> answer saying that using <code>iostream::eof</code> in a loop condition is \"almost certainly wrong\". I generally use something like <code>while(cin&gt;&gt;n)</code> - which I guess implicitly checks for EOF.</p>"
      ],
      "text/plain": [
       "<IPython.core.display.HTML object>"
      ]
     },
     "metadata": {},
     "output_type": "display_data"
    },
    {
     "data": {
      "text/html": [
       "<p>Why is checking for eof explicitly using <code>while (!cin.eof())</code> wrong?  </p>"
      ],
      "text/plain": [
       "<IPython.core.display.HTML object>"
      ]
     },
     "metadata": {},
     "output_type": "display_data"
    },
    {
     "data": {
      "text/html": [
       "<p>How is it different from using <code>scanf(\"...\",...)!=EOF</code> in C (which I often use with no problems)?</p>"
      ],
      "text/plain": [
       "<IPython.core.display.HTML object>"
      ]
     },
     "metadata": {},
     "output_type": "display_data"
    },
    {
     "data": {
      "text/html": [
       "<p>In my local/development environment, the MySQLi query is performing OK. However, when I upload it on my web host environment, I get this error:</p>"
      ],
      "text/plain": [
       "<IPython.core.display.HTML object>"
      ]
     },
     "metadata": {},
     "output_type": "display_data"
    },
    {
     "data": {
      "text/html": [
       "<p>Fatal error: Call to a member function bind_param() on a non-object in...</p>"
      ],
      "text/plain": [
       "<IPython.core.display.HTML object>"
      ]
     },
     "metadata": {},
     "output_type": "display_data"
    },
    {
     "data": {
      "text/html": [
       "<p>Here is the code:</p>"
      ],
      "text/plain": [
       "<IPython.core.display.HTML object>"
      ]
     },
     "metadata": {},
     "output_type": "display_data"
    },
    {
     "data": {
      "text/html": [
       "<p>To check my query, I tried to execute the query via control panel phpMyAdmin and the result is OK.</p>"
      ],
      "text/plain": [
       "<IPython.core.display.HTML object>"
      ]
     },
     "metadata": {},
     "output_type": "display_data"
    },
    {
     "data": {
      "text/html": [
       "<p>Is there an SQL injection possibility even when using <code>mysql_real_escape_string()</code> function?</p>"
      ],
      "text/plain": [
       "<IPython.core.display.HTML object>"
      ]
     },
     "metadata": {},
     "output_type": "display_data"
    },
    {
     "data": {
      "text/html": [
       "<p>Consider this sample situation. SQL is constructed in PHP like this:</p>"
      ],
      "text/plain": [
       "<IPython.core.display.HTML object>"
      ]
     },
     "metadata": {},
     "output_type": "display_data"
    },
    {
     "data": {
      "text/html": [
       "<p>I have heard numerous people say to me that code like that is still dangerous and possible to hack even with <code>mysql_real_escape_string()</code> function used. But I cannot think of any possible exploit?</p>"
      ],
      "text/plain": [
       "<IPython.core.display.HTML object>"
      ]
     },
     "metadata": {},
     "output_type": "display_data"
    },
    {
     "data": {
      "text/html": [
       "<p>Classic injections like this:</p>"
      ],
      "text/plain": [
       "<IPython.core.display.HTML object>"
      ]
     },
     "metadata": {},
     "output_type": "display_data"
    },
    {
     "data": {
      "text/html": [
       "<p>do not work.</p>"
      ],
      "text/plain": [
       "<IPython.core.display.HTML object>"
      ]
     },
     "metadata": {},
     "output_type": "display_data"
    },
    {
     "data": {
      "text/html": [
       "<p>Do you know of any possible injection that would get through the PHP code above?</p>"
      ],
      "text/plain": [
       "<IPython.core.display.HTML object>"
      ]
     },
     "metadata": {},
     "output_type": "display_data"
    },
    {
     "data": {
      "text/html": [
       "<p>I'm trying to make a function that will compare multiple variables to an integer and output a string of three letters. I was wondering if there was a way to translate this into Python. So say:</p>"
      ],
      "text/plain": [
       "<IPython.core.display.HTML object>"
      ]
     },
     "metadata": {},
     "output_type": "display_data"
    },
    {
     "data": {
      "text/html": [
       "<p>which would return a list of:</p>"
      ],
      "text/plain": [
       "<IPython.core.display.HTML object>"
      ]
     },
     "metadata": {},
     "output_type": "display_data"
    },
    {
     "data": {
      "text/html": [
       "<p>Is something like this possible?</p>"
      ],
      "text/plain": [
       "<IPython.core.display.HTML object>"
      ]
     },
     "metadata": {},
     "output_type": "display_data"
    },
    {
     "data": {
      "text/html": [
       "<p>What does <code>ArrayIndexOutOfBoundsException</code> mean and how do I get rid of it? </p>"
      ],
      "text/plain": [
       "<IPython.core.display.HTML object>"
      ]
     },
     "metadata": {},
     "output_type": "display_data"
    },
    {
     "data": {
      "text/html": [
       "<p>Here is a code sample that triggers the exception:</p>"
      ],
      "text/plain": [
       "<IPython.core.display.HTML object>"
      ]
     },
     "metadata": {},
     "output_type": "display_data"
    },
    {
     "data": {
      "text/html": [
       "<p>I am using the <code>Scanner</code> methods <code>nextInt()</code> and <code>nextLine()</code> for reading input. </p>"
      ],
      "text/plain": [
       "<IPython.core.display.HTML object>"
      ]
     },
     "metadata": {},
     "output_type": "display_data"
    },
    {
     "data": {
      "text/html": [
       "<p>It looks like this:</p>"
      ],
      "text/plain": [
       "<IPython.core.display.HTML object>"
      ]
     },
     "metadata": {},
     "output_type": "display_data"
    },
    {
     "data": {
      "text/html": [
       "<p>The problem is that after entering the numerical value, the first <code>input.nextLine()</code> is skipped and the second <code>input.nextLine()</code> is executed, so that my output looks like this:</p>"
      ],
      "text/plain": [
       "<IPython.core.display.HTML object>"
      ]
     },
     "metadata": {},
     "output_type": "display_data"
    },
    {
     "data": {
      "text/html": [
       "<p>I tested my application and it looks like the problem lies in using <code>input.nextInt()</code>. If I delete it, then both <code>string1 = input.nextLine()</code> and <code>string2 = input.nextLine()</code> are executed as I want them to be.</p>"
      ],
      "text/plain": [
       "<IPython.core.display.HTML object>"
      ]
     },
     "metadata": {},
     "output_type": "display_data"
    },
    {
     "data": {
      "text/html": [
       "<p>I have this code:</p>"
      ],
      "text/plain": [
       "<IPython.core.display.HTML object>"
      ]
     },
     "metadata": {},
     "output_type": "display_data"
    },
    {
     "data": {
      "text/html": [
       "<p>Why does this not write \"bar\" into my text file, but alerts \"42\"?</p>"
      ],
      "text/plain": [
       "<IPython.core.display.HTML object>"
      ]
     },
     "metadata": {},
     "output_type": "display_data"
    },
    {
     "data": {
      "text/html": [
       "<p>NB: Earlier revisions of this question were explicitly about PHP on the server and JavaScript on the client. The essential nature of the problem and solutions is the same for <em>any</em> pair of languages when one is running on the client and the other on the server (even if they are the same language). Please take this in to account when you see answers talking about specific languages.</p>"
      ],
      "text/plain": [
       "<IPython.core.display.HTML object>"
      ]
     },
     "metadata": {},
     "output_type": "display_data"
    },
    {
     "data": {
      "text/html": [
       "<p>What is wrong with using <code>feof()</code> to control a read loop?  For example:</p>"
      ],
      "text/plain": [
       "<IPython.core.display.HTML object>"
      ]
     },
     "metadata": {},
     "output_type": "display_data"
    },
    {
     "data": {
      "text/html": [
       "<p>What is wrong with this loop?</p>"
      ],
      "text/plain": [
       "<IPython.core.display.HTML object>"
      ]
     },
     "metadata": {},
     "output_type": "display_data"
    },
    {
     "data": {
      "text/html": [
       "<p>I have noticed that there doesn't appear to be a clear explanation of what the <code>this</code> keyword is and how it is correctly (and incorrectly) used in JavaScript on the Stack Overflow site.</p>"
      ],
      "text/plain": [
       "<IPython.core.display.HTML object>"
      ]
     },
     "metadata": {},
     "output_type": "display_data"
    },
    {
     "data": {
      "text/html": [
       "<p>I have witnessed some very strange behaviour with it and have failed to understand why it has occurred.</p>"
      ],
      "text/plain": [
       "<IPython.core.display.HTML object>"
      ]
     },
     "metadata": {},
     "output_type": "display_data"
    },
    {
     "data": {
      "text/html": [
       "<p>How does <code>this</code> work and when should it be used?</p>"
      ],
      "text/plain": [
       "<IPython.core.display.HTML object>"
      ]
     },
     "metadata": {},
     "output_type": "display_data"
    },
    {
     "data": {
      "text/html": [
       "<p>I am writing a program that accepts an input from the user.</p>"
      ],
      "text/plain": [
       "<IPython.core.display.HTML object>"
      ]
     },
     "metadata": {},
     "output_type": "display_data"
    },
    {
     "data": {
      "text/html": [
       "<p>The program works as expected as long as the the user enters meaningful data. </p>"
      ],
      "text/plain": [
       "<IPython.core.display.HTML object>"
      ]
     },
     "metadata": {},
     "output_type": "display_data"
    },
    {
     "data": {
      "text/html": [
       "<p>But it fails if the user enters invalid data:</p>"
      ],
      "text/plain": [
       "<IPython.core.display.HTML object>"
      ]
     },
     "metadata": {},
     "output_type": "display_data"
    },
    {
     "data": {
      "text/html": [
       "<p>Instead of crashing, I would like the program to ask for the input again. Like this:</p>"
      ],
      "text/plain": [
       "<IPython.core.display.HTML object>"
      ]
     },
     "metadata": {},
     "output_type": "display_data"
    },
    {
     "data": {
      "text/html": [
       "<p>How can I make the program ask for valid inputs instead of crashing when non-sensical data is entered?</p>"
      ],
      "text/plain": [
       "<IPython.core.display.HTML object>"
      ]
     },
     "metadata": {},
     "output_type": "display_data"
    },
    {
     "data": {
      "text/html": [
       "<p>How can I reject values like <code>-1</code>, which is a valid <code>int</code>, but nonsensical in this context?</p>"
      ],
      "text/plain": [
       "<IPython.core.display.HTML object>"
      ]
     },
     "metadata": {},
     "output_type": "display_data"
    },
    {
     "data": {
      "text/html": [
       "<p>How do I accomplish variable variables in Python?</p>"
      ],
      "text/plain": [
       "<IPython.core.display.HTML object>"
      ]
     },
     "metadata": {},
     "output_type": "display_data"
    },
    {
     "data": {
      "text/html": [
       "<p>Here is an elaborative manual entry, for instance: <em><a href=\"http://us3.php.net/manual/en/language.variables.variable.php\" rel=\"noreferrer\">Variable variables</a></em></p>"
      ],
      "text/plain": [
       "<IPython.core.display.HTML object>"
      ]
     },
     "metadata": {},
     "output_type": "display_data"
    },
    {
     "data": {
      "text/html": [
       "<p>I hear this is a bad idea in general though, and it is a security hole in PHP. Is that true?</p>"
      ],
      "text/plain": [
       "<IPython.core.display.HTML object>"
      ]
     },
     "metadata": {},
     "output_type": "display_data"
    },
    {
     "data": {
      "text/html": [
       "<p>In the <a href=\"https://w3c.github.io/webdriver/webdriver-spec.html#locator-strategies\" rel=\"noreferrer\">official W3c webdirver documentation</a>, it's clearly stated that the location strategies are:</p>"
      ],
      "text/plain": [
       "<IPython.core.display.HTML object>"
      ]
     },
     "metadata": {},
     "output_type": "display_data"
    },
    {
     "data": {
      "text/html": [
       "<p>However, <a href=\"https://github.com/SeleniumHQ/selenium/wiki/JsonWireProtocol\" rel=\"noreferrer\">Selenium's wire protocol</a> allowed:</p>"
      ],
      "text/plain": [
       "<IPython.core.display.HTML object>"
      ]
     },
     "metadata": {},
     "output_type": "display_data"
    },
    {
     "data": {
      "text/html": [
       "<p>In THEORY, Selenium's docs are obsolete and the \"real\" story is in the new spec document. However... </p>"
      ],
      "text/plain": [
       "<IPython.core.display.HTML object>"
      ]
     },
     "metadata": {},
     "output_type": "display_data"
    },
    {
     "data": {
      "text/html": [
       "<p>I ran some tests on the latest Chrome's own Webdriver, and I can confirm that <code>name</code> and <code>class name</code> both work; however, they are not in the specs.</p>"
      ],
      "text/plain": [
       "<IPython.core.display.HTML object>"
      ]
     },
     "metadata": {},
     "output_type": "display_data"
    },
    {
     "data": {
      "text/html": [
       "<p>I remember reading on a Chromium issue that they would only ever implement the official Webdriver specs.</p>"
      ],
      "text/plain": [
       "<IPython.core.display.HTML object>"
      ]
     },
     "metadata": {},
     "output_type": "display_data"
    },
    {
     "data": {
      "text/html": [
       "<p>Now: I <em>know</em> the generic answer, where \"specs are not always followed 100%\" etc. However, what I'd like to know is:</p>"
      ],
      "text/plain": [
       "<IPython.core.display.HTML object>"
      ]
     },
     "metadata": {},
     "output_type": "display_data"
    },
    {
     "data": {
      "text/html": [
       "<p>I need a good explanation (references are a plus) on Python's slice notation. </p>"
      ],
      "text/plain": [
       "<IPython.core.display.HTML object>"
      ]
     },
     "metadata": {},
     "output_type": "display_data"
    },
    {
     "data": {
      "text/html": [
       "<p>To me, this notation needs a bit of picking up. </p>"
      ],
      "text/plain": [
       "<IPython.core.display.HTML object>"
      ]
     },
     "metadata": {},
     "output_type": "display_data"
    },
    {
     "data": {
      "text/html": [
       "<p>It looks extremely powerful, but I haven't quite got my head around it.</p>"
      ],
      "text/plain": [
       "<IPython.core.display.HTML object>"
      ]
     },
     "metadata": {},
     "output_type": "display_data"
    },
    {
     "data": {
      "text/html": [
       "<p>I am developing an application, and everytime I run it, I get the message:</p>"
      ],
      "text/plain": [
       "<IPython.core.display.HTML object>"
      ]
     },
     "metadata": {},
     "output_type": "display_data"
    },
    {
     "data": {
      "text/html": [
       "<p>Unfortunately, MyApp has stopped.</p>"
      ],
      "text/plain": [
       "<IPython.core.display.HTML object>"
      ]
     },
     "metadata": {},
     "output_type": "display_data"
    },
    {
     "data": {
      "text/html": [
       "<p>What can I do to solve this?</p>"
      ],
      "text/plain": [
       "<IPython.core.display.HTML object>"
      ]
     },
     "metadata": {},
     "output_type": "display_data"
    },
    {
     "data": {
      "text/html": [
       "<p><em>About this question - obviously inspired by <a href=\"https://stackoverflow.com/questions/3988788/what-is-a-stack-trace-and-how-can-i-use-it-to-debug-my-application-errors\">What is a stack trace, and how can I use it to debug my application errors?</a>, there are lots of questions stating that their application has crashed, without any further detail. This question aims to instruct novice Android programmers on how to try and fix their problems themselves, or ask the right questions.</em></p>"
      ],
      "text/plain": [
       "<IPython.core.display.HTML object>"
      ]
     },
     "metadata": {},
     "output_type": "display_data"
    },
    {
     "data": {
      "text/html": [
       "<p>How would you explain JavaScript closures to someone with a knowledge of the concepts they consist of (for example functions, variables and the like), but does not understand closures themselves?</p>"
      ],
      "text/plain": [
       "<IPython.core.display.HTML object>"
      ]
     },
     "metadata": {},
     "output_type": "display_data"
    },
    {
     "data": {
      "text/html": [
       "<p>I have seen <a href=\"http://en.wikipedia.org/wiki/Scheme_%28programming_language%29\" rel=\"noreferrer\">the Scheme example</a> given on Wikipedia, but unfortunately it did not help.</p>"
      ],
      "text/plain": [
       "<IPython.core.display.HTML object>"
      ]
     },
     "metadata": {},
     "output_type": "display_data"
    },
    {
     "data": {
      "text/html": [
       "<p>I needed to create a list of lists in Python, so I typed the following:</p>"
      ],
      "text/plain": [
       "<IPython.core.display.HTML object>"
      ]
     },
     "metadata": {},
     "output_type": "display_data"
    },
    {
     "data": {
      "text/html": [
       "<p>The list looked like this:</p>"
      ],
      "text/plain": [
       "<IPython.core.display.HTML object>"
      ]
     },
     "metadata": {},
     "output_type": "display_data"
    },
    {
     "data": {
      "text/html": [
       "<p>Then I changed one of the innermost values:</p>"
      ],
      "text/plain": [
       "<IPython.core.display.HTML object>"
      ]
     },
     "metadata": {},
     "output_type": "display_data"
    },
    {
     "data": {
      "text/html": [
       "<p>Now my list looks like this:</p>"
      ],
      "text/plain": [
       "<IPython.core.display.HTML object>"
      ]
     },
     "metadata": {},
     "output_type": "display_data"
    },
    {
     "data": {
      "text/html": [
       "<p>which is not what I wanted or expected. Can someone please explain what's going on, and how to get around it?</p>"
      ],
      "text/plain": [
       "<IPython.core.display.HTML object>"
      ]
     },
     "metadata": {},
     "output_type": "display_data"
    }
   ],
   "source": [
    "# run this block to get saved data/scrape data\n",
    "STACK_OVERFLOW_ARTICLES_ADDRESS = Path(\"stack_overflow_articles.pickle\")\n",
    "if STACK_OVERFLOW_ARTICLES_ADDRESS.is_file():\n",
    "    with open(STACK_OVERFLOW_ARTICLES_ADDRESS, \"rb\") as f:\n",
    "        stack_overflow_articles = pickle.load(f)\n",
    "\n",
    "else:\n",
    "    stack_overflow_articles = get_stack_overflow_articles()\n",
    "    STACK_OVERFLOW_ARTICLES_ADDRESS.touch(exist_ok=True)\n",
    "    with open(STACK_OVERFLOW_ARTICLES_ADDRESS, \"wb\") as f:\n",
    "        pickle.dump(stack_overflow_articles, f)"
   ]
  },
  {
   "cell_type": "code",
   "execution_count": 86,
   "id": "219970ed",
   "metadata": {},
   "outputs": [
    {
     "data": {
      "text/plain": [
       "['When discussing performance with colleagues, teaching, sending a bug report or searching for guidance on mailing lists and here on Stack\\xa0Overflow, a reproducible example is often asked and always helpful. What are your tips for creating an excellent example? How do you paste data structures from r in a text format? What other information should you include? Are there other tricks in addition to using dput(), dump() or structure()?  When should you include library() or require() statements?  Which reserved words should one avoid, in addition to c, df, data, etc.? How does one make a great r reproducible example?',\n",
       " 'What are Null Pointer Exceptions (java.lang.NullPointerException) and what causes them? What methods/tools can be used to determine the cause so that you stop the exception from causing the program to terminate prematurely?',\n",
       " \"I have a function foo which makes an asynchronous request. How can I return the response/result from foo? I am trying to return the value from the callback, as well as assigning the result to a local variable inside the function and returning that one, but none of those ways actually return the response (they all return undefined or whatever the initial value of the variable result is). Example using jQuery's ajax function: Example using Node.js: Example using the then block of a promise:\",\n",
       " \"If user input is inserted without modification into an SQL query, then the application becomes vulnerable to SQL injection, like in the following example: That's because the user can input something like value'); DROP TABLE table;--, and the query becomes: What can be done to prevent this from happening?\",\n",
       " \"I need to match all of these opening tags: But not these: I came up with this and wanted to make sure I've got it right. I am only capturing the a-z. I believe it says: Do I have that right? And more importantly, what do you think?\",\n",
       " 'I have some code and when it executes, it throws a NullReferenceException, saying: Object reference not set to an instance of an object. What does this mean, and what can I do to fix this error?',\n",
       " 'Consider the following code:\\n Why do these inaccuracies happen?',\n",
       " \"I've been using the == operator in my program to compare all my strings so far.\\nHowever, I ran into a bug, changed one of them into .equals() instead, and it fixed the bug. Is == bad? When should it and should it not be used? What's the difference?\",\n",
       " 'This question attempts to collect the few pearls among the dozens of bad C++ books that are published every year. Unlike many other programming languages, which are often picked up on the go from tutorials found on the Internet, few are able to quickly pick up C++ without studying a well-written C++ book. It is way too big and complex for doing this. In fact, it is so big and complex, that there are very many very bad C++ books out there. And we are not talking about bad style, but things like sporting glaringly obvious factual errors and promoting abysmally bad programming styles. Please edit the accepted answer to provide quality books and an approximate skill level — preferably after discussing your addition in the C++ chat room. (The regulars might mercilessly undo your work if they disagree with a recommendation.) Add a short blurb/description about each book that you have personally read/benefited from. Feel free to debate quality, headings, etc. Books that meet the criteria will be added to the list.  Books that have reviews by the Association of C and C++ Users (ACCU) have links to the review. *Note: FAQs and other resources can be found in the C++ tag info and under c++-faq. ',\n",
       " \"I'm running a PHP script and continue to receive errors like: Notice: Undefined variable: my_variable_name in C:\\\\wamp\\\\www\\\\mypath\\\\index.php on line 10 Notice: Undefined index: my_index C:\\\\wamp\\\\www\\\\mypath\\\\index.php on line 11 Line 10 and 11 looks like this: What is the meaning of these error messages? Why do they appear all of a sudden? I used to use this script for years and I've never had any problem. How do I fix them? This is a General Reference question for people to link to as duplicate, instead of having to explain the issue over and over again. I feel this is necessary because most real-world answers on this issue are very specific.  Related Meta discussion:\",\n",
       " 'What are undefined reference/unresolved external symbol errors? What are common causes and how to fix/prevent them?',\n",
       " \"What are the technical reasons for why one shouldn't use mysql_* functions? (e.g. mysql_query(), mysql_connect() or mysql_real_escape_string())? Why should I use something else even if they work on my site? If they don't work on my site, why do I get errors like  Warning: mysql_connect(): No such file or directory\",\n",
       " 'Everyone runs into syntax errors. Even experienced programmers make typos. For newcomers, it\\'s just part of the learning process. However, it\\'s often easy to interpret error messages such as: PHP Parse error: syntax error, unexpected \\'{\\' in index.php on line 20 The unexpected symbol isn\\'t always the real culprit. But the line number gives a rough idea of where to start looking. Always look at the code context. The syntax mistake often hides in the mentioned or in previous code lines. Compare your code against syntax examples from the manual. While not every case matches the other. Yet there are some general steps to solve syntax mistakes.\\nThis references summarized the common pitfalls: Unexpected T_STRING Unexpected T_VARIABLE  Unexpected \\'$varname\\' (T_VARIABLE) Unexpected T_CONSTANT_ENCAPSED_STRING  Unexpected T_ENCAPSED_AND_WHITESPACE Unexpected $end Unexpected T_FUNCTION… Unexpected {Unexpected }Unexpected (Unexpected ) Unexpected [Unexpected ] Unexpected T_IF  Unexpected T_FOREACH  Unexpected T_FOR  Unexpected T_WHILE  Unexpected T_DO  Unexpected T_PRINT  Unexpected T_ECHO Unexpected T_LNUMBER Unexpected ? Unexpected continue (T_CONTINUE)Unexpected continue (T_BREAK)Unexpected continue (T_RETURN) Unexpected \\'=\\' Unexpected T_INLINE_HTML… Unexpected T_PAAMAYIM_NEKUDOTAYIM… Unexpected T_OBJECT_OPERATOR… Unexpected T_DOUBLE_ARROW… Unexpected T_SL… Unexpected T_BOOLEAN_OR…\\n\\nUnexpected T_BOOLEAN_AND… Unexpected T_IS_EQUAL \\nUnexpected T_IS_GREATER_OR_EQUAL \\nUnexpected T_IS_IDENTICAL \\nUnexpected T_IS_NOT_EQUAL \\nUnexpected T_IS_NOT_IDENTICAL \\nUnexpected T_IS_SMALLER_OR_EQUAL \\nUnexpected < \\nUnexpected > Unexpected T_NS_SEPARATOR… Unexpected character in input: \\'\\\\\\' (ASCII=92) state=1 Unexpected \\'public\\' (T_PUBLIC)  Unexpected \\'private\\' (T_PRIVATE)  Unexpected \\'protected\\' (T_PROTECTED)  Unexpected \\'final\\' (T_FINAL)… Unexpected T_STATIC… Unexpected T_CLASS… Unexpected \\'use\\' (T_USE) Unexpected T_DNUMBER Unexpected , (comma) Unpexected . (period) Unexpected ; (semicolon) Unexpected * (asterisk) Unexpected : (colon) Unexpected \\':\\', expecting \\',\\' or \\')\\' Unexpected & (call-time pass-by-reference) Unexpected . Closely related references: And: While Stack Overflow is also welcoming rookie coders, it\\'s mostly targetted at professional programming questions. If your browser displays error messages such as \"SyntaxError: illegal character\", then it\\'s not actually php-related, but a javascript-syntax error. Syntax errors raised on vendor code: Finally, consider that if the syntax error was not raised by editing your codebase, but after an external vendor package install or upgrade, it could be due to PHP version incompatibility, so check the vendor\\'s requirements against your platform setup.',\n",
       " \"I have a bit of code where I am looping through all the select boxes on a page and binding a .hover event to them to do a bit of twiddling with their width on mouse on/off. This happens on page ready and works just fine. The problem I have is that any select boxes I add via Ajax or DOM after the initial loop won't have the event bound. I have found this plugin (jQuery Live Query Plugin), but before I add another 5k to my pages with a plugin, I want to see if anyone knows a way to do this, either with jQuery directly or by another option.\",\n",
       " 'In this question, someone suggested in a comment that I should not cast the result of malloc. i.e., I should do this: rather than: Why would this be the case?',\n",
       " '\\n\\nvar funcs = [];\\n// let\\'s create 3 functions\\nfor (var i = 0; i < 3; i++) {\\n  // and store them in funcs\\n  funcs[i] = function() {\\n    // each should log its value.\\n    console.log(\"My value: \" + i);\\n  };\\n}\\nfor (var j = 0; j < 3; j++) {\\n  // and now let\\'s run each one to see\\n  funcs[j]();\\n}\\n\\n\\n It outputs this: My value: 3\\nMy value: 3\\nMy value: 3 Whereas I\\'d like it to output: My value: 0\\nMy value: 1\\nMy value: 2 The same problem occurs when the delay in running the function is caused by using event listeners: \\n\\nvar buttons = document.getElementsByTagName(\"button\");\\n// let\\'s create 3 functions\\nfor (var i = 0; i < buttons.length; i++) {\\n  // as event listeners\\n  buttons[i].addEventListener(\"click\", function() {\\n    // each should log its value.\\n    console.log(\"My value: \" + i);\\n  });\\n}\\n<button>0</button>\\n<br />\\n<button>1</button>\\n<br />\\n<button>2</button>\\n\\n\\n … or asynchronous code, e.g. using Promises: \\n\\n// Some async wait function\\nconst wait = (ms) => new Promise((resolve, reject) => setTimeout(resolve, ms));\\n\\nfor (var i = 0; i < 3; i++) {\\n  // Log `i` as soon as each promise resolves.\\n  wait(i * 100).then(() => console.log(i));\\n}\\n\\n\\n It is also apparent in for in and for of loops: \\n\\nconst arr = [1,2,3];\\nconst fns = [];\\n\\nfor(var i in arr){\\n  fns.push(() => console.log(`index: ${i}`));\\n}\\n\\nfor(var v of arr){\\n  fns.push(() => console.log(`value: ${v}`));\\n}\\n\\nfor(var f of fns){\\n  f();\\n}\\n\\n\\n What’s the solution to this basic problem?',\n",
       " \"I have a constructor function which registers an event handler: \\n\\nfunction MyConstructor(data, transport) {\\n    this.data = data;\\n    transport.on('data', function () {\\n        alert(this.data);\\n    });\\n}\\n\\n// Mock transport object\\nvar transport = {\\n    on: function(event, callback) {\\n        setTimeout(callback, 1000);\\n    }\\n};\\n\\n// called as\\nvar obj = new MyConstructor('foo', transport);\\n\\n\\n However, I'm not able to access the data property of the created object inside the callback. It looks like this does not refer to the object that was created, but to another one. I also tried to use an object method instead of an anonymous function: but it exhibits the same problems. How can I access the correct object?\",\n",
       " \"I've heard much about the understandable abhorrence of using .Select in Excel VBA, but I am unsure of how to avoid using it. I am finding that my code would be more re-usable if I were able to use variables instead of Select functions. However, I am not sure how to refer to things (like the ActiveCell, etc.) if not using Select. I have found this article on ranges and this example on the benefits of not using select, but I can't find anything on how.\",\n",
       " \"This is a collection of common Q&A. This is also a Community Wiki, so everyone is invited to participate in maintaining it. regex is suffering from give me ze code type of questions and poor answers with no explanation. This reference is meant to provide links to quality Q&A. This reference is meant for the following languages: php, perl, javascript, python, ruby, java, .net. This might be too broad, but these languages share the same syntax. For specific features there's the tag of the language behind it, example:\",\n",
       " \"Given the following examples, why is outerScopeVar undefined in all cases?      Why does it output undefined in all of these examples? I don't want workarounds, I want to know why this is happening. Note: This is a canonical question for JavaScript asynchronicity. Feel free to improve this question and add more simplified examples which the community can identify with.\",\n",
       " 'This is a number of answers about warnings, errors, and notices you might encounter while programming PHP and have no clue how to fix them. This is also a Community Wiki, so everyone is invited to participate adding to and maintaining this list. Questions like \"Headers already sent\" or \"Calling a member of a non-object\" pop up frequently on Stack Overflow. The root cause of those questions is always the same. So the answers to those questions typically repeat them and then show the OP which line to change in their particular case. These answers do not add any value to the site because they only apply to the OP\\'s particular code. Other users having the same error cannot easily read the solution out of it because they are too localized. That is sad because once you understood the root cause, fixing the error is trivial. Hence, this list tries to explain the solution in a general way to apply. If your question has been marked as a duplicate of this one, please find your error message below and apply the fix to your code. The answers usually contain further links to investigate in case it shouldn\\'t be clear from the general answer alone. If you want to contribute, please add your \"favorite\" error message, warning or notice, one per answer, a short description what it means (even if it is only highlighting terms to their manual page), a possible solution or debugging approach and a listing of existing Q&A that are of value. Also, feel free to improve any existing answers. Also, see:',\n",
       " 'I\\'ve tried creating a simple mail form. The form itself is on my index.html page, but it submits to a separate \"thank you for your submission\" page, thankyou.php, where the above PHP code is embedded.\\nThe code submits perfectly, but never sends an email. How can I fix this?',\n",
       " \"I've been told by others that writing using namespace std; in code is wrong, and that I should use std::cout and std::cin directly instead. Why is using namespace std; considered a bad practice? Is it inefficient or does it risk declaring ambiguous variables (variables that share the same name as a function in std namespace)? Does it impact performance?\",\n",
       " 'When running my script, I am getting several errors like this: Warning: Cannot modify header information - headers already sent by (output started at /some/file.php:12) in /some/file.php on line 23 The lines mentioned in the error messages contain header() and setcookie() calls. What could be the reason for this? And how to fix it?',\n",
       " \"I always thought Java uses pass-by-reference. However, I've seen a blog post that claims that Java uses pass-by-value. I don't think I understand the distinction they're making. What is the explanation?\",\n",
       " \"\\nI'm setting up a new server and want to support UTF-8 fully in my web application. I have tried this in the past on existing servers and always seem to end up having to fall back to ISO-8859-1. Where exactly do I need to set the encoding/charsets? I'm aware that I need to configure Apache, MySQL, and PHP to do this — is there some standard checklist I can follow, or perhaps troubleshoot where the mismatches occur? This is for a new Linux server, running MySQL 5, PHP, 5 and Apache 2.\",\n",
       " \"I am trying to learn the best way to write queries. I also understand the importance of being consistent. Until now, I have randomly used single quotes, double quotes, and backticks without any real thought. Example: Also, in the above example, consider that table, col1, val1, etc. may be variables. What is the standard for this? What do you do? I've been reading answers to similar questions on here for about 20 minutes, but it seems like there is no definitive answer to this question.\",\n",
       " \"Having spent a decent amount of time watching both the r and pandas tags on SO, the impression that I get is that pandas questions are less likely to contain reproducible data. This is something that the R community has been pretty good about encouraging, and thanks to guides like this, newcomers are able to get some help on putting together these examples. People who are able to read these guides and come back with reproducible data will often have much better luck getting answers to their questions. How can we create good reproducible examples for pandas questions? Simple dataframes can be put together, e.g.: But many example datasets need more complicated structure, e.g.: For datasets that are hard to mock up using a few lines of code, is there an equivalent to R's dput() that allows you to generate copy-pasteable code to regenerate your datastructure?\",\n",
       " 'Quote from The C++ standard library: a tutorial and handbook: The only portable way of using templates at the moment is to implement them in header files by using inline functions. Why is this? (Clarification: header files are not the only portable solution. But they are the most convenient portable solution.)',\n",
       " 'How can one parse HTML/XML and extract information from it?',\n",
       " \"I'm asking this question because I'm new to Java and Android and I searched for hours trying to figure this out. The answer came from a combination of related answers, so I figured I would document what I learned for anyone else who may be struggling. See answer. I'm using Android Studio 2.1.2 and my Java setup is the following:\",\n",
       " 'What are the possible reasons for document.getElementById, $(\"#id\") or any other DOM method / jQuery selector not finding the elements? Example problems include: Uncaught TypeError: Cannot set property \\'...\\' of null\\nUncaught TypeError: Cannot set properties of null (setting \\'...\\')\\nUncaught TypeError: Cannot read property \\'...\\' of null\\nUncaught TypeError: Cannot read properties of null (reading \\'...\\') The most common forms are: Uncaught TypeError: Cannot set property \\'onclick\\' of null\\nUncaught TypeError: Cannot read property \\'addEventListener\\' of null\\nUncaught TypeError: Cannot read property \\'style\\' of null',\n",
       " 'I have a nested data structure containing objects and arrays. How can I extract the information, i.e. access a specific or multiple values (or keys)? For example: How could I access the name of the second item in items?',\n",
       " 'I just found a comment in this answer saying that using iostream::eof in a loop condition is \"almost certainly wrong\". I generally use something like while(cin>>n) - which I guess implicitly checks for EOF. Why is checking for eof explicitly using while (!cin.eof()) wrong?   How is it different from using scanf(\"...\",...)!=EOF in C (which I often use with no problems)?',\n",
       " 'In my local/development environment, the MySQLi query is performing OK. However, when I upload it on my web host environment, I get this error: Fatal error: Call to a member function bind_param() on a non-object in... Here is the code: To check my query, I tried to execute the query via control panel phpMyAdmin and the result is OK.',\n",
       " 'Is there an SQL injection possibility even when using mysql_real_escape_string() function? Consider this sample situation. SQL is constructed in PHP like this: I have heard numerous people say to me that code like that is still dangerous and possible to hack even with mysql_real_escape_string() function used. But I cannot think of any possible exploit? Classic injections like this: do not work. Do you know of any possible injection that would get through the PHP code above?',\n",
       " \"I'm trying to make a function that will compare multiple variables to an integer and output a string of three letters. I was wondering if there was a way to translate this into Python. So say: which would return a list of: Is something like this possible?\",\n",
       " 'What does ArrayIndexOutOfBoundsException mean and how do I get rid of it?  Here is a code sample that triggers the exception:',\n",
       " 'I am using the Scanner methods nextInt() and nextLine() for reading input.  It looks like this: The problem is that after entering the numerical value, the first input.nextLine() is skipped and the second input.nextLine() is executed, so that my output looks like this: I tested my application and it looks like the problem lies in using input.nextInt(). If I delete it, then both string1 = input.nextLine() and string2 = input.nextLine() are executed as I want them to be.',\n",
       " 'I have this code: Why does this not write \"bar\" into my text file, but alerts \"42\"? NB: Earlier revisions of this question were explicitly about PHP on the server and JavaScript on the client. The essential nature of the problem and solutions is the same for any pair of languages when one is running on the client and the other on the server (even if they are the same language). Please take this in to account when you see answers talking about specific languages.',\n",
       " 'What is wrong with using feof() to control a read loop?  For example: What is wrong with this loop?',\n",
       " '',\n",
       " \"I have noticed that there doesn't appear to be a clear explanation of what the this keyword is and how it is correctly (and incorrectly) used in JavaScript on the Stack Overflow site. I have witnessed some very strange behaviour with it and have failed to understand why it has occurred. How does this work and when should it be used?\",\n",
       " 'I am writing a program that accepts an input from the user. The program works as expected as long as the the user enters meaningful data.  But it fails if the user enters invalid data: Instead of crashing, I would like the program to ask for the input again. Like this: How can I make the program ask for valid inputs instead of crashing when non-sensical data is entered? How can I reject values like -1, which is a valid int, but nonsensical in this context?',\n",
       " 'How do I accomplish variable variables in Python? Here is an elaborative manual entry, for instance: Variable variables I hear this is a bad idea in general though, and it is a security hole in PHP. Is that true?',\n",
       " 'In the official W3c webdirver documentation, it\\'s clearly stated that the location strategies are: However, Selenium\\'s wire protocol allowed: In THEORY, Selenium\\'s docs are obsolete and the \"real\" story is in the new spec document. However...  I ran some tests on the latest Chrome\\'s own Webdriver, and I can confirm that name and class name both work; however, they are not in the specs. I remember reading on a Chromium issue that they would only ever implement the official Webdriver specs. Now: I know the generic answer, where \"specs are not always followed 100%\" etc. However, what I\\'d like to know is:',\n",
       " \"I need a good explanation (references are a plus) on Python's slice notation.  To me, this notation needs a bit of picking up.  It looks extremely powerful, but I haven't quite got my head around it.\",\n",
       " 'I am developing an application, and everytime I run it, I get the message: Unfortunately, MyApp has stopped. What can I do to solve this? About this question - obviously inspired by What is a stack trace, and how can I use it to debug my application errors?, there are lots of questions stating that their application has crashed, without any further detail. This question aims to instruct novice Android programmers on how to try and fix their problems themselves, or ask the right questions.',\n",
       " 'How would you explain JavaScript closures to someone with a knowledge of the concepts they consist of (for example functions, variables and the like), but does not understand closures themselves? I have seen the Scheme example given on Wikipedia, but unfortunately it did not help.',\n",
       " \"I needed to create a list of lists in Python, so I typed the following: The list looked like this: Then I changed one of the innermost values: Now my list looks like this: which is not what I wanted or expected. Can someone please explain what's going on, and how to get around it?\"]"
      ]
     },
     "execution_count": 86,
     "metadata": {},
     "output_type": "execute_result"
    }
   ],
   "source": [
    "stack_overflow_articles"
   ]
  },
  {
   "cell_type": "code",
   "execution_count": 104,
   "id": "385a7763",
   "metadata": {},
   "outputs": [],
   "source": [
    "# scrape hardwarezone\n",
    "def get_hwz_articles():\n",
    "    HWZ_URL = \"https://forums.hardwarezone.com.sg/\"\n",
    "    page = requests.get(HWZ_URL)\n",
    "    soup = BeautifulSoup(page.text, \"html.parser\")\n",
    "    # get links to different news articles (the class is for this url, will differ across websites)\n",
    "    divs = soup.find_all(\"div\", \"structItem-title\")\n",
    "    content = []\n",
    "    for div in divs:\n",
    "        forum = BeautifulSoup(requests.get(f\"{HWZ_URL}{div.find('a')['href']}\").text, \"html.parser\")\n",
    "#         parent = article_page.find(\"div\", \"s-prose js-post-body\")\n",
    "        posts = [comment.text for comment in forum.find_all(\"div\", \"bbWrapper\")]\n",
    "        content.append(posts)\n",
    "    return content"
   ]
  },
  {
   "cell_type": "code",
   "execution_count": 106,
   "id": "850e4920",
   "metadata": {},
   "outputs": [],
   "source": [
    "# run this block to get saved data/scrape data\n",
    "HWZ_ARTICLES_PATH = Path(\"hwz_articles.pickle\")\n",
    "if HWZ_ARTICLES_PATH.is_file():\n",
    "    with open(HWZ_ARTICLES_PATH, \"rb\") as f:\n",
    "        hwz_articles = pickle.load(f)\n",
    "\n",
    "else:\n",
    "    hwz_articles = get_hwz_articles()\n",
    "    HWZ_ARTICLES_PATH.touch(exist_ok=True)\n",
    "    with open(HWZ_ARTICLES_PATH, \"wb\") as f:\n",
    "        pickle.dump(hwz_articles, f)"
   ]
  }
 ],
 "metadata": {
  "kernelspec": {
   "display_name": "Python 3 (ipykernel)",
   "language": "python",
   "name": "python3"
  },
  "language_info": {
   "codemirror_mode": {
    "name": "ipython",
    "version": 3
   },
   "file_extension": ".py",
   "mimetype": "text/x-python",
   "name": "python",
   "nbconvert_exporter": "python",
   "pygments_lexer": "ipython3",
   "version": "3.9.7"
  }
 },
 "nbformat": 4,
 "nbformat_minor": 5
}
