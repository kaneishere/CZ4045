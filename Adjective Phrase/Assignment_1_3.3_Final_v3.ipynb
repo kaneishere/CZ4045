{
 "cells": [
  {
   "cell_type": "code",
   "execution_count": 1,
   "id": "4e581323",
   "metadata": {},
   "outputs": [
    {
     "name": "stderr",
     "output_type": "stream",
     "text": [
      "[nltk_data] Downloading package punkt to\n",
      "[nltk_data]     /Users/guangxushen/nltk_data...\n",
      "[nltk_data]   Package punkt is already up-to-date!\n",
      "[nltk_data] Downloading package averaged_perceptron_tagger to\n",
      "[nltk_data]     /Users/guangxushen/nltk_data...\n",
      "[nltk_data]   Package averaged_perceptron_tagger is already up-to-\n",
      "[nltk_data]       date!\n"
     ]
    }
   ],
   "source": [
    "import numpy as np\n",
    "import pandas as pd\n",
    "import nltk,string\n",
    "nltk.download('punkt')\n",
    "nltk.download('averaged_perceptron_tagger')\n",
    "import math\n",
    "import os\n",
    "from nltk import FreqDist\n",
    "from nltk.corpus import stopwords\n",
    "import random\n",
    "\n",
    "import en_core_web_sm\n",
    "from nltk.util import ngrams\n",
    "\n",
    "nlp = en_core_web_sm.load()"
   ]
  },
  {
   "cell_type": "code",
   "execution_count": 2,
   "id": "5c923771",
   "metadata": {},
   "outputs": [
    {
     "data": {
      "text/plain": [
       "True"
      ]
     },
     "execution_count": 2,
     "metadata": {},
     "output_type": "execute_result"
    }
   ],
   "source": [
    "data_path = 'data/reviewSelected100.json'\n",
    "os.path.exists(data_path)"
   ]
  },
  {
   "cell_type": "code",
   "execution_count": 3,
   "id": "f038078b",
   "metadata": {},
   "outputs": [],
   "source": [
    "random.seed(69)"
   ]
  },
  {
   "cell_type": "code",
   "execution_count": 4,
   "id": "7e4038b1",
   "metadata": {},
   "outputs": [],
   "source": [
    "review_df = pd.read_json(data_path, lines=True,encoding = \"ISO-8859-1\")"
   ]
  },
  {
   "cell_type": "code",
   "execution_count": 5,
   "id": "2d9d4740",
   "metadata": {},
   "outputs": [
    {
     "name": "stdout",
     "output_type": "stream",
     "text": [
      "rubyBEGXLBLU_JAuEtKEuw\n"
     ]
    }
   ],
   "source": [
    "#Randomly generate 1 index\n",
    "review_random_idx = np.array(np.random.rand(1)*len(review_df), dtype=np.int32)\n",
    "#print out the business id selected\n",
    "print(review_df.iloc[review_random_idx]['business_id'].iloc[0])"
   ]
  },
  {
   "cell_type": "code",
   "execution_count": 6,
   "id": "7f473bb3",
   "metadata": {},
   "outputs": [],
   "source": [
    "#set the selected business id as the id to be investigated\n",
    "selected_id = review_df.iloc[review_random_idx]['business_id'].iloc[0]"
   ]
  },
  {
   "cell_type": "code",
   "execution_count": 7,
   "id": "282df43e",
   "metadata": {},
   "outputs": [
    {
     "name": "stdout",
     "output_type": "stream",
     "text": [
      "rubyBEGXLBLU_JAuEtKEuw\n"
     ]
    }
   ],
   "source": [
    "#fix this id for subsequent usage\n",
    "selected_id_str = str(selected_id)\n",
    "print(selected_id_str)"
   ]
  },
  {
   "cell_type": "code",
   "execution_count": 8,
   "id": "f6f4752f",
   "metadata": {},
   "outputs": [],
   "source": [
    "#Extract out the sentences related to the random id\n",
    "review_random_df = review_df.iloc[review_random_idx]\n",
    "review_random_df = review_random_df.reset_index()"
   ]
  },
  {
   "cell_type": "code",
   "execution_count": 9,
   "id": "23dbcc3e",
   "metadata": {},
   "outputs": [],
   "source": [
    "#Tokenize the text\n",
    "review_random_df['tokenize'] = review_random_df['text'].apply(nltk.word_tokenize)\n",
    "#Tag those individual tokens respectively\n",
    "review_random_df['pos_tag'] = review_random_df['tokenize'].apply(nltk.pos_tag)"
   ]
  },
  {
   "cell_type": "code",
   "execution_count": 10,
   "id": "eabbd310",
   "metadata": {},
   "outputs": [],
   "source": [
    "review_random_df.to_json(r'output/specific_business_review_3_final.json', orient='records', lines=True)"
   ]
  },
  {
   "cell_type": "code",
   "execution_count": 11,
   "id": "f6477483",
   "metadata": {},
   "outputs": [],
   "source": [
    "tokenized_path = 'output/specific_business_review_3_final.json'\n",
    "reviews_adjectives_df = pd.read_json(tokenized_path, lines=True,encoding = \"ISO-8859-1\")"
   ]
  },
  {
   "cell_type": "code",
   "execution_count": 12,
   "id": "21a3cc2b",
   "metadata": {},
   "outputs": [
    {
     "name": "stdout",
     "output_type": "stream",
     "text": [
      "1\n",
      "15300\n"
     ]
    }
   ],
   "source": [
    "#checking some basic information\n",
    "print(len(reviews_adjectives_df))\n",
    "print(len(review_df))"
   ]
  },
  {
   "cell_type": "markdown",
   "id": "e39c9007",
   "metadata": {},
   "source": [
    "# Find all reviews that are related to a certain store"
   ]
  },
  {
   "cell_type": "code",
   "execution_count": 13,
   "id": "a12267de",
   "metadata": {},
   "outputs": [],
   "source": [
    "#extract all the reviews which are related to one store id \n",
    "def extract_reviews(store_id):\n",
    "  if type(store_id) == str:\n",
    "    selected_id = store_id\n",
    "  else:\n",
    "    selected_id = str(store_id)\n",
    "  selected_store_reviews = []\n",
    "  for index, element in review_df.iterrows():\n",
    "    if element['business_id'] == selected_id:\n",
    "        selected_store_reviews.append(element['text'])\n",
    "  return selected_store_reviews"
   ]
  },
  {
   "cell_type": "code",
   "execution_count": 14,
   "id": "a2a1bd67",
   "metadata": {},
   "outputs": [
    {
     "name": "stdout",
     "output_type": "stream",
     "text": [
      "['This place has very high quality flowers. All florists are pretty dang expensive, so you have to expect that going in. But the $180 bouquet lasted at least 10 days looking amazing and another 5 looking decent.\\n\\nThe owner was very pleasant and answered my questions.\\n\\nI will definitely use this florist every time in the future.', \"Thank you!!! Greg. For making up for the last batch of bad roses. These look 10 times healthier. I really appreciate it. I'll definitely be a regular customer.\", \"I went on to Yelp to find a local florist in Las Vegas.  I live in Northern California and wanted to send flowers to a friend that just had surgery.  I did not realize that my friend was in ICU and couldn't receive the flowers.  Greg, who delivered the flowers was great and helped me get the flowers to my friends husband.  I highly recommend using this flower shop!!!  GREAT CUSTOMER SERVICE!!!!\", 'My wife and I celebrated our renewal of vows in Las Vegas and hosted guests in a Bellagio suite. We found Dancing Dandelion and discussed what we wanted for arrangements, we actually supplied a picture of an arrangement and they matched it wonderfully. Our ten arrangements we delivered as scheduled and our guests complimented us on their beauty. I would definitely recommend The Dancing Dandelion Flower Shop to everyone in need of floral service in Las Vegas. Customer service was exemplary!', \"This lovely shop is a small family run business and their customer service was amazing. I went in two days before my wedding to order a bouquet in peach roses. They were out of stock that day but confirmed a new delivery the next. Friday afternoon I received a call that my order was ready to be picked up on Saturday. It was beautifully arranged and hand wrapped in a white ribbon, which was placed in a glass cylinder vase and white box for easy transportation. I couldn't be happier or excited for my big day with this gorgeous bouquet. I want to thank everyone at Dancing Dandelion for all of their help and the work that they do.\", 'My bothers and I live in CA and we ordered flowers online since my mother was hospitalized during her mini vacation in Vegas. It was super easy ordering online and their selection of flowers/arrangements were so beautiful! My family and I are very pleased with the speedy delivery as well as how beautiful the arrangement was!  Another pleased customer!  Would definitely recommend!', \"Had the most wonderful experience with this quaint and classy flower boutique. The arrangements within the display cases provided a variety of options to impact the  buyer's experience. Upon choosing my preferred arrangement as a gift for a friend, the florist ensured the arrangement's  longevity by substituting pieces as needed.\\n\\nI love shopping with local businesses and can confidently endorse this shop as honest, creative, affordable, and charming. I appreciate their kindness and will definitely shop with them going forward. \\n\\nIf you are looking for a creative local business with wonderful service and great quality, please be sure to visit this florist.\", 'Very bad service. Did not deliver what I ordered. When I let them know, I was treated extremely rude. Will never use this company again.', 'Great website, great customer service and the most beautiful, creative and innovative flower arrangements.  Personal follow up on the phone after placing the order online was a big plus, and the suggestions made by the customer service rep made the arrangement even more impressive. Great to work with!', 'I called in to order flowers from out of state and Rosie was so friendly & helpful. She patiently answered all my questions and gave helpful suggestions. They delivered the beautiful bouquet within a couple of hours of me placing my order. The bouquet was exactly what I asked for!! Definitely will be using this flower shop again. They have  reasonable prices also. Thank you Rosie!!', 'Not the cheapest but beautiful arrangements, reliable delivery.  Flowers lasting is a function of room temperature as much as anything, not easy here in Vegas.  The only place I will order flowers from for Vegas delivery.', 'Repeat customer due to always great service.  The arrangements they make are GREAT!  Visited easily a dozen times.', \"Needed flowers to go to hospital same day. All flower sites online couldn't do it. Called and Greg texted me pictures of 3 beautiful arrangements and hand delivered on his way home. Good customer service is so rare I give them an A+++\", \"Very nice and friendly local florist. Beautiful arrangements made as well.\\nI've been here several times and the prices are good, the service is excellent too.\\nI'd rather go to a local florist than deal with 800-flowers. That place sucks.\\nOwner is extremely friendly and helpful.\\nTip I learned, keep your flowers in the fridge if you are at work all day. It will keep them longer!\", 'This is a warm and friendly run business. The owners are very personable and you can tell they enjoy what they do. The flowers are fresh, I know this through our conversation and saw them bringing in flowers from the flower market a minute after our discussion..lol and the best reason you should visit them is the great pricing! I found my go to florist, definitely will be back!', \"I ordered a rose gift box for someone to show my appreciation for all she has done for me at work as well as for my family and added chocolates and the next day by noon they delivered a beautifully done arrangement with delectable chocolates. She was so appreciative and so happy I chose the pink roses. I'll definitely use them again in the future.\", \"I've been on the receiving end of Dancing Dandelion's beautiful floral arrangements.  My husband has used them exclusively for the past 1 1/2 years for Birthday, Anniversary or special occasions.  Each arrangement is unique and beautiful.  The arrangement I recently received for my Birthday is especially nice.  Lots of bright vibrant flowers that are just stunning.  In the past we used Tiger Lily but became increasingly frustrated at what we received for the price. Often the arrangements were very small with very few flowers and lots of filler.  Since we found Dancing Dandelion we couldn't be happier!\", \"Quite simply the best customer service I've ever experienced. And their floral arrangements are out of this world. Truly spectacular people to do business with!\", \"Local florist with beautiful flowers and friendly helpful staff. I won't go anywhere else!\", \"I've ordered flowers from them twice and both times they have been professional and a pleasure to work with. the flowers are beautiful and my wife has loved them. Greg had said they probably wouldn't be able to deliver them since my wife works at the airport and they had hundreds of deliveries that day but they were able to walk them to her at her desk. They exceed expectations and I will always buy my flowers from them.\", \"My girl was upset that I never give her flowers, (even though when we first met, she told me she didn't like flowers)  So I came here and was very impressed by their selection.\", \"They really go the extra step to accommodate customers desires at The Dancing Dandelion Flower Shop.  I've picked up flowers here on numerous occasions and always had a great experience!  The staff is knowledgeable and genuinely helpful.  DDFS was easily able to accommodate special requests for me on a couple of instances. Even when they didn't have what I was looking for they willfully pointed me in a helpful direction.  \\n\\nCustomer service is top notch...as another example, for a nominal fee they will even clean-up and prepare potted plants purchased from Plant Nurseries, Home Depot, etc. making them gift ready.  Prices are slightly above average for flower shops, but spot on when you consider the quality product and service that accompanies your orders.  \\n\\nThey deserve a very strong 4 Stars in my book.  The shop is on the small side and their on-hand inventory is a little limited because of this, but if you can give them a couple of days the sky's the limit.\", 'Another 5 stars for Dancing Dandelion for their excellent service yesterday.  I had to change delivery instructions at the last minute (I felt bad about this but I had no choice).  The lady I was talking to on the phone was very calm and patient.  She told me thay can make changes to my order if I was ok with them substituting pink lillies with white ones.  The arrangement looked fantastic!', 'They are The Best!!! I rushed over to a different flower place that was closer to me yesterday before the posted closing time on Yelp (6pm), the Flower Garden, and the place was totally empty and obviously out of business. So I rushed over to the next closest place , the Dancing Dandelion, and got there 5 minutes after the same closing time and the woman was just finishing up with a customer and told me not to worry about the closing time. She was super friendly and helpful and I got a beautiful arrangement at a great price. . So go here for flowers and home made chocolates and other gifts.', 'They had the freshest flowers and were very classy in the creativity and the delivery was quick.', 'On the way to see my mom at hospital and stopped to ask for a wrap for a pot and the gentleman at this flower shop was so gracious and helped me out. Will definitely send business this way!', 'This flower shop is the place to go if you need anything floral.  The owner Greg has been amazing the past few years, and those who work for him are knowledgeable, kind, and very helpful.', 'Received an arrangement from them for my birthday, it was gorgeous! Susie was really helpful in making it exactly what I would want...so I just wanted to say thank you, and I absolutely loved it!', \"I called in today to have a last minute delivery sent for a special occasion. They were so sweet and happily prepared my order and had it delivered within a couple of hours. The arrangement was stunning and exactly as pictured. I'll definitely order from here again. \\nGreat customer service and fast delivery! Worth the price!\", 'They did an amazing job!! Far better than I expected. I was obsessed with my flower arrangement. I ordered the dog in a basket! It was so beautiful!!', \"Oh this shop is an absolute dream to work with. I had Dancing Dandelion do the flowers for my wedding. I really didn't have much of a vision, so I told Dan a little of what I wanted and gave him creative license. I'm so happy I did! My flowers turned out absolutely gorgeous and just added beautifully to my special day. \\n\\nThe prices are reasonable and everyone I worked with at the shop was wonderful to work with. I would definitely use them again for any occasion that required flowers.\", 'Greg and his team prepared such beautiful and elegant flowers and arrangements for our wedding.  He worked very closely with my wife and everything went off without a hitch! Planning a wedding is such a stressful time and Greg certainly helped us get through it with flying colors!!!  Thank you so much Greg..... you are the best florist ever!!!!', \"They were open late on the evening before Valentine's Day, and had plenty of beautiful product to pick up. Great Flowers! Great service!\", 'Ordered some flowers for a funeral from CA to LV & they arrived in time for the viewing which was the same day.', \"I called Dancing Dandelion with a last minute corsage request.  I needed two, within hours.  Greg (I'm pretty sure that was his name) was very friendly, and talked me through the options while I was on the phone. And within 3 hours, my two BEAUTIFUL corsages were ready and waiting.  They had some arrangements pre-made in their display that were a match in quality and freshness that were also very tempting!  Thanks Dancing Dandelion!!!\", 'Called them to order flowers for someone staying in their city and they were super helpful and fun to talk to. I will definitely give them more business should the opportunity arise.', 'Came in and requested a custom arrangement of specific flowers, colors and budget. The finished product delivered was an absolute MASTERPIECE! Thank you guys so much for working very diligently and creating such a beautiful arrangement! Will only be coming to you guys for my flower needs from now!', 'I ordered a spray for my wife on our anniversary......I was not sure what to expect since I did not see samples in person; so, I just went with the recommendations and hoped for the very best.\\n\\nOMG!!!  The BEST was certainly delivered....my wife is beyond thrilled and all at her office are envious.....as the receptionist said, \"all the other men look bad now and need to step up their game\".....haha!!!\\n\\nThank you to everybody at Dancing Dandelion...you were beyond belief and I will never hesitate to use the shop again and recommend it to anybody in need of florals.....amazing!!!', 'Super awesome place! Bouquet I ordered was exactly like the picture BOTH times and prices are not to high. Delivery was done first thing in morning. I highly recommend this place.', \"If you are looking for flowers in Vegas, this is the place to go. I had a complete disaster on my hands with 1-800-FLOWERS and these guys rescued me. The staff I spoke to on the phone was awesome and very helpful. Not to mention the fact that they had my Valentine's Day order delivered before 9am on Valentine's Day! Thank you so much again and you'll be getting my business again in the future.\", 'I stopped in at 9am this morning (opens at 10) and peeked in and met the owner. I desperately needed a last minute corsage and no one could do it. I spoke with Greg and he was so incredibly kind. He made me a corsage with roses and orchids right on the spot! Great customer service and I highly recommend this flower shop. They are a great local business.', \"Oooooh! My dad just ordered a bouquet to be sent to me this morning and it's already here, an hour later. I love stargazers and even though the arrangement didn't come with them, they added a few anyway :) yayyyy! Thank you! \\n\\nAnd the quality of the flowers is perfect and fresh and beautiful. \\n\\nLoves!\", 'Great staff and high quality flowers!  Thank for the service and the pink rose petals.', 'They did a beautiful job on my wedding flowers, Greg was great to work with and clearly they care about their clients!', 'Ordered online before they opened as I live on the east coast.  Flowers were delivered with so much care and such a genuine spirit.  Will never use any other florist in Vegas to send gifts to my family - AMAZING!', \"Love their service I browsed through many other shops and none could compare.\\nI had many questions and Greg was so QUICK and straight forward replying to me by e-Mail\\n\\nI purchased:\\nThe 4 Dozen Red Roses Ultimate Elegance Premium Long Stem with a Medium size Teddy Bear.\\n\\nAnd she loved them \\nI couldn't be happier \\n\\nI would recommend anyone to do business with them.\\n\\nAlso the delivery person was quiet polite and nice.\", 'i have been using The Dancing Dandelion for the last two years to order flowers for different school events.  in the past, they have made me what I call \"podium arrangements\".  Today, they made me some beautiful hand-opened roses with succulents ( I will post pictures).  The arrangements were beautiful and everyone kept asking me who my florist was.  The shop has always been very helpful and I am able to easily communicate with the owner via email.  I highly recommend this shop.', \"I don't live in the area, but ordered some flowers and balloons for my uncle who just got surgery through their online portal and everything was executed perfectly. Same day delivery!!  Greg is definitely the man who you want to talk to.  He was so easy going and even called to let me know that delivery was successful. Exceptional customer service and willing to go the extra mile. If you're reading this Greg, THANK YOU from the bottom of my heart, you really made my day!!\", \"Absolutely the best flower shop in Las Vegas. Great customer service, beautiful arrangements, and friendly local shop owners. I've sent at least ten different arrangements over the last year and every one has been received fresh and as ordered. Their web site is very representative of the flowers and arrangements that arrive at your destination. The same stellar service on shop pickup and delivery. The various arrangements featuring the cute little pooch are some of my favorites.\", 'Thank you for the repeat great service! I recently ordered flowers and they were delivered fast and as the picture shows on the website.', \"I've used Dancing Dandelion many times and they always do a great job, but this time they even exceeded their previously stellar deliveries and execution  I ordered flowers for my daughter's birthday, to be delivered to her work, but I what I didn't know is that she wasn't working that day. The delivery person attempted delivery, found she was not at work, called her, found that she was at UNLV (she's a student there), tracked her down on campus and hand delivered them to her.  The business is the most well run and disciplined floral business I've ever used.  They instill and reinforce a work ethic that provides employees with the motivation to go,above and beyond, as they did with this delivery. And the employees must really enjoy working there to go above and beyond as they do, which also says a lot. Simply the best floral business in Vegas.\", \"On Mother's Day at noon is not the time to shop for flowers. After a quick check on Yelp I saw this place close by and rated VERY well. My daughter walked in and they were pretty much picked clean. Even though there were only a couple arrangements left they were flawless and we came out of the predicament looking like rockstars. Now if wife never sees this review I'm home free.\", \"Incredible customer service and the end result went beyond my expectations!\\n\\nI met with Greg two months ago to discuss my wedding flower arrangements.  I had an idea of what I wanted, but couldn't exactly put it into words.  Greg (the owner) was amazing to work with.  I scheduled a consultation and met with Greg for about 45 minutes to discuss.  He actually steered me into my inevitable direction and created a bouquet that even my crazy imagination couldn't brew up.  \\n\\nI week prior to my wedding, Greg met with me again so that we could ensure everything was good to go.  He was amazing and completely understanding of my little Bridezilla moment.  \\n\\nMy flowers were ready first thing in the morning for the day of my wedding.  They were gorgeous!  I received so many compliments and also personally loved my flowers.  I even received compliments from men and random men hanging around our reception area.  Hell, even the servers at my ceremony were picking them up and complimenting them.  I had random girls asking to take photos with them, as well.  \\n\\nOverall, I love this flower shop and they did an incredible job with my flowers.  And, let me tell you, my expectations were really high.  A week has now passed since my wedding day and my flowers are still sitting in the giant vase that they were delivered in and they still look amazing!  I will be back due to the exceptional end result, the fabulous customer service and the reasonable prices.\\n\\nThank you, Greg and the entire staff!\", \"I'd been using Dancing Dandelion for roughly a year or so for my every occasional needs, as well as the bi-monthly single lily, so it was a no brainer to use their services when the time came to wed my lovely fiancé. Greg and his team came through, as they always do, and set the tone for our wedding day. Everything from the corsages, rose petals, to the bouquet were absolutely gorgeous! \\nWe still receive compliments about the table arrangements and overall beauty of the flowers provided by the Dancing Dandelion Flower Shop! As mentioned in other reviews, and a given, there are so many stressors throughout the coordination process of a wedding... that being said let Greg and his team remove all the stress of your floral needs during your special day.\\n*the bride bouquet was so beautiful we repurposed it on our table! =)\", \"We had the pleasure working with Greg for our wedding held last 11-8-2014. Greg was so accommodating and very honest with what to expect, ideas and suggestions. \\n\\nThe day of the wedding when he delivered the flowers, I was speechless. The flowers were so simple yet elegant and just what I was going for. The colors matched our motif perfectly.\\nThe centerpieces were a beauty. It wasn't too busy looking. A lot of the guests took the centerpieces home with them.\\n\\nGreg, we thank you for your help. Words can not express how happy we were. Hope to do business with you again.\\n\\nPS... thanks for Jazmin discount :)\", \"We just lost a very good friend of ours and wanted to send flowers to her family.  Their website isn't the best and the options they had on display were pretty limited and pink due to valentine's being next week BUT i called them and was able to figure something out that was more appropriate. I was very very impressed with them for calling me and sending me a picture PRIOR to delivering them so i could tell them to change it or whatever but i ended up loving them and didn't change a thing.  \\nThanks for making such a beautiful arrangement. That pink lily in front is Tina all the way.\", 'Ordered my flowers long distance for my upcoming nuptials.  Spoke with Greg who was very patient and accommodating. I called and told him what I wanted and the flowers came out exactly as I pictured them. Days later they are still alive. I highly recommend a this florist for any future bouquet orders. Flowers were delivered on time. Thanks!!', '5 star customer service! I requested star gazers in an arrangement for a hospital patient. None were available for the arrangement for next day delivery. 2 days later, Dancing delivered them in a second delivery to the hospital in a bud vase. Totally beautiful. Their flowers were posh pedals and top quality.', 'I had came here upon \"researching\" on yelp to find flowers for my best friend for Valentines Day. I came here about a week before the date to place an order. I knew my best friend loves purple so i tried my best to find close to it. \\n\\nThe workers are super nice and tried to help me find what i wanted. I\\'ve always liked lilies and i thought it was a nice that they had an arrangement with roses and lillies. Its not the purple i had in mind but it worked out in the end. The lilies were white edged with a purple that was fairly close to the roses. They helped suggest what would look best (especially since i asked for purple roses) and what not (hey i havent bought anyone nice flowers in ages ! so i asked quite a bit of questions to make sure they know what i wanted and i knew what i was getting). The guy said they had a limited amount of purple roses but guaranteed they would have enough for my order. *crosses fingers* \\n\\nOrder was placed and paid for and they said i can pick it up any time day of. \\n\\nOur plan was, we had dinner scheduled at 6pm so i\\'d pick it up as close as i could to it. I found out they closed at 4pm on Saturdays but they said they\\'d be open longer for pick ups. I didn\\'t want to be THAT guy who holds up the entire store from getting off work so i picked up the flowers at 3:30. Originally on order, i had asked for a wrapped bouquet but when i picked it up, it was in a water filled glass vase. Oh man how am i gonna give it to her at dinner? Lol But they recommended this would keep its shape the best so i went with it. \\n\\nThe flowers held up in the car. the owner? suggested how to put it in the car and how to make it stay put in the seat. The flowers sat in the car with some windows cracked open (oh man they smelled strong XD especially in a \"confined\" space like a car) XD o well. luckily my nose didnt go FUUUUU! lol XD They held up all night and next day til she went home. \\n\\nOnly downside about lilies is they didnt last as long as the roses and the pistils? tend to fall off and stain whatever they fall on :( sad face ! hope she liked the flowers XD \\n\\nOverall back to the store. Great customer service ! :D', \"Wow!  Susie was simply amazing for taking a last minute order over the phone.  My friend had just given birth to a baby girl and I wanted to send over flowers as I was not able to visit her that day.  As I searched for a nearby florist shop, The Dancing Dandelion popped up on my Yelp search with high ratings.  Sometimes you can't always believe the hype until you experience it for yourself...this was legit one of the best experiences ever!  Susie was warm and friendly throughout the whole interaction.  Her phone mannerisms was on point!  The whole process was seamless and she was able to do same day delivery!  I appreciate businesses who get the job done right!  I wish Susie and The Dancing Dandelion continued success!\", \"We are from Canada and normally we use the large flower company chains when having flowers delivered for various events or special occasions.\\nWe decided to talk directly with Greg at Dancing Dandelion because it was a family run business.\\nWe placed the order and made a few changes based on Greg's reccomendations  and like everyone else who orders flowers hoped it would be a nice arrangement.\\nVery happy to say the recipient of the flowers loved the bouquet and after seeing a photo of the arrangement we were more than pleased with the arrangement and we definitely received our money's worth.\\nIn the future we will only use his florist shop and will reccomend Dancing Dandelion to all of our friends.\\nThank you Greg for keeping your promise not only on delivery, but for the absolutley amazing arrangement  our friend received!\", \"Visited The Dancing Dandelion in search of small peace lily plant to be given to our boss who'd just loss his father.  Immediately when I entered the shop I was greeted by Greg who determined my needs and picked out the perfect plant - but it wasn't in a suitable arrangement for gift giving.  Greg at first thought he didn't have a proper container in which to present so he quickly searched his stock finding one lone wicker basket (which needed some modifications), repotting it, and applying 'leaf shine' spray.   With 2 lilies about to open, the arrangement was beautiful.  The peace lily was presented to our boss last week and he truly appreciated it!\\n\\nWhen my husband presents floral arrangements to me, he always uses The Dancing Dandelion.  However, this was the first time I'd ever visited their store.  I can see why he's a repeat customer.  I appreciate how fast Greg was able to troubleshoot the matter while ensuring that I left happy & satisfied. This family run business is top-notch and I would not hesitate to call on them in the future!\", 'Great selection and honest service. I had called ahead to see if a particular item was readily available for purchase and the nice gentleman on the phone walked me through descriptions of what he had to offer. Upon entering the sweet smelling little flower shop, I was not disappointed.\\n\\nI was in and out in under 3 minutes. What more could a guy ask for of a flower shop?', \"I ordered orchids for my Aunts birthday she couldn't believe how beautiful they are, the most beautiful she has ever seen. I was out of town so I phoned in and the process was seamless from start to finish. Thanks you have a returning customer\", 'I had the pleasure of doing business with Greg for a baby shower I was hosting. He paid close attention to detail, to make sure my vision was created. Greg going above and beyond allowed me to worry about one less thing. Thank you the beautiful arrangements and amazing customer service!', \"I ordered flowers for a funeral on very short notice to be delivered on their busiest day of the year (Valentines Day). They made it happen and the flowers we're lovely. \\nGreg was great, calling the night before to let me know it was ready and would be there in the morning. Thank you Greg and everyone else at the Dancing Dandelion.\\nI would  recommend them and they will be my first call now on if I need flowers.\", 'extremely friendly staff! susie, is always the one who answers my calls and always so nice. this was my fifth time ordering from this place and they are very nice every single time.  the mixed assortment that my girlfriend just received described as the \"prettiest bouquet of flowers that she had ever seen in her life\".  i will post a picture, you can judge yourself.  these people never disappoint!', 'My wonderful husband wanted to surprise me with flowers for our 30th wedding anniversary. Our daughter has a corporate account here & talked to Greg, the owner, about putting something special together that incorporated a few of our wedding flowers. It was beautiful! Thank you Greg.', 'Do business with a local company. I placed an order for delivery over the phone with Susie. She was incredibly knowledgeable, friendly, and helpful. The price with delivery was the same as the \"sale\" price of the big on-line company we all know. I\\'ll definitely use them again.', 'This place is amazing. I have ordered 3 times from them and everytime the delivery was on time and the flowers were perfect.  I recently ordered out of their range and they still accommodated me.  Highly recommend this place for your flower needs.', 'Can Always count on these guys!  Greg was great!  Better than I thought possible.  Not a huge flower person, but now I am a believer.  Thanks.', \"You guys are excellent. I ordered online for a delivery, i wasn't sure how this would turn out but my expectations were blown. If anyone has any reservations about ordering online, I can say through my experience they delivered exactly and was told these flowers were beautiful. Thank you guys again for a easy transaction. I greatly appreciate it. I feel good knowing when I order in the future, I don't have to worry if they will get delivered correctly or how they will look. Definitely a 5 star review is needed. You definitely got my business in the future.\", \"Recently sent a girlfriend some get well flowers. Unfortunately, I didn't like the first arrangement they sent to her. In my opinion it looked sparse. Although my girlfriend loved them, I wasn't happy and called the florist to complain. No questions asked, they sent her another amazing bouquet and had them delivered within the hour. I would definitely recommend this florist and will use them in the future. Can't pay for better customer service.\", \"Greg is amazing! Beautiful flowers and better than I ordered since they were out of the size vase it needed! If you're worried about ordering from out of town/state like I was (I have horror stories from dot com mass flower companies) this place will ease all your fears! I will use them every time I order flowers for friends in Vegas from now on and will be telling them to do the same!\", \"I just can't say enough how amazing this place is!! I have used them a few times, once being for my brother in laws memorial service in August. The flowers were amazing and customer service excellent. I called again when I needed to send flowers to my sister for my brother in law in heaven on their wedding anniversary, once again beautiful flowers and amazing, kind customer service. I would recomment this business to everyone for any floarl needs for any occasion. Thanks Dancing Dandelion!!!!\", \"I've ordered from many flower shops before and I was not as satisfied as I am with Dancing Dandelion.  Their flower arrangements are just too cute - my favorite one is called Another Year Rover.  It's a basket of flowers that look like a puppy.  A-DOR-A-BLE!!!\\n\\nYou can place your order online or over the phone.  I have an account with them which makes my life so much easier since I send out birthday flowers at least once a month.  They have same day delivery.  They always do a wonderful job.\", 'Ordered two of the princess paws. Greg was able to make one a boy for me. They turned out perfect! They delivered when promised as well! The customer service and quality is what makes it 5 star. I live way north west and will still utilize then in the future.', \"Greg was amazing!  He was patient and thoughtful as we discussed how to make a beautiful flower arrangement for my mom's memorial service.  \\n\\nI found all the traditional arrangements really tacky and boring; with his help we designed a gorgeous arrangement truly reflective of my mom.  It also coordinated well with all of the printed materials and we were able to incorporate my mom's clan scarf.  He also designed corsages (for my mom's sisters and best friends) with my mom's favorite flower (gardenia) that he had to special order, and then wait on me to deliver the specific tartan ribbon to incorporate into the design.  They all loved them and took special pride in wearing them.\\n\\nThey delivered the arrangement (despite it being quite a distance from their shop) and had it set before I even arrived, which was such a stress relief.  \\n\\nI cannot say enough nice things about them.  Their shop has cute little knick knacks too, and I bought a friend's birthday card and my friend bought herself a handmade art deco vase.\", 'Great service - great looking arrangements. I was just about to drive away because the front doors were locked, when the owner came back from getting a drink at a store in the same parking lot. Suggestion - leave a note on the window saying you will be back in 5 minutes. You almost  lost a sale because I was in the process of driving away when I saw you unlock the front door. Will definitely use again.', \"My grandma turned 80 years young today and I was not able to get back to Las Vegas to celebrate with my family.  I decided this morning, yes this morning to send her flowers.  I looked at yelp and narrowed it down to three places.  The dancing dandelion had great reviews and l loved that I could see examples and prices on their web page.\\n\\nI called them first to ask questions and was so excited the buck stopped here.  I decided to do the basket with the carnation dog as my grandma love loves loves dogs!  Susie told me that had one ready that was in reds and yellows.  I explained I really wanted pinks, greens and purples too and I could pay extra.  She said they could do that.\\n\\nIt was only $12 to deliver to summerlin and she said it would get there by 2pm.  I called at 10am!  I asked if there was any watt they could email me a picture.  She actually said yes!  I always get nervous ordering flowers over the phone.. Within 20 minutes she called me at work to ask if liked the picture because she did not want me to be unhappy. I can't access my personal email email and was going to check in a couple of hours on my lunch on my cell which was in my car.  She offered to send it to my work!  It was exactly what I wanted. Susie also emailed me and told me it was out for delivery!  \\n\\nMy grandma had her flowers by noon!  She was so happy and had never seen a carnation dog!  She said it made her birthday!  Thank you Susie and the dancing dandelion for helping me!  I will be coming to you for all my vegas flower needs!\", 'I needed a same day delivery and they came through with flying colors!  I would definitely order from them again!!', 'My Sonny sent me flowers and They absolutely took my breath away!! Fabulous awesome!!!', 'My friend is turning 50 in a few days and turned to Yelp to find the best florist for a special flower arrangement for her.  She lives in Las Vegas and I live in Honolulu so Yelp is a great tool to find the best business for our buck.  The great thing is you can go to the web to further research the best product for your needs.', 'I sent a cute basket of flowers with a \"dog\" made of carnations to a friend\\'s sister who is terminal with cancer and they delivered quickly to the hospital with a nice basket as requested.', \"Beautiful flowers every time!\\n\\nMy husband loves flowers and for Valentine's Day of 2017 I told The Dancing Dandelion that I needed an arrangement of blue and white flowers with some greengage for my husband. I left everything up to them and told them no Lily's. They came up with the most beautiful arrangement ever! \\n\\nSo I decided to give them another go. My mother loves sunflowers and this time I picked an arrangement from their website and asked for no Lily's. I could of done with out the autumn leafs but never the less it was gorgeous.\", \"FLOWER POWER!  I don't send flowers very often, but had two clients who lost their husbands in one week, so sad, and I wanted to reach out to them with something cheerful to send my love...  I looked at quite a few florist pages in town and really liked the Dancing Dandelion and ended up sending them each the bouquet LOVELY LILLY AND ROSE FOR FALL because of the beautiful and bright yellow and orange, and what a great combination without tons of cheap little filler like others do!\\n\\nThis was my first time ordering from them, so then I sat back and waited...\\n\\nI received calls from both women, raving about how beautiful and cheerful the arrangements were! (Sigh of relief!)  One woman even stated that earlier she received an arrangement from a family member that was so hideous in presentation that when DANCING DANDELION brought our bouquet, she took a photo of IT (instead of the hideous one) TO SEND TO HER FAMILY MEMBER to thank them for their thoughtfulness!\\n\\nDon't let your floral money be a waste, call the Dancing Dandelion like I will again and again!\", \"While planning my wedding from CA, I found this shop on Yelp! So glad I did! Greg is by far the best priced in Vegas, and does superior work! He did 10 centerpieces for us, 8 bridesmaid bouquets and a throw bouquet. I told him my budget and ideas and he made it happen! If you're looking for someone to do your wedding flowers, call Greg! The whole process was so painless and easy! He was on time, and set up and delivered everything for us! Thanks Greg! You're the best.\", \"We were so happy with our sympathy flowers for our Dad's service. Greg did an outstanding job of creating a beautiful arrangement. We were thrilled! When I was looking for a flower shop (from out of town) I loved that they were a local, family run business. They answered my questions quickly, cared about my order, were very friendly and had the flowers ready ahead of the pick up time the morning of the service. I really didn't want to work with a chain flower shop that didn't care about the result. The pricing was very reasonable and the layout of their website was great. We love the Dancing Dandelion and we will be back for more!\", 'Look NO further for a \"KNOCKOUT\" flower arrangement for a special occasion....or JUST BECAUSE!!! Greg helped me decide on a gorgeous arrangement for my son and DIL anniversary (via long distance from Houston) that they were celebrating at The Four Seasons in Las Vegas. We\\'re from Houston, so you\\'ve heard everything is bigger and better in Texas??? Well, not always!!!! The arrangement was magnificent, very fresh and a stunning addition to their celebration. Oh, and did I tell you, I placed the order noonish on a SATURDAY just when they were about to close for the weekend!! Magician Greg not only made it happen, but spent a long -long - distance phone call with me because I\\'m a perfectionist and over thinker. With a smile in his voice the entire time. Look no further!!', \"These guys are absolutely great!  They've gone out of their way for last minute deliveries for me,  have excellent customer service and they sure do put together some nice flowers! Thanks again guys!\", 'This shop is awesome. They do very high quality work and exceeded the expectations of the gift recipient. Grateful to have found such a quality, high end flower shop to use in Vegas. Thanks to Phil and Susie for the great customer service!', 'Bought some beautiful flowers online for a friend that looked like a little dog super cute! Great service and product .. will be using them again!', 'Disappointed after spending $100 for a Valentines Day floral arrangement. Roses lasted 3 days before they wilted and never opened up.', 'Needed them in a pinch and they came through. Great people running a great business!!! Support your local business owners. Also they go the extra mile with high quality flowers.', 'Our one and only florist for Las Vegas because of their customer service. \\n\\nOn a couple of occasions, they helped with custom orders, but the one order I would like to highlight is how they helped with our wedding floral. \\n\\nWhen I called and asked for fresh lavender, they said they would ask their distributor but could not guarantee this as it was not in season. After they spoke with their distributor, they were going to order from out of the country. But being as it was coming from out of the country, they could not guarantee the quality. Long story short, the fresh lavender quality was not top notch. They still made the bouquet but did not charge us full price. \\n\\nOur back up plan was using dried lavender stalks to make the bridal bouquet and this worked out perfectly. I actually like idea better because I am now using the dried lavender bouquet as a floral display at home. Every time I see it, it reminds me of our special day. \\n\\nIf you need a good florist, you should see and talk to the folks at Dancing Dandelion!', 'Greg helped me get my dream wedding bouquet in my price range. My best friend sent him emails of what I liked and spoke about what was in season and how we could accomplish the look. Very resonable very professional and nice. Compared to other shops that I called and this one lady even laughed at my budget. Thank you to Greg and his staff.', 'So i was really skeptical about ordering flowers, but i wanted someplace local for where they were being delivered.  This place had a bunch of great reviews on Yelp so i tried it.  I looked at all of the flowers online.  I though for sure these flowers are not going to look like as they do online.  I had my friend send me a pic of what she received.  And surprisingly, they looked way better than the picture online.  I was so excited.  I ordered at like 5:30 last night for next day delivery and she received around noon on the day of delivery.  They look beautiful and they did an amazing job.  I would highly recommend and will use this company again for future flower deliveries.', \"Awesome customer service! I was in a bind and needed a quick delivery and Gregory made it happen. My husband has sent me flowers from The Dancing Dandelion in the past and I have always been pleased by their gorgeous arrangements. I know today's arrangement for my assistant will not disappoint. Thanks Gregory!\", \"I wish I could give The Dancing Dandelion a 10 star rating because 5 stars doesn't cover the unbelievable experience we had with them. My mom and I had a few prior wedding floral meetings before meeting Greg, we were worn out from bad service and lack of organization- holy cow did he turn that around. Greg sat with us and truly cared and respected our wants and needs as well as our budget. We reviewed everything that I was looking for in the arch, the bouquets, the pedals down the aisle, the table displays, the cake, etc. and Greg and his team nailed it. The attention to detail was impeccable,  not one thing was overlooked. Thank you so much for making our vision come to life!!!\", 'Super friendly service!!! there was a good amount of available cheap ($10) flower arrangements to $80+. not a huge selection but enough to fit my needs on short notice.']\n"
     ]
    }
   ],
   "source": [
    "#test the function\n",
    "extracted_review = extract_reviews(selected_id_str)\n",
    "#print out the reviews for the store id selected \n",
    "print(extracted_review)"
   ]
  },
  {
   "cell_type": "markdown",
   "id": "56b643cd",
   "metadata": {},
   "source": [
    "# Use spacy nlp to tokenize and pos tag each text"
   ]
  },
  {
   "cell_type": "code",
   "execution_count": 15,
   "id": "03af7ab9",
   "metadata": {},
   "outputs": [],
   "source": [
    "#use spacy library to process the text extracted\n",
    "def spacy_process(input_list: list):\n",
    "    final_result = []\n",
    "    #use nlp which is a spacy in-built function which will return the text and doc which is in token datatype\n",
    "    doc = nlp(str(input_list))\n",
    "    #token consists of text and its pos tags\n",
    "    for token in doc:\n",
    "        result = []\n",
    "        result.append(token.text)\n",
    "        result.append(token.pos_)\n",
    "        final_result.append(result)\n",
    "    return final_result,doc"
   ]
  },
  {
   "cell_type": "code",
   "execution_count": 16,
   "id": "f189d750",
   "metadata": {},
   "outputs": [],
   "source": [
    "#test the function\n",
    "processed_review,result_doc = spacy_process(extracted_review)"
   ]
  },
  {
   "cell_type": "code",
   "execution_count": 17,
   "id": "46a58ac4",
   "metadata": {},
   "outputs": [
    {
     "name": "stdout",
     "output_type": "stream",
     "text": [
      "[['[', 'PUNCT'], [\"'\", 'PUNCT'], ['This', 'DET'], ['place', 'NOUN'], ['has', 'VERB'], ['very', 'ADV'], ['high', 'ADJ'], ['quality', 'NOUN'], ['flowers', 'NOUN'], ['.', 'PUNCT'], ['All', 'DET'], ['florists', 'NOUN'], ['are', 'AUX'], ['pretty', 'ADV'], ['dang', 'ADJ'], ['expensive', 'ADJ'], [',', 'PUNCT'], ['so', 'CCONJ'], ['you', 'PRON'], ['have', 'VERB'], ['to', 'PART'], ['expect', 'VERB'], ['that', 'SCONJ'], ['going', 'VERB'], ['in', 'ADP'], ['.', 'PUNCT'], ['But', 'CCONJ'], ['the', 'DET'], ['$', 'SYM'], ['180', 'NUM'], ['bouquet', 'NOUN'], ['lasted', 'VERB'], ['at', 'ADV'], ['least', 'ADV'], ['10', 'NUM'], ['days', 'NOUN'], ['looking', 'VERB'], ['amazing', 'ADJ'], ['and', 'CCONJ'], ['another', 'DET'], ['5', 'NUM'], ['looking', 'VERB'], ['decent.\\\\n\\\\nThe', 'NOUN'], ['owner', 'NOUN'], ['was', 'VERB'], ['very', 'ADV'], ['pleasant', 'ADJ'], ['and', 'CCONJ'], ['answered', 'VERB'], ['my', 'PRON'], ['questions.\\\\n\\\\nI', 'NOUN'], ['will', 'AUX'], ['definitely', 'ADV'], ['use', 'VERB'], ['this', 'DET'], ['florist', 'NOUN'], ['every', 'DET'], ['time', 'NOUN'], ['in', 'ADP'], ['the', 'DET'], ['future', 'NOUN'], ['.', 'PUNCT'], [\"'\", 'PUNCT'], [',', 'PUNCT'], ['\"', 'PUNCT'], ['Thank', 'VERB'], ['you', 'PRON'], ['!', 'PUNCT'], ['!', 'PUNCT'], ['!', 'PUNCT'], ['Greg', 'PROPN'], ['.', 'PUNCT'], ['For', 'ADP'], ['making', 'VERB'], ['up', 'ADP'], ['for', 'ADP'], ['the', 'DET'], ['last', 'ADJ'], ['batch', 'NOUN'], ['of', 'ADP'], ['bad', 'ADJ'], ['roses', 'NOUN'], ['.', 'PUNCT'], ['These', 'DET'], ['look', 'VERB'], ['10', 'NUM'], ['times', 'NOUN'], ['healthier', 'ADJ'], ['.', 'PUNCT'], ['I', 'PRON'], ['really', 'ADV'], ['appreciate', 'VERB'], ['it', 'PRON'], ['.', 'PUNCT'], ['I', 'PRON'], [\"'ll\", 'AUX'], ['definitely', 'ADV'], ['be', 'VERB'], ['a', 'DET'], ['regular', 'ADJ'], ['customer', 'NOUN'], ['.', 'PUNCT'], ['\"', 'PUNCT'], [',', 'PUNCT'], ['\"', 'PUNCT'], ['I', 'PRON'], ['went', 'VERB'], ['on', 'ADP'], ['to', 'ADP'], ['Yelp', 'NOUN'], ['to', 'PART'], ['find', 'VERB'], ['a', 'DET'], ['local', 'ADJ'], ['florist', 'NOUN'], ['in', 'ADP'], ['Las', 'PROPN'], ['Vegas', 'PROPN'], ['.', 'PUNCT'], [' ', 'SPACE'], ['I', 'PRON'], ['live', 'VERB'], ['in', 'ADP'], ['Northern', 'PROPN'], ['California', 'PROPN'], ['and', 'CCONJ'], ['wanted', 'VERB'], ['to', 'PART'], ['send', 'VERB'], ['flowers', 'NOUN'], ['to', 'ADP'], ['a', 'DET'], ['friend', 'NOUN'], ['that', 'DET'], ['just', 'ADV'], ['had', 'VERB'], ['surgery', 'NOUN'], ['.', 'PUNCT'], [' ', 'SPACE'], ['I', 'PRON'], ['did', 'AUX'], ['not', 'PART'], ['realize', 'VERB'], ['that', 'SCONJ'], ['my', 'PRON'], ['friend', 'NOUN'], ['was', 'AUX'], ['in', 'ADP'], ['ICU', 'PROPN'], ['and', 'CCONJ'], ['could', 'AUX'], [\"n't\", 'PART'], ['receive', 'VERB'], ['the', 'DET'], ['flowers', 'NOUN'], ['.', 'PUNCT'], [' ', 'SPACE'], ['Greg', 'PROPN'], [',', 'PUNCT'], ['who', 'PRON'], ['delivered', 'VERB'], ['the', 'DET'], ['flowers', 'NOUN'], ['was', 'AUX'], ['great', 'ADJ'], ['and', 'CCONJ'], ['helped', 'VERB'], ['me', 'PRON'], ['get', 'VERB'], ['the', 'DET'], ['flowers', 'NOUN'], ['to', 'ADP'], ['my', 'PRON'], ['friends', 'NOUN'], ['husband', 'NOUN'], ['.', 'PUNCT'], [' ', 'SPACE'], ['I', 'PRON'], ['highly', 'ADV'], ['recommend', 'VERB'], ['using', 'VERB'], ['this', 'DET'], ['flower', 'NOUN'], ['shop', 'NOUN'], ['!', 'PUNCT'], ['!', 'PUNCT'], ['!', 'PUNCT'], [' ', 'SPACE'], ['GREAT', 'ADJ'], ['CUSTOMER', 'PROPN'], ['SERVICE', 'PROPN'], ['!', 'PUNCT'], ['!', 'PUNCT'], ['!', 'PUNCT'], ['!', 'PUNCT'], ['\"', 'PUNCT'], [',', 'PUNCT'], [\"'\", 'PUNCT'], ['My', 'PRON'], ['wife', 'NOUN'], ['and', 'CCONJ'], ['I', 'PRON'], ['celebrated', 'VERB'], ['our', 'PRON'], ['renewal', 'NOUN'], ['of', 'ADP'], ['vows', 'NOUN'], ['in', 'ADP'], ['Las', 'PROPN'], ['Vegas', 'PROPN'], ['and', 'CCONJ'], ['hosted', 'VERB'], ['guests', 'NOUN'], ['in', 'ADP'], ['a', 'DET'], ['Bellagio', 'PROPN'], ['suite', 'NOUN'], ['.', 'PUNCT'], ['We', 'PRON'], ['found', 'VERB'], ['Dancing', 'PROPN'], ['Dandelion', 'PROPN'], ['and', 'CCONJ'], ['discussed', 'VERB'], ['what', 'PRON'], ['we', 'PRON'], ['wanted', 'VERB'], ['for', 'ADP'], ['arrangements', 'NOUN'], [',', 'PUNCT'], ['we', 'PRON'], ['actually', 'ADV'], ['supplied', 'VERB'], ['a', 'DET'], ['picture', 'NOUN'], ['of', 'ADP'], ['an', 'DET'], ['arrangement', 'NOUN'], ['and', 'CCONJ'], ['they', 'PRON'], ['matched', 'VERB'], ['it', 'PRON'], ['wonderfully', 'ADV'], ['.', 'PUNCT'], ['Our', 'PRON'], ['ten', 'NUM'], ['arrangements', 'NOUN'], ['we', 'PRON'], ['delivered', 'VERB'], ['as', 'ADP'], ['scheduled', 'VERB'], ['and', 'CCONJ'], ['our', 'PRON'], ['guests', 'NOUN'], ['complimented', 'VERB'], ['us', 'PRON'], ['on', 'ADP'], ['their', 'PRON'], ['beauty', 'NOUN'], ['.', 'PUNCT'], ['I', 'PRON'], ['would', 'AUX'], ['definitely', 'ADV'], ['recommend', 'VERB'], ['The', 'DET'], ['Dancing', 'PROPN'], ['Dandelion', 'PROPN'], ['Flower', 'PROPN'], ['Shop', 'PROPN'], ['to', 'ADP'], ['everyone', 'PRON'], ['in', 'ADP'], ['need', 'NOUN'], ['of', 'ADP'], ['floral', 'ADJ'], ['service', 'NOUN'], ['in', 'ADP'], ['Las', 'PROPN'], ['Vegas', 'PROPN'], ['.', 'PUNCT'], ['Customer', 'NOUN'], ['service', 'NOUN'], ['was', 'AUX'], ['exemplary', 'ADJ'], ['!', 'PUNCT'], [\"'\", 'PUNCT'], [',', 'PUNCT'], ['\"', 'PUNCT'], ['This', 'DET'], ['lovely', 'ADJ'], ['shop', 'NOUN'], ['is', 'AUX'], ['a', 'DET'], ['small', 'ADJ'], ['family', 'NOUN'], ['run', 'NOUN'], ['business', 'NOUN'], ['and', 'CCONJ'], ['their', 'PRON'], ['customer', 'NOUN'], ['service', 'NOUN'], ['was', 'VERB'], ['amazing', 'ADJ'], ['.', 'PUNCT'], ['I', 'PRON'], ['went', 'VERB'], ['in', 'ADP'], ['two', 'NUM'], ['days', 'NOUN'], ['before', 'ADP'], ['my', 'PRON'], ['wedding', 'NOUN'], ['to', 'PART'], ['order', 'VERB'], ['a', 'DET'], ['bouquet', 'NOUN'], ['in', 'ADP'], ['peach', 'NOUN'], ['roses', 'NOUN'], ['.', 'PUNCT'], ['They', 'PRON'], ['were', 'AUX'], ['out', 'SCONJ'], ['of', 'ADP'], ['stock', 'NOUN'], ['that', 'DET'], ['day', 'NOUN'], ['but', 'CCONJ'], ['confirmed', 'VERB'], ['a', 'DET'], ['new', 'ADJ'], ['delivery', 'NOUN'], ['the', 'DET'], ['next', 'ADJ'], ['.', 'PUNCT'], ['Friday', 'PROPN'], ['afternoon', 'NOUN'], ['I', 'PRON'], ['received', 'VERB'], ['a', 'DET'], ['call', 'NOUN'], ['that', 'SCONJ'], ['my', 'PRON'], ['order', 'NOUN'], ['was', 'VERB'], ['ready', 'ADJ'], ['to', 'PART'], ['be', 'AUX'], ['picked', 'VERB'], ['up', 'ADP'], ['on', 'ADP'], ['Saturday', 'PROPN'], ['.', 'PUNCT'], ['It', 'PRON'], ['was', 'AUX'], ['beautifully', 'ADV'], ['arranged', 'VERB'], ['and', 'CCONJ'], ['hand', 'NOUN'], ['wrapped', 'VERB'], ['in', 'ADP'], ['a', 'DET'], ['white', 'ADJ'], ['ribbon', 'NOUN'], [',', 'PUNCT'], ['which', 'DET'], ['was', 'AUX'], ['placed', 'VERB'], ['in', 'ADP'], ['a', 'DET'], ['glass', 'NOUN'], ['cylinder', 'NOUN'], ['vase', 'NOUN'], ['and', 'CCONJ'], ['white', 'ADJ'], ['box', 'NOUN'], ['for', 'ADP'], ['easy', 'ADJ'], ['transportation', 'NOUN'], ['.', 'PUNCT'], ['I', 'PRON'], ['could', 'AUX'], [\"n't\", 'PART'], ['be', 'VERB'], ['happier', 'ADJ'], ['or', 'CCONJ'], ['excited', 'ADJ'], ['for', 'ADP'], ['my', 'PRON'], ['big', 'ADJ'], ['day', 'NOUN'], ['with', 'ADP'], ['this', 'DET'], ['gorgeous', 'ADJ'], ['bouquet', 'NOUN'], ['.', 'PUNCT'], ['I', 'PRON'], ['want', 'VERB'], ['to', 'PART'], ['thank', 'VERB'], ['everyone', 'PRON'], ['at', 'ADP'], ['Dancing', 'PROPN'], ['Dandelion', 'PROPN'], ['for', 'ADP'], ['all', 'DET'], ['of', 'ADP'], ['their', 'PRON'], ['help', 'NOUN'], ['and', 'CCONJ'], ['the', 'DET'], ['work', 'NOUN'], ['that', 'DET'], ['they', 'PRON'], ['do', 'VERB'], ['.', 'PUNCT'], ['\"', 'PUNCT'], [',', 'PUNCT'], [\"'\", 'PUNCT'], ['My', 'PRON'], ['bothers', 'NOUN'], ['and', 'CCONJ'], ['I', 'PRON'], ['live', 'VERB'], ['in', 'ADP'], ['CA', 'PROPN'], ['and', 'CCONJ'], ['we', 'PRON'], ['ordered', 'VERB'], ['flowers', 'NOUN'], ['online', 'ADV'], ['since', 'SCONJ'], ['my', 'PRON'], ['mother', 'NOUN'], ['was', 'AUX'], ['hospitalized', 'VERB'], ['during', 'ADP'], ['her', 'PRON'], ['mini', 'ADJ'], ['vacation', 'NOUN'], ['in', 'ADP'], ['Vegas', 'PROPN'], ['.', 'PUNCT'], ['It', 'PRON'], ['was', 'AUX'], ['super', 'ADV'], ['easy', 'ADJ'], ['ordering', 'VERB'], ['online', 'ADV'], ['and', 'CCONJ'], ['their', 'PRON'], ['selection', 'NOUN'], ['of', 'ADP'], ['flowers', 'NOUN'], ['/', 'SYM'], ['arrangements', 'NOUN'], ['were', 'VERB'], ['so', 'ADV'], ['beautiful', 'ADJ'], ['!', 'PUNCT'], ['My', 'PRON'], ['family', 'NOUN'], ['and', 'CCONJ'], ['I', 'PRON'], ['are', 'AUX'], ['very', 'ADV'], ['pleased', 'ADJ'], ['with', 'ADP'], ['the', 'DET'], ['speedy', 'ADJ'], ['delivery', 'NOUN'], ['as', 'ADV'], ['well', 'ADV'], ['as', 'ADP'], ['how', 'ADV'], ['beautiful', 'ADJ'], ['the', 'DET'], ['arrangement', 'NOUN'], ['was', 'AUX'], ['!', 'PUNCT'], [' ', 'SPACE'], ['Another', 'DET'], ['pleased', 'ADJ'], ['customer', 'NOUN'], ['!', 'PUNCT'], [' ', 'SPACE'], ['Would', 'AUX'], ['definitely', 'ADV'], ['recommend', 'VERB'], ['!', 'PUNCT'], [\"'\", 'PUNCT'], [',', 'PUNCT'], ['\"', 'PUNCT'], ['Had', 'VERB'], ['the', 'DET'], ['most', 'ADV'], ['wonderful', 'ADJ'], ['experience', 'NOUN'], ['with', 'ADP'], ['this', 'DET'], ['quaint', 'NOUN'], ['and', 'CCONJ'], ['classy', 'ADJ'], ['flower', 'NOUN'], ['boutique', 'NOUN'], ['.', 'PUNCT'], ['The', 'DET'], ['arrangements', 'NOUN'], ['within', 'ADP'], ['the', 'DET'], ['display', 'NOUN'], ['cases', 'NOUN'], ['provided', 'VERB'], ['a', 'DET'], ['variety', 'NOUN'], ['of', 'ADP'], ['options', 'NOUN'], ['to', 'PART'], ['impact', 'VERB'], ['the', 'DET'], [' ', 'SPACE'], ['buyer', 'NOUN'], [\"'s\", 'PART'], ['experience', 'NOUN'], ['.', 'PUNCT'], ['Upon', 'SCONJ'], ['choosing', 'VERB'], ['my', 'PRON'], ['preferred', 'ADJ'], ['arrangement', 'NOUN'], ['as', 'ADP'], ['a', 'DET'], ['gift', 'NOUN'], ['for', 'ADP'], ['a', 'DET'], ['friend', 'NOUN'], [',', 'PUNCT'], ['the', 'DET'], ['florist', 'NOUN'], ['ensured', 'VERB'], ['the', 'DET'], ['arrangement', 'NOUN'], [\"'s\", 'PART'], [' ', 'SPACE'], ['longevity', 'NOUN'], ['by', 'ADP'], ['substituting', 'VERB'], ['pieces', 'NOUN'], ['as', 'ADP'], ['needed.\\\\n\\\\nI', 'ADJ'], ['love', 'NOUN'], ['shopping', 'VERB'], ['with', 'ADP'], ['local', 'ADJ'], ['businesses', 'NOUN'], ['and', 'CCONJ'], ['can', 'AUX'], ['confidently', 'ADV'], ['endorse', 'VERB'], ['this', 'DET'], ['shop', 'NOUN'], ['as', 'ADP'], ['honest', 'ADJ'], [',', 'PUNCT'], ['creative', 'ADJ'], [',', 'PUNCT'], ['affordable', 'ADJ'], [',', 'PUNCT'], ['and', 'CCONJ'], ['charming', 'ADJ'], ['.', 'PUNCT'], ['I', 'PRON'], ['appreciate', 'VERB'], ['their', 'PRON'], ['kindness', 'NOUN'], ['and', 'CCONJ'], ['will', 'AUX'], ['definitely', 'ADV'], ['shop', 'VERB'], ['with', 'ADP'], ['them', 'PRON'], ['going', 'VERB'], ['forward', 'ADV'], ['.', 'PUNCT'], ['\\\\n\\\\nIf', 'INTJ'], ['you', 'PRON'], ['are', 'AUX'], ['looking', 'VERB'], ['for', 'ADP'], ['a', 'DET'], ['creative', 'ADJ'], ['local', 'ADJ'], ['business', 'NOUN'], ['with', 'ADP'], ['wonderful', 'ADJ'], ['service', 'NOUN'], ['and', 'CCONJ'], ['great', 'ADJ'], ['quality', 'NOUN'], [',', 'PUNCT'], ['please', 'INTJ'], ['be', 'VERB'], ['sure', 'ADJ'], ['to', 'PART'], ['visit', 'VERB'], ['this', 'DET'], ['florist', 'NOUN'], ['.', 'PUNCT'], ['\"', 'PUNCT'], [',', 'PUNCT'], [\"'\", 'PUNCT'], ['Very', 'ADV'], ['bad', 'ADJ'], ['service', 'NOUN'], ['.', 'PUNCT'], ['Did', 'AUX'], ['not', 'PART'], ['deliver', 'VERB'], ['what', 'PRON'], ['I', 'PRON'], ['ordered', 'VERB'], ['.', 'PUNCT'], ['When', 'ADV'], ['I', 'PRON'], ['let', 'VERB'], ['them', 'PRON'], ['know', 'VERB'], [',', 'PUNCT'], ['I', 'PRON'], ['was', 'AUX'], ['treated', 'VERB'], ['extremely', 'ADV'], ['rude', 'ADJ'], ['.', 'PUNCT'], ['Will', 'AUX'], ['never', 'ADV'], ['use', 'VERB'], ['this', 'DET'], ['company', 'NOUN'], ['again', 'ADV'], ['.', 'PUNCT'], [\"'\", 'PUNCT'], [',', 'PUNCT'], [\"'\", 'PUNCT'], ['Great', 'ADJ'], ['website', 'NOUN'], [',', 'PUNCT'], ['great', 'ADJ'], ['customer', 'NOUN'], ['service', 'NOUN'], ['and', 'CCONJ'], ['the', 'DET'], ['most', 'ADV'], ['beautiful', 'ADJ'], [',', 'PUNCT'], ['creative', 'ADJ'], ['and', 'CCONJ'], ['innovative', 'ADJ'], ['flower', 'NOUN'], ['arrangements', 'NOUN'], ['.', 'PUNCT'], [' ', 'SPACE'], ['Personal', 'ADJ'], ['follow', 'VERB'], ['up', 'ADP'], ['on', 'ADP'], ['the', 'DET'], ['phone', 'NOUN'], ['after', 'ADP'], ['placing', 'VERB'], ['the', 'DET'], ['order', 'NOUN'], ['online', 'ADV'], ['was', 'AUX'], ['a', 'DET'], ['big', 'ADJ'], ['plus', 'NOUN'], [',', 'PUNCT'], ['and', 'CCONJ'], ['the', 'DET'], ['suggestions', 'NOUN'], ['made', 'VERB'], ['by', 'ADP'], ['the', 'DET'], ['customer', 'NOUN'], ['service', 'NOUN'], ['rep', 'PROPN'], ['made', 'VERB'], ['the', 'DET'], ['arrangement', 'NOUN'], ['even', 'ADV'], ['more', 'ADV'], ['impressive', 'ADJ'], ['.', 'PUNCT'], ['Great', 'ADJ'], ['to', 'PART'], ['work', 'VERB'], ['with', 'ADP'], ['!', 'PUNCT'], [\"'\", 'PUNCT'], [',', 'PUNCT'], [\"'\", 'PUNCT'], ['I', 'PRON'], ['called', 'VERB'], ['in', 'ADP'], ['to', 'PART'], ['order', 'VERB'], ['flowers', 'NOUN'], ['from', 'ADP'], ['out', 'SCONJ'], ['of', 'ADP'], ['state', 'NOUN'], ['and', 'CCONJ'], ['Rosie', 'PROPN'], ['was', 'VERB'], ['so', 'ADV'], ['friendly', 'ADJ'], ['&', 'CCONJ'], ['helpful', 'ADJ'], ['.', 'PUNCT'], ['She', 'PRON'], ['patiently', 'ADV'], ['answered', 'VERB'], ['all', 'DET'], ['my', 'PRON'], ['questions', 'NOUN'], ['and', 'CCONJ'], ['gave', 'VERB'], ['helpful', 'ADJ'], ['suggestions', 'NOUN'], ['.', 'PUNCT'], ['They', 'PRON'], ['delivered', 'VERB'], ['the', 'DET'], ['beautiful', 'ADJ'], ['bouquet', 'NOUN'], ['within', 'ADP'], ['a', 'DET'], ['couple', 'NOUN'], ['of', 'ADP'], ['hours', 'NOUN'], ['of', 'ADP'], ['me', 'PRON'], ['placing', 'VERB'], ['my', 'PRON'], ['order', 'NOUN'], ['.', 'PUNCT'], ['The', 'DET'], ['bouquet', 'NOUN'], ['was', 'AUX'], ['exactly', 'ADV'], ['what', 'PRON'], ['I', 'PRON'], ['asked', 'VERB'], ['for', 'ADP'], ['!', 'PUNCT'], ['!', 'PUNCT'], ['Definitely', 'ADV'], ['will', 'AUX'], ['be', 'AUX'], ['using', 'VERB'], ['this', 'DET'], ['flower', 'NOUN'], ['shop', 'NOUN'], ['again', 'ADV'], ['.', 'PUNCT'], ['They', 'PRON'], ['have', 'VERB'], [' ', 'SPACE'], ['reasonable', 'ADJ'], ['prices', 'NOUN'], ['also', 'ADV'], ['.', 'PUNCT'], ['Thank', 'VERB'], ['you', 'PRON'], ['Rosie', 'PROPN'], ['!', 'PUNCT'], ['!', 'PUNCT'], [\"'\", 'PUNCT'], [',', 'PUNCT'], [\"'\", 'PUNCT'], ['Not', 'PART'], ['the', 'DET'], ['cheapest', 'ADJ'], ['but', 'CCONJ'], ['beautiful', 'ADJ'], ['arrangements', 'NOUN'], [',', 'PUNCT'], ['reliable', 'ADJ'], ['delivery', 'NOUN'], ['.', 'PUNCT'], [' ', 'SPACE'], ['Flowers', 'NOUN'], ['lasting', 'VERB'], ['is', 'AUX'], ['a', 'DET'], ['function', 'NOUN'], ['of', 'ADP'], ['room', 'NOUN'], ['temperature', 'NOUN'], ['as', 'ADV'], ['much', 'ADV'], ['as', 'ADP'], ['anything', 'PRON'], [',', 'PUNCT'], ['not', 'PART'], ['easy', 'ADV'], ['here', 'ADV'], ['in', 'ADP'], ['Vegas', 'PROPN'], ['.', 'PUNCT'], [' ', 'SPACE'], ['The', 'DET'], ['only', 'ADJ'], ['place', 'NOUN'], ['I', 'PRON'], ['will', 'AUX'], ['order', 'VERB'], ['flowers', 'NOUN'], ['from', 'ADP'], ['for', 'ADP'], ['Vegas', 'PROPN'], ['delivery', 'NOUN'], ['.', 'PUNCT'], [\"'\", 'PUNCT'], [',', 'PUNCT'], [\"'\", 'PUNCT'], ['Repeat', 'VERB'], ['customer', 'NOUN'], ['due', 'ADP'], ['to', 'ADP'], ['always', 'ADV'], ['great', 'ADJ'], ['service', 'NOUN'], ['.', 'PUNCT'], [' ', 'SPACE'], ['The', 'DET'], ['arrangements', 'NOUN'], ['they', 'PRON'], ['make', 'VERB'], ['are', 'AUX'], ['GREAT', 'ADJ'], ['!', 'PUNCT'], [' ', 'SPACE'], ['Visited', 'VERB'], ['easily', 'ADV'], ['a', 'DET'], ['dozen', 'NOUN'], ['times', 'NOUN'], ['.', 'PUNCT'], [\"'\", 'PUNCT'], [',', 'PUNCT'], ['\"', 'PUNCT'], ['Needed', 'VERB'], ['flowers', 'NOUN'], ['to', 'PART'], ['go', 'VERB'], ['to', 'ADP'], ['hospital', 'NOUN'], ['same', 'ADJ'], ['day', 'NOUN'], ['.', 'PUNCT'], ['All', 'DET'], ['flower', 'NOUN'], ['sites', 'NOUN'], ['online', 'ADV'], ['could', 'AUX'], [\"n't\", 'PART'], ['do', 'VERB'], ['it', 'PRON'], ['.', 'PUNCT'], ['Called', 'VERB'], ['and', 'CCONJ'], ['Greg', 'PROPN'], ['texted', 'VERB'], ['me', 'PRON'], ['pictures', 'NOUN'], ['of', 'ADP'], ['3', 'NUM'], ['beautiful', 'ADJ'], ['arrangements', 'NOUN'], ['and', 'CCONJ'], ['hand', 'NOUN'], ['delivered', 'VERB'], ['on', 'ADP'], ['his', 'PRON'], ['way', 'NOUN'], ['home', 'ADV'], ['.', 'PUNCT'], ['Good', 'ADJ'], ['customer', 'NOUN'], ['service', 'NOUN'], ['is', 'AUX'], ['so', 'ADV'], ['rare', 'ADJ'], ['I', 'PRON'], ['give', 'VERB'], ['them', 'PRON'], ['an', 'DET'], ['A+++', 'PROPN'], ['\"', 'PUNCT'], [',', 'PUNCT'], ['\"', 'PUNCT'], ['Very', 'ADV'], ['nice', 'ADJ'], ['and', 'CCONJ'], ['friendly', 'ADJ'], ['local', 'ADJ'], ['florist', 'NOUN'], ['.', 'PUNCT'], ['Beautiful', 'ADJ'], ['arrangements', 'NOUN'], ['made', 'VERB'], ['as', 'ADP'], [\"well.\\\\nI've\", 'PROPN'], ['been', 'VERB'], ['here', 'ADV'], ['several', 'ADJ'], ['times', 'NOUN'], ['and', 'CCONJ'], ['the', 'DET'], ['prices', 'NOUN'], ['are', 'AUX'], ['good', 'ADJ'], [',', 'PUNCT'], ['the', 'DET'], ['service', 'NOUN'], ['is', 'AUX'], ['excellent', 'ADJ'], [\"too.\\\\nI'd\", 'ADP'], ['rather', 'ADV'], ['go', 'VERB'], ['to', 'ADP'], ['a', 'DET'], ['local', 'ADJ'], ['florist', 'NOUN'], ['than', 'SCONJ'], ['deal', 'VERB'], ['with', 'ADP'], ['800', 'NUM'], ['-', 'PUNCT'], ['flowers', 'NOUN'], ['.', 'PUNCT'], ['That', 'DET'], ['place', 'NOUN'], ['sucks.\\\\nOwner', 'PROPN'], ['is', 'AUX'], ['extremely', 'ADV'], ['friendly', 'ADJ'], ['and', 'CCONJ'], ['helpful.\\\\nTip', 'PRON'], ['I', 'PRON'], ['learned', 'VERB'], [',', 'PUNCT'], ['keep', 'VERB'], ['your', 'PRON'], ['flowers', 'NOUN'], ['in', 'ADP'], ['the', 'DET'], ['fridge', 'NOUN'], ['if', 'SCONJ'], ['you', 'PRON'], ['are', 'VERB'], ['at', 'ADP'], ['work', 'NOUN'], ['all', 'DET'], ['day', 'NOUN'], ['.', 'PUNCT'], ['It', 'PRON'], ['will', 'AUX'], ['keep', 'VERB'], ['them', 'PRON'], ['longer', 'ADV'], ['!', 'PUNCT'], ['\"', 'PUNCT'], [',', 'PUNCT'], [\"'\", 'PUNCT'], ['This', 'DET'], ['is', 'AUX'], ['a', 'DET'], ['warm', 'ADJ'], ['and', 'CCONJ'], ['friendly', 'ADJ'], ['run', 'VERB'], ['business', 'NOUN'], ['.', 'PUNCT'], ['The', 'DET'], ['owners', 'NOUN'], ['are', 'AUX'], ['very', 'ADV'], ['personable', 'ADJ'], ['and', 'CCONJ'], ['you', 'PRON'], ['can', 'AUX'], ['tell', 'VERB'], ['they', 'PRON'], ['enjoy', 'VERB'], ['what', 'PRON'], ['they', 'PRON'], ['do', 'VERB'], ['.', 'PUNCT'], ['The', 'DET'], ['flowers', 'NOUN'], ['are', 'AUX'], ['fresh', 'ADJ'], [',', 'PUNCT'], ['I', 'PRON'], ['know', 'VERB'], ['this', 'DET'], ['through', 'ADP'], ['our', 'PRON'], ['conversation', 'NOUN'], ['and', 'CCONJ'], ['saw', 'VERB'], ['them', 'PRON'], ['bringing', 'VERB'], ['in', 'ADP'], ['flowers', 'NOUN'], ['from', 'ADP'], ['the', 'DET'], ['flower', 'NOUN'], ['market', 'NOUN'], ['a', 'DET'], ['minute', 'NOUN'], ['after', 'ADP'], ['our', 'PRON'], ['discussion', 'NOUN'], ['..', 'PUNCT'], ['lol', 'NOUN'], ['and', 'CCONJ'], ['the', 'DET'], ['best', 'ADJ'], ['reason', 'NOUN'], ['you', 'PRON'], ['should', 'AUX'], ['visit', 'VERB'], ['them', 'PRON'], ['is', 'AUX'], ['the', 'DET'], ['great', 'ADJ'], ['pricing', 'NOUN'], ['!', 'PUNCT'], ['I', 'PRON'], ['found', 'VERB'], ['my', 'PRON'], ['go', 'NOUN'], ['to', 'PART'], ['florist', 'VERB'], [',', 'PUNCT'], ['definitely', 'ADV'], ['will', 'AUX'], ['be', 'VERB'], ['back', 'ADV'], ['!', 'PUNCT'], [\"'\", 'PUNCT'], [',', 'PUNCT'], ['\"', 'PUNCT'], ['I', 'PRON'], ['ordered', 'VERB'], ['a', 'DET'], ['rose', 'ADJ'], ['gift', 'NOUN'], ['box', 'NOUN'], ['for', 'ADP'], ['someone', 'PRON'], ['to', 'PART'], ['show', 'VERB'], ['my', 'PRON'], ['appreciation', 'NOUN'], ['for', 'ADP'], ['all', 'DET'], ['she', 'PRON'], ['has', 'AUX'], ['done', 'VERB'], ['for', 'ADP'], ['me', 'PRON'], ['at', 'ADP'], ['work', 'NOUN'], ['as', 'ADV'], ['well', 'ADV'], ['as', 'ADP'], ['for', 'ADP'], ['my', 'PRON'], ['family', 'NOUN'], ['and', 'CCONJ'], ['added', 'VERB'], ['chocolates', 'NOUN'], ['and', 'CCONJ'], ['the', 'DET'], ['next', 'ADJ'], ['day', 'NOUN'], ['by', 'ADP'], ['noon', 'NOUN'], ['they', 'PRON'], ['delivered', 'VERB'], ['a', 'DET'], ['beautifully', 'ADV'], ['done', 'VERB'], ['arrangement', 'NOUN'], ['with', 'ADP'], ['delectable', 'ADJ'], ['chocolates', 'NOUN'], ['.', 'PUNCT'], ['She', 'PRON'], ['was', 'AUX'], ['so', 'ADV'], ['appreciative', 'ADJ'], ['and', 'CCONJ'], ['so', 'ADV'], ['happy', 'ADJ'], ['I', 'PRON'], ['chose', 'VERB'], ['the', 'DET'], ['pink', 'ADJ'], ['roses', 'NOUN'], ['.', 'PUNCT'], ['I', 'PRON'], [\"'ll\", 'AUX'], ['definitely', 'ADV'], ['use', 'VERB'], ['them', 'PRON'], ['again', 'ADV'], ['in', 'ADP'], ['the', 'DET'], ['future', 'NOUN'], ['.', 'PUNCT'], ['\"', 'PUNCT'], [',', 'PUNCT'], ['\"', 'PUNCT'], ['I', 'PRON'], [\"'ve\", 'AUX'], ['been', 'VERB'], ['on', 'ADP'], ['the', 'DET'], ['receiving', 'VERB'], ['end', 'NOUN'], ['of', 'ADP'], ['Dancing', 'PROPN'], ['Dandelion', 'PROPN'], [\"'s\", 'PART'], ['beautiful', 'ADJ'], ['floral', 'ADJ'], ['arrangements', 'NOUN'], ['.', 'PUNCT'], [' ', 'SPACE'], ['My', 'PRON'], ['husband', 'NOUN'], ['has', 'AUX'], ['used', 'VERB'], ['them', 'PRON'], ['exclusively', 'ADV'], ['for', 'ADP'], ['the', 'DET'], ['past', 'ADJ'], ['1', 'NUM'], ['1/2', 'NUM'], ['years', 'NOUN'], ['for', 'ADP'], ['Birthday', 'NOUN'], [',', 'PUNCT'], ['Anniversary', 'NOUN'], ['or', 'CCONJ'], ['special', 'ADJ'], ['occasions', 'NOUN'], ['.', 'PUNCT'], [' ', 'SPACE'], ['Each', 'DET'], ['arrangement', 'NOUN'], ['is', 'AUX'], ['unique', 'ADJ'], ['and', 'CCONJ'], ['beautiful', 'ADJ'], ['.', 'PUNCT'], [' ', 'SPACE'], ['The', 'DET'], ['arrangement', 'NOUN'], ['I', 'PRON'], ['recently', 'ADV'], ['received', 'VERB'], ['for', 'ADP'], ['my', 'PRON'], ['Birthday', 'NOUN'], ['is', 'AUX'], ['especially', 'ADV'], ['nice', 'ADJ'], ['.', 'PUNCT'], [' ', 'SPACE'], ['Lots', 'NOUN'], ['of', 'ADP'], ['bright', 'ADJ'], ['vibrant', 'ADJ'], ['flowers', 'NOUN'], ['that', 'DET'], ['are', 'VERB'], ['just', 'ADV'], ['stunning', 'ADJ'], ['.', 'PUNCT'], [' ', 'SPACE'], ['In', 'ADP'], ['the', 'DET'], ['past', 'NOUN'], ['we', 'PRON'], ['used', 'VERB'], ['Tiger', 'PROPN'], ['Lily', 'PROPN'], ['but', 'CCONJ'], ['became', 'VERB'], ['increasingly', 'ADV'], ['frustrated', 'ADJ'], ['at', 'ADP'], ['what', 'PRON'], ['we', 'PRON'], ['received', 'VERB'], ['for', 'ADP'], ['the', 'DET'], ['price', 'NOUN'], ['.', 'PUNCT'], ['Often', 'ADV'], ['the', 'DET'], ['arrangements', 'NOUN'], ['were', 'AUX'], ['very', 'ADV'], ['small', 'ADJ'], ['with', 'ADP'], ['very', 'ADV'], ['few', 'ADJ'], ['flowers', 'NOUN'], ['and', 'CCONJ'], ['lots', 'NOUN'], ['of', 'ADP'], ['filler', 'NOUN'], ['.', 'PUNCT'], [' ', 'SPACE'], ['Since', 'SCONJ'], ['we', 'PRON'], ['found', 'VERB'], ['Dancing', 'PROPN'], ['Dandelion', 'NOUN'], ['we', 'PRON'], ['could', 'AUX'], [\"n't\", 'PART'], ['be', 'VERB'], ['happier', 'ADJ'], ['!', 'PUNCT'], ['\"', 'PUNCT'], [',', 'PUNCT'], ['\"', 'PUNCT'], ['Quite', 'ADV'], ['simply', 'ADV'], ['the', 'DET'], ['best', 'ADJ'], ['customer', 'NOUN'], ['service', 'NOUN'], ['I', 'PRON'], [\"'ve\", 'AUX'], ['ever', 'ADV'], ['experienced', 'VERB'], ['.', 'PUNCT'], ['And', 'CCONJ'], ['their', 'PRON'], ['floral', 'ADJ'], ['arrangements', 'NOUN'], ['are', 'AUX'], ['out', 'SCONJ'], ['of', 'ADP'], ['this', 'DET'], ['world', 'NOUN'], ['.', 'PUNCT'], ['Truly', 'ADV'], ['spectacular', 'ADJ'], ['people', 'NOUN'], ['to', 'PART'], ['do', 'VERB'], ['business', 'NOUN'], ['with', 'ADP'], ['!', 'PUNCT'], ['\"', 'PUNCT'], [',', 'PUNCT'], ['\"', 'PUNCT'], ['Local', 'ADJ'], ['florist', 'NOUN'], ['with', 'ADP'], ['beautiful', 'ADJ'], ['flowers', 'NOUN'], ['and', 'CCONJ'], ['friendly', 'ADJ'], ['helpful', 'ADJ'], ['staff', 'NOUN'], ['.', 'PUNCT'], ['I', 'PRON'], ['wo', 'AUX'], [\"n't\", 'PART'], ['go', 'VERB'], ['anywhere', 'ADV'], ['else', 'ADV'], ['!', 'PUNCT'], ['\"', 'PUNCT'], [',', 'PUNCT'], ['\"', 'PUNCT'], ['I', 'PRON'], [\"'ve\", 'AUX'], ['ordered', 'VERB'], ['flowers', 'NOUN'], ['from', 'ADP'], ['them', 'PRON'], ['twice', 'ADV'], ['and', 'CCONJ'], ['both', 'DET'], ['times', 'NOUN'], ['they', 'PRON'], ['have', 'AUX'], ['been', 'VERB'], ['professional', 'ADJ'], ['and', 'CCONJ'], ['a', 'DET'], ['pleasure', 'NOUN'], ['to', 'PART'], ['work', 'VERB'], ['with', 'ADP'], ['.', 'PUNCT'], ['the', 'DET'], ['flowers', 'NOUN'], ['are', 'AUX'], ['beautiful', 'ADJ'], ['and', 'CCONJ'], ['my', 'PRON'], ['wife', 'NOUN'], ['has', 'AUX'], ['loved', 'VERB'], ['them', 'PRON'], ['.', 'PUNCT'], ['Greg', 'PROPN'], ['had', 'AUX'], ['said', 'VERB'], ['they', 'PRON'], ['probably', 'ADV'], ['would', 'AUX'], [\"n't\", 'PART'], ['be', 'VERB'], ['able', 'ADJ'], ['to', 'PART'], ['deliver', 'VERB'], ['them', 'PRON'], ['since', 'SCONJ'], ['my', 'PRON'], ['wife', 'NOUN'], ['works', 'VERB'], ['at', 'ADP'], ['the', 'DET'], ['airport', 'NOUN'], ['and', 'CCONJ'], ['they', 'PRON'], ['had', 'VERB'], ['hundreds', 'NOUN'], ['of', 'ADP'], ['deliveries', 'NOUN'], ['that', 'DET'], ['day', 'NOUN'], ['but', 'CCONJ'], ['they', 'PRON'], ['were', 'VERB'], ['able', 'ADJ'], ['to', 'PART'], ['walk', 'VERB'], ['them', 'PRON'], ['to', 'ADP'], ['her', 'PRON'], ['at', 'ADP'], ['her', 'PRON'], ['desk', 'NOUN'], ['.', 'PUNCT'], ['They', 'PRON'], ['exceed', 'VERB'], ['expectations', 'NOUN'], ['and', 'CCONJ'], ['I', 'PRON'], ['will', 'AUX'], ['always', 'ADV'], ['buy', 'VERB'], ['my', 'PRON'], ['flowers', 'NOUN'], ['from', 'ADP'], ['them', 'PRON'], ['.', 'PUNCT'], ['\"', 'PUNCT'], [',', 'PUNCT'], ['\"', 'PUNCT'], ['My', 'PRON'], ['girl', 'NOUN'], ['was', 'AUX'], ['upset', 'ADJ'], ['that', 'SCONJ'], ['I', 'PRON'], ['never', 'ADV'], ['give', 'VERB'], ['her', 'PRON'], ['flowers', 'NOUN'], [',', 'PUNCT'], ['(', 'PUNCT'], ['even', 'ADV'], ['though', 'SCONJ'], ['when', 'ADV'], ['we', 'PRON'], ['first', 'ADV'], ['met', 'VERB'], [',', 'PUNCT'], ['she', 'PRON'], ['told', 'VERB'], ['me', 'PRON'], ['she', 'PRON'], ['did', 'AUX'], [\"n't\", 'PART'], ['like', 'VERB'], ['flowers', 'NOUN'], [')', 'PUNCT'], [' ', 'SPACE'], ['So', 'ADV'], ['I', 'PRON'], ['came', 'VERB'], ['here', 'ADV'], ['and', 'CCONJ'], ['was', 'VERB'], ['very', 'ADV'], ['impressed', 'ADJ'], ['by', 'ADP'], ['their', 'PRON'], ['selection', 'NOUN'], ['.', 'PUNCT'], ['\"', 'PUNCT'], [',', 'PUNCT'], ['\"', 'PUNCT'], ['They', 'PRON'], ['really', 'ADV'], ['go', 'VERB'], ['the', 'DET'], ['extra', 'ADJ'], ['step', 'NOUN'], ['to', 'PART'], ['accommodate', 'VERB'], ['customers', 'NOUN'], ['desires', 'NOUN'], ['at', 'ADP'], ['The', 'DET'], ['Dancing', 'PROPN'], ['Dandelion', 'PROPN'], ['Flower', 'PROPN'], ['Shop', 'PROPN'], ['.', 'PUNCT'], [' ', 'SPACE'], ['I', 'PRON'], [\"'ve\", 'AUX'], ['picked', 'VERB'], ['up', 'ADP'], ['flowers', 'NOUN'], ['here', 'ADV'], ['on', 'ADP'], ['numerous', 'ADJ'], ['occasions', 'NOUN'], ['and', 'CCONJ'], ['always', 'ADV'], ['had', 'VERB'], ['a', 'DET'], ['great', 'ADJ'], ['experience', 'NOUN'], ['!', 'PUNCT'], [' ', 'SPACE'], ['The', 'DET'], ['staff', 'NOUN'], ['is', 'AUX'], ['knowledgeable', 'ADJ'], ['and', 'CCONJ'], ['genuinely', 'ADV'], ['helpful', 'ADJ'], ['.', 'PUNCT'], [' ', 'SPACE'], ['DDFS', 'PROPN'], ['was', 'AUX'], ['easily', 'ADV'], ['able', 'ADJ'], ['to', 'PART'], ['accommodate', 'VERB'], ['special', 'ADJ'], ['requests', 'NOUN'], ['for', 'ADP'], ['me', 'PRON'], ['on', 'ADP'], ['a', 'DET'], ['couple', 'NOUN'], ['of', 'ADP'], ['instances', 'NOUN'], ['.', 'PUNCT'], ['Even', 'ADV'], ['when', 'ADV'], ['they', 'PRON'], ['did', 'AUX'], [\"n't\", 'PART'], ['have', 'VERB'], ['what', 'PRON'], ['I', 'PRON'], ['was', 'AUX'], ['looking', 'VERB'], ['for', 'ADP'], ['they', 'PRON'], ['willfully', 'ADV'], ['pointed', 'VERB'], ['me', 'PRON'], ['in', 'ADP'], ['a', 'DET'], ['helpful', 'ADJ'], ['direction', 'NOUN'], ['.', 'PUNCT'], [' ', 'SPACE'], ['\\\\n\\\\nCustomer', 'PUNCT'], ['service', 'NOUN'], ['is', 'AUX'], ['top', 'ADJ'], ['notch', 'NOUN'], ['...', 'PUNCT'], ['as', 'ADP'], ['another', 'DET'], ['example', 'NOUN'], [',', 'PUNCT'], ['for', 'ADP'], ['a', 'DET'], ['nominal', 'ADJ'], ['fee', 'NOUN'], ['they', 'PRON'], ['will', 'AUX'], ['even', 'ADV'], ['clean', 'VERB'], ['-', 'PUNCT'], ['up', 'NOUN'], ['and', 'CCONJ'], ['prepare', 'VERB'], ['potted', 'ADJ'], ['plants', 'NOUN'], ['purchased', 'VERB'], ['from', 'ADP'], ['Plant', 'PROPN'], ['Nurseries', 'PROPN'], [',', 'PUNCT'], ['Home', 'PROPN'], ['Depot', 'PROPN'], [',', 'PUNCT'], ['etc', 'X'], ['.', 'PUNCT'], ['making', 'VERB'], ['them', 'PRON'], ['gift', 'VERB'], ['ready', 'ADJ'], ['.', 'PUNCT'], [' ', 'SPACE'], ['Prices', 'NOUN'], ['are', 'AUX'], ['slightly', 'ADV'], ['above', 'ADP'], ['average', 'NOUN'], ['for', 'ADP'], ['flower', 'NOUN'], ['shops', 'NOUN'], [',', 'PUNCT'], ['but', 'CCONJ'], ['spot', 'NOUN'], ['on', 'ADP'], ['when', 'ADV'], ['you', 'PRON'], ['consider', 'VERB'], ['the', 'DET'], ['quality', 'NOUN'], ['product', 'NOUN'], ['and', 'CCONJ'], ['service', 'NOUN'], ['that', 'DET'], ['accompanies', 'VERB'], ['your', 'PRON'], ['orders', 'NOUN'], ['.', 'PUNCT'], [' ', 'SPACE'], ['\\\\n\\\\nThey', 'PRON'], ['deserve', 'VERB'], ['a', 'DET'], ['very', 'ADV'], ['strong', 'ADJ'], ['4', 'NUM'], ['Stars', 'PROPN'], ['in', 'ADP'], ['my', 'PRON'], ['book', 'NOUN'], ['.', 'PUNCT'], [' ', 'SPACE'], ['The', 'DET'], ['shop', 'NOUN'], ['is', 'VERB'], ['on', 'ADP'], ['the', 'DET'], ['small', 'ADJ'], ['side', 'NOUN'], ['and', 'CCONJ'], ['their', 'PRON'], ['on', 'ADP'], ['-', 'PUNCT'], ['hand', 'NOUN'], ['inventory', 'NOUN'], ['is', 'AUX'], ['a', 'DET'], ['little', 'ADJ'], ['limited', 'ADJ'], ['because', 'SCONJ'], ['of', 'ADP'], ['this', 'DET'], [',', 'PUNCT'], ['but', 'CCONJ'], ['if', 'SCONJ'], ['you', 'PRON'], ['can', 'AUX'], ['give', 'VERB'], ['them', 'PRON'], ['a', 'DET'], ['couple', 'NOUN'], ['of', 'ADP'], ['days', 'NOUN'], ['the', 'DET'], ['sky', 'NOUN'], [\"'s\", 'VERB'], ['the', 'DET'], ['limit', 'NOUN'], ['.', 'PUNCT'], ['\"', 'PUNCT'], [',', 'PUNCT'], [\"'\", 'PUNCT'], ['Another', 'DET'], ['5', 'NUM'], ['stars', 'NOUN'], ['for', 'ADP'], ['Dancing', 'PROPN'], ['Dandelion', 'PROPN'], ['for', 'ADP'], ['their', 'PRON'], ['excellent', 'ADJ'], ['service', 'NOUN'], ['yesterday', 'NOUN'], ['.', 'PUNCT'], [' ', 'SPACE'], ['I', 'PRON'], ['had', 'VERB'], ['to', 'PART'], ['change', 'VERB'], ['delivery', 'NOUN'], ['instructions', 'NOUN'], ['at', 'ADP'], ['the', 'DET'], ['last', 'ADJ'], ['minute', 'NOUN'], ['(', 'PUNCT'], ['I', 'PRON'], ['felt', 'VERB'], ['bad', 'ADJ'], ['about', 'ADP'], ['this', 'DET'], ['but', 'CCONJ'], ['I', 'PRON'], ['had', 'VERB'], ['no', 'DET'], ['choice', 'NOUN'], [')', 'PUNCT'], ['.', 'PUNCT'], [' ', 'SPACE'], ['The', 'DET'], ['lady', 'NOUN'], ['I', 'PRON'], ['was', 'AUX'], ['talking', 'VERB'], ['to', 'ADP'], ['on', 'ADP'], ['the', 'DET'], ['phone', 'NOUN'], ['was', 'AUX'], ['very', 'ADV'], ['calm', 'ADJ'], ['and', 'CCONJ'], ['patient', 'ADJ'], ['.', 'PUNCT'], [' ', 'SPACE'], ['She', 'PRON'], ['told', 'VERB'], ['me', 'PRON'], ['thay', 'PROPN'], ['can', 'AUX'], ['make', 'VERB'], ['changes', 'NOUN'], ['to', 'ADP'], ['my', 'PRON'], ['order', 'NOUN'], ['if', 'SCONJ'], ['I', 'PRON'], ['was', 'VERB'], ['ok', 'ADJ'], ['with', 'ADP'], ['them', 'PRON'], ['substituting', 'VERB'], ['pink', 'ADJ'], ['lillies', 'NOUN'], ['with', 'ADP'], ['white', 'ADJ'], ['ones', 'NOUN'], ['.', 'PUNCT'], [' ', 'SPACE'], ['The', 'DET'], ['arrangement', 'NOUN'], ['looked', 'VERB'], ['fantastic', 'ADJ'], ['!', 'PUNCT'], [\"'\", 'PUNCT'], [',', 'PUNCT'], [\"'\", 'PUNCT'], ['They', 'PRON'], ['are', 'AUX'], ['The', 'DET'], ['Best', 'PROPN'], ['!', 'PUNCT'], ['!', 'PUNCT'], ['!', 'PUNCT'], ['I', 'PRON'], ['rushed', 'VERB'], ['over', 'ADV'], ['to', 'ADP'], ['a', 'DET'], ['different', 'ADJ'], ['flower', 'NOUN'], ['place', 'NOUN'], ['that', 'DET'], ['was', 'VERB'], ['closer', 'ADJ'], ['to', 'ADP'], ['me', 'PRON'], ['yesterday', 'NOUN'], ['before', 'ADP'], ['the', 'DET'], ['posted', 'VERB'], ['closing', 'NOUN'], ['time', 'NOUN'], ['on', 'ADP'], ['Yelp', 'PROPN'], ['(', 'PUNCT'], ['6', 'NUM'], ['pm', 'NOUN'], [')', 'PUNCT'], [',', 'PUNCT'], ['the', 'DET'], ['Flower', 'PROPN'], ['Garden', 'PROPN'], [',', 'PUNCT'], ['and', 'CCONJ'], ['the', 'DET'], ['place', 'NOUN'], ['was', 'VERB'], ['totally', 'ADV'], ['empty', 'ADJ'], ['and', 'CCONJ'], ['obviously', 'ADV'], ['out', 'SCONJ'], ['of', 'ADP'], ['business', 'NOUN'], ['.', 'PUNCT'], ['So', 'ADV'], ['I', 'PRON'], ['rushed', 'VERB'], ['over', 'ADP'], ['to', 'ADP'], ['the', 'DET'], ['next', 'ADJ'], ['closest', 'ADJ'], ['place', 'NOUN'], [',', 'PUNCT'], ['the', 'DET'], ['Dancing', 'PROPN'], ['Dandelion', 'PROPN'], [',', 'PUNCT'], ['and', 'CCONJ'], ['got', 'VERB'], ['there', 'ADV'], ['5', 'NUM'], ['minutes', 'NOUN'], ['after', 'ADP'], ['the', 'DET'], ['same', 'ADJ'], ['closing', 'NOUN'], ['time', 'NOUN'], ['and', 'CCONJ'], ['the', 'DET'], ['woman', 'NOUN'], ['was', 'AUX'], ['just', 'ADV'], ['finishing', 'VERB'], ['up', 'ADP'], ['with', 'ADP'], ['a', 'DET'], ['customer', 'NOUN'], ['and', 'CCONJ'], ['told', 'VERB'], ['me', 'PRON'], ['not', 'PART'], ['to', 'PART'], ['worry', 'VERB'], ['about', 'ADP'], ['the', 'DET'], ['closing', 'NOUN'], ['time', 'NOUN'], ['.', 'PUNCT'], ['She', 'PRON'], ['was', 'AUX'], ['super', 'ADV'], ['friendly', 'ADJ'], ['and', 'CCONJ'], ['helpful', 'ADJ'], ['and', 'CCONJ'], ['I', 'PRON'], ['got', 'VERB'], ['a', 'DET'], ['beautiful', 'ADJ'], ['arrangement', 'NOUN'], ['at', 'ADP'], ['a', 'DET'], ['great', 'ADJ'], ['price', 'NOUN'], ['.', 'PUNCT'], ['.', 'PUNCT'], ['So', 'ADV'], ['go', 'VERB'], ['here', 'ADV'], ['for', 'ADP'], ['flowers', 'NOUN'], ['and', 'CCONJ'], ['home', 'NOUN'], ['made', 'VERB'], ['chocolates', 'NOUN'], ['and', 'CCONJ'], ['other', 'ADJ'], ['gifts', 'NOUN'], ['.', 'PUNCT'], [\"'\", 'PUNCT'], [',', 'PUNCT'], [\"'\", 'PUNCT'], ['They', 'PRON'], ['had', 'VERB'], ['the', 'DET'], ['freshest', 'ADJ'], ['flowers', 'NOUN'], ['and', 'CCONJ'], ['were', 'VERB'], ['very', 'ADV'], ['classy', 'ADJ'], ['in', 'ADP'], ['the', 'DET'], ['creativity', 'NOUN'], ['and', 'CCONJ'], ['the', 'DET'], ['delivery', 'NOUN'], ['was', 'VERB'], ['quick', 'ADJ'], ['.', 'PUNCT'], [\"'\", 'PUNCT'], [',', 'PUNCT'], [\"'\", 'PUNCT'], ['On', 'ADP'], ['the', 'DET'], ['way', 'NOUN'], ['to', 'PART'], ['see', 'VERB'], ['my', 'PRON'], ['mom', 'NOUN'], ['at', 'ADP'], ['hospital', 'NOUN'], ['and', 'CCONJ'], ['stopped', 'VERB'], ['to', 'PART'], ['ask', 'VERB'], ['for', 'ADP'], ['a', 'DET'], ['wrap', 'NOUN'], ['for', 'ADP'], ['a', 'DET'], ['pot', 'NOUN'], ['and', 'CCONJ'], ['the', 'DET'], ['gentleman', 'NOUN'], ['at', 'ADP'], ['this', 'DET'], ['flower', 'NOUN'], ['shop', 'NOUN'], ['was', 'AUX'], ['so', 'ADV'], ['gracious', 'ADJ'], ['and', 'CCONJ'], ['helped', 'VERB'], ['me', 'PRON'], ['out', 'ADP'], ['.', 'PUNCT'], ['Will', 'AUX'], ['definitely', 'ADV'], ['send', 'VERB'], ['business', 'NOUN'], ['this', 'DET'], ['way', 'NOUN'], ['!', 'PUNCT'], [\"'\", 'PUNCT'], [',', 'PUNCT'], [\"'\", 'PUNCT'], ['This', 'DET'], ['flower', 'NOUN'], ['shop', 'NOUN'], ['is', 'AUX'], ['the', 'DET'], ['place', 'NOUN'], ['to', 'PART'], ['go', 'VERB'], ['if', 'SCONJ'], ['you', 'PRON'], ['need', 'VERB'], ['anything', 'PRON'], ['floral', 'ADJ'], ['.', 'PUNCT'], [' ', 'SPACE'], ['The', 'DET'], ['owner', 'NOUN'], ['Greg', 'PROPN'], ['has', 'AUX'], ['been', 'VERB'], ['amazing', 'ADJ'], ['the', 'DET'], ['past', 'ADJ'], ['few', 'ADJ'], ['years', 'NOUN'], [',', 'PUNCT'], ['and', 'CCONJ'], ['those', 'DET'], ['who', 'PRON'], ['work', 'VERB'], ['for', 'ADP'], ['him', 'PRON'], ['are', 'VERB'], ['knowledgeable', 'ADJ'], [',', 'PUNCT'], ['kind', 'ADJ'], [',', 'PUNCT'], ['and', 'CCONJ'], ['very', 'ADV'], ['helpful', 'ADJ'], ['.', 'PUNCT'], [\"'\", 'PUNCT'], [',', 'PUNCT'], [\"'\", 'PUNCT'], ['Received', 'VERB'], ['an', 'DET'], ['arrangement', 'NOUN'], ['from', 'ADP'], ['them', 'PRON'], ['for', 'ADP'], ['my', 'PRON'], ['birthday', 'NOUN'], [',', 'PUNCT'], ['it', 'PRON'], ['was', 'AUX'], ['gorgeous', 'ADJ'], ['!', 'PUNCT'], ['Susie', 'PROPN'], ['was', 'AUX'], ['really', 'ADV'], ['helpful', 'ADJ'], ['in', 'ADP'], ['making', 'VERB'], ['it', 'PRON'], ['exactly', 'ADV'], ['what', 'PRON'], ['I', 'PRON'], ['would', 'AUX'], ['want', 'VERB'], ['...', 'PUNCT'], ['so', 'CCONJ'], ['I', 'PRON'], ['just', 'ADV'], ['wanted', 'VERB'], ['to', 'PART'], ['say', 'VERB'], ['thank', 'VERB'], ['you', 'PRON'], [',', 'PUNCT'], ['and', 'CCONJ'], ['I', 'PRON'], ['absolutely', 'ADV'], ['loved', 'VERB'], ['it', 'PRON'], ['!', 'PUNCT'], [\"'\", 'PUNCT'], [',', 'PUNCT'], ['\"', 'PUNCT'], ['I', 'PRON'], ['called', 'VERB'], ['in', 'ADP'], ['today', 'NOUN'], ['to', 'PART'], ['have', 'VERB'], ['a', 'DET'], ['last', 'ADJ'], ['minute', 'NOUN'], ['delivery', 'NOUN'], ['sent', 'VERB'], ['for', 'ADP'], ['a', 'DET'], ['special', 'ADJ'], ['occasion', 'NOUN'], ['.', 'PUNCT'], ['They', 'PRON'], ['were', 'AUX'], ['so', 'ADV'], ['sweet', 'ADJ'], ['and', 'CCONJ'], ['happily', 'ADV'], ['prepared', 'VERB'], ['my', 'PRON'], ['order', 'NOUN'], ['and', 'CCONJ'], ['had', 'AUX'], ['it', 'PRON'], ['delivered', 'VERB'], ['within', 'ADP'], ['a', 'DET'], ['couple', 'NOUN'], ['of', 'ADP'], ['hours', 'NOUN'], ['.', 'PUNCT'], ['The', 'DET'], ['arrangement', 'NOUN'], ['was', 'AUX'], ['stunning', 'ADJ'], ['and', 'CCONJ'], ['exactly', 'ADV'], ['as', 'ADV'], ['pictured', 'VERB'], ['.', 'PUNCT'], ['I', 'PRON'], [\"'ll\", 'AUX'], ['definitely', 'ADV'], ['order', 'VERB'], ['from', 'ADP'], ['here', 'ADV'], ['again', 'ADV'], ['.', 'PUNCT'], ['\\\\nGreat', 'NOUN'], ['customer', 'NOUN'], ['service', 'NOUN'], ['and', 'CCONJ'], ['fast', 'ADJ'], ['delivery', 'NOUN'], ['!', 'PUNCT'], ['Worth', 'ADJ'], ['the', 'DET'], ['price', 'NOUN'], ['!', 'PUNCT'], ['\"', 'PUNCT'], [',', 'PUNCT'], [\"'\", 'PUNCT'], ['They', 'PRON'], ['did', 'VERB'], ['an', 'DET'], ['amazing', 'ADJ'], ['job', 'NOUN'], ['!', 'PUNCT'], ['!', 'PUNCT'], ['Far', 'ADV'], ['better', 'ADJ'], ['than', 'SCONJ'], ['I', 'PRON'], ['expected', 'VERB'], ['.', 'PUNCT'], ['I', 'PRON'], ['was', 'AUX'], ['obsessed', 'VERB'], ['with', 'ADP'], ['my', 'PRON'], ['flower', 'NOUN'], ['arrangement', 'NOUN'], ['.', 'PUNCT'], ['I', 'PRON'], ['ordered', 'VERB'], ['the', 'DET'], ['dog', 'NOUN'], ['in', 'ADP'], ['a', 'DET'], ['basket', 'NOUN'], ['!', 'PUNCT'], ['It', 'PRON'], ['was', 'AUX'], ['so', 'ADV'], ['beautiful', 'ADJ'], ['!', 'PUNCT'], ['!', 'PUNCT'], [\"'\", 'PUNCT'], [',', 'PUNCT'], ['\"', 'PUNCT'], ['Oh', 'INTJ'], ['this', 'DET'], ['shop', 'NOUN'], ['is', 'AUX'], ['an', 'DET'], ['absolute', 'ADJ'], ['dream', 'NOUN'], ['to', 'PART'], ['work', 'VERB'], ['with', 'ADP'], ['.', 'PUNCT'], ['I', 'PRON'], ['had', 'VERB'], ['Dancing', 'PROPN'], ['Dandelion', 'NOUN'], ['do', 'VERB'], ['the', 'DET'], ['flowers', 'NOUN'], ['for', 'ADP'], ['my', 'PRON'], ['wedding', 'NOUN'], ['.', 'PUNCT'], ['I', 'PRON'], ['really', 'ADV'], ['did', 'AUX'], [\"n't\", 'PART'], ['have', 'VERB'], ['much', 'ADJ'], ['of', 'ADP'], ['a', 'DET'], ['vision', 'NOUN'], [',', 'PUNCT'], ['so', 'CCONJ'], ['I', 'PRON'], ['told', 'VERB'], ['Dan', 'PROPN'], ['a', 'DET'], ['little', 'ADJ'], ['of', 'ADP'], ['what', 'PRON'], ['I', 'PRON'], ['wanted', 'VERB'], ['and', 'CCONJ'], ['gave', 'VERB'], ['him', 'PRON'], ['creative', 'ADJ'], ['license', 'NOUN'], ['.', 'PUNCT'], ['I', 'PRON'], [\"'m\", 'VERB'], ['so', 'ADV'], ['happy', 'ADJ'], ['I', 'PRON'], ['did', 'VERB'], ['!', 'PUNCT'], ['My', 'PRON'], ['flowers', 'NOUN'], ['turned', 'VERB'], ['out', 'ADP'], ['absolutely', 'ADV'], ['gorgeous', 'ADJ'], ['and', 'CCONJ'], ['just', 'ADV'], ['added', 'VERB'], ['beautifully', 'ADV'], ['to', 'ADP'], ['my', 'PRON'], ['special', 'ADJ'], ['day', 'NOUN'], ['.', 'PUNCT'], ['\\\\n\\\\nThe', 'NUM'], ['prices', 'NOUN'], ['are', 'AUX'], ['reasonable', 'ADJ'], ['and', 'CCONJ'], ['everyone', 'PRON'], ['I', 'PRON'], ['worked', 'VERB'], ['with', 'ADP'], ['at', 'ADP'], ['the', 'DET'], ['shop', 'NOUN'], ['was', 'VERB'], ['wonderful', 'ADJ'], ['to', 'PART'], ['work', 'VERB'], ['with', 'ADP'], ['.', 'PUNCT'], ['I', 'PRON'], ['would', 'AUX'], ['definitely', 'ADV'], ['use', 'VERB'], ['them', 'PRON'], ['again', 'ADV'], ['for', 'ADP'], ['any', 'DET'], ['occasion', 'NOUN'], ['that', 'DET'], ['required', 'VERB'], ['flowers', 'NOUN'], ['.', 'PUNCT'], ['\"', 'PUNCT'], [',', 'PUNCT'], [\"'\", 'PUNCT'], ['Greg', 'PROPN'], ['and', 'CCONJ'], ['his', 'PRON'], ['team', 'NOUN'], ['prepared', 'VERB'], ['such', 'ADJ'], ['beautiful', 'ADJ'], ['and', 'CCONJ'], ['elegant', 'ADJ'], ['flowers', 'NOUN'], ['and', 'CCONJ'], ['arrangements', 'NOUN'], ['for', 'ADP'], ['our', 'PRON'], ['wedding', 'NOUN'], ['.', 'PUNCT'], [' ', 'SPACE'], ['He', 'PRON'], ['worked', 'VERB'], ['very', 'ADV'], ['closely', 'ADV'], ['with', 'ADP'], ['my', 'PRON'], ['wife', 'NOUN'], ['and', 'CCONJ'], ['everything', 'PRON'], ['went', 'VERB'], ['off', 'ADP'], ['without', 'ADP'], ['a', 'DET'], ['hitch', 'NOUN'], ['!', 'PUNCT'], ['Planning', 'VERB'], ['a', 'DET'], ['wedding', 'NOUN'], ['is', 'AUX'], ['such', 'DET'], ['a', 'DET'], ['stressful', 'ADJ'], ['time', 'NOUN'], ['and', 'CCONJ'], ['Greg', 'PROPN'], ['certainly', 'ADV'], ['helped', 'VERB'], ['us', 'PRON'], ['get', 'VERB'], ['through', 'ADP'], ['it', 'PRON'], ['with', 'ADP'], ['flying', 'VERB'], ['colors', 'NOUN'], ['!', 'PUNCT'], ['!', 'PUNCT'], ['!', 'PUNCT'], [' ', 'SPACE'], ['Thank', 'VERB'], ['you', 'PRON'], ['so', 'ADV'], ['much', 'ADV'], ['Greg', 'PROPN'], ['.....', 'PUNCT'], ['you', 'PRON'], ['are', 'AUX'], ['the', 'DET'], ['best', 'ADJ'], ['florist', 'NOUN'], ['ever', 'ADV'], ['!', 'PUNCT'], ['!', 'PUNCT'], ['!', 'PUNCT'], ['!', 'PUNCT'], [\"'\", 'PUNCT'], [',', 'PUNCT'], ['\"', 'PUNCT'], ['They', 'PRON'], ['were', 'AUX'], ['open', 'ADJ'], ['late', 'ADV'], ['on', 'ADP'], ['the', 'DET'], ['evening', 'NOUN'], ['before', 'ADP'], ['Valentine', 'PROPN'], [\"'s\", 'PART'], ['Day', 'PROPN'], [',', 'PUNCT'], ['and', 'CCONJ'], ['had', 'VERB'], ['plenty', 'NOUN'], ['of', 'ADP'], ['beautiful', 'ADJ'], ['product', 'NOUN'], ['to', 'PART'], ['pick', 'VERB'], ['up', 'ADP'], ['.', 'PUNCT'], ['Great', 'ADJ'], ['Flowers', 'NOUN'], ['!', 'PUNCT'], ['Great', 'ADJ'], ['service', 'NOUN'], ['!', 'PUNCT'], ['\"', 'PUNCT'], [',', 'PUNCT'], [\"'\", 'PUNCT'], ['Ordered', 'VERB'], ['some', 'DET'], ['flowers', 'NOUN'], ['for', 'ADP'], ['a', 'DET'], ['funeral', 'NOUN'], ['from', 'ADP'], ['CA', 'PROPN'], ['to', 'ADP'], ['LV', 'PROPN'], ['&', 'CCONJ'], ['they', 'PRON'], ['arrived', 'VERB'], ['in', 'ADP'], ['time', 'NOUN'], ['for', 'ADP'], ['the', 'DET'], ['viewing', 'NOUN'], ['which', 'DET'], ['was', 'VERB'], ['the', 'DET'], ['same', 'ADJ'], ['day', 'NOUN'], ['.', 'PUNCT'], [\"'\", 'PUNCT'], [',', 'PUNCT'], ['\"', 'PUNCT'], ['I', 'PRON'], ['called', 'VERB'], ['Dancing', 'PROPN'], ['Dandelion', 'PROPN'], ['with', 'ADP'], ['a', 'DET'], ['last', 'ADJ'], ['minute', 'NOUN'], ['corsage', 'NOUN'], ['request', 'NOUN'], ['.', 'PUNCT'], [' ', 'SPACE'], ['I', 'PRON'], ['needed', 'VERB'], ['two', 'NUM'], [',', 'PUNCT'], ['within', 'ADP'], ['hours', 'NOUN'], ['.', 'PUNCT'], [' ', 'SPACE'], ['Greg', 'PROPN'], ['(', 'PUNCT'], ['I', 'PRON'], [\"'m\", 'VERB'], ['pretty', 'ADV'], ['sure', 'ADJ'], ['that', 'DET'], ['was', 'AUX'], ['his', 'PRON'], ['name', 'NOUN'], [')', 'PUNCT'], ['was', 'AUX'], ['very', 'ADV'], ['friendly', 'ADJ'], [',', 'PUNCT'], ['and', 'CCONJ'], ['talked', 'VERB'], ['me', 'PRON'], ['through', 'ADP'], ['the', 'DET'], ['options', 'NOUN'], ['while', 'SCONJ'], ['I', 'PRON'], ['was', 'VERB'], ['on', 'ADP'], ['the', 'DET'], ['phone', 'NOUN'], ['.', 'PUNCT'], ['And', 'CCONJ'], ['within', 'ADP'], ['3', 'NUM'], ['hours', 'NOUN'], [',', 'PUNCT'], ['my', 'PRON'], ['two', 'NUM'], ['BEAUTIFUL', 'PROPN'], ['corsages', 'NOUN'], ['were', 'AUX'], ['ready', 'ADJ'], ['and', 'CCONJ'], ['waiting', 'VERB'], ['.', 'PUNCT'], [' ', 'SPACE'], ['They', 'PRON'], ['had', 'VERB'], ['some', 'DET'], ['arrangements', 'NOUN'], ['pre', 'VERB'], ['-', 'VERB'], ['made', 'VERB'], ['in', 'ADP'], ['their', 'PRON'], ['display', 'NOUN'], ['that', 'DET'], ['were', 'VERB'], ['a', 'DET'], ['match', 'NOUN'], ['in', 'ADP'], ['quality', 'NOUN'], ['and', 'CCONJ'], ['freshness', 'NOUN'], ['that', 'DET'], ['were', 'VERB'], ['also', 'ADV'], ['very', 'ADV'], ['tempting', 'ADJ'], ['!', 'PUNCT'], [' ', 'SPACE'], ['Thanks', 'NOUN'], ['Dancing', 'PROPN'], ['Dandelion', 'PROPN'], ['!', 'PUNCT'], ['!', 'PUNCT'], ['!', 'PUNCT'], ['\"', 'PUNCT'], [',', 'PUNCT'], [\"'\", 'PUNCT'], ['Called', 'VERB'], ['them', 'PRON'], ['to', 'PART'], ['order', 'VERB'], ['flowers', 'NOUN'], ['for', 'ADP'], ['someone', 'PRON'], ['staying', 'VERB'], ['in', 'ADP'], ['their', 'PRON'], ['city', 'NOUN'], ['and', 'CCONJ'], ['they', 'PRON'], ['were', 'VERB'], ['super', 'ADV'], ['helpful', 'ADJ'], ['and', 'CCONJ'], ['fun', 'NOUN'], ['to', 'PART'], ['talk', 'VERB'], ['to', 'ADP'], ['.', 'PUNCT'], ['I', 'PRON'], ['will', 'AUX'], ['definitely', 'ADV'], ['give', 'VERB'], ['them', 'PRON'], ['more', 'ADJ'], ['business', 'NOUN'], ['should', 'AUX'], ['the', 'DET'], ['opportunity', 'NOUN'], ['arise', 'VERB'], ['.', 'PUNCT'], [\"'\", 'PUNCT'], [',', 'PUNCT'], [\"'\", 'PUNCT'], ['Came', 'VERB'], ['in', 'ADP'], ['and', 'CCONJ'], ['requested', 'VERB'], ['a', 'DET'], ['custom', 'NOUN'], ['arrangement', 'NOUN'], ['of', 'ADP'], ['specific', 'ADJ'], ['flowers', 'NOUN'], [',', 'PUNCT'], ['colors', 'NOUN'], ['and', 'CCONJ'], ['budget', 'NOUN'], ['.', 'PUNCT'], ['The', 'DET'], ['finished', 'ADJ'], ['product', 'NOUN'], ['delivered', 'VERB'], ['was', 'AUX'], ['an', 'DET'], ['absolute', 'ADJ'], ['MASTERPIECE', 'PROPN'], ['!', 'PUNCT'], ['Thank', 'VERB'], ['you', 'PRON'], ['guys', 'NOUN'], ['so', 'ADV'], ['much', 'ADV'], ['for', 'ADP'], ['working', 'VERB'], ['very', 'ADV'], ['diligently', 'ADV'], ['and', 'CCONJ'], ['creating', 'VERB'], ['such', 'DET'], ['a', 'DET'], ['beautiful', 'ADJ'], ['arrangement', 'NOUN'], ['!', 'PUNCT'], ['Will', 'AUX'], ['only', 'ADV'], ['be', 'AUX'], ['coming', 'VERB'], ['to', 'ADP'], ['you', 'PRON'], ['guys', 'NOUN'], ['for', 'ADP'], ['my', 'PRON'], ['flower', 'NOUN'], ['needs', 'VERB'], ['from', 'ADP'], ['now', 'ADV'], ['!', 'PUNCT'], [\"'\", 'PUNCT'], [',', 'PUNCT'], [\"'\", 'PUNCT'], ['I', 'PRON'], ['ordered', 'VERB'], ['a', 'DET'], ['spray', 'NOUN'], ['for', 'ADP'], ['my', 'PRON'], ['wife', 'NOUN'], ['on', 'ADP'], ['our', 'PRON'], ['anniversary', 'NOUN'], ['......', 'PUNCT'], ['I', 'PRON'], ['was', 'AUX'], ['not', 'PART'], ['sure', 'ADJ'], ['what', 'PRON'], ['to', 'PART'], ['expect', 'VERB'], ['since', 'SCONJ'], ['I', 'PRON'], ['did', 'AUX'], ['not', 'PART'], ['see', 'VERB'], ['samples', 'NOUN'], ['in', 'ADP'], ['person', 'NOUN'], [';', 'PUNCT'], ['so', 'CCONJ'], [',', 'PUNCT'], ['I', 'PRON'], ['just', 'ADV'], ['went', 'VERB'], ['with', 'ADP'], ['the', 'DET'], ['recommendations', 'NOUN'], ['and', 'CCONJ'], ['hoped', 'VERB'], ['for', 'ADP'], ['the', 'DET'], ['very', 'ADV'], ['best.\\\\n\\\\nOMG', 'NOUN'], ['!', 'PUNCT'], ['!', 'PUNCT'], ['!', 'PUNCT'], [' ', 'SPACE'], ['The', 'DET'], ['BEST', 'PROPN'], ['was', 'AUX'], ['certainly', 'ADV'], ['delivered', 'VERB'], ['....', 'PUNCT'], ['my', 'PRON'], ['wife', 'NOUN'], ['is', 'AUX'], ['beyond', 'ADP'], ['thrilled', 'ADJ'], ['and', 'CCONJ'], ['all', 'DET'], ['at', 'ADP'], ['her', 'PRON'], ['office', 'NOUN'], ['are', 'VERB'], ['envious', 'ADJ'], ['.....', 'PUNCT'], ['as', 'ADP'], ['the', 'DET'], ['receptionist', 'NOUN'], ['said', 'VERB'], [',', 'PUNCT'], ['\"', 'PUNCT'], ['all', 'DET'], ['the', 'DET'], ['other', 'ADJ'], ['men', 'NOUN'], ['look', 'VERB'], ['bad', 'ADJ'], ['now', 'ADV'], ['and', 'CCONJ'], ['need', 'VERB'], ['to', 'PART'], ['step', 'VERB'], ['up', 'ADP'], ['their', 'PRON'], ['game\"', 'NOUN'], ['.....', 'PUNCT'], ['haha!!!\\\\n\\\\nThank', 'VERB'], ['you', 'PRON'], ['to', 'ADP'], ['everybody', 'PRON'], ['at', 'ADP'], ['Dancing', 'PROPN'], ['Dandelion', 'PROPN'], ['...', 'PUNCT'], ['you', 'PRON'], ['were', 'AUX'], ['beyond', 'ADP'], ['belief', 'NOUN'], ['and', 'CCONJ'], ['I', 'PRON'], ['will', 'AUX'], ['never', 'ADV'], ['hesitate', 'VERB'], ['to', 'PART'], ['use', 'VERB'], ['the', 'DET'], ['shop', 'NOUN'], ['again', 'ADV'], ['and', 'CCONJ'], ['recommend', 'VERB'], ['it', 'PRON'], ['to', 'ADP'], ['anybody', 'PRON'], ['in', 'ADP'], ['need', 'NOUN'], ['of', 'ADP'], ['florals', 'NOUN'], ['.....', 'PUNCT'], ['amazing', 'ADJ'], ['!', 'PUNCT'], ['!', 'PUNCT'], ['!', 'PUNCT'], [\"'\", 'PUNCT'], [',', 'PUNCT'], [\"'\", 'PUNCT'], ['Super', 'ADJ'], ['awesome', 'ADJ'], ['place', 'NOUN'], ['!', 'PUNCT'], ['Bouquet', 'PROPN'], ['I', 'PRON'], ['ordered', 'VERB'], ['was', 'AUX'], ['exactly', 'ADV'], ['like', 'ADP'], ['the', 'DET'], ['picture', 'NOUN'], ['BOTH', 'CCONJ'], ['times', 'NOUN'], ['and', 'CCONJ'], ['prices', 'NOUN'], ['are', 'AUX'], ['not', 'PART'], ['to', 'PART'], ['high', 'ADJ'], ['.', 'PUNCT'], ['Delivery', 'NOUN'], ['was', 'AUX'], ['done', 'VERB'], ['first', 'ADJ'], ['thing', 'NOUN'], ['in', 'ADP'], ['morning', 'NOUN'], ['.', 'PUNCT'], ['I', 'PRON'], ['highly', 'ADV'], ['recommend', 'VERB'], ['this', 'DET'], ['place', 'NOUN'], ['.', 'PUNCT'], [\"'\", 'PUNCT'], [',', 'PUNCT'], ['\"', 'PUNCT'], ['If', 'SCONJ'], ['you', 'PRON'], ['are', 'AUX'], ['looking', 'VERB'], ['for', 'ADP'], ['flowers', 'NOUN'], ['in', 'ADP'], ['Vegas', 'PROPN'], [',', 'PUNCT'], ['this', 'DET'], ['is', 'AUX'], ['the', 'DET'], ['place', 'NOUN'], ['to', 'PART'], ['go', 'VERB'], ['.', 'PUNCT'], ['I', 'PRON'], ['had', 'VERB'], ['a', 'DET'], ['complete', 'ADJ'], ['disaster', 'NOUN'], ['on', 'ADP'], ['my', 'PRON'], ['hands', 'NOUN'], ['with', 'ADP'], ['1', 'NUM'], ['-', 'NUM'], ['800', 'NUM'], ['-', 'PUNCT'], ['FLOWERS', 'NOUN'], ['and', 'CCONJ'], ['these', 'DET'], ['guys', 'NOUN'], ['rescued', 'VERB'], ['me', 'PRON'], ['.', 'PUNCT'], ['The', 'DET'], ['staff', 'NOUN'], ['I', 'PRON'], ['spoke', 'VERB'], ['to', 'ADP'], ['on', 'ADP'], ['the', 'DET'], ['phone', 'NOUN'], ['was', 'AUX'], ['awesome', 'ADJ'], ['and', 'CCONJ'], ['very', 'ADV'], ['helpful', 'ADJ'], ['.', 'PUNCT'], ['Not', 'PART'], ['to', 'PART'], ['mention', 'VERB'], ['the', 'DET'], ['fact', 'NOUN'], ['that', 'SCONJ'], ['they', 'PRON'], ['had', 'VERB'], ['my', 'PRON'], ['Valentine', 'PROPN'], [\"'s\", 'PART'], ['Day', 'NOUN'], ['order', 'NOUN'], ['delivered', 'VERB'], ['before', 'ADP'], ['9', 'NUM'], ['am', 'NOUN'], ['on', 'ADP'], ['Valentine', 'PROPN'], [\"'s\", 'PART'], ['Day', 'PROPN'], ['!', 'PUNCT'], ['Thank', 'VERB'], ['you', 'PRON'], ['so', 'ADV'], ['much', 'ADV'], ['again', 'ADV'], ['and', 'CCONJ'], ['you', 'PRON'], [\"'ll\", 'AUX'], ['be', 'AUX'], ['getting', 'VERB'], ['my', 'PRON'], ['business', 'NOUN'], ['again', 'ADV'], ['in', 'ADP'], ['the', 'DET'], ['future', 'NOUN'], ['.', 'PUNCT'], ['\"', 'PUNCT'], [',', 'PUNCT'], [\"'\", 'PUNCT'], ['I', 'PRON'], ['stopped', 'VERB'], ['in', 'ADP'], ['at', 'ADP'], ['9', 'NUM'], ['am', 'NOUN'], ['this', 'DET'], ['morning', 'NOUN'], ['(', 'PUNCT'], ['opens', 'VERB'], ['at', 'ADP'], ['10', 'NUM'], [')', 'PUNCT'], ['and', 'CCONJ'], ['peeked', 'VERB'], ['in', 'ADP'], ['and', 'CCONJ'], ['met', 'VERB'], ['the', 'DET'], ['owner', 'NOUN'], ['.', 'PUNCT'], ['I', 'PRON'], ['desperately', 'ADV'], ['needed', 'VERB'], ['a', 'DET'], ['last', 'ADJ'], ['minute', 'NOUN'], ['corsage', 'NOUN'], ['and', 'CCONJ'], ['no', 'DET'], ['one', 'NOUN'], ['could', 'AUX'], ['do', 'VERB'], ['it', 'PRON'], ['.', 'PUNCT'], ['I', 'PRON'], ['spoke', 'VERB'], ['with', 'ADP'], ['Greg', 'PROPN'], ['and', 'CCONJ'], ['he', 'PRON'], ['was', 'VERB'], ['so', 'ADV'], ['incredibly', 'ADV'], ['kind', 'ADJ'], ['.', 'PUNCT'], ['He', 'PRON'], ['made', 'VERB'], ['me', 'PRON'], ['a', 'DET'], ['corsage', 'NOUN'], ['with', 'ADP'], ['roses', 'NOUN'], ['and', 'CCONJ'], ['orchids', 'VERB'], ['right', 'ADV'], ['on', 'ADP'], ['the', 'DET'], ['spot', 'NOUN'], ['!', 'PUNCT'], ['Great', 'ADJ'], ['customer', 'NOUN'], ['service', 'NOUN'], ['and', 'CCONJ'], ['I', 'PRON'], ['highly', 'ADV'], ['recommend', 'VERB'], ['this', 'DET'], ['flower', 'NOUN'], ['shop', 'NOUN'], ['.', 'PUNCT'], ['They', 'PRON'], ['are', 'AUX'], ['a', 'DET'], ['great', 'ADJ'], ['local', 'ADJ'], ['business', 'NOUN'], ['.', 'PUNCT'], [\"'\", 'PUNCT'], [',', 'PUNCT'], ['\"', 'PUNCT'], ['Oooooh', 'PROPN'], ['!', 'PUNCT'], ['My', 'PRON'], ['dad', 'NOUN'], ['just', 'ADV'], ['ordered', 'VERB'], ['a', 'DET'], ['bouquet', 'NOUN'], ['to', 'PART'], ['be', 'AUX'], ['sent', 'VERB'], ['to', 'ADP'], ['me', 'PRON'], ['this', 'DET'], ['morning', 'NOUN'], ['and', 'CCONJ'], ['it', 'PRON'], [\"'s\", 'VERB'], ['already', 'ADV'], ['here', 'ADV'], [',', 'PUNCT'], ['an', 'DET'], ['hour', 'NOUN'], ['later', 'ADV'], ['.', 'PUNCT'], ['I', 'PRON'], ['love', 'VERB'], ['stargazers', 'NOUN'], ['and', 'CCONJ'], ['even', 'ADV'], ['though', 'SCONJ'], ['the', 'DET'], ['arrangement', 'NOUN'], ['did', 'AUX'], [\"n't\", 'PART'], ['come', 'VERB'], ['with', 'ADP'], ['them', 'PRON'], [',', 'PUNCT'], ['they', 'PRON'], ['added', 'VERB'], ['a', 'DET'], ['few', 'ADJ'], ['anyway', 'ADV'], [':)', 'PROPN'], ['yayyyy', 'NOUN'], ['!', 'PUNCT'], ['Thank', 'VERB'], ['you', 'PRON'], ['!', 'PUNCT'], ['\\\\n\\\\nAnd', 'PUNCT'], ['the', 'DET'], ['quality', 'NOUN'], ['of', 'ADP'], ['the', 'DET'], ['flowers', 'NOUN'], ['is', 'AUX'], ['perfect', 'ADJ'], ['and', 'CCONJ'], ['fresh', 'ADJ'], ['and', 'CCONJ'], ['beautiful', 'ADJ'], ['.', 'PUNCT'], ['\\\\n\\\\nLoves', 'PRON'], ['!', 'PUNCT'], ['\"', 'PUNCT'], [',', 'PUNCT'], [\"'\", 'PUNCT'], ['Great', 'ADJ'], ['staff', 'NOUN'], ['and', 'CCONJ'], ['high', 'ADJ'], ['quality', 'NOUN'], ['flowers', 'NOUN'], ['!', 'PUNCT'], [' ', 'SPACE'], ['Thank', 'VERB'], ['for', 'ADP'], ['the', 'DET'], ['service', 'NOUN'], ['and', 'CCONJ'], ['the', 'DET'], ['pink', 'ADJ'], ['rose', 'VERB'], ['petals', 'NOUN'], ['.', 'PUNCT'], [\"'\", 'PUNCT'], [',', 'PUNCT'], [\"'\", 'PUNCT'], ['They', 'PRON'], ['did', 'VERB'], ['a', 'DET'], ['beautiful', 'ADJ'], ['job', 'NOUN'], ['on', 'ADP'], ['my', 'PRON'], ['wedding', 'NOUN'], ['flowers', 'NOUN'], [',', 'PUNCT'], ['Greg', 'PROPN'], ['was', 'AUX'], ['great', 'ADJ'], ['to', 'PART'], ['work', 'VERB'], ['with', 'ADP'], ['and', 'CCONJ'], ['clearly', 'ADV'], ['they', 'PRON'], ['care', 'VERB'], ['about', 'ADP'], ['their', 'PRON'], ['clients', 'NOUN'], ['!', 'PUNCT'], [\"'\", 'PUNCT'], [',', 'PUNCT'], [\"'\", 'PUNCT'], ['Ordered', 'VERB'], ['online', 'ADV'], ['before', 'ADP'], ['they', 'PRON'], ['opened', 'VERB'], ['as', 'ADP'], ['I', 'PRON'], ['live', 'VERB'], ['on', 'ADP'], ['the', 'DET'], ['east', 'PROPN'], ['coast', 'NOUN'], ['.', 'PUNCT'], [' ', 'SPACE'], ['Flowers', 'NOUN'], ['were', 'AUX'], ['delivered', 'VERB'], ['with', 'ADP'], ['so', 'ADV'], ['much', 'ADJ'], ['care', 'NOUN'], ['and', 'CCONJ'], ['such', 'DET'], ['a', 'DET'], ['genuine', 'ADJ'], ['spirit', 'NOUN'], ['.', 'PUNCT'], [' ', 'SPACE'], ['Will', 'AUX'], ['never', 'ADV'], ['use', 'VERB'], ['any', 'DET'], ['other', 'ADJ'], ['florist', 'NOUN'], ['in', 'ADP'], ['Vegas', 'PROPN'], ['to', 'PART'], ['send', 'VERB'], ['gifts', 'NOUN'], ['to', 'ADP'], ['my', 'PRON'], ['family', 'NOUN'], ['-', 'PUNCT'], ['AMAZING', 'ADJ'], ['!', 'PUNCT'], [\"'\", 'PUNCT'], [',', 'PUNCT'], ['\"', 'PUNCT'], ['Love', 'VERB'], ['their', 'PRON'], ['service', 'NOUN'], ['I', 'PRON'], ['browsed', 'VERB'], ['through', 'ADP'], ['many', 'ADJ'], ['other', 'ADJ'], ['shops', 'NOUN'], ['and', 'CCONJ'], ['none', 'NOUN'], ['could', 'AUX'], ['compare.\\\\nI', 'VERB'], ['had', 'VERB'], ['many', 'ADJ'], ['questions', 'NOUN'], ['and', 'CCONJ'], ['Greg', 'PROPN'], ['was', 'VERB'], ['so', 'ADV'], ['QUICK', 'PROPN'], ['and', 'CCONJ'], ['straight', 'ADV'], ['forward', 'ADV'], ['replying', 'VERB'], ['to', 'ADP'], ['me', 'PRON'], ['by', 'ADP'], ['e', 'NOUN'], ['-', 'PUNCT'], ['Mail\\\\n\\\\nI', 'NOUN'], ['purchased:\\\\nThe', 'NOUN'], ['4', 'NUM'], ['Dozen', 'PROPN'], ['Red', 'PROPN'], ['Roses', 'PROPN'], ['Ultimate', 'PROPN'], ['Elegance', 'PROPN'], ['Premium', 'PROPN'], ['Long', 'PROPN'], ['Stem', 'PROPN'], ['with', 'ADP'], ['a', 'DET'], ['Medium', 'ADJ'], ['size', 'NOUN'], ['Teddy', 'PROPN'], ['Bear.\\\\n\\\\nAnd', 'PROPN'], ['she', 'PRON'], ['loved', 'VERB'], ['them', 'PRON'], ['\\\\nI', 'ADJ'], ['could', 'AUX'], [\"n't\", 'PART'], ['be', 'VERB'], ['happier', 'ADJ'], ['\\\\n\\\\nI', 'PROPN'], ['would', 'AUX'], ['recommend', 'VERB'], ['anyone', 'PRON'], ['to', 'PART'], ['do', 'VERB'], ['business', 'NOUN'], ['with', 'ADP'], ['them.\\\\n\\\\nAlso', 'NUM'], ['the', 'DET'], ['delivery', 'NOUN'], ['person', 'NOUN'], ['was', 'VERB'], ['quiet', 'ADJ'], ['polite', 'ADJ'], ['and', 'CCONJ'], ['nice', 'ADJ'], ['.', 'PUNCT'], ['\"', 'PUNCT'], [',', 'PUNCT'], [\"'\", 'PUNCT'], ['i', 'PRON'], ['have', 'AUX'], ['been', 'AUX'], ['using', 'VERB'], ['The', 'DET'], ['Dancing', 'PROPN'], ['Dandelion', 'PROPN'], ['for', 'ADP'], ['the', 'DET'], ['last', 'ADJ'], ['two', 'NUM'], ['years', 'NOUN'], ['to', 'PART'], ['order', 'VERB'], ['flowers', 'NOUN'], ['for', 'ADP'], ['different', 'ADJ'], ['school', 'NOUN'], ['events', 'NOUN'], ['.', 'PUNCT'], [' ', 'SPACE'], ['in', 'ADP'], ['the', 'DET'], ['past', 'NOUN'], [',', 'PUNCT'], ['they', 'PRON'], ['have', 'AUX'], ['made', 'VERB'], ['me', 'PRON'], ['what', 'PRON'], ['I', 'PRON'], ['call', 'VERB'], ['\"', 'PUNCT'], ['podium', 'NOUN'], ['arrangements', 'NOUN'], ['\"', 'PUNCT'], ['.', 'PUNCT'], [' ', 'SPACE'], ['Today', 'NOUN'], [',', 'PUNCT'], ['they', 'PRON'], ['made', 'VERB'], ['me', 'PRON'], ['some', 'DET'], ['beautiful', 'ADJ'], ['hand', 'NOUN'], ['-', 'PUNCT'], ['opened', 'VERB'], ['roses', 'NOUN'], ['with', 'ADP'], ['succulents', 'NOUN'], ['(', 'PUNCT'], ['I', 'PRON'], ['will', 'AUX'], ['post', 'VERB'], ['pictures', 'NOUN'], [')', 'PUNCT'], ['.', 'PUNCT'], [' ', 'SPACE'], ['The', 'DET'], ['arrangements', 'NOUN'], ['were', 'AUX'], ['beautiful', 'ADJ'], ['and', 'CCONJ'], ['everyone', 'PRON'], ['kept', 'VERB'], ['asking', 'VERB'], ['me', 'PRON'], ['who', 'PRON'], ['my', 'PRON'], ['florist', 'NOUN'], ['was', 'AUX'], ['.', 'PUNCT'], [' ', 'SPACE'], ['The', 'DET'], ['shop', 'NOUN'], ['has', 'AUX'], ['always', 'ADV'], ['been', 'VERB'], ['very', 'ADV'], ['helpful', 'ADJ'], ['and', 'CCONJ'], ['I', 'PRON'], ['am', 'VERB'], ['able', 'ADJ'], ['to', 'PART'], ['easily', 'ADV'], ['communicate', 'VERB'], ['with', 'ADP'], ['the', 'DET'], ['owner', 'NOUN'], ['via', 'ADP'], ['email', 'NOUN'], ['.', 'PUNCT'], [' ', 'SPACE'], ['I', 'PRON'], ['highly', 'ADV'], ['recommend', 'VERB'], ['this', 'DET'], ['shop', 'NOUN'], ['.', 'PUNCT'], [\"'\", 'PUNCT'], [',', 'PUNCT'], ['\"', 'PUNCT'], ['I', 'PRON'], ['do', 'AUX'], [\"n't\", 'PART'], ['live', 'VERB'], ['in', 'ADP'], ['the', 'DET'], ['area', 'NOUN'], [',', 'PUNCT'], ['but', 'CCONJ'], ['ordered', 'VERB'], ['some', 'DET'], ['flowers', 'NOUN'], ['and', 'CCONJ'], ['balloons', 'NOUN'], ['for', 'ADP'], ['my', 'PRON'], ['uncle', 'NOUN'], ['who', 'PRON'], ['just', 'ADV'], ['got', 'VERB'], ['surgery', 'NOUN'], ['through', 'ADP'], ['their', 'PRON'], ['online', 'ADJ'], ['portal', 'NOUN'], ['and', 'CCONJ'], ['everything', 'PRON'], ['was', 'AUX'], ['executed', 'VERB'], ['perfectly', 'ADV'], ['.', 'PUNCT'], ['Same', 'ADJ'], ['day', 'NOUN'], ['delivery', 'NOUN'], ['!', 'PUNCT'], ['!', 'PUNCT'], [' ', 'SPACE'], ['Greg', 'PROPN'], ['is', 'AUX'], ['definitely', 'ADV'], ['the', 'DET'], ['man', 'NOUN'], ['who', 'PRON'], ['you', 'PRON'], ['want', 'VERB'], ['to', 'PART'], ['talk', 'VERB'], ['to', 'ADP'], ['.', 'PUNCT'], [' ', 'SPACE'], ['He', 'PRON'], ['was', 'AUX'], ['so', 'ADV'], ['easy', 'ADJ'], ['going', 'VERB'], ['and', 'CCONJ'], ['even', 'ADV'], ['called', 'VERB'], ['to', 'PART'], ['let', 'VERB'], ['me', 'PRON'], ['know', 'VERB'], ['that', 'DET'], ['delivery', 'NOUN'], ['was', 'AUX'], ['successful', 'ADJ'], ['.', 'PUNCT'], ['Exceptional', 'ADJ'], ['customer', 'NOUN'], ['service', 'NOUN'], ['and', 'CCONJ'], ['willing', 'ADJ'], ['to', 'PART'], ['go', 'VERB'], ['the', 'DET'], ['extra', 'ADJ'], ['mile', 'NOUN'], ['.', 'PUNCT'], ['If', 'SCONJ'], ['you', 'PRON'], [\"'re\", 'AUX'], ['reading', 'VERB'], ['this', 'DET'], ['Greg', 'PROPN'], [',', 'PUNCT'], ['THANK', 'VERB'], ['YOU', 'PRON'], ['from', 'ADP'], ['the', 'DET'], ['bottom', 'NOUN'], ['of', 'ADP'], ['my', 'PRON'], ['heart', 'NOUN'], [',', 'PUNCT'], ['you', 'PRON'], ['really', 'ADV'], ['made', 'VERB'], ['my', 'PRON'], ['day', 'NOUN'], ['!', 'PUNCT'], ['!', 'PUNCT'], ['\"', 'PUNCT'], [',', 'PUNCT'], ['\"', 'PUNCT'], ['Absolutely', 'ADV'], ['the', 'DET'], ['best', 'ADJ'], ['flower', 'NOUN'], ['shop', 'NOUN'], ['in', 'ADP'], ['Las', 'PROPN'], ['Vegas', 'PROPN'], ['.', 'PUNCT'], ['Great', 'ADJ'], ['customer', 'NOUN'], ['service', 'NOUN'], [',', 'PUNCT'], ['beautiful', 'ADJ'], ['arrangements', 'NOUN'], [',', 'PUNCT'], ['and', 'CCONJ'], ['friendly', 'ADJ'], ['local', 'ADJ'], ['shop', 'NOUN'], ['owners', 'NOUN'], ['.', 'PUNCT'], ['I', 'PRON'], [\"'ve\", 'AUX'], ['sent', 'VERB'], ['at', 'ADV'], ['least', 'ADV'], ['ten', 'NUM'], ['different', 'ADJ'], ['arrangements', 'NOUN'], ['over', 'ADP'], ['the', 'DET'], ['last', 'ADJ'], ['year', 'NOUN'], ['and', 'CCONJ'], ['every', 'DET'], ['one', 'NOUN'], ['has', 'AUX'], ['been', 'AUX'], ['received', 'VERB'], ['fresh', 'ADJ'], ['and', 'CCONJ'], ['as', 'ADP'], ['ordered', 'VERB'], ['.', 'PUNCT'], ['Their', 'PRON'], ['web', 'NOUN'], ['site', 'NOUN'], ['is', 'AUX'], ['very', 'ADV'], ['representative', 'ADJ'], ['of', 'ADP'], ['the', 'DET'], ['flowers', 'NOUN'], ['and', 'CCONJ'], ['arrangements', 'NOUN'], ['that', 'DET'], ['arrive', 'VERB'], ['at', 'ADP'], ['your', 'PRON'], ['destination', 'NOUN'], ['.', 'PUNCT'], ['The', 'DET'], ['same', 'ADJ'], ['stellar', 'ADJ'], ['service', 'NOUN'], ['on', 'ADP'], ['shop', 'NOUN'], ['pickup', 'NOUN'], ['and', 'CCONJ'], ['delivery', 'NOUN'], ['.', 'PUNCT'], ['The', 'DET'], ['various', 'ADJ'], ['arrangements', 'NOUN'], ['featuring', 'VERB'], ['the', 'DET'], ['cute', 'ADJ'], ['little', 'ADJ'], ['pooch', 'NOUN'], ['are', 'AUX'], ['some', 'DET'], ['of', 'ADP'], ['my', 'PRON'], ['favorites', 'NOUN'], ['.', 'PUNCT'], ['\"', 'PUNCT'], [',', 'PUNCT'], [\"'\", 'PUNCT'], ['Thank', 'VERB'], ['you', 'PRON'], ['for', 'ADP'], ['the', 'DET'], ['repeat', 'NOUN'], ['great', 'ADJ'], ['service', 'NOUN'], ['!', 'PUNCT'], ['I', 'PRON'], ['recently', 'ADV'], ['ordered', 'VERB'], ['flowers', 'NOUN'], ['and', 'CCONJ'], ['they', 'PRON'], ['were', 'AUX'], ['delivered', 'VERB'], ['fast', 'ADV'], ['and', 'CCONJ'], ['as', 'ADP'], ['the', 'DET'], ['picture', 'NOUN'], ['shows', 'VERB'], ['on', 'ADP'], ['the', 'DET'], ['website', 'NOUN'], ['.', 'PUNCT'], [\"'\", 'PUNCT'], [',', 'PUNCT'], ['\"', 'PUNCT'], ['I', 'PRON'], [\"'ve\", 'AUX'], ['used', 'VERB'], ['Dancing', 'PROPN'], ['Dandelion', 'PROPN'], ['many', 'ADJ'], ['times', 'NOUN'], ['and', 'CCONJ'], ['they', 'PRON'], ['always', 'ADV'], ['do', 'VERB'], ['a', 'DET'], ['great', 'ADJ'], ['job', 'NOUN'], [',', 'PUNCT'], ['but', 'CCONJ'], ['this', 'DET'], ['time', 'NOUN'], ['they', 'PRON'], ['even', 'ADV'], ['exceeded', 'VERB'], ['their', 'PRON'], ['previously', 'ADV'], ['stellar', 'ADJ'], ['deliveries', 'NOUN'], ['and', 'CCONJ'], ['execution', 'NOUN'], [' ', 'SPACE'], ['I', 'PRON'], ['ordered', 'VERB'], ['flowers', 'NOUN'], ['for', 'ADP'], ['my', 'PRON'], ['daughter', 'NOUN'], [\"'s\", 'PART'], ['birthday', 'NOUN'], [',', 'PUNCT'], ['to', 'PART'], ['be', 'AUX'], ['delivered', 'VERB'], ['to', 'ADP'], ['her', 'PRON'], ['work', 'NOUN'], [',', 'PUNCT'], ['but', 'CCONJ'], ['I', 'PRON'], ['what', 'PRON'], ['I', 'PRON'], ['did', 'AUX'], [\"n't\", 'PART'], ['know', 'VERB'], ['is', 'VERB'], ['that', 'SCONJ'], ['she', 'PRON'], ['was', 'AUX'], [\"n't\", 'PART'], ['working', 'VERB'], ['that', 'DET'], ['day', 'NOUN'], ['.', 'PUNCT'], ['The', 'DET'], ['delivery', 'NOUN'], ['person', 'NOUN'], ['attempted', 'VERB'], ['delivery', 'NOUN'], [',', 'PUNCT'], ['found', 'VERB'], ['she', 'PRON'], ['was', 'AUX'], ['not', 'PART'], ['at', 'ADP'], ['work', 'NOUN'], [',', 'PUNCT'], ['called', 'VERB'], ['her', 'PRON'], [',', 'PUNCT'], ['found', 'VERB'], ['that', 'SCONJ'], ['she', 'PRON'], ['was', 'AUX'], ['at', 'ADP'], ['UNLV', 'PROPN'], ['(', 'PUNCT'], ['she', 'PRON'], [\"'s\", 'AUX'], ['a', 'DET'], ['student', 'NOUN'], ['there', 'ADV'], [')', 'PUNCT'], [',', 'PUNCT'], ['tracked', 'VERB'], ['her', 'PRON'], ['down', 'ADP'], ['on', 'ADP'], ['campus', 'NOUN'], ['and', 'CCONJ'], ['hand', 'NOUN'], ['delivered', 'VERB'], ['them', 'PRON'], ['to', 'ADP'], ['her', 'PRON'], ['.', 'PUNCT'], [' ', 'SPACE'], ['The', 'DET'], ['business', 'NOUN'], ['is', 'AUX'], ['the', 'DET'], ['most', 'ADV'], ['well', 'ADJ'], ['run', 'VERB'], ['and', 'CCONJ'], ['disciplined', 'VERB'], ['floral', 'ADJ'], ['business', 'NOUN'], ['I', 'PRON'], [\"'ve\", 'AUX'], ['ever', 'ADV'], ['used', 'VERB'], ['.', 'PUNCT'], [' ', 'SPACE'], ['They', 'PRON'], ['instill', 'VERB'], ['and', 'CCONJ'], ['reinforce', 'VERB'], ['a', 'DET'], ['work', 'NOUN'], ['ethic', 'ADV'], ['that', 'DET'], ['provides', 'VERB'], ['employees', 'NOUN'], ['with', 'ADP'], ['the', 'DET'], ['motivation', 'NOUN'], ['to', 'PART'], ['go', 'VERB'], [',', 'PUNCT'], ['above', 'ADV'], ['and', 'CCONJ'], ['beyond', 'ADV'], [',', 'PUNCT'], ['as', 'ADP'], ['they', 'PRON'], ['did', 'VERB'], ['with', 'ADP'], ['this', 'DET'], ['delivery', 'NOUN'], ['.', 'PUNCT'], ['And', 'CCONJ'], ['the', 'DET'], ['employees', 'NOUN'], ['must', 'AUX'], ['really', 'ADV'], ['enjoy', 'VERB'], ['working', 'VERB'], ['there', 'ADV'], ['to', 'PART'], ['go', 'VERB'], ['above', 'ADV'], ['and', 'CCONJ'], ['beyond', 'ADV'], ['as', 'ADP'], ['they', 'PRON'], ['do', 'VERB'], [',', 'PUNCT'], ['which', 'DET'], ['also', 'ADV'], ['says', 'VERB'], ['a', 'DET'], ['lot', 'NOUN'], ['.', 'PUNCT'], ['Simply', 'ADV'], ['the', 'DET'], ['best', 'ADJ'], ['floral', 'ADJ'], ['business', 'NOUN'], ['in', 'ADP'], ['Vegas', 'PROPN'], ['.', 'PUNCT'], ['\"', 'PUNCT'], [',', 'PUNCT'], ['\"', 'PUNCT'], ['On', 'ADP'], ['Mother', 'PROPN'], [\"'s\", 'PART'], ['Day', 'NOUN'], ['at', 'ADP'], ['noon', 'NOUN'], ['is', 'AUX'], ['not', 'PART'], ['the', 'DET'], ['time', 'NOUN'], ['to', 'PART'], ['shop', 'VERB'], ['for', 'ADP'], ['flowers', 'NOUN'], ['.', 'PUNCT'], ['After', 'ADP'], ['a', 'DET'], ['quick', 'ADJ'], ['check', 'NOUN'], ['on', 'ADP'], ['Yelp', 'PROPN'], ['I', 'PRON'], ['saw', 'VERB'], ['this', 'DET'], ['place', 'NOUN'], ['close', 'ADV'], ['by', 'ADV'], ['and', 'CCONJ'], ['rated', 'VERB'], ['VERY', 'ADV'], ['well', 'ADV'], ['.', 'PUNCT'], ['My', 'PRON'], ['daughter', 'NOUN'], ['walked', 'VERB'], ['in', 'ADV'], ['and', 'CCONJ'], ['they', 'PRON'], ['were', 'AUX'], ['pretty', 'ADV'], ['much', 'ADV'], ['picked', 'VERB'], ['clean', 'ADJ'], ['.', 'PUNCT'], ['Even', 'ADV'], ['though', 'SCONJ'], ['there', 'PRON'], ['were', 'AUX'], ['only', 'ADV'], ['a', 'DET'], ['couple', 'NOUN'], ['arrangements', 'NOUN'], ['left', 'VERB'], ['they', 'PRON'], ['were', 'AUX'], ['flawless', 'ADJ'], ['and', 'CCONJ'], ['we', 'PRON'], ['came', 'VERB'], ['out', 'SCONJ'], ['of', 'ADP'], ['the', 'DET'], ['predicament', 'NOUN'], ['looking', 'VERB'], ['like', 'ADP'], ['rockstars', 'NOUN'], ['.', 'PUNCT'], ['Now', 'ADV'], ['if', 'SCONJ'], ['wife', 'NOUN'], ['never', 'ADV'], ['sees', 'VERB'], ['this', 'DET'], ['review', 'NOUN'], ['I', 'PRON'], [\"'m\", 'VERB'], ['home', 'NOUN'], ['free', 'ADJ'], ['.', 'PUNCT'], ['\"', 'PUNCT'], [',', 'PUNCT'], ['\"', 'PUNCT'], ['Incredible', 'ADJ'], ['customer', 'NOUN'], ['service', 'NOUN'], ['and', 'CCONJ'], ['the', 'DET'], ['end', 'NOUN'], ['result', 'NOUN'], ['went', 'VERB'], ['beyond', 'ADP'], ['my', 'PRON'], ['expectations!\\\\n\\\\nI', 'PROPN'], ['met', 'VERB'], ['with', 'ADP'], ['Greg', 'PROPN'], ['two', 'NUM'], ['months', 'NOUN'], ['ago', 'ADV'], ['to', 'PART'], ['discuss', 'VERB'], ['my', 'PRON'], ['wedding', 'NOUN'], ['flower', 'NOUN'], ['arrangements', 'NOUN'], ['.', 'PUNCT'], [' ', 'SPACE'], ['I', 'PRON'], ['had', 'VERB'], ['an', 'DET'], ['idea', 'NOUN'], ['of', 'ADP'], ['what', 'PRON'], ['I', 'PRON'], ['wanted', 'VERB'], [',', 'PUNCT'], ['but', 'CCONJ'], ['could', 'AUX'], [\"n't\", 'PART'], ['exactly', 'ADV'], ['put', 'VERB'], ['it', 'PRON'], ['into', 'ADP'], ['words', 'NOUN'], ['.', 'PUNCT'], [' ', 'SPACE'], ['Greg', 'PROPN'], ['(', 'PUNCT'], ['the', 'DET'], ['owner', 'NOUN'], [')', 'PUNCT'], ['was', 'AUX'], ['amazing', 'ADJ'], ['to', 'PART'], ['work', 'VERB'], ['with', 'ADP'], ['.', 'PUNCT'], [' ', 'SPACE'], ['I', 'PRON'], ['scheduled', 'VERB'], ['a', 'DET'], ['consultation', 'NOUN'], ['and', 'CCONJ'], ['met', 'VERB'], ['with', 'ADP'], ['Greg', 'PROPN'], ['for', 'ADP'], ['about', 'ADV'], ['45', 'NUM'], ['minutes', 'NOUN'], ['to', 'PART'], ['discuss', 'VERB'], ['.', 'PUNCT'], [' ', 'SPACE'], ['He', 'PRON'], ['actually', 'ADV'], ['steered', 'VERB'], ['me', 'PRON'], ['into', 'ADP'], ['my', 'PRON'], ['inevitable', 'ADJ'], ['direction', 'NOUN'], ['and', 'CCONJ'], ['created', 'VERB'], ['a', 'DET'], ['bouquet', 'NOUN'], ['that', 'DET'], ['even', 'ADV'], ['my', 'PRON'], ['crazy', 'ADJ'], ['imagination', 'NOUN'], ['could', 'AUX'], [\"n't\", 'PART'], ['brew', 'VERB'], ['up', 'ADP'], ['.', 'PUNCT'], [' ', 'SPACE'], ['\\\\n\\\\nI', 'ADJ'], ['week', 'NOUN'], ['prior', 'ADV'], ['to', 'ADP'], ['my', 'PRON'], ['wedding', 'NOUN'], [',', 'PUNCT'], ['Greg', 'PROPN'], ['met', 'VERB'], ['with', 'ADP'], ['me', 'PRON'], ['again', 'ADV'], ['so', 'SCONJ'], ['that', 'SCONJ'], ['we', 'PRON'], ['could', 'AUX'], ['ensure', 'VERB'], ['everything', 'PRON'], ['was', 'AUX'], ['good', 'ADJ'], ['to', 'PART'], ['go', 'VERB'], ['.', 'PUNCT'], [' ', 'SPACE'], ['He', 'PRON'], ['was', 'AUX'], ['amazing', 'ADJ'], ['and', 'CCONJ'], ['completely', 'ADV'], ['understanding', 'NOUN'], ['of', 'ADP'], ['my', 'PRON'], ['little', 'ADJ'], ['Bridezilla', 'PROPN'], ['moment', 'NOUN'], ['.', 'PUNCT'], [' ', 'SPACE'], ['\\\\n\\\\nMy', 'VERB'], ['flowers', 'NOUN'], ['were', 'AUX'], ['ready', 'ADJ'], ['first', 'ADJ'], ['thing', 'NOUN'], ['in', 'ADP'], ['the', 'DET'], ['morning', 'NOUN'], ['for', 'ADP'], ['the', 'DET'], ['day', 'NOUN'], ['of', 'ADP'], ['my', 'PRON'], ['wedding', 'NOUN'], ['.', 'PUNCT'], [' ', 'SPACE'], ['They', 'PRON'], ['were', 'AUX'], ['gorgeous', 'ADJ'], ['!', 'PUNCT'], [' ', 'SPACE'], ['I', 'PRON'], ['received', 'VERB'], ['so', 'ADV'], ['many', 'ADJ'], ['compliments', 'NOUN'], ['and', 'CCONJ'], ['also', 'ADV'], ['personally', 'ADV'], ['loved', 'VERB'], ['my', 'PRON'], ['flowers', 'NOUN'], ['.', 'PUNCT'], [' ', 'SPACE'], ['I', 'PRON'], ['even', 'ADV'], ['received', 'VERB'], ['compliments', 'NOUN'], ['from', 'ADP'], ['men', 'NOUN'], ['and', 'CCONJ'], ['random', 'ADJ'], ['men', 'NOUN'], ['hanging', 'VERB'], ['around', 'ADP'], ['our', 'PRON'], ['reception', 'NOUN'], ['area', 'NOUN'], ['.', 'PUNCT'], [' ', 'SPACE'], ['Hell', 'PROPN'], [',', 'PUNCT'], ['even', 'ADV'], ['the', 'DET'], ['servers', 'NOUN'], ['at', 'ADP'], ['my', 'PRON'], ['ceremony', 'NOUN'], ['were', 'AUX'], ['picking', 'VERB'], ['them', 'PRON'], ['up', 'ADP'], ['and', 'CCONJ'], ['complimenting', 'VERB'], ['them', 'PRON'], ['.', 'PUNCT'], [' ', 'SPACE'], ['I', 'PRON'], ['had', 'VERB'], ['random', 'ADJ'], ['girls', 'NOUN'], ['asking', 'VERB'], ['to', 'PART'], ['take', 'VERB'], ['photos', 'NOUN'], ['with', 'ADP'], ['them', 'PRON'], [',', 'PUNCT'], ['as', 'ADV'], ['well', 'ADV'], ['.', 'PUNCT'], [' ', 'SPACE'], ['\\\\n\\\\nOverall', 'PUNCT'], [',', 'PUNCT'], ['I', 'PRON'], ['love', 'VERB'], ['this', 'DET'], ['flower', 'NOUN'], ['shop', 'NOUN'], ['and', 'CCONJ'], ['they', 'PRON'], ['did', 'VERB'], ['an', 'DET'], ['incredible', 'ADJ'], ['job', 'NOUN'], ['with', 'ADP'], ['my', 'PRON'], ['flowers', 'NOUN'], ['.', 'PUNCT'], [' ', 'SPACE'], ['And', 'CCONJ'], [',', 'PUNCT'], ['let', 'VERB'], ['me', 'PRON'], ['tell', 'VERB'], ['you', 'PRON'], [',', 'PUNCT'], ['my', 'PRON'], ['expectations', 'NOUN'], ['were', 'AUX'], ['really', 'ADV'], ['high', 'ADJ'], ['.', 'PUNCT'], [' ', 'SPACE'], ['A', 'DET'], ['week', 'NOUN'], ['has', 'AUX'], ['now', 'ADV'], ['passed', 'VERB'], ['since', 'SCONJ'], ['my', 'PRON'], ['wedding', 'NOUN'], ['day', 'NOUN'], ['and', 'CCONJ'], ['my', 'PRON'], ['flowers', 'NOUN'], ['are', 'AUX'], ['still', 'ADV'], ['sitting', 'VERB'], ['in', 'ADP'], ['the', 'DET'], ['giant', 'ADJ'], ['vase', 'NOUN'], ['that', 'DET'], ['they', 'PRON'], ['were', 'AUX'], ['delivered', 'VERB'], ['in', 'ADP'], ['and', 'CCONJ'], ['they', 'PRON'], ['still', 'ADV'], ['look', 'VERB'], ['amazing', 'ADJ'], ['!', 'PUNCT'], [' ', 'SPACE'], ['I', 'PRON'], ['will', 'AUX'], ['be', 'VERB'], ['back', 'ADV'], ['due', 'ADP'], ['to', 'ADP'], ['the', 'DET'], ['exceptional', 'ADJ'], ['end', 'NOUN'], ['result', 'NOUN'], [',', 'PUNCT'], ['the', 'DET'], ['fabulous', 'ADJ'], ['customer', 'NOUN'], ['service', 'NOUN'], ['and', 'CCONJ'], ['the', 'DET'], ['reasonable', 'ADJ'], ['prices.\\\\n\\\\nThank', 'NOUN'], ['you', 'PRON'], [',', 'PUNCT'], ['Greg', 'PROPN'], ['and', 'CCONJ'], ['the', 'DET'], ['entire', 'ADJ'], ['staff', 'NOUN'], ['!', 'PUNCT'], ['\"', 'PUNCT'], [',', 'PUNCT'], ['\"', 'PUNCT'], ['I', 'PRON'], [\"'d\", 'AUX'], ['been', 'AUX'], ['using', 'VERB'], ['Dancing', 'PROPN'], ['Dandelion', 'PROPN'], ['for', 'ADP'], ['roughly', 'ADV'], ['a', 'DET'], ['year', 'NOUN'], ['or', 'CCONJ'], ['so', 'ADV'], ['for', 'ADP'], ['my', 'PRON'], ['every', 'DET'], ['occasional', 'ADJ'], ['needs', 'NOUN'], [',', 'PUNCT'], ['as', 'ADV'], ['well', 'ADV'], ['as', 'ADP'], ['the', 'DET'], ['bi', 'ADJ'], ['-', 'ADJ'], ['monthly', 'ADJ'], ['single', 'ADJ'], ['lily', 'NOUN'], [',', 'PUNCT'], ['so', 'CCONJ'], ['it', 'PRON'], ['was', 'VERB'], ['a', 'DET'], ['no', 'DET'], ['brainer', 'NOUN'], ['to', 'PART'], ['use', 'VERB'], ['their', 'PRON'], ['services', 'NOUN'], ['when', 'ADV'], ['the', 'DET'], ['time', 'NOUN'], ['came', 'VERB'], ['to', 'ADP'], ['we', 'PRON'], ['d', 'NOUN'], ['my', 'PRON'], ['lovely', 'ADJ'], ['fiancé', 'NOUN'], ['.', 'PUNCT'], ['Greg', 'PROPN'], ['and', 'CCONJ'], ['his', 'PRON'], ['team', 'NOUN'], ['came', 'VERB'], ['through', 'ADP'], [',', 'PUNCT'], ['as', 'ADP'], ['they', 'PRON'], ['always', 'ADV'], ['do', 'VERB'], [',', 'PUNCT'], ['and', 'CCONJ'], ['set', 'VERB'], ['the', 'DET'], ['tone', 'NOUN'], ['for', 'ADP'], ['our', 'PRON'], ['wedding', 'NOUN'], ['day', 'NOUN'], ['.', 'PUNCT'], ['Everything', 'PRON'], ['from', 'ADP'], ['the', 'DET'], ['corsages', 'NOUN'], [',', 'PUNCT'], ['rose', 'VERB'], ['petals', 'NOUN'], [',', 'PUNCT'], ['to', 'ADP'], ['the', 'DET'], ['bouquet', 'NOUN'], ['were', 'AUX'], ['absolutely', 'ADV'], ['gorgeous', 'ADJ'], ['!', 'PUNCT'], ['\\\\nWe', 'X'], ['still', 'ADV'], ['receive', 'VERB'], ['compliments', 'NOUN'], ['about', 'ADP'], ['the', 'DET'], ['table', 'NOUN'], ['arrangements', 'NOUN'], ['and', 'CCONJ'], ['overall', 'ADJ'], ['beauty', 'NOUN'], ['of', 'ADP'], ['the', 'DET'], ['flowers', 'NOUN'], ['provided', 'VERB'], ['by', 'ADP'], ['the', 'DET'], ['Dancing', 'PROPN'], ['Dandelion', 'PROPN'], ['Flower', 'PROPN'], ['Shop', 'PROPN'], ['!', 'PUNCT'], ['As', 'ADP'], ['mentioned', 'VERB'], ['in', 'ADP'], ['other', 'ADJ'], ['reviews', 'NOUN'], [',', 'PUNCT'], ['and', 'CCONJ'], ['a', 'DET'], ['given', 'VERB'], [',', 'PUNCT'], ['there', 'PRON'], ['are', 'AUX'], ['so', 'ADV'], ['many', 'ADJ'], ['stressors', 'NOUN'], ['throughout', 'ADP'], ['the', 'DET'], ['coordination', 'NOUN'], ['process', 'NOUN'], ['of', 'ADP'], ['a', 'DET'], ['wedding', 'NOUN'], ['...', 'PUNCT'], ['that', 'DET'], ['being', 'AUX'], ['said', 'VERB'], ['let', 'VERB'], ['Greg', 'PROPN'], ['and', 'CCONJ'], ['his', 'PRON'], ['team', 'NOUN'], ['remove', 'VERB'], ['all', 'DET'], ['the', 'DET'], ['stress', 'NOUN'], ['of', 'ADP'], ['your', 'PRON'], ['floral', 'ADJ'], ['needs', 'NOUN'], ['during', 'ADP'], ['your', 'PRON'], ['special', 'ADJ'], ['day.\\\\n*the', 'NOUN'], ['bride', 'NOUN'], ['bouquet', 'NOUN'], ['was', 'AUX'], ['so', 'ADV'], ['beautiful', 'ADJ'], ['we', 'PRON'], ['repurposed', 'VERB'], ['it', 'PRON'], ['on', 'ADP'], ['our', 'PRON'], ['table', 'NOUN'], ['!', 'PUNCT'], ['=)', 'X'], ['\"', 'PUNCT'], [',', 'PUNCT'], ['\"', 'PUNCT'], ['We', 'PRON'], ['had', 'VERB'], ['the', 'DET'], ['pleasure', 'NOUN'], ['working', 'VERB'], ['with', 'ADP'], ['Greg', 'PROPN'], ['for', 'ADP'], ['our', 'PRON'], ['wedding', 'NOUN'], ['held', 'VERB'], ['last', 'ADJ'], ['11', 'NUM'], ['-', 'SYM'], ['8', 'NUM'], ['-', 'NUM'], ['2014', 'NUM'], ['.', 'PUNCT'], ['Greg', 'PROPN'], ['was', 'AUX'], ['so', 'ADV'], ['accommodating', 'VERB'], ['and', 'CCONJ'], ['very', 'ADV'], ['honest', 'ADJ'], ['with', 'ADP'], ['what', 'PRON'], ['to', 'PART'], ['expect', 'VERB'], [',', 'PUNCT'], ['ideas', 'NOUN'], ['and', 'CCONJ'], ['suggestions', 'NOUN'], ['.', 'PUNCT'], ['\\\\n\\\\nThe', 'NUM'], ['day', 'NOUN'], ['of', 'ADP'], ['the', 'DET'], ['wedding', 'NOUN'], ['when', 'ADV'], ['he', 'PRON'], ['delivered', 'VERB'], ['the', 'DET'], ['flowers', 'NOUN'], [',', 'PUNCT'], ['I', 'PRON'], ['was', 'AUX'], ['speechless', 'ADJ'], ['.', 'PUNCT'], ['The', 'DET'], ['flowers', 'NOUN'], ['were', 'AUX'], ['so', 'ADV'], ['simple', 'ADJ'], ['yet', 'ADV'], ['elegant', 'ADJ'], ['and', 'CCONJ'], ['just', 'ADV'], ['what', 'PRON'], ['I', 'PRON'], ['was', 'AUX'], ['going', 'VERB'], ['for', 'ADP'], ['.', 'PUNCT'], ['The', 'DET'], ['colors', 'NOUN'], ['matched', 'VERB'], ['our', 'PRON'], ['motif', 'NOUN'], ['perfectly.\\\\nThe', 'DET'], ['centerpieces', 'NOUN'], ['were', 'VERB'], ['a', 'DET'], ['beauty', 'NOUN'], ['.', 'PUNCT'], ['It', 'PRON'], ['was', 'AUX'], [\"n't\", 'PART'], ['too', 'ADV'], ['busy', 'ADJ'], ['looking', 'VERB'], ['.', 'PUNCT'], ['A', 'DET'], ['lot', 'NOUN'], ['of', 'ADP'], ['the', 'DET'], ['guests', 'NOUN'], ['took', 'VERB'], ['the', 'DET'], ['centerpieces', 'NOUN'], ['home', 'ADV'], ['with', 'ADP'], ['them.\\\\n\\\\nGreg', 'NUM'], [',', 'PUNCT'], ['we', 'PRON'], ['thank', 'VERB'], ['you', 'PRON'], ['for', 'ADP'], ['your', 'PRON'], ['help', 'NOUN'], ['.', 'PUNCT'], ['Words', 'NOUN'], ['can', 'AUX'], ['not', 'PART'], ['express', 'VERB'], ['how', 'ADV'], ['happy', 'ADJ'], ['we', 'PRON'], ['were', 'AUX'], ['.', 'PUNCT'], ['Hope', 'NOUN'], ['to', 'PART'], ['do', 'VERB'], ['business', 'NOUN'], ['with', 'ADP'], ['you', 'PRON'], ['again.\\\\n\\\\nPS', 'NOUN'], ['...', 'PUNCT'], ['thanks', 'NOUN'], ['for', 'ADP'], ['Jazmin', 'PROPN'], ['discount', 'NOUN'], [':)', 'PRON'], ['\"', 'PUNCT'], [',', 'PUNCT'], ['\"', 'PUNCT'], ['We', 'PRON'], ['just', 'ADV'], ['lost', 'VERB'], ['a', 'DET'], ['very', 'ADV'], ['good', 'ADJ'], ['friend', 'NOUN'], ['of', 'ADP'], ['ours', 'NOUN'], ['and', 'CCONJ'], ['wanted', 'VERB'], ['to', 'PART'], ['send', 'VERB'], ['flowers', 'NOUN'], ['to', 'ADP'], ['her', 'PRON'], ['family', 'NOUN'], ['.', 'PUNCT'], [' ', 'SPACE'], ['Their', 'PRON'], ['website', 'NOUN'], ['is', 'AUX'], [\"n't\", 'PART'], ['the', 'DET'], ['best', 'ADJ'], ['and', 'CCONJ'], ['the', 'DET'], ['options', 'NOUN'], ['they', 'PRON'], ['had', 'VERB'], ['on', 'ADP'], ['display', 'NOUN'], ['were', 'VERB'], ['pretty', 'ADV'], ['limited', 'ADJ'], ['and', 'CCONJ'], ['pink', 'ADJ'], ['due', 'ADP'], ['to', 'ADP'], ['valentine', 'NOUN'], [\"'s\", 'PART'], ['being', 'NOUN'], ['next', 'ADJ'], ['week', 'NOUN'], ['BUT', 'CCONJ'], ['i', 'PRON'], ['called', 'VERB'], ['them', 'PRON'], ['and', 'CCONJ'], ['was', 'VERB'], ['able', 'ADJ'], ['to', 'PART'], ['figure', 'VERB'], ['something', 'PRON'], ['out', 'ADP'], ['that', 'DET'], ['was', 'AUX'], ['more', 'ADV'], ['appropriate', 'ADJ'], ['.', 'PUNCT'], ['I', 'PRON'], ['was', 'AUX'], ['very', 'ADV'], ['very', 'ADV'], ['impressed', 'ADJ'], ['with', 'ADP'], ['them', 'PRON'], ['for', 'ADP'], ['calling', 'VERB'], ['me', 'PRON'], ['and', 'CCONJ'], ['sending', 'VERB'], ['me', 'PRON'], ['a', 'DET'], ['picture', 'NOUN'], ['PRIOR', 'ADV'], ['to', 'ADP'], ['delivering', 'VERB'], ['them', 'PRON'], ['so', 'ADV'], ['i', 'PRON'], ['could', 'AUX'], ['tell', 'VERB'], ['them', 'PRON'], ['to', 'PART'], ['change', 'VERB'], ['it', 'PRON'], ['or', 'CCONJ'], ['whatever', 'PRON'], ['but', 'CCONJ'], ['i', 'PRON'], ['ended', 'VERB'], ['up', 'ADP'], ['loving', 'VERB'], ['them', 'PRON'], ['and', 'CCONJ'], ['did', 'AUX'], [\"n't\", 'PART'], ['change', 'VERB'], ['a', 'DET'], ['thing', 'NOUN'], ['.', 'PUNCT'], [' ', 'SPACE'], ['\\\\nThanks', 'NOUN'], ['for', 'ADP'], ['making', 'VERB'], ['such', 'DET'], ['a', 'DET'], ['beautiful', 'ADJ'], ['arrangement', 'NOUN'], ['.', 'PUNCT'], ['That', 'DET'], ['pink', 'ADJ'], ['lily', 'ADV'], ['in', 'ADP'], ['front', 'NOUN'], ['is', 'AUX'], ['Tina', 'PROPN'], ['all', 'DET'], ['the', 'DET'], ['way', 'NOUN'], ['.', 'PUNCT'], ['\"', 'PUNCT'], [',', 'PUNCT'], [\"'\", 'PUNCT'], ['Ordered', 'VERB'], ['my', 'PRON'], ['flowers', 'NOUN'], ['long', 'ADJ'], ['distance', 'NOUN'], ['for', 'ADP'], ['my', 'PRON'], ['upcoming', 'ADJ'], ['nuptials', 'NOUN'], ['.', 'PUNCT'], [' ', 'SPACE'], ['Spoke', 'VERB'], ['with', 'ADP'], ['Greg', 'PROPN'], ['who', 'PRON'], ['was', 'VERB'], ['very', 'ADV'], ['patient', 'ADJ'], ['and', 'CCONJ'], ['accommodating', 'VERB'], ['.', 'PUNCT'], ['I', 'PRON'], ['called', 'VERB'], ['and', 'CCONJ'], ['told', 'VERB'], ['him', 'PRON'], ['what', 'PRON'], ['I', 'PRON'], ['wanted', 'VERB'], ['and', 'CCONJ'], ['the', 'DET'], ['flowers', 'NOUN'], ['came', 'VERB'], ['out', 'ADP'], ['exactly', 'ADV'], ['as', 'ADP'], ['I', 'PRON'], ['pictured', 'VERB'], ['them', 'PRON'], ['.', 'PUNCT'], ['Days', 'NOUN'], ['later', 'ADV'], ['they', 'PRON'], ['are', 'AUX'], ['still', 'ADV'], ['alive', 'ADJ'], ['.', 'PUNCT'], ['I', 'PRON'], ['highly', 'ADV'], ['recommend', 'VERB'], ['a', 'DET'], ['this', 'DET'], ['florist', 'NOUN'], ['for', 'ADP'], ['any', 'DET'], ['future', 'ADJ'], ['bouquet', 'NOUN'], ['orders', 'NOUN'], ['.', 'PUNCT'], ['Flowers', 'NOUN'], ['were', 'AUX'], ['delivered', 'VERB'], ['on', 'ADP'], ['time', 'NOUN'], ['.', 'PUNCT'], ['Thanks', 'NOUN'], ['!', 'PUNCT'], ['!', 'PUNCT'], [\"'\", 'PUNCT'], [',', 'PUNCT'], [\"'\", 'PUNCT'], ['5', 'NUM'], ['star', 'NOUN'], ['customer', 'NOUN'], ['service', 'NOUN'], ['!', 'PUNCT'], ['I', 'PRON'], ['requested', 'VERB'], ['star', 'NOUN'], ['gazers', 'NOUN'], ['in', 'ADP'], ['an', 'DET'], ['arrangement', 'NOUN'], ['for', 'ADP'], ['a', 'DET'], ['hospital', 'NOUN'], ['patient', 'NOUN'], ['.', 'PUNCT'], ['None', 'NOUN'], ['were', 'AUX'], ['available', 'ADJ'], ['for', 'ADP'], ['the', 'DET'], ['arrangement', 'NOUN'], ['for', 'ADP'], ['next', 'ADJ'], ['day', 'NOUN'], ['delivery', 'NOUN'], ['.', 'PUNCT'], ['2', 'NUM'], ['days', 'NOUN'], ['later', 'ADV'], [',', 'PUNCT'], ['Dancing', 'PROPN'], ['delivered', 'VERB'], ['them', 'PRON'], ['in', 'ADP'], ['a', 'DET'], ['second', 'ADJ'], ['delivery', 'NOUN'], ['to', 'ADP'], ['the', 'DET'], ['hospital', 'NOUN'], ['in', 'ADP'], ['a', 'DET'], ['bud', 'NOUN'], ['vase', 'NOUN'], ['.', 'PUNCT'], ['Totally', 'ADV'], ['beautiful', 'ADJ'], ['.', 'PUNCT'], ['Their', 'PRON'], ['flowers', 'NOUN'], ['were', 'AUX'], ['posh', 'ADJ'], ['pedals', 'NOUN'], ['and', 'CCONJ'], ['top', 'ADJ'], ['quality', 'NOUN'], ['.', 'PUNCT'], [\"'\", 'PUNCT'], [',', 'PUNCT'], [\"'\", 'PUNCT'], ['I', 'PRON'], ['had', 'AUX'], ['came', 'VERB'], ['here', 'ADV'], ['upon', 'SCONJ'], ['\"', 'PUNCT'], ['researching', 'VERB'], ['\"', 'PUNCT'], ['on', 'ADP'], ['yelp', 'NOUN'], ['to', 'PART'], ['find', 'VERB'], ['flowers', 'NOUN'], ['for', 'ADP'], ['my', 'PRON'], ['best', 'ADJ'], ['friend', 'NOUN'], ['for', 'ADP'], ['Valentines', 'PROPN'], ['Day', 'PROPN'], ['.', 'PUNCT'], ['I', 'PRON'], ['came', 'VERB'], ['here', 'ADV'], ['about', 'ADV'], ['a', 'DET'], ['week', 'NOUN'], ['before', 'ADP'], ['the', 'DET'], ['date', 'NOUN'], ['to', 'PART'], ['place', 'VERB'], ['an', 'DET'], ['order', 'NOUN'], ['.', 'PUNCT'], ['I', 'PRON'], ['knew', 'VERB'], ['my', 'PRON'], ['best', 'ADJ'], ['friend', 'NOUN'], ['loves', 'VERB'], ['purple', 'ADJ'], ['so', 'ADV'], ['i', 'PRON'], ['tried', 'VERB'], ['my', 'PRON'], ['best', 'ADJ'], ['to', 'PART'], ['find', 'VERB'], ['close', 'ADJ'], ['to', 'ADP'], ['it', 'PRON'], ['.', 'PUNCT'], ['\\\\n\\\\nThe', 'ADJ'], ['workers', 'NOUN'], ['are', 'AUX'], ['super', 'ADV'], ['nice', 'ADJ'], ['and', 'CCONJ'], ['tried', 'VERB'], ['to', 'PART'], ['help', 'VERB'], ['me', 'PRON'], ['find', 'VERB'], ['what', 'PRON'], ['i', 'PRON'], ['wanted', 'VERB'], ['.', 'PUNCT'], [\"I\\\\'ve\", 'PROPN'], ['always', 'ADV'], ['liked', 'VERB'], ['lilies', 'NOUN'], ['and', 'CCONJ'], ['i', 'PRON'], ['thought', 'VERB'], ['it', 'PRON'], ['was', 'AUX'], ['a', 'DET'], ['nice', 'ADJ'], ['that', 'SCONJ'], ['they', 'PRON'], ['had', 'VERB'], ['an', 'DET'], ['arrangement', 'NOUN'], ['with', 'ADP'], ['roses', 'NOUN'], ['and', 'CCONJ'], ['lillies', 'NOUN'], ['.', 'PUNCT'], ['Its', 'PRON'], ['not', 'PART'], ['the', 'DET'], ['purple', 'NOUN'], ['i', 'PRON'], ['had', 'VERB'], ['in', 'ADP'], ['mind', 'NOUN'], ['but', 'CCONJ'], ['it', 'PRON'], ['worked', 'VERB'], ['out', 'ADP'], ['in', 'ADP'], ['the', 'DET'], ['end', 'NOUN'], ['.', 'PUNCT'], ['The', 'DET'], ['lilies', 'NOUN'], ['were', 'AUX'], ['white', 'ADJ'], ['edged', 'VERB'], ['with', 'ADP'], ['a', 'DET'], ['purple', 'NOUN'], ['that', 'DET'], ['was', 'VERB'], ['fairly', 'ADV'], ['close', 'ADJ'], ['to', 'ADP'], ['the', 'DET'], ['roses', 'NOUN'], ['.', 'PUNCT'], ['They', 'PRON'], ['helped', 'AUX'], ['suggest', 'VERB'], ['what', 'PRON'], ['would', 'AUX'], ['look', 'VERB'], ['best', 'ADJ'], ['(', 'PUNCT'], ['especially', 'ADV'], ['since', 'SCONJ'], ['i', 'PRON'], ['asked', 'VERB'], ['for', 'ADP'], ['purple', 'ADJ'], ['roses', 'NOUN'], [')', 'PUNCT'], ['and', 'CCONJ'], ['what', 'PRON'], ['not', 'PART'], ['(', 'PUNCT'], ['hey', 'INTJ'], ['i', 'PRON'], ['have', 'AUX'], ['nt', 'PART'], ['bought', 'VERB'], ['anyone', 'PRON'], ['nice', 'ADJ'], ['flowers', 'NOUN'], ['in', 'ADP'], ['ages', 'NOUN'], ['!', 'PUNCT'], ['so', 'ADV'], ['i', 'PRON'], ['asked', 'VERB'], ['quite', 'DET'], ['a', 'DET'], ['bit', 'NOUN'], ['of', 'ADP'], ['questions', 'NOUN'], ['to', 'PART'], ['make', 'VERB'], ['sure', 'ADJ'], ['they', 'PRON'], ['know', 'VERB'], ['what', 'PRON'], ['i', 'PRON'], ['wanted', 'VERB'], ['and', 'CCONJ'], ['i', 'PRON'], ['knew', 'VERB'], ['what', 'PRON'], ['i', 'PRON'], ['was', 'AUX'], ['getting', 'VERB'], [')', 'PUNCT'], ['.', 'PUNCT'], ['The', 'DET'], ['guy', 'NOUN'], ['said', 'VERB'], ['they', 'PRON'], ['had', 'VERB'], ['a', 'DET'], ['limited', 'ADJ'], ['amount', 'NOUN'], ['of', 'ADP'], ['purple', 'ADJ'], ['roses', 'NOUN'], ['but', 'CCONJ'], ['guaranteed', 'VERB'], ['they', 'PRON'], ['would', 'AUX'], ['have', 'VERB'], ['enough', 'ADJ'], ['for', 'ADP'], ['my', 'PRON'], ['order', 'NOUN'], ['.', 'PUNCT'], ['*', 'PUNCT'], ['crosses', 'VERB'], ['fingers', 'NOUN'], ['*', 'PUNCT'], ['\\\\n\\\\nOrder', 'PROPN'], ['was', 'AUX'], ['placed', 'VERB'], ['and', 'CCONJ'], ['paid', 'VERB'], ['for', 'ADP'], ['and', 'CCONJ'], ['they', 'PRON'], ['said', 'VERB'], ['i', 'PRON'], ['can', 'AUX'], ['pick', 'VERB'], ['it', 'PRON'], ['up', 'ADP'], ['any', 'DET'], ['time', 'NOUN'], ['day', 'NOUN'], ['of', 'ADP'], ['.', 'PUNCT'], ['\\\\n\\\\nOur', 'PUNCT'], ['plan', 'NOUN'], ['was', 'AUX'], [',', 'PUNCT'], ['we', 'PRON'], ['had', 'VERB'], ['dinner', 'NOUN'], ['scheduled', 'VERB'], ['at', 'ADP'], ['6', 'NUM'], ['pm', 'NOUN'], ['so', 'ADV'], [\"i\\\\'d\", 'PROPN'], ['pick', 'VERB'], ['it', 'PRON'], ['up', 'ADP'], ['as', 'ADV'], ['close', 'ADV'], ['as', 'ADP'], ['i', 'PRON'], ['could', 'AUX'], ['to', 'ADP'], ['it', 'PRON'], ['.', 'PUNCT'], ['I', 'PRON'], ['found', 'VERB'], ['out', 'ADP'], ['they', 'PRON'], ['closed', 'VERB'], ['at', 'ADP'], ['4', 'NUM'], ['pm', 'NOUN'], ['on', 'ADP'], ['Saturdays', 'PROPN'], ['but', 'CCONJ'], ['they', 'PRON'], ['said', 'VERB'], [\"they\\\\'d\", 'PROPN'], ['be', 'VERB'], ['open', 'ADJ'], ['longer', 'ADV'], ['for', 'ADP'], ['pick', 'NOUN'], ['ups', 'NOUN'], ['.', 'PUNCT'], ['I', 'PRON'], [\"didn\\\\'t\", 'VERB'], ['want', 'VERB'], ['to', 'PART'], ['be', 'VERB'], ['THAT', 'DET'], ['guy', 'NOUN'], ['who', 'PRON'], ['holds', 'VERB'], ['up', 'ADP'], ['the', 'DET'], ['entire', 'ADJ'], ['store', 'NOUN'], ['from', 'ADP'], ['getting', 'VERB'], ['off', 'ADP'], ['work', 'NOUN'], ['so', 'ADV'], ['i', 'PRON'], ['picked', 'VERB'], ['up', 'ADP'], ['the', 'DET'], ['flowers', 'NOUN'], ['at', 'ADP'], ['3:30', 'NUM'], ['.', 'PUNCT'], ['Originally', 'ADV'], ['on', 'ADP'], ['order', 'NOUN'], [',', 'PUNCT'], ['i', 'PRON'], ['had', 'AUX'], ['asked', 'VERB'], ['for', 'ADP'], ['a', 'DET'], ['wrapped', 'VERB'], ['bouquet', 'NOUN'], ['but', 'CCONJ'], ['when', 'ADV'], ['i', 'PRON'], ['picked', 'VERB'], ['it', 'PRON'], ['up', 'ADP'], [',', 'PUNCT'], ['it', 'PRON'], ['was', 'VERB'], ['in', 'ADP'], ['a', 'DET'], ['water', 'NOUN'], ['filled', 'VERB'], ['glass', 'NOUN'], ['vase', 'NOUN'], ['.', 'PUNCT'], ['Oh', 'INTJ'], ['man', 'NOUN'], ['how', 'ADV'], ['am', 'AUX'], ['i', 'PRON'], ['gon', 'VERB'], ['na', 'PART'], ['give', 'VERB'], ['it', 'PRON'], ['to', 'ADP'], ['her', 'PRON'], ['at', 'ADP'], ['dinner', 'NOUN'], ['?', 'PUNCT'], ['Lol', 'PROPN'], ['But', 'CCONJ'], ['they', 'PRON'], ['recommended', 'VERB'], ['this', 'DET'], ['would', 'AUX'], ['keep', 'VERB'], ['its', 'PRON'], ['shape', 'NOUN'], ['the', 'DET'], ['best', 'ADJ'], ['so', 'ADV'], ['i', 'PRON'], ['went', 'VERB'], ['with', 'ADP'], ['it', 'PRON'], ['.', 'PUNCT'], ['\\\\n\\\\nThe', 'ADJ'], ['flowers', 'NOUN'], ['held', 'VERB'], ['up', 'ADP'], ['in', 'ADP'], ['the', 'DET'], ['car', 'NOUN'], ['.', 'PUNCT'], ['the', 'DET'], ['owner', 'NOUN'], ['?', 'PUNCT'], ['suggested', 'VERB'], ['how', 'ADV'], ['to', 'PART'], ['put', 'VERB'], ['it', 'PRON'], ['in', 'ADP'], ['the', 'DET'], ['car', 'NOUN'], ['and', 'CCONJ'], ['how', 'ADV'], ['to', 'PART'], ['make', 'VERB'], ['it', 'PRON'], ['stay', 'VERB'], ['put', 'ADJ'], ['in', 'ADP'], ['the', 'DET'], ['seat', 'NOUN'], ['.', 'PUNCT'], ['The', 'DET'], ['flowers', 'NOUN'], ['sat', 'VERB'], ['in', 'ADP'], ['the', 'DET'], ['car', 'NOUN'], ['with', 'ADP'], ['some', 'DET'], ['windows', 'NOUN'], ['cracked', 'VERB'], ['open', 'ADJ'], ['(', 'PUNCT'], ['oh', 'INTJ'], ['man', 'INTJ'], ['they', 'PRON'], ['smelled', 'VERB'], ['strong', 'ADJ'], ['XD', 'PROPN'], ['especially', 'ADV'], ['in', 'ADP'], ['a', 'DET'], ['\"', 'PUNCT'], ['confined', 'ADJ'], ['\"', 'PUNCT'], ['space', 'NOUN'], ['like', 'ADP'], ['a', 'DET'], ['car', 'NOUN'], [')', 'PUNCT'], ['XD', 'PROPN'], ['o', 'INTJ'], ['well', 'INTJ'], ['.', 'PUNCT'], ['luckily', 'ADV'], ['my', 'PRON'], ['nose', 'NOUN'], ['did', 'AUX'], ['nt', 'PART'], ['go', 'VERB'], ['FUUUUU', 'PROPN'], ['!', 'PUNCT'], ['lol', 'PROPN'], ['XD', 'PROPN'], ['They', 'PRON'], ['held', 'VERB'], ['up', 'ADP'], ['all', 'DET'], ['night', 'NOUN'], ['and', 'CCONJ'], ['next', 'ADJ'], ['day', 'NOUN'], ['til', 'SCONJ'], ['she', 'PRON'], ['went', 'VERB'], ['home', 'ADV'], ['.', 'PUNCT'], ['\\\\n\\\\nOnly', 'ADV'], ['downside', 'ADV'], ['about', 'ADP'], ['lilies', 'NOUN'], ['is', 'AUX'], ['they', 'PRON'], ['did', 'AUX'], ['nt', 'PART'], ['last', 'VERB'], ['as', 'ADV'], ['long', 'ADV'], ['as', 'ADP'], ['the', 'DET'], ['roses', 'NOUN'], ['and', 'CCONJ'], ['the', 'DET'], ['pistils', 'NOUN'], ['?', 'PUNCT'], ['tend', 'VERB'], ['to', 'PART'], ['fall', 'VERB'], ['off', 'ADP'], ['and', 'CCONJ'], ['stain', 'VERB'], ['whatever', 'DET'], ['they', 'PRON'], ['fall', 'VERB'], ['on', 'ADP'], [':(', 'PUNCT'], ['sad', 'ADJ'], ['face', 'NOUN'], ['!', 'PUNCT'], ['hope', 'VERB'], ['she', 'PRON'], ['liked', 'VERB'], ['the', 'DET'], ['flowers', 'NOUN'], ['XD', 'PROPN'], ['\\\\n\\\\nOverall', 'PUNCT'], ['back', 'ADV'], ['to', 'ADP'], ['the', 'DET'], ['store', 'NOUN'], ['.', 'PUNCT'], ['Great', 'ADJ'], ['customer', 'NOUN'], ['service', 'NOUN'], ['!', 'PUNCT'], [':D', 'PUNCT'], [\"'\", 'PUNCT'], [',', 'PUNCT'], ['\"', 'PUNCT'], ['Wow', 'INTJ'], ['!', 'PUNCT'], [' ', 'SPACE'], ['Susie', 'PROPN'], ['was', 'AUX'], ['simply', 'ADV'], ['amazing', 'ADJ'], ['for', 'ADP'], ['taking', 'VERB'], ['a', 'DET'], ['last', 'ADJ'], ['minute', 'NOUN'], ['order', 'NOUN'], ['over', 'ADP'], ['the', 'DET'], ['phone', 'NOUN'], ['.', 'PUNCT'], [' ', 'SPACE'], ['My', 'PRON'], ['friend', 'NOUN'], ['had', 'AUX'], ['just', 'ADV'], ['given', 'VERB'], ['birth', 'NOUN'], ['to', 'ADP'], ['a', 'DET'], ['baby', 'NOUN'], ['girl', 'NOUN'], ['and', 'CCONJ'], ['I', 'PRON'], ['wanted', 'VERB'], ['to', 'PART'], ['send', 'VERB'], ['over', 'ADP'], ['flowers', 'NOUN'], ['as', 'ADP'], ['I', 'PRON'], ['was', 'VERB'], ['not', 'PART'], ['able', 'ADJ'], ['to', 'PART'], ['visit', 'VERB'], ['her', 'PRON'], ['that', 'DET'], ['day', 'NOUN'], ['.', 'PUNCT'], [' ', 'SPACE'], ['As', 'ADP'], ['I', 'PRON'], ['searched', 'VERB'], ['for', 'ADP'], ['a', 'DET'], ['nearby', 'ADJ'], ['florist', 'ADJ'], ['shop', 'NOUN'], [',', 'PUNCT'], ['The', 'DET'], ['Dancing', 'PROPN'], ['Dandelion', 'PROPN'], ['popped', 'VERB'], ['up', 'ADP'], ['on', 'ADP'], ['my', 'PRON'], ['Yelp', 'NOUN'], ['search', 'NOUN'], ['with', 'ADP'], ['high', 'ADJ'], ['ratings', 'NOUN'], ['.', 'PUNCT'], [' ', 'SPACE'], ['Sometimes', 'ADV'], ['you', 'PRON'], ['ca', 'AUX'], [\"n't\", 'PART'], ['always', 'ADV'], ['believe', 'VERB'], ['the', 'DET'], ['hype', 'NOUN'], ['until', 'ADP'], ['you', 'PRON'], ['experience', 'VERB'], ['it', 'PRON'], ['for', 'ADP'], ['yourself', 'PRON'], ['...', 'PUNCT'], ['this', 'DET'], ['was', 'AUX'], ['legit', 'VERB'], ['one', 'NUM'], ['of', 'ADP'], ['the', 'DET'], ['best', 'ADJ'], ['experiences', 'NOUN'], ['ever', 'ADV'], ['!', 'PUNCT'], [' ', 'SPACE'], ['Susie', 'PROPN'], ['was', 'AUX'], ['warm', 'ADJ'], ['and', 'CCONJ'], ['friendly', 'ADJ'], ['throughout', 'ADP'], ['the', 'DET'], ['whole', 'ADJ'], ['interaction', 'NOUN'], ['.', 'PUNCT'], [' ', 'SPACE'], ['Her', 'PRON'], ['phone', 'NOUN'], ['mannerisms', 'NOUN'], ['was', 'AUX'], ['on', 'ADP'], ['point', 'NOUN'], ['!', 'PUNCT'], [' ', 'SPACE'], ['The', 'DET'], ['whole', 'ADJ'], ['process', 'NOUN'], ['was', 'AUX'], ['seamless', 'ADJ'], ['and', 'CCONJ'], ['she', 'PRON'], ['was', 'VERB'], ['able', 'ADJ'], ['to', 'PART'], ['do', 'VERB'], ['same', 'ADJ'], ['day', 'NOUN'], ['delivery', 'NOUN'], ['!', 'PUNCT'], [' ', 'SPACE'], ['I', 'PRON'], ['appreciate', 'VERB'], ['businesses', 'NOUN'], ['who', 'PRON'], ['get', 'VERB'], ['the', 'DET'], ['job', 'NOUN'], ['done', 'VERB'], ['right', 'NOUN'], ['!', 'PUNCT'], [' ', 'SPACE'], ['I', 'PRON'], ['wish', 'VERB'], ['Susie', 'PROPN'], ['and', 'CCONJ'], ['The', 'DET'], ['Dancing', 'PROPN'], ['Dandelion', 'PROPN'], ['continued', 'VERB'], ['success', 'NOUN'], ['!', 'PUNCT'], ['\"', 'PUNCT'], [',', 'PUNCT'], ['\"', 'PUNCT'], ['We', 'PRON'], ['are', 'AUX'], ['from', 'ADP'], ['Canada', 'PROPN'], ['and', 'CCONJ'], ['normally', 'ADV'], ['we', 'PRON'], ['use', 'VERB'], ['the', 'DET'], ['large', 'ADJ'], ['flower', 'NOUN'], ['company', 'NOUN'], ['chains', 'NOUN'], ['when', 'ADV'], ['having', 'VERB'], ['flowers', 'NOUN'], ['delivered', 'VERB'], ['for', 'ADP'], ['various', 'ADJ'], ['events', 'NOUN'], ['or', 'CCONJ'], ['special', 'ADJ'], ['occasions.\\\\nWe', 'NOUN'], ['decided', 'VERB'], ['to', 'PART'], ['talk', 'VERB'], ['directly', 'ADV'], ['with', 'ADP'], ['Greg', 'PROPN'], ['at', 'ADP'], ['Dancing', 'PROPN'], ['Dandelion', 'PROPN'], ['because', 'SCONJ'], ['it', 'PRON'], ['was', 'VERB'], ['a', 'DET'], ['family', 'NOUN'], ['run', 'NOUN'], ['business.\\\\nWe', 'NOUN'], ['placed', 'VERB'], ['the', 'DET'], ['order', 'NOUN'], ['and', 'CCONJ'], ['made', 'VERB'], ['a', 'DET'], ['few', 'ADJ'], ['changes', 'NOUN'], ['based', 'VERB'], ['on', 'ADP'], ['Greg', 'PROPN'], [\"'s\", 'PART'], ['reccomendations', 'NOUN'], [' ', 'SPACE'], ['and', 'CCONJ'], ['like', 'ADP'], ['everyone', 'PRON'], ['else', 'ADV'], ['who', 'PRON'], ['orders', 'VERB'], ['flowers', 'NOUN'], ['hoped', 'VERB'], ['it', 'PRON'], ['would', 'AUX'], ['be', 'VERB'], ['a', 'DET'], ['nice', 'ADJ'], ['arrangement.\\\\nVery', 'PROPN'], ['happy', 'ADJ'], ['to', 'PART'], ['say', 'VERB'], ['the', 'DET'], ['recipient', 'NOUN'], ['of', 'ADP'], ['the', 'DET'], ['flowers', 'NOUN'], ['loved', 'VERB'], ['the', 'DET'], ['bouquet', 'NOUN'], ['and', 'CCONJ'], ['after', 'ADP'], ['seeing', 'VERB'], ['a', 'DET'], ['photo', 'NOUN'], ['of', 'ADP'], ['the', 'DET'], ['arrangement', 'NOUN'], ['we', 'PRON'], ['were', 'VERB'], ['more', 'ADV'], ['than', 'SCONJ'], ['pleased', 'ADJ'], ['with', 'ADP'], ['the', 'DET'], ['arrangement', 'NOUN'], ['and', 'CCONJ'], ['we', 'PRON'], ['definitely', 'ADV'], ['received', 'VERB'], ['our', 'PRON'], ['money', 'NOUN'], [\"'s\", 'PART'], ['worth.\\\\nIn', 'ADJ'], ['the', 'DET'], ['future', 'NOUN'], ['we', 'PRON'], ['will', 'AUX'], ['only', 'ADV'], ['use', 'VERB'], ['his', 'PRON'], ['florist', 'ADJ'], ['shop', 'NOUN'], ['and', 'CCONJ'], ['will', 'AUX'], ['reccomend', 'VERB'], ['Dancing', 'PROPN'], ['Dandelion', 'NOUN'], ['to', 'ADP'], ['all', 'DET'], ['of', 'ADP'], ['our', 'PRON'], ['friends.\\\\nThank', 'PROPN'], ['you', 'PRON'], ['Greg', 'PROPN'], ['for', 'ADP'], ['keeping', 'VERB'], ['your', 'PRON'], ['promise', 'NOUN'], ['not', 'PART'], ['only', 'ADV'], ['on', 'ADP'], ['delivery', 'NOUN'], [',', 'PUNCT'], ['but', 'CCONJ'], ['for', 'ADP'], ['the', 'DET'], ['absolutley', 'PROPN'], ['amazing', 'PROPN'], ['arrangement', 'NOUN'], [' ', 'SPACE'], ['our', 'PRON'], ['friend', 'NOUN'], ['received', 'VERB'], ['!', 'PUNCT'], ['\"', 'PUNCT'], [',', 'PUNCT'], ['\"', 'PUNCT'], ['Visited', 'VERB'], ['The', 'DET'], ['Dancing', 'PROPN'], ['Dandelion', 'PROPN'], ['in', 'ADP'], ['search', 'NOUN'], ['of', 'ADP'], ['small', 'ADJ'], ['peace', 'NOUN'], ['lily', 'ADJ'], ['plant', 'NOUN'], ['to', 'PART'], ['be', 'AUX'], ['given', 'VERB'], ['to', 'ADP'], ['our', 'PRON'], ['boss', 'NOUN'], ['who', 'PRON'], [\"'d\", 'AUX'], ['just', 'ADV'], ['loss', 'VERB'], ['his', 'PRON'], ['father', 'NOUN'], ['.', 'PUNCT'], [' ', 'SPACE'], ['Immediately', 'ADV'], ['when', 'ADV'], ['I', 'PRON'], ['entered', 'VERB'], ['the', 'DET'], ['shop', 'NOUN'], ['I', 'PRON'], ['was', 'AUX'], ['greeted', 'VERB'], ['by', 'ADP'], ['Greg', 'PROPN'], ['who', 'PRON'], ['determined', 'VERB'], ['my', 'PRON'], ['needs', 'NOUN'], ['and', 'CCONJ'], ['picked', 'VERB'], ['out', 'ADP'], ['the', 'DET'], ['perfect', 'ADJ'], ['plant', 'NOUN'], ['-', 'PUNCT'], ['but', 'CCONJ'], ['it', 'PRON'], ['was', 'AUX'], [\"n't\", 'PART'], ['in', 'ADP'], ['a', 'DET'], ['suitable', 'ADJ'], ['arrangement', 'NOUN'], ['for', 'ADP'], ['gift', 'NOUN'], ['giving', 'NOUN'], ['.', 'PUNCT'], [' ', 'SPACE'], ['Greg', 'PROPN'], ['at', 'ADP'], ['first', 'ADV'], ['thought', 'VERB'], ['he', 'PRON'], ['did', 'AUX'], [\"n't\", 'PART'], ['have', 'VERB'], ['a', 'DET'], ['proper', 'ADJ'], ['container', 'NOUN'], ['in', 'ADP'], ['which', 'DET'], ['to', 'PART'], ['present', 'VERB'], ['so', 'ADV'], ['he', 'PRON'], ['quickly', 'ADV'], ['searched', 'VERB'], ['his', 'PRON'], ['stock', 'NOUN'], ['finding', 'VERB'], ['one', 'NUM'], ['lone', 'ADJ'], ['wicker', 'NOUN'], ['basket', 'NOUN'], ['(', 'PUNCT'], ['which', 'DET'], ['needed', 'VERB'], ['some', 'DET'], ['modifications', 'NOUN'], [')', 'PUNCT'], [',', 'PUNCT'], ['repotting', 'VERB'], ['it', 'PRON'], [',', 'PUNCT'], ['and', 'CCONJ'], ['applying', 'VERB'], [\"'\", 'PUNCT'], ['leaf', 'NOUN'], ['shine', 'NOUN'], [\"'\", 'PUNCT'], ['spray', 'NOUN'], ['.', 'PUNCT'], ['  ', 'SPACE'], ['With', 'ADP'], ['2', 'NUM'], ['lilies', 'NOUN'], ['about', 'ADP'], ['to', 'PART'], ['open', 'VERB'], [',', 'PUNCT'], ['the', 'DET'], ['arrangement', 'NOUN'], ['was', 'AUX'], ['beautiful', 'ADJ'], ['.', 'PUNCT'], [' ', 'SPACE'], ['The', 'DET'], ['peace', 'NOUN'], ['lily', 'NOUN'], ['was', 'AUX'], ['presented', 'VERB'], ['to', 'ADP'], ['our', 'PRON'], ['boss', 'NOUN'], ['last', 'ADJ'], ['week', 'NOUN'], ['and', 'CCONJ'], ['he', 'PRON'], ['truly', 'ADV'], ['appreciated', 'VERB'], ['it!\\\\n\\\\nWhen', 'PROPN'], ['my', 'PRON'], ['husband', 'NOUN'], ['presents', 'VERB'], ['floral', 'ADJ'], ['arrangements', 'NOUN'], ['to', 'ADP'], ['me', 'PRON'], [',', 'PUNCT'], ['he', 'PRON'], ['always', 'ADV'], ['uses', 'VERB'], ['The', 'DET'], ['Dancing', 'PROPN'], ['Dandelion', 'PROPN'], ['.', 'PUNCT'], [' ', 'SPACE'], ['However', 'ADV'], [',', 'PUNCT'], ['this', 'DET'], ['was', 'AUX'], ['the', 'DET'], ['first', 'ADJ'], ['time', 'NOUN'], ['I', 'PRON'], [\"'d\", 'AUX'], ['ever', 'ADV'], ['visited', 'VERB'], ['their', 'PRON'], ['store', 'NOUN'], ['.', 'PUNCT'], [' ', 'SPACE'], ['I', 'PRON'], ['can', 'AUX'], ['see', 'VERB'], ['why', 'ADV'], ['he', 'PRON'], [\"'s\", 'AUX'], ['a', 'DET'], ['repeat', 'NOUN'], ['customer', 'NOUN'], ['.', 'PUNCT'], [' ', 'SPACE'], ['I', 'PRON'], ['appreciate', 'VERB'], ['how', 'ADV'], ['fast', 'ADV'], ['Greg', 'PROPN'], ['was', 'AUX'], ['able', 'ADJ'], ['to', 'PART'], ['troubleshoot', 'VERB'], ['the', 'DET'], ['matter', 'NOUN'], ['while', 'SCONJ'], ['ensuring', 'VERB'], ['that', 'SCONJ'], ['I', 'PRON'], ['left', 'VERB'], ['happy', 'ADJ'], ['&', 'CCONJ'], ['satisfied', 'ADJ'], ['.', 'PUNCT'], ['This', 'DET'], ['family', 'NOUN'], ['run', 'VERB'], ['business', 'NOUN'], ['is', 'AUX'], ['top', 'ADJ'], ['-', 'PUNCT'], ['notch', 'NOUN'], ['and', 'CCONJ'], ['I', 'PRON'], ['would', 'AUX'], ['not', 'PART'], ['hesitate', 'VERB'], ['to', 'PART'], ['call', 'VERB'], ['on', 'ADP'], ['them', 'PRON'], ['in', 'ADP'], ['the', 'DET'], ['future', 'NOUN'], ['!', 'PUNCT'], ['\"', 'PUNCT'], [',', 'PUNCT'], [\"'\", 'PUNCT'], ['Great', 'ADJ'], ['selection', 'NOUN'], ['and', 'CCONJ'], ['honest', 'ADJ'], ['service', 'NOUN'], ['.', 'PUNCT'], ['I', 'PRON'], ['had', 'AUX'], ['called', 'VERB'], ['ahead', 'ADV'], ['to', 'PART'], ['see', 'VERB'], ['if', 'SCONJ'], ['a', 'DET'], ['particular', 'ADJ'], ['item', 'NOUN'], ['was', 'AUX'], ['readily', 'ADV'], ['available', 'ADJ'], ['for', 'ADP'], ['purchase', 'NOUN'], ['and', 'CCONJ'], ['the', 'DET'], ['nice', 'ADJ'], ['gentleman', 'NOUN'], ['on', 'ADP'], ['the', 'DET'], ['phone', 'NOUN'], ['walked', 'VERB'], ['me', 'PRON'], ['through', 'ADP'], ['descriptions', 'NOUN'], ['of', 'ADP'], ['what', 'PRON'], ['he', 'PRON'], ['had', 'VERB'], ['to', 'PART'], ['offer', 'VERB'], ['.', 'PUNCT'], ['Upon', 'SCONJ'], ['entering', 'VERB'], ['the', 'DET'], ['sweet', 'ADJ'], ['smelling', 'VERB'], ['little', 'ADJ'], ['flower', 'NOUN'], ['shop', 'NOUN'], [',', 'PUNCT'], ['I', 'PRON'], ['was', 'AUX'], ['not', 'PART'], ['disappointed.\\\\n\\\\nI', 'ADJ'], ['was', 'AUX'], ['in', 'ADP'], ['and', 'CCONJ'], ['out', 'ADV'], ['in', 'ADP'], ['under', 'ADP'], ['3', 'NUM'], ['minutes', 'NOUN'], ['.', 'PUNCT'], ['What', 'PRON'], ['more', 'ADJ'], ['could', 'AUX'], ['a', 'DET'], ['guy', 'NOUN'], ['ask', 'VERB'], ['for', 'ADP'], ['of', 'ADP'], ['a', 'DET'], ['flower', 'NOUN'], ['shop', 'NOUN'], ['?', 'PUNCT'], [\"'\", 'PUNCT'], [',', 'PUNCT'], ['\"', 'PUNCT'], ['I', 'PRON'], ['ordered', 'VERB'], ['orchids', 'NOUN'], ['for', 'ADP'], ['my', 'PRON'], ['Aunts', 'NOUN'], ['birthday', 'NOUN'], ['she', 'PRON'], ['could', 'AUX'], [\"n't\", 'PART'], ['believe', 'VERB'], ['how', 'ADV'], ['beautiful', 'ADJ'], ['they', 'PRON'], ['are', 'AUX'], [',', 'PUNCT'], ['the', 'DET'], ['most', 'ADV'], ['beautiful', 'ADJ'], ['she', 'PRON'], ['has', 'AUX'], ['ever', 'ADV'], ['seen', 'VERB'], ['.', 'PUNCT'], ['I', 'PRON'], ['was', 'AUX'], ['out', 'SCONJ'], ['of', 'ADP'], ['town', 'NOUN'], ['so', 'SCONJ'], ['I', 'PRON'], ['phoned', 'VERB'], ['in', 'ADP'], ['and', 'CCONJ'], ['the', 'DET'], ['process', 'NOUN'], ['was', 'VERB'], ['seamless', 'ADJ'], ['from', 'ADP'], ['start', 'NOUN'], ['to', 'ADP'], ['finish', 'NOUN'], ['.', 'PUNCT'], ['Thanks', 'NOUN'], ['you', 'PRON'], ['have', 'VERB'], ['a', 'DET'], ['returning', 'VERB'], ['customer', 'NOUN'], ['\"', 'PUNCT'], [',', 'PUNCT'], [\"'\", 'PUNCT'], ['I', 'PRON'], ['had', 'VERB'], ['the', 'DET'], ['pleasure', 'NOUN'], ['of', 'ADP'], ['doing', 'VERB'], ['business', 'NOUN'], ['with', 'ADP'], ['Greg', 'PROPN'], ['for', 'ADP'], ['a', 'DET'], ['baby', 'NOUN'], ['shower', 'NOUN'], ['I', 'PRON'], ['was', 'AUX'], ['hosting', 'VERB'], ['.', 'PUNCT'], ['He', 'PRON'], ['paid', 'VERB'], ['close', 'ADJ'], ['attention', 'NOUN'], ['to', 'ADP'], ['detail', 'NOUN'], [',', 'PUNCT'], ['to', 'PART'], ['make', 'VERB'], ['sure', 'ADJ'], ['my', 'PRON'], ['vision', 'NOUN'], ['was', 'AUX'], ['created', 'VERB'], ['.', 'PUNCT'], ['Greg', 'PROPN'], ['going', 'VERB'], ['above', 'ADV'], ['and', 'CCONJ'], ['beyond', 'ADV'], ['allowed', 'VERB'], ['me', 'PRON'], ['to', 'PART'], ['worry', 'VERB'], ['about', 'ADP'], ['one', 'NUM'], ['less', 'ADJ'], ['thing', 'NOUN'], ['.', 'PUNCT'], ['Thank', 'VERB'], ['you', 'PRON'], ['the', 'DET'], ['beautiful', 'ADJ'], ['arrangements', 'NOUN'], ['and', 'CCONJ'], ['amazing', 'ADJ'], ['customer', 'NOUN'], ['service', 'NOUN'], ['!', 'PUNCT'], [\"'\", 'PUNCT'], [',', 'PUNCT'], ['\"', 'PUNCT'], ['I', 'PRON'], ['ordered', 'VERB'], ['flowers', 'NOUN'], ['for', 'ADP'], ['a', 'DET'], ['funeral', 'NOUN'], ['on', 'ADP'], ['very', 'ADV'], ['short', 'ADJ'], ['notice', 'NOUN'], ['to', 'PART'], ['be', 'AUX'], ['delivered', 'VERB'], ['on', 'ADP'], ['their', 'PRON'], ['busiest', 'ADJ'], ['day', 'NOUN'], ['of', 'ADP'], ['the', 'DET'], ['year', 'NOUN'], ['(', 'PUNCT'], ['Valentines', 'NOUN'], ['Day', 'PROPN'], [')', 'PUNCT'], ['.', 'PUNCT'], ['They', 'PRON'], ['made', 'VERB'], ['it', 'PRON'], ['happen', 'VERB'], ['and', 'CCONJ'], ['the', 'DET'], ['flowers', 'NOUN'], ['we', 'PRON'], [\"'re\", 'VERB'], ['lovely', 'ADJ'], ['.', 'PUNCT'], ['\\\\nGreg', 'PROPN'], ['was', 'AUX'], ['great', 'ADJ'], [',', 'PUNCT'], ['calling', 'VERB'], ['the', 'DET'], ['night', 'NOUN'], ['before', 'ADV'], ['to', 'PART'], ['let', 'VERB'], ['me', 'PRON'], ['know', 'VERB'], ['it', 'PRON'], ['was', 'AUX'], ['ready', 'ADJ'], ['and', 'CCONJ'], ['would', 'AUX'], ['be', 'VERB'], ['there', 'ADV'], ['in', 'ADP'], ['the', 'DET'], ['morning', 'NOUN'], ['.', 'PUNCT'], ['Thank', 'VERB'], ['you', 'PRON'], ['Greg', 'PROPN'], ['and', 'CCONJ'], ['everyone', 'PRON'], ['else', 'ADV'], ['at', 'ADP'], ['the', 'DET'], ['Dancing', 'PROPN'], ['Dandelion.\\\\nI', 'NOUN'], ['would', 'AUX'], [' ', 'SPACE'], ['recommend', 'VERB'], ['them', 'PRON'], ['and', 'CCONJ'], ['they', 'PRON'], ['will', 'AUX'], ['be', 'VERB'], ['my', 'PRON'], ['first', 'ADJ'], ['call', 'NOUN'], ['now', 'ADV'], ['on', 'ADV'], ['if', 'SCONJ'], ['I', 'PRON'], ['need', 'VERB'], ['flowers', 'NOUN'], ['.', 'PUNCT'], ['\"', 'PUNCT'], [',', 'PUNCT'], [\"'\", 'PUNCT'], ['extremely', 'ADV'], ['friendly', 'ADJ'], ['staff', 'NOUN'], ['!', 'PUNCT'], ['susie', 'NOUN'], [',', 'PUNCT'], ['is', 'AUX'], ['always', 'ADV'], ['the', 'DET'], ['one', 'NOUN'], ['who', 'PRON'], ['answers', 'VERB'], ['my', 'PRON'], ['calls', 'NOUN'], ['and', 'CCONJ'], ['always', 'ADV'], ['so', 'ADV'], ['nice', 'ADJ'], ['.', 'PUNCT'], ['this', 'DET'], ['was', 'AUX'], ['my', 'PRON'], ['fifth', 'ADJ'], ['time', 'NOUN'], ['ordering', 'VERB'], ['from', 'ADP'], ['this', 'DET'], ['place', 'NOUN'], ['and', 'CCONJ'], ['they', 'PRON'], ['are', 'VERB'], ['very', 'ADV'], ['nice', 'ADJ'], ['every', 'DET'], ['single', 'ADJ'], ['time', 'NOUN'], ['.', 'PUNCT'], [' ', 'SPACE'], ['the', 'DET'], ['mixed', 'ADJ'], ['assortment', 'NOUN'], ['that', 'DET'], ['my', 'PRON'], ['girlfriend', 'NOUN'], ['just', 'ADV'], ['received', 'VERB'], ['described', 'VERB'], ['as', 'ADP'], ['the', 'DET'], ['\"', 'PUNCT'], ['prettiest', 'NOUN'], ['bouquet', 'NOUN'], ['of', 'ADP'], ['flowers', 'NOUN'], ['that', 'DET'], ['she', 'PRON'], ['had', 'AUX'], ['ever', 'ADV'], ['seen', 'VERB'], ['in', 'ADP'], ['her', 'PRON'], ['life', 'NOUN'], ['\"', 'PUNCT'], ['.', 'PUNCT'], [' ', 'SPACE'], ['i', 'PRON'], ['will', 'AUX'], ['post', 'VERB'], ['a', 'DET'], ['picture', 'NOUN'], [',', 'PUNCT'], ['you', 'PRON'], ['can', 'AUX'], ['judge', 'VERB'], ['yourself', 'PRON'], ['.', 'PUNCT'], [' ', 'SPACE'], ['these', 'DET'], ['people', 'NOUN'], ['never', 'ADV'], ['disappoint', 'VERB'], ['!', 'PUNCT'], [\"'\", 'PUNCT'], [',', 'PUNCT'], [\"'\", 'PUNCT'], ['My', 'PRON'], ['wonderful', 'ADJ'], ['husband', 'NOUN'], ['wanted', 'VERB'], ['to', 'PART'], ['surprise', 'VERB'], ['me', 'PRON'], ['with', 'ADP'], ['flowers', 'NOUN'], ['for', 'ADP'], ['our', 'PRON'], ['30th', 'ADJ'], ['wedding', 'NOUN'], ['anniversary', 'NOUN'], ['.', 'PUNCT'], ['Our', 'PRON'], ['daughter', 'NOUN'], ['has', 'VERB'], ['a', 'DET'], ['corporate', 'ADJ'], ['account', 'NOUN'], ['here', 'ADV'], ['&', 'CCONJ'], ['talked', 'VERB'], ['to', 'ADP'], ['Greg', 'PROPN'], [',', 'PUNCT'], ['the', 'DET'], ['owner', 'NOUN'], [',', 'PUNCT'], ['about', 'ADP'], ['putting', 'VERB'], ['something', 'PRON'], ['special', 'ADJ'], ['together', 'ADV'], ['that', 'DET'], ['incorporated', 'VERB'], ['a', 'DET'], ['few', 'ADJ'], ['of', 'ADP'], ['our', 'PRON'], ['wedding', 'NOUN'], ['flowers', 'NOUN'], ['.', 'PUNCT'], ['It', 'PRON'], ['was', 'AUX'], ['beautiful', 'ADJ'], ['!', 'PUNCT'], ['Thank', 'VERB'], ['you', 'PRON'], ['Greg', 'PROPN'], ['.', 'PUNCT'], [\"'\", 'PUNCT'], [',', 'PUNCT'], [\"'\", 'PUNCT'], ['Do', 'VERB'], ['business', 'NOUN'], ['with', 'ADP'], ['a', 'DET'], ['local', 'ADJ'], ['company', 'NOUN'], ['.', 'PUNCT'], ['I', 'PRON'], ['placed', 'VERB'], ['an', 'DET'], ['order', 'NOUN'], ['for', 'ADP'], ['delivery', 'NOUN'], ['over', 'ADP'], ['the', 'DET'], ['phone', 'NOUN'], ['with', 'ADP'], ['Susie', 'PROPN'], ['.', 'PUNCT'], ['She', 'PRON'], ['was', 'AUX'], ['incredibly', 'ADV'], ['knowledgeable', 'ADJ'], [',', 'PUNCT'], ['friendly', 'ADJ'], [',', 'PUNCT'], ['and', 'CCONJ'], ['helpful', 'ADJ'], ['.', 'PUNCT'], ['The', 'DET'], ['price', 'NOUN'], ['with', 'ADP'], ['delivery', 'NOUN'], ['was', 'AUX'], ['the', 'DET'], ['same', 'ADJ'], ['as', 'ADP'], ['the', 'DET'], ['\"', 'PUNCT'], ['sale', 'NOUN'], ['\"', 'PUNCT'], ['price', 'NOUN'], ['of', 'ADP'], ['the', 'DET'], ['big', 'ADJ'], ['on', 'ADP'], ['-', 'PUNCT'], ['line', 'NOUN'], ['company', 'NOUN'], ['we', 'PRON'], ['all', 'DET'], ['know', 'VERB'], ['.', 'PUNCT'], [\"I\\\\'ll\", 'PROPN'], ['definitely', 'ADV'], ['use', 'VERB'], ['them', 'PRON'], ['again', 'ADV'], ['.', 'PUNCT'], [\"'\", 'PUNCT'], [',', 'PUNCT'], [\"'\", 'PUNCT'], ['This', 'DET'], ['place', 'NOUN'], ['is', 'AUX'], ['amazing', 'ADJ'], ['.', 'PUNCT'], ['I', 'PRON'], ['have', 'AUX'], ['ordered', 'VERB'], ['3', 'NUM'], ['times', 'NOUN'], ['from', 'ADP'], ['them', 'PRON'], ['and', 'CCONJ'], ['everytime', 'NOUN'], ['the', 'DET'], ['delivery', 'NOUN'], ['was', 'AUX'], ['on', 'ADP'], ['time', 'NOUN'], ['and', 'CCONJ'], ['the', 'DET'], ['flowers', 'NOUN'], ['were', 'VERB'], ['perfect', 'ADJ'], ['.', 'PUNCT'], [' ', 'SPACE'], ['I', 'PRON'], ['recently', 'ADV'], ['ordered', 'VERB'], ['out', 'SCONJ'], ['of', 'ADP'], ['their', 'PRON'], ['range', 'NOUN'], ['and', 'CCONJ'], ['they', 'PRON'], ['still', 'ADV'], ['accommodated', 'VERB'], ['me', 'PRON'], ['.', 'PUNCT'], [' ', 'SPACE'], ['Highly', 'ADV'], ['recommend', 'VERB'], ['this', 'DET'], ['place', 'NOUN'], ['for', 'ADP'], ['your', 'PRON'], ['flower', 'NOUN'], ['needs', 'VERB'], ['.', 'PUNCT'], [\"'\", 'PUNCT'], [',', 'PUNCT'], [\"'\", 'PUNCT'], ['Can', 'AUX'], ['Always', 'ADV'], ['count', 'VERB'], ['on', 'ADP'], ['these', 'DET'], ['guys', 'NOUN'], ['!', 'PUNCT'], [' ', 'SPACE'], ['Greg', 'PROPN'], ['was', 'AUX'], ['great', 'ADJ'], ['!', 'PUNCT'], [' ', 'SPACE'], ['Better', 'ADV'], ['than', 'SCONJ'], ['I', 'PRON'], ['thought', 'VERB'], ['possible', 'ADJ'], ['.', 'PUNCT'], [' ', 'SPACE'], ['Not', 'PART'], ['a', 'DET'], ['huge', 'ADJ'], ['flower', 'NOUN'], ['person', 'NOUN'], [',', 'PUNCT'], ['but', 'CCONJ'], ['now', 'ADV'], ['I', 'PRON'], ['am', 'VERB'], ['a', 'DET'], ['believer', 'NOUN'], ['.', 'PUNCT'], [' ', 'SPACE'], ['Thanks', 'NOUN'], ['.', 'PUNCT'], [\"'\", 'PUNCT'], [',', 'PUNCT'], ['\"', 'PUNCT'], ['You', 'PRON'], ['guys', 'NOUN'], ['are', 'AUX'], ['excellent', 'ADJ'], ['.', 'PUNCT'], ['I', 'PRON'], ['ordered', 'VERB'], ['online', 'ADV'], ['for', 'ADP'], ['a', 'DET'], ['delivery', 'NOUN'], [',', 'PUNCT'], ['i', 'PRON'], ['was', 'AUX'], [\"n't\", 'PART'], ['sure', 'ADJ'], ['how', 'ADV'], ['this', 'DET'], ['would', 'AUX'], ['turn', 'VERB'], ['out', 'ADP'], ['but', 'CCONJ'], ['my', 'PRON'], ['expectations', 'NOUN'], ['were', 'AUX'], ['blown', 'VERB'], ['.', 'PUNCT'], ['If', 'SCONJ'], ['anyone', 'PRON'], ['has', 'VERB'], ['any', 'DET'], ['reservations', 'NOUN'], ['about', 'ADP'], ['ordering', 'VERB'], ['online', 'ADV'], [',', 'PUNCT'], ['I', 'PRON'], ['can', 'AUX'], ['say', 'VERB'], ['through', 'ADP'], ['my', 'PRON'], ['experience', 'NOUN'], ['they', 'PRON'], ['delivered', 'VERB'], ['exactly', 'ADV'], ['and', 'CCONJ'], ['was', 'AUX'], ['told', 'VERB'], ['these', 'DET'], ['flowers', 'NOUN'], ['were', 'AUX'], ['beautiful', 'ADJ'], ['.', 'PUNCT'], ['Thank', 'VERB'], ['you', 'PRON'], ['guys', 'NOUN'], ['again', 'ADV'], ['for', 'ADP'], ['a', 'DET'], ['easy', 'ADJ'], ['transaction', 'NOUN'], ['.', 'PUNCT'], ['I', 'PRON'], ['greatly', 'ADV'], ['appreciate', 'VERB'], ['it', 'PRON'], ['.', 'PUNCT'], ['I', 'PRON'], ['feel', 'VERB'], ['good', 'ADJ'], ['knowing', 'VERB'], ['when', 'ADV'], ['I', 'PRON'], ['order', 'VERB'], ['in', 'ADP'], ['the', 'DET'], ['future', 'NOUN'], [',', 'PUNCT'], ['I', 'PRON'], ['do', 'AUX'], [\"n't\", 'PART'], ['have', 'VERB'], ['to', 'PART'], ['worry', 'VERB'], ['if', 'SCONJ'], ['they', 'PRON'], ['will', 'AUX'], ['get', 'AUX'], ['delivered', 'VERB'], ['correctly', 'ADV'], ['or', 'CCONJ'], ['how', 'ADV'], ['they', 'PRON'], ['will', 'AUX'], ['look', 'VERB'], ['.', 'PUNCT'], ['Definitely', 'ADV'], ['a', 'DET'], ['5', 'NUM'], ['star', 'NOUN'], ['review', 'NOUN'], ['is', 'AUX'], ['needed', 'VERB'], ['.', 'PUNCT'], ['You', 'PRON'], ['definitely', 'ADV'], ['got', 'VERB'], ['my', 'PRON'], ['business', 'NOUN'], ['in', 'ADP'], ['the', 'DET'], ['future', 'NOUN'], ['.', 'PUNCT'], ['\"', 'PUNCT'], [',', 'PUNCT'], ['\"', 'PUNCT'], ['Recently', 'ADV'], ['sent', 'VERB'], ['a', 'DET'], ['girlfriend', 'NOUN'], ['some', 'DET'], ['get', 'VERB'], ['well', 'ADJ'], ['flowers', 'NOUN'], ['.', 'PUNCT'], ['Unfortunately', 'ADV'], [',', 'PUNCT'], ['I', 'PRON'], ['did', 'AUX'], [\"n't\", 'PART'], ['like', 'VERB'], ['the', 'DET'], ['first', 'ADJ'], ['arrangement', 'NOUN'], ['they', 'PRON'], ['sent', 'VERB'], ['to', 'ADP'], ['her', 'PRON'], ['.', 'PUNCT'], ['In', 'ADP'], ['my', 'PRON'], ['opinion', 'NOUN'], ['it', 'PRON'], ['looked', 'VERB'], ['sparse', 'ADJ'], ['.', 'PUNCT'], ['Although', 'SCONJ'], ['my', 'PRON'], ['girlfriend', 'NOUN'], ['loved', 'VERB'], ['them', 'PRON'], [',', 'PUNCT'], ['I', 'PRON'], ['was', 'AUX'], [\"n't\", 'PART'], ['happy', 'ADJ'], ['and', 'CCONJ'], ['called', 'VERB'], ['the', 'DET'], ['florist', 'NOUN'], ['to', 'PART'], ['complain', 'VERB'], ['.', 'PUNCT'], ['No', 'DET'], ['questions', 'NOUN'], ['asked', 'VERB'], [',', 'PUNCT'], ['they', 'PRON'], ['sent', 'VERB'], ['her', 'PRON'], ['another', 'DET'], ['amazing', 'ADJ'], ['bouquet', 'NOUN'], ['and', 'CCONJ'], ['had', 'VERB'], ['them', 'PRON'], ['delivered', 'VERB'], ['within', 'ADP'], ['the', 'DET'], ['hour', 'NOUN'], ['.', 'PUNCT'], ['I', 'PRON'], ['would', 'AUX'], ['definitely', 'ADV'], ['recommend', 'VERB'], ['this', 'DET'], ['florist', 'NOUN'], ['and', 'CCONJ'], ['will', 'AUX'], ['use', 'VERB'], ['them', 'PRON'], ['in', 'ADP'], ['the', 'DET'], ['future', 'NOUN'], ['.', 'PUNCT'], ['Ca', 'AUX'], [\"n't\", 'PART'], ['pay', 'VERB'], ['for', 'ADP'], ['better', 'ADJ'], ['customer', 'NOUN'], ['service', 'NOUN'], ['.', 'PUNCT'], ['\"', 'PUNCT'], [',', 'PUNCT'], ['\"', 'PUNCT'], ['Greg', 'PROPN'], ['is', 'AUX'], ['amazing', 'ADJ'], ['!', 'PUNCT'], ['Beautiful', 'ADJ'], ['flowers', 'NOUN'], ['and', 'CCONJ'], ['better', 'ADJ'], ['than', 'SCONJ'], ['I', 'PRON'], ['ordered', 'VERB'], ['since', 'SCONJ'], ['they', 'PRON'], ['were', 'VERB'], ['out', 'SCONJ'], ['of', 'ADP'], ['the', 'DET'], ['size', 'NOUN'], ['vase', 'NOUN'], ['it', 'PRON'], ['needed', 'VERB'], ['!', 'PUNCT'], ['If', 'SCONJ'], ['you', 'PRON'], [\"'re\", 'VERB'], ['worried', 'ADJ'], ['about', 'ADP'], ['ordering', 'VERB'], ['from', 'ADP'], ['out', 'SCONJ'], ['of', 'ADP'], ['town', 'NOUN'], ['/', 'SYM'], ['state', 'NOUN'], ['like', 'ADP'], ['I', 'PRON'], ['was', 'AUX'], ['(', 'PUNCT'], ['I', 'PRON'], ['have', 'VERB'], ['horror', 'NOUN'], ['stories', 'NOUN'], ['from', 'ADP'], ['dot', 'NOUN'], ['com', 'NOUN'], ['mass', 'NOUN'], ['flower', 'NOUN'], ['companies', 'NOUN'], [')', 'PUNCT'], ['this', 'DET'], ['place', 'NOUN'], ['will', 'AUX'], ['ease', 'VERB'], ['all', 'DET'], ['your', 'PRON'], ['fears', 'NOUN'], ['!', 'PUNCT'], ['I', 'PRON'], ['will', 'AUX'], ['use', 'VERB'], ['them', 'PRON'], ['every', 'DET'], ['time', 'NOUN'], ['I', 'PRON'], ['order', 'VERB'], ['flowers', 'NOUN'], ['for', 'ADP'], ['friends', 'NOUN'], ['in', 'ADP'], ['Vegas', 'PROPN'], ['from', 'ADP'], ['now', 'ADV'], ['on', 'ADV'], ['and', 'CCONJ'], ['will', 'AUX'], ['be', 'AUX'], ['telling', 'VERB'], ['them', 'PRON'], ['to', 'PART'], ['do', 'VERB'], ['the', 'DET'], ['same', 'ADJ'], ['!', 'PUNCT'], ['\"', 'PUNCT'], [',', 'PUNCT'], ['\"', 'PUNCT'], ['I', 'PRON'], ['just', 'ADV'], ['ca', 'AUX'], [\"n't\", 'PART'], ['say', 'VERB'], ['enough', 'ADV'], ['how', 'ADV'], ['amazing', 'ADJ'], ['this', 'DET'], ['place', 'NOUN'], ['is', 'AUX'], ['!', 'PUNCT'], ['!', 'PUNCT'], ['I', 'PRON'], ['have', 'AUX'], ['used', 'VERB'], ['them', 'PRON'], ['a', 'DET'], ['few', 'ADJ'], ['times', 'NOUN'], [',', 'PUNCT'], ['once', 'ADV'], ['being', 'VERB'], ['for', 'ADP'], ['my', 'PRON'], ['brother', 'NOUN'], ['in', 'ADP'], ['laws', 'NOUN'], ['memorial', 'ADJ'], ['service', 'NOUN'], ['in', 'ADP'], ['August', 'PROPN'], ['.', 'PUNCT'], ['The', 'DET'], ['flowers', 'NOUN'], ['were', 'AUX'], ['amazing', 'ADJ'], ['and', 'CCONJ'], ['customer', 'NOUN'], ['service', 'NOUN'], ['excellent', 'ADJ'], ['.', 'PUNCT'], ['I', 'PRON'], ['called', 'VERB'], ['again', 'ADV'], ['when', 'ADV'], ['I', 'PRON'], ['needed', 'VERB'], ['to', 'PART'], ['send', 'VERB'], ['flowers', 'NOUN'], ['to', 'ADP'], ['my', 'PRON'], ['sister', 'NOUN'], ['for', 'ADP'], ['my', 'PRON'], ['brother', 'NOUN'], ['in', 'ADP'], ['law', 'NOUN'], ['in', 'ADP'], ['heaven', 'PROPN'], ['on', 'ADP'], ['their', 'PRON'], ['wedding', 'NOUN'], ['anniversary', 'NOUN'], [',', 'PUNCT'], ['once', 'ADV'], ['again', 'ADV'], ['beautiful', 'ADJ'], ['flowers', 'NOUN'], ['and', 'CCONJ'], ['amazing', 'ADJ'], [',', 'PUNCT'], ['kind', 'ADJ'], ['customer', 'NOUN'], ['service', 'NOUN'], ['.', 'PUNCT'], ['I', 'PRON'], ['would', 'AUX'], ['recomment', 'VERB'], ['this', 'DET'], ['business', 'NOUN'], ['to', 'ADP'], ['everyone', 'PRON'], ['for', 'ADP'], ['any', 'DET'], ['floarl', 'NOUN'], ['needs', 'NOUN'], ['for', 'ADP'], ['any', 'DET'], ['occasion', 'NOUN'], ['.', 'PUNCT'], ['Thanks', 'NOUN'], ['Dancing', 'PROPN'], ['Dandelion', 'PROPN'], ['!', 'PUNCT'], ['!', 'PUNCT'], ['!', 'PUNCT'], ['!', 'PUNCT'], ['\"', 'PUNCT'], [',', 'PUNCT'], ['\"', 'PUNCT'], ['I', 'PRON'], [\"'ve\", 'AUX'], ['ordered', 'VERB'], ['from', 'ADP'], ['many', 'ADJ'], ['flower', 'NOUN'], ['shops', 'NOUN'], ['before', 'ADV'], ['and', 'CCONJ'], ['I', 'PRON'], ['was', 'VERB'], ['not', 'PART'], ['as', 'ADV'], ['satisfied', 'ADJ'], ['as', 'ADP'], ['I', 'PRON'], ['am', 'VERB'], ['with', 'ADP'], ['Dancing', 'PROPN'], ['Dandelion', 'PROPN'], ['.', 'PUNCT'], [' ', 'SPACE'], ['Their', 'PRON'], ['flower', 'NOUN'], ['arrangements', 'NOUN'], ['are', 'AUX'], ['just', 'ADV'], ['too', 'ADV'], ['cute', 'ADJ'], ['-', 'PUNCT'], ['my', 'PRON'], ['favorite', 'ADJ'], ['one', 'NOUN'], ['is', 'AUX'], ['called', 'VERB'], ['Another', 'DET'], ['Year', 'PROPN'], ['Rover', 'PROPN'], ['.', 'PUNCT'], [' ', 'SPACE'], ['It', 'PRON'], [\"'s\", 'AUX'], ['a', 'DET'], ['basket', 'NOUN'], ['of', 'ADP'], ['flowers', 'NOUN'], ['that', 'DET'], ['look', 'VERB'], ['like', 'ADP'], ['a', 'DET'], ['puppy', 'NOUN'], ['.', 'PUNCT'], [' ', 'SPACE'], ['A', 'NOUN'], ['-', 'PUNCT'], ['DOR', 'PROPN'], ['-', 'PUNCT'], ['A', 'NOUN'], ['-', 'PUNCT'], ['BLE!!!\\\\n\\\\nYou', 'PROPN'], ['can', 'AUX'], ['place', 'VERB'], ['your', 'PRON'], ['order', 'NOUN'], ['online', 'ADV'], ['or', 'CCONJ'], ['over', 'ADP'], ['the', 'DET'], ['phone', 'NOUN'], ['.', 'PUNCT'], [' ', 'SPACE'], ['I', 'PRON'], ['have', 'VERB'], ['an', 'DET'], ['account', 'NOUN'], ['with', 'ADP'], ['them', 'PRON'], ['which', 'DET'], ['makes', 'VERB'], ['my', 'PRON'], ['life', 'NOUN'], ['so', 'ADV'], ['much', 'ADV'], ['easier', 'ADJ'], ['since', 'SCONJ'], ['I', 'PRON'], ['send', 'VERB'], ['out', 'ADP'], ['birthday', 'NOUN'], ['flowers', 'NOUN'], ['at', 'ADP'], ['least', 'ADJ'], ['once', 'ADV'], ['a', 'DET'], ['month', 'NOUN'], ['.', 'PUNCT'], [' ', 'SPACE'], ['They', 'PRON'], ['have', 'VERB'], ['same', 'ADJ'], ['day', 'NOUN'], ['delivery', 'NOUN'], ['.', 'PUNCT'], [' ', 'SPACE'], ['They', 'PRON'], ['always', 'ADV'], ['do', 'VERB'], ['a', 'DET'], ['wonderful', 'ADJ'], ['job', 'NOUN'], ['.', 'PUNCT'], ['\"', 'PUNCT'], [',', 'PUNCT'], [\"'\", 'PUNCT'], ['Ordered', 'VERB'], ['two', 'NUM'], ['of', 'ADP'], ['the', 'DET'], ['princess', 'NOUN'], ['paws', 'NOUN'], ['.', 'PUNCT'], ['Greg', 'PROPN'], ['was', 'AUX'], ['able', 'ADJ'], ['to', 'PART'], ['make', 'VERB'], ['one', 'NUM'], ['a', 'DET'], ['boy', 'NOUN'], ['for', 'ADP'], ['me', 'PRON'], ['.', 'PUNCT'], ['They', 'PRON'], ['turned', 'VERB'], ['out', 'ADP'], ['perfect', 'ADJ'], ['!', 'PUNCT'], ['They', 'PRON'], ['delivered', 'VERB'], ['when', 'ADV'], ['promised', 'VERB'], ['as', 'ADV'], ['well', 'ADV'], ['!', 'PUNCT'], ['The', 'DET'], ['customer', 'NOUN'], ['service', 'NOUN'], ['and', 'CCONJ'], ['quality', 'NOUN'], ['is', 'AUX'], ['what', 'PRON'], ['makes', 'VERB'], ['it', 'PRON'], ['5', 'NUM'], ['star', 'NOUN'], ['.', 'PUNCT'], ['I', 'PRON'], ['live', 'VERB'], ['way', 'ADV'], ['north', 'ADV'], ['west', 'PROPN'], ['and', 'CCONJ'], ['will', 'AUX'], ['still', 'ADV'], ['utilize', 'VERB'], ['then', 'ADV'], ['in', 'ADP'], ['the', 'DET'], ['future', 'NOUN'], ['.', 'PUNCT'], [\"'\", 'PUNCT'], [',', 'PUNCT'], ['\"', 'PUNCT'], ['Greg', 'PROPN'], ['was', 'AUX'], ['amazing', 'ADJ'], ['!', 'PUNCT'], [' ', 'SPACE'], ['He', 'PRON'], ['was', 'AUX'], ['patient', 'ADJ'], ['and', 'CCONJ'], ['thoughtful', 'ADJ'], ['as', 'ADP'], ['we', 'PRON'], ['discussed', 'VERB'], ['how', 'ADV'], ['to', 'PART'], ['make', 'VERB'], ['a', 'DET'], ['beautiful', 'ADJ'], ['flower', 'NOUN'], ['arrangement', 'NOUN'], ['for', 'ADP'], ['my', 'PRON'], ['mom', 'NOUN'], [\"'s\", 'PART'], ['memorial', 'ADJ'], ['service', 'NOUN'], ['.', 'PUNCT'], [' ', 'SPACE'], ['\\\\n\\\\nI', 'PROPN'], ['found', 'VERB'], ['all', 'DET'], ['the', 'DET'], ['traditional', 'ADJ'], ['arrangements', 'NOUN'], ['really', 'ADV'], ['tacky', 'ADJ'], ['and', 'CCONJ'], ['boring', 'ADJ'], [';', 'PUNCT'], ['with', 'ADP'], ['his', 'PRON'], ['help', 'NOUN'], ['we', 'PRON'], ['designed', 'VERB'], ['a', 'DET'], ['gorgeous', 'ADJ'], ['arrangement', 'NOUN'], ['truly', 'ADV'], ['reflective', 'ADJ'], ['of', 'ADP'], ['my', 'PRON'], ['mom', 'NOUN'], ['.', 'PUNCT'], [' ', 'SPACE'], ['It', 'PRON'], ['also', 'ADV'], ['coordinated', 'VERB'], ['well', 'ADV'], ['with', 'ADP'], ['all', 'DET'], ['of', 'ADP'], ['the', 'DET'], ['printed', 'VERB'], ['materials', 'NOUN'], ['and', 'CCONJ'], ['we', 'PRON'], ['were', 'VERB'], ['able', 'ADJ'], ['to', 'PART'], ['incorporate', 'VERB'], ['my', 'PRON'], ['mom', 'NOUN'], [\"'s\", 'PART'], ['clan', 'NOUN'], ['scarf', 'NOUN'], ['.', 'PUNCT'], [' ', 'SPACE'], ['He', 'PRON'], ['also', 'ADV'], ['designed', 'VERB'], ['corsages', 'NOUN'], ['(', 'PUNCT'], ['for', 'ADP'], ['my', 'PRON'], ['mom', 'NOUN'], [\"'s\", 'PART'], ['sisters', 'NOUN'], ['and', 'CCONJ'], ['best', 'ADJ'], ['friends', 'NOUN'], [')', 'PUNCT'], ['with', 'ADP'], ['my', 'PRON'], ['mom', 'NOUN'], [\"'s\", 'PART'], ['favorite', 'ADJ'], ['flower', 'NOUN'], ['(', 'PUNCT'], ['gardenia', 'PROPN'], [')', 'PUNCT'], ['that', 'DET'], ['he', 'PRON'], ['had', 'VERB'], ['to', 'ADP'], ['special', 'ADJ'], ['order', 'NOUN'], [',', 'PUNCT'], ['and', 'CCONJ'], ['then', 'ADV'], ['wait', 'VERB'], ['on', 'ADP'], ['me', 'PRON'], ['to', 'PART'], ['deliver', 'VERB'], ['the', 'DET'], ['specific', 'ADJ'], ['tartan', 'ADJ'], ['ribbon', 'NOUN'], ['to', 'PART'], ['incorporate', 'VERB'], ['into', 'ADP'], ['the', 'DET'], ['design', 'NOUN'], ['.', 'PUNCT'], [' ', 'SPACE'], ['They', 'PRON'], ['all', 'DET'], ['loved', 'VERB'], ['them', 'PRON'], ['and', 'CCONJ'], ['took', 'VERB'], ['special', 'ADJ'], ['pride', 'NOUN'], ['in', 'ADP'], ['wearing', 'VERB'], ['them.\\\\n\\\\nThey', 'PRON'], ['delivered', 'VERB'], ['the', 'DET'], ['arrangement', 'NOUN'], ['(', 'PUNCT'], ['despite', 'SCONJ'], ['it', 'PRON'], ['being', 'VERB'], ['quite', 'DET'], ['a', 'DET'], ['distance', 'NOUN'], ['from', 'ADP'], ['their', 'PRON'], ['shop', 'NOUN'], [')', 'PUNCT'], ['and', 'CCONJ'], ['had', 'AUX'], ['it', 'PRON'], ['set', 'VERB'], ['before', 'ADP'], ['I', 'PRON'], ['even', 'ADV'], ['arrived', 'VERB'], [',', 'PUNCT'], ['which', 'DET'], ['was', 'VERB'], ['such', 'DET'], ['a', 'DET'], ['stress', 'NOUN'], ['relief', 'NOUN'], ['.', 'PUNCT'], [' ', 'SPACE'], ['\\\\n\\\\nI', 'PROPN'], ['can', 'AUX'], ['not', 'PART'], ['say', 'VERB'], ['enough', 'ADJ'], ['nice', 'ADJ'], ['things', 'NOUN'], ['about', 'ADP'], ['them', 'PRON'], ['.', 'PUNCT'], [' ', 'SPACE'], ['Their', 'PRON'], ['shop', 'NOUN'], ['has', 'AUX'], ['cute', 'VERB'], ['little', 'ADJ'], ['knick', 'NOUN'], ['knacks', 'NOUN'], ['too', 'ADV'], [',', 'PUNCT'], ['and', 'CCONJ'], ['I', 'PRON'], ['bought', 'VERB'], ['a', 'DET'], ['friend', 'NOUN'], [\"'s\", 'PART'], ['birthday', 'NOUN'], ['card', 'NOUN'], ['and', 'CCONJ'], ['my', 'PRON'], ['friend', 'NOUN'], ['bought', 'VERB'], ['herself', 'PRON'], ['a', 'DET'], ['handmade', 'ADJ'], ['art', 'NOUN'], ['deco', 'NOUN'], ['vase', 'NOUN'], ['.', 'PUNCT'], ['\"', 'PUNCT'], [',', 'PUNCT'], [\"'\", 'PUNCT'], ['Great', 'ADJ'], ['service', 'NOUN'], ['-', 'PUNCT'], ['great', 'ADJ'], ['looking', 'VERB'], ['arrangements', 'NOUN'], ['.', 'PUNCT'], ['I', 'PRON'], ['was', 'AUX'], ['just', 'ADV'], ['about', 'ADJ'], ['to', 'PART'], ['drive', 'VERB'], ['away', 'ADV'], ['because', 'SCONJ'], ['the', 'DET'], ['front', 'ADJ'], ['doors', 'NOUN'], ['were', 'AUX'], ['locked', 'VERB'], [',', 'PUNCT'], ['when', 'ADV'], ['the', 'DET'], ['owner', 'NOUN'], ['came', 'VERB'], ['back', 'ADV'], ['from', 'ADP'], ['getting', 'VERB'], ['a', 'DET'], ['drink', 'NOUN'], ['at', 'ADP'], ['a', 'DET'], ['store', 'NOUN'], ['in', 'ADP'], ['the', 'DET'], ['same', 'ADJ'], ['parking', 'NOUN'], ['lot', 'NOUN'], ['.', 'PUNCT'], ['Suggestion', 'NOUN'], ['-', 'PUNCT'], ['leave', 'VERB'], ['a', 'DET'], ['note', 'NOUN'], ['on', 'ADP'], ['the', 'DET'], ['window', 'NOUN'], ['saying', 'VERB'], ['you', 'PRON'], ['will', 'AUX'], ['be', 'VERB'], ['back', 'ADV'], ['in', 'ADP'], ['5', 'NUM'], ['minutes', 'NOUN'], ['.', 'PUNCT'], ['You', 'PRON'], ['almost', 'ADV'], [' ', 'SPACE'], ['lost', 'VERB'], ['a', 'DET'], ['sale', 'NOUN'], ['because', 'SCONJ'], ['I', 'PRON'], ['was', 'VERB'], ['in', 'ADP'], ['the', 'DET'], ['process', 'NOUN'], ['of', 'ADP'], ['driving', 'VERB'], ['away', 'ADV'], ['when', 'ADV'], ['I', 'PRON'], ['saw', 'VERB'], ['you', 'PRON'], ['unlock', 'VERB'], ['the', 'DET'], ['front', 'ADJ'], ['door', 'NOUN'], ['.', 'PUNCT'], ['Will', 'AUX'], ['definitely', 'ADV'], ['use', 'VERB'], ['again', 'ADV'], ['.', 'PUNCT'], [\"'\", 'PUNCT'], [',', 'PUNCT'], ['\"', 'PUNCT'], ['My', 'PRON'], ['grandma', 'NOUN'], ['turned', 'VERB'], ['80', 'NUM'], ['years', 'NOUN'], ['young', 'ADJ'], ['today', 'NOUN'], ['and', 'CCONJ'], ['I', 'PRON'], ['was', 'VERB'], ['not', 'PART'], ['able', 'ADJ'], ['to', 'PART'], ['get', 'VERB'], ['back', 'ADV'], ['to', 'ADP'], ['Las', 'PROPN'], ['Vegas', 'PROPN'], ['to', 'PART'], ['celebrate', 'VERB'], ['with', 'ADP'], ['my', 'PRON'], ['family', 'NOUN'], ['.', 'PUNCT'], [' ', 'SPACE'], ['I', 'PRON'], ['decided', 'VERB'], ['this', 'DET'], ['morning', 'NOUN'], [',', 'PUNCT'], ['yes', 'INTJ'], ['this', 'DET'], ['morning', 'NOUN'], ['to', 'PART'], ['send', 'VERB'], ['her', 'PRON'], ['flowers', 'NOUN'], ['.', 'PUNCT'], [' ', 'SPACE'], ['I', 'PRON'], ['looked', 'VERB'], ['at', 'ADP'], ['yelp', 'NOUN'], ['and', 'CCONJ'], ['narrowed', 'VERB'], ['it', 'PRON'], ['down', 'ADP'], ['to', 'ADP'], ['three', 'NUM'], ['places', 'NOUN'], ['.', 'PUNCT'], [' ', 'SPACE'], ['The', 'DET'], ['dancing', 'NOUN'], ['dandelion', 'NOUN'], ['had', 'VERB'], ['great', 'ADJ'], ['reviews', 'NOUN'], ['and', 'CCONJ'], ['l', 'NOUN'], ['loved', 'VERB'], ['that', 'DET'], ['I', 'PRON'], ['could', 'AUX'], ['see', 'VERB'], ['examples', 'NOUN'], ['and', 'CCONJ'], ['prices', 'NOUN'], ['on', 'ADP'], ['their', 'PRON'], ['web', 'NOUN'], ['page.\\\\n\\\\nI', 'NOUN'], ['called', 'VERB'], ['them', 'PRON'], ['first', 'ADV'], ['to', 'PART'], ['ask', 'VERB'], ['questions', 'NOUN'], ['and', 'CCONJ'], ['was', 'VERB'], ['so', 'ADV'], ['excited', 'ADJ'], ['the', 'DET'], ['buck', 'NOUN'], ['stopped', 'VERB'], ['here', 'ADV'], ['.', 'PUNCT'], [' ', 'SPACE'], ['I', 'PRON'], ['decided', 'VERB'], ['to', 'PART'], ['do', 'VERB'], ['the', 'DET'], ['basket', 'NOUN'], ['with', 'ADP'], ['the', 'DET'], ['carnation', 'NOUN'], ['dog', 'NOUN'], ['as', 'ADP'], ['my', 'PRON'], ['grandma', 'NOUN'], ['love', 'NOUN'], ['loves', 'VERB'], ['loves', 'VERB'], ['dogs', 'NOUN'], ['!', 'PUNCT'], [' ', 'SPACE'], ['Susie', 'PROPN'], ['told', 'VERB'], ['me', 'PRON'], ['that', 'DET'], ['had', 'VERB'], ['one', 'NUM'], ['ready', 'ADJ'], ['that', 'DET'], ['was', 'VERB'], ['in', 'ADP'], ['reds', 'NOUN'], ['and', 'CCONJ'], ['yellows', 'NOUN'], ['.', 'PUNCT'], [' ', 'SPACE'], ['I', 'PRON'], ['explained', 'VERB'], ['I', 'PRON'], ['really', 'ADV'], ['wanted', 'VERB'], ['pinks', 'NOUN'], [',', 'PUNCT'], ['greens', 'NOUN'], ['and', 'CCONJ'], ['purples', 'NOUN'], ['too', 'ADV'], ['and', 'CCONJ'], ['I', 'PRON'], ['could', 'AUX'], ['pay', 'VERB'], ['extra', 'ADJ'], ['.', 'PUNCT'], [' ', 'SPACE'], ['She', 'PRON'], ['said', 'VERB'], ['they', 'PRON'], ['could', 'AUX'], ['do', 'VERB'], ['that.\\\\n\\\\nIt', 'PROPN'], ['was', 'AUX'], ['only', 'ADV'], ['$', 'SYM'], ['12', 'NUM'], ['to', 'PART'], ['deliver', 'VERB'], ['to', 'ADP'], ['summerlin', 'NOUN'], ['and', 'CCONJ'], ['she', 'PRON'], ['said', 'VERB'], ['it', 'PRON'], ['would', 'AUX'], ['get', 'VERB'], ['there', 'ADV'], ['by', 'ADP'], ['2', 'NUM'], ['pm', 'NOUN'], ['.', 'PUNCT'], [' ', 'SPACE'], ['I', 'PRON'], ['called', 'VERB'], ['at', 'ADP'], ['10', 'NUM'], ['am', 'NOUN'], ['!', 'PUNCT'], [' ', 'SPACE'], ['I', 'PRON'], ['asked', 'VERB'], ['if', 'SCONJ'], ['there', 'PRON'], ['was', 'AUX'], ['any', 'DET'], ['watt', 'NOUN'], ['they', 'PRON'], ['could', 'AUX'], ['email', 'VERB'], ['me', 'PRON'], ['a', 'DET'], ['picture', 'NOUN'], ['.', 'PUNCT'], [' ', 'SPACE'], ['She', 'PRON'], ['actually', 'ADV'], ['said', 'VERB'], ['yes', 'INTJ'], ['!', 'PUNCT'], [' ', 'SPACE'], ['I', 'PRON'], ['always', 'ADV'], ['get', 'VERB'], ['nervous', 'ADJ'], ['ordering', 'VERB'], ['flowers', 'NOUN'], ['over', 'ADP'], ['the', 'DET'], ['phone', 'NOUN'], ['..', 'PUNCT'], ['Within', 'ADP'], ['20', 'NUM'], ['minutes', 'NOUN'], ['she', 'PRON'], ['called', 'VERB'], ['me', 'PRON'], ['at', 'ADP'], ['work', 'NOUN'], ['to', 'PART'], ['ask', 'VERB'], ['if', 'SCONJ'], ['liked', 'VERB'], ['the', 'DET'], ['picture', 'NOUN'], ['because', 'SCONJ'], ['she', 'PRON'], ['did', 'AUX'], ['not', 'PART'], ['want', 'VERB'], ['me', 'PRON'], ['to', 'PART'], ['be', 'VERB'], ['unhappy', 'ADJ'], ['.', 'PUNCT'], ['I', 'PRON'], ['ca', 'AUX'], [\"n't\", 'PART'], ['access', 'VERB'], ['my', 'PRON'], ['personal', 'ADJ'], ['email', 'NOUN'], ['email', 'NOUN'], ['and', 'CCONJ'], ['was', 'AUX'], ['going', 'VERB'], ['to', 'PART'], ['check', 'VERB'], ['in', 'ADP'], ['a', 'DET'], ['couple', 'NOUN'], ['of', 'ADP'], ['hours', 'NOUN'], ['on', 'ADP'], ['my', 'PRON'], ['lunch', 'NOUN'], ['on', 'ADP'], ['my', 'PRON'], ['cell', 'NOUN'], ['which', 'DET'], ['was', 'VERB'], ['in', 'ADP'], ['my', 'PRON'], ['car', 'NOUN'], ['.', 'PUNCT'], [' ', 'SPACE'], ['She', 'PRON'], ['offered', 'VERB'], ['to', 'PART'], ['send', 'VERB'], ['it', 'PRON'], ['to', 'ADP'], ['my', 'PRON'], ['work', 'NOUN'], ['!', 'PUNCT'], [' ', 'SPACE'], ['It', 'PRON'], ['was', 'AUX'], ['exactly', 'ADV'], ['what', 'PRON'], ['I', 'PRON'], ['wanted', 'VERB'], ['.', 'PUNCT'], ['Susie', 'PROPN'], ['also', 'ADV'], ['emailed', 'VERB'], ['me', 'PRON'], ['and', 'CCONJ'], ['told', 'VERB'], ['me', 'PRON'], ['it', 'PRON'], ['was', 'AUX'], ['out', 'ADV'], ['for', 'ADP'], ['delivery', 'NOUN'], ['!', 'PUNCT'], [' ', 'SPACE'], ['\\\\n\\\\nMy', 'VERB'], ['grandma', 'NOUN'], ['had', 'VERB'], ['her', 'PRON'], ['flowers', 'NOUN'], ['by', 'ADP'], ['noon', 'NOUN'], ['!', 'PUNCT'], [' ', 'SPACE'], ['She', 'PRON'], ['was', 'AUX'], ['so', 'ADV'], ['happy', 'ADJ'], ['and', 'CCONJ'], ['had', 'AUX'], ['never', 'ADV'], ['seen', 'VERB'], ['a', 'DET'], ['carnation', 'NOUN'], ['dog', 'NOUN'], ['!', 'PUNCT'], [' ', 'SPACE'], ['She', 'PRON'], ['said', 'VERB'], ['it', 'PRON'], ['made', 'VERB'], ['her', 'PRON'], ['birthday', 'NOUN'], ['!', 'PUNCT'], [' ', 'SPACE'], ['Thank', 'VERB'], ['you', 'PRON'], ['Susie', 'PROPN'], ['and', 'CCONJ'], ['the', 'DET'], ['dancing', 'NOUN'], ['dandelion', 'NOUN'], ['for', 'ADP'], ['helping', 'VERB'], ['me', 'PRON'], ['!', 'PUNCT'], [' ', 'SPACE'], ['I', 'PRON'], ['will', 'AUX'], ['be', 'AUX'], ['coming', 'VERB'], ['to', 'ADP'], ['you', 'PRON'], ['for', 'ADP'], ['all', 'DET'], ['my', 'PRON'], ['vegas', 'NOUN'], ['flower', 'NOUN'], ['needs', 'VERB'], ['!', 'PUNCT'], ['\"', 'PUNCT'], [',', 'PUNCT'], [\"'\", 'PUNCT'], ['I', 'PRON'], ['needed', 'VERB'], ['a', 'DET'], ['same', 'ADJ'], ['day', 'NOUN'], ['delivery', 'NOUN'], ['and', 'CCONJ'], ['they', 'PRON'], ['came', 'VERB'], ['through', 'ADP'], ['with', 'ADP'], ['flying', 'VERB'], ['colors', 'NOUN'], ['!', 'PUNCT'], [' ', 'SPACE'], ['I', 'PRON'], ['would', 'AUX'], ['definitely', 'ADV'], ['order', 'VERB'], ['from', 'ADP'], ['them', 'PRON'], ['again', 'ADV'], ['!', 'PUNCT'], ['!', 'PUNCT'], [\"'\", 'PUNCT'], [',', 'PUNCT'], [\"'\", 'PUNCT'], ['My', 'PRON'], ['Sonny', 'NOUN'], ['sent', 'VERB'], ['me', 'PRON'], ['flowers', 'NOUN'], ['and', 'CCONJ'], ['They', 'PRON'], ['absolutely', 'ADV'], ['took', 'VERB'], ['my', 'PRON'], ['breath', 'NOUN'], ['away', 'ADV'], ['!', 'PUNCT'], ['!', 'PUNCT'], ['Fabulous', 'ADJ'], ['awesome', 'ADJ'], ['!', 'PUNCT'], ['!', 'PUNCT'], ['!', 'PUNCT'], [\"'\", 'PUNCT'], [',', 'PUNCT'], [\"'\", 'PUNCT'], ['My', 'PRON'], ['friend', 'NOUN'], ['is', 'AUX'], ['turning', 'VERB'], ['50', 'NUM'], ['in', 'ADP'], ['a', 'DET'], ['few', 'ADJ'], ['days', 'NOUN'], ['and', 'CCONJ'], ['turned', 'VERB'], ['to', 'ADP'], ['Yelp', 'PROPN'], ['to', 'PART'], ['find', 'VERB'], ['the', 'DET'], ['best', 'ADJ'], ['florist', 'NOUN'], ['for', 'ADP'], ['a', 'DET'], ['special', 'ADJ'], ['flower', 'NOUN'], ['arrangement', 'NOUN'], ['for', 'ADP'], ['her', 'PRON'], ['.', 'PUNCT'], [' ', 'SPACE'], ['She', 'PRON'], ['lives', 'VERB'], ['in', 'ADP'], ['Las', 'PROPN'], ['Vegas', 'PROPN'], ['and', 'CCONJ'], ['I', 'PRON'], ['live', 'VERB'], ['in', 'ADP'], ['Honolulu', 'PROPN'], ['so', 'ADV'], ['Yelp', 'PROPN'], ['is', 'AUX'], ['a', 'DET'], ['great', 'ADJ'], ['tool', 'NOUN'], ['to', 'PART'], ['find', 'VERB'], ['the', 'DET'], ['best', 'ADJ'], ['business', 'NOUN'], ['for', 'ADP'], ['our', 'PRON'], ['buck', 'NOUN'], ['.', 'PUNCT'], [' ', 'SPACE'], ['The', 'DET'], ['great', 'ADJ'], ['thing', 'NOUN'], ['is', 'AUX'], ['you', 'PRON'], ['can', 'AUX'], ['go', 'VERB'], ['to', 'ADP'], ['the', 'DET'], ['web', 'NOUN'], ['to', 'PART'], ['further', 'ADV'], ['research', 'VERB'], ['the', 'DET'], ['best', 'ADJ'], ['product', 'NOUN'], ['for', 'ADP'], ['your', 'PRON'], ['needs', 'NOUN'], ['.', 'PUNCT'], [\"'\", 'PUNCT'], [',', 'PUNCT'], [\"'\", 'PUNCT'], ['I', 'PRON'], ['sent', 'VERB'], ['a', 'DET'], ['cute', 'ADJ'], ['basket', 'NOUN'], ['of', 'ADP'], ['flowers', 'NOUN'], ['with', 'ADP'], ['a', 'DET'], ['\"', 'PUNCT'], ['dog', 'NOUN'], ['\"', 'PUNCT'], ['made', 'VERB'], ['of', 'ADP'], ['carnations', 'NOUN'], ['to', 'ADP'], ['a', 'DET'], ['friend\\\\', 'NOUN'], [\"'s\", 'PART'], ['sister', 'NOUN'], ['who', 'PRON'], ['is', 'VERB'], ['terminal', 'ADJ'], ['with', 'ADP'], ['cancer', 'NOUN'], ['and', 'CCONJ'], ['they', 'PRON'], ['delivered', 'VERB'], ['quickly', 'ADV'], ['to', 'ADP'], ['the', 'DET'], ['hospital', 'NOUN'], ['with', 'ADP'], ['a', 'DET'], ['nice', 'ADJ'], ['basket', 'NOUN'], ['as', 'ADP'], ['requested', 'VERB'], ['.', 'PUNCT'], [\"'\", 'PUNCT'], [',', 'PUNCT'], ['\"', 'PUNCT'], ['Beautiful', 'ADJ'], ['flowers', 'NOUN'], ['every', 'DET'], ['time!\\\\n\\\\nMy', 'NUM'], ['husband', 'NOUN'], ['loves', 'VERB'], ['flowers', 'NOUN'], ['and', 'CCONJ'], ['for', 'ADP'], ['Valentine', 'PROPN'], [\"'s\", 'PART'], ['Day', 'PROPN'], ['of', 'ADP'], ['2017', 'NUM'], ['I', 'PRON'], ['told', 'VERB'], ['The', 'DET'], ['Dancing', 'PROPN'], ['Dandelion', 'NOUN'], ['that', 'DET'], ['I', 'PRON'], ['needed', 'VERB'], ['an', 'DET'], ['arrangement', 'NOUN'], ['of', 'ADP'], ['blue', 'ADJ'], ['and', 'CCONJ'], ['white', 'ADJ'], ['flowers', 'NOUN'], ['with', 'ADP'], ['some', 'DET'], ['greengage', 'NOUN'], ['for', 'ADP'], ['my', 'PRON'], ['husband', 'NOUN'], ['.', 'PUNCT'], ['I', 'PRON'], ['left', 'VERB'], ['everything', 'PRON'], ['up', 'ADP'], ['to', 'ADP'], ['them', 'PRON'], ['and', 'CCONJ'], ['told', 'VERB'], ['them', 'PRON'], ['no', 'DET'], ['Lily', 'PROPN'], [\"'s\", 'PART'], ['.', 'PUNCT'], ['They', 'PRON'], ['came', 'VERB'], ['up', 'ADP'], ['with', 'ADP'], ['the', 'DET'], ['most', 'ADV'], ['beautiful', 'ADJ'], ['arrangement', 'NOUN'], ['ever', 'ADV'], ['!', 'PUNCT'], ['\\\\n\\\\nSo', 'ADV'], ['I', 'PRON'], ['decided', 'VERB'], ['to', 'PART'], ['give', 'VERB'], ['them', 'PRON'], ['another', 'DET'], ['go', 'NOUN'], ['.', 'PUNCT'], ['My', 'PRON'], ['mother', 'NOUN'], ['loves', 'VERB'], ['sunflowers', 'NOUN'], ['and', 'CCONJ'], ['this', 'DET'], ['time', 'NOUN'], ['I', 'PRON'], ['picked', 'VERB'], ['an', 'DET'], ['arrangement', 'NOUN'], ['from', 'ADP'], ['their', 'PRON'], ['website', 'NOUN'], ['and', 'CCONJ'], ['asked', 'VERB'], ['for', 'ADP'], ['no', 'DET'], ['Lily', 'PROPN'], [\"'s\", 'PART'], ['.', 'PUNCT'], ['I', 'PRON'], ['could', 'AUX'], ['of', 'ADV'], ['done', 'VERB'], ['with', 'ADP'], ['out', 'ADP'], ['the', 'DET'], ['autumn', 'NOUN'], ['leafs', 'NOUN'], ['but', 'CCONJ'], ['never', 'ADV'], ['the', 'DET'], ['less', 'ADJ'], ['it', 'PRON'], ['was', 'VERB'], ['gorgeous', 'ADJ'], ['.', 'PUNCT'], ['\"', 'PUNCT'], [',', 'PUNCT'], ['\"', 'PUNCT'], ['FLOWER', 'PROPN'], ['POWER', 'PROPN'], ['!', 'PUNCT'], [' ', 'SPACE'], ['I', 'PRON'], ['do', 'AUX'], [\"n't\", 'PART'], ['send', 'VERB'], ['flowers', 'NOUN'], ['very', 'ADV'], ['often', 'ADV'], [',', 'PUNCT'], ['but', 'CCONJ'], ['had', 'VERB'], ['two', 'NUM'], ['clients', 'NOUN'], ['who', 'PRON'], ['lost', 'VERB'], ['their', 'PRON'], ['husbands', 'NOUN'], ['in', 'ADP'], ['one', 'NUM'], ['week', 'NOUN'], [',', 'PUNCT'], ['so', 'ADV'], ['sad', 'ADJ'], [',', 'PUNCT'], ['and', 'CCONJ'], ['I', 'PRON'], ['wanted', 'VERB'], ['to', 'PART'], ['reach', 'VERB'], ['out', 'ADP'], ['to', 'ADP'], ['them', 'PRON'], ['with', 'ADP'], ['something', 'PRON'], ['cheerful', 'ADJ'], ['to', 'PART'], ['send', 'VERB'], ['my', 'PRON'], ['love', 'NOUN'], ['...', 'PUNCT'], [' ', 'SPACE'], ['I', 'PRON'], ['looked', 'VERB'], ['at', 'ADP'], ['quite', 'DET'], ['a', 'DET'], ['few', 'ADJ'], ['florist', 'ADJ'], ['pages', 'NOUN'], ['in', 'ADP'], ['town', 'NOUN'], ['and', 'CCONJ'], ['really', 'ADV'], ['liked', 'VERB'], ['the', 'DET'], ['Dancing', 'PROPN'], ['Dandelion', 'PROPN'], ['and', 'CCONJ'], ['ended', 'VERB'], ['up', 'ADP'], ['sending', 'VERB'], ['them', 'PRON'], ['each', 'DET'], ['the', 'DET'], ['bouquet', 'NOUN'], ['LOVELY', 'PROPN'], ['LILLY', 'PROPN'], ['AND', 'CCONJ'], ['ROSE', 'PROPN'], ['FOR', 'ADP'], ['FALL', 'NOUN'], ['because', 'SCONJ'], ['of', 'ADP'], ['the', 'DET'], ['beautiful', 'ADJ'], ['and', 'CCONJ'], ['bright', 'ADJ'], ['yellow', 'ADJ'], ['and', 'CCONJ'], ['orange', 'ADJ'], [',', 'PUNCT'], ['and', 'CCONJ'], ['what', 'PRON'], ['a', 'DET'], ['great', 'ADJ'], ['combination', 'NOUN'], ['without', 'ADP'], ['tons', 'NOUN'], ['of', 'ADP'], ['cheap', 'ADJ'], ['little', 'ADJ'], ['filler', 'NOUN'], ['like', 'ADP'], ['others', 'NOUN'], ['do!\\\\n\\\\nThis', 'ADV'], ['was', 'VERB'], ['my', 'PRON'], ['first', 'ADJ'], ['time', 'NOUN'], ['ordering', 'VERB'], ['from', 'ADP'], ['them', 'PRON'], [',', 'PUNCT'], ['so', 'ADV'], ['then', 'ADV'], ['I', 'PRON'], ['sat', 'VERB'], ['back', 'ADV'], ['and', 'CCONJ'], ['waited', 'VERB'], ['...', 'PUNCT'], ['\\\\n\\\\nI', 'PROPN'], ['received', 'VERB'], ['calls', 'NOUN'], ['from', 'ADP'], ['both', 'DET'], ['women', 'NOUN'], [',', 'PUNCT'], ['raving', 'VERB'], ['about', 'ADP'], ['how', 'ADV'], ['beautiful', 'ADJ'], ['and', 'CCONJ'], ['cheerful', 'ADJ'], ['the', 'DET'], ['arrangements', 'NOUN'], ['were', 'VERB'], ['!', 'PUNCT'], ['(', 'PUNCT'], ['Sigh', 'NOUN'], ['of', 'ADP'], ['relief', 'NOUN'], ['!', 'PUNCT'], [')', 'PUNCT'], [' ', 'SPACE'], ['One', 'NUM'], ['woman', 'NOUN'], ['even', 'ADV'], ['stated', 'VERB'], ['that', 'SCONJ'], ['earlier', 'ADV'], ['she', 'PRON'], ['received', 'VERB'], ['an', 'DET'], ['arrangement', 'NOUN'], ['from', 'ADP'], ['a', 'DET'], ['family', 'NOUN'], ['member', 'NOUN'], ['that', 'DET'], ['was', 'VERB'], ['so', 'ADV'], ['hideous', 'ADJ'], ['in', 'ADP'], ['presentation', 'NOUN'], ['that', 'SCONJ'], ['when', 'ADV'], ['DANCING', 'PROPN'], ['DANDELION', 'NOUN'], ['brought', 'VERB'], ['our', 'PRON'], ['bouquet', 'NOUN'], [',', 'PUNCT'], ['she', 'PRON'], ['took', 'VERB'], ['a', 'DET'], ['photo', 'NOUN'], ['of', 'ADP'], ['IT', 'NOUN'], ['(', 'PUNCT'], ['instead', 'ADV'], ['of', 'ADP'], ['the', 'DET'], ['hideous', 'ADJ'], ['one', 'NOUN'], [')', 'PUNCT'], ['TO', 'PART'], ['SEND', 'PROPN'], ['TO', 'ADP'], ['HER', 'PRON'], ['FAMILY', 'PROPN'], ['MEMBER', 'NOUN'], ['to', 'PART'], ['thank', 'VERB'], ['them', 'PRON'], ['for', 'ADP'], ['their', 'PRON'], [\"thoughtfulness!\\\\n\\\\nDon't\", 'NOUN'], ['let', 'VERB'], ['your', 'PRON'], ['floral', 'ADJ'], ['money', 'NOUN'], ['be', 'VERB'], ['a', 'DET'], ['waste', 'NOUN'], [',', 'PUNCT'], ['call', 'VERB'], ['the', 'DET'], ['Dancing', 'PROPN'], ['Dandelion', 'PROPN'], ['like', 'ADP'], ['I', 'PRON'], ['will', 'AUX'], ['again', 'ADV'], ['and', 'CCONJ'], ['again', 'ADV'], ['!', 'PUNCT'], ['\"', 'PUNCT'], [',', 'PUNCT'], ['\"', 'PUNCT'], ['While', 'SCONJ'], ['planning', 'VERB'], ['my', 'PRON'], ['wedding', 'NOUN'], ['from', 'ADP'], ['CA', 'PROPN'], [',', 'PUNCT'], ['I', 'PRON'], ['found', 'VERB'], ['this', 'DET'], ['shop', 'NOUN'], ['on', 'ADP'], ['Yelp', 'PROPN'], ['!', 'PUNCT'], ['So', 'ADV'], ['glad', 'ADJ'], ['I', 'PRON'], ['did', 'VERB'], ['!', 'PUNCT'], ['Greg', 'PROPN'], ['is', 'AUX'], ['by', 'ADP'], ['far', 'ADV'], ['the', 'DET'], ['best', 'ADV'], ['priced', 'VERB'], ['in', 'ADP'], ['Vegas', 'PROPN'], [',', 'PUNCT'], ['and', 'CCONJ'], ['does', 'VERB'], ['superior', 'ADJ'], ['work', 'NOUN'], ['!', 'PUNCT'], ['He', 'PRON'], ['did', 'VERB'], ['10', 'NUM'], ['centerpieces', 'NOUN'], ['for', 'ADP'], ['us', 'PRON'], [',', 'PUNCT'], ['8', 'NUM'], ['bridesmaid', 'ADJ'], ['bouquets', 'NOUN'], ['and', 'CCONJ'], ['a', 'DET'], ['throw', 'NOUN'], ['bouquet', 'NOUN'], ['.', 'PUNCT'], ['I', 'PRON'], ['told', 'VERB'], ['him', 'PRON'], ['my', 'PRON'], ['budget', 'NOUN'], ['and', 'CCONJ'], ['ideas', 'NOUN'], ['and', 'CCONJ'], ['he', 'PRON'], ['made', 'VERB'], ['it', 'PRON'], ['happen', 'VERB'], ['!', 'PUNCT'], ['If', 'SCONJ'], ['you', 'PRON'], [\"'re\", 'AUX'], ['looking', 'VERB'], ['for', 'ADP'], ['someone', 'PRON'], ['to', 'PART'], ['do', 'VERB'], ['your', 'PRON'], ['wedding', 'NOUN'], ['flowers', 'NOUN'], [',', 'PUNCT'], ['call', 'VERB'], ['Greg', 'PROPN'], ['!', 'PUNCT'], ['The', 'DET'], ['whole', 'ADJ'], ['process', 'NOUN'], ['was', 'AUX'], ['so', 'ADV'], ['painless', 'ADJ'], ['and', 'CCONJ'], ['easy', 'ADJ'], ['!', 'PUNCT'], ['He', 'PRON'], ['was', 'AUX'], ['on', 'ADP'], ['time', 'NOUN'], [',', 'PUNCT'], ['and', 'CCONJ'], ['set', 'VERB'], ['up', 'ADP'], ['and', 'CCONJ'], ['delivered', 'VERB'], ['everything', 'PRON'], ['for', 'ADP'], ['us', 'PRON'], ['!', 'PUNCT'], ['Thanks', 'VERB'], ['Greg', 'PROPN'], ['!', 'PUNCT'], ['You', 'PRON'], [\"'re\", 'VERB'], ['the', 'DET'], ['best', 'ADJ'], ['.', 'PUNCT'], ['\"', 'PUNCT'], [',', 'PUNCT'], ['\"', 'PUNCT'], ['We', 'PRON'], ['were', 'AUX'], ['so', 'ADV'], ['happy', 'ADJ'], ['with', 'ADP'], ['our', 'PRON'], ['sympathy', 'NOUN'], ['flowers', 'NOUN'], ['for', 'ADP'], ['our', 'PRON'], ['Dad', 'PROPN'], [\"'s\", 'PART'], ['service', 'NOUN'], ['.', 'PUNCT'], ['Greg', 'PROPN'], ['did', 'VERB'], ['an', 'DET'], ['outstanding', 'ADJ'], ['job', 'NOUN'], ['of', 'ADP'], ['creating', 'VERB'], ['a', 'DET'], ['beautiful', 'ADJ'], ['arrangement', 'NOUN'], ['.', 'PUNCT'], ['We', 'PRON'], ['were', 'AUX'], ['thrilled', 'ADJ'], ['!', 'PUNCT'], ['When', 'ADV'], ['I', 'PRON'], ['was', 'AUX'], ['looking', 'VERB'], ['for', 'ADP'], ['a', 'DET'], ['flower', 'NOUN'], ['shop', 'NOUN'], ['(', 'PUNCT'], ['from', 'ADP'], ['out', 'SCONJ'], ['of', 'ADP'], ['town', 'NOUN'], [')', 'PUNCT'], ['I', 'PRON'], ['loved', 'VERB'], ['that', 'SCONJ'], ['they', 'PRON'], ['were', 'AUX'], ['a', 'DET'], ['local', 'ADJ'], [',', 'PUNCT'], ['family', 'NOUN'], ['run', 'NOUN'], ['business', 'NOUN'], ['.', 'PUNCT'], ['They', 'PRON'], ['answered', 'VERB'], ['my', 'PRON'], ['questions', 'NOUN'], ['quickly', 'ADV'], [',', 'PUNCT'], ['cared', 'VERB'], ['about', 'ADP'], ['my', 'PRON'], ['order', 'NOUN'], [',', 'PUNCT'], ['were', 'AUX'], ['very', 'ADV'], ['friendly', 'ADJ'], ['and', 'CCONJ'], ['had', 'VERB'], ['the', 'DET'], ['flowers', 'NOUN'], ['ready', 'ADJ'], ['ahead', 'ADV'], ['of', 'ADP'], ['the', 'DET'], ['pick', 'NOUN'], ['up', 'ADP'], ['time', 'NOUN'], ['the', 'DET'], ['morning', 'NOUN'], ['of', 'ADP'], ['the', 'DET'], ['service', 'NOUN'], ['.', 'PUNCT'], ['I', 'PRON'], ['really', 'ADV'], ['did', 'AUX'], [\"n't\", 'PART'], ['want', 'VERB'], ['to', 'PART'], ['work', 'VERB'], ['with', 'ADP'], ['a', 'DET'], ['chain', 'NOUN'], ['flower', 'NOUN'], ['shop', 'NOUN'], ['that', 'DET'], ['did', 'AUX'], [\"n't\", 'PART'], ['care', 'VERB'], ['about', 'ADP'], ['the', 'DET'], ['result', 'NOUN'], ['.', 'PUNCT'], ['The', 'DET'], ['pricing', 'NOUN'], ['was', 'AUX'], ['very', 'ADV'], ['reasonable', 'ADJ'], ['and', 'CCONJ'], ['the', 'DET'], ['layout', 'NOUN'], ['of', 'ADP'], ['their', 'PRON'], ['website', 'NOUN'], ['was', 'VERB'], ['great', 'ADJ'], ['.', 'PUNCT'], ['We', 'PRON'], ['love', 'VERB'], ['the', 'DET'], ['Dancing', 'PROPN'], ['Dandelion', 'PROPN'], ['and', 'CCONJ'], ['we', 'PRON'], ['will', 'AUX'], ['be', 'VERB'], ['back', 'ADV'], ['for', 'ADP'], ['more', 'ADJ'], ['!', 'PUNCT'], ['\"', 'PUNCT'], [',', 'PUNCT'], [\"'\", 'PUNCT'], ['Look', 'VERB'], ['NO', 'ADV'], ['further', 'ADV'], ['for', 'ADP'], ['a', 'DET'], ['\"', 'PUNCT'], ['KNOCKOUT', 'NOUN'], ['\"', 'PUNCT'], ['flower', 'NOUN'], ['arrangement', 'NOUN'], ['for', 'ADP'], ['a', 'DET'], ['special', 'ADJ'], ['occasion', 'NOUN'], ['....', 'PUNCT'], ['or', 'CCONJ'], ['JUST', 'ADV'], ['BECAUSE', 'SCONJ'], ['!', 'PUNCT'], ['!', 'PUNCT'], ['!', 'PUNCT'], ['Greg', 'PROPN'], ['helped', 'VERB'], ['me', 'PRON'], ['decide', 'VERB'], ['on', 'ADP'], ['a', 'DET'], ['gorgeous', 'ADJ'], ['arrangement', 'NOUN'], ['for', 'ADP'], ['my', 'PRON'], ['son', 'NOUN'], ['and', 'CCONJ'], ['DIL', 'PROPN'], ['anniversary', 'NOUN'], ['(', 'PUNCT'], ['via', 'ADP'], ['long', 'ADJ'], ['distance', 'NOUN'], ['from', 'ADP'], ['Houston', 'PROPN'], [')', 'PUNCT'], ['that', 'SCONJ'], ['they', 'PRON'], ['were', 'AUX'], ['celebrating', 'VERB'], ['at', 'ADP'], ['The', 'DET'], ['Four', 'PROPN'], ['Seasons', 'PROPN'], ['in', 'ADP'], ['Las', 'PROPN'], ['Vegas', 'PROPN'], ['.', 'PUNCT'], [\"We\\\\'re\", 'PROPN'], ['from', 'ADP'], ['Houston', 'PROPN'], [',', 'PUNCT'], ['so', 'ADV'], [\"you\\\\'ve\", 'PROPN'], ['heard', 'VERB'], ['everything', 'PRON'], ['is', 'AUX'], ['bigger', 'ADJ'], ['and', 'CCONJ'], ['better', 'ADV'], ['in', 'ADP'], ['Texas', 'PROPN'], ['?', 'PUNCT'], ['?', 'PUNCT'], ['?', 'PUNCT'], ['Well', 'INTJ'], [',', 'PUNCT'], ['not', 'PART'], ['always', 'ADV'], ['!', 'PUNCT'], ['!', 'PUNCT'], ['!', 'PUNCT'], ['!', 'PUNCT'], ['The', 'DET'], ['arrangement', 'NOUN'], ['was', 'AUX'], ['magnificent', 'ADJ'], [',', 'PUNCT'], ['very', 'ADV'], ['fresh', 'ADJ'], ['and', 'CCONJ'], ['a', 'DET'], ['stunning', 'ADJ'], ['addition', 'NOUN'], ['to', 'ADP'], ['their', 'PRON'], ['celebration', 'NOUN'], ['.', 'PUNCT'], ['Oh', 'INTJ'], [',', 'PUNCT'], ['and', 'CCONJ'], ['did', 'AUX'], ['I', 'PRON'], ['tell', 'VERB'], ['you', 'PRON'], [',', 'PUNCT'], ['I', 'PRON'], ['placed', 'VERB'], ['the', 'DET'], ['order', 'NOUN'], ['noonish', 'ADV'], ['on', 'ADP'], ['a', 'DET'], ['SATURDAY', 'PROPN'], ['just', 'ADV'], ['when', 'ADV'], ['they', 'PRON'], ['were', 'VERB'], ['about', 'ADJ'], ['to', 'PART'], ['close', 'VERB'], ['for', 'ADP'], ['the', 'DET'], ['weekend', 'NOUN'], ['!', 'PUNCT'], ['!', 'PUNCT'], ['Magician', 'PROPN'], ['Greg', 'PROPN'], ['not', 'PART'], ['only', 'ADV'], ['made', 'VERB'], ['it', 'PRON'], ['happen', 'VERB'], [',', 'PUNCT'], ['but', 'CCONJ'], ['spent', 'VERB'], ['a', 'DET'], ['long', 'ADJ'], ['-long', 'NOUN'], ['-', 'PUNCT'], ['distance', 'NOUN'], ['phone', 'NOUN'], ['call', 'NOUN'], ['with', 'ADP'], ['me', 'PRON'], ['because', 'SCONJ'], [\"I\\\\'m\", 'PRON'], ['a', 'DET'], ['perfectionist', 'NOUN'], ['and', 'CCONJ'], ['over', 'ADP'], ['thinker', 'NOUN'], ['.', 'PUNCT'], ['With', 'ADP'], ['a', 'DET'], ['smile', 'NOUN'], ['in', 'ADP'], ['his', 'PRON'], ['voice', 'NOUN'], ['the', 'DET'], ['entire', 'ADJ'], ['time', 'NOUN'], ['.', 'PUNCT'], ['Look', 'VERB'], ['no', 'ADV'], ['further', 'ADV'], ['!', 'PUNCT'], ['!', 'PUNCT'], [\"'\", 'PUNCT'], [',', 'PUNCT'], ['\"', 'PUNCT'], ['These', 'DET'], ['guys', 'NOUN'], ['are', 'AUX'], ['absolutely', 'ADV'], ['great', 'ADJ'], ['!', 'PUNCT'], [' ', 'SPACE'], ['They', 'PRON'], [\"'ve\", 'AUX'], ['gone', 'VERB'], ['out', 'SCONJ'], ['of', 'ADP'], ['their', 'PRON'], ['way', 'NOUN'], ['for', 'ADP'], ['last', 'ADJ'], ['minute', 'NOUN'], ['deliveries', 'NOUN'], ['for', 'ADP'], ['me', 'PRON'], [',', 'PUNCT'], [' ', 'SPACE'], ['have', 'VERB'], ['excellent', 'ADJ'], ['customer', 'NOUN'], ['service', 'NOUN'], ['and', 'CCONJ'], ['they', 'PRON'], ['sure', 'ADV'], ['do', 'AUX'], ['put', 'VERB'], ['together', 'ADV'], ['some', 'DET'], ['nice', 'ADJ'], ['flowers', 'NOUN'], ['!', 'PUNCT'], ['Thanks', 'NOUN'], ['again', 'ADV'], ['guys', 'NOUN'], ['!', 'PUNCT'], ['\"', 'PUNCT'], [',', 'PUNCT'], [\"'\", 'PUNCT'], ['This', 'DET'], ['shop', 'NOUN'], ['is', 'AUX'], ['awesome', 'ADJ'], ['.', 'PUNCT'], ['They', 'PRON'], ['do', 'VERB'], ['very', 'ADV'], ['high', 'ADJ'], ['quality', 'NOUN'], ['work', 'NOUN'], ['and', 'CCONJ'], ['exceeded', 'VERB'], ['the', 'DET'], ['expectations', 'NOUN'], ['of', 'ADP'], ['the', 'DET'], ['gift', 'NOUN'], ['recipient', 'NOUN'], ['.', 'PUNCT'], ['Grateful', 'ADJ'], ['to', 'PART'], ['have', 'AUX'], ['found', 'VERB'], ['such', 'DET'], ['a', 'DET'], ['quality', 'NOUN'], [',', 'PUNCT'], ['high', 'ADJ'], ['end', 'NOUN'], ['flower', 'NOUN'], ['shop', 'NOUN'], ['to', 'PART'], ['use', 'VERB'], ['in', 'ADP'], ['Vegas', 'PROPN'], ['.', 'PUNCT'], ['Thanks', 'NOUN'], ['to', 'ADP'], ['Phil', 'PROPN'], ['and', 'CCONJ'], ['Susie', 'PROPN'], ['for', 'ADP'], ['the', 'DET'], ['great', 'ADJ'], ['customer', 'NOUN'], ['service', 'NOUN'], ['!', 'PUNCT'], [\"'\", 'PUNCT'], [',', 'PUNCT'], [\"'\", 'PUNCT'], ['Bought', 'VERB'], ['some', 'DET'], ['beautiful', 'ADJ'], ['flowers', 'NOUN'], ['online', 'ADV'], ['for', 'ADP'], ['a', 'DET'], ['friend', 'NOUN'], ['that', 'DET'], ['looked', 'VERB'], ['like', 'ADP'], ['a', 'DET'], ['little', 'ADJ'], ['dog', 'NOUN'], ['super', 'NOUN'], ['cute', 'ADJ'], ['!', 'PUNCT'], ['Great', 'ADJ'], ['service', 'NOUN'], ['and', 'CCONJ'], ['product', 'NOUN'], ['..', 'PUNCT'], ['will', 'AUX'], ['be', 'AUX'], ['using', 'VERB'], ['them', 'PRON'], ['again', 'ADV'], ['!', 'PUNCT'], [\"'\", 'PUNCT'], [',', 'PUNCT'], [\"'\", 'PUNCT'], ['Disappointed', 'VERB'], ['after', 'ADP'], ['spending', 'VERB'], ['$', 'SYM'], ['100', 'NUM'], ['for', 'ADP'], ['a', 'DET'], ['Valentines', 'PROPN'], ['Day', 'PROPN'], ['floral', 'ADJ'], ['arrangement', 'NOUN'], ['.', 'PUNCT'], ['Roses', 'NOUN'], ['lasted', 'VERB'], ['3', 'NUM'], ['days', 'NOUN'], ['before', 'ADP'], ['they', 'PRON'], ['wilted', 'VERB'], ['and', 'CCONJ'], ['never', 'ADV'], ['opened', 'VERB'], ['up', 'ADP'], ['.', 'PUNCT'], [\"'\", 'PUNCT'], [',', 'PUNCT'], [\"'\", 'PUNCT'], ['Needed', 'VERB'], ['them', 'PRON'], ['in', 'ADP'], ['a', 'DET'], ['pinch', 'NOUN'], ['and', 'CCONJ'], ['they', 'PRON'], ['came', 'VERB'], ['through', 'ADP'], ['.', 'PUNCT'], ['Great', 'ADJ'], ['people', 'NOUN'], ['running', 'VERB'], ['a', 'DET'], ['great', 'ADJ'], ['business', 'NOUN'], ['!', 'PUNCT'], ['!', 'PUNCT'], ['!', 'PUNCT'], ['Support', 'VERB'], ['your', 'PRON'], ['local', 'ADJ'], ['business', 'NOUN'], ['owners', 'NOUN'], ['.', 'PUNCT'], ['Also', 'ADV'], ['they', 'PRON'], ['go', 'VERB'], ['the', 'DET'], ['extra', 'ADJ'], ['mile', 'NOUN'], ['with', 'ADP'], ['high', 'ADJ'], ['quality', 'NOUN'], ['flowers', 'NOUN'], ['.', 'PUNCT'], [\"'\", 'PUNCT'], [',', 'PUNCT'], [\"'\", 'PUNCT'], ['Our', 'PRON'], ['one', 'NUM'], ['and', 'CCONJ'], ['only', 'ADV'], ['florist', 'NOUN'], ['for', 'ADP'], ['Las', 'PROPN'], ['Vegas', 'PROPN'], ['because', 'SCONJ'], ['of', 'ADP'], ['their', 'PRON'], ['customer', 'NOUN'], ['service', 'NOUN'], ['.', 'PUNCT'], ['\\\\n\\\\nOn', 'NOUN'], ['a', 'DET'], ['couple', 'NOUN'], ['of', 'ADP'], ['occasions', 'NOUN'], [',', 'PUNCT'], ['they', 'PRON'], ['helped', 'VERB'], ['with', 'ADP'], ['custom', 'NOUN'], ['orders', 'NOUN'], [',', 'PUNCT'], ['but', 'CCONJ'], ['the', 'DET'], ['one', 'NUM'], ['order', 'NOUN'], ['I', 'PRON'], ['would', 'AUX'], ['like', 'VERB'], ['to', 'PART'], ['highlight', 'VERB'], ['is', 'VERB'], ['how', 'ADV'], ['they', 'PRON'], ['helped', 'VERB'], ['with', 'ADP'], ['our', 'PRON'], ['wedding', 'NOUN'], ['floral', 'NOUN'], ['.', 'PUNCT'], ['\\\\n\\\\nWhen', 'PROPN'], ['I', 'PRON'], ['called', 'VERB'], ['and', 'CCONJ'], ['asked', 'VERB'], ['for', 'ADP'], ['fresh', 'ADJ'], ['lavender', 'NOUN'], [',', 'PUNCT'], ['they', 'PRON'], ['said', 'VERB'], ['they', 'PRON'], ['would', 'AUX'], ['ask', 'VERB'], ['their', 'PRON'], ['distributor', 'NOUN'], ['but', 'CCONJ'], ['could', 'AUX'], ['not', 'PART'], ['guarantee', 'VERB'], ['this', 'DET'], ['as', 'ADP'], ['it', 'PRON'], ['was', 'VERB'], ['not', 'PART'], ['in', 'ADP'], ['season', 'NOUN'], ['.', 'PUNCT'], ['After', 'ADP'], ['they', 'PRON'], ['spoke', 'VERB'], ['with', 'ADP'], ['their', 'PRON'], ['distributor', 'NOUN'], [',', 'PUNCT'], ['they', 'PRON'], ['were', 'AUX'], ['going', 'VERB'], ['to', 'PART'], ['order', 'VERB'], ['from', 'ADP'], ['out', 'SCONJ'], ['of', 'ADP'], ['the', 'DET'], ['country', 'NOUN'], ['.', 'PUNCT'], ['But', 'CCONJ'], ['being', 'VERB'], ['as', 'ADP'], ['it', 'PRON'], ['was', 'AUX'], ['coming', 'VERB'], ['from', 'ADP'], ['out', 'SCONJ'], ['of', 'ADP'], ['the', 'DET'], ['country', 'NOUN'], [',', 'PUNCT'], ['they', 'PRON'], ['could', 'AUX'], ['not', 'PART'], ['guarantee', 'VERB'], ['the', 'DET'], ['quality', 'NOUN'], ['.', 'PUNCT'], ['Long', 'ADJ'], ['story', 'NOUN'], ['short', 'ADJ'], [',', 'PUNCT'], ['the', 'DET'], ['fresh', 'ADJ'], ['lavender', 'ADJ'], ['quality', 'NOUN'], ['was', 'AUX'], ['not', 'PART'], ['top', 'ADJ'], ['notch', 'NOUN'], ['.', 'PUNCT'], ['They', 'PRON'], ['still', 'ADV'], ['made', 'VERB'], ['the', 'DET'], ['bouquet', 'NOUN'], ['but', 'CCONJ'], ['did', 'AUX'], ['not', 'PART'], ['charge', 'VERB'], ['us', 'PRON'], ['full', 'ADJ'], ['price', 'NOUN'], ['.', 'PUNCT'], ['\\\\n\\\\nOur', 'PUNCT'], ['back', 'ADV'], ['up', 'ADP'], ['plan', 'NOUN'], ['was', 'AUX'], ['using', 'VERB'], ['dried', 'VERB'], ['lavender', 'ADJ'], ['stalks', 'NOUN'], ['to', 'PART'], ['make', 'VERB'], ['the', 'DET'], ['bridal', 'ADJ'], ['bouquet', 'NOUN'], ['and', 'CCONJ'], ['this', 'DET'], ['worked', 'VERB'], ['out', 'ADP'], ['perfectly', 'ADV'], ['.', 'PUNCT'], ['I', 'PRON'], ['actually', 'ADV'], ['like', 'VERB'], ['idea', 'NOUN'], ['better', 'ADV'], ['because', 'SCONJ'], ['I', 'PRON'], ['am', 'AUX'], ['now', 'ADV'], ['using', 'VERB'], ['the', 'DET'], ['dried', 'VERB'], ['lavender', 'NOUN'], ['bouquet', 'NOUN'], ['as', 'ADP'], ['a', 'DET'], ['floral', 'ADJ'], ['display', 'NOUN'], ['at', 'ADP'], ['home', 'NOUN'], ['.', 'PUNCT'], ['Every', 'DET'], ['time', 'NOUN'], ['I', 'PRON'], ['see', 'VERB'], ['it', 'PRON'], [',', 'PUNCT'], ['it', 'PRON'], ['reminds', 'VERB'], ['me', 'PRON'], ['of', 'ADP'], ['our', 'PRON'], ['special', 'ADJ'], ['day', 'NOUN'], ['.', 'PUNCT'], ['\\\\n\\\\nIf', 'PROPN'], ['you', 'PRON'], ['need', 'VERB'], ['a', 'DET'], ['good', 'ADJ'], ['florist', 'NOUN'], [',', 'PUNCT'], ['you', 'PRON'], ['should', 'AUX'], ['see', 'VERB'], ['and', 'CCONJ'], ['talk', 'VERB'], ['to', 'ADP'], ['the', 'DET'], ['folks', 'NOUN'], ['at', 'ADP'], ['Dancing', 'PROPN'], ['Dandelion', 'PROPN'], ['!', 'PUNCT'], [\"'\", 'PUNCT'], [',', 'PUNCT'], [\"'\", 'PUNCT'], ['Greg', 'PROPN'], ['helped', 'VERB'], ['me', 'PRON'], ['get', 'VERB'], ['my', 'PRON'], ['dream', 'NOUN'], ['wedding', 'NOUN'], ['bouquet', 'NOUN'], ['in', 'ADP'], ['my', 'PRON'], ['price', 'NOUN'], ['range', 'NOUN'], ['.', 'PUNCT'], ['My', 'PRON'], ['best', 'ADJ'], ['friend', 'NOUN'], ['sent', 'VERB'], ['him', 'PRON'], ['emails', 'NOUN'], ['of', 'ADP'], ['what', 'PRON'], ['I', 'PRON'], ['liked', 'VERB'], ['and', 'CCONJ'], ['spoke', 'VERB'], ['about', 'ADP'], ['what', 'PRON'], ['was', 'VERB'], ['in', 'ADP'], ['season', 'NOUN'], ['and', 'CCONJ'], ['how', 'ADV'], ['we', 'PRON'], ['could', 'AUX'], ['accomplish', 'VERB'], ['the', 'DET'], ['look', 'NOUN'], ['.', 'PUNCT'], ['Very', 'ADV'], ['resonable', 'ADJ'], ['very', 'ADV'], ['professional', 'ADJ'], ['and', 'CCONJ'], ['nice', 'ADJ'], ['.', 'PUNCT'], ['Compared', 'VERB'], ['to', 'ADP'], ['other', 'ADJ'], ['shops', 'NOUN'], ['that', 'DET'], ['I', 'PRON'], ['called', 'VERB'], ['and', 'CCONJ'], ['this', 'DET'], ['one', 'NUM'], ['lady', 'NOUN'], ['even', 'ADV'], ['laughed', 'VERB'], ['at', 'ADP'], ['my', 'PRON'], ['budget', 'NOUN'], ['.', 'PUNCT'], ['Thank', 'VERB'], ['you', 'PRON'], ['to', 'ADP'], ['Greg', 'PROPN'], ['and', 'CCONJ'], ['his', 'PRON'], ['staff', 'NOUN'], ['.', 'PUNCT'], [\"'\", 'PUNCT'], [',', 'PUNCT'], [\"'\", 'PUNCT'], ['So', 'ADV'], ['i', 'PRON'], ['was', 'AUX'], ['really', 'ADV'], ['skeptical', 'ADJ'], ['about', 'ADP'], ['ordering', 'VERB'], ['flowers', 'NOUN'], [',', 'PUNCT'], ['but', 'CCONJ'], ['i', 'PRON'], ['wanted', 'VERB'], ['someplace', 'NOUN'], ['local', 'ADJ'], ['for', 'ADP'], ['where', 'ADV'], ['they', 'PRON'], ['were', 'AUX'], ['being', 'AUX'], ['delivered', 'VERB'], ['.', 'PUNCT'], [' ', 'SPACE'], ['This', 'DET'], ['place', 'NOUN'], ['had', 'VERB'], ['a', 'DET'], ['bunch', 'NOUN'], ['of', 'ADP'], ['great', 'ADJ'], ['reviews', 'NOUN'], ['on', 'ADP'], ['Yelp', 'PROPN'], ['so', 'ADV'], ['i', 'PRON'], ['tried', 'VERB'], ['it', 'PRON'], ['.', 'PUNCT'], [' ', 'SPACE'], ['I', 'PRON'], ['looked', 'VERB'], ['at', 'ADP'], ['all', 'DET'], ['of', 'ADP'], ['the', 'DET'], ['flowers', 'NOUN'], ['online', 'ADV'], ['.', 'PUNCT'], [' ', 'SPACE'], ['I', 'PRON'], ['though', 'ADV'], ['for', 'ADP'], ['sure', 'ADJ'], ['these', 'DET'], ['flowers', 'NOUN'], ['are', 'AUX'], ['not', 'PART'], ['going', 'VERB'], ['to', 'PART'], ['look', 'VERB'], ['like', 'ADP'], ['as', 'ADP'], ['they', 'PRON'], ['do', 'VERB'], ['online', 'ADV'], ['.', 'PUNCT'], [' ', 'SPACE'], ['I', 'PRON'], ['had', 'VERB'], ['my', 'PRON'], ['friend', 'NOUN'], ['send', 'VERB'], ['me', 'PRON'], ['a', 'DET'], ['pic', 'NOUN'], ['of', 'ADP'], ['what', 'PRON'], ['she', 'PRON'], ['received', 'VERB'], ['.', 'PUNCT'], [' ', 'SPACE'], ['And', 'CCONJ'], ['surprisingly', 'ADV'], [',', 'PUNCT'], ['they', 'PRON'], ['looked', 'VERB'], ['way', 'ADV'], ['better', 'ADJ'], ['than', 'SCONJ'], ['the', 'DET'], ['picture', 'NOUN'], ['online', 'ADV'], ['.', 'PUNCT'], [' ', 'SPACE'], ['I', 'PRON'], ['was', 'AUX'], ['so', 'ADV'], ['excited', 'ADJ'], ['.', 'PUNCT'], [' ', 'SPACE'], ['I', 'PRON'], ['ordered', 'VERB'], ['at', 'ADP'], ['like', 'INTJ'], ['5:30', 'NUM'], ['last', 'ADJ'], ['night', 'NOUN'], ['for', 'ADP'], ['next', 'ADJ'], ['day', 'NOUN'], ['delivery', 'NOUN'], ['and', 'CCONJ'], ['she', 'PRON'], ['received', 'VERB'], ['around', 'ADP'], ['noon', 'NOUN'], ['on', 'ADP'], ['the', 'DET'], ['day', 'NOUN'], ['of', 'ADP'], ['delivery', 'NOUN'], ['.', 'PUNCT'], [' ', 'SPACE'], ['They', 'PRON'], ['look', 'VERB'], ['beautiful', 'ADJ'], ['and', 'CCONJ'], ['they', 'PRON'], ['did', 'VERB'], ['an', 'DET'], ['amazing', 'ADJ'], ['job', 'NOUN'], ['.', 'PUNCT'], [' ', 'SPACE'], ['I', 'PRON'], ['would', 'AUX'], ['highly', 'ADV'], ['recommend', 'VERB'], ['and', 'CCONJ'], ['will', 'AUX'], ['use', 'VERB'], ['this', 'DET'], ['company', 'NOUN'], ['again', 'ADV'], ['for', 'ADP'], ['future', 'ADJ'], ['flower', 'NOUN'], ['deliveries', 'NOUN'], ['.', 'PUNCT'], [\"'\", 'PUNCT'], [',', 'PUNCT'], ['\"', 'PUNCT'], ['Awesome', 'ADJ'], ['customer', 'NOUN'], ['service', 'NOUN'], ['!', 'PUNCT'], ['I', 'PRON'], ['was', 'AUX'], ['in', 'ADP'], ['a', 'DET'], ['bind', 'NOUN'], ['and', 'CCONJ'], ['needed', 'VERB'], ['a', 'DET'], ['quick', 'ADJ'], ['delivery', 'NOUN'], ['and', 'CCONJ'], ['Gregory', 'PROPN'], ['made', 'VERB'], ['it', 'PRON'], ['happen', 'VERB'], ['.', 'PUNCT'], ['My', 'PRON'], ['husband', 'NOUN'], ['has', 'AUX'], ['sent', 'VERB'], ['me', 'PRON'], ['flowers', 'NOUN'], ['from', 'ADP'], ['The', 'DET'], ['Dancing', 'PROPN'], ['Dandelion', 'NOUN'], ['in', 'ADP'], ['the', 'DET'], ['past', 'NOUN'], ['and', 'CCONJ'], ['I', 'PRON'], ['have', 'AUX'], ['always', 'ADV'], ['been', 'VERB'], ['pleased', 'ADJ'], ['by', 'ADP'], ['their', 'PRON'], ['gorgeous', 'ADJ'], ['arrangements', 'NOUN'], ['.', 'PUNCT'], ['I', 'PRON'], ['know', 'VERB'], ['today', 'NOUN'], [\"'s\", 'PART'], ['arrangement', 'NOUN'], ['for', 'ADP'], ['my', 'PRON'], ['assistant', 'NOUN'], ['will', 'AUX'], ['not', 'PART'], ['disappoint', 'VERB'], ['.', 'PUNCT'], ['Thanks', 'NOUN'], ['Gregory', 'PROPN'], ['!', 'PUNCT'], ['\"', 'PUNCT'], [',', 'PUNCT'], ['\"', 'PUNCT'], ['I', 'PRON'], ['wish', 'VERB'], ['I', 'PRON'], ['could', 'AUX'], ['give', 'VERB'], ['The', 'DET'], ['Dancing', 'PROPN'], ['Dandelion', 'PROPN'], ['a', 'DET'], ['10', 'NUM'], ['star', 'NOUN'], ['rating', 'NOUN'], ['because', 'SCONJ'], ['5', 'NUM'], ['stars', 'NOUN'], ['does', 'AUX'], [\"n't\", 'PART'], ['cover', 'VERB'], ['the', 'DET'], ['unbelievable', 'ADJ'], ['experience', 'NOUN'], ['we', 'PRON'], ['had', 'VERB'], ['with', 'ADP'], ['them', 'PRON'], ['.', 'PUNCT'], ['My', 'PRON'], ['mom', 'NOUN'], ['and', 'CCONJ'], ['I', 'PRON'], ['had', 'VERB'], ['a', 'DET'], ['few', 'ADJ'], ['prior', 'ADJ'], ['wedding', 'NOUN'], ['floral', 'ADJ'], ['meetings', 'NOUN'], ['before', 'ADP'], ['meeting', 'VERB'], ['Greg', 'PROPN'], [',', 'PUNCT'], ['we', 'PRON'], ['were', 'AUX'], ['worn', 'VERB'], ['out', 'ADP'], ['from', 'ADP'], ['bad', 'ADJ'], ['service', 'NOUN'], ['and', 'CCONJ'], ['lack', 'NOUN'], ['of', 'ADP'], ['organization-', 'PROPN'], ['holy', 'ADJ'], ['cow', 'NOUN'], ['did', 'AUX'], ['he', 'PRON'], ['turn', 'VERB'], ['that', 'DET'], ['around', 'ADV'], ['.', 'PUNCT'], ['Greg', 'PROPN'], ['sat', 'VERB'], ['with', 'ADP'], ['us', 'PRON'], ['and', 'CCONJ'], ['truly', 'ADV'], ['cared', 'VERB'], ['and', 'CCONJ'], ['respected', 'VERB'], ['our', 'PRON'], ['wants', 'NOUN'], ['and', 'CCONJ'], ['needs', 'VERB'], ['as', 'ADV'], ['well', 'ADV'], ['as', 'ADP'], ['our', 'PRON'], ['budget', 'NOUN'], ['.', 'PUNCT'], ['We', 'PRON'], ['reviewed', 'VERB'], ['everything', 'PRON'], ['that', 'DET'], ['I', 'PRON'], ['was', 'AUX'], ['looking', 'VERB'], ['for', 'ADP'], ['in', 'ADP'], ['the', 'DET'], ['arch', 'NOUN'], [',', 'PUNCT'], ['the', 'DET'], ['bouquets', 'NOUN'], [',', 'PUNCT'], ['the', 'DET'], ['pedals', 'NOUN'], ['down', 'ADP'], ['the', 'DET'], ['aisle', 'NOUN'], [',', 'PUNCT'], ['the', 'DET'], ['table', 'NOUN'], ['displays', 'NOUN'], [',', 'PUNCT'], ['the', 'DET'], ['cake', 'NOUN'], [',', 'PUNCT'], ['etc', 'X'], ['.', 'X'], ['and', 'CCONJ'], ['Greg', 'PROPN'], ['and', 'CCONJ'], ['his', 'PRON'], ['team', 'NOUN'], ['nailed', 'VERB'], ['it', 'PRON'], ['.', 'PUNCT'], ['The', 'DET'], ['attention', 'NOUN'], ['to', 'ADP'], ['detail', 'NOUN'], ['was', 'AUX'], ['impeccable', 'ADJ'], [',', 'PUNCT'], [' ', 'SPACE'], ['not', 'PART'], ['one', 'NUM'], ['thing', 'NOUN'], ['was', 'AUX'], ['overlooked', 'VERB'], ['.', 'PUNCT'], ['Thank', 'VERB'], ['you', 'PRON'], ['so', 'ADV'], ['much', 'ADV'], ['for', 'ADP'], ['making', 'VERB'], ['our', 'PRON'], ['vision', 'NOUN'], ['come', 'VERB'], ['to', 'ADP'], ['life', 'NOUN'], ['!', 'PUNCT'], ['!', 'PUNCT'], ['!', 'PUNCT'], ['\"', 'PUNCT'], [',', 'PUNCT'], [\"'\", 'PUNCT'], ['Super', 'ADV'], ['friendly', 'ADJ'], ['service', 'NOUN'], ['!', 'PUNCT'], ['!', 'PUNCT'], ['!', 'PUNCT'], ['there', 'PRON'], ['was', 'AUX'], ['a', 'DET'], ['good', 'ADJ'], ['amount', 'NOUN'], ['of', 'ADP'], ['available', 'ADJ'], ['cheap', 'ADJ'], ['(', 'PUNCT'], ['$', 'SYM'], ['10', 'NUM'], [')', 'PUNCT'], ['flower', 'NOUN'], ['arrangements', 'NOUN'], ['to', 'ADP'], ['$', 'SYM'], ['80', 'NUM'], ['+', 'NOUN'], ['.', 'PUNCT'], ['not', 'PART'], ['a', 'DET'], ['huge', 'ADJ'], ['selection', 'NOUN'], ['but', 'CCONJ'], ['enough', 'ADJ'], ['to', 'PART'], ['fit', 'VERB'], ['my', 'PRON'], ['needs', 'NOUN'], ['on', 'ADP'], ['short', 'ADJ'], ['notice', 'NOUN'], ['.', 'PUNCT'], [\"'\", 'PUNCT'], [']', 'PUNCT']]\n"
     ]
    }
   ],
   "source": [
    "#print out the processed output\n",
    "print(processed_review)"
   ]
  },
  {
   "cell_type": "code",
   "execution_count": 18,
   "id": "23b98dc3",
   "metadata": {},
   "outputs": [
    {
     "name": "stdout",
     "output_type": "stream",
     "text": [
      "['This place has very high quality flowers. All florists are pretty dang expensive, so you have to expect that going in. But the $180 bouquet lasted at least 10 days looking amazing and another 5 looking decent.\\n\\nThe owner was very pleasant and answered my questions.\\n\\nI will definitely use this florist every time in the future.', \"Thank you!!! Greg. For making up for the last batch of bad roses. These look 10 times healthier. I really appreciate it. I'll definitely be a regular customer.\", \"I went on to Yelp to find a local florist in Las Vegas.  I live in Northern California and wanted to send flowers to a friend that just had surgery.  I did not realize that my friend was in ICU and couldn't receive the flowers.  Greg, who delivered the flowers was great and helped me get the flowers to my friends husband.  I highly recommend using this flower shop!!!  GREAT CUSTOMER SERVICE!!!!\", 'My wife and I celebrated our renewal of vows in Las Vegas and hosted guests in a Bellagio suite. We found Dancing Dandelion and discussed what we wanted for arrangements, we actually supplied a picture of an arrangement and they matched it wonderfully. Our ten arrangements we delivered as scheduled and our guests complimented us on their beauty. I would definitely recommend The Dancing Dandelion Flower Shop to everyone in need of floral service in Las Vegas. Customer service was exemplary!', \"This lovely shop is a small family run business and their customer service was amazing. I went in two days before my wedding to order a bouquet in peach roses. They were out of stock that day but confirmed a new delivery the next. Friday afternoon I received a call that my order was ready to be picked up on Saturday. It was beautifully arranged and hand wrapped in a white ribbon, which was placed in a glass cylinder vase and white box for easy transportation. I couldn't be happier or excited for my big day with this gorgeous bouquet. I want to thank everyone at Dancing Dandelion for all of their help and the work that they do.\", 'My bothers and I live in CA and we ordered flowers online since my mother was hospitalized during her mini vacation in Vegas. It was super easy ordering online and their selection of flowers/arrangements were so beautiful! My family and I are very pleased with the speedy delivery as well as how beautiful the arrangement was!  Another pleased customer!  Would definitely recommend!', \"Had the most wonderful experience with this quaint and classy flower boutique. The arrangements within the display cases provided a variety of options to impact the  buyer's experience. Upon choosing my preferred arrangement as a gift for a friend, the florist ensured the arrangement's  longevity by substituting pieces as needed.\\n\\nI love shopping with local businesses and can confidently endorse this shop as honest, creative, affordable, and charming. I appreciate their kindness and will definitely shop with them going forward. \\n\\nIf you are looking for a creative local business with wonderful service and great quality, please be sure to visit this florist.\", 'Very bad service. Did not deliver what I ordered. When I let them know, I was treated extremely rude. Will never use this company again.', 'Great website, great customer service and the most beautiful, creative and innovative flower arrangements.  Personal follow up on the phone after placing the order online was a big plus, and the suggestions made by the customer service rep made the arrangement even more impressive. Great to work with!', 'I called in to order flowers from out of state and Rosie was so friendly & helpful. She patiently answered all my questions and gave helpful suggestions. They delivered the beautiful bouquet within a couple of hours of me placing my order. The bouquet was exactly what I asked for!! Definitely will be using this flower shop again. They have  reasonable prices also. Thank you Rosie!!', 'Not the cheapest but beautiful arrangements, reliable delivery.  Flowers lasting is a function of room temperature as much as anything, not easy here in Vegas.  The only place I will order flowers from for Vegas delivery.', 'Repeat customer due to always great service.  The arrangements they make are GREAT!  Visited easily a dozen times.', \"Needed flowers to go to hospital same day. All flower sites online couldn't do it. Called and Greg texted me pictures of 3 beautiful arrangements and hand delivered on his way home. Good customer service is so rare I give them an A+++\", \"Very nice and friendly local florist. Beautiful arrangements made as well.\\nI've been here several times and the prices are good, the service is excellent too.\\nI'd rather go to a local florist than deal with 800-flowers. That place sucks.\\nOwner is extremely friendly and helpful.\\nTip I learned, keep your flowers in the fridge if you are at work all day. It will keep them longer!\", 'This is a warm and friendly run business. The owners are very personable and you can tell they enjoy what they do. The flowers are fresh, I know this through our conversation and saw them bringing in flowers from the flower market a minute after our discussion..lol and the best reason you should visit them is the great pricing! I found my go to florist, definitely will be back!', \"I ordered a rose gift box for someone to show my appreciation for all she has done for me at work as well as for my family and added chocolates and the next day by noon they delivered a beautifully done arrangement with delectable chocolates. She was so appreciative and so happy I chose the pink roses. I'll definitely use them again in the future.\", \"I've been on the receiving end of Dancing Dandelion's beautiful floral arrangements.  My husband has used them exclusively for the past 1 1/2 years for Birthday, Anniversary or special occasions.  Each arrangement is unique and beautiful.  The arrangement I recently received for my Birthday is especially nice.  Lots of bright vibrant flowers that are just stunning.  In the past we used Tiger Lily but became increasingly frustrated at what we received for the price. Often the arrangements were very small with very few flowers and lots of filler.  Since we found Dancing Dandelion we couldn't be happier!\", \"Quite simply the best customer service I've ever experienced. And their floral arrangements are out of this world. Truly spectacular people to do business with!\", \"Local florist with beautiful flowers and friendly helpful staff. I won't go anywhere else!\", \"I've ordered flowers from them twice and both times they have been professional and a pleasure to work with. the flowers are beautiful and my wife has loved them. Greg had said they probably wouldn't be able to deliver them since my wife works at the airport and they had hundreds of deliveries that day but they were able to walk them to her at her desk. They exceed expectations and I will always buy my flowers from them.\", \"My girl was upset that I never give her flowers, (even though when we first met, she told me she didn't like flowers)  So I came here and was very impressed by their selection.\", \"They really go the extra step to accommodate customers desires at The Dancing Dandelion Flower Shop.  I've picked up flowers here on numerous occasions and always had a great experience!  The staff is knowledgeable and genuinely helpful.  DDFS was easily able to accommodate special requests for me on a couple of instances. Even when they didn't have what I was looking for they willfully pointed me in a helpful direction.  \\n\\nCustomer service is top notch...as another example, for a nominal fee they will even clean-up and prepare potted plants purchased from Plant Nurseries, Home Depot, etc. making them gift ready.  Prices are slightly above average for flower shops, but spot on when you consider the quality product and service that accompanies your orders.  \\n\\nThey deserve a very strong 4 Stars in my book.  The shop is on the small side and their on-hand inventory is a little limited because of this, but if you can give them a couple of days the sky's the limit.\", 'Another 5 stars for Dancing Dandelion for their excellent service yesterday.  I had to change delivery instructions at the last minute (I felt bad about this but I had no choice).  The lady I was talking to on the phone was very calm and patient.  She told me thay can make changes to my order if I was ok with them substituting pink lillies with white ones.  The arrangement looked fantastic!', 'They are The Best!!! I rushed over to a different flower place that was closer to me yesterday before the posted closing time on Yelp (6pm), the Flower Garden, and the place was totally empty and obviously out of business. So I rushed over to the next closest place , the Dancing Dandelion, and got there 5 minutes after the same closing time and the woman was just finishing up with a customer and told me not to worry about the closing time. She was super friendly and helpful and I got a beautiful arrangement at a great price. . So go here for flowers and home made chocolates and other gifts.', 'They had the freshest flowers and were very classy in the creativity and the delivery was quick.', 'On the way to see my mom at hospital and stopped to ask for a wrap for a pot and the gentleman at this flower shop was so gracious and helped me out. Will definitely send business this way!', 'This flower shop is the place to go if you need anything floral.  The owner Greg has been amazing the past few years, and those who work for him are knowledgeable, kind, and very helpful.', 'Received an arrangement from them for my birthday, it was gorgeous! Susie was really helpful in making it exactly what I would want...so I just wanted to say thank you, and I absolutely loved it!', \"I called in today to have a last minute delivery sent for a special occasion. They were so sweet and happily prepared my order and had it delivered within a couple of hours. The arrangement was stunning and exactly as pictured. I'll definitely order from here again. \\nGreat customer service and fast delivery! Worth the price!\", 'They did an amazing job!! Far better than I expected. I was obsessed with my flower arrangement. I ordered the dog in a basket! It was so beautiful!!', \"Oh this shop is an absolute dream to work with. I had Dancing Dandelion do the flowers for my wedding. I really didn't have much of a vision, so I told Dan a little of what I wanted and gave him creative license. I'm so happy I did! My flowers turned out absolutely gorgeous and just added beautifully to my special day. \\n\\nThe prices are reasonable and everyone I worked with at the shop was wonderful to work with. I would definitely use them again for any occasion that required flowers.\", 'Greg and his team prepared such beautiful and elegant flowers and arrangements for our wedding.  He worked very closely with my wife and everything went off without a hitch! Planning a wedding is such a stressful time and Greg certainly helped us get through it with flying colors!!!  Thank you so much Greg..... you are the best florist ever!!!!', \"They were open late on the evening before Valentine's Day, and had plenty of beautiful product to pick up. Great Flowers! Great service!\", 'Ordered some flowers for a funeral from CA to LV & they arrived in time for the viewing which was the same day.', \"I called Dancing Dandelion with a last minute corsage request.  I needed two, within hours.  Greg (I'm pretty sure that was his name) was very friendly, and talked me through the options while I was on the phone. And within 3 hours, my two BEAUTIFUL corsages were ready and waiting.  They had some arrangements pre-made in their display that were a match in quality and freshness that were also very tempting!  Thanks Dancing Dandelion!!!\", 'Called them to order flowers for someone staying in their city and they were super helpful and fun to talk to. I will definitely give them more business should the opportunity arise.', 'Came in and requested a custom arrangement of specific flowers, colors and budget. The finished product delivered was an absolute MASTERPIECE! Thank you guys so much for working very diligently and creating such a beautiful arrangement! Will only be coming to you guys for my flower needs from now!', 'I ordered a spray for my wife on our anniversary......I was not sure what to expect since I did not see samples in person; so, I just went with the recommendations and hoped for the very best.\\n\\nOMG!!!  The BEST was certainly delivered....my wife is beyond thrilled and all at her office are envious.....as the receptionist said, \"all the other men look bad now and need to step up their game\".....haha!!!\\n\\nThank you to everybody at Dancing Dandelion...you were beyond belief and I will never hesitate to use the shop again and recommend it to anybody in need of florals.....amazing!!!', 'Super awesome place! Bouquet I ordered was exactly like the picture BOTH times and prices are not to high. Delivery was done first thing in morning. I highly recommend this place.', \"If you are looking for flowers in Vegas, this is the place to go. I had a complete disaster on my hands with 1-800-FLOWERS and these guys rescued me. The staff I spoke to on the phone was awesome and very helpful. Not to mention the fact that they had my Valentine's Day order delivered before 9am on Valentine's Day! Thank you so much again and you'll be getting my business again in the future.\", 'I stopped in at 9am this morning (opens at 10) and peeked in and met the owner. I desperately needed a last minute corsage and no one could do it. I spoke with Greg and he was so incredibly kind. He made me a corsage with roses and orchids right on the spot! Great customer service and I highly recommend this flower shop. They are a great local business.', \"Oooooh! My dad just ordered a bouquet to be sent to me this morning and it's already here, an hour later. I love stargazers and even though the arrangement didn't come with them, they added a few anyway :) yayyyy! Thank you! \\n\\nAnd the quality of the flowers is perfect and fresh and beautiful. \\n\\nLoves!\", 'Great staff and high quality flowers!  Thank for the service and the pink rose petals.', 'They did a beautiful job on my wedding flowers, Greg was great to work with and clearly they care about their clients!', 'Ordered online before they opened as I live on the east coast.  Flowers were delivered with so much care and such a genuine spirit.  Will never use any other florist in Vegas to send gifts to my family - AMAZING!', \"Love their service I browsed through many other shops and none could compare.\\nI had many questions and Greg was so QUICK and straight forward replying to me by e-Mail\\n\\nI purchased:\\nThe 4 Dozen Red Roses Ultimate Elegance Premium Long Stem with a Medium size Teddy Bear.\\n\\nAnd she loved them \\nI couldn't be happier \\n\\nI would recommend anyone to do business with them.\\n\\nAlso the delivery person was quiet polite and nice.\", 'i have been using The Dancing Dandelion for the last two years to order flowers for different school events.  in the past, they have made me what I call \"podium arrangements\".  Today, they made me some beautiful hand-opened roses with succulents ( I will post pictures).  The arrangements were beautiful and everyone kept asking me who my florist was.  The shop has always been very helpful and I am able to easily communicate with the owner via email.  I highly recommend this shop.', \"I don't live in the area, but ordered some flowers and balloons for my uncle who just got surgery through their online portal and everything was executed perfectly. Same day delivery!!  Greg is definitely the man who you want to talk to.  He was so easy going and even called to let me know that delivery was successful. Exceptional customer service and willing to go the extra mile. If you're reading this Greg, THANK YOU from the bottom of my heart, you really made my day!!\", \"Absolutely the best flower shop in Las Vegas. Great customer service, beautiful arrangements, and friendly local shop owners. I've sent at least ten different arrangements over the last year and every one has been received fresh and as ordered. Their web site is very representative of the flowers and arrangements that arrive at your destination. The same stellar service on shop pickup and delivery. The various arrangements featuring the cute little pooch are some of my favorites.\", 'Thank you for the repeat great service! I recently ordered flowers and they were delivered fast and as the picture shows on the website.', \"I've used Dancing Dandelion many times and they always do a great job, but this time they even exceeded their previously stellar deliveries and execution  I ordered flowers for my daughter's birthday, to be delivered to her work, but I what I didn't know is that she wasn't working that day. The delivery person attempted delivery, found she was not at work, called her, found that she was at UNLV (she's a student there), tracked her down on campus and hand delivered them to her.  The business is the most well run and disciplined floral business I've ever used.  They instill and reinforce a work ethic that provides employees with the motivation to go,above and beyond, as they did with this delivery. And the employees must really enjoy working there to go above and beyond as they do, which also says a lot. Simply the best floral business in Vegas.\", \"On Mother's Day at noon is not the time to shop for flowers. After a quick check on Yelp I saw this place close by and rated VERY well. My daughter walked in and they were pretty much picked clean. Even though there were only a couple arrangements left they were flawless and we came out of the predicament looking like rockstars. Now if wife never sees this review I'm home free.\", \"Incredible customer service and the end result went beyond my expectations!\\n\\nI met with Greg two months ago to discuss my wedding flower arrangements.  I had an idea of what I wanted, but couldn't exactly put it into words.  Greg (the owner) was amazing to work with.  I scheduled a consultation and met with Greg for about 45 minutes to discuss.  He actually steered me into my inevitable direction and created a bouquet that even my crazy imagination couldn't brew up.  \\n\\nI week prior to my wedding, Greg met with me again so that we could ensure everything was good to go.  He was amazing and completely understanding of my little Bridezilla moment.  \\n\\nMy flowers were ready first thing in the morning for the day of my wedding.  They were gorgeous!  I received so many compliments and also personally loved my flowers.  I even received compliments from men and random men hanging around our reception area.  Hell, even the servers at my ceremony were picking them up and complimenting them.  I had random girls asking to take photos with them, as well.  \\n\\nOverall, I love this flower shop and they did an incredible job with my flowers.  And, let me tell you, my expectations were really high.  A week has now passed since my wedding day and my flowers are still sitting in the giant vase that they were delivered in and they still look amazing!  I will be back due to the exceptional end result, the fabulous customer service and the reasonable prices.\\n\\nThank you, Greg and the entire staff!\", \"I'd been using Dancing Dandelion for roughly a year or so for my every occasional needs, as well as the bi-monthly single lily, so it was a no brainer to use their services when the time came to wed my lovely fiancé. Greg and his team came through, as they always do, and set the tone for our wedding day. Everything from the corsages, rose petals, to the bouquet were absolutely gorgeous! \\nWe still receive compliments about the table arrangements and overall beauty of the flowers provided by the Dancing Dandelion Flower Shop! As mentioned in other reviews, and a given, there are so many stressors throughout the coordination process of a wedding... that being said let Greg and his team remove all the stress of your floral needs during your special day.\\n*the bride bouquet was so beautiful we repurposed it on our table! =)\", \"We had the pleasure working with Greg for our wedding held last 11-8-2014. Greg was so accommodating and very honest with what to expect, ideas and suggestions. \\n\\nThe day of the wedding when he delivered the flowers, I was speechless. The flowers were so simple yet elegant and just what I was going for. The colors matched our motif perfectly.\\nThe centerpieces were a beauty. It wasn't too busy looking. A lot of the guests took the centerpieces home with them.\\n\\nGreg, we thank you for your help. Words can not express how happy we were. Hope to do business with you again.\\n\\nPS... thanks for Jazmin discount :)\", \"We just lost a very good friend of ours and wanted to send flowers to her family.  Their website isn't the best and the options they had on display were pretty limited and pink due to valentine's being next week BUT i called them and was able to figure something out that was more appropriate. I was very very impressed with them for calling me and sending me a picture PRIOR to delivering them so i could tell them to change it or whatever but i ended up loving them and didn't change a thing.  \\nThanks for making such a beautiful arrangement. That pink lily in front is Tina all the way.\", 'Ordered my flowers long distance for my upcoming nuptials.  Spoke with Greg who was very patient and accommodating. I called and told him what I wanted and the flowers came out exactly as I pictured them. Days later they are still alive. I highly recommend a this florist for any future bouquet orders. Flowers were delivered on time. Thanks!!', '5 star customer service! I requested star gazers in an arrangement for a hospital patient. None were available for the arrangement for next day delivery. 2 days later, Dancing delivered them in a second delivery to the hospital in a bud vase. Totally beautiful. Their flowers were posh pedals and top quality.', 'I had came here upon \"researching\" on yelp to find flowers for my best friend for Valentines Day. I came here about a week before the date to place an order. I knew my best friend loves purple so i tried my best to find close to it. \\n\\nThe workers are super nice and tried to help me find what i wanted. I\\'ve always liked lilies and i thought it was a nice that they had an arrangement with roses and lillies. Its not the purple i had in mind but it worked out in the end. The lilies were white edged with a purple that was fairly close to the roses. They helped suggest what would look best (especially since i asked for purple roses) and what not (hey i havent bought anyone nice flowers in ages ! so i asked quite a bit of questions to make sure they know what i wanted and i knew what i was getting). The guy said they had a limited amount of purple roses but guaranteed they would have enough for my order. *crosses fingers* \\n\\nOrder was placed and paid for and they said i can pick it up any time day of. \\n\\nOur plan was, we had dinner scheduled at 6pm so i\\'d pick it up as close as i could to it. I found out they closed at 4pm on Saturdays but they said they\\'d be open longer for pick ups. I didn\\'t want to be THAT guy who holds up the entire store from getting off work so i picked up the flowers at 3:30. Originally on order, i had asked for a wrapped bouquet but when i picked it up, it was in a water filled glass vase. Oh man how am i gonna give it to her at dinner? Lol But they recommended this would keep its shape the best so i went with it. \\n\\nThe flowers held up in the car. the owner? suggested how to put it in the car and how to make it stay put in the seat. The flowers sat in the car with some windows cracked open (oh man they smelled strong XD especially in a \"confined\" space like a car) XD o well. luckily my nose didnt go FUUUUU! lol XD They held up all night and next day til she went home. \\n\\nOnly downside about lilies is they didnt last as long as the roses and the pistils? tend to fall off and stain whatever they fall on :( sad face ! hope she liked the flowers XD \\n\\nOverall back to the store. Great customer service ! :D', \"Wow!  Susie was simply amazing for taking a last minute order over the phone.  My friend had just given birth to a baby girl and I wanted to send over flowers as I was not able to visit her that day.  As I searched for a nearby florist shop, The Dancing Dandelion popped up on my Yelp search with high ratings.  Sometimes you can't always believe the hype until you experience it for yourself...this was legit one of the best experiences ever!  Susie was warm and friendly throughout the whole interaction.  Her phone mannerisms was on point!  The whole process was seamless and she was able to do same day delivery!  I appreciate businesses who get the job done right!  I wish Susie and The Dancing Dandelion continued success!\", \"We are from Canada and normally we use the large flower company chains when having flowers delivered for various events or special occasions.\\nWe decided to talk directly with Greg at Dancing Dandelion because it was a family run business.\\nWe placed the order and made a few changes based on Greg's reccomendations  and like everyone else who orders flowers hoped it would be a nice arrangement.\\nVery happy to say the recipient of the flowers loved the bouquet and after seeing a photo of the arrangement we were more than pleased with the arrangement and we definitely received our money's worth.\\nIn the future we will only use his florist shop and will reccomend Dancing Dandelion to all of our friends.\\nThank you Greg for keeping your promise not only on delivery, but for the absolutley amazing arrangement  our friend received!\", \"Visited The Dancing Dandelion in search of small peace lily plant to be given to our boss who'd just loss his father.  Immediately when I entered the shop I was greeted by Greg who determined my needs and picked out the perfect plant - but it wasn't in a suitable arrangement for gift giving.  Greg at first thought he didn't have a proper container in which to present so he quickly searched his stock finding one lone wicker basket (which needed some modifications), repotting it, and applying 'leaf shine' spray.   With 2 lilies about to open, the arrangement was beautiful.  The peace lily was presented to our boss last week and he truly appreciated it!\\n\\nWhen my husband presents floral arrangements to me, he always uses The Dancing Dandelion.  However, this was the first time I'd ever visited their store.  I can see why he's a repeat customer.  I appreciate how fast Greg was able to troubleshoot the matter while ensuring that I left happy & satisfied. This family run business is top-notch and I would not hesitate to call on them in the future!\", 'Great selection and honest service. I had called ahead to see if a particular item was readily available for purchase and the nice gentleman on the phone walked me through descriptions of what he had to offer. Upon entering the sweet smelling little flower shop, I was not disappointed.\\n\\nI was in and out in under 3 minutes. What more could a guy ask for of a flower shop?', \"I ordered orchids for my Aunts birthday she couldn't believe how beautiful they are, the most beautiful she has ever seen. I was out of town so I phoned in and the process was seamless from start to finish. Thanks you have a returning customer\", 'I had the pleasure of doing business with Greg for a baby shower I was hosting. He paid close attention to detail, to make sure my vision was created. Greg going above and beyond allowed me to worry about one less thing. Thank you the beautiful arrangements and amazing customer service!', \"I ordered flowers for a funeral on very short notice to be delivered on their busiest day of the year (Valentines Day). They made it happen and the flowers we're lovely. \\nGreg was great, calling the night before to let me know it was ready and would be there in the morning. Thank you Greg and everyone else at the Dancing Dandelion.\\nI would  recommend them and they will be my first call now on if I need flowers.\", 'extremely friendly staff! susie, is always the one who answers my calls and always so nice. this was my fifth time ordering from this place and they are very nice every single time.  the mixed assortment that my girlfriend just received described as the \"prettiest bouquet of flowers that she had ever seen in her life\".  i will post a picture, you can judge yourself.  these people never disappoint!', 'My wonderful husband wanted to surprise me with flowers for our 30th wedding anniversary. Our daughter has a corporate account here & talked to Greg, the owner, about putting something special together that incorporated a few of our wedding flowers. It was beautiful! Thank you Greg.', 'Do business with a local company. I placed an order for delivery over the phone with Susie. She was incredibly knowledgeable, friendly, and helpful. The price with delivery was the same as the \"sale\" price of the big on-line company we all know. I\\'ll definitely use them again.', 'This place is amazing. I have ordered 3 times from them and everytime the delivery was on time and the flowers were perfect.  I recently ordered out of their range and they still accommodated me.  Highly recommend this place for your flower needs.', 'Can Always count on these guys!  Greg was great!  Better than I thought possible.  Not a huge flower person, but now I am a believer.  Thanks.', \"You guys are excellent. I ordered online for a delivery, i wasn't sure how this would turn out but my expectations were blown. If anyone has any reservations about ordering online, I can say through my experience they delivered exactly and was told these flowers were beautiful. Thank you guys again for a easy transaction. I greatly appreciate it. I feel good knowing when I order in the future, I don't have to worry if they will get delivered correctly or how they will look. Definitely a 5 star review is needed. You definitely got my business in the future.\", \"Recently sent a girlfriend some get well flowers. Unfortunately, I didn't like the first arrangement they sent to her. In my opinion it looked sparse. Although my girlfriend loved them, I wasn't happy and called the florist to complain. No questions asked, they sent her another amazing bouquet and had them delivered within the hour. I would definitely recommend this florist and will use them in the future. Can't pay for better customer service.\", \"Greg is amazing! Beautiful flowers and better than I ordered since they were out of the size vase it needed! If you're worried about ordering from out of town/state like I was (I have horror stories from dot com mass flower companies) this place will ease all your fears! I will use them every time I order flowers for friends in Vegas from now on and will be telling them to do the same!\", \"I just can't say enough how amazing this place is!! I have used them a few times, once being for my brother in laws memorial service in August. The flowers were amazing and customer service excellent. I called again when I needed to send flowers to my sister for my brother in law in heaven on their wedding anniversary, once again beautiful flowers and amazing, kind customer service. I would recomment this business to everyone for any floarl needs for any occasion. Thanks Dancing Dandelion!!!!\", \"I've ordered from many flower shops before and I was not as satisfied as I am with Dancing Dandelion.  Their flower arrangements are just too cute - my favorite one is called Another Year Rover.  It's a basket of flowers that look like a puppy.  A-DOR-A-BLE!!!\\n\\nYou can place your order online or over the phone.  I have an account with them which makes my life so much easier since I send out birthday flowers at least once a month.  They have same day delivery.  They always do a wonderful job.\", 'Ordered two of the princess paws. Greg was able to make one a boy for me. They turned out perfect! They delivered when promised as well! The customer service and quality is what makes it 5 star. I live way north west and will still utilize then in the future.', \"Greg was amazing!  He was patient and thoughtful as we discussed how to make a beautiful flower arrangement for my mom's memorial service.  \\n\\nI found all the traditional arrangements really tacky and boring; with his help we designed a gorgeous arrangement truly reflective of my mom.  It also coordinated well with all of the printed materials and we were able to incorporate my mom's clan scarf.  He also designed corsages (for my mom's sisters and best friends) with my mom's favorite flower (gardenia) that he had to special order, and then wait on me to deliver the specific tartan ribbon to incorporate into the design.  They all loved them and took special pride in wearing them.\\n\\nThey delivered the arrangement (despite it being quite a distance from their shop) and had it set before I even arrived, which was such a stress relief.  \\n\\nI cannot say enough nice things about them.  Their shop has cute little knick knacks too, and I bought a friend's birthday card and my friend bought herself a handmade art deco vase.\", 'Great service - great looking arrangements. I was just about to drive away because the front doors were locked, when the owner came back from getting a drink at a store in the same parking lot. Suggestion - leave a note on the window saying you will be back in 5 minutes. You almost  lost a sale because I was in the process of driving away when I saw you unlock the front door. Will definitely use again.', \"My grandma turned 80 years young today and I was not able to get back to Las Vegas to celebrate with my family.  I decided this morning, yes this morning to send her flowers.  I looked at yelp and narrowed it down to three places.  The dancing dandelion had great reviews and l loved that I could see examples and prices on their web page.\\n\\nI called them first to ask questions and was so excited the buck stopped here.  I decided to do the basket with the carnation dog as my grandma love loves loves dogs!  Susie told me that had one ready that was in reds and yellows.  I explained I really wanted pinks, greens and purples too and I could pay extra.  She said they could do that.\\n\\nIt was only $12 to deliver to summerlin and she said it would get there by 2pm.  I called at 10am!  I asked if there was any watt they could email me a picture.  She actually said yes!  I always get nervous ordering flowers over the phone.. Within 20 minutes she called me at work to ask if liked the picture because she did not want me to be unhappy. I can't access my personal email email and was going to check in a couple of hours on my lunch on my cell which was in my car.  She offered to send it to my work!  It was exactly what I wanted. Susie also emailed me and told me it was out for delivery!  \\n\\nMy grandma had her flowers by noon!  She was so happy and had never seen a carnation dog!  She said it made her birthday!  Thank you Susie and the dancing dandelion for helping me!  I will be coming to you for all my vegas flower needs!\", 'I needed a same day delivery and they came through with flying colors!  I would definitely order from them again!!', 'My Sonny sent me flowers and They absolutely took my breath away!! Fabulous awesome!!!', 'My friend is turning 50 in a few days and turned to Yelp to find the best florist for a special flower arrangement for her.  She lives in Las Vegas and I live in Honolulu so Yelp is a great tool to find the best business for our buck.  The great thing is you can go to the web to further research the best product for your needs.', 'I sent a cute basket of flowers with a \"dog\" made of carnations to a friend\\'s sister who is terminal with cancer and they delivered quickly to the hospital with a nice basket as requested.', \"Beautiful flowers every time!\\n\\nMy husband loves flowers and for Valentine's Day of 2017 I told The Dancing Dandelion that I needed an arrangement of blue and white flowers with some greengage for my husband. I left everything up to them and told them no Lily's. They came up with the most beautiful arrangement ever! \\n\\nSo I decided to give them another go. My mother loves sunflowers and this time I picked an arrangement from their website and asked for no Lily's. I could of done with out the autumn leafs but never the less it was gorgeous.\", \"FLOWER POWER!  I don't send flowers very often, but had two clients who lost their husbands in one week, so sad, and I wanted to reach out to them with something cheerful to send my love...  I looked at quite a few florist pages in town and really liked the Dancing Dandelion and ended up sending them each the bouquet LOVELY LILLY AND ROSE FOR FALL because of the beautiful and bright yellow and orange, and what a great combination without tons of cheap little filler like others do!\\n\\nThis was my first time ordering from them, so then I sat back and waited...\\n\\nI received calls from both women, raving about how beautiful and cheerful the arrangements were! (Sigh of relief!)  One woman even stated that earlier she received an arrangement from a family member that was so hideous in presentation that when DANCING DANDELION brought our bouquet, she took a photo of IT (instead of the hideous one) TO SEND TO HER FAMILY MEMBER to thank them for their thoughtfulness!\\n\\nDon't let your floral money be a waste, call the Dancing Dandelion like I will again and again!\", \"While planning my wedding from CA, I found this shop on Yelp! So glad I did! Greg is by far the best priced in Vegas, and does superior work! He did 10 centerpieces for us, 8 bridesmaid bouquets and a throw bouquet. I told him my budget and ideas and he made it happen! If you're looking for someone to do your wedding flowers, call Greg! The whole process was so painless and easy! He was on time, and set up and delivered everything for us! Thanks Greg! You're the best.\", \"We were so happy with our sympathy flowers for our Dad's service. Greg did an outstanding job of creating a beautiful arrangement. We were thrilled! When I was looking for a flower shop (from out of town) I loved that they were a local, family run business. They answered my questions quickly, cared about my order, were very friendly and had the flowers ready ahead of the pick up time the morning of the service. I really didn't want to work with a chain flower shop that didn't care about the result. The pricing was very reasonable and the layout of their website was great. We love the Dancing Dandelion and we will be back for more!\", 'Look NO further for a \"KNOCKOUT\" flower arrangement for a special occasion....or JUST BECAUSE!!! Greg helped me decide on a gorgeous arrangement for my son and DIL anniversary (via long distance from Houston) that they were celebrating at The Four Seasons in Las Vegas. We\\'re from Houston, so you\\'ve heard everything is bigger and better in Texas??? Well, not always!!!! The arrangement was magnificent, very fresh and a stunning addition to their celebration. Oh, and did I tell you, I placed the order noonish on a SATURDAY just when they were about to close for the weekend!! Magician Greg not only made it happen, but spent a long -long - distance phone call with me because I\\'m a perfectionist and over thinker. With a smile in his voice the entire time. Look no further!!', \"These guys are absolutely great!  They've gone out of their way for last minute deliveries for me,  have excellent customer service and they sure do put together some nice flowers! Thanks again guys!\", 'This shop is awesome. They do very high quality work and exceeded the expectations of the gift recipient. Grateful to have found such a quality, high end flower shop to use in Vegas. Thanks to Phil and Susie for the great customer service!', 'Bought some beautiful flowers online for a friend that looked like a little dog super cute! Great service and product .. will be using them again!', 'Disappointed after spending $100 for a Valentines Day floral arrangement. Roses lasted 3 days before they wilted and never opened up.', 'Needed them in a pinch and they came through. Great people running a great business!!! Support your local business owners. Also they go the extra mile with high quality flowers.', 'Our one and only florist for Las Vegas because of their customer service. \\n\\nOn a couple of occasions, they helped with custom orders, but the one order I would like to highlight is how they helped with our wedding floral. \\n\\nWhen I called and asked for fresh lavender, they said they would ask their distributor but could not guarantee this as it was not in season. After they spoke with their distributor, they were going to order from out of the country. But being as it was coming from out of the country, they could not guarantee the quality. Long story short, the fresh lavender quality was not top notch. They still made the bouquet but did not charge us full price. \\n\\nOur back up plan was using dried lavender stalks to make the bridal bouquet and this worked out perfectly. I actually like idea better because I am now using the dried lavender bouquet as a floral display at home. Every time I see it, it reminds me of our special day. \\n\\nIf you need a good florist, you should see and talk to the folks at Dancing Dandelion!', 'Greg helped me get my dream wedding bouquet in my price range. My best friend sent him emails of what I liked and spoke about what was in season and how we could accomplish the look. Very resonable very professional and nice. Compared to other shops that I called and this one lady even laughed at my budget. Thank you to Greg and his staff.', 'So i was really skeptical about ordering flowers, but i wanted someplace local for where they were being delivered.  This place had a bunch of great reviews on Yelp so i tried it.  I looked at all of the flowers online.  I though for sure these flowers are not going to look like as they do online.  I had my friend send me a pic of what she received.  And surprisingly, they looked way better than the picture online.  I was so excited.  I ordered at like 5:30 last night for next day delivery and she received around noon on the day of delivery.  They look beautiful and they did an amazing job.  I would highly recommend and will use this company again for future flower deliveries.', \"Awesome customer service! I was in a bind and needed a quick delivery and Gregory made it happen. My husband has sent me flowers from The Dancing Dandelion in the past and I have always been pleased by their gorgeous arrangements. I know today's arrangement for my assistant will not disappoint. Thanks Gregory!\", \"I wish I could give The Dancing Dandelion a 10 star rating because 5 stars doesn't cover the unbelievable experience we had with them. My mom and I had a few prior wedding floral meetings before meeting Greg, we were worn out from bad service and lack of organization- holy cow did he turn that around. Greg sat with us and truly cared and respected our wants and needs as well as our budget. We reviewed everything that I was looking for in the arch, the bouquets, the pedals down the aisle, the table displays, the cake, etc. and Greg and his team nailed it. The attention to detail was impeccable,  not one thing was overlooked. Thank you so much for making our vision come to life!!!\", 'Super friendly service!!! there was a good amount of available cheap ($10) flower arrangements to $80+. not a huge selection but enough to fit my needs on short notice.']\n"
     ]
    }
   ],
   "source": [
    "print(result_doc)"
   ]
  },
  {
   "cell_type": "markdown",
   "id": "e14de296",
   "metadata": {},
   "source": [
    "# Find out the relevant pairs"
   ]
  },
  {
   "cell_type": "code",
   "execution_count": 19,
   "id": "3f15f28e",
   "metadata": {},
   "outputs": [],
   "source": [
    "# extact all the phrases that has adverb + adjectives\n",
    "def adjective_pair_extraction_1(doc_2):\n",
    "    #finding all the adjective phrase combinations of the selected store\n",
    "    selected_combination_1 = []\n",
    "    count = 0\n",
    "    for index in range(len(doc_2)-1):\n",
    "        temp_list = []\n",
    "        element_before = doc_2[index-1]\n",
    "        element = doc_2[index]\n",
    "        element_after = doc_2[index+1]\n",
    "        if((element_before.pos_) == 'ADV'and (element.pos_ == 'ADJ')):\n",
    "            count += 1\n",
    "            temp_list.append(element_before.text)\n",
    "            temp_list.append(element.text)\n",
    "        temp_list_tuple = tuple(temp_list)\n",
    "        selected_combination_1.append(temp_list_tuple)\n",
    "        selected_combination_1 = list(filter(lambda x: x, selected_combination_1))\n",
    "    return selected_combination_1,count"
   ]
  },
  {
   "cell_type": "code",
   "execution_count": 20,
   "id": "ad2fae31",
   "metadata": {},
   "outputs": [],
   "source": [
    "# extact all the phrases that has adjectives + adverbs\n",
    "def adjective_pair_extraction_2(doc_2):\n",
    "    #finding all the adjective phrase combinations of the selected store\n",
    "    selected_combination_2 = []\n",
    "    count = 0\n",
    "    for index in range(len(doc_2)-1):\n",
    "        temp_list = []\n",
    "        element_before = doc_2[index-1]\n",
    "        element = doc_2[index]\n",
    "        element_after = doc_2[index+1]\n",
    "        if((element_before.pos_) == 'ADJ'and (element.pos_ == 'ADV')):\n",
    "            count += 1\n",
    "            temp_list.append(element_before.text)\n",
    "            temp_list.append(element.text)\n",
    "        temp_list_tuple = tuple(temp_list)\n",
    "        selected_combination_2.append(temp_list_tuple)\n",
    "        selected_combination_2 = list(filter(lambda x: x, selected_combination_2))\n",
    "    return selected_combination_2,count"
   ]
  },
  {
   "cell_type": "code",
   "execution_count": 21,
   "id": "ecac3f37",
   "metadata": {},
   "outputs": [],
   "source": [
    "# extact all the phrases that has adjectives + adjectives\n",
    "def adjective_pair_extraction_3(doc_2):\n",
    "    #finding all the adjective phrase combinations of the selected store\n",
    "    selected_combination_3 = []\n",
    "    count = 0\n",
    "    for index in range(len(doc_2)-1):\n",
    "        temp_list = []\n",
    "        element_before = doc_2[index-1]\n",
    "        element = doc_2[index]\n",
    "        element_after = doc_2[index+1]\n",
    "        if((element_before.pos_) == 'ADJ'and (element.pos_ == 'ADJ')):\n",
    "            count += 1\n",
    "            temp_list.append(element_before.text)\n",
    "            temp_list.append(element.text)\n",
    "        temp_list_tuple = tuple(temp_list)\n",
    "        selected_combination_3.append(temp_list_tuple)\n",
    "        selected_combination_3 = list(filter(lambda x: x, selected_combination_3))\n",
    "    return selected_combination_3,count"
   ]
  },
  {
   "cell_type": "code",
   "execution_count": 22,
   "id": "a67359cf",
   "metadata": {},
   "outputs": [],
   "source": [
    "# extact all the phrases that has adverbs + adverbs  + adjectives\n",
    "def adjective_pair_extraction_4(doc_2):\n",
    "    #finding all the adjective phrase combinations of the selected store\n",
    "    selected_combination_4 = []\n",
    "    count = 0\n",
    "    for index in range(len(doc_2)-1):\n",
    "        temp_list = []\n",
    "        element_before = doc_2[index-1]\n",
    "        element = doc_2[index]\n",
    "        element_after = doc_2[index+1]\n",
    "        if((element_before.pos_) == 'ADV'and (element.pos_ == 'ADV') and (element_after.pos_ == 'ADJ')):\n",
    "            count += 1\n",
    "            temp_list.append(element_before.text)\n",
    "            temp_list.append(element.text)\n",
    "            temp_list.append(element_after.text)\n",
    "        temp_list_tuple = tuple(temp_list)\n",
    "        selected_combination_4.append(temp_list_tuple)\n",
    "        selected_combination_4 = list(filter(lambda x: x, selected_combination_4))\n",
    "    return selected_combination_4,count"
   ]
  },
  {
   "cell_type": "code",
   "execution_count": 23,
   "id": "0e195a4f",
   "metadata": {},
   "outputs": [],
   "source": [
    "# extact all the phrases that has adjectives + prep  + noun\n",
    "def adjective_pair_extraction_5(doc_2):\n",
    "    #finding all the adjective phrase combinations of the selected store\n",
    "    selected_combination_5 = []\n",
    "    count = 0\n",
    "    for index in range(len(doc_2)-1):\n",
    "        temp_list = []\n",
    "        element_before = doc_2[index-1]\n",
    "        element = doc_2[index]\n",
    "        element_after = doc_2[index+1]\n",
    "        if((element.pos_) == 'ADJ' and (element.pos_ == 'ADP') and (element_after.pos_ == 'NOUN')):\n",
    "            count += 1\n",
    "            temp_list.append(element_before.text)\n",
    "            temp_list.append(element.text)\n",
    "            temp_list.append(element_after.text)\n",
    "        temp_list_tuple = tuple(temp_list)\n",
    "        selected_combination_5.append(temp_list_tuple)\n",
    "        selected_combination_5 = list(filter(lambda x: x, selected_combination_5))\n",
    "    return selected_combination_5,count"
   ]
  },
  {
   "cell_type": "code",
   "execution_count": 24,
   "id": "de9c72e0",
   "metadata": {},
   "outputs": [],
   "source": [
    "# extact all the phrases that has adjectives + prep  + prep + noun\n",
    "def adjective_pair_extraction_6(doc_2):\n",
    "    #finding all the adjective phrase combinations of the selected store\n",
    "    selected_combination_6 = []\n",
    "    count = 0\n",
    "    for index in range(len(doc_2)-2):\n",
    "        temp_list = []\n",
    "        element_1 = doc_2[index-1]\n",
    "        element_2 = doc_2[index]\n",
    "        element_3 = doc_2[index+1]\n",
    "        element_4 = doc_2[index+2]\n",
    "        if((element_1.pos_) == 'ADJ' and (element_2.pos_ == 'ADP') and (element_3.pos_ == 'ADP') and element_4.pos_ == 'NOUN'):\n",
    "            count += 1\n",
    "            temp_list.append(element_1.text)\n",
    "            temp_list.append(element_2.text)\n",
    "            temp_list.append(element_3.text)\n",
    "            temp_list.append(element_4.text)\n",
    "        temp_list_tuple = tuple(temp_list)\n",
    "        selected_combination_6.append(temp_list_tuple)\n",
    "        selected_combination_6 = list(filter(lambda x: x, selected_combination_6))\n",
    "    return selected_combination_6,count"
   ]
  },
  {
   "cell_type": "code",
   "execution_count": 25,
   "id": "33e98cf8",
   "metadata": {},
   "outputs": [],
   "source": [
    "adjective_phrase_result_1,count_1 = adjective_pair_extraction_1(result_doc)"
   ]
  },
  {
   "cell_type": "code",
   "execution_count": 26,
   "id": "15d80cdb",
   "metadata": {},
   "outputs": [
    {
     "name": "stdout",
     "output_type": "stream",
     "text": [
      "111\n",
      "[('very', 'high'), ('pretty', 'dang'), ('very', 'pleasant'), ('super', 'easy'), ('so', 'beautiful'), ('very', 'pleased'), ('how', 'beautiful'), ('most', 'wonderful'), ('Very', 'bad'), ('extremely', 'rude'), ('most', 'beautiful'), ('more', 'impressive'), ('so', 'friendly'), ('always', 'great'), ('so', 'rare'), ('Very', 'nice'), ('here', 'several'), ('extremely', 'friendly'), ('very', 'personable'), ('so', 'appreciative'), ('so', 'happy'), ('especially', 'nice'), ('just', 'stunning'), ('increasingly', 'frustrated'), ('very', 'small'), ('very', 'few'), ('Truly', 'spectacular'), ('very', 'impressed'), ('genuinely', 'helpful'), ('easily', 'able'), ('very', 'strong'), ('very', 'calm'), ('totally', 'empty'), ('super', 'friendly'), ('very', 'classy'), ('so', 'gracious'), ('very', 'helpful'), ('really', 'helpful'), ('so', 'sweet'), ('Far', 'better'), ('so', 'beautiful'), ('so', 'happy'), ('absolutely', 'gorgeous'), ('pretty', 'sure'), ('very', 'friendly'), ('very', 'tempting'), ('super', 'helpful'), ('very', 'helpful'), ('incredibly', 'kind'), ('so', 'much'), ('very', 'helpful'), ('so', 'easy'), ('very', 'representative'), ('previously', 'stellar'), ('most', 'well'), ('so', 'many'), ('really', 'high'), ('absolutely', 'gorgeous'), ('so', 'many'), ('so', 'beautiful'), ('very', 'honest'), ('so', 'simple'), ('yet', 'elegant'), ('too', 'busy'), ('how', 'happy'), ('very', 'good'), ('pretty', 'limited'), ('more', 'appropriate'), ('very', 'impressed'), ('very', 'patient'), ('still', 'alive'), ('Totally', 'beautiful'), ('super', 'nice'), ('fairly', 'close'), ('simply', 'amazing'), ('readily', 'available'), ('how', 'beautiful'), ('most', 'beautiful'), ('very', 'short'), ('extremely', 'friendly'), ('so', 'nice'), ('very', 'nice'), ('incredibly', 'knowledgeable'), ('how', 'amazing'), ('again', 'beautiful'), ('as', 'satisfied'), ('too', 'cute'), ('much', 'easier'), ('really', 'tacky'), ('truly', 'reflective'), ('just', 'about'), ('so', 'excited'), ('so', 'happy'), ('most', 'beautiful'), ('so', 'sad'), ('how', 'beautiful'), ('so', 'hideous'), ('So', 'glad'), ('so', 'painless'), ('so', 'happy'), ('very', 'friendly'), ('very', 'reasonable'), ('very', 'fresh'), ('absolutely', 'great'), ('very', 'high'), ('Very', 'resonable'), ('very', 'professional'), ('really', 'skeptical'), ('way', 'better'), ('so', 'excited'), ('Super', 'friendly')]\n"
     ]
    }
   ],
   "source": [
    "print(count_1)\n",
    "print(adjective_phrase_result_1)"
   ]
  },
  {
   "cell_type": "code",
   "execution_count": 27,
   "id": "0fe57bda",
   "metadata": {},
   "outputs": [],
   "source": [
    "adjective_phrase_result_2,count_2 = adjective_pair_extraction_2(result_doc)"
   ]
  },
  {
   "cell_type": "code",
   "execution_count": 28,
   "id": "005bac4f",
   "metadata": {},
   "outputs": [
    {
     "name": "stdout",
     "output_type": "stream",
     "text": [
      "13\n",
      "[('open', 'late'), ('bad', 'now'), ('few', 'anyway'), ('simple', 'yet'), ('pink', 'lily'), ('purple', 'so'), ('open', 'longer'), ('best', 'so'), ('special', 'together'), ('sure', 'how'), ('least', 'once'), ('ready', 'ahead'), ('resonable', 'very')]\n"
     ]
    }
   ],
   "source": [
    "print(count_2)\n",
    "print(adjective_phrase_result_2)"
   ]
  },
  {
   "cell_type": "code",
   "execution_count": 29,
   "id": "1fe1afdc",
   "metadata": {},
   "outputs": [],
   "source": [
    "adjective_phrase_result_3,count_3 = adjective_pair_extraction_3(result_doc)"
   ]
  },
  {
   "cell_type": "code",
   "execution_count": 30,
   "id": "855bdbfe",
   "metadata": {},
   "outputs": [
    {
     "name": "stdout",
     "output_type": "stream",
     "text": [
      "32\n",
      "[('dang', 'expensive'), ('creative', 'local'), ('friendly', 'local'), ('beautiful', 'floral'), ('bright', 'vibrant'), ('friendly', 'helpful'), ('little', 'limited'), ('next', 'closest'), ('past', 'few'), ('such', 'beautiful'), ('Super', 'awesome'), ('great', 'local'), ('many', 'other'), ('quiet', 'polite'), ('friendly', 'local'), ('same', 'stellar'), ('cute', 'little'), ('best', 'floral'), ('ready', 'first'), ('bi', '-'), ('-', 'monthly'), ('monthly', 'single'), ('nearby', 'florist'), ('specific', 'tartan'), ('enough', 'nice'), ('Fabulous', 'awesome'), ('few', 'florist'), ('bright', 'yellow'), ('cheap', 'little'), ('fresh', 'lavender'), ('few', 'prior'), ('available', 'cheap')]\n"
     ]
    }
   ],
   "source": [
    "print(count_3)\n",
    "print(adjective_phrase_result_3)"
   ]
  },
  {
   "cell_type": "code",
   "execution_count": 31,
   "id": "1907983b",
   "metadata": {},
   "outputs": [],
   "source": [
    "adjective_phrase_result_4,count_4 = adjective_pair_extraction_4(result_doc)"
   ]
  },
  {
   "cell_type": "code",
   "execution_count": 32,
   "id": "bfea5137",
   "metadata": {},
   "outputs": [
    {
     "name": "stdout",
     "output_type": "stream",
     "text": [
      "9\n",
      "[('even', 'more', 'impressive'), ('also', 'very', 'tempting'), ('so', 'incredibly', 'kind'), ('very', 'very', 'impressed'), ('always', 'so', 'nice'), ('enough', 'how', 'amazing'), ('once', 'again', 'beautiful'), ('just', 'too', 'cute'), ('so', 'much', 'easier')]\n"
     ]
    }
   ],
   "source": [
    "print(count_4)\n",
    "print(adjective_phrase_result_4)"
   ]
  },
  {
   "cell_type": "code",
   "execution_count": 33,
   "id": "ecad8f67",
   "metadata": {},
   "outputs": [],
   "source": [
    "adjective_phrase_result_5,count_5 = adjective_pair_extraction_5(result_doc)"
   ]
  },
  {
   "cell_type": "code",
   "execution_count": 34,
   "id": "0d4eb125",
   "metadata": {},
   "outputs": [
    {
     "name": "stdout",
     "output_type": "stream",
     "text": [
      "0\n",
      "[]\n"
     ]
    }
   ],
   "source": [
    "print(count_5)\n",
    "print(adjective_phrase_result_5)"
   ]
  },
  {
   "cell_type": "code",
   "execution_count": 35,
   "id": "6846dd6d",
   "metadata": {},
   "outputs": [],
   "source": [
    "adjective_phrase_result_6,count_6 = adjective_pair_extraction_6(result_doc)"
   ]
  },
  {
   "cell_type": "code",
   "execution_count": 36,
   "id": "63ef5cfa",
   "metadata": {},
   "outputs": [
    {
     "name": "stdout",
     "output_type": "stream",
     "text": [
      "1\n",
      "[('pink', 'due', 'to', 'valentine')]\n"
     ]
    }
   ],
   "source": [
    "print(count_6)\n",
    "print(adjective_phrase_result_6)"
   ]
  },
  {
   "cell_type": "markdown",
   "id": "80e42855",
   "metadata": {},
   "source": [
    "# Adjective numbers extraction"
   ]
  },
  {
   "cell_type": "code",
   "execution_count": 37,
   "id": "5dd56947",
   "metadata": {},
   "outputs": [],
   "source": [
    "#how many two-word bigram reviews are related to this one store\n",
    "total_frequency = len(extracted_review)\n",
    "def evaluative_indicativeness_bigram (adjective_phrase_list: list):\n",
    "    bigram=[]\n",
    "    bigram.extend(adjective_phrase_list)  \n",
    "    freq_bi = nltk.FreqDist(bigram)\n",
    "    result_frequency = freq_bi.most_common(5)\n",
    "    result_frequency_dict = {}\n",
    "    for element in freq_bi.most_common(5):\n",
    "      individual_frequency = element[1]/total_frequency\n",
    "      result_frequency_dict[element[0]] = individual_frequency\n",
    "    return result_frequency_dict"
   ]
  },
  {
   "cell_type": "code",
   "execution_count": 38,
   "id": "9da0b52c",
   "metadata": {},
   "outputs": [],
   "source": [
    "#combining all the bigram and trigrams\n",
    "bigram_list = adjective_phrase_result_1 + adjective_phrase_result_2 + adjective_phrase_result_3\n",
    "trigram_list = adjective_phrase_result_4 + adjective_phrase_result_5"
   ]
  },
  {
   "cell_type": "code",
   "execution_count": 39,
   "id": "d69b4780",
   "metadata": {},
   "outputs": [],
   "source": [
    "#how many three-word trigram reviews are related to this one store\n",
    "total_frequency = len(extracted_review)\n",
    "def evaluative_indicativeness_bigram (adjective_phrase_list: list):\n",
    "    bigram=[]\n",
    "    bigram.extend(adjective_phrase_list)  \n",
    "    freq_bi = nltk.FreqDist(bigram)\n",
    "    result_frequency = freq_bi.most_common(5)\n",
    "    result_frequency_dict = {}\n",
    "    for element in freq_bi.most_common(5):\n",
    "      individual_frequency = element[1]/total_frequency\n",
    "      result_frequency_dict[element[0]] = individual_frequency\n",
    "    return result_frequency_dict"
   ]
  },
  {
   "cell_type": "code",
   "execution_count": 40,
   "id": "33576d9a",
   "metadata": {},
   "outputs": [],
   "source": [
    "#how many reviews are related to this one store\n",
    "total_frequency = len(extracted_review)\n",
    "def evaluative_indicativeness_trigram (adjective_phrase_list: list):\n",
    "    trigram=[]\n",
    "    trigram.extend(adjective_phrase_list)  \n",
    "    freq_tri = nltk.FreqDist(trigram)\n",
    "    result_frequency = freq_tri.most_common(5)\n",
    "    result_frequency_dict = {}\n",
    "    for element in freq_tri.most_common(5):\n",
    "      individual_frequency = element[1]/total_frequency\n",
    "      result_frequency_dict[element[0]] = individual_frequency\n",
    "    return result_frequency_dict"
   ]
  },
  {
   "cell_type": "code",
   "execution_count": 41,
   "id": "a5e5bf5c",
   "metadata": {},
   "outputs": [],
   "source": [
    "#carry out the processing for bigram and trigram respectively\n",
    "frequency_result_bi = evaluative_indicativeness_bigram(bigram_list)\n",
    "frequency_result_tri = evaluative_indicativeness_trigram(trigram_list)"
   ]
  },
  {
   "cell_type": "code",
   "execution_count": 42,
   "id": "39da28ad",
   "metadata": {},
   "outputs": [
    {
     "name": "stdout",
     "output_type": "stream",
     "text": [
      "{('so', 'happy'): 0.04, ('so', 'beautiful'): 0.03, ('how', 'beautiful'): 0.03, ('most', 'beautiful'): 0.03, ('very', 'helpful'): 0.03}\n"
     ]
    }
   ],
   "source": [
    "print(frequency_result_bi)"
   ]
  },
  {
   "cell_type": "code",
   "execution_count": 43,
   "id": "0ba78e97",
   "metadata": {},
   "outputs": [
    {
     "name": "stdout",
     "output_type": "stream",
     "text": [
      "{('even', 'more', 'impressive'): 0.01, ('also', 'very', 'tempting'): 0.01, ('so', 'incredibly', 'kind'): 0.01, ('very', 'very', 'impressed'): 0.01, ('always', 'so', 'nice'): 0.01}\n"
     ]
    }
   ],
   "source": [
    "print(frequency_result_tri)"
   ]
  },
  {
   "cell_type": "code",
   "execution_count": 44,
   "id": "8135e421",
   "metadata": {},
   "outputs": [],
   "source": [
    "#merge two bigram/trigram output list \n",
    "def merge(dict1, dict2):\n",
    "    res = {**dict1, **dict2}\n",
    "    return res"
   ]
  },
  {
   "cell_type": "code",
   "execution_count": 45,
   "id": "b1ef49f1",
   "metadata": {},
   "outputs": [],
   "source": [
    "final_dict = merge(frequency_result_bi,frequency_result_tri)"
   ]
  },
  {
   "cell_type": "code",
   "execution_count": 46,
   "id": "ae824ec3",
   "metadata": {},
   "outputs": [
    {
     "name": "stdout",
     "output_type": "stream",
     "text": [
      "{('so', 'happy'): 0.04, ('so', 'beautiful'): 0.03, ('how', 'beautiful'): 0.03, ('most', 'beautiful'): 0.03, ('very', 'helpful'): 0.03, ('even', 'more', 'impressive'): 0.01, ('also', 'very', 'tempting'): 0.01, ('so', 'incredibly', 'kind'): 0.01, ('very', 'very', 'impressed'): 0.01, ('always', 'so', 'nice'): 0.01}\n"
     ]
    }
   ],
   "source": [
    "print(final_dict)"
   ]
  },
  {
   "cell_type": "code",
   "execution_count": 47,
   "id": "375c5854",
   "metadata": {},
   "outputs": [],
   "source": [
    "from operator import itemgetter\n",
    "\n",
    "# Initialize N \n",
    "N = 5\n",
    "# Using sorted() + itemgetter() + items()\n",
    "frequency_result_top_5 = dict(sorted(final_dict.items(), key = itemgetter(1), reverse = True)[:N])"
   ]
  },
  {
   "cell_type": "code",
   "execution_count": 48,
   "id": "aa453948",
   "metadata": {},
   "outputs": [
    {
     "name": "stdout",
     "output_type": "stream",
     "text": [
      "{('so', 'happy'): 0.04, ('so', 'beautiful'): 0.03, ('how', 'beautiful'): 0.03, ('most', 'beautiful'): 0.03, ('very', 'helpful'): 0.03}\n"
     ]
    }
   ],
   "source": [
    "print(frequency_result_top_5)"
   ]
  },
  {
   "cell_type": "code",
   "execution_count": 49,
   "id": "a4faff36",
   "metadata": {},
   "outputs": [],
   "source": [
    "#obtain the top 5 phrases and their respective probs\n",
    "index = 1\n",
    "index_result = {}\n",
    "\n",
    "for key in frequency_result_top_5:\n",
    "    phrase_id = \"phrase_{}\".format(index)\n",
    "    prob_id = \"prob_{}\".format(index)\n",
    "    index_result[phrase_id] = frequency_result_top_5[key]\n",
    "    index += 1"
   ]
  },
  {
   "cell_type": "code",
   "execution_count": 50,
   "id": "2615a080",
   "metadata": {},
   "outputs": [
    {
     "name": "stdout",
     "output_type": "stream",
     "text": [
      "{'phrase_1': 0.04, 'phrase_2': 0.03, 'phrase_3': 0.03, 'phrase_4': 0.03, 'phrase_5': 0.03}\n"
     ]
    }
   ],
   "source": [
    "print(index_result)"
   ]
  },
  {
   "cell_type": "markdown",
   "id": "c00383fc",
   "metadata": {},
   "source": [
    "# Trying out on the entire dataset"
   ]
  },
  {
   "cell_type": "code",
   "execution_count": 51,
   "id": "91d5869d",
   "metadata": {},
   "outputs": [
    {
     "name": "stdout",
     "output_type": "stream",
     "text": [
      "15300\n"
     ]
    }
   ],
   "source": [
    "review_length = len(review_df)\n",
    "print(review_length)"
   ]
  },
  {
   "cell_type": "code",
   "execution_count": 52,
   "id": "19da59a5",
   "metadata": {},
   "outputs": [],
   "source": [
    "#finding all the business ids\n",
    "business_ids = set()\n",
    "for i in range(0, review_length):\n",
    "    business = review_df.iloc[i]\n",
    "    business_ids.add(business['business_id'])"
   ]
  },
  {
   "cell_type": "code",
   "execution_count": 53,
   "id": "57be34ce",
   "metadata": {},
   "outputs": [
    {
     "name": "stdout",
     "output_type": "stream",
     "text": [
      "153\n"
     ]
    }
   ],
   "source": [
    "print(len(business_ids))"
   ]
  },
  {
   "cell_type": "code",
   "execution_count": 54,
   "id": "909d8fc9",
   "metadata": {},
   "outputs": [],
   "source": [
    "#construct a dictionary to get all the stores and their respective processed reviews\n",
    "selected = {}\n",
    "for business in business_ids:\n",
    "    #extract reviews for each individual id\n",
    "    individual_reviews = extract_reviews(business)\n",
    "    #append the extracted review to each business first\n",
    "    selected[business] = individual_reviews"
   ]
  },
  {
   "cell_type": "code",
   "execution_count": 55,
   "id": "06140352",
   "metadata": {},
   "outputs": [],
   "source": [
    "#use spacy to tokenize and process each review\n",
    "#and extract relevant pairs\n",
    "for key in selected:\n",
    "    processed_review_selected,result_doc_selected = spacy_process(selected[key])\n",
    "    #adjective extraction for each combination\n",
    "    final_adjective_phrase_result_1,final_count_1 = adjective_pair_extraction_1(result_doc_selected)\n",
    "    final_adjective_phrase_result_2,final_count_2 = adjective_pair_extraction_2(result_doc_selected)\n",
    "    final_adjective_phrase_result_3,final_count_3 = adjective_pair_extraction_3(result_doc_selected)\n",
    "    final_adjective_phrase_result_4,final_count_4 = adjective_pair_extraction_4(result_doc_selected)\n",
    "    #adding more considerations\n",
    "    final_adjective_phrase_result_5,final_count_5 = adjective_pair_extraction_5(result_doc_selected)\n",
    "    final_adjective_phrase_result_6,final_count_6 = adjective_pair_extraction_6(result_doc_selected)\n",
    "\n",
    "\n",
    "    #combining the list extracted\n",
    "    final_bigram_list = final_adjective_phrase_result_1 + final_adjective_phrase_result_2 + final_adjective_phrase_result_3\n",
    "    final_trigram_list = final_adjective_phrase_result_4 + final_adjective_phrase_result_5 \n",
    "\n",
    "\n",
    "    #evaluate the respective data obtained \n",
    "    final_frequency_result_bi = evaluative_indicativeness_bigram(final_bigram_list)\n",
    "    final_frequency_result_tri = evaluative_indicativeness_bigram(final_trigram_list)\n",
    "    \n",
    "    #merge the data obtained\n",
    "    final_frequency_result = merge(final_frequency_result_bi,final_frequency_result_tri)\n",
    "    \n",
    "    #append the analysis to each of the result\n",
    "    selected[key] = final_frequency_result"
   ]
  },
  {
   "cell_type": "code",
   "execution_count": 56,
   "id": "0d95b113",
   "metadata": {},
   "outputs": [
    {
     "name": "stdout",
     "output_type": "stream",
     "text": [
      "z_RTK0MaxaRHRQ99hDL2QA\n",
      "{('as', 'big'): 0.07, ('so', 'good'): 0.05, ('very', 'good'): 0.05, ('really', 'good'): 0.04, ('very', 'nice'): 0.03, ('just', 'as', 'big'): 0.02, ('So', 'so', 'good'): 0.01, ('Definitely', 'filling.\\\\n\\\\nAlso', 'convenient'): 0.01, ('actually', 'pretty', 'close'): 0.01, ('so', 'terribly', 'inconvenient'): 0.01}\n",
      "YgWGWza3sXzI0brcOogR5A\n",
      "{('very', 'nice'): 0.07, ('so', 'nice'): 0.06, ('so', 'glad'): 0.05, ('so', 'gentle'): 0.04, ('very', 'gentle'): 0.03, ('Very', 'well', 'pleased'): 0.01, ('so', 'very', 'nice'): 0.01, ('all', 'very', 'nice'): 0.01, ('So', 'incredibly', 'happy'): 0.01, ('no', 'longer', 'afraid'): 0.01}\n",
      "mOzOYgXYOmkdNfZr453PgQ\n",
      "{('too', 'much'): 0.04, ('very', 'rude'): 0.03, ('so', 'many'): 0.03, ('many', 'other'): 0.03, ('other', 'Vietnamese'): 0.03, ('However', 'very', 'tight'): 0.01, ('Slightly', 'more', 'pricey'): 0.01, ('Now', 'how', 'many'): 0.01, ('here', 'so', 'delicious'): 0.01, ('always', 'very', 'tasty'): 0.01}\n",
      "IeK0nzbMPbWnUBIPB83v6A\n",
      "{('very', 'talented'): 0.05, ('pretty', 'good'): 0.04, ('so', 'much'): 0.04, ('really', 'good'): 0.04, ('very', 'nice'): 0.04, ('generally', 'so', 'entertaining'): 0.01, ('Hot', 'too', 'many'): 0.01, ('actually', 'really', 'rude'): 0.01, ('honestly', 'really', 'silly'): 0.01, ('just', 'that', 'strong'): 0.01}\n",
      "ih_bb1SaYvsMYfdykhYh2g\n",
      "{('very', 'good'): 0.11, ('so', 'good'): 0.05, ('very', 'friendly'): 0.04, ('very', 'nice'): 0.04, ('great', 'local'): 0.04, ('just', 'so', 'pretty'): 0.01, ('all', 'really', 'good'): 0.01, ('just', 'plain', 'terrible'): 0.01, ('also', 'very', 'tasty'): 0.01, ('also', 'very', 'nice'): 0.01}\n",
      "ukAUNyzUcBA4Su8UKjaJKg\n",
      "{('very', 'good'): 0.08, ('very', 'reasonable'): 0.08, ('very', 'tasty'): 0.07, ('too', 'much'): 0.04, ('very', 'nice'): 0.04, ('matter', 'how', 'many'): 0.01, ('where', 'just', 'amazing'): 0.01, ('kind', 'of', 'unfair'): 0.01, ('so', 'incredibly', 'poor'): 0.01, ('also', 'very', 'delicious'): 0.01}\n",
      "ZP7U4qUCMjIvasWV7a_mgg\n",
      "{('very', 'nice'): 0.03, ('as', 'good'): 0.03, ('so', 'many'): 0.02, ('really', 'good'): 0.02, ('super', 'nice'): 0.02, ('maybe', 'slightly', 'larger'): 0.01, ('Almost', 'as', 'good'): 0.01, ('exactly', 'as', 'good'): 0.01, ('actually', 'really', 'good'): 0.01, ('still', 'very', 'wet'): 0.01}\n",
      "S6apFS5ghsQg69rcBvm2Qg\n",
      "{('really', 'good'): 0.06, ('quite', 'good'): 0.02, ('damn', 'good'): 0.02, ('totally', 'reasonable'): 0.02, ('very', 'long'): 0.02, ('all', 'that', 'high'): 0.01, ('kind', 'of', 'good'): 0.01, ('so', 'pleasantly', 'surprised'): 0.01, ('Never', 'too', 'busy'): 0.01, ('still', 'quite', 'good'): 0.01}\n",
      "sj9osyqLyOy7b_kDZb1txA\n",
      "{('very', 'friendly'): 0.05, ('really', 'good'): 0.05, ('as', 'good'): 0.05, ('very', 'good'): 0.05, ('too', 'much'): 0.04, ('just', 'as', 'good'): 0.02, ('near', 'as', 'good'): 0.01, ('kind', 'of', 'small'): 0.01, ('little', 'more', 'expensive'): 0.01, ('also', 'kinda', 'weird'): 0.01}\n",
      "LScYNYAA78iQL6pWOqt-WQ\n",
      "{('so', 'many'): 0.06, ('non', '-'): 0.05, ('really', 'great'): 0.04, ('super', 'friendly'): 0.04, ('-', 'dog'): 0.04, ('so', 'so', 'friendly'): 0.01, ('just', 'as', 'good'): 0.01, ('in', 'here', 'last'): 0.01, ('probably', 'most', 'bothersome'): 0.01, ('around', 'too', 'much'): 0.01}\n",
      "WO3L0pmtAO8ozspmaVdHIg\n",
      "{('pretty', 'good'): 0.04, ('too', 'much'): 0.03, ('really', 'good'): 0.03, ('long', 'hot'): 0.03, ('Chinese', 'fast'): 0.03, ('Just', 'as', 'bad'): 0.01, ('down', 'right', 'cold'): 0.01, ('often', 'very', 'crowded'): 0.01, ('surprisingly', 'very', 'tender'): 0.01, ('once', 'again', 'disappointed'): 0.01}\n",
      "rN3gHTjqx5sOnoUpJ-6jyg\n",
      "{('very', 'good'): 0.08, ('very', 'nice'): 0.05, ('so', 'good'): 0.05, ('as', 'good'): 0.03, ('really', 'good'): 0.03, ('so', 'incredibly', 'kind'): 0.02, ('somewhat', 'too', 'aldente'): 0.01, ('also', 'super', 'nice'): 0.01, ('just', 'amazingly', 'juicy'): 0.01, ('as', 'amazingly', 'fresh'): 0.01}\n",
      "mF2EW3twSrFPmT_RVV1-Qg\n",
      "{('very', 'good'): 0.08, ('very', 'nice'): 0.05, ('pretty', 'good'): 0.04, ('definitely', 'worth'): 0.03, ('so', 'good'): 0.03, ('so', 'incredibly', 'awful'): 0.02, ('so', 'ridiculously', 'disappointed'): 0.02, ('just', 'plain', 'old'): 0.01, ('so', 'much', 'more'): 0.01, ('also', 'very', 'heavy'): 0.01}\n",
      "d8Kz48UDfZ0MPuQpGy2r0Q\n",
      "{('very', 'good'): 0.06, ('really', 'good'): 0.06, ('much', 'better'): 0.04, ('pretty', 'good'): 0.04, ('very', 'nice'): 0.04, ('far', 'too', 'long'): 0.02, ('also', 'super', 'nice'): 0.01, ('So', 'maybe', 'next'): 0.01, ('very', 'asthetically', 'pleasing'): 0.01, ('still', 'very', 'busy'): 0.01}\n",
      "i-2OzvZUDtvKCMq1vcRSZg\n",
      "{('even', 'better'): 0.03, ('very', 'good'): 0.03, ('definitely', 'worth'): 0.02, ('perfectly', 'fine'): 0.02, ('ready', 'soon'): 0.02, ('pretty', 'much', 'identical'): 0.01, ('just', 'as', 'big'): 0.01, ('kind', 'of', 'old'): 0.01, ('most', 'importantly', 'soft'): 0.01, ('so', 'magically', 'pungent'): 0.01}\n",
      "UDiMCb4LKowlozI5mhtO_A\n",
      "{('very', 'nice'): 0.06, ('very', 'good'): 0.04, ('pretty', 'good'): 0.04, ('too', 'much'): 0.03, ('never', 'disappointed'): 0.03, ('unexpectedly', 'very', 'spicy'): 0.01, ('yet', 'distinctly', 'different'): 0.01, ('just', 'too', 'much'): 0.01, ('Actually', 'really', 'refreshing'): 0.01}\n",
      "Jol7cXrDmKKmu_V6qp4wMA\n",
      "{('middle', 'eastern'): 0.19, ('very', 'good'): 0.07, ('too', 'much'): 0.05, ('well', 'worth'): 0.04, ('so', 'good'): 0.04, ('way', 'too', 'much'): 0.02, ('no', 'longer', 'worth'): 0.01, ('almost', 'always', 'better'): 0.01, ('kind', 'of', 'glad'): 0.01, ('also', 'incredibly', 'affordable'): 0.01}\n",
      "6RbCJLiwNYwS6ab9vzD_zg\n",
      "{('middle', 'eastern'): 0.13, ('pretty', 'good'): 0.07, ('very', 'good'): 0.05, ('so', 'fresh'): 0.04, ('very', 'fresh'): 0.04, ('always', 'so', 'friendly'): 0.01, ('definitely', 'more', 'genuine'): 0.01, ('twice', 'as', 'much'): 0.01, ('freshest', 'most', 'delicious'): 0.01, ('always', 'so', 'fresh'): 0.01}\n",
      "84DjKzaR26vphu9fNI9nKg\n",
      "{('pretty', 'good'): 0.1, ('very', 'good'): 0.05, ('very', 'friendly'): 0.05, ('very', 'attentive'): 0.03, ('too', 'bad'): 0.03, ('far', 'more', 'courteous'): 0.01, ('equally', 'as', 'attentive'): 0.01, ('sort', 'of', 'friendly'): 0.01, ('always', 'very', 'friendly'): 0.01, ('little', 'more', 'upscale'): 0.01}\n",
      "sWh-N7K3ebRHZKhhH01mJQ\n",
      "{('very', 'friendly'): 0.03, ('very', 'nice'): 0.03, ('non', '-'): 0.03, ('-', 'ER'): 0.03, ('much', 'better'): 0.02, ('so', 'much', 'better'): 0.02, ('very', 'very', 'careful'): 0.02, ('just', 'as', 'rude'): 0.01, ('Just', 'as', 'bad'): 0.01, ('so', 'so', 'much'): 0.01}\n",
      "c0t81YxNqZQuTJrTfn3QYA\n",
      "{('very', 'friendly'): 0.04, ('very', 'busy'): 0.04, ('very', 'helpful'): 0.03, ('very', 'nice'): 0.03, ('very', 'quick'): 0.02, ('still', 'very', 'quick'): 0.01, ('always', 'so', 'nice'): 0.01, ('always', 'super', 'friendly'): 0.01, ('always', 'very', 'courteous'): 0.01, ('even', 'more', 'surprised'): 0.01}\n",
      "AEx2SYEUJmTxVVB18LlCwA\n",
      "{('definitely', 'worth'): 0.04, ('very', 'friendly'): 0.04, ('so', 'much'): 0.04, ('so', 'good'): 0.03, ('so', 'many'): 0.03, ('so', 'much', 'better'): 0.02, ('kind', 'of', 'neat'): 0.01, ('most', 'definitely', 'perfect'): 0.01, ('actually', 'pretty', 'good'): 0.01, ('actually', 'pretty', 'tasty'): 0.01}\n",
      "s7keQ0-OQ5Li_IKGKVTarw\n",
      "{('very', 'clean'): 0.05, ('very', 'nice'): 0.05, ('very', 'rushed'): 0.03, ('very', 'relaxing'): 0.03, ('very', 'rude'): 0.03, ('also', 'pretty', 'positive'): 0.01, ('kind', 'of', 'hilarious'): 0.01, ('always', 'so', 'crowded'): 0.01, ('also', 'very', 'pushy'): 0.01, ('much', 'more', 'busier'): 0.01}\n",
      "0kPm1zEpeXFRg8D2phqgCQ\n",
      "{('very', 'clean'): 0.03, ('too', 'much'): 0.03, ('very', 'friendly'): 0.03, ('too', 'sweet'): 0.03, ('large', 'iced'): 0.03, ('then', 'once', 'more'): 0.01, ('usually', 'very', 'sweet'): 0.01, ('way', 'too', 'sweet'): 0.01, ('little', 'less', 'expensive'): 0.01, ('kind', 'of', 'old'): 0.01}\n",
      "y3otpml08iLWdX5RCrWnbA\n",
      "{('pretty', 'good'): 0.06, ('very', 'good'): 0.04, ('authentic', 'Mexican'): 0.04, ('really', 'good'): 0.03, ('favorite', 'Mexican'): 0.03, ('actually', 'pretty', 'good'): 0.02, ('just', 'as', 'good'): 0.01, ('still', 'very', 'good'): 0.01, ('most', 'importantly', 'delicious'): 0.01, ('really', 'pretty', 'good'): 0.01}\n",
      "z8Em-bhZI3Mmspml7tj6tg\n",
      "{('pretty', 'good'): 0.07, ('really', 'good'): 0.04, ('so', 'many'): 0.03, ('so', 'much'): 0.03, ('here', 'several'): 0.02, ('down', 'right', 'horrible'): 0.01, ('way', 'too', 'watery'): 0.01, ('kind', 'of', 'bad'): 0.01, ('actually', 'really', 'good'): 0.01, ('just', \"wasn\\\\'t\", 'much'): 0.01}\n",
      "QbdADbSI908Or0ybjuQLxw\n",
      "{('very', 'knowledgeable'): 0.07, ('very', 'friendly'): 0.06, ('so', 'many'): 0.04, ('very', 'helpful'): 0.04, ('super', 'friendly'): 0.03, ('better', 'more', 'accurate'): 0.01, ('all', 'extremely', 'knowledgeable'): 0.01, ('Sometimes', 'as', 'cheap'): 0.01, ('sort', 'of', 'bamboozled.\\\\nLater'): 0.01, ('rightfully', 'wide', 'open'): 0.01}\n",
      "4no7JcP4CYasqxdxmrTGRA\n",
      "{('pretty', 'good'): 0.06, ('really', 'good'): 0.06, ('very', 'good'): 0.04, ('good', 'too'): 0.04, ('so', 'many'): 0.03, ('still', 'pretty', 'cool'): 0.01, ('just', 'how', 'much'): 0.01, ('actually', 'really', 'good!\\\\n\\\\nFor'): 0.01, ('only', 'marginally', 'better'): 0.01, ('much', 'never', 'present'): 0.01}\n",
      "R4R7ttLXfKKWM0VEMoaW4w\n",
      "{('very', 'clean'): 0.09, ('very', 'friendly'): 0.07, ('so', 'good'): 0.06, ('very', 'nice'): 0.04, ('very', 'good'): 0.04, ('never', 'too', 'long'): 0.01, ('always', 'very', 'pleased'): 0.01, ('way', 'too', 'fake'): 0.01, ('so', 'usually', 'frozen'): 0.01, ('also', 'very', 'nice'): 0.01}\n",
      "7vvliv5R0MD7BQ2CsquhcQ\n",
      "{('super', 'busy'): 0.05, ('very', 'good'): 0.04, ('really', 'good'): 0.04, ('so', 'many'): 0.03, ('many', 'many'): 0.03, ('totally', 'well', 'worth'): 0.01, ('always', 'very', 'nice'): 0.01, ('always', 'super', 'busy'): 0.01, ('how', 'extremely', 'spacious'): 0.01, ('just', 'too', 'much'): 0.01}\n",
      "QqGMtc24VdCzYAajw1g4bA\n",
      "{('really', 'good'): 0.04, ('too', 'much'): 0.04, ('very', 'large'): 0.03, ('as', 'good'): 0.03, ('pretty', 'good'): 0.03, ('way', 'too', 'thick'): 0.01, ('always', 'really', 'good'): 0.01, ('never', 'really', 'long'): 0.01, ('as', 'keenly', 'kosher'): 0.01, ('really', 'really', 'outstanding'): 0.01}\n",
      "l07ctcrDMV--TYwe3uzebQ\n",
      "{('pretty', 'good'): 0.08, ('really', 'good'): 0.05, ('so', 'many'): 0.04, ('good', 'enough'): 0.04, ('good', 'here'): 0.04, ('pretty', 'damn', 'good'): 0.01, ('at', 'all', 'spicy'): 0.01, ('around', 'absolutely', 'confused'): 0.01, ('just', 'so', 'upset'): 0.01, ('just', 'so', 'angry'): 0.01}\n",
      "ZhACHVw9k438Z3i-Gw9BHA\n",
      "{('really', 'good'): 0.07, ('quite', 'large'): 0.04, ('so', 'good'): 0.04, ('very', 'good'): 0.04, ('very', 'reasonable'): 0.04, ('just', 'too', 'busy'): 0.02, ('very', 'very', 'delicious'): 0.01, ('also', 'fairly', 'reasonable'): 0.01, ('Just', 'SO', 'good'): 0.01, ('just', 'SO', 'good'): 0.01}\n",
      "Cr066pnTj0ioEMZRTHgMOw\n",
      "{('very', 'good'): 0.07, ('so', 'good'): 0.03, ('regular', 'now'): 0.03, ('very', 'friendly'): 0.02, ('so', 'tender'): 0.02, ('now', 'no', 'longer'): 0.01, ('much', 'more', 'better'): 0.01, ('also', 'very', 'good'): 0.01, ('very', 'very', 'ordinary'): 0.01, ('much', 'more', 'expensive'): 0.01}\n",
      "cOY6ipigtTXdcmmmiFiniA\n",
      "{('really', 'good'): 0.1, ('very', 'good'): 0.06, ('very', 'clean'): 0.05, ('very', 'reasonable'): 0.04, ('very', 'polite'): 0.04, ('also', 'pretty', 'good'): 0.01, ('just', 'really', 'upset'): 0.01, ('even', 'more', 'special'): 0.01, ('just', 'as', 'enjoyable'): 0.01, ('So', 'much', 'great'): 0.01}\n",
      "qMyYY8zpHusOXUd6wmqX2w\n",
      "{('Very', 'professional'): 0.05, ('very', 'knowledgeable'): 0.05, ('very', 'professional'): 0.04, ('very', 'fair'): 0.04, ('very', 'helpful'): 0.03, ('all', 'that', 'bad'): 0.01, ('up', 'very', 'enjoyable'): 0.01}\n",
      "CSGJxWQwD_QfOKxp569grQ\n",
      "{('so', 'many'): 0.07, ('very', 'professional'): 0.04, ('very', 'nice'): 0.04, ('so', 'friendly'): 0.04, ('so', 'glad'): 0.04, ('yet', 'rather', 'abundant'): 0.01, ('now', 'fabulously', 'multi'): 0.01, ('so', 'unbelievably', 'nice'): 0.01, ('kind', 'of', 'shocking'): 0.01, ('just', 'so', 'friendly'): 0.01}\n",
      "a4GRh1TlOVhPD401mSPLZg\n",
      "{('-', 'op'): 0.12, ('post', '-'): 0.09, ('pre', '-'): 0.07, ('so', 'happy'): 0.06, ('very', 'nice'): 0.06, ('still', 'pretty', 'nearsighted'): 0.01, ('just', 'as', 'attentive'): 0.01, ('so', 'much', 'better'): 0.01, ('just', 'as', 'pleasant'): 0.01, ('fast', 'so', \"don\\\\'t\"): 0.01}\n",
      "bmm5F5smQrHCEkFYjwrQ9w\n",
      "{('so', 'good'): 0.04, ('very', 'nice'): 0.03, ('least', 'once'): 0.03, ('really', 'bad'): 0.02, ('so', 'frustrating'): 0.02, ('really', 'really', 'bad'): 0.01, ('never', 'ever', 'correct'): 0.01, ('no', 'longer', 'acceptable'): 0.01, ('also', 'much', 'higher'): 0.01, ('so', 'much', 'more'): 0.01}\n",
      "rv9T1qGHbh9eXqFpKEPy_A\n",
      "{('very', 'good'): 0.09, ('good', 'Chinese'): 0.06, ('very', 'friendly'): 0.04, ('very', 'nice'): 0.04, ('very', 'little'): 0.04, ('so', 'much', 'lighter'): 0.01, ('much', 'much', 'better'): 0.01, ('again--', 'too', 'high'): 0.01, ('always', 'very', 'big'): 0.01, ('still', 'very', 'tasty'): 0.01}\n",
      "ApeTrSttf8f4KUrBVtcKgw\n",
      "{('very', 'good'): 0.06, ('so', 'many'): 0.05, ('so', 'glad'): 0.03, ('pretty', 'good'): 0.03, ('really', 'good'): 0.03, ('actually', 'surprisingly', 'good'): 0.01, ('very', 'much', 'ok'): 0.01, ('Absolutely', 'highly', 'recommend'): 0.01, ('far', 'too', 'much'): 0.01, ('little', 'more', 'exotic'): 0.01}\n",
      "caq9CTtWB-8K0tdFUhTfAQ\n",
      "{('very', 'good'): 0.12, ('pretty', 'good'): 0.05, ('very', 'friendly'): 0.04, ('consistently', 'good'): 0.04, ('really', 'good'): 0.04, ('just', 'as', 'good'): 0.02, ('way', 'too', 'spicy'): 0.02, ('always', 'super', 'friendly'): 0.01, ('also', 'very', 'good'): 0.01, ('just', 'about', 'ready'): 0.01}\n",
      "WA7sC64kCRstywm2EgZXEw\n",
      "{('very', 'good'): 0.11, ('really', 'good'): 0.08, ('authentic', 'Turkish'): 0.08, ('much', 'better'): 0.07, ('very', 'nice'): 0.07, ('Really', 'really', 'good'): 0.01, ('at', 'all', 'impressed'): 0.01, ('still', 'very', 'good'): 0.01, ('Very', 'very', 'good'): 0.01, ('so', 'very', 'warm'): 0.01}\n",
      "vuHzLZ7nAeT-EiecOkS5Og\n",
      "{('very', 'knowledgeable'): 0.06, ('very', 'happy'): 0.04, ('super', 'friendly'): 0.03, ('very', 'nice'): 0.03, ('extremely', 'rude'): 0.03, (\"shouldn\\\\'t\", 'ever', 'mess'): 0.01, ('usually', 'very', 'legit'): 0.01, ('obviously', 'only', 'interested'): 0.01, ('also', 'unbelievably', 'rude'): 0.01, ('enough', 'how', 'big'): 0.01}\n",
      "xvjkhS2PXajDniDzP1-hdA\n",
      "{('much', 'worse'): 0.04, ('very', 'nice'): 0.04, ('as', 'many'): 0.04, ('very', 'friendly'): 0.03, ('very', 'caring'): 0.03, ('little', 'less', 'expensive'): 0.01, ('always', 'completely', 'professional'): 0.01, ('just', 'as', 'friendly'): 0.01, ('SO', 'much', 'better'): 0.01, ('always', 'very', 'sweet'): 0.01}\n",
      "lOgybcjtSymXvJWvSZk1vw\n",
      "{('really', 'good'): 0.04, ('very', 'friendly'): 0.04, ('pretty', 'good'): 0.03, ('too', 'much'): 0.03, ('too', 'busy'): 0.03, ('actually', 'really', 'nice'): 0.01, ('very', 'very', 'delicious'): 0.01, ('always', 'so', 'tender'): 0.01, ('generally', 'very', 'good.\\\\n\\\\nI'): 0.01, ('usually', 'fairly', 'busy'): 0.01}\n",
      "CQxhyLM833WF45yrS9yeAA\n",
      "{('very', 'grateful'): 0.06, ('so', 'grateful'): 0.06, ('very', 'difficult'): 0.05, ('as', 'much'): 0.05, ('most', 'comfortable'): 0.05, ('so', 'very', 'grateful'): 0.02, ('much', 'more', 'unbearable'): 0.01, ('just', 'as', 'much'): 0.01, ('always', 'so', 'terrified'): 0.01, ('only', 'very', 'informative'): 0.01}\n",
      "yAkaDc6MWX3dy8bnEcCrRQ\n",
      "{('best', 'Chinese'): 0.12, ('much', 'better'): 0.07, ('very', 'good'): 0.07, ('pretty', 'good'): 0.06, ('authentic', 'Chinese'): 0.06, ('so', 'much', 'better'): 0.02, ('Why', 'so', 'many'): 0.01, ('why', 'so', 'many'): 0.01, (\"weren\\\\'t\", 'much', 'better'): 0.01, ('Just', 'very', 'weird.\\\\n\\\\nThe'): 0.01}\n",
      "eWmARaQb_9vxq-zy5PVvXA\n",
      "{('much', 'better'): 0.11, ('very', 'comfortable'): 0.1, ('very', 'professional'): 0.05, ('so', 'nice'): 0.04, ('very', 'clean'): 0.04, ('so', 'much', 'better'): 0.07, ('how', 'much', 'better'): 0.02, ('even', 'more', 'comfortable'): 0.01, ('very', 'much', 'worth'): 0.01, ('so', 'much', 'cleaner'): 0.01}\n",
      "ZBE-H_aUlicix_9vUGQPIQ\n",
      "{('very', 'good'): 0.06, ('pretty', 'good'): 0.05, ('good', 'enough'): 0.03, ('so', 'good'): 0.02, ('very', 'friendly'): 0.02, ('therefore', 'really', 'handy'): 0.01, ('actually', 'really', 'shy'): 0.01, ('actually', 'pretty', 'tasty'): 0.01, ('kind', 'of', 'pricey'): 0.01, ('just', \"wasn\\\\'t\", 'good'): 0.01}\n",
      "KjjNv4YFzBFnsBh2ncH1Iw\n",
      "{('pretty', 'good'): 0.07, ('really', 'good'): 0.06, ('as', 'good'): 0.04, ('pleasantly', 'surprised'): 0.04, ('very', 'good'): 0.04, ('very', 'pleasantly', 'surprised'): 0.01, ('little', 'more', 'expensive'): 0.01, ('then', 'most', 'small'): 0.01, ('nearly', 'as', 'good'): 0.01, ('just', 'as', 'tasty'): 0.01}\n",
      "dcrL22ant20s1thjdVGhLw\n",
      "{('very', 'good'): 0.13, ('Too', 'bad'): 0.03, ('very', 'nice'): 0.03, ('very', 'little'): 0.03, ('really', 'good'): 0.03, ('very', 'pleasantly', 'surprised'): 0.01, ('at', 'all', 'appropriate'): 0.01, ('almost', 'always', 'impeccable'): 0.01, ('also', 'very', 'good'): 0.01, ('kind', 'of', 'pricey'): 0.01}\n",
      "2ALnrUa1_U8JHNgscad8OQ\n",
      "{('pretty', 'good'): 0.04, ('really', 'nice'): 0.04, ('really', 'good'): 0.03, ('too', 'crowded'): 0.03, ('nearly', 'empty'): 0.03, ('totally', 'just', 'flat'): 0.01, ('way', 'too', 'spicy'): 0.01, ('way', 'too', 'tiny'): 0.01, ('much', 'more', 'approachable'): 0.01, ('honestly', 'pretty', 'attractive'): 0.01}\n",
      "DcfkRb2bS2c8z21WH-aS6A\n",
      "{('very', 'good'): 0.1, ('really', 'good'): 0.06, ('so', 'good'): 0.05, ('authentic', 'Mexican'): 0.05, ('very', 'authentic'): 0.04, ('also', 'very', 'good'): 0.02, ('also', 'really', 'good'): 0.01, ('kind', 'of', 'sweet'): 0.01, ('just', 'so', 'smooth'): 0.01, ('nearly', 'as', 'great'): 0.01}\n",
      "x3LoVFuzVIPK_J-kDZORdg\n",
      "{('pretty', 'good'): 0.07, ('really', 'good'): 0.06, ('very', 'good'): 0.05, ('very', 'nice'): 0.04, ('much', 'better'): 0.04, ('always', 'super', 'friendly'): 0.01, ('really', 'really', 'spicy'): 0.01, ('kind', 'of', 'bland'): 0.01, ('always', 'really', 'fresh'): 0.01, ('even', 'mildly', 'spicy'): 0.01}\n",
      "grvkjaJB9aorAMIjGD6XSg\n",
      "{('very', 'professional'): 0.04, ('very', 'fair'): 0.03, ('very', 'pleased'): 0.03, ('nice', 'enough'): 0.03, ('most', 'recent'): 0.02, ('so', 'much', 'more'): 0.01, ('just', 'as', 'helpful'): 0.01, ('far', 'so', 'good'): 0.01, ('how', 'clearly', 'busy'): 0.01, ('so', 'forever', 'grateful'): 0.01}\n",
      "KY2vtER_NgmonFNY_XFDpg\n",
      "{('very', 'nice'): 0.04, ('very', 'knowledgeable'): 0.04, ('so', 'much'): 0.04, ('much', 'more'): 0.04, ('very', 'friendly'): 0.03, ('so', 'much', 'more'): 0.02, ('also', 'very', 'short'): 0.01, ('also', 'very', 'professional'): 0.01, ('also', 'very', 'hopeful'): 0.01, ('genuinely', 'very', 'important'): 0.01}\n",
      "rubyBEGXLBLU_JAuEtKEuw\n",
      "{('so', 'happy'): 0.04, ('so', 'beautiful'): 0.03, ('how', 'beautiful'): 0.03, ('most', 'beautiful'): 0.03, ('very', 'helpful'): 0.03, ('even', 'more', 'impressive'): 0.01, ('also', 'very', 'tempting'): 0.01, ('so', 'incredibly', 'kind'): 0.01, ('very', 'very', 'impressed'): 0.01, ('always', 'so', 'nice'): 0.01}\n",
      "QeEQXdto_4wFRaNKyIygRA\n",
      "{('pretty', 'good'): 0.06, ('very', 'good'): 0.05, ('very', 'attentive'): 0.04, ('very', 'nice'): 0.04, ('very', 'friendly'): 0.03, ('just', 'pretty', 'typical'): 0.01, ('just', 'too', 'salty'): 0.01, ('Just', 'overall', 'crappy'): 0.01, (\"Wasn\\\\'t\", 'overly', 'impressed'): 0.01, ('kind', 'of', 'shocked'): 0.01}\n",
      "a6mYyhGgxWhnhrGDHzOTPA\n",
      "{('really', 'good'): 0.04, ('so', 'much'): 0.03, ('pretty', 'good'): 0.03, ('quite', 'small'): 0.02, ('almost', 'impossible'): 0.02, ('actually', 'really', 'good'): 0.02, ('far', 'too', 'sweet'): 0.01, ('there', 'far', 'better'): 0.01, ('actually', 'pretty', 'good'): 0.01, ('so', 'so', 'bland'): 0.01}\n",
      "AT5NZHqoLeP4rhWMM2OWBA\n",
      "{('very', 'good'): 0.05, ('well', 'worth'): 0.04, ('really', 'good'): 0.04, ('absolutely', 'beautiful'): 0.03, ('authentic', 'Italian'): 0.03, ('little', 'more', 'generous'): 0.01, ('much', 'less', 'satisfying'): 0.01, ('slightly', 'too', 'charred'): 0.01, ('definitely', 'well', 'worth'): 0.01}\n",
      "wPgp3oddFUzpGrQc__HYhg\n",
      "{('few', 'other'): 0.06, ('very', 'clean'): 0.04, ('very', 'nice'): 0.03, ('many', 'other'): 0.03, ('always', 'busy'): 0.02, ('always', 'very', 'clean'): 0.01, ('actually', 'pretty', 'good'): 0.01, ('no', 'longer', 'interested'): 0.01, ('very', 'genuinely', 'apologetic'): 0.01, ('just', 'plain', 'rude'): 0.01}\n",
      "R4EhR8xhONLFqqI6ZnzNWw\n",
      "{('very', 'good'): 0.08, ('Northern', 'Chinese'): 0.07, ('quite', 'good'): 0.05, ('good', 'too'): 0.05, ('non', '-'): 0.05, ('so', 'so', 'good'): 0.02, ('here', 'at', 'least'): 0.01, ('no', 'longer', 'vegetarian'): 0.01, ('slightly', 'too', 'thick'): 0.01, ('very', 'slightly', 'rubbery'): 0.01}\n",
      "JiNtFt02pLvjXkqxZL737Q\n",
      "{('pretty', 'good'): 0.08, ('little', 'slow'): 0.04, ('very', 'friendly'): 0.03, ('very', 'happy'): 0.03, ('much', 'better'): 0.02, ('always', 'very', 'friendly'): 0.01, ('also', 'very', 'good'): 0.01, ('kind', 'of', 'cute'): 0.01, ('kind', 'of', 'slow'): 0.01, ('how', 'utterly', 'amazing'): 0.01}\n",
      "eUVH2Vs_sHApAKSV4iT2FQ\n",
      "{('very', 'good'): 0.09, ('really', 'good'): 0.07, ('pretty', 'good'): 0.04, ('very', 'strict'): 0.03, ('very', 'friendly'): 0.03, ('also', 'extremely', 'nice'): 0.01, ('so', 'just', 'glad'): 0.01, ('still', 'pretty', 'good'): 0.01, ('always', 'so', 'nice'): 0.01, (\"wasn\\\\'t\", 'super', 'busy'): 0.01}\n",
      "oLb3-eXUFtCFJl2DuBhcvA\n",
      "{('very', 'friendly'): 0.09, ('very', 'nice'): 0.08, ('very', 'clean'): 0.05, ('much', 'more'): 0.03, ('very', 'close'): 0.03, ('Just', 'how', 'convenient'): 0.01, ('actually', 'quite', 'generous'): 0.01, ('kind', 'of', 'dirty'): 0.01, ('always', 'very', 'affordable'): 0.01, ('much', 'more', 'enjoyable'): 0.01}\n",
      "c1_adyjYG6JEa1PZAXMOBg\n",
      "{('South', 'Indian'): 0.13, ('south', 'Indian'): 0.1, ('south', 'indian'): 0.06, ('very', 'good'): 0.05, ('really', 'good'): 0.05, ('generally', 'pretty', 'good'): 0.01, ('also', 'very', 'flat'): 0.01, ('where', 'mildly', 'spicy'): 0.01, ('actually', 'over', 'cooked'): 0.01, ('most', 'probably', 'ok'): 0.01}\n",
      "j7HO1YeMQGYo3KibMXZ5vg\n",
      "{('other', 'Hawaiian'): 0.09, ('pretty', 'good'): 0.08, ('really', 'good'): 0.07, ('very', 'nice'): 0.05, ('too', 'salty'): 0.05, ('very', \"soon.\\\\n\\\\nSERVICE\\\\nWasn't\", 'sure'): 0.01, ('just', 'that', 'easier'): 0.01, ('always', 'so', 'nice'): 0.01, ('also', 'pretty', 'good'): 0.01, ('also', 'very', 'tasty'): 0.01}\n",
      "e-YnECeZNt8ngm0tu4X9mQ\n",
      "{('pretty', 'good'): 0.06, ('so', 'much'): 0.06, ('authentic', 'korean'): 0.05, ('too', 'bad'): 0.03, ('really', 'flavourable'): 0.02, ('matter', 'how', 'polite'): 0.01, ('overall', 'too', 'bad'): 0.01, ('matter', 'how', 'much'): 0.01, ('usually', 'pretty', 'decent'): 0.01, ('so', 'much', 'more'): 0.01}\n",
      "y5fwt6pAKnvYOSn-xOUepA\n",
      "{('very', 'good'): 0.08, ('pretty', 'good'): 0.07, ('really', 'good'): 0.05, ('as', 'good'): 0.04, ('much', 'better'): 0.04, ('now', 'more', 'focused'): 0.01, ('pretty', 'much', 'impossible'): 0.01, ('How', 'much', 'better'): 0.01, ('little', 'less', 'expensive'): 0.01, ('actually', 'quite', 'large'): 0.01}\n",
      "XA_m9daZl2VFDA6alnkBvg\n",
      "{('very', 'friendly'): 0.07, ('always', 'fresh'): 0.06, ('pretty', 'good'): 0.06, ('very', 'clean'): 0.03, ('really', 'good'): 0.03, ('even', 'more', 'thrilled'): 0.01, ('just', 'as', 'fresh'): 0.01, ('always', 'so', 'polite'): 0.01, ('so', 'incredibly', 'happy'): 0.01, ('little', 'more', 'fresh'): 0.01}\n",
      "hXzoNgpkC86K_Jfg_zMHvA\n",
      "{('really', 'good'): 0.06, ('very', 'nice'): 0.05, ('very', 'good'): 0.05, ('very', 'friendly'): 0.04, ('so', 'good'): 0.03, ('actually', 'pretty', 'good'): 0.01, ('also', 'pretty', 'cheap'): 0.01, ('back', 'here', 'many'): 0.01, ('also', 'very', 'tasty'): 0.01}\n",
      "daqYMX3Y4QR8xl-BUlYBPw\n",
      "{('very', 'good'): 0.06, ('very', 'clean'): 0.06, ('authentic', 'Mexican'): 0.04, ('really', 'good'): 0.03, ('pretty', 'good'): 0.03, ('also', 'very', 'hot'): 0.01, ('also', 'pretty', 'cheap'): 0.01, ('almost', 'as', 'many'): 0.01, ('very', 'very', 'tasty'): 0.01, ('matter', 'how', 'busy'): 0.01}\n",
      "7e3PZzUpG5FYOTGt3O3ePA\n",
      "{('very', 'good'): 0.13, ('very', 'attentive'): 0.05, ('really', 'good'): 0.04, ('very', 'tasty'): 0.03, ('very', 'professional'): 0.03, ('really', 'just', 'more'): 0.01, ('just', 'all', 'right'): 0.01, ('already', 'pretty', 'full'): 0.01, ('also', 'very', 'apologetic'): 0.01, ('almost', 'constantly', 'apologetic'): 0.01}\n",
      "QxRKQ_Lzu4lMOejwVgcdAg\n",
      "{('very', 'good'): 0.1, ('pretty', 'good'): 0.05, ('really', 'good'): 0.04, ('so', 'bad'): 0.03, ('very', 'nice'): 0.03, ('usually', 'very', 'good'): 0.01, ('just', 'as', 'bad'): 0.01, ('also', 'both', 'great'): 0.01, ('here', 'so', 'much'): 0.01, ('even', 'more', 'generous'): 0.01}\n",
      "dOgvND5x_MKMBkqI3GvZXA\n",
      "{('super', 'friendly'): 0.05, ('very', 'good'): 0.04, ('very', 'friendly'): 0.04, ('so', 'many'): 0.04, ('old', 'municipal'): 0.03, ('still', 'pretty', 'tasty'): 0.01, ('so', 'much', 'better'): 0.01, ('almost', 'as', 'big'): 0.01, ('always', 'so', 'friendly'): 0.01, ('just', 'so', 'cool'): 0.01}\n",
      "UuO28w986H0CO_HJluQmew\n",
      "{('very', 'helpful'): 0.04, ('very', 'friendly'): 0.03, ('very', 'responsive'): 0.03, ('very', 'interested'): 0.03, ('very', 'nice'): 0.03, ('no', 'longer', 'available'): 0.02, ('also', 'very', 'helpful'): 0.02, ('very', 'very', 'quick'): 0.01, ('far', 'so', 'good'): 0.01, ('VERY', 'VERY', 'SHADY'): 0.01}\n",
      "mSqR24h_nKXyMhwtWSih3Q\n",
      "{('too', 'sweet'): 0.06, ('super', 'friendly'): 0.04, ('so', 'glad'): 0.03, ('less', 'sweet'): 0.03, ('very', 'friendly'): 0.03, ('waaay', 'too', 'sweet'): 0.01, ('also', 'extremely', 'disappointment'): 0.01, ('just', 'very', 'weak'): 0.01, ('even', 'more', 'limited'): 0.01, ('always', 'very', 'nice'): 0.01}\n",
      "pJnN5PxqFPGZW2pJWkQtzA\n",
      "{('very', 'friendly'): 0.06, ('so', 'good'): 0.05, ('pleasantly', 'surprised'): 0.04, ('very', 'good'): 0.04, ('so', 'many'): 0.04, ('kind', 'of', 'apprehensive'): 0.01, ('actually', 'pleasantly', 'surprised'): 0.01, ('so', 'pleasantly', 'surprised'): 0.01, ('always', 'very', 'polite'): 0.01, ('also', 'very', 'friendly'): 0.01}\n",
      "Jcyu0ml7rxizEA8giSH-8A\n",
      "{('very', 'good'): 0.08, ('very', 'busy'): 0.06, ('pretty', 'good'): 0.03, ('so', 'good'): 0.03, ('very', 'big'): 0.03, ('really', 'really', 'tasty'): 0.01, ('also', 'really', 'tasty'): 0.01, ('really', 'that', 'friendly'): 0.01, ('even', 'remotely', 'busy.\\\\n3'): 0.01, ('nonetheless', 'really', 'good'): 0.01}\n",
      "OjnRf8yDGEBCoUDdchSViw\n",
      "{('too', 'much'): 0.06, ('very', 'good'): 0.06, ('very', 'friendly'): 0.05, ('so', 'good'): 0.04, ('pretty', 'good'): 0.03, ('already', 'so', 'full'): 0.01, ('way', 'too', 'much'): 0.01, ('just', 'so', 'much'): 0.01, ('usually', 'too', 'big'): 0.01, ('how', 'much', 'more'): 0.01}\n",
      "iK_3WktnHa_YlbWdA0Axkw\n",
      "{('authentic', 'Korean'): 0.08, ('best', 'Korean'): 0.05, ('really', 'good'): 0.04, ('at', 'least'): 0.04, ('pretty', 'good'): 0.04, ('super', 'super', 'delicious'): 0.01, ('also', 'quite', 'authentic'): 0.01, ('also', 'very', 'happy'): 0.01, ('so', 'very', 'Korean'): 0.01, ('actually', 'pretty', 'good'): 0.01}\n",
      "zZ7KDK3GAkBUZzsaqB1A4Q\n",
      "{('very', 'friendly'): 0.06, ('very', 'clean'): 0.04, ('non', '-'): 0.04, ('pretty', 'good'): 0.03, ('so', 'friendly'): 0.03, ('far', 'too', 'expensive'): 0.01, ('Just', 'so', 'friendly'): 0.01, ('way', 'too', 'oily'): 0.01, ('also', 'super', 'easy'): 0.01, ('consistently', 'very', 'friendly'): 0.01}\n",
      "vMpJzMFst_9GP4boeqWIRg\n",
      "{('pretty', 'good'): 0.07, ('always', 'busy'): 0.05, ('so', 'many'): 0.04, ('very', 'reasonable'): 0.04, ('good', 'here'): 0.04, ('now', 'actually', 'worth'): 0.01, ('as', 'well', 'last'): 0.01, ('also', 'pretty', 'tasty'): 0.01, ('still', 'quite', 'lively'): 0.01, ('just', 'marginally', 'better'): 0.01}\n",
      "GwKq3kjkFXhbBMAwe4H3rg\n",
      "{('very', 'helpful'): 0.04, ('super', 'friendly'): 0.04, ('so', 'easy'): 0.04, ('so', 'glad'): 0.03, ('absolute', 'best'): 0.03, ('Then', 'very', 'friendly'): 0.01, ('much', 'more', 'amazing'): 0.01, ('also', 'super', 'friendly'): 0.01, ('also', 'very', 'clear'): 0.01}\n",
      "Rii85bzYKGC9P0zOyAem6A\n",
      "{('so', 'good'): 0.05, ('really', 'good'): 0.04, ('very', 'good'): 0.04, ('much', 'better'): 0.03, ('so', 'many'): 0.03, ('also', 'very', 'good'): 0.02, ('longer', 'as', 'good'): 0.01, ('so', 'damn', 'popular'): 0.01, ('pretty', 'damn', 'tasty'): 0.01, ('always', 'super', 'busy'): 0.01}\n",
      "XVDR44P_74FmA0ANanm4CQ\n",
      "{('as', 'good'): 0.09, ('pretty', 'good'): 0.08, ('very', 'good'): 0.07, ('well', 'worth'): 0.03, ('too', 'much'): 0.03, ('way', 'too', 'much'): 0.02, ('really', 'really', 'disappointing'): 0.01, ('pretty', 'well', 'full'): 0.01, ('certainly', \"isn\\\\'t\", 'great'): 0.01, ('just', 'as', 'good'): 0.01}\n",
      "4tjKsIaBXCDUP9PL82Vu_A\n",
      "{('very', 'friendly'): 0.03, ('super', 'nice'): 0.03, ('very', 'attentive'): 0.03, ('really', 'nice'): 0.02, ('completely', 'worth'): 0.02, ('just', 'as', 'pricey'): 0.01, ('kind', 'of', 'uncomfortable'): 0.01, ('way', 'too', 'pricey'): 0.01, ('twice', 'as', 'much'): 0.01, ('far', 'too', 'much'): 0.01}\n",
      "k99YNCx5KcQPR7oeTgAOzg\n",
      "{('very', 'good'): 0.06, ('much', 'better'): 0.04, ('really', 'good'): 0.03, ('always', 'good'): 0.03, ('over', 'cooked'): 0.03, ('quite', 'as', 'bad'): 0.01, ('there', 'much', 'longer'): 0.01, ('so', 'much', 'better'): 0.01, ('just', 'plain', 'mediocre'): 0.01, ('so', 'at', 'best'): 0.01}\n",
      "AktuBx1W7c3ZdzwuaOp8xg\n",
      "{('much', 'better'): 0.05, ('pretty', 'good'): 0.04, ('good', 'Chinese'): 0.04, ('very', 'nice'): 0.03, ('favorite', 'Chinese'): 0.03, ('so', 'much', 'better'): 0.01, ('entirely', 'too', 'much'): 0.01, ('personally', 'so', 'happy'): 0.01, ('just', 'as', 'bad'): 0.01, ('too', 'often', 'clichéd'): 0.01}\n",
      "xJ_L2sJN1zk3VDpZELrV_Q\n",
      "{('very', 'good'): 0.05, ('really', 'good'): 0.05, ('very', 'friendly'): 0.04, ('pretty', 'good'): 0.03, ('very', 'nice'): 0.03, ('just', 'as', 'much'): 0.01, ('Just', 'comically', 'bad'): 0.01, ('also', 'very', 'good'): 0.01, ('just', 'plain', 'gross'): 0.01, ('also', 'very', 'reasonable'): 0.01}\n",
      "IBYExgJ6jURNJOk_5uSrKg\n",
      "{('very', 'good'): 0.06, ('really', 'good'): 0.06, ('pretty', 'good'): 0.06, ('very', 'clean'): 0.05, ('pre', '-'): 0.05, (\"wasn\\\\'t\", 'very', 'good'): 0.01, ('About', 'as', 'good'): 0.01, ('pretty', 'much', 'weekly'): 0.01, ('practically', 'still', 'frozen'): 0.01, ('way', 'too', 'much'): 0.01}\n",
      "NdpvGGF4cLrdnA6ydSZz3g\n",
      "{('other', 'hot'): 0.11, ('pretty', 'good'): 0.09, ('very', 'good'): 0.06, ('very', 'fresh'): 0.04, ('very', 'clean'): 0.04, ('just', 'really', 'annoying'): 0.02, ('also', 'very', 'fun'): 0.01, ('typically', 'less', 'nice'): 0.01, ('still', 'decently', 'satisfied'): 0.01, ('even', 'more', 'superb'): 0.01}\n",
      "9Xm2GfG8Rnbb1_CmXyrm3g\n",
      "{('really', 'good'): 0.05, ('very', 'friendly'): 0.05, ('so', 'sweet'): 0.03, ('very', 'similar'): 0.03, ('so', 'good'): 0.03, ('Really', 'really', 'good'): 0.01, ('just', 'so', 'disappointed'): 0.01, ('also', 'very', 'good'): 0.01, (\"wasn\\\\'t\", 'that', 'busy'): 0.01, ('usually', 'very', 'good'): 0.01}\n",
      "8Z72HW5ydzQFydUxZglurg\n",
      "{('pretty', 'good'): 0.09, ('So', 'many'): 0.04, ('always', 'fresh'): 0.04, ('very', 'reasonable'): 0.03, ('much', 'better'): 0.03, (\"wasn\\\\'t\", 'actually', 'bad'): 0.01, ('literally', 'so', 'watered'): 0.01, ('generally', 'pretty', 'clean'): 0.01, ('always', 'well', 'stocked'): 0.01, ('certainly', 'still', 'good'): 0.01}\n",
      "Mx8jCUdhaNbMgx_04DWHdA\n",
      "{('too', 'much'): 0.05, ('really', 'good'): 0.04, ('pretty', 'good'): 0.04, ('too', 'small'): 0.03, ('antibiotic', 'free'): 0.03, ('far', 'too', 'small'): 0.01, ('kind', 'of', 'gross'): 0.01, ('how', 'surprisingly', 'good'): 0.01, ('actually', 'still', 'similar'): 0.01, ('way', 'too', 'expensive'): 0.01}\n",
      "dhBAQJLKPCI7nm3x0WjXTw\n",
      "{('really', 'good'): 0.09, ('very', 'friendly'): 0.03, ('more', 'expensive'): 0.02, ('absolutely', 'delicious'): 0.02, ('too', 'small'): 0.02, ('still', 'quite', 'salty'): 0.01, ('more', 'then', 'adequate'): 0.01, ('little', 'more', 'conscious'): 0.01, ('So', 'damn', 'good'): 0.01, ('just', 'extremely', 'disappointed'): 0.01}\n",
      "XGaa9NDCwOJ9v0Cj55p28w\n",
      "{('pre', '-'): 0.04, ('pretty', 'good'): 0.03, ('very', 'nice'): 0.03, ('back', 'next'): 0.03, ('much', 'more'): 0.02, ('Much', 'more', 'affordable'): 0.02, ('at', 'all', 'exciting'): 0.01, ('much', 'more', 'packed'): 0.01, ('sort', 'of', 'stuck'): 0.01, ('actually', 'very', 'nice'): 0.01}\n",
      "R43QH4FqHOOJapm5TaCEVg\n",
      "{('very', 'clean'): 0.08, ('very', 'quiet'): 0.05, ('very', 'helpful'): 0.04, ('very', 'nice'): 0.04, ('very', 'friendly'): 0.03, ('indeed', 'very', 'spacious'): 0.01, ('somewhere', 'more', 'appropriate'): 0.01, ('also', 'very', 'relaxing'): 0.01, ('also', 'very', 'quiet'): 0.01, ('all', 'quite', 'nice'): 0.01}\n",
      "NnxwkiBvSSyKeFiez0DDcQ\n",
      "{('very', 'helpful'): 0.05, ('too', 'much'): 0.04, ('very', 'nice'): 0.04, ('so', 'much'): 0.03, ('very', 'friendly'): 0.03, ('quite', 'as', 'large'): 0.02, ('way', 'too', 'much'): 0.02, ('oddly', 'always', 'empty'): 0.01, ('much', 'more', 'pleasant'): 0.01, ('nearly', 'as', 'bad'): 0.01}\n",
      "-7XWJYkutqhIxLen7Grg1g\n",
      "{('so', 'good'): 0.06, ('very', 'nice'): 0.04, ('too', 'much'): 0.04, ('really', 'good'): 0.04, ('much', 'better'): 0.04, ('bit', 'too', 'much'): 0.01, ('surprisingly', 'quite', 'fast'): 0.01, ('also', 'slightly', 'cheaper'): 0.01, ('usually', 'pretty', 'busy'): 0.01, ('always', 'extremely', 'fresh'): 0.01}\n",
      "vxuyl9IVum8zngXgvbT4Jg\n",
      "{('really', 'good'): 0.07, ('very', 'good'): 0.03, ('pretty', 'good'): 0.03, ('good', 'too'): 0.03, ('so', 'thin'): 0.02, ('also', 'extremely', 'crispy'): 0.01, ('pretty', 'much', 'addicted'): 0.01, ('always', 'very', 'quick'): 0.01, ('there', 'very', 'impressed'): 0.01, ('nearly', 'as', 'good'): 0.01}\n",
      "GUsYtGG557XKlHaMH87erg\n",
      "{('pretty', 'good'): 0.06, ('very', 'good'): 0.06, ('so', 'good'): 0.04, ('really', 'good'): 0.04, ('really', 'bad'): 0.03, ('so', 'much', 'better'): 0.01, ('much', 'much', 'better'): 0.01, ('also', 'really', 'good'): 0.01, ('more', 'extraordinarily', 'affordable'): 0.01, ('way', 'too', 'big'): 0.01}\n",
      "x_4gEfC25uiX21NyYdohgQ\n",
      "{('really', 'good'): 0.05, ('pretty', 'good'): 0.05, ('typical', 'Chinese'): 0.04, ('very', 'low'): 0.03, ('very', 'good'): 0.03, ('just', 'very', 'hungry'): 0.01, ('way', 'too', 'high'): 0.01, ('just', 'about', 'perfect'): 0.01, ('very', 'very', 'cheery'): 0.01, ('even', 'remotely', 'low'): 0.01}\n",
      "NV5Q8ZhDSh_oI8ZOnn72Lw\n",
      "{('really', 'good'): 0.07, ('pretty', 'good'): 0.05, ('very', 'good'): 0.04, ('so', 'good'): 0.03, ('really', 'tasty'): 0.03, ('actually', 'very', 'hot'): 0.02, ('even', 'more', 'excited'): 0.01, ('just', 'plain', 'good'): 0.01, ('so', 'so', 'sad'): 0.01, ('really', 'too', 'good'): 0.01}\n",
      "3kUqNxO1rkDDb89GAfyNgw\n",
      "{('very', 'relaxing'): 0.06, ('very', 'professional'): 0.04, ('very', 'good'): 0.04, ('very', 'friendly'): 0.04, ('super', 'friendly'): 0.03, ('personally', 'very', 'pleasant'): 0.01, ('significantly', 'less', 'clinical'): 0.01, ('much', 'more', 'reasonable'): 0.01, ('technically', 'very', 'good'): 0.01, (\"wasn\\\\'t\", 'very', 'relaxing'): 0.01}\n",
      "PyMcV7WSYVqg1_S29G109g\n",
      "{('still', 'dirty'): 0.03, ('wide', 'open'): 0.02, ('pretty', 'good'): 0.02, ('most', 'charitable'): 0.02, ('so', 'many'): 0.02, ('so', 'much', 'better'): 0.01, ('even', 'remotely', 'close'): 0.01, ('Overall', 'pretty', 'good'): 0.01, ('Very', 'very', 'poor'): 0.01, ('very', 'very', 'SHADY'): 0.01}\n",
      "RyaCGkXRXxXNeJhbnioz1Q\n",
      "{('very', 'friendly'): 0.03, ('pretty', 'good'): 0.03, ('always', 'clean'): 0.03, ('white', 'hot'): 0.03, ('no', 'different'): 0.02, ('that', 'much', 'worse'): 0.02, ('just', 'too', 'snotty'): 0.01, ('actually', 'pretty', 'good'): 0.01, ('way', 'too', 'long'): 0.01, ('always', 'very', 'friendly'): 0.01}\n",
      "cPzIic1AqH1ApTVVaww5hw\n",
      "{('pretty', 'good'): 0.08, ('too', 'much'): 0.07, ('non', '-'): 0.04, ('really', 'good'): 0.03, ('-', 'sushi'): 0.03, ('just', 'much', 'worse'): 0.01, ('very', 'much', 'appreciated'): 0.01, ('even', 'that', 'close'): 0.01, ('actually', 'really', 'good'): 0.01, ('how', 'much', 'more'): 0.01}\n",
      "JTo0oS3iiMl6UPWA6aI8SQ\n",
      "{('pretty', 'good'): 0.05, ('how', 'good'): 0.03, ('overly', 'salty'): 0.02, ('so', 'good'): 0.02, ('pretty', 'big'): 0.02, ('matter', 'how', 'good'): 0.01, ('generally', 'pretty', 'good'): 0.01, ('about', 'as', 'good'): 0.01, ('still', 'oddly', 'satisfying'): 0.01, ('overly', 'overly', 'salty'): 0.01}\n",
      "spDZkD6cp0JUUm6ghIWHzA\n",
      "{('pretty', 'good'): 0.04, ('pretty', 'big'): 0.03, ('too', 'special'): 0.02, ('so', 'little'): 0.02, ('really', 'good'): 0.02, ('also', 'pretty', 'decent'): 0.01, ('so', 'so', 'many'): 0.01, ('always', 'so', 'welcoming'): 0.01, ('quite', 'exactly', 'fit'): 0.01, ('still', 'super', 'flavourful'): 0.01}\n",
      "oICXzFAaUMrYGzjRWmkw4Q\n",
      "{('really', 'good'): 0.04, ('other', 'Vietnamese'): 0.04, ('best', 'Vietnamese'): 0.03, ('very', 'tasty'): 0.02, ('Very', 'tasty'): 0.02, ('actually', 'so', 'full'): 0.01, ('sort', 'of', 'frightening'): 0.01, ('many', 'more', 'special'): 0.01, ('really', 'really', 'good'): 0.01, ('also', 'very', 'tasty'): 0.01}\n",
      "yEZn1XpLsEC9uBa-X4xAZw\n",
      "{('as', 'good'): 0.05, ('very', 'good'): 0.05, ('pre', '-'): 0.05, ('so', 'good'): 0.04, ('too', 'sweet'): 0.04, ('way', 'too', 'sweet'): 0.02, ('little', 'more', 'long'): 0.02, ('also', 'so', 'fresh'): 0.01, ('just', 'as', 'good'): 0.01, ('still', 'very', 'sad'): 0.01}\n",
      "JqBtQ1bSynPHE9gbyuSSvA\n",
      "{('very', 'good'): 0.11, ('really', 'good'): 0.06, ('pretty', 'good'): 0.05, ('so', 'many'): 0.05, ('very', 'nice'): 0.04, ('just', 'about', 'right'): 0.01, ('far', 'too', 'willing'): 0.01, ('far', 'too', 'overpriced'): 0.01, ('just', 'as', 'disappointed'): 0.01, ('Maybe', 'even', 'worse'): 0.01}\n",
      "QaFO4S6HFUu2NIbeu4OwCg\n",
      "{('very', 'professional'): 0.07, ('very', 'helpful'): 0.04, ('so', 'many'): 0.03, ('so', 'much'): 0.02, ('so', 'happy'): 0.02, ('all', 'extremely', 'courteous'): 0.01, ('so', 'much', 'easier'): 0.01, ('sometimes', 'pretty', 'long'): 0.01, ('at', 'all', 'pushy'): 0.01, ('somewhat', 'rant', 'free'): 0.01}\n",
      "IB_aESRBh2cmYWSF6Fv0jQ\n",
      "{('very', 'knowledgeable'): 0.03, ('very', 'unprofessional'): 0.03, ('very', 'short'): 0.03, ('much', 'better'): 0.02, ('most', 'expensive'): 0.02, ('just', 'plain', 'greedy'): 0.01, ('very', 'very', 'knowledgeable'): 0.01, ('at', 'all', 'happy'): 0.01}\n",
      "Ai-GviVpPlti74NtM8y9QQ\n",
      "{('so', 'many'): 0.04, ('really', 'cool'): 0.02, ('so', 'much'): 0.02, ('very', 'cold'): 0.02, ('too', 'loud'): 0.02, ('even', 'better', 'happy'): 0.01, ('just', 'as', 'many'): 0.01, ('all', 'so', 'understandable'): 0.01, ('sure', 'how', 'loud'): 0.01, ('So', 'ridiculously', 'excited'): 0.01}\n",
      "IUMyUYOIR9UQ7XGIEQKOuA\n",
      "{('very', 'good'): 0.06, ('much', 'better'): 0.04, ('pretty', 'sure'): 0.03, ('as', 'good'): 0.03, ('how', 'good'): 0.02, ('just', 'so', 'ghetto'): 0.01, ('no', 'longer', 'available'): 0.01, ('kind', 'of', 'iffy'): 0.01, ('much', 'more', 'reasonable'): 0.01, ('very', 'very', 'salty'): 0.01}\n",
      "TrwniH-1-Jo_MNNDW2zMkA\n",
      "{('how', 'much'): 0.06, ('very', 'friendly'): 0.04, ('single', 'hard'): 0.04, ('very', 'vague'): 0.03, ('very', 'good'): 0.03, ('too', 'damn', 'lazy'): 0.01, ('somewhere', 'else', 'next'): 0.01, ('kind', 'of', 'panicked'): 0.01, ('experience-', 'much', 'appreciated'): 0.01, ('maybe', 'even', 'better'): 0.01}\n",
      "w5LUtmw4G1KD7qAntqGd9w\n",
      "{('so', 'good'): 0.04, ('sure', 'why'): 0.03, ('pretty', 'quick'): 0.02, ('pretty', 'good'): 0.02, ('too', 'much'): 0.02, ('way', 'too', 'much'): 0.01, ('way', 'too', 'watery'): 0.01, ('surprisingly', 'very', 'satisfying'): 0.01, ('so', 'much', 'more'): 0.01, ('just', 'as', 'good'): 0.01}\n",
      "rZrhB-arwsFOLFVXzKvB6A\n",
      "{('very', 'friendly'): 0.05, ('other', 'fast'): 0.04, ('at', 'least'): 0.02, ('Always', 'friendly'): 0.02, ('very', 'good'): 0.02, ('still', 'very', 'long'): 0.01, ('also', 'much', 'cleaner'): 0.01, ('never', 'as', 'good'): 0.01, ('also', 'very', 'good'): 0.01, ('possibly', 'extremely', 'unnecessary'): 0.01}\n",
      "p6FPcgLymnpk_gAyQuW_Mw\n",
      "{('really', 'good'): 0.05, ('so', 'good'): 0.05, ('open', 'late'): 0.03, ('amazing', 'Mexican'): 0.03, ('best', 'Mexican'): 0.03, ('only', 'insanely', 'delicious'): 0.01, ('matter', 'how', 'busy'): 0.01, ('just', 'as', 'Consistant'): 0.01, ('kind', 'of', 'scary'): 0.01, ('also', 'pleasantly', 'surprised'): 0.01}\n",
      "IT8amJTTW64XAre4ilKcjg\n",
      "{('very', 'clean'): 0.07, ('so', 'glad'): 0.05, ('super', 'friendly'): 0.03, ('very', 'nice'): 0.02, ('too', 'crowded'): 0.02, ('just', 'so', 'appreciated'): 0.01, ('kind', 'of', 'cold'): 0.01, ('kind', 'of', 'industrial'): 0.01, ('either', 'pretty', 'wonderful'): 0.01, ('also', 'very', 'attentive'): 0.01}\n",
      "mZEj6ggkh2l2QlbCJACaYw\n",
      "{('open', 'late'): 0.11, ('very', 'nice'): 0.07, ('absolutely', 'amazing'): 0.05, ('super', 'clean'): 0.05, ('very', 'relaxing'): 0.04, ('so', 'so', 'amazing'): 0.01, ('waaay', 'too', 'much'): 0.01, ('always', 'so', 'friendly'): 0.01, ('Very', 'nice', 'clean'): 0.01, ('just', 'very', 'upset'): 0.01}\n",
      "0Rni7ocMC_Lg2UH0lDeKMQ\n",
      "{('pretty', 'good'): 0.06, ('really', 'good'): 0.03, ('as', 'good'): 0.03, ('pretty', 'tasty'): 0.02, ('Very', 'disappointing'): 0.02, ('also', 'really', 'inconsistent'): 0.01, ('back', 'almost', 'weekly'): 0.01, ('all', 'around', 'worst'): 0.01, ('always', 'so', 'nice'): 0.01, ('kind', 'of', 'annoying'): 0.01}\n",
      "AT-og6IROn0hJt-HR5Njlw\n",
      "{('very', 'good'): 0.15, ('really', 'good'): 0.07, ('medium', 'rare'): 0.07, ('very', 'nice'): 0.06, ('much', 'better'): 0.04, ('honestly', 'completely', 'unnecessary'): 0.01, ('much', 'much', 'better'): 0.01, ('why', 'so', 'many'): 0.01, ('also', 'very', 'great'): 0.01, ('kind', 'of', 'funky'): 0.01}\n",
      "kAmNIcJpAZIZIp5uSMAYLA\n",
      "{('very', 'nice'): 0.06, ('so', 'many'): 0.06, ('only', 'good'): 0.05, ('so', 'bad'): 0.03, ('how', 'much'): 0.03, ('so', 'much', 'more'): 0.02, ('all', 'completely', 'rude'): 0.01, ('just', 'as', 'bad'): 0.01, ('so', 'utterly', 'inept'): 0.01, ('THATS', 'how', 'close'): 0.01}\n",
      "paCgjLEUEVM38VZ6Sjghgg\n",
      "{('very', 'friendly'): 0.04, ('really', 'funny'): 0.04, ('pretty', 'good'): 0.04, ('pretty', 'small'): 0.03, ('very', 'small'): 0.03, ('very', 'slightly', 'different'): 0.01, ('all', 'pretty', 'funny'): 0.01, ('even', 'that', 'comfortable'): 0.01, ('kind', 'of', 'confusing'): 0.01, ('also', 'absolutely', 'freezing'): 0.01}\n",
      "xVpE01l6ZXdEtVf5PkRpDg\n",
      "{('very', 'good'): 0.1, ('really', 'good'): 0.09, ('pretty', 'good'): 0.06, ('so', 'good'): 0.05, ('really', 'nice'): 0.04, ('still', 'very', 'good'): 0.01, ('really', 'reasonable.\\\\n\\\\nThe', 'second'): 0.01, ('still', 'certainly', 'better'): 0.01, ('more', 'authentically', 'Southern'): 0.01, ('so', 'much', 'good'): 0.01}\n",
      "zPEYgVqJ2QNKi45FJi2jvg\n",
      "{('very', 'good'): 0.07, ('really', 'good'): 0.07, ('too', 'much'): 0.03, ('very', 'attentive'): 0.03, ('super', 'nice'): 0.03, ('entirely', 'too', 'much'): 0.02, ('all', 'about', 'right'): 0.02, ('way', 'over', 'cooked'): 0.01, ('really', 'over', 'cooked'): 0.01, ('kind', 'of', 'odd'): 0.01}\n",
      "tD7_aIUTlfzyMoMkXXwiZA\n",
      "{('too', 'much'): 0.06, ('very', 'good'): 0.06, ('really', 'good'): 0.05, ('so', 'much'): 0.05, ('pleasantly', 'surprised'): 0.03, ('also', 'very', 'good'): 0.03, ('Just', 'too', 'much'): 0.01, ('just', 'really', 'good'): 0.01, ('just', 'too', 'much'): 0.01, ('very', 'likely', 'understaffed'): 0.01}\n",
      "1Fpk8ibHhZYnCw8fnGny8w\n",
      "{('Latin', 'American'): 0.07, ('very', 'good'): 0.06, ('really', 'good'): 0.04, ('very', 'attentive'): 0.04, ('very', 'tasty'): 0.04, ('still', 'pretty', 'awesome'): 0.01, ('just', 'as', 'impressive'): 0.01, ('kind', 'of', 'small'): 0.01, ('much', 'more', 'enjoyable'): 0.01, ('also', 'very', 'good'): 0.01}\n",
      "shIPnFoXrL3dFo5HLH1_HA\n",
      "{('very', 'picky'): 0.05, ('very', 'clean'): 0.04, ('so', 'glad'): 0.04, ('really', 'sweet'): 0.03, ('so', 'good'): 0.03, ('Also', 'really', 'great'): 0.01, ('always', 'very', 'gentle'): 0.01, ('as', 'quite', 'sketchy'): 0.01, ('over', 'so', 'quick'): 0.01, ('also', 'very', 'picky'): 0.01}\n",
      "wea6RrHSIheIjU_kUJVa4Q\n",
      "{('very', 'rude'): 0.04, ('very', 'nice'): 0.03, ('so', 'rude'): 0.03, ('very', 'rough'): 0.02, ('very', 'friendly'): 0.02, ('twice', 'as', 'long'): 0.01, ('also', 'never', 'consistent'): 0.01, ('sometimes', 'very', 'busy'): 0.01, ('typically', 'really', 'good'): 0.01, ('almost', 'always', 'different'): 0.01}\n",
      "IzcL0KZPKqMbjoIaCmClog\n",
      "{('very', 'friendly'): 0.04, ('very', 'nice'): 0.03, ('super', 'nice'): 0.02, ('well', 'regulated'): 0.02, ('very', 'organized'): 0.02, ('kind', 'of', 'anal'): 0.01, ('back', 'very', 'pleased'): 0.01, ('so', 'much', 'easier'): 0.01, ('extremely', 'well', 'organized'): 0.01, ('Very', 'very', 'awesome'): 0.01}\n",
      "hM48axj9twnf7A6a5f8cjA\n",
      "{('very', 'good'): 0.11, ('really', 'good'): 0.08, ('very', 'nice'): 0.07, ('pretty', 'good'): 0.06, ('very', 'reasonable'): 0.04, ('also', 'very', 'engaging'): 0.01, ('nearly', 'as', 'good'): 0.01, ('just', 'as', 'excellent'): 0.01, ('little', 'more', 'critical'): 0.01, ('way', 'too', 'much'): 0.01}\n",
      "--I7YYLada0tSLkORTHb5Q\n",
      "{('pretty', 'good'): 0.09, ('very', 'good'): 0.08, ('really', 'good'): 0.07, ('very', 'friendly'): 0.04, ('very', 'pleased'): 0.03, ('also', 'very', 'good'): 0.02, ('away', 'very', 'pleased'): 0.01, ('surprisingly', 'pretty', 'darn'): 0.01, ('also', 'really', 'good'): 0.01, ('most', 'often', 'good'): 0.01}\n",
      "yHHVKa9joZAKiBDUp2SkKw\n",
      "{('very', 'good'): 0.05, ('very', 'friendly'): 0.04, ('so', 'excited'): 0.03, ('really', 'good'): 0.03, ('very', 'nice'): 0.03, ('also', 'pretty', 'inexpensive'): 0.01, ('Very', 'much', 'appreciated'): 0.01, ('toddy!\\\\nAlso', 'really', 'good'): 0.01, ('just', 'too', 'good'): 0.01, ('just', 'very', 'bland'): 0.01}\n",
      "etzDsNjkCyQBoJcU2a3U-g\n",
      "{('very', 'nice'): 0.07, ('very', 'busy'): 0.04, ('very', 'attentive'): 0.04, ('too', 'busy'): 0.03, ('very', 'good'): 0.03, ('never', 'really', 'busy'): 0.01, ('always', 'so', 'friendly'): 0.01, ('never', 'too', 'busy'): 0.01, ('never', 'quite', 'yolky'): 0.01, ('usually', 'too', 'bad'): 0.01}\n",
      "I6MRD0JkDDa74TbVOJ1ykw\n",
      "{('very', 'nice'): 0.05, ('very', 'friendly'): 0.05, ('pretty', 'good'): 0.03, ('really', 'good'): 0.02, ('at', 'least'): 0.02, ('always', 'very', 'good'): 0.02, ('in', 'there', 'most'): 0.01, ('always', 'very', 'nice'): 0.01, ('very', 'very', 'smart'): 0.01, ('kind', 'of', 'disappointed'): 0.01}\n",
      "suJ-eo5Gkvcg0iXVQw4RyA\n",
      "{('very', 'nice'): 0.08, ('very', 'friendly'): 0.06, ('really', 'nice'): 0.05, ('very', 'good'): 0.05, ('much', 'better'): 0.05, ('of', 'too', 'big'): 0.01, ('now', 'so', 'modern'): 0.01, ('all', 'that', 'amazing'): 0.01, ('Really', 'really', 'poor'): 0.01, ('just', 'awfully', 'bad'): 0.01}\n",
      "VWb8gk_DKUCDKw3Xsdq8Jg\n",
      "{('very', 'good'): 0.07, ('very', 'friendly'): 0.05, ('too', 'busy'): 0.04, ('little', 'more'): 0.03, ('too', 'small'): 0.03, ('really', 'very', 'good'): 0.01, ('usually', 'really', 'good'): 0.01, (\"wasn\\\\'t\", 'too', 'busy'): 0.01, ('sort', 'of', 'pricey'): 0.01, ('entirely', 'too', 'long'): 0.01}\n",
      "uhyDNWYRSsom3VrFgOgP_w\n",
      "{('very', 'good'): 0.04, ('Very', 'nice'): 0.04, ('very', 'friendly'): 0.04, ('pretty', 'good'): 0.04, ('very', 'helpful'): 0.03, ('kind', 'of', 'hidden'): 0.01, ('little', 'less', 'healthy'): 0.01, ('just', 'as', 'mediocre'): 0.01, ('way', 'too', 'much'): 0.01}\n",
      "nN1MXnHFzZh9snkMmdhYrg\n",
      "{('very', 'friendly'): 0.07, ('pretty', 'easy'): 0.04, ('extremely', 'rude'): 0.03, ('much', 'better'): 0.03, ('blow', 'dry'): 0.03, ('even', 'more', 'beautiful'): 0.01, ('so', 'much', 'healthier'): 0.01, ('way', 'too', 'loud'): 0.01, ('so', 'extremely', 'rude'): 0.01, ('so', 'much', 'better'): 0.01}\n",
      "SYExIal3fh3mS3kpoP9Ixg\n",
      "{('too', 'sweet'): 0.07, ('so', 'rich'): 0.03, ('much', 'better'): 0.03, ('very', 'nice'): 0.03, ('how', 'good'): 0.02, ('way', 'TOO', 'MUCH'): 0.01, ('almost', 'always', 'good'): 0.01, ('so', 'much', 'better'): 0.01, ('way', 'too', 'cold'): 0.01, ('Usually', 'super', 'busy'): 0.01}\n",
      "XuZ9pksVQBIpmVQm6UO2YQ\n",
      "{('pretty', 'good'): 0.06, ('very', 'good'): 0.06, ('so', 'good'): 0.05, ('quite', 'impressed'): 0.04, ('very', 'tasty'): 0.04, ('just', 'too', 'weird'): 0.02, ('much', 'more', 'varied'): 0.01, ('so', 'much', 'better'): 0.01, ('very', 'much', 'worth'): 0.01, ('maybe', 'too', 'light'): 0.01}\n",
      "pYJtM8BaRUwNg3hkO3v2sQ\n",
      "{('pretty', 'good'): 0.03, ('very', 'friendly'): 0.03, ('too', 'much'): 0.03, ('very', 'small'): 0.03, ('always', 'friendly'): 0.03, ('never', 'too', 'crowded'): 0.01, ('much', 'more', 'expansive'): 0.01, ('just', 'plain', 'white'): 0.01, ('all', 'pretty', 'decent'): 0.01, ('no', 'longer', 'available'): 0.01}\n",
      "TbkyrVi1b90cZS-rUtnvHA\n",
      "{('very', 'nice'): 0.04, ('how', 'much'): 0.03, ('really', 'bad'): 0.02, ('most', 'recent'): 0.02, ('most', 'knowledgeable'): 0.02, ('only', 'super', 'helpful'): 0.01, ('also', 'very', 'nice'): 0.01, ('also', 'extremely', 'knowledgeable'): 0.01, ('at', 'all', 'interested'): 0.01, ('all', 'incredibly', 'helpful'): 0.01}\n",
      "NRAmrbIGgXgH5uYv8GGJ5A\n",
      "{('very', 'good'): 0.13, ('very', 'happy'): 0.03, ('very', 'helpful'): 0.03, ('very', 'attentive'): 0.03, ('very', 'impressed'): 0.03, ('just', 'fine', 'other'): 0.01, ('way', 'too', 'high'): 0.01, ('also', 'very', 'good'): 0.01, ('so', 'much', 'more'): 0.01, ('almost', 'always', 'busy'): 0.01}\n",
      "Gr_TkW3iFdgahixONGBsww\n",
      "{('very', 'nice'): 0.11, ('very', 'comfortable'): 0.05, ('very', 'clean'): 0.03, ('very', 'friendly'): 0.03, ('very', 'good'): 0.03, ('Sometimes', 'too', 'edgy'): 0.01, ('much', 'more', 'expensive'): 0.01, ('most', 'importantly', 'FAST'): 0.01, ('just', 'as', 'nice'): 0.01, ('kind', 'of', 'surprised'): 0.01}\n",
      "793LPDn8axywoOANbDeAZw\n",
      "{('so', 'good'): 0.06, ('really', 'good'): 0.05, ('too', 'much'): 0.03, ('very', 'friendly'): 0.03, ('always', 'great'): 0.02, ('way', 'too', 'much'): 0.02, ('always', 'too', 'busy'): 0.01, ('still', 'too', 'much'): 0.01, ('still', 'too', 'high'): 0.01, ('little', 'more', 'cheerful'): 0.01}\n",
      "2xrpo-LXV9uGIwpvy0dwUw\n",
      "{('even', 'worse'): 0.03, ('still', 'dirty'): 0.03, ('free', 'when'): 0.03, ('very', 'thorough'): 0.02, ('very', 'friendly'): 0.02, ('generally', 'pretty', 'helpful'): 0.01, ('all', 'sparkly', 'clean'): 0.01, ('already', 'pretty', 'clean'): 0.01, ('usually', 'pretty', 'satisfied'): 0.01, ('matter', 'how', 'many'): 0.01}\n",
      "aDHD7nASfqiQBB6YXy2aGA\n",
      "{('so', 'good'): 0.06, ('really', 'good'): 0.05, ('as', 'good'): 0.03, ('too', 'much'): 0.02, ('as', 'cheap'): 0.02, ('basically', 'as', 'good'): 0.01, ('always', 'so', 'good'): 0.01, ('always', 'extremely', 'pleasant'): 0.01, ('still', 'really', 'good'): 0.01, ('kind', 'of', 'gross'): 0.01}\n"
     ]
    }
   ],
   "source": [
    "#print out the result to check \n",
    "for key in selected:\n",
    "    print(key)\n",
    "    print(selected[key])"
   ]
  },
  {
   "cell_type": "markdown",
   "id": "b1365635",
   "metadata": {},
   "source": [
    "# Analysis"
   ]
  },
  {
   "cell_type": "code",
   "execution_count": 57,
   "id": "70661d1c",
   "metadata": {},
   "outputs": [],
   "source": [
    "#getting the selected store's result for analysis\n",
    "frequency_result_top_5_key_list = list(frequency_result_top_5)\n",
    "frequency_result_top_5_value_list = list(frequency_result_top_5.values())\n"
   ]
  },
  {
   "cell_type": "code",
   "execution_count": 73,
   "id": "e2bf5f91",
   "metadata": {},
   "outputs": [
    {
     "name": "stdout",
     "output_type": "stream",
     "text": [
      "For business  rubyBEGXLBLU_JAuEtKEuw\n",
      "The first adjective phrase is: ('so', 'happy')\n",
      "\n",
      "Its comparison with the rest of the stores is as follows: \n",
      "\n",
      "============== Other stores ==============\n",
      "Store: a4GRh1TlOVhPD401mSPLZg| Probability:  0.06\n",
      "Store: rubyBEGXLBLU_JAuEtKEuw| Probability:  0.04\n",
      "Store: QaFO4S6HFUu2NIbeu4OwCg| Probability:  0.02\n"
     ]
    }
   ],
   "source": [
    "#check the selected store's 1st review and compare its probs with the rest of the stores\n",
    "print(\"For business \",selected_id)\n",
    "phrase_1 = frequency_result_top_5_key_list[0]\n",
    "prob_1 = frequency_result_top_5_value_list[0]\n",
    "print(\"The first adjective phrase is:\",phrase_1)\n",
    "print()\n",
    "print(\"Its comparison with the rest of the stores is as follows: \\n\")\n",
    "print(\"============== Other stores ==============\")\n",
    "\n",
    "for key in selected:\n",
    "    values = selected[key]\n",
    "    for value in values:\n",
    "        if(value == phrase_1):\n",
    "            print(\"Store: \"+ key + \"| Probability: \", selected[key][value])\n",
    "            if(float(prob_1) - selected[key][value]) >= 0.03:\n",
    "                print(\"******* There is a big difference *******\")"
   ]
  },
  {
   "cell_type": "code",
   "execution_count": 102,
   "id": "b8b1e242",
   "metadata": {},
   "outputs": [
    {
     "name": "stdout",
     "output_type": "stream",
     "text": [
      "For business  rubyBEGXLBLU_JAuEtKEuw\n",
      "The first adjective phrase is: ('so', 'happy')\n",
      "\n",
      "Its comparison with the rest of the stores is as follows: \n",
      "\n",
      "============== Other stores ==============\n",
      "12.0\n",
      "The store's probability is: 0.04\n",
      "The phrase's overall probability is: 0.000784313725490196\n"
     ]
    }
   ],
   "source": [
    "#check the selected store's 1st review and compare its probs with the rest of the stores\n",
    "print(\"For business \",selected_id)\n",
    "phrase_1 = frequency_result_top_5_key_list[0]\n",
    "prob_1 = frequency_result_top_5_value_list[0]\n",
    "print(\"The first adjective phrase is:\",phrase_1)\n",
    "print()\n",
    "print(\"Its comparison with the rest of the stores is as follows: \\n\")\n",
    "print(\"============== Other stores ==============\")\n",
    "\n",
    "count_1 = 0\n",
    "for key in selected:\n",
    "    values = selected[key]\n",
    "    for value in values:\n",
    "        if(value == phrase_1):\n",
    "            count_1 += (selected[key][value]*100)\n",
    "print(count_1)\n",
    "overall_prob_1 = count_1/15300\n",
    "print(\"The store's probability is:\", prob_1)\n",
    "print(\"The phrase's overall probability is:\",overall_prob_1)"
   ]
  },
  {
   "cell_type": "code",
   "execution_count": 103,
   "id": "ab21187d",
   "metadata": {},
   "outputs": [
    {
     "name": "stdout",
     "output_type": "stream",
     "text": [
      "For business  rubyBEGXLBLU_JAuEtKEuw\n",
      "The second adjective phrase is: ('so', 'beautiful')\n",
      "\n",
      "Its comparison with the rest of the stores is as follows: \n",
      "\n",
      "============== Other stores ==============\n"
     ]
    }
   ],
   "source": [
    "#check the selected store's 2nd review and compare its probs with the rest of the stores\n",
    "\n",
    "print(\"For business \",selected_id)\n",
    "phrase_2 = frequency_result_top_5_key_list[1]\n",
    "prob_2 = frequency_result_top_5_value_list[1]\n",
    "print(\"The second adjective phrase is:\",phrase_2)\n",
    "print()\n",
    "print(\"Its comparison with the rest of the stores is as follows: \\n\")\n",
    "print(\"============== Other stores ==============\")\n",
    "\n",
    "for key in selected:\n",
    "    values = selected[key]\n",
    "    if key == selected_id:\n",
    "        continue\n",
    "    for value in values:\n",
    "        if(value == phrase_2):\n",
    "            print(\"Store: \"+ key + \"| Probability: \", selected[key][value])\n",
    "            if(float(prob_2) - selected[key][value]) >= 0.03:\n",
    "                print(\"******* There is a big difference *******\")"
   ]
  },
  {
   "cell_type": "code",
   "execution_count": 84,
   "id": "cbd70f3e",
   "metadata": {},
   "outputs": [
    {
     "name": "stdout",
     "output_type": "stream",
     "text": [
      "For business  rubyBEGXLBLU_JAuEtKEuw\n",
      "The second adjective phrase is: ('so', 'beautiful')\n",
      "\n",
      "Its comparison with the rest of the stores is as follows: \n",
      "\n",
      "============== Other stores ==============\n",
      "3.0\n",
      "The store's probability is: 0.03\n",
      "The phrase's overall probability is: 0.000392156862745098\n"
     ]
    }
   ],
   "source": [
    "#check the selected store's 2nd review and compare its probs with the rest of the stores\n",
    "\n",
    "print(\"For business \",selected_id)\n",
    "phrase_2 = frequency_result_top_5_key_list[1]\n",
    "prob_2 = frequency_result_top_5_value_list[1]\n",
    "print(\"The second adjective phrase is:\",phrase_2)\n",
    "print()\n",
    "print(\"Its comparison with the rest of the stores is as follows: \\n\")\n",
    "print(\"============== Other stores ==============\")\n",
    "\n",
    "count_2 = 0\n",
    "for key in selected:\n",
    "    values = selected[key]\n",
    "    for value in values:\n",
    "        if(value == phrase_2):\n",
    "            count_2 += (selected[key][value]*100)\n",
    "\n",
    "print(count_2)\n",
    "overall_prob_2 = count_2/15300\n",
    "print(\"The store's probability is:\", prob_2)\n",
    "print(\"The phrase's overall probability is:\",overall_prob_2)"
   ]
  },
  {
   "cell_type": "code",
   "execution_count": 104,
   "id": "adba21a0",
   "metadata": {},
   "outputs": [
    {
     "name": "stdout",
     "output_type": "stream",
     "text": [
      "For business  rubyBEGXLBLU_JAuEtKEuw\n",
      "The third adjective phrase is: ('how', 'beautiful')\n",
      "\n",
      "Its comparison with the rest of the stores is as follows: \n",
      "\n",
      "============== Other stores ==============\n"
     ]
    }
   ],
   "source": [
    "#check the selected store's 3rd review and compare its probs with the rest of the stores\n",
    "\n",
    "print(\"For business \",selected_id)\n",
    "phrase_3 = frequency_result_top_5_key_list[2]\n",
    "prob_3 = frequency_result_top_5_value_list[2]\n",
    "print(\"The third adjective phrase is:\",phrase_3)\n",
    "print()\n",
    "print(\"Its comparison with the rest of the stores is as follows: \\n\")\n",
    "print(\"============== Other stores ==============\")\n",
    "\n",
    "for key in selected:\n",
    "    values = selected[key]\n",
    "    if key == selected_id:\n",
    "        continue\n",
    "    for value in values:\n",
    "        if(value == phrase_3):\n",
    "            print(\"Store: \"+ key + \"| Probability: \", selected[key][value])\n",
    "            if(float(prob_3) - selected[key][value]) >= 0.03:\n",
    "                print(\"******* There is a big difference *******\")"
   ]
  },
  {
   "cell_type": "code",
   "execution_count": 99,
   "id": "f81cceca",
   "metadata": {},
   "outputs": [
    {
     "name": "stdout",
     "output_type": "stream",
     "text": [
      "For business  rubyBEGXLBLU_JAuEtKEuw\n",
      "The third adjective phrase is: ('how', 'beautiful')\n",
      "\n",
      "Its comparison with the rest of the stores is as follows: \n",
      "\n",
      "============== Other stores ==============\n",
      "3.0\n",
      "The store's probability is: 0.03\n",
      "The phrase's overall probability is: 0.000196078431372549\n"
     ]
    }
   ],
   "source": [
    "#check the selected store's 3rd review and compare its probs with the rest of the stores\n",
    "\n",
    "print(\"For business \",selected_id)\n",
    "phrase_3 = frequency_result_top_5_key_list[2]\n",
    "prob_3 = frequency_result_top_5_value_list[2]\n",
    "print(\"The third adjective phrase is:\",phrase_3)\n",
    "print()\n",
    "print(\"Its comparison with the rest of the stores is as follows: \\n\")\n",
    "print(\"============== Other stores ==============\")\n",
    "\n",
    "count_3 = 0\n",
    "for key in selected:\n",
    "    values = selected[key]\n",
    "    for value in values:\n",
    "        if(value == phrase_3):\n",
    "            count_3 += (selected[key][value]*100)\n",
    "\n",
    "print(count_3)\n",
    "overall_prob_3 =  count_3/15300\n",
    "print(\"The store's probability is:\", prob_3)\n",
    "print(\"The phrase's overall probability is:\",overall_prob_3)"
   ]
  },
  {
   "cell_type": "code",
   "execution_count": 105,
   "id": "7af7c802",
   "metadata": {},
   "outputs": [
    {
     "name": "stdout",
     "output_type": "stream",
     "text": [
      "For business  rubyBEGXLBLU_JAuEtKEuw\n",
      "The fourth adjective phrase is: ('most', 'beautiful')\n",
      "\n",
      "Its comparison with the rest of the stores is as follows: \n",
      "\n",
      "============== Other stores ==============\n"
     ]
    }
   ],
   "source": [
    "#check the selected store's 4th review and compare its probs with the rest of the stores\n",
    "\n",
    "print(\"For business \",selected_id)\n",
    "phrase_4 = frequency_result_top_5_key_list[3]\n",
    "prob_4 = frequency_result_top_5_value_list[3]\n",
    "print(\"The fourth adjective phrase is:\",phrase_4)\n",
    "print()\n",
    "print(\"Its comparison with the rest of the stores is as follows: \\n\")\n",
    "print(\"============== Other stores ==============\")\n",
    "\n",
    "for key in selected:\n",
    "    values = selected[key]\n",
    "    if key == selected_id:\n",
    "        continue\n",
    "    for value in values:\n",
    "        if(value == phrase_4):\n",
    "            print(\"Store: \"+ key + \"| Probability: \", selected[key][value])\n",
    "            if(float(prob_4) - selected[key][value]) >= 0.03:\n",
    "                print(\"******* There is a big difference *******\")"
   ]
  },
  {
   "cell_type": "code",
   "execution_count": 100,
   "id": "a4c416bc",
   "metadata": {},
   "outputs": [
    {
     "name": "stdout",
     "output_type": "stream",
     "text": [
      "For business  rubyBEGXLBLU_JAuEtKEuw\n",
      "The fourth adjective phrase is: ('most', 'beautiful')\n",
      "\n",
      "Its comparison with the rest of the stores is as follows: \n",
      "\n",
      "============== Other stores ==============\n",
      "3.0\n",
      "The store's probability is: 0.03\n",
      "The phrase's overall probability is: 0.000196078431372549\n"
     ]
    }
   ],
   "source": [
    "#check the selected store's 4th review and compare its probs with the rest of the stores\n",
    "\n",
    "print(\"For business \",selected_id)\n",
    "phrase_4 = frequency_result_top_5_key_list[3]\n",
    "prob_4 = frequency_result_top_5_value_list[3]\n",
    "print(\"The fourth adjective phrase is:\",phrase_4)\n",
    "print()\n",
    "print(\"Its comparison with the rest of the stores is as follows: \\n\")\n",
    "print(\"============== Other stores ==============\")\n",
    "\n",
    "count_4 = 0\n",
    "for key in selected:\n",
    "    values = selected[key]\n",
    "    for value in values:\n",
    "        if(value == phrase_4):\n",
    "            count_4 += (selected[key][value]*100)\n",
    "print(count_4)\n",
    "overall_prob_4 =  count_4/15300\n",
    "print(\"The store's probability is:\", prob_4)\n",
    "print(\"The phrase's overall probability is:\",overall_prob_4)"
   ]
  },
  {
   "cell_type": "code",
   "execution_count": 106,
   "id": "e746480e",
   "metadata": {},
   "outputs": [
    {
     "name": "stdout",
     "output_type": "stream",
     "text": [
      "For business  rubyBEGXLBLU_JAuEtKEuw\n",
      "The fifth adjective phrase is: ('very', 'helpful')\n",
      "\n",
      "Its comparison with the rest of the stores is as follows: \n",
      "\n",
      "============== Other stores ==============\n",
      "Store: c0t81YxNqZQuTJrTfn3QYA| Probability:  0.03\n",
      "Store: QbdADbSI908Or0ybjuQLxw| Probability:  0.04\n",
      "Store: qMyYY8zpHusOXUd6wmqX2w| Probability:  0.03\n",
      "Store: UuO28w986H0CO_HJluQmew| Probability:  0.04\n",
      "Store: GwKq3kjkFXhbBMAwe4H3rg| Probability:  0.04\n",
      "Store: R43QH4FqHOOJapm5TaCEVg| Probability:  0.04\n",
      "Store: NnxwkiBvSSyKeFiez0DDcQ| Probability:  0.05\n",
      "Store: QaFO4S6HFUu2NIbeu4OwCg| Probability:  0.04\n",
      "Store: uhyDNWYRSsom3VrFgOgP_w| Probability:  0.03\n",
      "Store: NRAmrbIGgXgH5uYv8GGJ5A| Probability:  0.03\n"
     ]
    }
   ],
   "source": [
    "#check the selected store's 5th review and compare its probs with the rest of the stores\n",
    "\n",
    "print(\"For business \",selected_id)\n",
    "phrase_5 = frequency_result_top_5_key_list[4]\n",
    "prob_5 = frequency_result_top_5_value_list[4]\n",
    "print(\"The fifth adjective phrase is:\",phrase_5)\n",
    "print()\n",
    "print(\"Its comparison with the rest of the stores is as follows: \\n\")\n",
    "print(\"============== Other stores ==============\")\n",
    "\n",
    "for key in selected:\n",
    "    values = selected[key]\n",
    "    if key == selected_id:\n",
    "        continue\n",
    "    for value in values:\n",
    "        if(value == phrase_5):\n",
    "            print(\"Store: \"+ key + \"| Probability: \", selected[key][value])\n",
    "            if(float(prob_5) - selected[key][value]) >= 0.03:\n",
    "                print(\"******* There is a big difference *******\")"
   ]
  },
  {
   "cell_type": "code",
   "execution_count": 101,
   "id": "11f02cf3",
   "metadata": {},
   "outputs": [
    {
     "name": "stdout",
     "output_type": "stream",
     "text": [
      "For business  rubyBEGXLBLU_JAuEtKEuw\n",
      "The fifth adjective phrase is: ('very', 'helpful')\n",
      "\n",
      "Its comparison with the rest of the stores is as follows: \n",
      "\n",
      "============== Other stores ==============\n",
      "40.0\n",
      "The store's probability is: 0.03\n",
      "The phrase's overall probability is: 0.00261437908496732\n"
     ]
    }
   ],
   "source": [
    "#check the selected store's 5th review and compare its probs with the rest of the stores\n",
    "\n",
    "print(\"For business \",selected_id)\n",
    "phrase_5 = frequency_result_top_5_key_list[4]\n",
    "prob_5 = frequency_result_top_5_value_list[4]\n",
    "print(\"The fifth adjective phrase is:\",phrase_5)\n",
    "print()\n",
    "print(\"Its comparison with the rest of the stores is as follows: \\n\")\n",
    "print(\"============== Other stores ==============\")\n",
    "\n",
    "count_5 = 0\n",
    "\n",
    "for key in selected:\n",
    "    values = selected[key]\n",
    "    for value in values:\n",
    "        if(value == phrase_5):\n",
    "            count_5 += (selected[key][value]*100)\n",
    "print(count_5)\n",
    "overall_prob_5 = count_5/15300\n",
    "print(\"The store's probability is:\", prob_5)\n",
    "print(\"The phrase's overall probability is:\",overall_prob_5)"
   ]
  },
  {
   "cell_type": "code",
   "execution_count": null,
   "id": "180d43e0",
   "metadata": {},
   "outputs": [],
   "source": []
  },
  {
   "cell_type": "code",
   "execution_count": null,
   "id": "eb748eb8",
   "metadata": {},
   "outputs": [],
   "source": []
  }
 ],
 "metadata": {
  "kernelspec": {
   "display_name": "venv3",
   "language": "python",
   "name": "venv3"
  },
  "language_info": {
   "codemirror_mode": {
    "name": "ipython",
    "version": 3
   },
   "file_extension": ".py",
   "mimetype": "text/x-python",
   "name": "python",
   "nbconvert_exporter": "python",
   "pygments_lexer": "ipython3",
   "version": "3.7.11"
  }
 },
 "nbformat": 4,
 "nbformat_minor": 5
}
