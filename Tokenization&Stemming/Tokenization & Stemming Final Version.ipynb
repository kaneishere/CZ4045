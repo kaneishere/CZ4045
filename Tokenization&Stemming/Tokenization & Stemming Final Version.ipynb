{
 "cells": [
  {
   "cell_type": "code",
   "execution_count": 73,
   "metadata": {},
   "outputs": [
    {
     "name": "stderr",
     "output_type": "stream",
     "text": [
      "[nltk_data] Downloading package stopwords to\n",
      "[nltk_data]     C:\\Users\\huawei\\AppData\\Roaming\\nltk_data...\n",
      "[nltk_data]   Package stopwords is already up-to-date!\n"
     ]
    },
    {
     "data": {
      "text/plain": [
       "True"
      ]
     },
     "execution_count": 73,
     "metadata": {},
     "output_type": "execute_result"
    }
   ],
   "source": [
    "import pandas as pd\n",
    "import numpy as np\n",
    "import matplotlib.pyplot as plt\n",
    "import nltk\n",
    "from nltk.stem import PorterStemmer\n",
    "from nltk.tokenize import word_tokenize\n",
    "from nltk.corpus import stopwords\n",
    "import random\n",
    "\n",
    "nltk.download('stopwords')\n",
    "  \n"
   ]
  },
  {
   "cell_type": "code",
   "execution_count": 74,
   "metadata": {},
   "outputs": [
    {
     "name": "stdout",
     "output_type": "stream",
     "text": [
      "random number for b1:  141\n",
      "oLb3-eXUFtCFJl2DuBhcvA\n"
     ]
    }
   ],
   "source": [
    "# Data Import\n",
    "data = pd.read_json('reviewSelected100.json', lines=True, \n",
    "                    orient='records',encoding = \"ISO-8859-1\")\n",
    "\n",
    "# Select business b1 and prepare B1\n",
    "uniqueBusiness = data['business_id'].unique()\n",
    "idx = random.randint(0, len(uniqueBusiness)-1)\n",
    "print('random number for b1: ', idx)\n",
    "b1 = uniqueBusiness[idx]\n",
    "print(b1)\n",
    "B1 = data.loc[data['business_id'] == b1]\n",
    "B1 = pd.DataFrame(B1, columns = ['text'])\n",
    "B1.rename(columns={\"text\": \"original_text\"}, inplace = True)"
   ]
  },
  {
   "cell_type": "code",
   "execution_count": 75,
   "metadata": {},
   "outputs": [
    {
     "data": {
      "text/html": [
       "<div>\n",
       "<style scoped>\n",
       "    .dataframe tbody tr th:only-of-type {\n",
       "        vertical-align: middle;\n",
       "    }\n",
       "\n",
       "    .dataframe tbody tr th {\n",
       "        vertical-align: top;\n",
       "    }\n",
       "\n",
       "    .dataframe thead th {\n",
       "        text-align: right;\n",
       "    }\n",
       "</style>\n",
       "<table border=\"1\" class=\"dataframe\">\n",
       "  <thead>\n",
       "    <tr style=\"text-align: right;\">\n",
       "      <th></th>\n",
       "      <th>original_text</th>\n",
       "    </tr>\n",
       "  </thead>\n",
       "  <tbody>\n",
       "    <tr>\n",
       "      <th>0</th>\n",
       "      <td>Exceeded my expectations. Rooms were well kept...</td>\n",
       "    </tr>\n",
       "    <tr>\n",
       "      <th>1</th>\n",
       "      <td>Stayed for five nights. The staff at this hote...</td>\n",
       "    </tr>\n",
       "    <tr>\n",
       "      <th>2</th>\n",
       "      <td>No need to report a problem at this hotel, the...</td>\n",
       "    </tr>\n",
       "    <tr>\n",
       "      <th>3</th>\n",
       "      <td>I normally stay at a hotel on the strip when I...</td>\n",
       "    </tr>\n",
       "    <tr>\n",
       "      <th>4</th>\n",
       "      <td>I have stayed here multiple times for extended...</td>\n",
       "    </tr>\n",
       "    <tr>\n",
       "      <th>...</th>\n",
       "      <td>...</td>\n",
       "    </tr>\n",
       "    <tr>\n",
       "      <th>95</th>\n",
       "      <td>This hotel is great! It is a bit loud as far a...</td>\n",
       "    </tr>\n",
       "    <tr>\n",
       "      <th>96</th>\n",
       "      <td>When I first arrive find the last ada parking ...</td>\n",
       "    </tr>\n",
       "    <tr>\n",
       "      <th>97</th>\n",
       "      <td>I live in Vegas - but sometimes I want to enjo...</td>\n",
       "    </tr>\n",
       "    <tr>\n",
       "      <th>98</th>\n",
       "      <td>We stay at this hotel often as my husbands con...</td>\n",
       "    </tr>\n",
       "    <tr>\n",
       "      <th>99</th>\n",
       "      <td>Outstanding customer service. Our son got sick...</td>\n",
       "    </tr>\n",
       "  </tbody>\n",
       "</table>\n",
       "<p>100 rows × 1 columns</p>\n",
       "</div>"
      ],
      "text/plain": [
       "                                        original_text\n",
       "0   Exceeded my expectations. Rooms were well kept...\n",
       "1   Stayed for five nights. The staff at this hote...\n",
       "2   No need to report a problem at this hotel, the...\n",
       "3   I normally stay at a hotel on the strip when I...\n",
       "4   I have stayed here multiple times for extended...\n",
       "..                                                ...\n",
       "95  This hotel is great! It is a bit loud as far a...\n",
       "96  When I first arrive find the last ada parking ...\n",
       "97  I live in Vegas - but sometimes I want to enjo...\n",
       "98  We stay at this hotel often as my husbands con...\n",
       "99  Outstanding customer service. Our son got sick...\n",
       "\n",
       "[100 rows x 1 columns]"
      ]
     },
     "execution_count": 75,
     "metadata": {},
     "output_type": "execute_result"
    }
   ],
   "source": [
    "B1.reset_index(inplace = True)\n",
    "B1.drop(['index'], axis=1, inplace = True)\n",
    "B1"
   ]
  },
  {
   "cell_type": "code",
   "execution_count": 76,
   "metadata": {},
   "outputs": [],
   "source": [
    "# Remove stopwords\n",
    "for rowIdx in range(len(B1)):\n",
    "    newString = ''\n",
    "    s = B1.iloc[rowIdx]['original_text'].lower()\n",
    "    for idx, word in enumerate(s.split(' ')):\n",
    "        if word not in stopwords.words('english'):\n",
    "            if idx == len(s)-1:\n",
    "                newString = newString + word\n",
    "            else:\n",
    "                newString = newString + word + ' '\n",
    "    \n",
    "    B1.loc[rowIdx, 'text_without_stopwords'] = newString"
   ]
  },
  {
   "cell_type": "code",
   "execution_count": 77,
   "metadata": {},
   "outputs": [
    {
     "data": {
      "text/html": [
       "<div>\n",
       "<style scoped>\n",
       "    .dataframe tbody tr th:only-of-type {\n",
       "        vertical-align: middle;\n",
       "    }\n",
       "\n",
       "    .dataframe tbody tr th {\n",
       "        vertical-align: top;\n",
       "    }\n",
       "\n",
       "    .dataframe thead th {\n",
       "        text-align: right;\n",
       "    }\n",
       "</style>\n",
       "<table border=\"1\" class=\"dataframe\">\n",
       "  <thead>\n",
       "    <tr style=\"text-align: right;\">\n",
       "      <th></th>\n",
       "      <th>original_text</th>\n",
       "      <th>text_without_stopwords</th>\n",
       "    </tr>\n",
       "  </thead>\n",
       "  <tbody>\n",
       "    <tr>\n",
       "      <th>0</th>\n",
       "      <td>Exceeded my expectations. Rooms were well kept...</td>\n",
       "      <td>exceeded expectations. rooms well kept clean. ...</td>\n",
       "    </tr>\n",
       "    <tr>\n",
       "      <th>1</th>\n",
       "      <td>Stayed for five nights. The staff at this hote...</td>\n",
       "      <td>stayed five nights. staff hotel really knows c...</td>\n",
       "    </tr>\n",
       "    <tr>\n",
       "      <th>2</th>\n",
       "      <td>No need to report a problem at this hotel, the...</td>\n",
       "      <td>need report problem hotel, fix it.  they'll ch...</td>\n",
       "    </tr>\n",
       "    <tr>\n",
       "      <th>3</th>\n",
       "      <td>I normally stay at a hotel on the strip when I...</td>\n",
       "      <td>normally stay hotel strip go vegas; however, t...</td>\n",
       "    </tr>\n",
       "    <tr>\n",
       "      <th>4</th>\n",
       "      <td>I have stayed here multiple times for extended...</td>\n",
       "      <td>stayed multiple times extended stays. staff al...</td>\n",
       "    </tr>\n",
       "    <tr>\n",
       "      <th>...</th>\n",
       "      <td>...</td>\n",
       "      <td>...</td>\n",
       "    </tr>\n",
       "    <tr>\n",
       "      <th>95</th>\n",
       "      <td>This hotel is great! It is a bit loud as far a...</td>\n",
       "      <td>hotel great! bit loud far planes landing clean...</td>\n",
       "    </tr>\n",
       "    <tr>\n",
       "      <th>96</th>\n",
       "      <td>When I first arrive find the last ada parking ...</td>\n",
       "      <td>first arrive find last ada parking spot taken ...</td>\n",
       "    </tr>\n",
       "    <tr>\n",
       "      <th>97</th>\n",
       "      <td>I live in Vegas - but sometimes I want to enjo...</td>\n",
       "      <td>live vegas - sometimes want enjoy little \"stay...</td>\n",
       "    </tr>\n",
       "    <tr>\n",
       "      <th>98</th>\n",
       "      <td>We stay at this hotel often as my husbands con...</td>\n",
       "      <td>stay hotel often husbands conferences affiliat...</td>\n",
       "    </tr>\n",
       "    <tr>\n",
       "      <th>99</th>\n",
       "      <td>Outstanding customer service. Our son got sick...</td>\n",
       "      <td>outstanding customer service. son got sick fir...</td>\n",
       "    </tr>\n",
       "  </tbody>\n",
       "</table>\n",
       "<p>100 rows × 2 columns</p>\n",
       "</div>"
      ],
      "text/plain": [
       "                                        original_text  \\\n",
       "0   Exceeded my expectations. Rooms were well kept...   \n",
       "1   Stayed for five nights. The staff at this hote...   \n",
       "2   No need to report a problem at this hotel, the...   \n",
       "3   I normally stay at a hotel on the strip when I...   \n",
       "4   I have stayed here multiple times for extended...   \n",
       "..                                                ...   \n",
       "95  This hotel is great! It is a bit loud as far a...   \n",
       "96  When I first arrive find the last ada parking ...   \n",
       "97  I live in Vegas - but sometimes I want to enjo...   \n",
       "98  We stay at this hotel often as my husbands con...   \n",
       "99  Outstanding customer service. Our son got sick...   \n",
       "\n",
       "                               text_without_stopwords  \n",
       "0   exceeded expectations. rooms well kept clean. ...  \n",
       "1   stayed five nights. staff hotel really knows c...  \n",
       "2   need report problem hotel, fix it.  they'll ch...  \n",
       "3   normally stay hotel strip go vegas; however, t...  \n",
       "4   stayed multiple times extended stays. staff al...  \n",
       "..                                                ...  \n",
       "95  hotel great! bit loud far planes landing clean...  \n",
       "96  first arrive find last ada parking spot taken ...  \n",
       "97  live vegas - sometimes want enjoy little \"stay...  \n",
       "98  stay hotel often husbands conferences affiliat...  \n",
       "99  outstanding customer service. son got sick fir...  \n",
       "\n",
       "[100 rows x 2 columns]"
      ]
     },
     "execution_count": 77,
     "metadata": {},
     "output_type": "execute_result"
    }
   ],
   "source": [
    "B1"
   ]
  },
  {
   "cell_type": "code",
   "execution_count": 78,
   "metadata": {},
   "outputs": [],
   "source": [
    "# stemming\n",
    "ps = PorterStemmer()\n",
    "for rowIdx in range(len(B1)):\n",
    "    newString = ''\n",
    "    s = B1.iloc[rowIdx]['text_without_stopwords']\n",
    "    for idx, word in enumerate(s.split(' ')):\n",
    "        word = ps.stem(word)\n",
    "        if idx == len(s)-1:\n",
    "            newString = newString + word\n",
    "        else:\n",
    "            newString = newString + word + ' '\n",
    "    \n",
    "    B1.loc[rowIdx, 'stemmed_text'] = newString\n"
   ]
  },
  {
   "cell_type": "code",
   "execution_count": 79,
   "metadata": {},
   "outputs": [
    {
     "data": {
      "image/png": "[encoded data removed]",
      "text/plain": [
       "<Figure size 432x288 with 1 Axes>"
      ]
     },
     "metadata": {
      "needs_background": "light"
     },
     "output_type": "display_data"
    }
   ],
   "source": [
    "# Word Frequency Before Stemming\n",
    "countsBefore = B1.text_without_stopwords.str.split(expand=True).stack().value_counts()\n",
    "\n",
    "plt.plot(countsBefore.head(10))\n",
    "plt.yscale(\"log\")"
   ]
  },
  {
   "cell_type": "code",
   "execution_count": 80,
   "metadata": {},
   "outputs": [
    {
     "data": {
      "image/png": "[encoded data removed]",
      "text/plain": [
       "<Figure size 432x288 with 1 Axes>"
      ]
     },
     "metadata": {
      "needs_background": "light"
     },
     "output_type": "display_data"
    }
   ],
   "source": [
    "# Word Frequency After Stemming\n",
    "countsAfter = B1.stemmed_text.str.split(expand=True).stack().value_counts()\n",
    "\n",
    "plt.plot(countsAfter.head(10))\n",
    "plt.yscale(\"log\")"
   ]
  },
  {
   "cell_type": "code",
   "execution_count": 81,
   "metadata": {},
   "outputs": [
    {
     "name": "stdout",
     "output_type": "stream",
     "text": [
      "random num for b2:  41\n",
      "Rii85bzYKGC9P0zOyAem6A\n"
     ]
    }
   ],
   "source": [
    "# Select business b2 and prepare B2\n",
    "uniqueBusiness = data['business_id'].unique()\n",
    "idx2 = random.randint(0, len(uniqueBusiness)-1)\n",
    "print('random num for b2: ', idx2)\n",
    "b2 = uniqueBusiness[idx2]\n",
    "print(b2)\n",
    "B2 = data.loc[data['business_id'] == b2]\n",
    "B2 = pd.DataFrame(B2, columns = ['text'])\n",
    "B2.rename(columns={\"text\": \"original_text\"}, inplace = True)"
   ]
  },
  {
   "cell_type": "code",
   "execution_count": 82,
   "metadata": {},
   "outputs": [
    {
     "data": {
      "text/html": [
       "<div>\n",
       "<style scoped>\n",
       "    .dataframe tbody tr th:only-of-type {\n",
       "        vertical-align: middle;\n",
       "    }\n",
       "\n",
       "    .dataframe tbody tr th {\n",
       "        vertical-align: top;\n",
       "    }\n",
       "\n",
       "    .dataframe thead th {\n",
       "        text-align: right;\n",
       "    }\n",
       "</style>\n",
       "<table border=\"1\" class=\"dataframe\">\n",
       "  <thead>\n",
       "    <tr style=\"text-align: right;\">\n",
       "      <th></th>\n",
       "      <th>original_text</th>\n",
       "    </tr>\n",
       "  </thead>\n",
       "  <tbody>\n",
       "    <tr>\n",
       "      <th>0</th>\n",
       "      <td>While the waitress we had was great, the resta...</td>\n",
       "    </tr>\n",
       "    <tr>\n",
       "      <th>1</th>\n",
       "      <td>Simple chain steakhouse. Not a knock on their ...</td>\n",
       "    </tr>\n",
       "    <tr>\n",
       "      <th>2</th>\n",
       "      <td>Very good steaks! Place is always busy but the...</td>\n",
       "    </tr>\n",
       "    <tr>\n",
       "      <th>3</th>\n",
       "      <td>Was told 15 to 25 minutes for a table. Was sea...</td>\n",
       "    </tr>\n",
       "    <tr>\n",
       "      <th>4</th>\n",
       "      <td>This was an above average restaurant experienc...</td>\n",
       "    </tr>\n",
       "    <tr>\n",
       "      <th>...</th>\n",
       "      <td>...</td>\n",
       "    </tr>\n",
       "    <tr>\n",
       "      <th>95</th>\n",
       "      <td>I'm impressed. We came here on Easter with a p...</td>\n",
       "    </tr>\n",
       "    <tr>\n",
       "      <th>96</th>\n",
       "      <td>Today my husband and I went to this Texas Road...</td>\n",
       "    </tr>\n",
       "    <tr>\n",
       "      <th>97</th>\n",
       "      <td>Service is outstanding even when slammed busy ...</td>\n",
       "    </tr>\n",
       "    <tr>\n",
       "      <th>98</th>\n",
       "      <td>We went to the Roadhouse to try a different St...</td>\n",
       "    </tr>\n",
       "    <tr>\n",
       "      <th>99</th>\n",
       "      <td>My husband and I were there for dinner Monday ...</td>\n",
       "    </tr>\n",
       "  </tbody>\n",
       "</table>\n",
       "<p>100 rows × 1 columns</p>\n",
       "</div>"
      ],
      "text/plain": [
       "                                        original_text\n",
       "0   While the waitress we had was great, the resta...\n",
       "1   Simple chain steakhouse. Not a knock on their ...\n",
       "2   Very good steaks! Place is always busy but the...\n",
       "3   Was told 15 to 25 minutes for a table. Was sea...\n",
       "4   This was an above average restaurant experienc...\n",
       "..                                                ...\n",
       "95  I'm impressed. We came here on Easter with a p...\n",
       "96  Today my husband and I went to this Texas Road...\n",
       "97  Service is outstanding even when slammed busy ...\n",
       "98  We went to the Roadhouse to try a different St...\n",
       "99  My husband and I were there for dinner Monday ...\n",
       "\n",
       "[100 rows x 1 columns]"
      ]
     },
     "execution_count": 82,
     "metadata": {},
     "output_type": "execute_result"
    }
   ],
   "source": [
    "B2.reset_index(inplace = True)\n",
    "B2.drop(['index'], axis=1, inplace = True)\n",
    "B2"
   ]
  },
  {
   "cell_type": "code",
   "execution_count": 83,
   "metadata": {},
   "outputs": [],
   "source": [
    "# Remove stopwords\n",
    "for rowIdx in range(len(B2)):\n",
    "    newString = ''\n",
    "    s = B2.iloc[rowIdx]['original_text'].lower()\n",
    "    for idx, word in enumerate(s.split(' ')):\n",
    "        if word not in stopwords.words('english'):\n",
    "            if idx == len(s)-1:\n",
    "                newString = newString + word\n",
    "            else:\n",
    "                newString = newString + word + ' '\n",
    "    \n",
    "    B2.loc[rowIdx, 'text_without_stopwords'] = newString"
   ]
  },
  {
   "cell_type": "code",
   "execution_count": 84,
   "metadata": {},
   "outputs": [],
   "source": [
    "# stemming\n",
    "ps = PorterStemmer()\n",
    "for rowIdx in range(len(B2)):\n",
    "    newString = ''\n",
    "    s = B2.iloc[rowIdx]['text_without_stopwords']\n",
    "    for idx, word in enumerate(s.split(' ')):\n",
    "        word = ps.stem(word)\n",
    "        if idx == len(s)-1:\n",
    "            newString = newString + word\n",
    "        else:\n",
    "            newString = newString + word + ' '\n",
    "    \n",
    "    B2.loc[rowIdx, 'stemmed_text'] = newString\n"
   ]
  },
  {
   "cell_type": "code",
   "execution_count": 85,
   "metadata": {},
   "outputs": [
    {
     "data": {
      "image/png": "[encoded data removed]",
      "text/plain": [
       "<Figure size 432x288 with 1 Axes>"
      ]
     },
     "metadata": {
      "needs_background": "light"
     },
     "output_type": "display_data"
    }
   ],
   "source": [
    "# Word Frequency Before Stemming\n",
    "countsBefore = B2.text_without_stopwords.str.split(expand=True).stack().value_counts()\n",
    "\n",
    "plt.plot(countsBefore.head(10))\n",
    "plt.yscale(\"log\")\n",
    "\n"
   ]
  },
  {
   "cell_type": "code",
   "execution_count": 86,
   "metadata": {},
   "outputs": [
    {
     "data": {
      "image/png": "[encoded data removed]",
      "text/plain": [
       "<Figure size 432x288 with 1 Axes>"
      ]
     },
     "metadata": {
      "needs_background": "light"
     },
     "output_type": "display_data"
    }
   ],
   "source": [
    "# Word Frequency After Stemming\n",
    "countsAfter = B2.stemmed_text.str.split(expand=True).stack().value_counts()\n",
    "\n",
    "plt.plot(countsAfter.head(10))\n",
    "plt.yscale(\"log\")"
   ]
  },
  {
   "cell_type": "code",
   "execution_count": null,
   "metadata": {},
   "outputs": [],
   "source": []
  },
  {
   "cell_type": "code",
   "execution_count": null,
   "metadata": {},
   "outputs": [],
   "source": []
  }
 ],
 "metadata": {
  "kernelspec": {
   "display_name": "Python 3",
   "language": "python",
   "name": "python3"
  },
  "language_info": {
   "codemirror_mode": {
    "name": "ipython",
    "version": 3
   },
   "file_extension": ".py",
   "mimetype": "text/x-python",
   "name": "python",
   "nbconvert_exporter": "python",
   "pygments_lexer": "ipython3",
   "version": "3.8.3"
  }
 },
 "nbformat": 4,
 "nbformat_minor": 4
}
