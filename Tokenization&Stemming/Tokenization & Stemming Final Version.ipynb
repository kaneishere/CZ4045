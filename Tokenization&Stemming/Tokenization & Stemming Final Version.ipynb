{
 "cells": [
  {
   "cell_type": "code",
   "execution_count": 3,
   "metadata": {},
   "outputs": [
    {
     "name": "stderr",
     "output_type": "stream",
     "text": [
      "[nltk_data] Downloading package stopwords to\n",
      "[nltk_data]     C:\\Users\\huawei\\AppData\\Roaming\\nltk_data...\n",
      "[nltk_data]   Package stopwords is already up-to-date!\n"
     ]
    },
    {
     "data": {
      "text/plain": [
       "True"
      ]
     },
     "execution_count": 3,
     "metadata": {},
     "output_type": "execute_result"
    }
   ],
   "source": [
    "import pandas as pd\n",
    "import numpy as np\n",
    "import matplotlib.pyplot as plt\n",
    "import nltk\n",
    "from nltk.stem import PorterStemmer\n",
    "from nltk.tokenize import word_tokenize\n",
    "from nltk.corpus import stopwords\n",
    "import random\n",
    "\n",
    "nltk.download('stopwords')\n",
    "  \n"
   ]
  },
  {
   "cell_type": "code",
   "execution_count": 4,
   "metadata": {},
   "outputs": [
    {
     "name": "stdout",
     "output_type": "stream",
     "text": [
      "random number for b1:  108\n",
      "ZhACHVw9k438Z3i-Gw9BHA\n"
     ]
    }
   ],
   "source": [
    "# Data Import\n",
    "data = pd.read_json('reviewSelected100.json', lines=True, \n",
    "                    orient='records',encoding = \"ISO-8859-1\")\n",
    "\n",
    "# Select business b1 and prepare B1\n",
    "uniqueBusiness = data['business_id'].unique()\n",
    "idx = random.randint(0, len(uniqueBusiness)-1)\n",
    "print('random number for b1: ', idx)\n",
    "b1 = uniqueBusiness[idx]\n",
    "print(b1)\n",
    "B1 = data.loc[data['business_id'] == b1]\n",
    "B1 = pd.DataFrame(B1, columns = ['text'])\n",
    "B1.rename(columns={\"text\": \"original_text\"}, inplace = True)"
   ]
  },
  {
   "cell_type": "code",
   "execution_count": 5,
   "metadata": {},
   "outputs": [
    {
     "data": {
      "text/html": [
       "<div>\n",
       "<style scoped>\n",
       "    .dataframe tbody tr th:only-of-type {\n",
       "        vertical-align: middle;\n",
       "    }\n",
       "\n",
       "    .dataframe tbody tr th {\n",
       "        vertical-align: top;\n",
       "    }\n",
       "\n",
       "    .dataframe thead th {\n",
       "        text-align: right;\n",
       "    }\n",
       "</style>\n",
       "<table border=\"1\" class=\"dataframe\">\n",
       "  <thead>\n",
       "    <tr style=\"text-align: right;\">\n",
       "      <th></th>\n",
       "      <th>original_text</th>\n",
       "    </tr>\n",
       "  </thead>\n",
       "  <tbody>\n",
       "    <tr>\n",
       "      <th>0</th>\n",
       "      <td>one of the few chains i would go over and over...</td>\n",
       "    </tr>\n",
       "    <tr>\n",
       "      <th>1</th>\n",
       "      <td>Small seating available but service was prompt...</td>\n",
       "    </tr>\n",
       "    <tr>\n",
       "      <th>2</th>\n",
       "      <td>I love bao , haven't had it in a long time and...</td>\n",
       "    </tr>\n",
       "    <tr>\n",
       "      <th>3</th>\n",
       "      <td>Banh Mi is that place to go when you want to s...</td>\n",
       "    </tr>\n",
       "    <tr>\n",
       "      <th>4</th>\n",
       "      <td>The service is ok but I didn't like the food, ...</td>\n",
       "    </tr>\n",
       "    <tr>\n",
       "      <th>...</th>\n",
       "      <td>...</td>\n",
       "    </tr>\n",
       "    <tr>\n",
       "      <th>95</th>\n",
       "      <td>I definitely overhyped myself for this place, ...</td>\n",
       "    </tr>\n",
       "    <tr>\n",
       "      <th>96</th>\n",
       "      <td>I'm Vietnamese and I never really like \"banh m...</td>\n",
       "    </tr>\n",
       "    <tr>\n",
       "      <th>97</th>\n",
       "      <td>Yes, that's right, I'm going a full five stars...</td>\n",
       "    </tr>\n",
       "    <tr>\n",
       "      <th>98</th>\n",
       "      <td>5 Stars for the grilled pork banh mi! - These ...</td>\n",
       "    </tr>\n",
       "    <tr>\n",
       "      <th>99</th>\n",
       "      <td>I ordered the pulled pork bao bun and the kimc...</td>\n",
       "    </tr>\n",
       "  </tbody>\n",
       "</table>\n",
       "<p>100 rows × 1 columns</p>\n",
       "</div>"
      ],
      "text/plain": [
       "                                        original_text\n",
       "0   one of the few chains i would go over and over...\n",
       "1   Small seating available but service was prompt...\n",
       "2   I love bao , haven't had it in a long time and...\n",
       "3   Banh Mi is that place to go when you want to s...\n",
       "4   The service is ok but I didn't like the food, ...\n",
       "..                                                ...\n",
       "95  I definitely overhyped myself for this place, ...\n",
       "96  I'm Vietnamese and I never really like \"banh m...\n",
       "97  Yes, that's right, I'm going a full five stars...\n",
       "98  5 Stars for the grilled pork banh mi! - These ...\n",
       "99  I ordered the pulled pork bao bun and the kimc...\n",
       "\n",
       "[100 rows x 1 columns]"
      ]
     },
     "execution_count": 5,
     "metadata": {},
     "output_type": "execute_result"
    }
   ],
   "source": [
    "B1.reset_index(inplace = True)\n",
    "B1.drop(['index'], axis=1, inplace = True)\n",
    "B1"
   ]
  },
  {
   "cell_type": "code",
   "execution_count": 6,
   "metadata": {},
   "outputs": [],
   "source": [
    "# Remove stopwords\n",
    "for rowIdx in range(len(B1)):\n",
    "    newString = ''\n",
    "    s = B1.iloc[rowIdx]['original_text'].lower()\n",
    "    for idx, word in enumerate(s.split(' ')):\n",
    "        if word not in stopwords.words('english'):\n",
    "            if idx == len(s)-1:\n",
    "                newString = newString + word\n",
    "            else:\n",
    "                newString = newString + word + ' '\n",
    "    \n",
    "    B1.loc[rowIdx, 'text_without_stopwords'] = newString"
   ]
  },
  {
   "cell_type": "code",
   "execution_count": 7,
   "metadata": {},
   "outputs": [
    {
     "data": {
      "text/html": [
       "<div>\n",
       "<style scoped>\n",
       "    .dataframe tbody tr th:only-of-type {\n",
       "        vertical-align: middle;\n",
       "    }\n",
       "\n",
       "    .dataframe tbody tr th {\n",
       "        vertical-align: top;\n",
       "    }\n",
       "\n",
       "    .dataframe thead th {\n",
       "        text-align: right;\n",
       "    }\n",
       "</style>\n",
       "<table border=\"1\" class=\"dataframe\">\n",
       "  <thead>\n",
       "    <tr style=\"text-align: right;\">\n",
       "      <th></th>\n",
       "      <th>original_text</th>\n",
       "      <th>text_without_stopwords</th>\n",
       "    </tr>\n",
       "  </thead>\n",
       "  <tbody>\n",
       "    <tr>\n",
       "      <th>0</th>\n",
       "      <td>one of the few chains i would go over and over...</td>\n",
       "      <td>one chains would go proud say go to. quick, ea...</td>\n",
       "    </tr>\n",
       "    <tr>\n",
       "      <th>1</th>\n",
       "      <td>Small seating available but service was prompt...</td>\n",
       "      <td>small seating available service prompt friendl...</td>\n",
       "    </tr>\n",
       "    <tr>\n",
       "      <th>2</th>\n",
       "      <td>I love bao , haven't had it in a long time and...</td>\n",
       "      <td>love bao , long time location pretty excited g...</td>\n",
       "    </tr>\n",
       "    <tr>\n",
       "      <th>3</th>\n",
       "      <td>Banh Mi is that place to go when you want to s...</td>\n",
       "      <td>banh mi place go want spend five bucks trendy ...</td>\n",
       "    </tr>\n",
       "    <tr>\n",
       "      <th>4</th>\n",
       "      <td>The service is ok but I didn't like the food, ...</td>\n",
       "      <td>service ok like food, think mix meat raw veggi...</td>\n",
       "    </tr>\n",
       "    <tr>\n",
       "      <th>...</th>\n",
       "      <td>...</td>\n",
       "      <td>...</td>\n",
       "    </tr>\n",
       "    <tr>\n",
       "      <th>95</th>\n",
       "      <td>I definitely overhyped myself for this place, ...</td>\n",
       "      <td>definitely overhyped place, definitely good, e...</td>\n",
       "    </tr>\n",
       "    <tr>\n",
       "      <th>96</th>\n",
       "      <td>I'm Vietnamese and I never really like \"banh m...</td>\n",
       "      <td>i'm vietnamese never really like \"banh mi\" tor...</td>\n",
       "    </tr>\n",
       "    <tr>\n",
       "      <th>97</th>\n",
       "      <td>Yes, that's right, I'm going a full five stars...</td>\n",
       "      <td>yes, that's right, i'm going full five stars t...</td>\n",
       "    </tr>\n",
       "    <tr>\n",
       "      <th>98</th>\n",
       "      <td>5 Stars for the grilled pork banh mi! - These ...</td>\n",
       "      <td>5 stars grilled pork banh mi! - grandfather's ...</td>\n",
       "    </tr>\n",
       "    <tr>\n",
       "      <th>99</th>\n",
       "      <td>I ordered the pulled pork bao bun and the kimc...</td>\n",
       "      <td>ordered pulled pork bao bun kimchi fries. bao ...</td>\n",
       "    </tr>\n",
       "  </tbody>\n",
       "</table>\n",
       "<p>100 rows × 2 columns</p>\n",
       "</div>"
      ],
      "text/plain": [
       "                                        original_text  \\\n",
       "0   one of the few chains i would go over and over...   \n",
       "1   Small seating available but service was prompt...   \n",
       "2   I love bao , haven't had it in a long time and...   \n",
       "3   Banh Mi is that place to go when you want to s...   \n",
       "4   The service is ok but I didn't like the food, ...   \n",
       "..                                                ...   \n",
       "95  I definitely overhyped myself for this place, ...   \n",
       "96  I'm Vietnamese and I never really like \"banh m...   \n",
       "97  Yes, that's right, I'm going a full five stars...   \n",
       "98  5 Stars for the grilled pork banh mi! - These ...   \n",
       "99  I ordered the pulled pork bao bun and the kimc...   \n",
       "\n",
       "                               text_without_stopwords  \n",
       "0   one chains would go proud say go to. quick, ea...  \n",
       "1   small seating available service prompt friendl...  \n",
       "2   love bao , long time location pretty excited g...  \n",
       "3   banh mi place go want spend five bucks trendy ...  \n",
       "4   service ok like food, think mix meat raw veggi...  \n",
       "..                                                ...  \n",
       "95  definitely overhyped place, definitely good, e...  \n",
       "96  i'm vietnamese never really like \"banh mi\" tor...  \n",
       "97  yes, that's right, i'm going full five stars t...  \n",
       "98  5 stars grilled pork banh mi! - grandfather's ...  \n",
       "99  ordered pulled pork bao bun kimchi fries. bao ...  \n",
       "\n",
       "[100 rows x 2 columns]"
      ]
     },
     "execution_count": 7,
     "metadata": {},
     "output_type": "execute_result"
    }
   ],
   "source": [
    "B1"
   ]
  },
  {
   "cell_type": "code",
   "execution_count": 8,
   "metadata": {},
   "outputs": [
    {
     "data": {
      "image/png": "[encoded data removed]",
      "text/plain": [
       "<Figure size 432x288 with 1 Axes>"
      ]
     },
     "metadata": {
      "needs_background": "light"
     },
     "output_type": "display_data"
    }
   ],
   "source": [
    "# Stemming\n",
    "ps = PorterStemmer()\n",
    "B1['stemmed_text'] = B1['text_without_stopwords'].apply(lambda x: ps.stem(x))\n",
    "\n",
    "# Word Frequency Before Stemming\n",
    "countsBefore = B1.text_without_stopwords.str.split(expand=True).stack().value_counts()\n",
    "\n",
    "plt.plot(countsBefore.head(10))\n",
    "plt.yscale(\"log\")\n",
    "\n",
    "# Word Frequency After Stemming\n",
    "countsAfter = B1.text_without_stopwords.str.split(expand=True).stack().value_counts()\n",
    "\n",
    "plt.plot(countsBefore.head(10))\n",
    "plt.yscale(\"log\")"
   ]
  },
  {
   "cell_type": "code",
   "execution_count": 9,
   "metadata": {},
   "outputs": [
    {
     "name": "stdout",
     "output_type": "stream",
     "text": [
      "random num for b2:  70\n",
      "Jol7cXrDmKKmu_V6qp4wMA\n"
     ]
    }
   ],
   "source": [
    "# Select business b2 and prepare B2\n",
    "uniqueBusiness = data['business_id'].unique()\n",
    "idx2 = random.randint(0, len(uniqueBusiness)-1)\n",
    "print('random num for b2: ', idx2)\n",
    "b2 = uniqueBusiness[idx2]\n",
    "print(b2)\n",
    "B2 = data.loc[data['business_id'] == b2]\n",
    "B2 = pd.DataFrame(B2, columns = ['text'])\n",
    "B2.rename(columns={\"text\": \"original_text\"}, inplace = True)"
   ]
  },
  {
   "cell_type": "code",
   "execution_count": 10,
   "metadata": {},
   "outputs": [
    {
     "data": {
      "text/html": [
       "<div>\n",
       "<style scoped>\n",
       "    .dataframe tbody tr th:only-of-type {\n",
       "        vertical-align: middle;\n",
       "    }\n",
       "\n",
       "    .dataframe tbody tr th {\n",
       "        vertical-align: top;\n",
       "    }\n",
       "\n",
       "    .dataframe thead th {\n",
       "        text-align: right;\n",
       "    }\n",
       "</style>\n",
       "<table border=\"1\" class=\"dataframe\">\n",
       "  <thead>\n",
       "    <tr style=\"text-align: right;\">\n",
       "      <th></th>\n",
       "      <th>original_text</th>\n",
       "    </tr>\n",
       "  </thead>\n",
       "  <tbody>\n",
       "    <tr>\n",
       "      <th>0</th>\n",
       "      <td>The food here is amazing! Authentic Mediterran...</td>\n",
       "    </tr>\n",
       "    <tr>\n",
       "      <th>1</th>\n",
       "      <td>Delicious, inexpensive and large portions...  ...</td>\n",
       "    </tr>\n",
       "    <tr>\n",
       "      <th>2</th>\n",
       "      <td>This place is my favorite for lunch!  After di...</td>\n",
       "    </tr>\n",
       "    <tr>\n",
       "      <th>3</th>\n",
       "      <td>Oh my!!  Not only was this some of the best Mi...</td>\n",
       "    </tr>\n",
       "    <tr>\n",
       "      <th>4</th>\n",
       "      <td>I spent 9 months in the middle east and fell i...</td>\n",
       "    </tr>\n",
       "    <tr>\n",
       "      <th>...</th>\n",
       "      <td>...</td>\n",
       "    </tr>\n",
       "    <tr>\n",
       "      <th>95</th>\n",
       "      <td>First time here and the food was delicious!  I...</td>\n",
       "    </tr>\n",
       "    <tr>\n",
       "      <th>96</th>\n",
       "      <td>I went back here today with the same cowoker a...</td>\n",
       "    </tr>\n",
       "    <tr>\n",
       "      <th>97</th>\n",
       "      <td>Really good stuff. Authentic. Wide variety of ...</td>\n",
       "    </tr>\n",
       "    <tr>\n",
       "      <th>98</th>\n",
       "      <td>There isn't any other place I think I could ea...</td>\n",
       "    </tr>\n",
       "    <tr>\n",
       "      <th>99</th>\n",
       "      <td>After Yelp Office Hours on Tuesday (Thanks Aga...</td>\n",
       "    </tr>\n",
       "  </tbody>\n",
       "</table>\n",
       "<p>100 rows × 1 columns</p>\n",
       "</div>"
      ],
      "text/plain": [
       "                                        original_text\n",
       "0   The food here is amazing! Authentic Mediterran...\n",
       "1   Delicious, inexpensive and large portions...  ...\n",
       "2   This place is my favorite for lunch!  After di...\n",
       "3   Oh my!!  Not only was this some of the best Mi...\n",
       "4   I spent 9 months in the middle east and fell i...\n",
       "..                                                ...\n",
       "95  First time here and the food was delicious!  I...\n",
       "96  I went back here today with the same cowoker a...\n",
       "97  Really good stuff. Authentic. Wide variety of ...\n",
       "98  There isn't any other place I think I could ea...\n",
       "99  After Yelp Office Hours on Tuesday (Thanks Aga...\n",
       "\n",
       "[100 rows x 1 columns]"
      ]
     },
     "execution_count": 10,
     "metadata": {},
     "output_type": "execute_result"
    }
   ],
   "source": [
    "B2.reset_index(inplace = True)\n",
    "B2.drop(['index'], axis=1, inplace = True)\n",
    "B2"
   ]
  },
  {
   "cell_type": "code",
   "execution_count": 11,
   "metadata": {},
   "outputs": [],
   "source": [
    "# Remove stopwords\n",
    "for rowIdx in range(len(B2)):\n",
    "    newString = ''\n",
    "    s = B2.iloc[rowIdx]['original_text'].lower()\n",
    "    for idx, word in enumerate(s.split(' ')):\n",
    "        if word not in stopwords.words('english'):\n",
    "            if idx == len(s)-1:\n",
    "                newString = newString + word\n",
    "            else:\n",
    "                newString = newString + word + ' '\n",
    "    \n",
    "    B2.loc[rowIdx, 'text_without_stopwords'] = newString"
   ]
  },
  {
   "cell_type": "code",
   "execution_count": 12,
   "metadata": {},
   "outputs": [
    {
     "data": {
      "image/png": "[encoded data removed]",
      "text/plain": [
       "<Figure size 432x288 with 1 Axes>"
      ]
     },
     "metadata": {
      "needs_background": "light"
     },
     "output_type": "display_data"
    }
   ],
   "source": [
    "# Stemming\n",
    "ps = PorterStemmer()\n",
    "B2['stemmed_text'] = B2['text_without_stopwords'].apply(lambda x: ps.stem(x))\n",
    "\n",
    "# Word Frequency Before Stemming\n",
    "countsBefore = B2.text_without_stopwords.str.split(expand=True).stack().value_counts()\n",
    "\n",
    "plt.plot(countsBefore.head(10))\n",
    "plt.yscale(\"log\")\n",
    "\n",
    "# Word Frequency After Stemming\n",
    "countsAfter = B2.text_without_stopwords.str.split(expand=True).stack().value_counts()\n",
    "\n",
    "plt.plot(countsBefore.head(10))\n",
    "plt.yscale(\"log\")"
   ]
  },
  {
   "cell_type": "code",
   "execution_count": null,
   "metadata": {},
   "outputs": [],
   "source": []
  }
 ],
 "metadata": {
  "kernelspec": {
   "display_name": "Python 3",
   "language": "python",
   "name": "python3"
  },
  "language_info": {
   "codemirror_mode": {
    "name": "ipython",
    "version": 3
   },
   "file_extension": ".py",
   "mimetype": "text/x-python",
   "name": "python",
   "nbconvert_exporter": "python",
   "pygments_lexer": "ipython3",
   "version": "3.8.3"
  }
 },
 "nbformat": 4,
 "nbformat_minor": 4
}
