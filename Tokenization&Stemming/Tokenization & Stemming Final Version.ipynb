{
 "cells": [
  {
   "cell_type": "code",
   "execution_count": 93,
   "metadata": {},
   "outputs": [
    {
     "name": "stderr",
     "output_type": "stream",
     "text": [
      "[nltk_data] Downloading package stopwords to\n",
      "[nltk_data]     C:\\Users\\huawei\\AppData\\Roaming\\nltk_data...\n",
      "[nltk_data]   Package stopwords is already up-to-date!\n"
     ]
    },
    {
     "data": {
      "text/plain": [
       "True"
      ]
     },
     "execution_count": 93,
     "metadata": {},
     "output_type": "execute_result"
    }
   ],
   "source": [
    "import pandas as pd\n",
    "import numpy as np\n",
    "import matplotlib.pyplot as plt\n",
    "import nltk\n",
    "from nltk.stem import PorterStemmer\n",
    "from nltk.tokenize import word_tokenize\n",
    "from nltk.corpus import stopwords\n",
    "import random\n",
    "\n",
    "nltk.download('stopwords')\n",
    "  \n"
   ]
  },
  {
   "cell_type": "code",
   "execution_count": 100,
   "metadata": {},
   "outputs": [
    {
     "name": "stdout",
     "output_type": "stream",
     "text": [
      "random number for b1:  58\n"
     ]
    }
   ],
   "source": [
    "# Data Import\n",
    "data = pd.read_json('reviewSelected100.json', lines=True, \n",
    "                    orient='records',encoding = \"ISO-8859-1\")\n",
    "\n",
    "# Select business b1 and prepare B1\n",
    "uniqueBusiness = data['business_id'].unique()\n",
    "idx = random.randint(0, len(uniqueBusiness)-1)\n",
    "print('random number for b1: ', idx)\n",
    "b1 = uniqueBusiness[idx]\n",
    "B1 = data.loc[data['business_id'] == b1]\n",
    "B1 = pd.DataFrame(B1, columns = ['text'])\n",
    "B1.rename(columns={\"text\": \"original_text\"}, inplace = True)"
   ]
  },
  {
   "cell_type": "code",
   "execution_count": 101,
   "metadata": {},
   "outputs": [
    {
     "data": {
      "text/html": [
       "<div>\n",
       "<style scoped>\n",
       "    .dataframe tbody tr th:only-of-type {\n",
       "        vertical-align: middle;\n",
       "    }\n",
       "\n",
       "    .dataframe tbody tr th {\n",
       "        vertical-align: top;\n",
       "    }\n",
       "\n",
       "    .dataframe thead th {\n",
       "        text-align: right;\n",
       "    }\n",
       "</style>\n",
       "<table border=\"1\" class=\"dataframe\">\n",
       "  <thead>\n",
       "    <tr style=\"text-align: right;\">\n",
       "      <th></th>\n",
       "      <th>original_text</th>\n",
       "    </tr>\n",
       "  </thead>\n",
       "  <tbody>\n",
       "    <tr>\n",
       "      <th>0</th>\n",
       "      <td>Disappointed in my Waffle. After my third cup ...</td>\n",
       "    </tr>\n",
       "    <tr>\n",
       "      <th>1</th>\n",
       "      <td>My hubby really wanted to try the waffles so o...</td>\n",
       "    </tr>\n",
       "    <tr>\n",
       "      <th>2</th>\n",
       "      <td>I've love Waffles INC a long time--since their...</td>\n",
       "    </tr>\n",
       "    <tr>\n",
       "      <th>3</th>\n",
       "      <td>On a Monday morning at 9:30, one would expect ...</td>\n",
       "    </tr>\n",
       "    <tr>\n",
       "      <th>4</th>\n",
       "      <td>What a welcome addition to Wexford! Literally ...</td>\n",
       "    </tr>\n",
       "    <tr>\n",
       "      <th>...</th>\n",
       "      <td>...</td>\n",
       "    </tr>\n",
       "    <tr>\n",
       "      <th>95</th>\n",
       "      <td>On first impression, the new location in Wexfo...</td>\n",
       "    </tr>\n",
       "    <tr>\n",
       "      <th>96</th>\n",
       "      <td>Went into the restaurant and waited to be seat...</td>\n",
       "    </tr>\n",
       "    <tr>\n",
       "      <th>97</th>\n",
       "      <td>Met a friend for breakfast. Waited quite awhil...</td>\n",
       "    </tr>\n",
       "    <tr>\n",
       "      <th>98</th>\n",
       "      <td>I wanted to like this place more, but it was s...</td>\n",
       "    </tr>\n",
       "    <tr>\n",
       "      <th>99</th>\n",
       "      <td>We waited until 8:20 and still no sign of life...</td>\n",
       "    </tr>\n",
       "  </tbody>\n",
       "</table>\n",
       "<p>100 rows × 1 columns</p>\n",
       "</div>"
      ],
      "text/plain": [
       "                                        original_text\n",
       "0   Disappointed in my Waffle. After my third cup ...\n",
       "1   My hubby really wanted to try the waffles so o...\n",
       "2   I've love Waffles INC a long time--since their...\n",
       "3   On a Monday morning at 9:30, one would expect ...\n",
       "4   What a welcome addition to Wexford! Literally ...\n",
       "..                                                ...\n",
       "95  On first impression, the new location in Wexfo...\n",
       "96  Went into the restaurant and waited to be seat...\n",
       "97  Met a friend for breakfast. Waited quite awhil...\n",
       "98  I wanted to like this place more, but it was s...\n",
       "99  We waited until 8:20 and still no sign of life...\n",
       "\n",
       "[100 rows x 1 columns]"
      ]
     },
     "execution_count": 101,
     "metadata": {},
     "output_type": "execute_result"
    }
   ],
   "source": [
    "B1.reset_index(inplace = True)\n",
    "B1.drop(['index'], axis=1, inplace = True)\n",
    "B1"
   ]
  },
  {
   "cell_type": "code",
   "execution_count": 102,
   "metadata": {},
   "outputs": [],
   "source": [
    "# Remove stopwords\n",
    "for rowIdx in range(len(B1)):\n",
    "    newString = ''\n",
    "    s = B1.iloc[rowIdx]['original_text']\n",
    "    for idx, word in enumerate(s.split(' ')):\n",
    "        if word not in stopwords.words('english'):\n",
    "            if idx == len(s)-1:\n",
    "                newString = newString + word\n",
    "            else:\n",
    "                newString = newString + word + ' '\n",
    "    \n",
    "    B1.loc[rowIdx, 'text_without_stopwords'] = newString"
   ]
  },
  {
   "cell_type": "code",
   "execution_count": 103,
   "metadata": {},
   "outputs": [
    {
     "data": {
      "text/html": [
       "<div>\n",
       "<style scoped>\n",
       "    .dataframe tbody tr th:only-of-type {\n",
       "        vertical-align: middle;\n",
       "    }\n",
       "\n",
       "    .dataframe tbody tr th {\n",
       "        vertical-align: top;\n",
       "    }\n",
       "\n",
       "    .dataframe thead th {\n",
       "        text-align: right;\n",
       "    }\n",
       "</style>\n",
       "<table border=\"1\" class=\"dataframe\">\n",
       "  <thead>\n",
       "    <tr style=\"text-align: right;\">\n",
       "      <th></th>\n",
       "      <th>original_text</th>\n",
       "      <th>text_without_stopwords</th>\n",
       "    </tr>\n",
       "  </thead>\n",
       "  <tbody>\n",
       "    <tr>\n",
       "      <th>0</th>\n",
       "      <td>Disappointed in my Waffle. After my third cup ...</td>\n",
       "      <td>Disappointed Waffle. After third cup coffee wa...</td>\n",
       "    </tr>\n",
       "    <tr>\n",
       "      <th>1</th>\n",
       "      <td>My hubby really wanted to try the waffles so o...</td>\n",
       "      <td>My hubby really wanted try waffles one bluster...</td>\n",
       "    </tr>\n",
       "    <tr>\n",
       "      <th>2</th>\n",
       "      <td>I've love Waffles INC a long time--since their...</td>\n",
       "      <td>I've love Waffles INC long time--since New Bri...</td>\n",
       "    </tr>\n",
       "    <tr>\n",
       "      <th>3</th>\n",
       "      <td>On a Monday morning at 9:30, one would expect ...</td>\n",
       "      <td>On Monday morning 9:30, one would expect servi...</td>\n",
       "    </tr>\n",
       "    <tr>\n",
       "      <th>4</th>\n",
       "      <td>What a welcome addition to Wexford! Literally ...</td>\n",
       "      <td>What welcome addition Wexford! Literally locat...</td>\n",
       "    </tr>\n",
       "    <tr>\n",
       "      <th>...</th>\n",
       "      <td>...</td>\n",
       "      <td>...</td>\n",
       "    </tr>\n",
       "    <tr>\n",
       "      <th>95</th>\n",
       "      <td>On first impression, the new location in Wexfo...</td>\n",
       "      <td>On first impression, new location Wexford one ...</td>\n",
       "    </tr>\n",
       "    <tr>\n",
       "      <th>96</th>\n",
       "      <td>Went into the restaurant and waited to be seat...</td>\n",
       "      <td>Went restaurant waited seated. Had seat 2. Lot...</td>\n",
       "    </tr>\n",
       "    <tr>\n",
       "      <th>97</th>\n",
       "      <td>Met a friend for breakfast. Waited quite awhil...</td>\n",
       "      <td>Met friend breakfast. Waited quite awhile serv...</td>\n",
       "    </tr>\n",
       "    <tr>\n",
       "      <th>98</th>\n",
       "      <td>I wanted to like this place more, but it was s...</td>\n",
       "      <td>I wanted like place more, solidly average.  Th...</td>\n",
       "    </tr>\n",
       "    <tr>\n",
       "      <th>99</th>\n",
       "      <td>We waited until 8:20 and still no sign of life...</td>\n",
       "      <td>We waited 8:20 still sign life!!  Soooo lights...</td>\n",
       "    </tr>\n",
       "  </tbody>\n",
       "</table>\n",
       "<p>100 rows × 2 columns</p>\n",
       "</div>"
      ],
      "text/plain": [
       "                                        original_text  \\\n",
       "0   Disappointed in my Waffle. After my third cup ...   \n",
       "1   My hubby really wanted to try the waffles so o...   \n",
       "2   I've love Waffles INC a long time--since their...   \n",
       "3   On a Monday morning at 9:30, one would expect ...   \n",
       "4   What a welcome addition to Wexford! Literally ...   \n",
       "..                                                ...   \n",
       "95  On first impression, the new location in Wexfo...   \n",
       "96  Went into the restaurant and waited to be seat...   \n",
       "97  Met a friend for breakfast. Waited quite awhil...   \n",
       "98  I wanted to like this place more, but it was s...   \n",
       "99  We waited until 8:20 and still no sign of life...   \n",
       "\n",
       "                               text_without_stopwords  \n",
       "0   Disappointed Waffle. After third cup coffee wa...  \n",
       "1   My hubby really wanted try waffles one bluster...  \n",
       "2   I've love Waffles INC long time--since New Bri...  \n",
       "3   On Monday morning 9:30, one would expect servi...  \n",
       "4   What welcome addition Wexford! Literally locat...  \n",
       "..                                                ...  \n",
       "95  On first impression, new location Wexford one ...  \n",
       "96  Went restaurant waited seated. Had seat 2. Lot...  \n",
       "97  Met friend breakfast. Waited quite awhile serv...  \n",
       "98  I wanted like place more, solidly average.  Th...  \n",
       "99  We waited 8:20 still sign life!!  Soooo lights...  \n",
       "\n",
       "[100 rows x 2 columns]"
      ]
     },
     "execution_count": 103,
     "metadata": {},
     "output_type": "execute_result"
    }
   ],
   "source": [
    "B1"
   ]
  },
  {
   "cell_type": "code",
   "execution_count": 104,
   "metadata": {},
   "outputs": [
    {
     "data": {
      "image/png": "[encoded data removed]",
      "text/plain": [
       "<Figure size 432x288 with 1 Axes>"
      ]
     },
     "metadata": {
      "needs_background": "light"
     },
     "output_type": "display_data"
    }
   ],
   "source": [
    "# Stemming\n",
    "ps = PorterStemmer()\n",
    "B1['stemmed_text'] = B1['text_without_stopwords'].apply(lambda x: ps.stem(x))\n",
    "\n",
    "# Word Frequency Before Stemming\n",
    "countsBefore = B1.text_without_stopwords.str.split(expand=True).stack().value_counts()\n",
    "\n",
    "plt.plot(countsBefore.head(10))\n",
    "plt.yscale(\"log\")\n",
    "\n",
    "# Word Frequency After Stemming\n",
    "countsAfter = B1.text_without_stopwords.str.split(expand=True).stack().value_counts()\n",
    "\n",
    "plt.plot(countsBefore.head(10))\n",
    "plt.yscale(\"log\")"
   ]
  },
  {
   "cell_type": "code",
   "execution_count": 108,
   "metadata": {},
   "outputs": [
    {
     "name": "stdout",
     "output_type": "stream",
     "text": [
      "random num for b2:  18\n"
     ]
    }
   ],
   "source": [
    "# Select business b2 and prepare B2\n",
    "uniqueBusiness = data['business_id'].unique()\n",
    "idx2 = random.randint(0, len(uniqueBusiness)-1)\n",
    "print('random num for b2: ', idx2)\n",
    "b2 = uniqueBusiness[1]\n",
    "B2 = data.loc[data['business_id'] == b2]\n",
    "B2 = pd.DataFrame(B2, columns = ['text'])\n",
    "B2.rename(columns={\"text\": \"original_text\"}, inplace = True)"
   ]
  },
  {
   "cell_type": "code",
   "execution_count": 109,
   "metadata": {},
   "outputs": [
    {
     "data": {
      "text/html": [
       "<div>\n",
       "<style scoped>\n",
       "    .dataframe tbody tr th:only-of-type {\n",
       "        vertical-align: middle;\n",
       "    }\n",
       "\n",
       "    .dataframe tbody tr th {\n",
       "        vertical-align: top;\n",
       "    }\n",
       "\n",
       "    .dataframe thead th {\n",
       "        text-align: right;\n",
       "    }\n",
       "</style>\n",
       "<table border=\"1\" class=\"dataframe\">\n",
       "  <thead>\n",
       "    <tr style=\"text-align: right;\">\n",
       "      <th></th>\n",
       "      <th>original_text</th>\n",
       "    </tr>\n",
       "  </thead>\n",
       "  <tbody>\n",
       "    <tr>\n",
       "      <th>0</th>\n",
       "      <td>Good Korean grill near Eaton Centre. The marin...</td>\n",
       "    </tr>\n",
       "    <tr>\n",
       "      <th>1</th>\n",
       "      <td>Good food..well you have to cook yourself.. bu...</td>\n",
       "    </tr>\n",
       "    <tr>\n",
       "      <th>2</th>\n",
       "      <td>I don't think I've ever been so disappointed i...</td>\n",
       "    </tr>\n",
       "    <tr>\n",
       "      <th>3</th>\n",
       "      <td>Great lunch price of $11 after tax and tip! \\n...</td>\n",
       "    </tr>\n",
       "    <tr>\n",
       "      <th>4</th>\n",
       "      <td>Really bad service. You have to remind the ser...</td>\n",
       "    </tr>\n",
       "    <tr>\n",
       "      <th>...</th>\n",
       "      <td>...</td>\n",
       "    </tr>\n",
       "    <tr>\n",
       "      <th>95</th>\n",
       "      <td>You get what you pay for... and cheap is defin...</td>\n",
       "    </tr>\n",
       "    <tr>\n",
       "      <th>96</th>\n",
       "      <td>Was here by myself today. Probably should go w...</td>\n",
       "    </tr>\n",
       "    <tr>\n",
       "      <th>97</th>\n",
       "      <td>The only thing I like about this restaurant is...</td>\n",
       "    </tr>\n",
       "    <tr>\n",
       "      <th>98</th>\n",
       "      <td>Three friends and I dropped by here for lunch ...</td>\n",
       "    </tr>\n",
       "    <tr>\n",
       "      <th>99</th>\n",
       "      <td>where else can you get sooo much delicious mea...</td>\n",
       "    </tr>\n",
       "  </tbody>\n",
       "</table>\n",
       "<p>100 rows × 1 columns</p>\n",
       "</div>"
      ],
      "text/plain": [
       "                                        original_text\n",
       "0   Good Korean grill near Eaton Centre. The marin...\n",
       "1   Good food..well you have to cook yourself.. bu...\n",
       "2   I don't think I've ever been so disappointed i...\n",
       "3   Great lunch price of $11 after tax and tip! \\n...\n",
       "4   Really bad service. You have to remind the ser...\n",
       "..                                                ...\n",
       "95  You get what you pay for... and cheap is defin...\n",
       "96  Was here by myself today. Probably should go w...\n",
       "97  The only thing I like about this restaurant is...\n",
       "98  Three friends and I dropped by here for lunch ...\n",
       "99  where else can you get sooo much delicious mea...\n",
       "\n",
       "[100 rows x 1 columns]"
      ]
     },
     "execution_count": 109,
     "metadata": {},
     "output_type": "execute_result"
    }
   ],
   "source": [
    "B2.reset_index(inplace = True)\n",
    "B2.drop(['index'], axis=1, inplace = True)\n",
    "B2"
   ]
  },
  {
   "cell_type": "code",
   "execution_count": 110,
   "metadata": {},
   "outputs": [],
   "source": [
    "# Remove stopwords\n",
    "for rowIdx in range(len(B2)):\n",
    "    newString = ''\n",
    "    s = B2.iloc[rowIdx]['original_text']\n",
    "    for idx, word in enumerate(s.split(' ')):\n",
    "        if word not in stopwords.words('english'):\n",
    "            if idx == len(s)-1:\n",
    "                newString = newString + word\n",
    "            else:\n",
    "                newString = newString + word + ' '\n",
    "    \n",
    "    B2.loc[rowIdx, 'text_without_stopwords'] = newString"
   ]
  },
  {
   "cell_type": "code",
   "execution_count": 112,
   "metadata": {},
   "outputs": [
    {
     "data": {
      "image/png": "[encoded data removed]",
      "text/plain": [
       "<Figure size 432x288 with 1 Axes>"
      ]
     },
     "metadata": {
      "needs_background": "light"
     },
     "output_type": "display_data"
    }
   ],
   "source": [
    "# Stemming\n",
    "ps = PorterStemmer()\n",
    "B2['stemmed_text'] = B2['text_without_stopwords'].apply(lambda x: ps.stem(x))\n",
    "\n",
    "# Word Frequency Before Stemming\n",
    "countsBefore = B2.text_without_stopwords.str.split(expand=True).stack().value_counts()\n",
    "\n",
    "plt.plot(countsBefore.head(10))\n",
    "plt.yscale(\"log\")\n",
    "\n",
    "# Word Frequency After Stemming\n",
    "countsAfter = B2.text_without_stopwords.str.split(expand=True).stack().value_counts()\n",
    "\n",
    "plt.plot(countsBefore.head(10))\n",
    "plt.yscale(\"log\")"
   ]
  },
  {
   "cell_type": "code",
   "execution_count": null,
   "metadata": {},
   "outputs": [],
   "source": []
  }
 ],
 "metadata": {
  "kernelspec": {
   "display_name": "Python 3",
   "language": "python",
   "name": "python3"
  },
  "language_info": {
   "codemirror_mode": {
    "name": "ipython",
    "version": 3
   },
   "file_extension": ".py",
   "mimetype": "text/x-python",
   "name": "python",
   "nbconvert_exporter": "python",
   "pygments_lexer": "ipython3",
   "version": "3.8.3"
  }
 },
 "nbformat": 4,
 "nbformat_minor": 4
}
