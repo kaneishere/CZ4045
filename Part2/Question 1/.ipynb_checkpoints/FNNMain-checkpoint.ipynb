{
 "cells": [
  {
   "cell_type": "markdown",
   "metadata": {
    "id": "bahPjR3cTqaN"
   },
   "source": [
    "# Import and declaring certain arguments"
   ]
  },
  {
   "cell_type": "code",
   "execution_count": 8,
   "metadata": {
    "executionInfo": {
     "elapsed": 5618,
     "status": "ok",
     "timestamp": 1606635726018,
     "user": {
      "displayName": "yong wei",
      "photoUrl": "https://lh3.googleusercontent.com/a-/AOh14GhYJ6D3p-i8GPWEqh4u2s4VniV_lHZd6l3-eHSaqA=s64",
      "userId": "07110467073693299033"
     },
     "user_tz": -480
    },
    "id": "NZqzJsCjTXu_"
   },
   "outputs": [],
   "source": [
    "# coding: utf-8\n",
    "import argparse\n",
    "import time\n",
    "import math\n",
    "import os\n",
    "import torch\n",
    "import torch.nn as nn\n",
    "import torch.onnx\n",
    "import data\n",
    "import model\n",
    "import torch.optim as optim\n",
    "import matplotlib.pyplot as plt\n",
    "import numpy as np\n",
    "import math"
   ]
  },
  {
   "cell_type": "code",
   "execution_count": 9,
   "metadata": {
    "executionInfo": {
     "elapsed": 5468,
     "status": "ok",
     "timestamp": 1606635726020,
     "user": {
      "displayName": "yong wei",
      "photoUrl": "https://lh3.googleusercontent.com/a-/AOh14GhYJ6D3p-i8GPWEqh4u2s4VniV_lHZd6l3-eHSaqA=s64",
      "userId": "07110467073693299033"
     },
     "user_tz": -480
    },
    "id": "ogqV14bhTkAV"
   },
   "outputs": [],
   "source": [
    "\n",
    "class Args:\n",
    "  data = './data/wikitext-2'\n",
    "  model = 'FNNModel'\n",
    "  emsize = 200\n",
    "  context_size = 8\n",
    "  nhid = 200\n",
    "  nlayers = 2\n",
    "  lr = 20\n",
    "  clip = 0.25\n",
    "  epochs = 40\n",
    "  batch_size = 8\n",
    "  bptt = 35\n",
    "  dropout = 0.2\n",
    "  tied = True\n",
    "  seed = 1111\n",
    "  cuda = True\n",
    "  log_interval = 200\n",
    "  save = 'model.pt'\n",
    "  onnx_export = ''\n",
    "  nhead = 2\n",
    "  dry_run =  True\n",
    "\n",
    "args=Args()"
   ]
  },
  {
   "cell_type": "code",
   "execution_count": 10,
   "metadata": {
    "executionInfo": {
     "elapsed": 5333,
     "status": "ok",
     "timestamp": 1606635726021,
     "user": {
      "displayName": "yong wei",
      "photoUrl": "https://lh3.googleusercontent.com/a-/AOh14GhYJ6D3p-i8GPWEqh4u2s4VniV_lHZd6l3-eHSaqA=s64",
      "userId": "07110467073693299033"
     },
     "user_tz": -480
    },
    "id": "x1HKajQETmPN"
   },
   "outputs": [],
   "source": [
    "torch.manual_seed(args.seed)\n",
    "if torch.cuda.is_available():\n",
    "    if not args.cuda:\n",
    "        print(\"WARNING: You have a CUDA device, so you should probably run with --cuda\")\n",
    "\n",
    "device = torch.device(\"cuda\" if args.cuda else \"cpu\")\n",
    "\n"
   ]
  },
  {
   "cell_type": "markdown",
   "metadata": {
    "id": "Os7w9It9TzTz"
   },
   "source": [
    "# Load data"
   ]
  },
  {
   "cell_type": "code",
   "execution_count": 11,
   "metadata": {
    "executionInfo": {
     "elapsed": 8219,
     "status": "ok",
     "timestamp": 1606635729217,
     "user": {
      "displayName": "yong wei",
      "photoUrl": "https://lh3.googleusercontent.com/a-/AOh14GhYJ6D3p-i8GPWEqh4u2s4VniV_lHZd6l3-eHSaqA=s64",
      "userId": "07110467073693299033"
     },
     "user_tz": -480
    },
    "id": "EVggFpzQToVN"
   },
   "outputs": [],
   "source": [
    "###############################################################################\n",
    "# Load data\n",
    "###############################################################################\n",
    "\n",
    "corpus = data.Corpus(args.data)\n",
    "\n",
    "# Starting from sequential data, batchify arranges the dataset into columns.\n",
    "# For instance, with the alphabet as the sequence and batch size 4, we'd get\n",
    "# ┌ a g m s ┐\n",
    "# │ b h n t │\n",
    "# │ c i o u │\n",
    "# │ d j p v │\n",
    "# │ e k q w │\n",
    "# └ f l r x ┘.\n",
    "# These columns are treated as independent by the model, which means that the\n",
    "# dependence of e. g. 'g' on 'f' can not be learned, but allows more efficient\n",
    "# batch processing.\n"
   ]
  },
  {
   "cell_type": "code",
   "execution_count": 13,
   "metadata": {
    "executionInfo": {
     "elapsed": 4220,
     "status": "ok",
     "timestamp": 1606635729219,
     "user": {
      "displayName": "yong wei",
      "photoUrl": "https://lh3.googleusercontent.com/a-/AOh14GhYJ6D3p-i8GPWEqh4u2s4VniV_lHZd6l3-eHSaqA=s64",
      "userId": "07110467073693299033"
     },
     "user_tz": -480
    },
    "id": "UgnCUtQgskp6"
   },
   "outputs": [],
   "source": [
    "def batchify(data, bsz):\n",
    "    value=[]\n",
    "    data = data.numpy()\n",
    "    for i,word in enumerate(data):\n",
    "        if i+bsz>= len(data):\n",
    "            # sentence boundary reached\n",
    "            # ignoring sentence less than 3 words\n",
    "            break\n",
    "        # convert word to id\n",
    "        value1 = []\n",
    "        for j in range(bsz+1):\n",
    "            value1.append(data[i+j])\n",
    "        value.append(value1)\n",
    "    value = torch.LongTensor(value)\n",
    "    return value.to(device)"
   ]
  },
  {
   "cell_type": "code",
   "execution_count": 14,
   "metadata": {
    "executionInfo": {
     "elapsed": 24137,
     "status": "ok",
     "timestamp": 1606635749311,
     "user": {
      "displayName": "yong wei",
      "photoUrl": "https://lh3.googleusercontent.com/a-/AOh14GhYJ6D3p-i8GPWEqh4u2s4VniV_lHZd6l3-eHSaqA=s64",
      "userId": "07110467073693299033"
     },
     "user_tz": -480
    },
    "id": "8aFmzNuDskp6"
   },
   "outputs": [],
   "source": [
    "# 8-gram language model\n",
    "\n",
    "eval_batch_size = 8\n",
    "train_data = batchify(corpus.train, args.context_size)\n",
    "val_data = batchify(corpus.valid, eval_batch_size)\n",
    "test_data = batchify(corpus.test, eval_batch_size)"
   ]
  },
  {
   "cell_type": "code",
   "execution_count": 15,
   "metadata": {
    "colab": {
     "base_uri": "https://localhost:8080/"
    },
    "executionInfo": {
     "elapsed": 23755,
     "status": "ok",
     "timestamp": 1606635749319,
     "user": {
      "displayName": "yong wei",
      "photoUrl": "https://lh3.googleusercontent.com/a-/AOh14GhYJ6D3p-i8GPWEqh4u2s4VniV_lHZd6l3-eHSaqA=s64",
      "userId": "07110467073693299033"
     },
     "user_tz": -480
    },
    "id": "5DwL5-hhskp6",
    "outputId": "50573950-cde3-4109-c904-19e807f218f5"
   },
   "outputs": [],
   "source": [
    "#torch.set_printoptions(edgeitems=100)\n",
    "#print(train_data)"
   ]
  },
  {
   "cell_type": "markdown",
   "metadata": {
    "id": "0DkpDwi-w2Wf"
   },
   "source": [
    "# Get data and labels"
   ]
  },
  {
   "cell_type": "code",
   "execution_count": 16,
   "metadata": {
    "executionInfo": {
     "elapsed": 23209,
     "status": "ok",
     "timestamp": 1606635749321,
     "user": {
      "displayName": "yong wei",
      "photoUrl": "https://lh3.googleusercontent.com/a-/AOh14GhYJ6D3p-i8GPWEqh4u2s4VniV_lHZd6l3-eHSaqA=s64",
      "userId": "07110467073693299033"
     },
     "user_tz": -480
    },
    "id": "6_R5kUkpw0x_"
   },
   "outputs": [],
   "source": [
    "# get the train and target for the train values\n",
    "def get_batch(source, i):\n",
    "    seq_len = min(args.bptt, len(source) - 1 - i)\n",
    "    data = source[i:i+seq_len, 0:args.context_size]\n",
    "    target = source[i+1:i+1+seq_len, args.context_size-1:args.context_size]\n",
    "    target = target.narrow(1,0,1).contiguous().view(-1)\n",
    "    return data, target"
   ]
  },
  {
   "cell_type": "code",
   "execution_count": 17,
   "metadata": {
    "executionInfo": {
     "elapsed": 22991,
     "status": "ok",
     "timestamp": 1606635749323,
     "user": {
      "displayName": "yong wei",
      "photoUrl": "https://lh3.googleusercontent.com/a-/AOh14GhYJ6D3p-i8GPWEqh4u2s4VniV_lHZd6l3-eHSaqA=s64",
      "userId": "07110467073693299033"
     },
     "user_tz": -480
    },
    "id": "P1VORrg9xHkO"
   },
   "outputs": [],
   "source": [
    "data, target = get_batch(train_data, 0)"
   ]
  },
  {
   "cell_type": "markdown",
   "metadata": {
    "id": "ixljmNNiwzci"
   },
   "source": [
    "# Feed-forward Neural Network"
   ]
  },
  {
   "cell_type": "code",
   "execution_count": 21,
   "metadata": {
    "executionInfo": {
     "elapsed": 21178,
     "status": "ok",
     "timestamp": 1606635749326,
     "user": {
      "displayName": "yong wei",
      "photoUrl": "https://lh3.googleusercontent.com/a-/AOh14GhYJ6D3p-i8GPWEqh4u2s4VniV_lHZd6l3-eHSaqA=s64",
      "userId": "07110467073693299033"
     },
     "user_tz": -480
    },
    "id": "lS2NDk_JGcTb"
   },
   "outputs": [],
   "source": [
    "# New FNN class\n",
    "\n",
    "class FNNModel(nn.Module):\n",
    "    # Context_size is set to be 8 given that it is an 8-gram model. \n",
    "    # Embedding dimension is 200\n",
    "    # Hidden is the number of hidden neurons\n",
    "    \n",
    "    def __init__(self, vocab_size, embedding_dim, context_size, hidden, tie_weights=False):\n",
    "        super(FNNModel, self).__init__()\n",
    "        self.context_size = context_size\n",
    "        self.embedding_dim = embedding_dim\n",
    "        self.embeddings = nn.Embedding(vocab_size, embedding_dim)\n",
    "        self.linear1 = nn.Linear(context_size * embedding_dim, hidden)\n",
    "        # Linear 2 is the decoder that returns a variable based on vocab size \n",
    "        self.linear2 = nn.Linear(hidden, vocab_size, bias = False)\n",
    "\n",
    "        #tie the embedding weigths and linear decoder together \n",
    "        if tie_weights:\n",
    "          if hidden != embedding_dim:\n",
    "              raise ValueError('When using the tied flag, nhid must be equal to emsize')\n",
    "          self.linear2.weight = self.embeddings.weight\n",
    "\n",
    "        #initiate the weights \n",
    "        self.init_weights()\n",
    "\n",
    "    #Initiate weights \n",
    "    def init_weights(self):\n",
    "        initrange = 0.1\n",
    "        nn.init.uniform_(self.embeddings.weight, -initrange, initrange)\n",
    "        nn.init.zeros_(self.linear2.weight)\n",
    "        nn.init.uniform_(self.linear2.weight, -initrange, initrange)\n",
    "\n",
    "\n",
    "    def forward(self, inputs):\n",
    "        embeds = self.embeddings(inputs).view((-1,self.context_size * self.embedding_dim))\n",
    "        # Apply tanh activation function\n",
    "        out = torch.tanh(self.linear1(embeds))\n",
    "        out = self.linear2(out)\n",
    "        # The output layer is a softmax layer\n",
    "        log_probs = torch.nn.functional.log_softmax(out, dim=1)\n",
    "        # return log probabilities\n",
    "        return log_probs"
   ]
  },
  {
   "cell_type": "markdown",
   "metadata": {
    "id": "Xn3SErKE8VWM"
   },
   "source": [
    "# Declare helper functions  "
   ]
  },
  {
   "cell_type": "code",
   "execution_count": 27,
   "metadata": {
    "executionInfo": {
     "elapsed": 17592,
     "status": "ok",
     "timestamp": 1606635749328,
     "user": {
      "displayName": "yong wei",
      "photoUrl": "https://lh3.googleusercontent.com/a-/AOh14GhYJ6D3p-i8GPWEqh4u2s4VniV_lHZd6l3-eHSaqA=s64",
      "userId": "07110467073693299033"
     },
     "user_tz": -480
    },
    "id": "5b0MbgDyqde5"
   },
   "outputs": [],
   "source": [
    "# get accuracy from log probabilities\n",
    "def get_accuracy(log_probs, labels):\n",
    "    probs = torch.exp(log_probs)\n",
    "    predicted_label = torch.argmax(probs, dim=1)\n",
    "    acc = (predicted_label == labels).float().mean()\n",
    "    return acc\n",
    "\n",
    "\n",
    "\n",
    "# evaluate model\n",
    "def evaluate(model, criterion, data_source):\n",
    "    model.eval()\n",
    "    \n",
    "    avg_acc = 0\n",
    "    avg_loss = 0\n",
    "    count = 0\n",
    "\n",
    "    with torch.no_grad():\n",
    "        start_time = time.time()\n",
    "        for idx, data_tensor in enumerate(range(0, data_source.size(0) - 1, args.bptt)):\n",
    "            context, target = get_batch(data_source, data_tensor)\n",
    "            context, target = context.to(device), target.to(device)\n",
    "            log_probs = model(context)\n",
    "            avg_loss += criterion(log_probs, target).item()\n",
    "            avg_acc += get_accuracy(log_probs, target)\n",
    "            count += 1\n",
    "            if idx % 500 == 0: \n",
    "                print(\"Iteration {}. Average Loss: {}; Average Acc:{}; Time taken(s): {}\".format(idx, avg_loss / count, avg_acc / count, (time.time()-start_time)))\n",
    "                start_time = time.time()\n",
    "\n",
    "    return avg_acc / count, avg_loss / count\n"
   ]
  },
  {
   "cell_type": "markdown",
   "metadata": {
    "id": "UPvjarqo8cis"
   },
   "source": [
    "# Training the model and evaluating on val set"
   ]
  },
  {
   "cell_type": "code",
   "execution_count": 28,
   "metadata": {
    "colab": {
     "base_uri": "https://localhost:8080/"
    },
    "executionInfo": {
     "elapsed": 6248251,
     "status": "ok",
     "timestamp": 1606628616731,
     "user": {
      "displayName": "yong wei",
      "photoUrl": "https://lh3.googleusercontent.com/a-/AOh14GhYJ6D3p-i8GPWEqh4u2s4VniV_lHZd6l3-eHSaqA=s64",
      "userId": "07110467073693299033"
     },
     "user_tz": -480
    },
    "id": "ReILiFEdqt3X",
    "outputId": "86f18681-fbb7-426a-b392-51a240714ed7"
   },
   "outputs": [
    {
     "name": "stdout",
     "output_type": "stream",
     "text": [
      "\n",
      " === Training model Epoch: 1 ===\n",
      "Iteration 0 of epoch 0. Loss: 10.41147518157959; Acc:0.0; Time taken (s): 0.04547119140625 ppl 33238.87\n",
      "Iteration 1000 of epoch 0. Loss: 9.138193130493164; Acc:0.08571428805589676; Time taken (s): 40.02992606163025 ppl  9303.94\n",
      "\n",
      "=== Evaluate data ===\n",
      "Iteration 0. Average Loss: 9.938157081604004; Average Acc:0.11428571492433548; Time taken(s): 0.002991199493408203\n",
      "Iteration 500. Average Loss: 9.652449767746612; Average Acc:0.07003139704465866; Time taken(s): 1.817701816558838\n",
      "Iteration 1000. Average Loss: 9.581222867632246; Average Acc:0.07284155488014221; Time taken(s): 1.8080673217773438\n",
      "Iteration 1500. Average Loss: 9.607123930242997; Average Acc:0.07107685506343842; Time taken(s): 1.8921818733215332\n",
      "Iteration 2000. Average Loss: 9.598821846858554; Average Acc:0.0697796419262886; Time taken(s): 1.9319250583648682\n",
      "Iteration 2500. Average Loss: 9.572211131912287; Average Acc:0.07160539925098419; Time taken(s): 1.911665678024292\n"
     ]
    },
    {
     "ename": "KeyboardInterrupt",
     "evalue": "",
     "output_type": "error",
     "traceback": [
      "\u001b[1;31m---------------------------------------------------------------------------\u001b[0m",
      "\u001b[1;31mKeyboardInterrupt\u001b[0m                         Traceback (most recent call last)",
      "\u001b[1;32m<ipython-input-28-4f175f212567>\u001b[0m in \u001b[0;36m<module>\u001b[1;34m\u001b[0m\n\u001b[0;32m     74\u001b[0m     \u001b[1;31m#Evaluating the model on validation data set\u001b[0m\u001b[1;33m\u001b[0m\u001b[1;33m\u001b[0m\u001b[1;33m\u001b[0m\u001b[0m\n\u001b[0;32m     75\u001b[0m     \u001b[0mprint\u001b[0m\u001b[1;33m(\u001b[0m\u001b[1;34m\"\\n=== Evaluate data ===\"\u001b[0m\u001b[1;33m)\u001b[0m\u001b[1;33m\u001b[0m\u001b[1;33m\u001b[0m\u001b[0m\n\u001b[1;32m---> 76\u001b[1;33m     \u001b[0mev_acc\u001b[0m\u001b[1;33m,\u001b[0m \u001b[0mev_loss\u001b[0m \u001b[1;33m=\u001b[0m \u001b[0mevaluate\u001b[0m\u001b[1;33m(\u001b[0m\u001b[0mmodel\u001b[0m\u001b[1;33m,\u001b[0m \u001b[0mloss_function\u001b[0m\u001b[1;33m,\u001b[0m \u001b[0mval_data\u001b[0m\u001b[1;33m)\u001b[0m\u001b[1;33m\u001b[0m\u001b[1;33m\u001b[0m\u001b[0m\n\u001b[0m\u001b[0;32m     77\u001b[0m     \u001b[0mev_ppl\u001b[0m \u001b[1;33m=\u001b[0m \u001b[0mmath\u001b[0m\u001b[1;33m.\u001b[0m\u001b[0mexp\u001b[0m\u001b[1;33m(\u001b[0m\u001b[0mdev_loss\u001b[0m\u001b[1;33m)\u001b[0m\u001b[1;33m\u001b[0m\u001b[1;33m\u001b[0m\u001b[0m\n\u001b[0;32m     78\u001b[0m     \u001b[0mprint\u001b[0m\u001b[1;33m(\u001b[0m\u001b[1;34m\"Epoch {} complete. Accuracy: {}; Loss: {};  Perplexity: {}\"\u001b[0m\u001b[1;33m.\u001b[0m\u001b[0mformat\u001b[0m\u001b[1;33m(\u001b[0m\u001b[0mepoch\u001b[0m\u001b[1;33m,\u001b[0m \u001b[0mev_acc\u001b[0m\u001b[1;33m,\u001b[0m \u001b[0mev_loss\u001b[0m\u001b[1;33m,\u001b[0m \u001b[0mev_ppl\u001b[0m\u001b[1;33m)\u001b[0m\u001b[1;33m)\u001b[0m\u001b[1;33m\u001b[0m\u001b[1;33m\u001b[0m\u001b[0m\n",
      "\u001b[1;32m<ipython-input-27-75ff94103f7e>\u001b[0m in \u001b[0;36mevaluate\u001b[1;34m(model, criterion, data_source)\u001b[0m\n\u001b[0;32m     22\u001b[0m             \u001b[0mcontext\u001b[0m\u001b[1;33m,\u001b[0m \u001b[0mtarget\u001b[0m \u001b[1;33m=\u001b[0m \u001b[0mcontext\u001b[0m\u001b[1;33m.\u001b[0m\u001b[0mto\u001b[0m\u001b[1;33m(\u001b[0m\u001b[0mdevice\u001b[0m\u001b[1;33m)\u001b[0m\u001b[1;33m,\u001b[0m \u001b[0mtarget\u001b[0m\u001b[1;33m.\u001b[0m\u001b[0mto\u001b[0m\u001b[1;33m(\u001b[0m\u001b[0mdevice\u001b[0m\u001b[1;33m)\u001b[0m\u001b[1;33m\u001b[0m\u001b[1;33m\u001b[0m\u001b[0m\n\u001b[0;32m     23\u001b[0m             \u001b[0mlog_probs\u001b[0m \u001b[1;33m=\u001b[0m \u001b[0mmodel\u001b[0m\u001b[1;33m(\u001b[0m\u001b[0mcontext\u001b[0m\u001b[1;33m)\u001b[0m\u001b[1;33m\u001b[0m\u001b[1;33m\u001b[0m\u001b[0m\n\u001b[1;32m---> 24\u001b[1;33m             \u001b[0mavg_loss\u001b[0m \u001b[1;33m+=\u001b[0m \u001b[0mcriterion\u001b[0m\u001b[1;33m(\u001b[0m\u001b[0mlog_probs\u001b[0m\u001b[1;33m,\u001b[0m \u001b[0mtarget\u001b[0m\u001b[1;33m)\u001b[0m\u001b[1;33m.\u001b[0m\u001b[0mitem\u001b[0m\u001b[1;33m(\u001b[0m\u001b[1;33m)\u001b[0m\u001b[1;33m\u001b[0m\u001b[1;33m\u001b[0m\u001b[0m\n\u001b[0m\u001b[0;32m     25\u001b[0m             \u001b[0mavg_acc\u001b[0m \u001b[1;33m+=\u001b[0m \u001b[0mget_accuracy\u001b[0m\u001b[1;33m(\u001b[0m\u001b[0mlog_probs\u001b[0m\u001b[1;33m,\u001b[0m \u001b[0mtarget\u001b[0m\u001b[1;33m)\u001b[0m\u001b[1;33m\u001b[0m\u001b[1;33m\u001b[0m\u001b[0m\n\u001b[0;32m     26\u001b[0m             \u001b[0mcount\u001b[0m \u001b[1;33m+=\u001b[0m \u001b[1;36m1\u001b[0m\u001b[1;33m\u001b[0m\u001b[1;33m\u001b[0m\u001b[0m\n",
      "\u001b[1;31mKeyboardInterrupt\u001b[0m: "
     ]
    }
   ],
   "source": [
    "# Using negative log-likelihood loss\n",
    "loss_function = nn.NLLLoss()\n",
    "\n",
    "# create model\n",
    "ntokens = len(corpus.dictionary)\n",
    "model = FNNModel(ntokens, args.emsize, args.context_size, args.nhid).to(device)\n",
    "\n",
    "# ADAM optimizer\n",
    "optimizer = optim.Adam(model.parameters(), lr = 0.01)\n",
    "\n",
    "#define epochs\n",
    "epochs = 10\n",
    "\n",
    "best_acc = 0\n",
    "# perplexity\n",
    "best_ppl = float('inf')\n",
    "best_model_path = None\n",
    "#training set results \n",
    "training_loss=[]\n",
    "training_ppl=[]\n",
    "training_acc=[]\n",
    "\n",
    "#val set results\n",
    "val_loss = []\n",
    "val_ppl=[]\n",
    "val_acc=[]\n",
    "\n",
    "for epoch in range(epochs):\n",
    "    count = 0\n",
    "    start_time = time.time()\n",
    "    total_loss = 0.0\n",
    "    total_ppl =0.0\n",
    "    total_acc=0.0\n",
    "    print(\"\\n === Training model Epoch: {} ===\".format(epoch+1))\n",
    "    for idx, data_tensor in enumerate(range(0, train_data.size(0) - 1, args.bptt)):\n",
    "        context_tensor, target_tensor= get_batch(train_data, data_tensor)\n",
    "        context_tensor, target_tensor = context_tensor.to(device), target_tensor.to(device)\n",
    "\n",
    "        # clear the gradient\n",
    "        model.zero_grad()\n",
    "\n",
    "        # get log probabilities over next words\n",
    "        log_probs = model(context_tensor)\n",
    "\n",
    "        # calculate current accuracy\n",
    "        acc = get_accuracy(log_probs, target_tensor)\n",
    "\n",
    "        # compute loss function\n",
    "        loss = loss_function(log_probs, target_tensor)\n",
    "\n",
    "        # update gradient\n",
    "        loss.backward()\n",
    "        optimizer.step()\n",
    "        \n",
    "        # get total loss and perplexity\n",
    "        total_loss = total_loss + loss.item()\n",
    "        total_ppl = total_ppl + math.exp(loss.item())\n",
    "        total_acc = total_acc+ acc\n",
    "\n",
    "\n",
    "        if idx % 1000 == 0: \n",
    "            print(\"Iteration {} of epoch {}. Loss: {}; Acc:{}; Time taken (s): {} ppl {:8.2f}\".format(idx, epoch, loss.item(), acc, (time.time()-start_time),  math.exp(loss.item())))\n",
    "            start_time = time.time()\n",
    "            if count != 0:\n",
    "                break\n",
    "            count += 1\n",
    "    \n",
    "    #Getting the total loss, perplexity and accuracy\n",
    "    total_runs = math.floor((train_data.size(0) - 1)/(args.bptt))\n",
    "    training_loss.append(total_loss / total_runs)\n",
    "    training_ppl.append(total_ppl / total_runs)\n",
    "    training_acc.append(total_acc/ total_runs)\n",
    "\n",
    "    #Evaluating the model on validation data set\n",
    "    print(\"\\n=== Evaluate data ===\")\n",
    "    ev_acc, ev_loss = evaluate(model, loss_function, val_data)\n",
    "    ev_ppl = math.exp(dev_loss)\n",
    "    print(\"Epoch {} complete. Accuracy: {}; Loss: {};  Perplexity: {}\".format(epoch, ev_acc, ev_loss, ev_ppl))\n",
    "    val_acc.append(ev_acc)\n",
    "    val_loss.append(ev_loss)\n",
    "    val_ppl.append(ev_per)\n",
    "\n",
    "    # saving the model with lowest perplexity\n",
    "    if ev_per < best_ppl:\n",
    "        print(\"Perplexity improved from {} to {}, saving model...\".format(best_ppl, ev_per))\n",
    "        best_ppl = ev_per\n",
    "        with open(args.save, 'wb') as f:\n",
    "            torch.save(model, f)\n",
    "        # set best model path\n"
   ]
  },
  {
   "cell_type": "code",
   "execution_count": 35,
   "metadata": {
    "colab": {
     "base_uri": "https://localhost:8080/",
     "height": 313
    },
    "executionInfo": {
     "elapsed": 941,
     "status": "ok",
     "timestamp": 1606628915982,
     "user": {
      "displayName": "yong wei",
      "photoUrl": "https://lh3.googleusercontent.com/a-/AOh14GhYJ6D3p-i8GPWEqh4u2s4VniV_lHZd6l3-eHSaqA=s64",
      "userId": "07110467073693299033"
     },
     "user_tz": -480
    },
    "id": "6Y8ffPM8skp7",
    "outputId": "794bd37a-65e9-4d25-a248-709ad7c72971"
   },
   "outputs": [
    {
     "data": {
      "image/png": "[encoded data removed]",
      "text/plain": [
       "<Figure size 432x288 with 1 Axes>"
      ]
     },
     "metadata": {
      "needs_background": "light"
     },
     "output_type": "display_data"
    }
   ],
   "source": [
    "figure(1)\n",
    "plt.plot(loss_values)\n",
    "plt.plot(val_loss)\n",
    "plt.title('FNN Loss')\n",
    "plt.ylabel('loss')\n",
    "plt.xlabel('epoch')\n",
    "plt.legend(['train', 'test'], loc='upper right')\n",
    "plt.show()"
   ]
  },
  {
   "cell_type": "code",
   "execution_count": 37,
   "metadata": {
    "colab": {
     "base_uri": "https://localhost:8080/",
     "height": 313
    },
    "executionInfo": {
     "elapsed": 903,
     "status": "ok",
     "timestamp": 1606628919850,
     "user": {
      "displayName": "yong wei",
      "photoUrl": "https://lh3.googleusercontent.com/a-/AOh14GhYJ6D3p-i8GPWEqh4u2s4VniV_lHZd6l3-eHSaqA=s64",
      "userId": "07110467073693299033"
     },
     "user_tz": -480
    },
    "id": "_-ac3MXlskp7",
    "outputId": "60deed63-937d-4357-c616-4141df7b11a9"
   },
   "outputs": [
    {
     "data": {
      "image/png": "[encoded data removed]",
      "text/plain": [
       "<Figure size 432x288 with 1 Axes>"
      ]
     },
     "metadata": {
      "needs_background": "light"
     },
     "output_type": "display_data"
    }
   ],
   "source": [
    "plt.plot(acc_values)\n",
    "plt.plot(val_acc)\n",
    "plt.title('FNN Accuracy')\n",
    "plt.ylabel('accuracy')\n",
    "plt.xlabel('epoch')\n",
    "plt.legend(['train', 'test'], loc='upper left')\n",
    "plt.show()"
   ]
  },
  {
   "cell_type": "code",
   "execution_count": 38,
   "metadata": {
    "colab": {
     "base_uri": "https://localhost:8080/",
     "height": 313
    },
    "executionInfo": {
     "elapsed": 943,
     "status": "ok",
     "timestamp": 1606628923578,
     "user": {
      "displayName": "yong wei",
      "photoUrl": "https://lh3.googleusercontent.com/a-/AOh14GhYJ6D3p-i8GPWEqh4u2s4VniV_lHZd6l3-eHSaqA=s64",
      "userId": "07110467073693299033"
     },
     "user_tz": -480
    },
    "id": "jrZ_F2WBoAo2",
    "outputId": "8f1b3db3-3f42-459f-863a-3d41216d6eba"
   },
   "outputs": [
    {
     "data": {
      "image/png": "[encoded data removed]",
      "text/plain": [
       "<Figure size 432x288 with 1 Axes>"
      ]
     },
     "metadata": {
      "needs_background": "light"
     },
     "output_type": "display_data"
    }
   ],
   "source": [
    "plt.plot(ppl_values)\n",
    "plt.plot(val_ppl)\n",
    "plt.title('FNN Perplexity')\n",
    "plt.ylabel('perplexity')\n",
    "plt.xlabel('epoch')\n",
    "plt.legend(['train', 'test'], loc='upper right')\n",
    "plt.show()"
   ]
  },
  {
   "cell_type": "markdown",
   "metadata": {
    "id": "n5A94g4D9HmI"
   },
   "source": [
    "# Evaluate on test set"
   ]
  },
  {
   "cell_type": "code",
   "execution_count": null,
   "metadata": {
    "id": "L4tq4ShaoMOs"
   },
   "outputs": [],
   "source": [
    "# Load the best saved model.\n",
    "with open(args.save, 'rb') as f:\n",
    "    model = torch.load(f)"
   ]
  },
  {
   "cell_type": "code",
   "execution_count": null,
   "metadata": {
    "colab": {
     "base_uri": "https://localhost:8080/"
    },
    "executionInfo": {
     "elapsed": 6419,
     "status": "ok",
     "timestamp": 1606630133113,
     "user": {
      "displayName": "yong wei",
      "photoUrl": "https://lh3.googleusercontent.com/a-/AOh14GhYJ6D3p-i8GPWEqh4u2s4VniV_lHZd6l3-eHSaqA=s64",
      "userId": "07110467073693299033"
     },
     "user_tz": -480
    },
    "id": "LZNBU_NB9hBL",
    "outputId": "24a849d1-71f5-4b68-d349-95c0b61b770f"
   },
   "outputs": [
    {
     "name": "stdout",
     "output_type": "stream",
     "text": [
      "Dev Iteration 0 complete. Mean Loss: 5.680124282836914; Mean Acc:0.20000000298023224; Time taken (s): 0.0035195350646972656\n",
      "Dev Iteration 500 complete. Mean Loss: 6.290098849408879; Mean Acc:0.17610502243041992; Time taken (s): 0.4769558906555176\n",
      "Dev Iteration 1000 complete. Mean Loss: 6.309255191258022; Mean Acc:0.1764804571866989; Time taken (s): 0.4161710739135742\n",
      "Dev Iteration 1500 complete. Mean Loss: 6.341735413994176; Mean Acc:0.17502592504024506; Time taken (s): 0.3851742744445801\n",
      "Dev Iteration 2000 complete. Mean Loss: 6.334310414134592; Mean Acc:0.1725277602672577; Time taken (s): 0.38787364959716797\n",
      "Dev Iteration 2500 complete. Mean Loss: 6.325337579182652; Mean Acc:0.1718510538339615; Time taken (s): 0.3876223564147949\n",
      "Dev Iteration 3000 complete. Mean Loss: 6.266843234169924; Mean Acc:0.1763506531715393; Time taken (s): 0.38656067848205566\n",
      "Dev Iteration 3500 complete. Mean Loss: 6.306699532776075; Mean Acc:0.17470096051692963; Time taken (s): 0.38921332359313965\n",
      "Dev Iteration 4000 complete. Mean Loss: 6.297940482499748; Mean Acc:0.17552050948143005; Time taken (s): 0.38689661026000977\n",
      "Dev Iteration 4500 complete. Mean Loss: 6.345192756580793; Mean Acc:0.1724885106086731; Time taken (s): 0.38851189613342285\n",
      "Dev Iteration 5000 complete. Mean Loss: 6.353614268410661; Mean Acc:0.17122295498847961; Time taken (s): 0.39373230934143066\n",
      "Dev Iteration 5500 complete. Mean Loss: 6.341883144775665; Mean Acc:0.17268046736717224; Time taken (s): 0.38503313064575195\n",
      "Dev Iteration 6000 complete. Mean Loss: 6.321306601064918; Mean Acc:0.17435690760612488; Time taken (s): 0.38462066650390625\n",
      "Dev Iteration 6500 complete. Mean Loss: 6.3322390850242005; Mean Acc:0.17509278655052185; Time taken (s): 0.3866288661956787\n",
      "Dev Iteration 7000 complete. Mean Loss: 6.336879749942415; Mean Acc:0.17554794251918793; Time taken (s): 0.4031965732574463\n",
      "=========================================================================================\n",
      "| End of training | test loss  6.34 | test ppl   564.95 | test acc  0.18\n",
      "=========================================================================================\n"
     ]
    }
   ],
   "source": [
    "test_acc, test_loss = evaluate(model, loss_function, test_data)\n",
    "print('End of training. Test loss {:5.2f}, test ppl {:8.2f}, test acc {:5.2f}'.format(test_loss, math.exp(test_loss), test_acc))"
   ]
  },
  {
   "cell_type": "markdown",
   "metadata": {
    "id": "o3PHXt9PAaEX"
   },
   "source": [
    "# share the input  and output layer embeddings "
   ]
  },
  {
   "cell_type": "code",
   "execution_count": null,
   "metadata": {},
   "outputs": [],
   "source": [
    "# Using negative log-likelihood loss\n",
    "loss_function = nn.NLLLoss()\n",
    "\n",
    "# create model\n",
    "ntokens = len(corpus.dictionary)\n",
    "model = FNNModel(ntokens, args.emsize, args.context_size, args.emsize, True).to(device)\n",
    "\n",
    "# ADAM optimizer\n",
    "optimizer = optim.Adam(model.parameters(), lr = 0.01)\n",
    "\n",
    "#define epochs\n",
    "epochs = 10\n",
    "\n",
    "best_acc = 0\n",
    "# perplexity\n",
    "best_ppl = float('inf')\n",
    "best_model_path = None\n",
    "#training set results \n",
    "training_loss=[]\n",
    "training_ppl=[]\n",
    "training_acc=[]\n",
    "\n",
    "#val set results\n",
    "val_loss = []\n",
    "val_ppl=[]\n",
    "val_acc=[]\n",
    "\n",
    "for epoch in range(epochs):\n",
    "    count = 0\n",
    "    start_time = time.time()\n",
    "    total_loss = 0.0\n",
    "    total_ppl =0.0\n",
    "    total_acc=0.0\n",
    "    print(\"\\n === Training model Epoch: {} ===\".format(epoch+1))\n",
    "    for idx, data_tensor in enumerate(range(0, train_data.size(0) - 1, args.bptt)):\n",
    "        context_tensor, target_tensor= get_batch(train_data, data_tensor)\n",
    "        context_tensor, target_tensor = context_tensor.to(device), target_tensor.to(device)\n",
    "\n",
    "        # clear the gradient\n",
    "        model.zero_grad()\n",
    "\n",
    "        # get log probabilities over next words\n",
    "        log_probs = model(context_tensor)\n",
    "\n",
    "        # calculate current accuracy\n",
    "        acc = get_accuracy(log_probs, target_tensor)\n",
    "\n",
    "        # compute loss function\n",
    "        loss = loss_function(log_probs, target_tensor)\n",
    "\n",
    "        # update gradient\n",
    "        loss.backward()\n",
    "        optimizer.step()\n",
    "        \n",
    "        # get total loss and perplexity\n",
    "        total_loss = total_loss + loss.item()\n",
    "        total_ppl = total_ppl + math.exp(loss.item())\n",
    "        total_acc = total_acc+ acc\n",
    "\n",
    "\n",
    "        if idx % 10000 == 0: \n",
    "            print(\"Iteration {} of epoch {}. Loss: {}; Acc:{}; Time taken (s): {} ppl {:8.2f}\".format(idx, epoch, loss.item(), acc, (time.time()-start_time),  math.exp(loss.item())))\n",
    "            start_time = time.time()\n",
    "            if count != 0:\n",
    "                break\n",
    "            count += 1\n",
    "    \n",
    "    #Getting the total loss, perplexity and accuracy\n",
    "    total_runs = math.floor((train_data.size(0) - 1)/(args.bptt))\n",
    "    training_loss.append(total_loss / total_runs)\n",
    "    training_ppl.append(total_ppl / total_runs)\n",
    "    training_acc.append(total_acc/ total_runs)\n",
    "\n",
    "    #Evaluating the model on validation data set\n",
    "    print(\"\\n=== Evaluate data ===\")\n",
    "    ev_acc, ev_loss = evaluate(model, loss_function, val_data)\n",
    "    ev_ppl = math.exp(dev_loss)\n",
    "    print(\"Epoch {} complete. Accuracy: {}; Loss: {};  Perplexity: {}\".format(epoch, ev_acc, ev_loss, ev_ppl))\n",
    "    val_acc.append(ev_acc)\n",
    "    val_loss.append(ev_loss)\n",
    "    val_ppl.append(ev_per)\n",
    "\n",
    "    # saving the model with lowest perplexity\n",
    "    if ev_per < best_ppl:\n",
    "        print(\"Perplexity improved from {} to {}, saving model...\".format(best_ppl, ev_per))\n",
    "        best_ppl = ev_per\n",
    "        with open(args.save, 'wb') as f:\n",
    "            torch.save(model, f)\n",
    "        # set best model path\n",
    "\n"
   ]
  },
  {
   "cell_type": "code",
   "execution_count": 37,
   "metadata": {
    "colab": {
     "base_uri": "https://localhost:8080/",
     "height": 313
    },
    "executionInfo": {
     "elapsed": 2521,
     "status": "ok",
     "timestamp": 1606640626922,
     "user": {
      "displayName": "yong wei",
      "photoUrl": "https://lh3.googleusercontent.com/a-/AOh14GhYJ6D3p-i8GPWEqh4u2s4VniV_lHZd6l3-eHSaqA=s64",
      "userId": "07110467073693299033"
     },
     "user_tz": -480
    },
    "id": "MZxWl-TL8wGH",
    "outputId": "8802f3f5-19b0-4a6f-d722-4ec757c824c0"
   },
   "outputs": [
    {
     "data": {
      "image/png": "[encoded data removed]",
      "text/plain": [
       "<Figure size 432x288 with 1 Axes>"
      ]
     },
     "metadata": {
      "needs_background": "light",
      "tags": []
     },
     "output_type": "display_data"
    },
    {
     "data": {
      "text/plain": [
       "<Figure size 432x288 with 0 Axes>"
      ]
     },
     "metadata": {
      "tags": []
     },
     "output_type": "display_data"
    }
   ],
   "source": [
    "plt.plot(loss_values)\n",
    "plt.plot(val_loss)\n",
    "plt.title('FNN Loss(vi)')\n",
    "plt.ylabel('loss')\n",
    "plt.xlabel('epoch')\n",
    "plt.legend(['train', 'test'], loc='upper right')\n",
    "plt.show()"
   ]
  },
  {
   "cell_type": "code",
   "execution_count": 38,
   "metadata": {
    "colab": {
     "base_uri": "https://localhost:8080/",
     "height": 313
    },
    "executionInfo": {
     "elapsed": 3343,
     "status": "ok",
     "timestamp": 1606640627749,
     "user": {
      "displayName": "yong wei",
      "photoUrl": "https://lh3.googleusercontent.com/a-/AOh14GhYJ6D3p-i8GPWEqh4u2s4VniV_lHZd6l3-eHSaqA=s64",
      "userId": "07110467073693299033"
     },
     "user_tz": -480
    },
    "id": "tlUufvQbPF7y",
    "outputId": "c9fcacf4-2093-442c-a328-9c6c14e9a6ca"
   },
   "outputs": [
    {
     "data": {
      "image/png": "[encoded data removed]",
      "text/plain": [
       "<Figure size 432x288 with 1 Axes>"
      ]
     },
     "metadata": {
      "needs_background": "light",
      "tags": []
     },
     "output_type": "display_data"
    },
    {
     "data": {
      "text/plain": [
       "<Figure size 432x288 with 0 Axes>"
      ]
     },
     "metadata": {
      "tags": []
     },
     "output_type": "display_data"
    }
   ],
   "source": [
    "plt.plot(acc_values)\n",
    "plt.plot(val_acc)\n",
    "plt.title('FNN Accuracy(vi)')\n",
    "plt.ylabel('accuracy')\n",
    "plt.xlabel('epoch')\n",
    "plt.legend(['train', 'test'], loc='upper left')\n",
    "plt.show()"
   ]
  },
  {
   "cell_type": "code",
   "execution_count": 39,
   "metadata": {
    "colab": {
     "base_uri": "https://localhost:8080/",
     "height": 313
    },
    "executionInfo": {
     "elapsed": 3341,
     "status": "ok",
     "timestamp": 1606640627749,
     "user": {
      "displayName": "yong wei",
      "photoUrl": "https://lh3.googleusercontent.com/a-/AOh14GhYJ6D3p-i8GPWEqh4u2s4VniV_lHZd6l3-eHSaqA=s64",
      "userId": "07110467073693299033"
     },
     "user_tz": -480
    },
    "id": "RSbCAYp5PKE4",
    "outputId": "37f3212e-04ef-4aea-c89d-8402da290257"
   },
   "outputs": [
    {
     "data": {
      "image/png": "[encoded data removed]",
      "text/plain": [
       "<Figure size 432x288 with 1 Axes>"
      ]
     },
     "metadata": {
      "needs_background": "light",
      "tags": []
     },
     "output_type": "display_data"
    },
    {
     "data": {
      "text/plain": [
       "<Figure size 432x288 with 0 Axes>"
      ]
     },
     "metadata": {
      "tags": []
     },
     "output_type": "display_data"
    }
   ],
   "source": [
    "plt.plot(ppl_values)\n",
    "plt.plot(val_ppl)\n",
    "plt.title('FNN perplexity(vi)')\n",
    "plt.ylabel('perplexity')\n",
    "plt.xlabel('epoch')\n",
    "plt.legend(['train', 'test'], loc='upper right')\n",
    "plt.show()"
   ]
  },
  {
   "cell_type": "markdown",
   "metadata": {
    "id": "QSqiP5zCPTiY"
   },
   "source": [
    "# generate texts"
   ]
  },
  {
   "cell_type": "code",
   "execution_count": 19,
   "metadata": {
    "executionInfo": {
     "elapsed": 799,
     "status": "ok",
     "timestamp": 1606640913501,
     "user": {
      "displayName": "yong wei",
      "photoUrl": "https://lh3.googleusercontent.com/a-/AOh14GhYJ6D3p-i8GPWEqh4u2s4VniV_lHZd6l3-eHSaqA=s64",
      "userId": "07110467073693299033"
     },
     "user_tz": -480
    },
    "id": "8OsRNWPIPk2l"
   },
   "outputs": [],
   "source": [
    "class Args:\n",
    "  checkpoint = './model.pt'\n",
    "  outf = 'generated.txt'\n",
    "  words = 1000\n",
    "  seed = 1111\n",
    "  cuda =  True\n",
    "  temperature = 1.0\n",
    "  log_interval = 100\n",
    "\n",
    "args=Args()"
   ]
  },
  {
   "cell_type": "code",
   "execution_count": 21,
   "metadata": {
    "colab": {
     "base_uri": "https://localhost:8080/"
    },
    "executionInfo": {
     "elapsed": 1952,
     "status": "ok",
     "timestamp": 1606640916117,
     "user": {
      "displayName": "yong wei",
      "photoUrl": "https://lh3.googleusercontent.com/a-/AOh14GhYJ6D3p-i8GPWEqh4u2s4VniV_lHZd6l3-eHSaqA=s64",
      "userId": "07110467073693299033"
     },
     "user_tz": -480
    },
    "id": "bQrpi_BxPv6T",
    "outputId": "64675b03-1393-4551-e340-96ebd14a1c16"
   },
   "outputs": [
    {
     "name": "stdout",
     "output_type": "stream",
     "text": [
      "| Generated 0/1000 words\n",
      "| Generated 100/1000 words\n",
      "| Generated 200/1000 words\n",
      "| Generated 300/1000 words\n",
      "| Generated 400/1000 words\n",
      "| Generated 500/1000 words\n",
      "| Generated 600/1000 words\n",
      "| Generated 700/1000 words\n",
      "| Generated 800/1000 words\n",
      "| Generated 900/1000 words\n"
     ]
    }
   ],
   "source": [
    "with open(args.checkpoint, 'rb') as f:\n",
    "    model = torch.load(f)\n",
    "model.eval()\n",
    "\n",
    "ntokens = len(corpus.dictionary)\n",
    "\n",
    "input = torch.randint(ntokens, (1, 8), dtype=torch.long).to(device)\n",
    "with open(args.outf, 'w', encoding='utf-8') as outf:\n",
    "    with torch.no_grad():  # no tracking history\n",
    "        for i in range(args.words):\n",
    "            output = model(input)\n",
    "            word_weights = output.squeeze().div(args.temperature).exp().cpu()\n",
    "            word_idx = torch.multinomial(word_weights, 1)[0]\n",
    "            input.fill_(word_idx)\n",
    "\n",
    "            word = corpus.dictionary.idx2word[word_idx]\n",
    "\n",
    "            outf.write(word + ('\\n' if i % 20 == 19 else ' '))\n",
    "\n",
    "            if i % args.log_interval == 0:\n",
    "                print('| Generated {}/{} words'.format(i, args.words))\n"
   ]
  },
  {
   "cell_type": "code",
   "execution_count": null,
   "metadata": {},
   "outputs": [],
   "source": []
  }
 ],
 "metadata": {
  "accelerator": "GPU",
  "colab": {
   "collapsed_sections": [],
   "name": "FNNMain.ipynb",
   "provenance": [],
   "toc_visible": true
  },
  "kernelspec": {
   "display_name": "Python 3",
   "language": "python",
   "name": "python3"
  },
  "language_info": {
   "codemirror_mode": {
    "name": "ipython",
    "version": 3
   },
   "file_extension": ".py",
   "mimetype": "text/x-python",
   "name": "python",
   "nbconvert_exporter": "python",
   "pygments_lexer": "ipython3",
   "version": "3.8.3"
  }
 },
 "nbformat": 4,
 "nbformat_minor": 1
}
